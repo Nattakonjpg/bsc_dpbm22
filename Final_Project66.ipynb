{
  "nbformat": 4,
  "nbformat_minor": 0,
  "metadata": {
    "colab": {
      "provenance": [],
      "include_colab_link": true
    },
    "kernelspec": {
      "name": "python3",
      "display_name": "Python 3"
    },
    "language_info": {
      "name": "python"
    }
  },
  "cells": [
    {
      "cell_type": "markdown",
      "metadata": {
        "id": "view-in-github",
        "colab_type": "text"
      },
      "source": [
        "<a href=\"https://colab.research.google.com/github/Nattakonjpg/bsc_dpbm22/blob/main/Final_Project66.ipynb\" target=\"_parent\"><img src=\"https://colab.research.google.com/assets/colab-badge.svg\" alt=\"Open In Colab\"/></a>"
      ]
    },
    {
      "cell_type": "markdown",
      "source": [
        "# ลองพิมในนี้"
      ],
      "metadata": {
        "id": "J0rXiX937hH7"
      }
    },
    {
      "cell_type": "markdown",
      "source": [
        "##Import"
      ],
      "metadata": {
        "id": "1TYbsqgjXQnY"
      }
    },
    {
      "cell_type": "code",
      "execution_count": 154,
      "metadata": {
        "id": "AuxAGiVdVlY1"
      },
      "outputs": [],
      "source": [
        "import pandas as pd\n",
        "from google.colab import drive"
      ]
    },
    {
      "cell_type": "code",
      "source": [
        "import os"
      ],
      "metadata": {
        "id": "JQYZFCroZBPS"
      },
      "execution_count": 155,
      "outputs": []
    },
    {
      "cell_type": "code",
      "source": [
        "from google.colab import drive\n",
        "drive.mount('/content/drive')"
      ],
      "metadata": {
        "colab": {
          "base_uri": "https://localhost:8080/"
        },
        "id": "Z8thCCe1rfp8",
        "outputId": "6f957b6f-34f8-4308-fa77-bd7ef4cc5f40"
      },
      "execution_count": 156,
      "outputs": [
        {
          "output_type": "stream",
          "name": "stdout",
          "text": [
            "Drive already mounted at /content/drive; to attempt to forcibly remount, call drive.mount(\"/content/drive\", force_remount=True).\n"
          ]
        }
      ]
    },
    {
      "cell_type": "code",
      "source": [
        "drive.mount('/content/drive')\n",
        "path =  '/content/drive/MyDrive/datamining/Project'"
      ],
      "metadata": {
        "colab": {
          "base_uri": "https://localhost:8080/"
        },
        "id": "_C1CzDH0X_Ah",
        "outputId": "9ca3b95c-36bd-4ca6-f225-0efd9a379c46"
      },
      "execution_count": 157,
      "outputs": [
        {
          "output_type": "stream",
          "name": "stdout",
          "text": [
            "Drive already mounted at /content/drive; to attempt to forcibly remount, call drive.mount(\"/content/drive\", force_remount=True).\n"
          ]
        }
      ]
    },
    {
      "cell_type": "code",
      "source": [
        "data1_train = pd.read_csv(os.path.join(path,'churn-bigml-80.csv')) #Os.path.join = path แต่ละอันไม่เหมือนกัน = เชื่อมต่อกันแบบมีส่วนหน้า,หลัง ; Encoding = ภาษาให้เข้าใจง่าย\n",
        "data2_test = pd.read_csv(os.path.join(path,'churn-bigml-20.csv')) #Os.path.join = path แต่ละอันไม่เหมือนกัน = เชื่อมต่อกันแบบมีส่วนหน้า,หลัง ; Encoding = ภาษาให้เข้าใจง่าย"
      ],
      "metadata": {
        "id": "-osxG2VIYDkA"
      },
      "execution_count": 158,
      "outputs": []
    },
    {
      "cell_type": "code",
      "source": [
        "data = pd.concat([data1_train, data2_test], axis=0)"
      ],
      "metadata": {
        "id": "U8D8rJ-3d9ut"
      },
      "execution_count": 159,
      "outputs": []
    },
    {
      "cell_type": "markdown",
      "source": [
        "- รวมไฟล์ทั้ง 2 แบบไม่ทำอะไรเลย"
      ],
      "metadata": {
        "id": "iGdmrWm9MPeQ"
      }
    },
    {
      "cell_type": "code",
      "source": [
        "data = data.reset_index(drop=True)\n",
        "data.index = data.index + 1"
      ],
      "metadata": {
        "id": "B8Q2J_IucuEE"
      },
      "execution_count": 160,
      "outputs": []
    },
    {
      "cell_type": "markdown",
      "source": [
        "##Data Prepare"
      ],
      "metadata": {
        "id": "099M5hMlXNyW"
      }
    },
    {
      "cell_type": "code",
      "source": [
        "import numpy as np # linear algebra\n",
        "from math import * # module math\n",
        "import matplotlib.pyplot as plt # visualization\n",
        "from PIL import Image\n",
        "import seaborn as sns # visualization\n",
        "import itertools\n",
        "import io\n",
        "import plotly.offline as py # visualization\n",
        "import plotly.graph_objs as go # visualization\n",
        "from plotly.subplots import make_subplots\n",
        "import plotly.figure_factory as ff # visualization\n",
        "import warnings\n",
        "warnings.filterwarnings(\"ignore\")\n",
        "%matplotlib inline"
      ],
      "metadata": {
        "id": "xgnBXZlxmIhT"
      },
      "execution_count": 161,
      "outputs": []
    },
    {
      "cell_type": "markdown",
      "source": [
        "##Correlations Plot"
      ],
      "metadata": {
        "id": "vsIsxpSCXWVD"
      }
    },
    {
      "cell_type": "code",
      "source": [
        "#correlation\n",
        "correlation = data.corr()\n",
        "#tick labels\n",
        "matrix_cols = correlation.columns.tolist()\n",
        "#convert to array\n",
        "corr_array = np.array(correlation)\n",
        "\n",
        "#Plotting\n",
        "trace = go.Heatmap(z = corr_array,\n",
        "                   x = matrix_cols,\n",
        "                   y = matrix_cols,\n",
        "                   colorscale = \"Viridis\",\n",
        "                   colorbar = dict(title = \"Pearson Correlation coefficients\", titleside = \"right\"),\n",
        "                  )\n",
        "layout = go.Layout(dict(title = \"Correlation matrix\",\n",
        "                        autosize = False,\n",
        "                        height = 720,\n",
        "                        width = 800,\n",
        "                        margin = dict(r = 0, l = 210, t = 25, b = 210),\n",
        "                        yaxis = dict(tickfont = dict(size = 9)),\n",
        "                        xaxis = dict(tickfont = dict(size = 9))\n",
        "                       )\n",
        "                  )\n",
        "dataplot = [trace]\n",
        "fig = go.Figure(data=dataplot, layout=layout)\n",
        "py.iplot(fig)"
      ],
      "metadata": {
        "colab": {
          "base_uri": "https://localhost:8080/",
          "height": 737
        },
        "id": "-j89QAuiXV9q",
        "outputId": "e1d3a627-19d8-4a29-8c32-898ec1f342ed"
      },
      "execution_count": 162,
      "outputs": [
        {
          "output_type": "display_data",
          "data": {
            "text/html": [
              "<html>\n",
              "<head><meta charset=\"utf-8\" /></head>\n",
              "<body>\n",
              "    <div>            <script src=\"https://cdnjs.cloudflare.com/ajax/libs/mathjax/2.7.5/MathJax.js?config=TeX-AMS-MML_SVG\"></script><script type=\"text/javascript\">if (window.MathJax && window.MathJax.Hub && window.MathJax.Hub.Config) {window.MathJax.Hub.Config({SVG: {font: \"STIX-Web\"}});}</script>                <script type=\"text/javascript\">window.PlotlyConfig = {MathJaxConfig: 'local'};</script>\n",
              "        <script src=\"https://cdn.plot.ly/plotly-2.18.2.min.js\"></script>                <div id=\"a800b8f3-5818-490c-a6cd-ee1246200544\" class=\"plotly-graph-div\" style=\"height:720px; width:800px;\"></div>            <script type=\"text/javascript\">                                    window.PLOTLYENV=window.PLOTLYENV || {};                                    if (document.getElementById(\"a800b8f3-5818-490c-a6cd-ee1246200544\")) {                    Plotly.newPlot(                        \"a800b8f3-5818-490c-a6cd-ee1246200544\",                        [{\"colorbar\":{\"title\":{\"side\":\"right\",\"text\":\"Pearson Correlation coefficients\"}},\"colorscale\":[[0.0,\"#440154\"],[0.1111111111111111,\"#482878\"],[0.2222222222222222,\"#3e4989\"],[0.3333333333333333,\"#31688e\"],[0.4444444444444444,\"#26828e\"],[0.5555555555555556,\"#1f9e89\"],[0.6666666666666666,\"#35b779\"],[0.7777777777777778,\"#6ece58\"],[0.8888888888888888,\"#b5de2b\"],[1.0,\"#fde725\"]],\"x\":[\"Account length\",\"Area code\",\"Number vmail messages\",\"Total day minutes\",\"Total day calls\",\"Total day charge\",\"Total eve minutes\",\"Total eve calls\",\"Total eve charge\",\"Total night minutes\",\"Total night calls\",\"Total night charge\",\"Total intl minutes\",\"Total intl calls\",\"Total intl charge\",\"Customer service calls\",\"Churn\"],\"y\":[\"Account length\",\"Area code\",\"Number vmail messages\",\"Total day minutes\",\"Total day calls\",\"Total day charge\",\"Total eve minutes\",\"Total eve calls\",\"Total eve charge\",\"Total night minutes\",\"Total night calls\",\"Total night charge\",\"Total intl minutes\",\"Total intl calls\",\"Total intl charge\",\"Customer service calls\",\"Churn\"],\"z\":[[1.0,-0.012463496664028578,-0.004627824325108227,0.006216020532194281,0.03846988231670477,0.006214134694388888,-0.006757141994218947,0.01925996700956495,-0.006745301728173134,-0.008955191857065994,-0.013176275129294143,-0.008959534545385294,0.009513902342048394,0.020661428380667517,0.009545674800715975,-0.003795938927046041,0.016540742243674092],[-0.012463496664028578,1.0,-0.0019943700835123035,-0.008264366168389086,-0.009646043977812723,-0.00826444108261078,0.0035803948482152057,-0.01188627078801613,0.0036066902195477186,-0.005824659840635892,0.016522316925722407,-0.005845375742311549,-0.018288168218451577,-0.024178588723814093,-0.018394695992920478,0.02757222567226509,0.006174233160678172],[-0.004627824325108227,-0.0019943700835123035,1.0,0.000778274098700515,-0.009548067661971875,0.0007755234585549905,0.017562034258063738,-0.005864351294292006,0.017577780115722124,0.007681135938935332,0.007123062912801908,0.007663290430631254,0.002856195879589399,0.01395733867180488,0.002883657907770868,-0.013262583062485166,-0.08972796983506433],[0.006216020532194281,-0.008264366168389086,0.000778274098700515,1.0,0.006750413879729634,0.9999999521904008,0.0070425109937776505,0.015768993160328145,0.007029035251564238,0.004323366578518071,0.02297245550654227,0.004300357041792304,-0.010154585571599579,0.008033356952136956,-0.010091974161608279,-0.013423186351805895,0.20515082926139072],[0.03846988231670477,-0.009646043977812723,-0.009548067661971875,0.006750413879729634,1.0,0.006752961967446203,-0.021451407815682586,0.006462113654156914,-0.02144926263514335,0.02293784532486071,-0.019556965357458503,0.02292663775833335,0.021564794329714875,0.004574268228354762,0.02166609515687858,-0.018941930313584366,0.018459311608577007],[0.006214134694388888,-0.00826444108261078,0.0007755234585549905,0.9999999521904008,0.006752961967446203,1.0,0.007049607188445667,0.01576928215225523,0.00703613149512632,0.004323879377027686,0.022972419522033185,0.004300860788641267,-0.010156861586640876,0.008031571971861358,-0.010094257193007808,-0.013426969383537117,0.20515074317015466],[-0.006757141994218947,0.0035803948482152057,0.017562034258063738,0.0070425109937776505,-0.021451407815682586,0.007049607188445667,1.0,-0.011430108165517908,0.9999997760198508,-0.012583677929227339,0.007585643074590798,-0.012592805749304973,-0.011034714405092145,0.0025412917388004477,-0.0110666213132502,-0.012984552867109074,0.09279579031259189],[0.01925996700956495,-0.01188627078801613,-0.005864351294292006,0.015768993160328145,0.006462113654156914,0.01576928215225523,-0.011430108165517908,1.0,-0.011422894273234828,-0.002092768004868057,0.007709705543563772,-0.0020559843069095675,0.008702880654677156,0.01743369206986388,0.008673857642456814,0.0024225746998399983,0.009233131913078299],[-0.006745301728173134,0.0036066902195477186,0.017577780115722124,0.007029035251564238,-0.02144926263514335,0.00703613149512632,0.9999997760198508,-0.011422894273234828,1.0,-0.012592020408875342,0.007595842965837986,-0.012601142055022102,-0.011042581974576686,0.002541458019650715,-0.011074498925597311,-0.01298740692995945,0.09278603942871355],[-0.008955191857065994,-0.005824659840635892,0.007681135938935332,0.004323366578518071,0.02293784532486071,0.004323879377027686,-0.012583677929227339,-0.002092768004868057,-0.012592020408875342,1.0,0.011203856290700075,0.9999992148758784,-0.01520729728274182,-0.012353432385806608,-0.015179849098513623,-0.009287612696798193,0.035492853421274326],[-0.013176275129294143,0.016522316925722407,0.007123062912801908,0.02297245550654227,-0.019556965357458503,0.022972419522033185,0.007585643074590798,0.007709705543563772,0.007595842965837986,0.011203856290700075,1.0,0.011187819717052133,-0.01360499641934361,0.00030457953213115107,-0.013630169606337854,-0.01280192733103718,0.006141203007399601],[-0.008959534545385294,-0.005845375742311549,0.007663290430631254,0.004300357041792304,0.02292663775833335,0.004300860788641267,-0.012592805749304973,-0.0020559843069095675,-0.012601142055022102,0.9999992148758784,0.011187819717052133,1.0,-0.015213525825436832,-0.012329215024732719,-0.015186138565999112,-0.009276953579361704,0.03549555624050662],[0.009513902342048394,-0.018288168218451577,0.002856195879589399,-0.010154585571599579,0.021564794329714875,-0.010156861586640876,-0.011034714405092145,0.008702880654677156,-0.011042581974576686,-0.01520729728274182,-0.01360499641934361,-0.015213525825436832,1.0,0.03230388408942581,0.9999927417510344,-0.009639679589185957,0.06823877562717763],[0.020661428380667517,-0.024178588723814093,0.01395733867180488,0.008033356952136956,0.004574268228354762,0.008031571971861358,0.0025412917388004477,0.01743369206986388,0.002541458019650715,-0.012353432385806608,0.00030457953213115107,-0.012329215024732719,0.03230388408942581,1.0,0.03237214532243441,-0.01756059922428775,-0.052844335774137906],[0.009545674800715975,-0.018394695992920478,0.002883657907770868,-0.010091974161608279,0.02166609515687858,-0.010094257193007808,-0.0110666213132502,0.008673857642456814,-0.011074498925597311,-0.015179849098513623,-0.013630169606337854,-0.015186138565999112,0.9999927417510344,0.03237214532243441,1.0,-0.009674732350291395,0.06825863150391498],[-0.003795938927046041,0.02757222567226509,-0.013262583062485166,-0.013423186351805895,-0.018941930313584366,-0.013426969383537117,-0.012984552867109074,0.0024225746998399983,-0.01298740692995945,-0.009287612696798193,-0.01280192733103718,-0.009276953579361704,-0.009639679589185957,-0.01756059922428775,-0.009674732350291395,1.0,0.2087499987837941],[0.016540742243674092,0.006174233160678172,-0.08972796983506433,0.20515082926139072,0.018459311608577007,0.20515074317015466,0.09279579031259189,0.009233131913078299,0.09278603942871355,0.035492853421274326,0.006141203007399601,0.03549555624050662,0.06823877562717763,-0.052844335774137906,0.06825863150391498,0.2087499987837941,1.0]],\"type\":\"heatmap\"}],                        {\"autosize\":false,\"height\":720,\"margin\":{\"b\":210,\"l\":210,\"r\":0,\"t\":25},\"template\":{\"data\":{\"barpolar\":[{\"marker\":{\"line\":{\"color\":\"#E5ECF6\",\"width\":0.5},\"pattern\":{\"fillmode\":\"overlay\",\"size\":10,\"solidity\":0.2}},\"type\":\"barpolar\"}],\"bar\":[{\"error_x\":{\"color\":\"#2a3f5f\"},\"error_y\":{\"color\":\"#2a3f5f\"},\"marker\":{\"line\":{\"color\":\"#E5ECF6\",\"width\":0.5},\"pattern\":{\"fillmode\":\"overlay\",\"size\":10,\"solidity\":0.2}},\"type\":\"bar\"}],\"carpet\":[{\"aaxis\":{\"endlinecolor\":\"#2a3f5f\",\"gridcolor\":\"white\",\"linecolor\":\"white\",\"minorgridcolor\":\"white\",\"startlinecolor\":\"#2a3f5f\"},\"baxis\":{\"endlinecolor\":\"#2a3f5f\",\"gridcolor\":\"white\",\"linecolor\":\"white\",\"minorgridcolor\":\"white\",\"startlinecolor\":\"#2a3f5f\"},\"type\":\"carpet\"}],\"choropleth\":[{\"colorbar\":{\"outlinewidth\":0,\"ticks\":\"\"},\"type\":\"choropleth\"}],\"contourcarpet\":[{\"colorbar\":{\"outlinewidth\":0,\"ticks\":\"\"},\"type\":\"contourcarpet\"}],\"contour\":[{\"colorbar\":{\"outlinewidth\":0,\"ticks\":\"\"},\"colorscale\":[[0.0,\"#0d0887\"],[0.1111111111111111,\"#46039f\"],[0.2222222222222222,\"#7201a8\"],[0.3333333333333333,\"#9c179e\"],[0.4444444444444444,\"#bd3786\"],[0.5555555555555556,\"#d8576b\"],[0.6666666666666666,\"#ed7953\"],[0.7777777777777778,\"#fb9f3a\"],[0.8888888888888888,\"#fdca26\"],[1.0,\"#f0f921\"]],\"type\":\"contour\"}],\"heatmapgl\":[{\"colorbar\":{\"outlinewidth\":0,\"ticks\":\"\"},\"colorscale\":[[0.0,\"#0d0887\"],[0.1111111111111111,\"#46039f\"],[0.2222222222222222,\"#7201a8\"],[0.3333333333333333,\"#9c179e\"],[0.4444444444444444,\"#bd3786\"],[0.5555555555555556,\"#d8576b\"],[0.6666666666666666,\"#ed7953\"],[0.7777777777777778,\"#fb9f3a\"],[0.8888888888888888,\"#fdca26\"],[1.0,\"#f0f921\"]],\"type\":\"heatmapgl\"}],\"heatmap\":[{\"colorbar\":{\"outlinewidth\":0,\"ticks\":\"\"},\"colorscale\":[[0.0,\"#0d0887\"],[0.1111111111111111,\"#46039f\"],[0.2222222222222222,\"#7201a8\"],[0.3333333333333333,\"#9c179e\"],[0.4444444444444444,\"#bd3786\"],[0.5555555555555556,\"#d8576b\"],[0.6666666666666666,\"#ed7953\"],[0.7777777777777778,\"#fb9f3a\"],[0.8888888888888888,\"#fdca26\"],[1.0,\"#f0f921\"]],\"type\":\"heatmap\"}],\"histogram2dcontour\":[{\"colorbar\":{\"outlinewidth\":0,\"ticks\":\"\"},\"colorscale\":[[0.0,\"#0d0887\"],[0.1111111111111111,\"#46039f\"],[0.2222222222222222,\"#7201a8\"],[0.3333333333333333,\"#9c179e\"],[0.4444444444444444,\"#bd3786\"],[0.5555555555555556,\"#d8576b\"],[0.6666666666666666,\"#ed7953\"],[0.7777777777777778,\"#fb9f3a\"],[0.8888888888888888,\"#fdca26\"],[1.0,\"#f0f921\"]],\"type\":\"histogram2dcontour\"}],\"histogram2d\":[{\"colorbar\":{\"outlinewidth\":0,\"ticks\":\"\"},\"colorscale\":[[0.0,\"#0d0887\"],[0.1111111111111111,\"#46039f\"],[0.2222222222222222,\"#7201a8\"],[0.3333333333333333,\"#9c179e\"],[0.4444444444444444,\"#bd3786\"],[0.5555555555555556,\"#d8576b\"],[0.6666666666666666,\"#ed7953\"],[0.7777777777777778,\"#fb9f3a\"],[0.8888888888888888,\"#fdca26\"],[1.0,\"#f0f921\"]],\"type\":\"histogram2d\"}],\"histogram\":[{\"marker\":{\"pattern\":{\"fillmode\":\"overlay\",\"size\":10,\"solidity\":0.2}},\"type\":\"histogram\"}],\"mesh3d\":[{\"colorbar\":{\"outlinewidth\":0,\"ticks\":\"\"},\"type\":\"mesh3d\"}],\"parcoords\":[{\"line\":{\"colorbar\":{\"outlinewidth\":0,\"ticks\":\"\"}},\"type\":\"parcoords\"}],\"pie\":[{\"automargin\":true,\"type\":\"pie\"}],\"scatter3d\":[{\"line\":{\"colorbar\":{\"outlinewidth\":0,\"ticks\":\"\"}},\"marker\":{\"colorbar\":{\"outlinewidth\":0,\"ticks\":\"\"}},\"type\":\"scatter3d\"}],\"scattercarpet\":[{\"marker\":{\"colorbar\":{\"outlinewidth\":0,\"ticks\":\"\"}},\"type\":\"scattercarpet\"}],\"scattergeo\":[{\"marker\":{\"colorbar\":{\"outlinewidth\":0,\"ticks\":\"\"}},\"type\":\"scattergeo\"}],\"scattergl\":[{\"marker\":{\"colorbar\":{\"outlinewidth\":0,\"ticks\":\"\"}},\"type\":\"scattergl\"}],\"scattermapbox\":[{\"marker\":{\"colorbar\":{\"outlinewidth\":0,\"ticks\":\"\"}},\"type\":\"scattermapbox\"}],\"scatterpolargl\":[{\"marker\":{\"colorbar\":{\"outlinewidth\":0,\"ticks\":\"\"}},\"type\":\"scatterpolargl\"}],\"scatterpolar\":[{\"marker\":{\"colorbar\":{\"outlinewidth\":0,\"ticks\":\"\"}},\"type\":\"scatterpolar\"}],\"scatter\":[{\"fillpattern\":{\"fillmode\":\"overlay\",\"size\":10,\"solidity\":0.2},\"type\":\"scatter\"}],\"scatterternary\":[{\"marker\":{\"colorbar\":{\"outlinewidth\":0,\"ticks\":\"\"}},\"type\":\"scatterternary\"}],\"surface\":[{\"colorbar\":{\"outlinewidth\":0,\"ticks\":\"\"},\"colorscale\":[[0.0,\"#0d0887\"],[0.1111111111111111,\"#46039f\"],[0.2222222222222222,\"#7201a8\"],[0.3333333333333333,\"#9c179e\"],[0.4444444444444444,\"#bd3786\"],[0.5555555555555556,\"#d8576b\"],[0.6666666666666666,\"#ed7953\"],[0.7777777777777778,\"#fb9f3a\"],[0.8888888888888888,\"#fdca26\"],[1.0,\"#f0f921\"]],\"type\":\"surface\"}],\"table\":[{\"cells\":{\"fill\":{\"color\":\"#EBF0F8\"},\"line\":{\"color\":\"white\"}},\"header\":{\"fill\":{\"color\":\"#C8D4E3\"},\"line\":{\"color\":\"white\"}},\"type\":\"table\"}]},\"layout\":{\"annotationdefaults\":{\"arrowcolor\":\"#2a3f5f\",\"arrowhead\":0,\"arrowwidth\":1},\"autotypenumbers\":\"strict\",\"coloraxis\":{\"colorbar\":{\"outlinewidth\":0,\"ticks\":\"\"}},\"colorscale\":{\"diverging\":[[0,\"#8e0152\"],[0.1,\"#c51b7d\"],[0.2,\"#de77ae\"],[0.3,\"#f1b6da\"],[0.4,\"#fde0ef\"],[0.5,\"#f7f7f7\"],[0.6,\"#e6f5d0\"],[0.7,\"#b8e186\"],[0.8,\"#7fbc41\"],[0.9,\"#4d9221\"],[1,\"#276419\"]],\"sequential\":[[0.0,\"#0d0887\"],[0.1111111111111111,\"#46039f\"],[0.2222222222222222,\"#7201a8\"],[0.3333333333333333,\"#9c179e\"],[0.4444444444444444,\"#bd3786\"],[0.5555555555555556,\"#d8576b\"],[0.6666666666666666,\"#ed7953\"],[0.7777777777777778,\"#fb9f3a\"],[0.8888888888888888,\"#fdca26\"],[1.0,\"#f0f921\"]],\"sequentialminus\":[[0.0,\"#0d0887\"],[0.1111111111111111,\"#46039f\"],[0.2222222222222222,\"#7201a8\"],[0.3333333333333333,\"#9c179e\"],[0.4444444444444444,\"#bd3786\"],[0.5555555555555556,\"#d8576b\"],[0.6666666666666666,\"#ed7953\"],[0.7777777777777778,\"#fb9f3a\"],[0.8888888888888888,\"#fdca26\"],[1.0,\"#f0f921\"]]},\"colorway\":[\"#636efa\",\"#EF553B\",\"#00cc96\",\"#ab63fa\",\"#FFA15A\",\"#19d3f3\",\"#FF6692\",\"#B6E880\",\"#FF97FF\",\"#FECB52\"],\"font\":{\"color\":\"#2a3f5f\"},\"geo\":{\"bgcolor\":\"white\",\"lakecolor\":\"white\",\"landcolor\":\"#E5ECF6\",\"showlakes\":true,\"showland\":true,\"subunitcolor\":\"white\"},\"hoverlabel\":{\"align\":\"left\"},\"hovermode\":\"closest\",\"mapbox\":{\"style\":\"light\"},\"paper_bgcolor\":\"white\",\"plot_bgcolor\":\"#E5ECF6\",\"polar\":{\"angularaxis\":{\"gridcolor\":\"white\",\"linecolor\":\"white\",\"ticks\":\"\"},\"bgcolor\":\"#E5ECF6\",\"radialaxis\":{\"gridcolor\":\"white\",\"linecolor\":\"white\",\"ticks\":\"\"}},\"scene\":{\"xaxis\":{\"backgroundcolor\":\"#E5ECF6\",\"gridcolor\":\"white\",\"gridwidth\":2,\"linecolor\":\"white\",\"showbackground\":true,\"ticks\":\"\",\"zerolinecolor\":\"white\"},\"yaxis\":{\"backgroundcolor\":\"#E5ECF6\",\"gridcolor\":\"white\",\"gridwidth\":2,\"linecolor\":\"white\",\"showbackground\":true,\"ticks\":\"\",\"zerolinecolor\":\"white\"},\"zaxis\":{\"backgroundcolor\":\"#E5ECF6\",\"gridcolor\":\"white\",\"gridwidth\":2,\"linecolor\":\"white\",\"showbackground\":true,\"ticks\":\"\",\"zerolinecolor\":\"white\"}},\"shapedefaults\":{\"line\":{\"color\":\"#2a3f5f\"}},\"ternary\":{\"aaxis\":{\"gridcolor\":\"white\",\"linecolor\":\"white\",\"ticks\":\"\"},\"baxis\":{\"gridcolor\":\"white\",\"linecolor\":\"white\",\"ticks\":\"\"},\"bgcolor\":\"#E5ECF6\",\"caxis\":{\"gridcolor\":\"white\",\"linecolor\":\"white\",\"ticks\":\"\"}},\"title\":{\"x\":0.05},\"xaxis\":{\"automargin\":true,\"gridcolor\":\"white\",\"linecolor\":\"white\",\"ticks\":\"\",\"title\":{\"standoff\":15},\"zerolinecolor\":\"white\",\"zerolinewidth\":2},\"yaxis\":{\"automargin\":true,\"gridcolor\":\"white\",\"linecolor\":\"white\",\"ticks\":\"\",\"title\":{\"standoff\":15},\"zerolinecolor\":\"white\",\"zerolinewidth\":2}}},\"title\":{\"text\":\"Correlation matrix\"},\"width\":800,\"xaxis\":{\"tickfont\":{\"size\":9}},\"yaxis\":{\"tickfont\":{\"size\":9}}},                        {\"responsive\": true}                    ).then(function(){\n",
              "                            \n",
              "var gd = document.getElementById('a800b8f3-5818-490c-a6cd-ee1246200544');\n",
              "var x = new MutationObserver(function (mutations, observer) {{\n",
              "        var display = window.getComputedStyle(gd).display;\n",
              "        if (!display || display === 'none') {{\n",
              "            console.log([gd, 'removed!']);\n",
              "            Plotly.purge(gd);\n",
              "            observer.disconnect();\n",
              "        }}\n",
              "}});\n",
              "\n",
              "// Listen for the removal of the full notebook cells\n",
              "var notebookContainer = gd.closest('#notebook-container');\n",
              "if (notebookContainer) {{\n",
              "    x.observe(notebookContainer, {childList: true});\n",
              "}}\n",
              "\n",
              "// Listen for the clearing of the current output cell\n",
              "var outputEl = gd.closest('.output');\n",
              "if (outputEl) {{\n",
              "    x.observe(outputEl, {childList: true});\n",
              "}}\n",
              "\n",
              "                        })                };                            </script>        </div>\n",
              "</body>\n",
              "</html>"
            ]
          },
          "metadata": {}
        }
      ]
    },
    {
      "cell_type": "markdown",
      "source": [
        "###StandardScaler"
      ],
      "metadata": {
        "id": "LG_TjnbeUghZ"
      }
    },
    {
      "cell_type": "code",
      "source": [
        "from sklearn.preprocessing import StandardScaler\n",
        "\n",
        "# Copying original dataframe\n",
        "data1_en_train_SL = data1_train.copy()\n",
        "\n",
        "scaler = StandardScaler()\n",
        "num_cols = ['Total day minutes',\n",
        "       'Total day calls', 'Total day charge', 'Total eve minutes',\n",
        "       'Total eve calls', 'Total eve charge', 'Total night minutes',\n",
        "       'Total night calls', 'Total night charge', 'Total intl minutes',\n",
        "       'Total intl calls', 'Total intl charge',]\n",
        "data1_en_train_SL[num_cols] = scaler.fit_transform(data1_en_train_SL[num_cols])\n",
        "data1_en_train_SL.head()\n",
        "     "
      ],
      "metadata": {
        "colab": {
          "base_uri": "https://localhost:8080/",
          "height": 285
        },
        "id": "4khBLmqqVCwx",
        "outputId": "370fffce-0ee3-4c99-e611-e596acb7b1ac"
      },
      "execution_count": 163,
      "outputs": [
        {
          "output_type": "execute_result",
          "data": {
            "text/plain": [
              "  State  Account length  Area code International plan Voice mail plan  \\\n",
              "0    KS             128        415                 No             Yes   \n",
              "1    OH             107        415                 No             Yes   \n",
              "2    NJ             137        415                 No              No   \n",
              "3    OH              84        408                Yes              No   \n",
              "4    OK              75        415                Yes              No   \n",
              "\n",
              "   Number vmail messages  Total day minutes  Total day calls  \\\n",
              "0                     25           1.579670         0.484868   \n",
              "1                     26          -0.329918         1.135375   \n",
              "2                      0           1.179302         0.685024   \n",
              "3                      0           2.212509        -1.466653   \n",
              "4                      0          -0.235822         0.634985   \n",
              "\n",
              "   Total day charge  Total eve minutes  Total eve calls  Total eve charge  \\\n",
              "0          1.579942          -0.058619        -0.050781         -0.058445   \n",
              "1         -0.330194          -0.095916         0.147654         -0.095397   \n",
              "2          1.179465          -1.554439         0.494917         -1.554963   \n",
              "3          2.212675          -2.718509        -0.596479         -2.718922   \n",
              "4         -0.235772          -1.022461         1.090224         -1.021482   \n",
              "\n",
              "   Total night minutes  Total night calls  Total night charge  \\\n",
              "0             0.857403          -0.469031            0.856707   \n",
              "1             1.048458           0.149054            1.049293   \n",
              "2            -0.759668           0.200561           -0.758391   \n",
              "3            -0.084083          -0.572045           -0.084339   \n",
              "4            -0.281046           1.076181           -0.281303   \n",
              "\n",
              "   Total intl minutes  Total intl calls  Total intl charge  \\\n",
              "0           -0.085020         -0.597527          -0.085681   \n",
              "1            1.242179         -0.597527           1.242921   \n",
              "2            0.704125          0.216894           0.698194   \n",
              "3           -1.304609          1.031314          -1.307995   \n",
              "4           -0.049150         -0.597527          -0.045823   \n",
              "\n",
              "   Customer service calls  Churn  \n",
              "0                       1  False  \n",
              "1                       1  False  \n",
              "2                       0  False  \n",
              "3                       2  False  \n",
              "4                       3  False  "
            ],
            "text/html": [
              "\n",
              "  <div id=\"df-53edf5dc-0548-4809-b0e7-867dba9c61ef\">\n",
              "    <div class=\"colab-df-container\">\n",
              "      <div>\n",
              "<style scoped>\n",
              "    .dataframe tbody tr th:only-of-type {\n",
              "        vertical-align: middle;\n",
              "    }\n",
              "\n",
              "    .dataframe tbody tr th {\n",
              "        vertical-align: top;\n",
              "    }\n",
              "\n",
              "    .dataframe thead th {\n",
              "        text-align: right;\n",
              "    }\n",
              "</style>\n",
              "<table border=\"1\" class=\"dataframe\">\n",
              "  <thead>\n",
              "    <tr style=\"text-align: right;\">\n",
              "      <th></th>\n",
              "      <th>State</th>\n",
              "      <th>Account length</th>\n",
              "      <th>Area code</th>\n",
              "      <th>International plan</th>\n",
              "      <th>Voice mail plan</th>\n",
              "      <th>Number vmail messages</th>\n",
              "      <th>Total day minutes</th>\n",
              "      <th>Total day calls</th>\n",
              "      <th>Total day charge</th>\n",
              "      <th>Total eve minutes</th>\n",
              "      <th>Total eve calls</th>\n",
              "      <th>Total eve charge</th>\n",
              "      <th>Total night minutes</th>\n",
              "      <th>Total night calls</th>\n",
              "      <th>Total night charge</th>\n",
              "      <th>Total intl minutes</th>\n",
              "      <th>Total intl calls</th>\n",
              "      <th>Total intl charge</th>\n",
              "      <th>Customer service calls</th>\n",
              "      <th>Churn</th>\n",
              "    </tr>\n",
              "  </thead>\n",
              "  <tbody>\n",
              "    <tr>\n",
              "      <th>0</th>\n",
              "      <td>KS</td>\n",
              "      <td>128</td>\n",
              "      <td>415</td>\n",
              "      <td>No</td>\n",
              "      <td>Yes</td>\n",
              "      <td>25</td>\n",
              "      <td>1.579670</td>\n",
              "      <td>0.484868</td>\n",
              "      <td>1.579942</td>\n",
              "      <td>-0.058619</td>\n",
              "      <td>-0.050781</td>\n",
              "      <td>-0.058445</td>\n",
              "      <td>0.857403</td>\n",
              "      <td>-0.469031</td>\n",
              "      <td>0.856707</td>\n",
              "      <td>-0.085020</td>\n",
              "      <td>-0.597527</td>\n",
              "      <td>-0.085681</td>\n",
              "      <td>1</td>\n",
              "      <td>False</td>\n",
              "    </tr>\n",
              "    <tr>\n",
              "      <th>1</th>\n",
              "      <td>OH</td>\n",
              "      <td>107</td>\n",
              "      <td>415</td>\n",
              "      <td>No</td>\n",
              "      <td>Yes</td>\n",
              "      <td>26</td>\n",
              "      <td>-0.329918</td>\n",
              "      <td>1.135375</td>\n",
              "      <td>-0.330194</td>\n",
              "      <td>-0.095916</td>\n",
              "      <td>0.147654</td>\n",
              "      <td>-0.095397</td>\n",
              "      <td>1.048458</td>\n",
              "      <td>0.149054</td>\n",
              "      <td>1.049293</td>\n",
              "      <td>1.242179</td>\n",
              "      <td>-0.597527</td>\n",
              "      <td>1.242921</td>\n",
              "      <td>1</td>\n",
              "      <td>False</td>\n",
              "    </tr>\n",
              "    <tr>\n",
              "      <th>2</th>\n",
              "      <td>NJ</td>\n",
              "      <td>137</td>\n",
              "      <td>415</td>\n",
              "      <td>No</td>\n",
              "      <td>No</td>\n",
              "      <td>0</td>\n",
              "      <td>1.179302</td>\n",
              "      <td>0.685024</td>\n",
              "      <td>1.179465</td>\n",
              "      <td>-1.554439</td>\n",
              "      <td>0.494917</td>\n",
              "      <td>-1.554963</td>\n",
              "      <td>-0.759668</td>\n",
              "      <td>0.200561</td>\n",
              "      <td>-0.758391</td>\n",
              "      <td>0.704125</td>\n",
              "      <td>0.216894</td>\n",
              "      <td>0.698194</td>\n",
              "      <td>0</td>\n",
              "      <td>False</td>\n",
              "    </tr>\n",
              "    <tr>\n",
              "      <th>3</th>\n",
              "      <td>OH</td>\n",
              "      <td>84</td>\n",
              "      <td>408</td>\n",
              "      <td>Yes</td>\n",
              "      <td>No</td>\n",
              "      <td>0</td>\n",
              "      <td>2.212509</td>\n",
              "      <td>-1.466653</td>\n",
              "      <td>2.212675</td>\n",
              "      <td>-2.718509</td>\n",
              "      <td>-0.596479</td>\n",
              "      <td>-2.718922</td>\n",
              "      <td>-0.084083</td>\n",
              "      <td>-0.572045</td>\n",
              "      <td>-0.084339</td>\n",
              "      <td>-1.304609</td>\n",
              "      <td>1.031314</td>\n",
              "      <td>-1.307995</td>\n",
              "      <td>2</td>\n",
              "      <td>False</td>\n",
              "    </tr>\n",
              "    <tr>\n",
              "      <th>4</th>\n",
              "      <td>OK</td>\n",
              "      <td>75</td>\n",
              "      <td>415</td>\n",
              "      <td>Yes</td>\n",
              "      <td>No</td>\n",
              "      <td>0</td>\n",
              "      <td>-0.235822</td>\n",
              "      <td>0.634985</td>\n",
              "      <td>-0.235772</td>\n",
              "      <td>-1.022461</td>\n",
              "      <td>1.090224</td>\n",
              "      <td>-1.021482</td>\n",
              "      <td>-0.281046</td>\n",
              "      <td>1.076181</td>\n",
              "      <td>-0.281303</td>\n",
              "      <td>-0.049150</td>\n",
              "      <td>-0.597527</td>\n",
              "      <td>-0.045823</td>\n",
              "      <td>3</td>\n",
              "      <td>False</td>\n",
              "    </tr>\n",
              "  </tbody>\n",
              "</table>\n",
              "</div>\n",
              "      <button class=\"colab-df-convert\" onclick=\"convertToInteractive('df-53edf5dc-0548-4809-b0e7-867dba9c61ef')\"\n",
              "              title=\"Convert this dataframe to an interactive table.\"\n",
              "              style=\"display:none;\">\n",
              "        \n",
              "  <svg xmlns=\"http://www.w3.org/2000/svg\" height=\"24px\"viewBox=\"0 0 24 24\"\n",
              "       width=\"24px\">\n",
              "    <path d=\"M0 0h24v24H0V0z\" fill=\"none\"/>\n",
              "    <path d=\"M18.56 5.44l.94 2.06.94-2.06 2.06-.94-2.06-.94-.94-2.06-.94 2.06-2.06.94zm-11 1L8.5 8.5l.94-2.06 2.06-.94-2.06-.94L8.5 2.5l-.94 2.06-2.06.94zm10 10l.94 2.06.94-2.06 2.06-.94-2.06-.94-.94-2.06-.94 2.06-2.06.94z\"/><path d=\"M17.41 7.96l-1.37-1.37c-.4-.4-.92-.59-1.43-.59-.52 0-1.04.2-1.43.59L10.3 9.45l-7.72 7.72c-.78.78-.78 2.05 0 2.83L4 21.41c.39.39.9.59 1.41.59.51 0 1.02-.2 1.41-.59l7.78-7.78 2.81-2.81c.8-.78.8-2.07 0-2.86zM5.41 20L4 18.59l7.72-7.72 1.47 1.35L5.41 20z\"/>\n",
              "  </svg>\n",
              "      </button>\n",
              "      \n",
              "  <style>\n",
              "    .colab-df-container {\n",
              "      display:flex;\n",
              "      flex-wrap:wrap;\n",
              "      gap: 12px;\n",
              "    }\n",
              "\n",
              "    .colab-df-convert {\n",
              "      background-color: #E8F0FE;\n",
              "      border: none;\n",
              "      border-radius: 50%;\n",
              "      cursor: pointer;\n",
              "      display: none;\n",
              "      fill: #1967D2;\n",
              "      height: 32px;\n",
              "      padding: 0 0 0 0;\n",
              "      width: 32px;\n",
              "    }\n",
              "\n",
              "    .colab-df-convert:hover {\n",
              "      background-color: #E2EBFA;\n",
              "      box-shadow: 0px 1px 2px rgba(60, 64, 67, 0.3), 0px 1px 3px 1px rgba(60, 64, 67, 0.15);\n",
              "      fill: #174EA6;\n",
              "    }\n",
              "\n",
              "    [theme=dark] .colab-df-convert {\n",
              "      background-color: #3B4455;\n",
              "      fill: #D2E3FC;\n",
              "    }\n",
              "\n",
              "    [theme=dark] .colab-df-convert:hover {\n",
              "      background-color: #434B5C;\n",
              "      box-shadow: 0px 1px 3px 1px rgba(0, 0, 0, 0.15);\n",
              "      filter: drop-shadow(0px 1px 2px rgba(0, 0, 0, 0.3));\n",
              "      fill: #FFFFFF;\n",
              "    }\n",
              "  </style>\n",
              "\n",
              "      <script>\n",
              "        const buttonEl =\n",
              "          document.querySelector('#df-53edf5dc-0548-4809-b0e7-867dba9c61ef button.colab-df-convert');\n",
              "        buttonEl.style.display =\n",
              "          google.colab.kernel.accessAllowed ? 'block' : 'none';\n",
              "\n",
              "        async function convertToInteractive(key) {\n",
              "          const element = document.querySelector('#df-53edf5dc-0548-4809-b0e7-867dba9c61ef');\n",
              "          const dataTable =\n",
              "            await google.colab.kernel.invokeFunction('convertToInteractive',\n",
              "                                                     [key], {});\n",
              "          if (!dataTable) return;\n",
              "\n",
              "          const docLinkHtml = 'Like what you see? Visit the ' +\n",
              "            '<a target=\"_blank\" href=https://colab.research.google.com/notebooks/data_table.ipynb>data table notebook</a>'\n",
              "            + ' to learn more about interactive tables.';\n",
              "          element.innerHTML = '';\n",
              "          dataTable['output_type'] = 'display_data';\n",
              "          await google.colab.output.renderOutput(dataTable, element);\n",
              "          const docLink = document.createElement('div');\n",
              "          docLink.innerHTML = docLinkHtml;\n",
              "          element.appendChild(docLink);\n",
              "        }\n",
              "      </script>\n",
              "    </div>\n",
              "  </div>\n",
              "  "
            ]
          },
          "metadata": {},
          "execution_count": 163
        }
      ]
    },
    {
      "cell_type": "code",
      "source": [
        "from sklearn.preprocessing import StandardScaler\n",
        "\n",
        "# Copying original dataframe\n",
        "data2_en_test_SL = data2_test.copy()\n",
        "\n",
        "scaler = StandardScaler()\n",
        "num_cols = ['Total day minutes',\n",
        "       'Total day calls', 'Total day charge', 'Total eve minutes',\n",
        "       'Total eve calls', 'Total eve charge', 'Total night minutes',\n",
        "       'Total night calls', 'Total night charge', 'Total intl minutes',\n",
        "       'Total intl calls', 'Total intl charge',]\n",
        "data2_en_test_SL[num_cols] = scaler.fit_transform(data2_en_test_SL[num_cols])\n",
        "data2_en_test_SL.head()\n",
        "     "
      ],
      "metadata": {
        "colab": {
          "base_uri": "https://localhost:8080/",
          "height": 285
        },
        "id": "3a-3aL9YWhFy",
        "outputId": "46fc0fac-69a3-4a64-8d52-f693a27e0919"
      },
      "execution_count": 164,
      "outputs": [
        {
          "output_type": "execute_result",
          "data": {
            "text/plain": [
              "  State  Account length  Area code International plan Voice mail plan  \\\n",
              "0    LA             117        408                 No              No   \n",
              "1    IN              65        415                 No              No   \n",
              "2    NY             161        415                 No              No   \n",
              "3    SC             111        415                 No              No   \n",
              "4    HI              49        510                 No              No   \n",
              "\n",
              "   Number vmail messages  Total day minutes  Total day calls  \\\n",
              "0                      0           0.064036        -0.193167   \n",
              "1                      0          -0.934756         1.769398   \n",
              "2                      0           2.739500        -1.665090   \n",
              "3                      0          -1.271894         0.101218   \n",
              "4                      0          -1.111438         0.788115   \n",
              "\n",
              "   Total day charge  Total eve minutes  Total eve calls  Total eve charge  \\\n",
              "0          0.064504           2.983872        -1.081478          2.984789   \n",
              "1         -0.934501           0.506113        -0.923033          0.505504   \n",
              "2          2.739121           2.303545        -0.183625          2.302808   \n",
              "3         -1.271744          -1.329563         0.080450         -1.329688   \n",
              "4         -1.111607           0.236397         0.450154          0.235553   \n",
              "\n",
              "   Total night minutes  Total night calls  Total night charge  \\\n",
              "0             0.324092          -0.501749            0.323581   \n",
              "1             0.183311           0.540053            0.185049   \n",
              "2            -0.786067           1.383417           -0.784675   \n",
              "3            -0.202831           0.242395           -0.203735   \n",
              "4            -0.422048          -0.501749           -0.422705   \n",
              "\n",
              "   Total intl minutes  Total intl calls  Total intl charge  \\\n",
              "0           -0.548297         -0.212747          -0.547714   \n",
              "1            0.877350          0.593516           0.877843   \n",
              "2           -1.724455          1.802910          -1.722480   \n",
              "3           -0.904709          0.593516          -0.904104   \n",
              "4            0.307091         -1.422141           0.310260   \n",
              "\n",
              "   Customer service calls  Churn  \n",
              "0                       1  False  \n",
              "1                       4   True  \n",
              "2                       4   True  \n",
              "3                       2  False  \n",
              "4                       1  False  "
            ],
            "text/html": [
              "\n",
              "  <div id=\"df-ab478fad-1293-4484-a256-18f25c0efe0d\">\n",
              "    <div class=\"colab-df-container\">\n",
              "      <div>\n",
              "<style scoped>\n",
              "    .dataframe tbody tr th:only-of-type {\n",
              "        vertical-align: middle;\n",
              "    }\n",
              "\n",
              "    .dataframe tbody tr th {\n",
              "        vertical-align: top;\n",
              "    }\n",
              "\n",
              "    .dataframe thead th {\n",
              "        text-align: right;\n",
              "    }\n",
              "</style>\n",
              "<table border=\"1\" class=\"dataframe\">\n",
              "  <thead>\n",
              "    <tr style=\"text-align: right;\">\n",
              "      <th></th>\n",
              "      <th>State</th>\n",
              "      <th>Account length</th>\n",
              "      <th>Area code</th>\n",
              "      <th>International plan</th>\n",
              "      <th>Voice mail plan</th>\n",
              "      <th>Number vmail messages</th>\n",
              "      <th>Total day minutes</th>\n",
              "      <th>Total day calls</th>\n",
              "      <th>Total day charge</th>\n",
              "      <th>Total eve minutes</th>\n",
              "      <th>Total eve calls</th>\n",
              "      <th>Total eve charge</th>\n",
              "      <th>Total night minutes</th>\n",
              "      <th>Total night calls</th>\n",
              "      <th>Total night charge</th>\n",
              "      <th>Total intl minutes</th>\n",
              "      <th>Total intl calls</th>\n",
              "      <th>Total intl charge</th>\n",
              "      <th>Customer service calls</th>\n",
              "      <th>Churn</th>\n",
              "    </tr>\n",
              "  </thead>\n",
              "  <tbody>\n",
              "    <tr>\n",
              "      <th>0</th>\n",
              "      <td>LA</td>\n",
              "      <td>117</td>\n",
              "      <td>408</td>\n",
              "      <td>No</td>\n",
              "      <td>No</td>\n",
              "      <td>0</td>\n",
              "      <td>0.064036</td>\n",
              "      <td>-0.193167</td>\n",
              "      <td>0.064504</td>\n",
              "      <td>2.983872</td>\n",
              "      <td>-1.081478</td>\n",
              "      <td>2.984789</td>\n",
              "      <td>0.324092</td>\n",
              "      <td>-0.501749</td>\n",
              "      <td>0.323581</td>\n",
              "      <td>-0.548297</td>\n",
              "      <td>-0.212747</td>\n",
              "      <td>-0.547714</td>\n",
              "      <td>1</td>\n",
              "      <td>False</td>\n",
              "    </tr>\n",
              "    <tr>\n",
              "      <th>1</th>\n",
              "      <td>IN</td>\n",
              "      <td>65</td>\n",
              "      <td>415</td>\n",
              "      <td>No</td>\n",
              "      <td>No</td>\n",
              "      <td>0</td>\n",
              "      <td>-0.934756</td>\n",
              "      <td>1.769398</td>\n",
              "      <td>-0.934501</td>\n",
              "      <td>0.506113</td>\n",
              "      <td>-0.923033</td>\n",
              "      <td>0.505504</td>\n",
              "      <td>0.183311</td>\n",
              "      <td>0.540053</td>\n",
              "      <td>0.185049</td>\n",
              "      <td>0.877350</td>\n",
              "      <td>0.593516</td>\n",
              "      <td>0.877843</td>\n",
              "      <td>4</td>\n",
              "      <td>True</td>\n",
              "    </tr>\n",
              "    <tr>\n",
              "      <th>2</th>\n",
              "      <td>NY</td>\n",
              "      <td>161</td>\n",
              "      <td>415</td>\n",
              "      <td>No</td>\n",
              "      <td>No</td>\n",
              "      <td>0</td>\n",
              "      <td>2.739500</td>\n",
              "      <td>-1.665090</td>\n",
              "      <td>2.739121</td>\n",
              "      <td>2.303545</td>\n",
              "      <td>-0.183625</td>\n",
              "      <td>2.302808</td>\n",
              "      <td>-0.786067</td>\n",
              "      <td>1.383417</td>\n",
              "      <td>-0.784675</td>\n",
              "      <td>-1.724455</td>\n",
              "      <td>1.802910</td>\n",
              "      <td>-1.722480</td>\n",
              "      <td>4</td>\n",
              "      <td>True</td>\n",
              "    </tr>\n",
              "    <tr>\n",
              "      <th>3</th>\n",
              "      <td>SC</td>\n",
              "      <td>111</td>\n",
              "      <td>415</td>\n",
              "      <td>No</td>\n",
              "      <td>No</td>\n",
              "      <td>0</td>\n",
              "      <td>-1.271894</td>\n",
              "      <td>0.101218</td>\n",
              "      <td>-1.271744</td>\n",
              "      <td>-1.329563</td>\n",
              "      <td>0.080450</td>\n",
              "      <td>-1.329688</td>\n",
              "      <td>-0.202831</td>\n",
              "      <td>0.242395</td>\n",
              "      <td>-0.203735</td>\n",
              "      <td>-0.904709</td>\n",
              "      <td>0.593516</td>\n",
              "      <td>-0.904104</td>\n",
              "      <td>2</td>\n",
              "      <td>False</td>\n",
              "    </tr>\n",
              "    <tr>\n",
              "      <th>4</th>\n",
              "      <td>HI</td>\n",
              "      <td>49</td>\n",
              "      <td>510</td>\n",
              "      <td>No</td>\n",
              "      <td>No</td>\n",
              "      <td>0</td>\n",
              "      <td>-1.111438</td>\n",
              "      <td>0.788115</td>\n",
              "      <td>-1.111607</td>\n",
              "      <td>0.236397</td>\n",
              "      <td>0.450154</td>\n",
              "      <td>0.235553</td>\n",
              "      <td>-0.422048</td>\n",
              "      <td>-0.501749</td>\n",
              "      <td>-0.422705</td>\n",
              "      <td>0.307091</td>\n",
              "      <td>-1.422141</td>\n",
              "      <td>0.310260</td>\n",
              "      <td>1</td>\n",
              "      <td>False</td>\n",
              "    </tr>\n",
              "  </tbody>\n",
              "</table>\n",
              "</div>\n",
              "      <button class=\"colab-df-convert\" onclick=\"convertToInteractive('df-ab478fad-1293-4484-a256-18f25c0efe0d')\"\n",
              "              title=\"Convert this dataframe to an interactive table.\"\n",
              "              style=\"display:none;\">\n",
              "        \n",
              "  <svg xmlns=\"http://www.w3.org/2000/svg\" height=\"24px\"viewBox=\"0 0 24 24\"\n",
              "       width=\"24px\">\n",
              "    <path d=\"M0 0h24v24H0V0z\" fill=\"none\"/>\n",
              "    <path d=\"M18.56 5.44l.94 2.06.94-2.06 2.06-.94-2.06-.94-.94-2.06-.94 2.06-2.06.94zm-11 1L8.5 8.5l.94-2.06 2.06-.94-2.06-.94L8.5 2.5l-.94 2.06-2.06.94zm10 10l.94 2.06.94-2.06 2.06-.94-2.06-.94-.94-2.06-.94 2.06-2.06.94z\"/><path d=\"M17.41 7.96l-1.37-1.37c-.4-.4-.92-.59-1.43-.59-.52 0-1.04.2-1.43.59L10.3 9.45l-7.72 7.72c-.78.78-.78 2.05 0 2.83L4 21.41c.39.39.9.59 1.41.59.51 0 1.02-.2 1.41-.59l7.78-7.78 2.81-2.81c.8-.78.8-2.07 0-2.86zM5.41 20L4 18.59l7.72-7.72 1.47 1.35L5.41 20z\"/>\n",
              "  </svg>\n",
              "      </button>\n",
              "      \n",
              "  <style>\n",
              "    .colab-df-container {\n",
              "      display:flex;\n",
              "      flex-wrap:wrap;\n",
              "      gap: 12px;\n",
              "    }\n",
              "\n",
              "    .colab-df-convert {\n",
              "      background-color: #E8F0FE;\n",
              "      border: none;\n",
              "      border-radius: 50%;\n",
              "      cursor: pointer;\n",
              "      display: none;\n",
              "      fill: #1967D2;\n",
              "      height: 32px;\n",
              "      padding: 0 0 0 0;\n",
              "      width: 32px;\n",
              "    }\n",
              "\n",
              "    .colab-df-convert:hover {\n",
              "      background-color: #E2EBFA;\n",
              "      box-shadow: 0px 1px 2px rgba(60, 64, 67, 0.3), 0px 1px 3px 1px rgba(60, 64, 67, 0.15);\n",
              "      fill: #174EA6;\n",
              "    }\n",
              "\n",
              "    [theme=dark] .colab-df-convert {\n",
              "      background-color: #3B4455;\n",
              "      fill: #D2E3FC;\n",
              "    }\n",
              "\n",
              "    [theme=dark] .colab-df-convert:hover {\n",
              "      background-color: #434B5C;\n",
              "      box-shadow: 0px 1px 3px 1px rgba(0, 0, 0, 0.15);\n",
              "      filter: drop-shadow(0px 1px 2px rgba(0, 0, 0, 0.3));\n",
              "      fill: #FFFFFF;\n",
              "    }\n",
              "  </style>\n",
              "\n",
              "      <script>\n",
              "        const buttonEl =\n",
              "          document.querySelector('#df-ab478fad-1293-4484-a256-18f25c0efe0d button.colab-df-convert');\n",
              "        buttonEl.style.display =\n",
              "          google.colab.kernel.accessAllowed ? 'block' : 'none';\n",
              "\n",
              "        async function convertToInteractive(key) {\n",
              "          const element = document.querySelector('#df-ab478fad-1293-4484-a256-18f25c0efe0d');\n",
              "          const dataTable =\n",
              "            await google.colab.kernel.invokeFunction('convertToInteractive',\n",
              "                                                     [key], {});\n",
              "          if (!dataTable) return;\n",
              "\n",
              "          const docLinkHtml = 'Like what you see? Visit the ' +\n",
              "            '<a target=\"_blank\" href=https://colab.research.google.com/notebooks/data_table.ipynb>data table notebook</a>'\n",
              "            + ' to learn more about interactive tables.';\n",
              "          element.innerHTML = '';\n",
              "          dataTable['output_type'] = 'display_data';\n",
              "          await google.colab.output.renderOutput(dataTable, element);\n",
              "          const docLink = document.createElement('div');\n",
              "          docLink.innerHTML = docLinkHtml;\n",
              "          element.appendChild(docLink);\n",
              "        }\n",
              "      </script>\n",
              "    </div>\n",
              "  </div>\n",
              "  "
            ]
          },
          "metadata": {},
          "execution_count": 164
        }
      ]
    },
    {
      "cell_type": "markdown",
      "source": [
        "- Data 1_en = data1_en_train_SL ที่ไว้เทรน 80% ทำ Dummie\n",
        "- Data 2_en = data2_en_test_SL ที่ไว้เทส  20% ทำ Dummie"
      ],
      "metadata": {
        "id": "72lxG1cpKMgu"
      }
    },
    {
      "cell_type": "code",
      "source": [
        "data1_en_train = pd.get_dummies(data1_en_train_SL, columns=['State','International plan','Voice mail plan'])\n",
        "# Convert 'True' values to 1 and 'False' values to 0\n",
        "data1_en_train['Churn'] = data1_en_train['Churn'].astype(int)"
      ],
      "metadata": {
        "id": "rzrQubEuByq0"
      },
      "execution_count": 165,
      "outputs": []
    },
    {
      "cell_type": "code",
      "source": [
        "data1_en_train = data1_en_train[['Account length', 'Area code', 'Number vmail messages',\n",
        "       'Total day minutes', 'Total day calls', 'Total day charge',\n",
        "       'Total eve minutes', 'Total eve calls', 'Total eve charge',\n",
        "       'Total night minutes', 'Total night calls', 'Total night charge',\n",
        "       'Total intl minutes', 'Total intl calls', 'Total intl charge',\n",
        "       'Customer service calls', 'State_AK', 'State_AL', 'State_AR',\n",
        "       'State_AZ', 'State_CA', 'State_CO', 'State_CT', 'State_DC', 'State_DE',\n",
        "       'State_FL', 'State_GA', 'State_HI', 'State_IA', 'State_ID', 'State_IL',\n",
        "       'State_IN', 'State_KS', 'State_KY', 'State_LA', 'State_MA', 'State_MD',\n",
        "       'State_ME', 'State_MI', 'State_MN', 'State_MO', 'State_MS', 'State_MT',\n",
        "       'State_NC', 'State_ND', 'State_NE', 'State_NH', 'State_NJ', 'State_NM',\n",
        "       'State_NV', 'State_NY', 'State_OH', 'State_OK', 'State_OR', 'State_PA',\n",
        "       'State_RI', 'State_SC', 'State_SD', 'State_TN', 'State_TX', 'State_UT',\n",
        "       'State_VA', 'State_VT', 'State_WA', 'State_WI', 'State_WV', 'State_WY',\n",
        "       'International plan_No', 'International plan_Yes', 'Voice mail plan_No',\n",
        "       'Voice mail plan_Yes','Churn']]\n",
        "data1_en_train.head()"
      ],
      "metadata": {
        "id": "1ihrRfd0GCvn",
        "colab": {
          "base_uri": "https://localhost:8080/",
          "height": 314
        },
        "outputId": "0f61b5ae-2a12-4703-d985-274394f71ff2"
      },
      "execution_count": 166,
      "outputs": [
        {
          "output_type": "execute_result",
          "data": {
            "text/plain": [
              "   Account length  Area code  Number vmail messages  Total day minutes  \\\n",
              "0             128        415                     25           1.579670   \n",
              "1             107        415                     26          -0.329918   \n",
              "2             137        415                      0           1.179302   \n",
              "3              84        408                      0           2.212509   \n",
              "4              75        415                      0          -0.235822   \n",
              "\n",
              "   Total day calls  Total day charge  Total eve minutes  Total eve calls  \\\n",
              "0         0.484868          1.579942          -0.058619        -0.050781   \n",
              "1         1.135375         -0.330194          -0.095916         0.147654   \n",
              "2         0.685024          1.179465          -1.554439         0.494917   \n",
              "3        -1.466653          2.212675          -2.718509        -0.596479   \n",
              "4         0.634985         -0.235772          -1.022461         1.090224   \n",
              "\n",
              "   Total eve charge  Total night minutes  ...  State_VT  State_WA  State_WI  \\\n",
              "0         -0.058445             0.857403  ...         0         0         0   \n",
              "1         -0.095397             1.048458  ...         0         0         0   \n",
              "2         -1.554963            -0.759668  ...         0         0         0   \n",
              "3         -2.718922            -0.084083  ...         0         0         0   \n",
              "4         -1.021482            -0.281046  ...         0         0         0   \n",
              "\n",
              "   State_WV  State_WY  International plan_No  International plan_Yes  \\\n",
              "0         0         0                      1                       0   \n",
              "1         0         0                      1                       0   \n",
              "2         0         0                      1                       0   \n",
              "3         0         0                      0                       1   \n",
              "4         0         0                      0                       1   \n",
              "\n",
              "   Voice mail plan_No  Voice mail plan_Yes  Churn  \n",
              "0                   0                    1      0  \n",
              "1                   0                    1      0  \n",
              "2                   1                    0      0  \n",
              "3                   1                    0      0  \n",
              "4                   1                    0      0  \n",
              "\n",
              "[5 rows x 72 columns]"
            ],
            "text/html": [
              "\n",
              "  <div id=\"df-bac257d3-bda5-4c92-af17-41f385b9338a\">\n",
              "    <div class=\"colab-df-container\">\n",
              "      <div>\n",
              "<style scoped>\n",
              "    .dataframe tbody tr th:only-of-type {\n",
              "        vertical-align: middle;\n",
              "    }\n",
              "\n",
              "    .dataframe tbody tr th {\n",
              "        vertical-align: top;\n",
              "    }\n",
              "\n",
              "    .dataframe thead th {\n",
              "        text-align: right;\n",
              "    }\n",
              "</style>\n",
              "<table border=\"1\" class=\"dataframe\">\n",
              "  <thead>\n",
              "    <tr style=\"text-align: right;\">\n",
              "      <th></th>\n",
              "      <th>Account length</th>\n",
              "      <th>Area code</th>\n",
              "      <th>Number vmail messages</th>\n",
              "      <th>Total day minutes</th>\n",
              "      <th>Total day calls</th>\n",
              "      <th>Total day charge</th>\n",
              "      <th>Total eve minutes</th>\n",
              "      <th>Total eve calls</th>\n",
              "      <th>Total eve charge</th>\n",
              "      <th>Total night minutes</th>\n",
              "      <th>...</th>\n",
              "      <th>State_VT</th>\n",
              "      <th>State_WA</th>\n",
              "      <th>State_WI</th>\n",
              "      <th>State_WV</th>\n",
              "      <th>State_WY</th>\n",
              "      <th>International plan_No</th>\n",
              "      <th>International plan_Yes</th>\n",
              "      <th>Voice mail plan_No</th>\n",
              "      <th>Voice mail plan_Yes</th>\n",
              "      <th>Churn</th>\n",
              "    </tr>\n",
              "  </thead>\n",
              "  <tbody>\n",
              "    <tr>\n",
              "      <th>0</th>\n",
              "      <td>128</td>\n",
              "      <td>415</td>\n",
              "      <td>25</td>\n",
              "      <td>1.579670</td>\n",
              "      <td>0.484868</td>\n",
              "      <td>1.579942</td>\n",
              "      <td>-0.058619</td>\n",
              "      <td>-0.050781</td>\n",
              "      <td>-0.058445</td>\n",
              "      <td>0.857403</td>\n",
              "      <td>...</td>\n",
              "      <td>0</td>\n",
              "      <td>0</td>\n",
              "      <td>0</td>\n",
              "      <td>0</td>\n",
              "      <td>0</td>\n",
              "      <td>1</td>\n",
              "      <td>0</td>\n",
              "      <td>0</td>\n",
              "      <td>1</td>\n",
              "      <td>0</td>\n",
              "    </tr>\n",
              "    <tr>\n",
              "      <th>1</th>\n",
              "      <td>107</td>\n",
              "      <td>415</td>\n",
              "      <td>26</td>\n",
              "      <td>-0.329918</td>\n",
              "      <td>1.135375</td>\n",
              "      <td>-0.330194</td>\n",
              "      <td>-0.095916</td>\n",
              "      <td>0.147654</td>\n",
              "      <td>-0.095397</td>\n",
              "      <td>1.048458</td>\n",
              "      <td>...</td>\n",
              "      <td>0</td>\n",
              "      <td>0</td>\n",
              "      <td>0</td>\n",
              "      <td>0</td>\n",
              "      <td>0</td>\n",
              "      <td>1</td>\n",
              "      <td>0</td>\n",
              "      <td>0</td>\n",
              "      <td>1</td>\n",
              "      <td>0</td>\n",
              "    </tr>\n",
              "    <tr>\n",
              "      <th>2</th>\n",
              "      <td>137</td>\n",
              "      <td>415</td>\n",
              "      <td>0</td>\n",
              "      <td>1.179302</td>\n",
              "      <td>0.685024</td>\n",
              "      <td>1.179465</td>\n",
              "      <td>-1.554439</td>\n",
              "      <td>0.494917</td>\n",
              "      <td>-1.554963</td>\n",
              "      <td>-0.759668</td>\n",
              "      <td>...</td>\n",
              "      <td>0</td>\n",
              "      <td>0</td>\n",
              "      <td>0</td>\n",
              "      <td>0</td>\n",
              "      <td>0</td>\n",
              "      <td>1</td>\n",
              "      <td>0</td>\n",
              "      <td>1</td>\n",
              "      <td>0</td>\n",
              "      <td>0</td>\n",
              "    </tr>\n",
              "    <tr>\n",
              "      <th>3</th>\n",
              "      <td>84</td>\n",
              "      <td>408</td>\n",
              "      <td>0</td>\n",
              "      <td>2.212509</td>\n",
              "      <td>-1.466653</td>\n",
              "      <td>2.212675</td>\n",
              "      <td>-2.718509</td>\n",
              "      <td>-0.596479</td>\n",
              "      <td>-2.718922</td>\n",
              "      <td>-0.084083</td>\n",
              "      <td>...</td>\n",
              "      <td>0</td>\n",
              "      <td>0</td>\n",
              "      <td>0</td>\n",
              "      <td>0</td>\n",
              "      <td>0</td>\n",
              "      <td>0</td>\n",
              "      <td>1</td>\n",
              "      <td>1</td>\n",
              "      <td>0</td>\n",
              "      <td>0</td>\n",
              "    </tr>\n",
              "    <tr>\n",
              "      <th>4</th>\n",
              "      <td>75</td>\n",
              "      <td>415</td>\n",
              "      <td>0</td>\n",
              "      <td>-0.235822</td>\n",
              "      <td>0.634985</td>\n",
              "      <td>-0.235772</td>\n",
              "      <td>-1.022461</td>\n",
              "      <td>1.090224</td>\n",
              "      <td>-1.021482</td>\n",
              "      <td>-0.281046</td>\n",
              "      <td>...</td>\n",
              "      <td>0</td>\n",
              "      <td>0</td>\n",
              "      <td>0</td>\n",
              "      <td>0</td>\n",
              "      <td>0</td>\n",
              "      <td>0</td>\n",
              "      <td>1</td>\n",
              "      <td>1</td>\n",
              "      <td>0</td>\n",
              "      <td>0</td>\n",
              "    </tr>\n",
              "  </tbody>\n",
              "</table>\n",
              "<p>5 rows × 72 columns</p>\n",
              "</div>\n",
              "      <button class=\"colab-df-convert\" onclick=\"convertToInteractive('df-bac257d3-bda5-4c92-af17-41f385b9338a')\"\n",
              "              title=\"Convert this dataframe to an interactive table.\"\n",
              "              style=\"display:none;\">\n",
              "        \n",
              "  <svg xmlns=\"http://www.w3.org/2000/svg\" height=\"24px\"viewBox=\"0 0 24 24\"\n",
              "       width=\"24px\">\n",
              "    <path d=\"M0 0h24v24H0V0z\" fill=\"none\"/>\n",
              "    <path d=\"M18.56 5.44l.94 2.06.94-2.06 2.06-.94-2.06-.94-.94-2.06-.94 2.06-2.06.94zm-11 1L8.5 8.5l.94-2.06 2.06-.94-2.06-.94L8.5 2.5l-.94 2.06-2.06.94zm10 10l.94 2.06.94-2.06 2.06-.94-2.06-.94-.94-2.06-.94 2.06-2.06.94z\"/><path d=\"M17.41 7.96l-1.37-1.37c-.4-.4-.92-.59-1.43-.59-.52 0-1.04.2-1.43.59L10.3 9.45l-7.72 7.72c-.78.78-.78 2.05 0 2.83L4 21.41c.39.39.9.59 1.41.59.51 0 1.02-.2 1.41-.59l7.78-7.78 2.81-2.81c.8-.78.8-2.07 0-2.86zM5.41 20L4 18.59l7.72-7.72 1.47 1.35L5.41 20z\"/>\n",
              "  </svg>\n",
              "      </button>\n",
              "      \n",
              "  <style>\n",
              "    .colab-df-container {\n",
              "      display:flex;\n",
              "      flex-wrap:wrap;\n",
              "      gap: 12px;\n",
              "    }\n",
              "\n",
              "    .colab-df-convert {\n",
              "      background-color: #E8F0FE;\n",
              "      border: none;\n",
              "      border-radius: 50%;\n",
              "      cursor: pointer;\n",
              "      display: none;\n",
              "      fill: #1967D2;\n",
              "      height: 32px;\n",
              "      padding: 0 0 0 0;\n",
              "      width: 32px;\n",
              "    }\n",
              "\n",
              "    .colab-df-convert:hover {\n",
              "      background-color: #E2EBFA;\n",
              "      box-shadow: 0px 1px 2px rgba(60, 64, 67, 0.3), 0px 1px 3px 1px rgba(60, 64, 67, 0.15);\n",
              "      fill: #174EA6;\n",
              "    }\n",
              "\n",
              "    [theme=dark] .colab-df-convert {\n",
              "      background-color: #3B4455;\n",
              "      fill: #D2E3FC;\n",
              "    }\n",
              "\n",
              "    [theme=dark] .colab-df-convert:hover {\n",
              "      background-color: #434B5C;\n",
              "      box-shadow: 0px 1px 3px 1px rgba(0, 0, 0, 0.15);\n",
              "      filter: drop-shadow(0px 1px 2px rgba(0, 0, 0, 0.3));\n",
              "      fill: #FFFFFF;\n",
              "    }\n",
              "  </style>\n",
              "\n",
              "      <script>\n",
              "        const buttonEl =\n",
              "          document.querySelector('#df-bac257d3-bda5-4c92-af17-41f385b9338a button.colab-df-convert');\n",
              "        buttonEl.style.display =\n",
              "          google.colab.kernel.accessAllowed ? 'block' : 'none';\n",
              "\n",
              "        async function convertToInteractive(key) {\n",
              "          const element = document.querySelector('#df-bac257d3-bda5-4c92-af17-41f385b9338a');\n",
              "          const dataTable =\n",
              "            await google.colab.kernel.invokeFunction('convertToInteractive',\n",
              "                                                     [key], {});\n",
              "          if (!dataTable) return;\n",
              "\n",
              "          const docLinkHtml = 'Like what you see? Visit the ' +\n",
              "            '<a target=\"_blank\" href=https://colab.research.google.com/notebooks/data_table.ipynb>data table notebook</a>'\n",
              "            + ' to learn more about interactive tables.';\n",
              "          element.innerHTML = '';\n",
              "          dataTable['output_type'] = 'display_data';\n",
              "          await google.colab.output.renderOutput(dataTable, element);\n",
              "          const docLink = document.createElement('div');\n",
              "          docLink.innerHTML = docLinkHtml;\n",
              "          element.appendChild(docLink);\n",
              "        }\n",
              "      </script>\n",
              "    </div>\n",
              "  </div>\n",
              "  "
            ]
          },
          "metadata": {},
          "execution_count": 166
        }
      ]
    },
    {
      "cell_type": "code",
      "source": [
        "data2_en_test = pd.get_dummies(data2_en_test_SL, columns=['State','International plan','Voice mail plan'])\n",
        "# Convert 'True' values to 1 and 'False' values to 0\n",
        "data2_en_test['Churn'] = data2_en_test['Churn'].astype(int)"
      ],
      "metadata": {
        "id": "leLLuF5bk-94"
      },
      "execution_count": 167,
      "outputs": []
    },
    {
      "cell_type": "code",
      "source": [
        "data2_en_test = data2_en_test[['Account length', 'Area code', 'Number vmail messages',\n",
        "       'Total day minutes', 'Total day calls', 'Total day charge',\n",
        "       'Total eve minutes', 'Total eve calls', 'Total eve charge',\n",
        "       'Total night minutes', 'Total night calls', 'Total night charge',\n",
        "       'Total intl minutes', 'Total intl calls', 'Total intl charge',\n",
        "       'Customer service calls', 'State_AK', 'State_AL', 'State_AR',\n",
        "       'State_AZ', 'State_CA', 'State_CO', 'State_CT', 'State_DC', 'State_DE',\n",
        "       'State_FL', 'State_GA', 'State_HI', 'State_IA', 'State_ID', 'State_IL',\n",
        "       'State_IN', 'State_KS', 'State_KY', 'State_LA', 'State_MA', 'State_MD',\n",
        "       'State_ME', 'State_MI', 'State_MN', 'State_MO', 'State_MS', 'State_MT',\n",
        "       'State_NC', 'State_ND', 'State_NE', 'State_NH', 'State_NJ', 'State_NM',\n",
        "       'State_NV', 'State_NY', 'State_OH', 'State_OK', 'State_OR', 'State_PA',\n",
        "       'State_RI', 'State_SC', 'State_SD', 'State_TN', 'State_TX', 'State_UT',\n",
        "       'State_VA', 'State_VT', 'State_WA', 'State_WI', 'State_WV', 'State_WY',\n",
        "       'International plan_No', 'International plan_Yes', 'Voice mail plan_No',\n",
        "       'Voice mail plan_Yes','Churn']]\n",
        "data2_en_test.head()"
      ],
      "metadata": {
        "id": "Z9_M3trklDyq",
        "colab": {
          "base_uri": "https://localhost:8080/",
          "height": 314
        },
        "outputId": "d1277049-5eaf-4353-8a1c-2936186194cf"
      },
      "execution_count": 168,
      "outputs": [
        {
          "output_type": "execute_result",
          "data": {
            "text/plain": [
              "   Account length  Area code  Number vmail messages  Total day minutes  \\\n",
              "0             117        408                      0           0.064036   \n",
              "1              65        415                      0          -0.934756   \n",
              "2             161        415                      0           2.739500   \n",
              "3             111        415                      0          -1.271894   \n",
              "4              49        510                      0          -1.111438   \n",
              "\n",
              "   Total day calls  Total day charge  Total eve minutes  Total eve calls  \\\n",
              "0        -0.193167          0.064504           2.983872        -1.081478   \n",
              "1         1.769398         -0.934501           0.506113        -0.923033   \n",
              "2        -1.665090          2.739121           2.303545        -0.183625   \n",
              "3         0.101218         -1.271744          -1.329563         0.080450   \n",
              "4         0.788115         -1.111607           0.236397         0.450154   \n",
              "\n",
              "   Total eve charge  Total night minutes  ...  State_VT  State_WA  State_WI  \\\n",
              "0          2.984789             0.324092  ...         0         0         0   \n",
              "1          0.505504             0.183311  ...         0         0         0   \n",
              "2          2.302808            -0.786067  ...         0         0         0   \n",
              "3         -1.329688            -0.202831  ...         0         0         0   \n",
              "4          0.235553            -0.422048  ...         0         0         0   \n",
              "\n",
              "   State_WV  State_WY  International plan_No  International plan_Yes  \\\n",
              "0         0         0                      1                       0   \n",
              "1         0         0                      1                       0   \n",
              "2         0         0                      1                       0   \n",
              "3         0         0                      1                       0   \n",
              "4         0         0                      1                       0   \n",
              "\n",
              "   Voice mail plan_No  Voice mail plan_Yes  Churn  \n",
              "0                   1                    0      0  \n",
              "1                   1                    0      1  \n",
              "2                   1                    0      1  \n",
              "3                   1                    0      0  \n",
              "4                   1                    0      0  \n",
              "\n",
              "[5 rows x 72 columns]"
            ],
            "text/html": [
              "\n",
              "  <div id=\"df-52d6c42c-12f0-43a7-a9e7-a7a606bfb194\">\n",
              "    <div class=\"colab-df-container\">\n",
              "      <div>\n",
              "<style scoped>\n",
              "    .dataframe tbody tr th:only-of-type {\n",
              "        vertical-align: middle;\n",
              "    }\n",
              "\n",
              "    .dataframe tbody tr th {\n",
              "        vertical-align: top;\n",
              "    }\n",
              "\n",
              "    .dataframe thead th {\n",
              "        text-align: right;\n",
              "    }\n",
              "</style>\n",
              "<table border=\"1\" class=\"dataframe\">\n",
              "  <thead>\n",
              "    <tr style=\"text-align: right;\">\n",
              "      <th></th>\n",
              "      <th>Account length</th>\n",
              "      <th>Area code</th>\n",
              "      <th>Number vmail messages</th>\n",
              "      <th>Total day minutes</th>\n",
              "      <th>Total day calls</th>\n",
              "      <th>Total day charge</th>\n",
              "      <th>Total eve minutes</th>\n",
              "      <th>Total eve calls</th>\n",
              "      <th>Total eve charge</th>\n",
              "      <th>Total night minutes</th>\n",
              "      <th>...</th>\n",
              "      <th>State_VT</th>\n",
              "      <th>State_WA</th>\n",
              "      <th>State_WI</th>\n",
              "      <th>State_WV</th>\n",
              "      <th>State_WY</th>\n",
              "      <th>International plan_No</th>\n",
              "      <th>International plan_Yes</th>\n",
              "      <th>Voice mail plan_No</th>\n",
              "      <th>Voice mail plan_Yes</th>\n",
              "      <th>Churn</th>\n",
              "    </tr>\n",
              "  </thead>\n",
              "  <tbody>\n",
              "    <tr>\n",
              "      <th>0</th>\n",
              "      <td>117</td>\n",
              "      <td>408</td>\n",
              "      <td>0</td>\n",
              "      <td>0.064036</td>\n",
              "      <td>-0.193167</td>\n",
              "      <td>0.064504</td>\n",
              "      <td>2.983872</td>\n",
              "      <td>-1.081478</td>\n",
              "      <td>2.984789</td>\n",
              "      <td>0.324092</td>\n",
              "      <td>...</td>\n",
              "      <td>0</td>\n",
              "      <td>0</td>\n",
              "      <td>0</td>\n",
              "      <td>0</td>\n",
              "      <td>0</td>\n",
              "      <td>1</td>\n",
              "      <td>0</td>\n",
              "      <td>1</td>\n",
              "      <td>0</td>\n",
              "      <td>0</td>\n",
              "    </tr>\n",
              "    <tr>\n",
              "      <th>1</th>\n",
              "      <td>65</td>\n",
              "      <td>415</td>\n",
              "      <td>0</td>\n",
              "      <td>-0.934756</td>\n",
              "      <td>1.769398</td>\n",
              "      <td>-0.934501</td>\n",
              "      <td>0.506113</td>\n",
              "      <td>-0.923033</td>\n",
              "      <td>0.505504</td>\n",
              "      <td>0.183311</td>\n",
              "      <td>...</td>\n",
              "      <td>0</td>\n",
              "      <td>0</td>\n",
              "      <td>0</td>\n",
              "      <td>0</td>\n",
              "      <td>0</td>\n",
              "      <td>1</td>\n",
              "      <td>0</td>\n",
              "      <td>1</td>\n",
              "      <td>0</td>\n",
              "      <td>1</td>\n",
              "    </tr>\n",
              "    <tr>\n",
              "      <th>2</th>\n",
              "      <td>161</td>\n",
              "      <td>415</td>\n",
              "      <td>0</td>\n",
              "      <td>2.739500</td>\n",
              "      <td>-1.665090</td>\n",
              "      <td>2.739121</td>\n",
              "      <td>2.303545</td>\n",
              "      <td>-0.183625</td>\n",
              "      <td>2.302808</td>\n",
              "      <td>-0.786067</td>\n",
              "      <td>...</td>\n",
              "      <td>0</td>\n",
              "      <td>0</td>\n",
              "      <td>0</td>\n",
              "      <td>0</td>\n",
              "      <td>0</td>\n",
              "      <td>1</td>\n",
              "      <td>0</td>\n",
              "      <td>1</td>\n",
              "      <td>0</td>\n",
              "      <td>1</td>\n",
              "    </tr>\n",
              "    <tr>\n",
              "      <th>3</th>\n",
              "      <td>111</td>\n",
              "      <td>415</td>\n",
              "      <td>0</td>\n",
              "      <td>-1.271894</td>\n",
              "      <td>0.101218</td>\n",
              "      <td>-1.271744</td>\n",
              "      <td>-1.329563</td>\n",
              "      <td>0.080450</td>\n",
              "      <td>-1.329688</td>\n",
              "      <td>-0.202831</td>\n",
              "      <td>...</td>\n",
              "      <td>0</td>\n",
              "      <td>0</td>\n",
              "      <td>0</td>\n",
              "      <td>0</td>\n",
              "      <td>0</td>\n",
              "      <td>1</td>\n",
              "      <td>0</td>\n",
              "      <td>1</td>\n",
              "      <td>0</td>\n",
              "      <td>0</td>\n",
              "    </tr>\n",
              "    <tr>\n",
              "      <th>4</th>\n",
              "      <td>49</td>\n",
              "      <td>510</td>\n",
              "      <td>0</td>\n",
              "      <td>-1.111438</td>\n",
              "      <td>0.788115</td>\n",
              "      <td>-1.111607</td>\n",
              "      <td>0.236397</td>\n",
              "      <td>0.450154</td>\n",
              "      <td>0.235553</td>\n",
              "      <td>-0.422048</td>\n",
              "      <td>...</td>\n",
              "      <td>0</td>\n",
              "      <td>0</td>\n",
              "      <td>0</td>\n",
              "      <td>0</td>\n",
              "      <td>0</td>\n",
              "      <td>1</td>\n",
              "      <td>0</td>\n",
              "      <td>1</td>\n",
              "      <td>0</td>\n",
              "      <td>0</td>\n",
              "    </tr>\n",
              "  </tbody>\n",
              "</table>\n",
              "<p>5 rows × 72 columns</p>\n",
              "</div>\n",
              "      <button class=\"colab-df-convert\" onclick=\"convertToInteractive('df-52d6c42c-12f0-43a7-a9e7-a7a606bfb194')\"\n",
              "              title=\"Convert this dataframe to an interactive table.\"\n",
              "              style=\"display:none;\">\n",
              "        \n",
              "  <svg xmlns=\"http://www.w3.org/2000/svg\" height=\"24px\"viewBox=\"0 0 24 24\"\n",
              "       width=\"24px\">\n",
              "    <path d=\"M0 0h24v24H0V0z\" fill=\"none\"/>\n",
              "    <path d=\"M18.56 5.44l.94 2.06.94-2.06 2.06-.94-2.06-.94-.94-2.06-.94 2.06-2.06.94zm-11 1L8.5 8.5l.94-2.06 2.06-.94-2.06-.94L8.5 2.5l-.94 2.06-2.06.94zm10 10l.94 2.06.94-2.06 2.06-.94-2.06-.94-.94-2.06-.94 2.06-2.06.94z\"/><path d=\"M17.41 7.96l-1.37-1.37c-.4-.4-.92-.59-1.43-.59-.52 0-1.04.2-1.43.59L10.3 9.45l-7.72 7.72c-.78.78-.78 2.05 0 2.83L4 21.41c.39.39.9.59 1.41.59.51 0 1.02-.2 1.41-.59l7.78-7.78 2.81-2.81c.8-.78.8-2.07 0-2.86zM5.41 20L4 18.59l7.72-7.72 1.47 1.35L5.41 20z\"/>\n",
              "  </svg>\n",
              "      </button>\n",
              "      \n",
              "  <style>\n",
              "    .colab-df-container {\n",
              "      display:flex;\n",
              "      flex-wrap:wrap;\n",
              "      gap: 12px;\n",
              "    }\n",
              "\n",
              "    .colab-df-convert {\n",
              "      background-color: #E8F0FE;\n",
              "      border: none;\n",
              "      border-radius: 50%;\n",
              "      cursor: pointer;\n",
              "      display: none;\n",
              "      fill: #1967D2;\n",
              "      height: 32px;\n",
              "      padding: 0 0 0 0;\n",
              "      width: 32px;\n",
              "    }\n",
              "\n",
              "    .colab-df-convert:hover {\n",
              "      background-color: #E2EBFA;\n",
              "      box-shadow: 0px 1px 2px rgba(60, 64, 67, 0.3), 0px 1px 3px 1px rgba(60, 64, 67, 0.15);\n",
              "      fill: #174EA6;\n",
              "    }\n",
              "\n",
              "    [theme=dark] .colab-df-convert {\n",
              "      background-color: #3B4455;\n",
              "      fill: #D2E3FC;\n",
              "    }\n",
              "\n",
              "    [theme=dark] .colab-df-convert:hover {\n",
              "      background-color: #434B5C;\n",
              "      box-shadow: 0px 1px 3px 1px rgba(0, 0, 0, 0.15);\n",
              "      filter: drop-shadow(0px 1px 2px rgba(0, 0, 0, 0.3));\n",
              "      fill: #FFFFFF;\n",
              "    }\n",
              "  </style>\n",
              "\n",
              "      <script>\n",
              "        const buttonEl =\n",
              "          document.querySelector('#df-52d6c42c-12f0-43a7-a9e7-a7a606bfb194 button.colab-df-convert');\n",
              "        buttonEl.style.display =\n",
              "          google.colab.kernel.accessAllowed ? 'block' : 'none';\n",
              "\n",
              "        async function convertToInteractive(key) {\n",
              "          const element = document.querySelector('#df-52d6c42c-12f0-43a7-a9e7-a7a606bfb194');\n",
              "          const dataTable =\n",
              "            await google.colab.kernel.invokeFunction('convertToInteractive',\n",
              "                                                     [key], {});\n",
              "          if (!dataTable) return;\n",
              "\n",
              "          const docLinkHtml = 'Like what you see? Visit the ' +\n",
              "            '<a target=\"_blank\" href=https://colab.research.google.com/notebooks/data_table.ipynb>data table notebook</a>'\n",
              "            + ' to learn more about interactive tables.';\n",
              "          element.innerHTML = '';\n",
              "          dataTable['output_type'] = 'display_data';\n",
              "          await google.colab.output.renderOutput(dataTable, element);\n",
              "          const docLink = document.createElement('div');\n",
              "          docLink.innerHTML = docLinkHtml;\n",
              "          element.appendChild(docLink);\n",
              "        }\n",
              "      </script>\n",
              "    </div>\n",
              "  </div>\n",
              "  "
            ]
          },
          "metadata": {},
          "execution_count": 168
        }
      ]
    },
    {
      "cell_type": "markdown",
      "source": [
        "###รวม Data 80 กับ 20 เข้าด้วยกัน ?"
      ],
      "metadata": {
        "id": "ufRQRQ7qKhgq"
      }
    },
    {
      "cell_type": "code",
      "source": [
        "# data_en = pd.concat([data1_en_test, data2_en_train], axis=0)\n",
        "# data_en.reset_index(drop=True)\n",
        "# data_en_X= data_en.drop('Churn',axis=1)\n",
        "# data_en_Y= data_en['Churn']"
      ],
      "metadata": {
        "id": "EZ52C_iUgLbT"
      },
      "execution_count": 169,
      "outputs": []
    },
    {
      "cell_type": "markdown",
      "source": [
        "#Classifications"
      ],
      "metadata": {
        "id": "lLfxdCynUNgY"
      }
    },
    {
      "cell_type": "markdown",
      "source": [
        "##Decision Tree"
      ],
      "metadata": {
        "id": "zY4raJYQWNT9"
      }
    },
    {
      "cell_type": "markdown",
      "source": [
        "- 80% train = data1_en_train\n",
        "  - มี 72 columns\n",
        "    - เราใช้ 71 columns = X_train \n",
        "    - Columns 20 = y_train\n",
        "\n",
        "- 20% test = data2_en_test\n",
        "  - มี 72 columns\n",
        "    - เราใช้ 71 columns = X_test \n",
        "    - Columns 72 = y_test"
      ],
      "metadata": {
        "id": "stDMEXniU32-"
      }
    },
    {
      "cell_type": "code",
      "source": [
        "data1_en_train.head()"
      ],
      "metadata": {
        "colab": {
          "base_uri": "https://localhost:8080/",
          "height": 314
        },
        "id": "vOQRzcRlRiGz",
        "outputId": "b3593f91-a902-42c8-f396-fa83febe4fd4"
      },
      "execution_count": 170,
      "outputs": [
        {
          "output_type": "execute_result",
          "data": {
            "text/plain": [
              "   Account length  Area code  Number vmail messages  Total day minutes  \\\n",
              "0             128        415                     25           1.579670   \n",
              "1             107        415                     26          -0.329918   \n",
              "2             137        415                      0           1.179302   \n",
              "3              84        408                      0           2.212509   \n",
              "4              75        415                      0          -0.235822   \n",
              "\n",
              "   Total day calls  Total day charge  Total eve minutes  Total eve calls  \\\n",
              "0         0.484868          1.579942          -0.058619        -0.050781   \n",
              "1         1.135375         -0.330194          -0.095916         0.147654   \n",
              "2         0.685024          1.179465          -1.554439         0.494917   \n",
              "3        -1.466653          2.212675          -2.718509        -0.596479   \n",
              "4         0.634985         -0.235772          -1.022461         1.090224   \n",
              "\n",
              "   Total eve charge  Total night minutes  ...  State_VT  State_WA  State_WI  \\\n",
              "0         -0.058445             0.857403  ...         0         0         0   \n",
              "1         -0.095397             1.048458  ...         0         0         0   \n",
              "2         -1.554963            -0.759668  ...         0         0         0   \n",
              "3         -2.718922            -0.084083  ...         0         0         0   \n",
              "4         -1.021482            -0.281046  ...         0         0         0   \n",
              "\n",
              "   State_WV  State_WY  International plan_No  International plan_Yes  \\\n",
              "0         0         0                      1                       0   \n",
              "1         0         0                      1                       0   \n",
              "2         0         0                      1                       0   \n",
              "3         0         0                      0                       1   \n",
              "4         0         0                      0                       1   \n",
              "\n",
              "   Voice mail plan_No  Voice mail plan_Yes  Churn  \n",
              "0                   0                    1      0  \n",
              "1                   0                    1      0  \n",
              "2                   1                    0      0  \n",
              "3                   1                    0      0  \n",
              "4                   1                    0      0  \n",
              "\n",
              "[5 rows x 72 columns]"
            ],
            "text/html": [
              "\n",
              "  <div id=\"df-da6e2e34-4674-48af-a5f6-7b7ec4c8d737\">\n",
              "    <div class=\"colab-df-container\">\n",
              "      <div>\n",
              "<style scoped>\n",
              "    .dataframe tbody tr th:only-of-type {\n",
              "        vertical-align: middle;\n",
              "    }\n",
              "\n",
              "    .dataframe tbody tr th {\n",
              "        vertical-align: top;\n",
              "    }\n",
              "\n",
              "    .dataframe thead th {\n",
              "        text-align: right;\n",
              "    }\n",
              "</style>\n",
              "<table border=\"1\" class=\"dataframe\">\n",
              "  <thead>\n",
              "    <tr style=\"text-align: right;\">\n",
              "      <th></th>\n",
              "      <th>Account length</th>\n",
              "      <th>Area code</th>\n",
              "      <th>Number vmail messages</th>\n",
              "      <th>Total day minutes</th>\n",
              "      <th>Total day calls</th>\n",
              "      <th>Total day charge</th>\n",
              "      <th>Total eve minutes</th>\n",
              "      <th>Total eve calls</th>\n",
              "      <th>Total eve charge</th>\n",
              "      <th>Total night minutes</th>\n",
              "      <th>...</th>\n",
              "      <th>State_VT</th>\n",
              "      <th>State_WA</th>\n",
              "      <th>State_WI</th>\n",
              "      <th>State_WV</th>\n",
              "      <th>State_WY</th>\n",
              "      <th>International plan_No</th>\n",
              "      <th>International plan_Yes</th>\n",
              "      <th>Voice mail plan_No</th>\n",
              "      <th>Voice mail plan_Yes</th>\n",
              "      <th>Churn</th>\n",
              "    </tr>\n",
              "  </thead>\n",
              "  <tbody>\n",
              "    <tr>\n",
              "      <th>0</th>\n",
              "      <td>128</td>\n",
              "      <td>415</td>\n",
              "      <td>25</td>\n",
              "      <td>1.579670</td>\n",
              "      <td>0.484868</td>\n",
              "      <td>1.579942</td>\n",
              "      <td>-0.058619</td>\n",
              "      <td>-0.050781</td>\n",
              "      <td>-0.058445</td>\n",
              "      <td>0.857403</td>\n",
              "      <td>...</td>\n",
              "      <td>0</td>\n",
              "      <td>0</td>\n",
              "      <td>0</td>\n",
              "      <td>0</td>\n",
              "      <td>0</td>\n",
              "      <td>1</td>\n",
              "      <td>0</td>\n",
              "      <td>0</td>\n",
              "      <td>1</td>\n",
              "      <td>0</td>\n",
              "    </tr>\n",
              "    <tr>\n",
              "      <th>1</th>\n",
              "      <td>107</td>\n",
              "      <td>415</td>\n",
              "      <td>26</td>\n",
              "      <td>-0.329918</td>\n",
              "      <td>1.135375</td>\n",
              "      <td>-0.330194</td>\n",
              "      <td>-0.095916</td>\n",
              "      <td>0.147654</td>\n",
              "      <td>-0.095397</td>\n",
              "      <td>1.048458</td>\n",
              "      <td>...</td>\n",
              "      <td>0</td>\n",
              "      <td>0</td>\n",
              "      <td>0</td>\n",
              "      <td>0</td>\n",
              "      <td>0</td>\n",
              "      <td>1</td>\n",
              "      <td>0</td>\n",
              "      <td>0</td>\n",
              "      <td>1</td>\n",
              "      <td>0</td>\n",
              "    </tr>\n",
              "    <tr>\n",
              "      <th>2</th>\n",
              "      <td>137</td>\n",
              "      <td>415</td>\n",
              "      <td>0</td>\n",
              "      <td>1.179302</td>\n",
              "      <td>0.685024</td>\n",
              "      <td>1.179465</td>\n",
              "      <td>-1.554439</td>\n",
              "      <td>0.494917</td>\n",
              "      <td>-1.554963</td>\n",
              "      <td>-0.759668</td>\n",
              "      <td>...</td>\n",
              "      <td>0</td>\n",
              "      <td>0</td>\n",
              "      <td>0</td>\n",
              "      <td>0</td>\n",
              "      <td>0</td>\n",
              "      <td>1</td>\n",
              "      <td>0</td>\n",
              "      <td>1</td>\n",
              "      <td>0</td>\n",
              "      <td>0</td>\n",
              "    </tr>\n",
              "    <tr>\n",
              "      <th>3</th>\n",
              "      <td>84</td>\n",
              "      <td>408</td>\n",
              "      <td>0</td>\n",
              "      <td>2.212509</td>\n",
              "      <td>-1.466653</td>\n",
              "      <td>2.212675</td>\n",
              "      <td>-2.718509</td>\n",
              "      <td>-0.596479</td>\n",
              "      <td>-2.718922</td>\n",
              "      <td>-0.084083</td>\n",
              "      <td>...</td>\n",
              "      <td>0</td>\n",
              "      <td>0</td>\n",
              "      <td>0</td>\n",
              "      <td>0</td>\n",
              "      <td>0</td>\n",
              "      <td>0</td>\n",
              "      <td>1</td>\n",
              "      <td>1</td>\n",
              "      <td>0</td>\n",
              "      <td>0</td>\n",
              "    </tr>\n",
              "    <tr>\n",
              "      <th>4</th>\n",
              "      <td>75</td>\n",
              "      <td>415</td>\n",
              "      <td>0</td>\n",
              "      <td>-0.235822</td>\n",
              "      <td>0.634985</td>\n",
              "      <td>-0.235772</td>\n",
              "      <td>-1.022461</td>\n",
              "      <td>1.090224</td>\n",
              "      <td>-1.021482</td>\n",
              "      <td>-0.281046</td>\n",
              "      <td>...</td>\n",
              "      <td>0</td>\n",
              "      <td>0</td>\n",
              "      <td>0</td>\n",
              "      <td>0</td>\n",
              "      <td>0</td>\n",
              "      <td>0</td>\n",
              "      <td>1</td>\n",
              "      <td>1</td>\n",
              "      <td>0</td>\n",
              "      <td>0</td>\n",
              "    </tr>\n",
              "  </tbody>\n",
              "</table>\n",
              "<p>5 rows × 72 columns</p>\n",
              "</div>\n",
              "      <button class=\"colab-df-convert\" onclick=\"convertToInteractive('df-da6e2e34-4674-48af-a5f6-7b7ec4c8d737')\"\n",
              "              title=\"Convert this dataframe to an interactive table.\"\n",
              "              style=\"display:none;\">\n",
              "        \n",
              "  <svg xmlns=\"http://www.w3.org/2000/svg\" height=\"24px\"viewBox=\"0 0 24 24\"\n",
              "       width=\"24px\">\n",
              "    <path d=\"M0 0h24v24H0V0z\" fill=\"none\"/>\n",
              "    <path d=\"M18.56 5.44l.94 2.06.94-2.06 2.06-.94-2.06-.94-.94-2.06-.94 2.06-2.06.94zm-11 1L8.5 8.5l.94-2.06 2.06-.94-2.06-.94L8.5 2.5l-.94 2.06-2.06.94zm10 10l.94 2.06.94-2.06 2.06-.94-2.06-.94-.94-2.06-.94 2.06-2.06.94z\"/><path d=\"M17.41 7.96l-1.37-1.37c-.4-.4-.92-.59-1.43-.59-.52 0-1.04.2-1.43.59L10.3 9.45l-7.72 7.72c-.78.78-.78 2.05 0 2.83L4 21.41c.39.39.9.59 1.41.59.51 0 1.02-.2 1.41-.59l7.78-7.78 2.81-2.81c.8-.78.8-2.07 0-2.86zM5.41 20L4 18.59l7.72-7.72 1.47 1.35L5.41 20z\"/>\n",
              "  </svg>\n",
              "      </button>\n",
              "      \n",
              "  <style>\n",
              "    .colab-df-container {\n",
              "      display:flex;\n",
              "      flex-wrap:wrap;\n",
              "      gap: 12px;\n",
              "    }\n",
              "\n",
              "    .colab-df-convert {\n",
              "      background-color: #E8F0FE;\n",
              "      border: none;\n",
              "      border-radius: 50%;\n",
              "      cursor: pointer;\n",
              "      display: none;\n",
              "      fill: #1967D2;\n",
              "      height: 32px;\n",
              "      padding: 0 0 0 0;\n",
              "      width: 32px;\n",
              "    }\n",
              "\n",
              "    .colab-df-convert:hover {\n",
              "      background-color: #E2EBFA;\n",
              "      box-shadow: 0px 1px 2px rgba(60, 64, 67, 0.3), 0px 1px 3px 1px rgba(60, 64, 67, 0.15);\n",
              "      fill: #174EA6;\n",
              "    }\n",
              "\n",
              "    [theme=dark] .colab-df-convert {\n",
              "      background-color: #3B4455;\n",
              "      fill: #D2E3FC;\n",
              "    }\n",
              "\n",
              "    [theme=dark] .colab-df-convert:hover {\n",
              "      background-color: #434B5C;\n",
              "      box-shadow: 0px 1px 3px 1px rgba(0, 0, 0, 0.15);\n",
              "      filter: drop-shadow(0px 1px 2px rgba(0, 0, 0, 0.3));\n",
              "      fill: #FFFFFF;\n",
              "    }\n",
              "  </style>\n",
              "\n",
              "      <script>\n",
              "        const buttonEl =\n",
              "          document.querySelector('#df-da6e2e34-4674-48af-a5f6-7b7ec4c8d737 button.colab-df-convert');\n",
              "        buttonEl.style.display =\n",
              "          google.colab.kernel.accessAllowed ? 'block' : 'none';\n",
              "\n",
              "        async function convertToInteractive(key) {\n",
              "          const element = document.querySelector('#df-da6e2e34-4674-48af-a5f6-7b7ec4c8d737');\n",
              "          const dataTable =\n",
              "            await google.colab.kernel.invokeFunction('convertToInteractive',\n",
              "                                                     [key], {});\n",
              "          if (!dataTable) return;\n",
              "\n",
              "          const docLinkHtml = 'Like what you see? Visit the ' +\n",
              "            '<a target=\"_blank\" href=https://colab.research.google.com/notebooks/data_table.ipynb>data table notebook</a>'\n",
              "            + ' to learn more about interactive tables.';\n",
              "          element.innerHTML = '';\n",
              "          dataTable['output_type'] = 'display_data';\n",
              "          await google.colab.output.renderOutput(dataTable, element);\n",
              "          const docLink = document.createElement('div');\n",
              "          docLink.innerHTML = docLinkHtml;\n",
              "          element.appendChild(docLink);\n",
              "        }\n",
              "      </script>\n",
              "    </div>\n",
              "  </div>\n",
              "  "
            ]
          },
          "metadata": {},
          "execution_count": 170
        }
      ]
    },
    {
      "cell_type": "code",
      "source": [
        "X_train = data1_en_train.iloc[:,:71] #ดึงข้อมูล 19 คอลัมแรกออกมา \n",
        "y_train = data1_en_train.iloc[:,71:] #ใช้คอลัมน์สุดท้ายเป็น y"
      ],
      "metadata": {
        "id": "KIHq0MOdcZff"
      },
      "execution_count": 171,
      "outputs": []
    },
    {
      "cell_type": "code",
      "source": [
        "X_test = data2_en_test.iloc[:,:71] #ดึงข้อมูล 19 คอลัมแรกออกมา \n",
        "y_test = data2_en_test.iloc[:,71:] #ใช้คอลัมน์สุดท้ายเป็น y"
      ],
      "metadata": {
        "id": "W6gc8gDZWXI8"
      },
      "execution_count": 172,
      "outputs": []
    },
    {
      "cell_type": "markdown",
      "source": [
        "###Import"
      ],
      "metadata": {
        "id": "TYEaj0BqXXZk"
      }
    },
    {
      "cell_type": "code",
      "source": [
        "from sklearn.tree import DecisionTreeClassifier\n",
        "from sklearn.model_selection import cross_val_score, KFold\n",
        "from sklearn.metrics import classification_report\n",
        "from sklearn.metrics import accuracy_score"
      ],
      "metadata": {
        "id": "JYq7hUb9XZAe"
      },
      "execution_count": 173,
      "outputs": []
    },
    {
      "cell_type": "code",
      "source": [
        "from sklearn.model_selection import GridSearchCV\n",
        "\n",
        "# Create the parameter grid based on the results of random search \n",
        "param_grid = {'max_depth': [2, 3, 4, 5, 6, 7, 8, 9, 10]}\n",
        "\n",
        "\n",
        "# Create a base model\n",
        "rf_grids = DecisionTreeClassifier(random_state=7)\n",
        "\n",
        "# Initiate the grid search model\n",
        "grid_search = GridSearchCV(rf_grids, param_grid, cv=5, scoring='accuracy')\n",
        "\n",
        "# Fit the grid search to the data\n",
        "grid_search.fit(X_train, y_train)\n",
        "\n",
        "grid_search.best_params_"
      ],
      "metadata": {
        "colab": {
          "base_uri": "https://localhost:8080/"
        },
        "id": "ctv8eCP1N_OR",
        "outputId": "89cfe32d-961b-4f0c-abb8-c22df8d8205e"
      },
      "execution_count": 174,
      "outputs": [
        {
          "output_type": "execute_result",
          "data": {
            "text/plain": [
              "{'max_depth': 7}"
            ]
          },
          "metadata": {},
          "execution_count": 174
        }
      ]
    },
    {
      "cell_type": "markdown",
      "source": [
        "### Define\n"
      ],
      "metadata": {
        "id": "rUPtAH4PZo97"
      }
    },
    {
      "cell_type": "markdown",
      "source": [
        "- ทดลองใช้ random_state ที่หลายเลขเผื่อเช็คค่าที่ดีที่สุด"
      ],
      "metadata": {
        "id": "C3YRyKIQaSdd"
      }
    },
    {
      "cell_type": "code",
      "source": [
        "# Create Decision Tree classifer object\n",
        "clf0 = DecisionTreeClassifier(random_state=2,max_depth=7)"
      ],
      "metadata": {
        "id": "oQfnY-Q8Zl-J"
      },
      "execution_count": 175,
      "outputs": []
    },
    {
      "cell_type": "code",
      "source": [
        "clf1= DecisionTreeClassifier(random_state=1,max_depth=7)\n",
        "clf2= DecisionTreeClassifier(random_state=2,max_depth=7)\n",
        "clf3= DecisionTreeClassifier(random_state=3,max_depth=7)\n",
        "clf4= DecisionTreeClassifier(random_state=4,max_depth=7)\n",
        "clf5= DecisionTreeClassifier(random_state=5,max_depth=7)\n",
        "clf6= DecisionTreeClassifier(random_state=6,max_depth=7)\n",
        "clf7 = DecisionTreeClassifier(random_state=7,max_depth=7)\n",
        "clf8= DecisionTreeClassifier(random_state=8,max_depth=7)\n",
        "clf9 = DecisionTreeClassifier(random_state=9,max_depth=7)\n",
        "clf10 = DecisionTreeClassifier(random_state=10,max_depth=7)\n"
      ],
      "metadata": {
        "id": "-ivNfTvzZrLG"
      },
      "execution_count": 176,
      "outputs": []
    },
    {
      "cell_type": "markdown",
      "source": [
        "### Train\n"
      ],
      "metadata": {
        "id": "OHqSf3tegGpp"
      }
    },
    {
      "cell_type": "code",
      "source": [
        "clf1.fit(X_train, y_train)\n",
        "clf2.fit(X_train, y_train)\n",
        "clf3.fit(X_train, y_train)\n",
        "clf4.fit(X_train, y_train)\n",
        "clf5.fit(X_train, y_train)\n",
        "clf6.fit(X_train, y_train)\n",
        "clf7.fit(X_train, y_train)\n",
        "clf8.fit(X_train, y_train)\n",
        "clf9.fit(X_train, y_train)\n",
        "clf10.fit(X_train, y_train)"
      ],
      "metadata": {
        "colab": {
          "base_uri": "https://localhost:8080/",
          "height": 75
        },
        "id": "gDJ6Zu4wgH1b",
        "outputId": "e80a5ce0-7483-4fc5-9c85-e1f810682687"
      },
      "execution_count": 177,
      "outputs": [
        {
          "output_type": "execute_result",
          "data": {
            "text/plain": [
              "DecisionTreeClassifier(max_depth=7, random_state=10)"
            ],
            "text/html": [
              "<style>#sk-container-id-3 {color: black;background-color: white;}#sk-container-id-3 pre{padding: 0;}#sk-container-id-3 div.sk-toggleable {background-color: white;}#sk-container-id-3 label.sk-toggleable__label {cursor: pointer;display: block;width: 100%;margin-bottom: 0;padding: 0.3em;box-sizing: border-box;text-align: center;}#sk-container-id-3 label.sk-toggleable__label-arrow:before {content: \"▸\";float: left;margin-right: 0.25em;color: #696969;}#sk-container-id-3 label.sk-toggleable__label-arrow:hover:before {color: black;}#sk-container-id-3 div.sk-estimator:hover label.sk-toggleable__label-arrow:before {color: black;}#sk-container-id-3 div.sk-toggleable__content {max-height: 0;max-width: 0;overflow: hidden;text-align: left;background-color: #f0f8ff;}#sk-container-id-3 div.sk-toggleable__content pre {margin: 0.2em;color: black;border-radius: 0.25em;background-color: #f0f8ff;}#sk-container-id-3 input.sk-toggleable__control:checked~div.sk-toggleable__content {max-height: 200px;max-width: 100%;overflow: auto;}#sk-container-id-3 input.sk-toggleable__control:checked~label.sk-toggleable__label-arrow:before {content: \"▾\";}#sk-container-id-3 div.sk-estimator input.sk-toggleable__control:checked~label.sk-toggleable__label {background-color: #d4ebff;}#sk-container-id-3 div.sk-label input.sk-toggleable__control:checked~label.sk-toggleable__label {background-color: #d4ebff;}#sk-container-id-3 input.sk-hidden--visually {border: 0;clip: rect(1px 1px 1px 1px);clip: rect(1px, 1px, 1px, 1px);height: 1px;margin: -1px;overflow: hidden;padding: 0;position: absolute;width: 1px;}#sk-container-id-3 div.sk-estimator {font-family: monospace;background-color: #f0f8ff;border: 1px dotted black;border-radius: 0.25em;box-sizing: border-box;margin-bottom: 0.5em;}#sk-container-id-3 div.sk-estimator:hover {background-color: #d4ebff;}#sk-container-id-3 div.sk-parallel-item::after {content: \"\";width: 100%;border-bottom: 1px solid gray;flex-grow: 1;}#sk-container-id-3 div.sk-label:hover label.sk-toggleable__label {background-color: #d4ebff;}#sk-container-id-3 div.sk-serial::before {content: \"\";position: absolute;border-left: 1px solid gray;box-sizing: border-box;top: 0;bottom: 0;left: 50%;z-index: 0;}#sk-container-id-3 div.sk-serial {display: flex;flex-direction: column;align-items: center;background-color: white;padding-right: 0.2em;padding-left: 0.2em;position: relative;}#sk-container-id-3 div.sk-item {position: relative;z-index: 1;}#sk-container-id-3 div.sk-parallel {display: flex;align-items: stretch;justify-content: center;background-color: white;position: relative;}#sk-container-id-3 div.sk-item::before, #sk-container-id-3 div.sk-parallel-item::before {content: \"\";position: absolute;border-left: 1px solid gray;box-sizing: border-box;top: 0;bottom: 0;left: 50%;z-index: -1;}#sk-container-id-3 div.sk-parallel-item {display: flex;flex-direction: column;z-index: 1;position: relative;background-color: white;}#sk-container-id-3 div.sk-parallel-item:first-child::after {align-self: flex-end;width: 50%;}#sk-container-id-3 div.sk-parallel-item:last-child::after {align-self: flex-start;width: 50%;}#sk-container-id-3 div.sk-parallel-item:only-child::after {width: 0;}#sk-container-id-3 div.sk-dashed-wrapped {border: 1px dashed gray;margin: 0 0.4em 0.5em 0.4em;box-sizing: border-box;padding-bottom: 0.4em;background-color: white;}#sk-container-id-3 div.sk-label label {font-family: monospace;font-weight: bold;display: inline-block;line-height: 1.2em;}#sk-container-id-3 div.sk-label-container {text-align: center;}#sk-container-id-3 div.sk-container {/* jupyter's `normalize.less` sets `[hidden] { display: none; }` but bootstrap.min.css set `[hidden] { display: none !important; }` so we also need the `!important` here to be able to override the default hidden behavior on the sphinx rendered scikit-learn.org. See: https://github.com/scikit-learn/scikit-learn/issues/21755 */display: inline-block !important;position: relative;}#sk-container-id-3 div.sk-text-repr-fallback {display: none;}</style><div id=\"sk-container-id-3\" class=\"sk-top-container\"><div class=\"sk-text-repr-fallback\"><pre>DecisionTreeClassifier(max_depth=7, random_state=10)</pre><b>In a Jupyter environment, please rerun this cell to show the HTML representation or trust the notebook. <br />On GitHub, the HTML representation is unable to render, please try loading this page with nbviewer.org.</b></div><div class=\"sk-container\" hidden><div class=\"sk-item\"><div class=\"sk-estimator sk-toggleable\"><input class=\"sk-toggleable__control sk-hidden--visually\" id=\"sk-estimator-id-3\" type=\"checkbox\" checked><label for=\"sk-estimator-id-3\" class=\"sk-toggleable__label sk-toggleable__label-arrow\">DecisionTreeClassifier</label><div class=\"sk-toggleable__content\"><pre>DecisionTreeClassifier(max_depth=7, random_state=10)</pre></div></div></div></div></div>"
            ]
          },
          "metadata": {},
          "execution_count": 177
        }
      ]
    },
    {
      "cell_type": "markdown",
      "source": [
        "###Predict - Evaluate"
      ],
      "metadata": {
        "id": "Bq0C1ZsObSs8"
      }
    },
    {
      "cell_type": "markdown",
      "source": [
        "####Predict"
      ],
      "metadata": {
        "id": "HMSN95y6bVkI"
      }
    },
    {
      "cell_type": "code",
      "source": [
        "y_pred_1 = clf1.predict(X_test)\n",
        "y_pred_2 = clf2.predict(X_test)\n",
        "y_pred_3 = clf3.predict(X_test)\n",
        "y_pred_4 = clf4.predict(X_test)\n",
        "y_pred_5 = clf5.predict(X_test)\n",
        "y_pred_6 = clf6.predict(X_test)\n",
        "y_pred_7 = clf7.predict(X_test)\n",
        "y_pred_8 = clf8.predict(X_test)\n",
        "y_pred_9 = clf9.predict(X_test)\n",
        "y_pred_10 = clf10.predict(X_test)"
      ],
      "metadata": {
        "id": "cUBtdStobRsw"
      },
      "execution_count": 178,
      "outputs": []
    },
    {
      "cell_type": "markdown",
      "source": [
        "###Evaluate"
      ],
      "metadata": {
        "id": "59H2J7-tcGOv"
      }
    },
    {
      "cell_type": "code",
      "source": [
        "print(f\"Accuracy of clf1: {accuracy_score(y_test, y_pred_1)}\") #This model is da best Accuracy of clf1: 0.9460269865067467\n",
        "print(f\"Accuracy of clf2: {accuracy_score(y_test, y_pred_2)}\") \n",
        "print(f\"Accuracy of clf3: {accuracy_score(y_test, y_pred_3)}\")\n",
        "print(f\"Accuracy of clf4: {accuracy_score(y_test, y_pred_4)}\")\n",
        "print(f\"Accuracy of clf5: {accuracy_score(y_test, y_pred_5)}\")\n",
        "print(f\"Accuracy of clf6: {accuracy_score(y_test, y_pred_6)}\")\n",
        "print(f\"Accuracy of clf7: {accuracy_score(y_test, y_pred_7)}\")\n",
        "print(f\"Accuracy of clf8: {accuracy_score(y_test, y_pred_8)}\")\n",
        "print(f\"Accuracy of clf9: {accuracy_score(y_test, y_pred_9)}\")\n",
        "print(f\"Accuracy of clf10: {accuracy_score(y_test, y_pred_10)}\")"
      ],
      "metadata": {
        "colab": {
          "base_uri": "https://localhost:8080/"
        },
        "id": "8YoV9tJ9r64T",
        "outputId": "32ece10a-b579-402b-c947-48cd448a63cd"
      },
      "execution_count": 179,
      "outputs": [
        {
          "output_type": "stream",
          "name": "stdout",
          "text": [
            "Accuracy of clf1: 0.9460269865067467\n",
            "Accuracy of clf2: 0.9415292353823088\n",
            "Accuracy of clf3: 0.9415292353823088\n",
            "Accuracy of clf4: 0.9430284857571214\n",
            "Accuracy of clf5: 0.9445277361319341\n",
            "Accuracy of clf6: 0.9430284857571214\n",
            "Accuracy of clf7: 0.9430284857571214\n",
            "Accuracy of clf8: 0.9445277361319341\n",
            "Accuracy of clf9: 0.9430284857571214\n",
            "Accuracy of clf10: 0.9430284857571214\n"
          ]
        }
      ]
    },
    {
      "cell_type": "code",
      "source": [
        "DT_score = accuracy_score(y_test, y_pred_1)"
      ],
      "metadata": {
        "id": "5JqhRVuUs4V_"
      },
      "execution_count": 180,
      "outputs": []
    },
    {
      "cell_type": "code",
      "source": [
        "print(f'Accuracy DecisionTree', DT_score)"
      ],
      "metadata": {
        "colab": {
          "base_uri": "https://localhost:8080/"
        },
        "id": "ieQeA6crsuax",
        "outputId": "b8cdf02b-b310-42e9-b9f6-bf176af5bc7f"
      },
      "execution_count": 181,
      "outputs": [
        {
          "output_type": "stream",
          "name": "stdout",
          "text": [
            "Accuracy DecisionTree 0.9460269865067467\n"
          ]
        }
      ]
    },
    {
      "cell_type": "markdown",
      "source": [
        "###หน้าตาต้นไม้ Model Clf1"
      ],
      "metadata": {
        "id": "_Beg3MypHDKQ"
      }
    },
    {
      "cell_type": "code",
      "source": [
        "from sklearn.tree import plot_tree\n",
        "from sklearn.tree import export_graphviz\n",
        "from graphviz import Source\n",
        "from IPython.display import display\n"
      ],
      "metadata": {
        "id": "1Z_4PAwIG9Th"
      },
      "execution_count": 182,
      "outputs": []
    },
    {
      "cell_type": "code",
      "source": [
        "yy = y_test\n",
        "XX = X_test"
      ],
      "metadata": {
        "id": "zX5t4VYRoQD2"
      },
      "execution_count": 183,
      "outputs": []
    },
    {
      "cell_type": "code",
      "source": [
        "dot_data = export_graphviz(clf1, out_file=None, feature_names=XX.columns, class_names=['no churn', 'churn'], filled=True) #Model 2"
      ],
      "metadata": {
        "id": "01OeN1JelNzU"
      },
      "execution_count": 184,
      "outputs": []
    },
    {
      "cell_type": "code",
      "source": [
        "# Create a source object from the DOT data\n",
        "source = Source(dot_data)"
      ],
      "metadata": {
        "id": "JfOYegiMoosF"
      },
      "execution_count": 185,
      "outputs": []
    },
    {
      "cell_type": "code",
      "source": [
        "# Save Picture\n",
        "source.render(\"my_tree\")"
      ],
      "metadata": {
        "id": "txRIjYMcqCet",
        "colab": {
          "base_uri": "https://localhost:8080/",
          "height": 35
        },
        "outputId": "a119cf59-550a-4b29-e543-ed1976204639"
      },
      "execution_count": 186,
      "outputs": [
        {
          "output_type": "execute_result",
          "data": {
            "text/plain": [
              "'my_tree.pdf'"
            ],
            "application/vnd.google.colaboratory.intrinsic+json": {
              "type": "string"
            }
          },
          "metadata": {},
          "execution_count": 186
        }
      ]
    },
    {
      "cell_type": "markdown",
      "source": [
        "## KNN Classifications\n"
      ],
      "metadata": {
        "id": "N1cBAGU9169d"
      }
    },
    {
      "cell_type": "code",
      "source": [
        "from sklearn.neighbors import KNeighborsClassifier\n",
        "from sklearn.metrics import accuracy_score\n",
        "from sklearn.model_selection import cross_val_score\n",
        "import numpy as np"
      ],
      "metadata": {
        "id": "CKu56zhD1-gm"
      },
      "execution_count": 187,
      "outputs": []
    },
    {
      "cell_type": "markdown",
      "source": [
        "###Evaluate with test set\n"
      ],
      "metadata": {
        "id": "AR_JyGuva5xT"
      }
    },
    {
      "cell_type": "code",
      "source": [
        "knn1 = KNeighborsClassifier(n_neighbors=9, weights='distance') \n",
        "knn1.fit(X_train,y_train)\n",
        "yknn_pred1 = knn1.predict(X_test)\n"
      ],
      "metadata": {
        "id": "WFtfJ-MwRiQT"
      },
      "execution_count": 188,
      "outputs": []
    },
    {
      "cell_type": "code",
      "source": [
        "from sklearn.metrics import accuracy_score\n",
        "# Assume y_true and y_pred are the true and predicted labels, respectively\n",
        "knn_score = accuracy_score(y_test, yknn_pred1)\n",
        "# Print the accuracy score\n",
        "print(\" Model KNN n_neighborsne = 9 มีความแม่นยำที่โมเดลทำนาย Churn ของ X_test =\", knn_score )"
      ],
      "metadata": {
        "colab": {
          "base_uri": "https://localhost:8080/"
        },
        "id": "DeLWSZ1dRs99",
        "outputId": "8ad245d2-17de-40c9-ccb5-97ce3cac1385"
      },
      "execution_count": 189,
      "outputs": [
        {
          "output_type": "stream",
          "name": "stdout",
          "text": [
            " Model KNN n_neighborsne = 9 มีความแม่นยำที่โมเดลทำนาย Churn ของ X_test = 0.8590704647676162\n"
          ]
        }
      ]
    },
    {
      "cell_type": "markdown",
      "source": [
        "- โค้ดนี้เป็นการฝึกและใช้งานโมเดล KNN ด้วยการกำหนด hyperparameters =13 \n",
        "- ใช้ X_train และ y_train เพื่อฝึกโมเดล \n",
        "- ทดสอบโมเดลด้วยชุดข้อมูล X_test และ y_test\n",
        "- แสดงผลลัพธ์เป็น yknn_pred1 ซึ่งเป็นค่าที่โมเดลทำนาย Churn ของ X_test ออกมาได้"
      ],
      "metadata": {
        "id": "GOfeyptW-1fh"
      }
    },
    {
      "cell_type": "markdown",
      "source": [
        "## Navie Bays\n",
        "- Naive Bayes Classification เป็น Model ใช้ในการแบ่งกลุ่มหรือหาเหตุการณ์ที่จะเกิดขึ้น ซึ่ง Target ของโมเดลจะเพิ่มโอกาสในการเกิดเหตุการณ์เข้าไป\n",
        "\n",
        "- การปรับปรุงประสิทธิภาพการจัดประเภท คุณสามารถลองใช้ตัวแยกประเภท GaussianNB แทน ซึ่งเหมาะสำหรับข้อมูลที่ต่อเนื่องมากกว่า"
      ],
      "metadata": {
        "id": "ORcUYcQOQ8Js"
      }
    },
    {
      "cell_type": "code",
      "source": [
        "from sklearn.naive_bayes import MultinomialNB, GaussianNB\n",
        "from sklearn.preprocessing import StandardScaler\n",
        "from sklearn.metrics import f1_score, recall_score"
      ],
      "metadata": {
        "id": "PhUPFI8XRAcs"
      },
      "execution_count": 190,
      "outputs": []
    },
    {
      "cell_type": "code",
      "source": [
        "gnb = GaussianNB()\n",
        "gnb.fit(X_train, y_train)\n",
        "y_pred0 = gnb.predict(X_test)\n",
        "gnb_score0 = gnb.score(X_test, y_test)\n",
        "gnb_score0\n",
        "f1 = f1_score(y_test, y_pred0)\n",
        "recall = recall_score(y_test, y_pred0)\n",
        "\n",
        "print(\"โมเดล GaussianNB ได้ค่าทำนาย =\", gnb_score0)\n",
        "print(\"F1 ได้ค่าเฉลี่ยของความแม่นยำของการทำนาย =\", f1) #(มีค่าระหว่าง 0 ถึง 1 ค่าที่มากกว่าแสดงว่าโมเดลสามารถทำนายได้ดีมากขึ้น)\n",
        "print(\"Recall ได้ค่าสัมประสิทธิ์การทำนายความถูกต้องของโมเดล =\", recall) #(มีค่าระหว่าง 0 ถึง 1 ค่าที่มากกว่าแสดงว่าโมเดลสามารถทำนายได้ดีมากขึ้น)"
      ],
      "metadata": {
        "id": "MLJyqlvre3qH",
        "colab": {
          "base_uri": "https://localhost:8080/"
        },
        "outputId": "de60eeba-dc65-4adf-9036-60c120c8b62d"
      },
      "execution_count": 191,
      "outputs": [
        {
          "output_type": "stream",
          "name": "stdout",
          "text": [
            "โมเดล GaussianNB ได้ค่าทำนาย = 0.5922038980509745\n",
            "F1 ได้ค่าเฉลี่ยของความแม่นยำของการทำนาย = 0.26881720430107525\n",
            "Recall ได้ค่าสัมประสิทธิ์การทำนายความถูกต้องของโมเดล = 0.5263157894736842\n"
          ]
        }
      ]
    },
    {
      "cell_type": "markdown",
      "source": [
        "- เนื่องจากOutput gnb_score1 มีค่าน้อยมาก = 0.636, 63%\n",
        "- ทำให้ต้องมีการรวิเคราะห์สหสัมพันธ์ : แต่ละรายการกับตัวแปรเป้าหมาย = corr\n",
        "- มองหา freatures ที่มี corr. กับ target สูงๆ ใช้ทำนายในโมเดลนี้ =\n",
        "- [\"Total day minute\"], [\"Total Day Charge\"], [\"Customer Service Call\"]"
      ],
      "metadata": {
        "id": "tTD8yrSZkW8v"
      }
    },
    {
      "cell_type": "markdown",
      "source": [
        "####ปรับปรุงโมเดล Naviy Bay "
      ],
      "metadata": {
        "id": "C9vlVJOGgHG_"
      }
    },
    {
      "cell_type": "code",
      "source": [
        "X_train_Corr  = data1_en_train[['Total day minutes','Total day charge','Customer service calls']] # เลือกคอลัมน์ 3 คอลัมน์มาทำ Model เพราะ มีค่า Corr ดีสุด\n",
        "y_train_Corr  = data1_en_train[['Churn']]\n",
        "X_test_Corr   = data2_en_test[['Total day minutes','Total day charge','Customer service calls']]\n",
        "y_test_Corr   = data2_en_test[['Churn']]"
      ],
      "metadata": {
        "id": "jri6j88pPwIK"
      },
      "execution_count": 192,
      "outputs": []
    },
    {
      "cell_type": "code",
      "source": [
        "gnb = GaussianNB()\n",
        "gnb.fit(X_train_Corr, y_train_Corr)\n",
        "y_pred = gnb.predict(X_test_Corr)\n",
        "\n",
        "gnb_score = gnb.score(X_test_Corr, y_test_Corr)\n",
        "f1 = f1_score(y_test_Corr, y_pred)\n",
        "recall = recall_score(y_test_Corr, y_pred)\n",
        "\n",
        "print(\"โมเดล GaussianNB ได้ค่าทำนาย =\", gnb_score)\n",
        "print(\"F1 ได้ค่าเฉลี่ยของความแม่นยำของการทำนาย =\", f1) #(มีค่าระหว่าง 0 ถึง 1 ค่าที่มากกว่าแสดงว่าโมเดลสามารถทำนายได้ดีมากขึ้น)\n",
        "print(\"Recall ได้ค่าสัมประสิทธิ์การทำนายความถูกต้องของโมเดล =\", recall) #(มีค่าระหว่าง 0 ถึง 1 ค่าที่มากกว่าแสดงว่าโมเดลสามารถทำนายได้ดีมากขึ้น)"
      ],
      "metadata": {
        "colab": {
          "base_uri": "https://localhost:8080/"
        },
        "id": "e3AnhY6_QHM2",
        "outputId": "0faca9d9-8e2f-4f2b-bf68-04fef73bdd79"
      },
      "execution_count": 193,
      "outputs": [
        {
          "output_type": "stream",
          "name": "stdout",
          "text": [
            "โมเดล GaussianNB ได้ค่าทำนาย = 0.8740629685157422\n",
            "F1 ได้ค่าเฉลี่ยของความแม่นยำของการทำนาย = 0.46835443037974683\n",
            "Recall ได้ค่าสัมประสิทธิ์การทำนายความถูกต้องของโมเดล = 0.3894736842105263\n"
          ]
        }
      ]
    },
    {
      "cell_type": "code",
      "source": [
        "# Initialize figure\n",
        "fig, ax = plt.subplots()\n",
        "fig.set_figheight(7)\n",
        "fig.set_figwidth(14)\n",
        "fig.set_facecolor('white')\n",
        "\n",
        "# Set bar size\n",
        "barWidth = 0.2\n",
        "DT_score = 0.94 # replace with your Decision Tree accuracy\n",
        "gnb_score = 0.87 # replace with your Naive Bayes accuracy\n",
        "knn_score = 0.85 # replace with your K-Nearest Neighbors accuracy\n",
        "\n",
        "# Set position of bar on X axis\n",
        "r1 = np.arange(1)\n",
        "r2 = [x + barWidth for x in r1]\n",
        "r3 = [x + barWidth for x in r2]\n",
        "\n",
        "# Make the plot\n",
        "ax.bar(r1, [DT_score], width=barWidth, edgecolor='white', color='red')\n",
        "ax.bar(r2, [gnb_score], width=barWidth, edgecolor='white', color='green')\n",
        "ax.bar(r3, [knn_score], width=barWidth, edgecolor='white', color='blue')\n",
        "\n",
        "# Configure x and y axis\n",
        "ax.set_xlabel('Metrics', fontweight='bold')\n",
        "labels = ['Accuracy']\n",
        "ax.set_xticks([r + (barWidth * 1) for r in range(1)], )\n",
        "ax.set_xticklabels(labels)\n",
        "ax.set_ylabel('Score', fontweight='bold')\n",
        "ax.set_ylim(0, 1)\n",
        "\n",
        "# Create legend & title\n",
        "ax.set_title('Model Comparison', fontsize=16, fontweight='bold')\n",
        "ax.legend(['Decision Tree', 'Naive Bayes', 'K-Nearest Neighbors'], loc='upper right')\n"
      ],
      "metadata": {
        "colab": {
          "base_uri": "https://localhost:8080/",
          "height": 477
        },
        "id": "i0898YGQzJ01",
        "outputId": "45a8a609-65bf-45a3-9150-4527b3b04975"
      },
      "execution_count": 195,
      "outputs": [
        {
          "output_type": "execute_result",
          "data": {
            "text/plain": [
              "<matplotlib.legend.Legend at 0x7f0a5dad9a90>"
            ]
          },
          "metadata": {},
          "execution_count": 195
        },
        {
          "output_type": "display_data",
          "data": {
            "text/plain": [
              "<Figure size 1008x504 with 1 Axes>"
            ],
            "image/png": "[encoded data removed]"
          },
          "metadata": {}
        }
      ]
    },
    {
      "cell_type": "markdown",
      "source": [
        "## สรุปจากการคำนวณความแม่นยำของโมเดล\n",
        "- Model DecisionTree\n",
        "ได้ค่า Accuracy เท่ากับ 0.9460269865067467\n",
        "\n",
        "- KNeighbors\n",
        "Model ที่ดีที่สุดคือ K=9, weighted='distance' \n",
        "ได้ค่า Accuracy เท่ากับ 0.8590704647676162\n",
        "\n",
        "- NaiveBayes\n",
        "ได่ค่า Accuracy เท่ากับ 0.8740629685157422\n",
        "\n",
        "จึงสรุปว่า\n",
        "เลือกใช้โมเดลที่ดีที่สุดคือ DecisionTree Accuracy ค่า Accuracy เท่ากับ 0.95 หรือ 95%"
      ],
      "metadata": {
        "id": "hE_5fi04cYJz"
      }
    },
    {
      "cell_type": "markdown",
      "source": [
        "#Association rules"
      ],
      "metadata": {
        "id": "_fcGF5nVbZO6"
      }
    },
    {
      "cell_type": "code",
      "source": [
        "!pip install apyori\n",
        "from mlxtend.frequent_patterns import apriori\n",
        "from mlxtend.frequent_patterns import association_rules\n"
      ],
      "metadata": {
        "id": "O5vQQ4uZtCfQ",
        "colab": {
          "base_uri": "https://localhost:8080/"
        },
        "outputId": "065f5738-97ea-4d3b-cbb6-fc5a95f89064"
      },
      "execution_count": 196,
      "outputs": [
        {
          "output_type": "stream",
          "name": "stdout",
          "text": [
            "Looking in indexes: https://pypi.org/simple, https://us-python.pkg.dev/colab-wheels/public/simple/\n",
            "Requirement already satisfied: apyori in /usr/local/lib/python3.9/dist-packages (1.1.2)\n"
          ]
        }
      ]
    },
    {
      "cell_type": "code",
      "source": [
        "data.head()"
      ],
      "metadata": {
        "colab": {
          "base_uri": "https://localhost:8080/",
          "height": 285
        },
        "id": "ftpht4J4g4Ds",
        "outputId": "a0723b2e-0218-46be-a9a8-636fdcd48080"
      },
      "execution_count": 197,
      "outputs": [
        {
          "output_type": "execute_result",
          "data": {
            "text/plain": [
              "  State  Account length  Area code International plan Voice mail plan  \\\n",
              "1    KS             128        415                 No             Yes   \n",
              "2    OH             107        415                 No             Yes   \n",
              "3    NJ             137        415                 No              No   \n",
              "4    OH              84        408                Yes              No   \n",
              "5    OK              75        415                Yes              No   \n",
              "\n",
              "   Number vmail messages  Total day minutes  Total day calls  \\\n",
              "1                     25              265.1              110   \n",
              "2                     26              161.6              123   \n",
              "3                      0              243.4              114   \n",
              "4                      0              299.4               71   \n",
              "5                      0              166.7              113   \n",
              "\n",
              "   Total day charge  Total eve minutes  Total eve calls  Total eve charge  \\\n",
              "1             45.07              197.4               99             16.78   \n",
              "2             27.47              195.5              103             16.62   \n",
              "3             41.38              121.2              110             10.30   \n",
              "4             50.90               61.9               88              5.26   \n",
              "5             28.34              148.3              122             12.61   \n",
              "\n",
              "   Total night minutes  Total night calls  Total night charge  \\\n",
              "1                244.7                 91               11.01   \n",
              "2                254.4                103               11.45   \n",
              "3                162.6                104                7.32   \n",
              "4                196.9                 89                8.86   \n",
              "5                186.9                121                8.41   \n",
              "\n",
              "   Total intl minutes  Total intl calls  Total intl charge  \\\n",
              "1                10.0                 3               2.70   \n",
              "2                13.7                 3               3.70   \n",
              "3                12.2                 5               3.29   \n",
              "4                 6.6                 7               1.78   \n",
              "5                10.1                 3               2.73   \n",
              "\n",
              "   Customer service calls  Churn  \n",
              "1                       1  False  \n",
              "2                       1  False  \n",
              "3                       0  False  \n",
              "4                       2  False  \n",
              "5                       3  False  "
            ],
            "text/html": [
              "\n",
              "  <div id=\"df-412d1d83-10ba-48e3-bb38-9928af5d34fa\">\n",
              "    <div class=\"colab-df-container\">\n",
              "      <div>\n",
              "<style scoped>\n",
              "    .dataframe tbody tr th:only-of-type {\n",
              "        vertical-align: middle;\n",
              "    }\n",
              "\n",
              "    .dataframe tbody tr th {\n",
              "        vertical-align: top;\n",
              "    }\n",
              "\n",
              "    .dataframe thead th {\n",
              "        text-align: right;\n",
              "    }\n",
              "</style>\n",
              "<table border=\"1\" class=\"dataframe\">\n",
              "  <thead>\n",
              "    <tr style=\"text-align: right;\">\n",
              "      <th></th>\n",
              "      <th>State</th>\n",
              "      <th>Account length</th>\n",
              "      <th>Area code</th>\n",
              "      <th>International plan</th>\n",
              "      <th>Voice mail plan</th>\n",
              "      <th>Number vmail messages</th>\n",
              "      <th>Total day minutes</th>\n",
              "      <th>Total day calls</th>\n",
              "      <th>Total day charge</th>\n",
              "      <th>Total eve minutes</th>\n",
              "      <th>Total eve calls</th>\n",
              "      <th>Total eve charge</th>\n",
              "      <th>Total night minutes</th>\n",
              "      <th>Total night calls</th>\n",
              "      <th>Total night charge</th>\n",
              "      <th>Total intl minutes</th>\n",
              "      <th>Total intl calls</th>\n",
              "      <th>Total intl charge</th>\n",
              "      <th>Customer service calls</th>\n",
              "      <th>Churn</th>\n",
              "    </tr>\n",
              "  </thead>\n",
              "  <tbody>\n",
              "    <tr>\n",
              "      <th>1</th>\n",
              "      <td>KS</td>\n",
              "      <td>128</td>\n",
              "      <td>415</td>\n",
              "      <td>No</td>\n",
              "      <td>Yes</td>\n",
              "      <td>25</td>\n",
              "      <td>265.1</td>\n",
              "      <td>110</td>\n",
              "      <td>45.07</td>\n",
              "      <td>197.4</td>\n",
              "      <td>99</td>\n",
              "      <td>16.78</td>\n",
              "      <td>244.7</td>\n",
              "      <td>91</td>\n",
              "      <td>11.01</td>\n",
              "      <td>10.0</td>\n",
              "      <td>3</td>\n",
              "      <td>2.70</td>\n",
              "      <td>1</td>\n",
              "      <td>False</td>\n",
              "    </tr>\n",
              "    <tr>\n",
              "      <th>2</th>\n",
              "      <td>OH</td>\n",
              "      <td>107</td>\n",
              "      <td>415</td>\n",
              "      <td>No</td>\n",
              "      <td>Yes</td>\n",
              "      <td>26</td>\n",
              "      <td>161.6</td>\n",
              "      <td>123</td>\n",
              "      <td>27.47</td>\n",
              "      <td>195.5</td>\n",
              "      <td>103</td>\n",
              "      <td>16.62</td>\n",
              "      <td>254.4</td>\n",
              "      <td>103</td>\n",
              "      <td>11.45</td>\n",
              "      <td>13.7</td>\n",
              "      <td>3</td>\n",
              "      <td>3.70</td>\n",
              "      <td>1</td>\n",
              "      <td>False</td>\n",
              "    </tr>\n",
              "    <tr>\n",
              "      <th>3</th>\n",
              "      <td>NJ</td>\n",
              "      <td>137</td>\n",
              "      <td>415</td>\n",
              "      <td>No</td>\n",
              "      <td>No</td>\n",
              "      <td>0</td>\n",
              "      <td>243.4</td>\n",
              "      <td>114</td>\n",
              "      <td>41.38</td>\n",
              "      <td>121.2</td>\n",
              "      <td>110</td>\n",
              "      <td>10.30</td>\n",
              "      <td>162.6</td>\n",
              "      <td>104</td>\n",
              "      <td>7.32</td>\n",
              "      <td>12.2</td>\n",
              "      <td>5</td>\n",
              "      <td>3.29</td>\n",
              "      <td>0</td>\n",
              "      <td>False</td>\n",
              "    </tr>\n",
              "    <tr>\n",
              "      <th>4</th>\n",
              "      <td>OH</td>\n",
              "      <td>84</td>\n",
              "      <td>408</td>\n",
              "      <td>Yes</td>\n",
              "      <td>No</td>\n",
              "      <td>0</td>\n",
              "      <td>299.4</td>\n",
              "      <td>71</td>\n",
              "      <td>50.90</td>\n",
              "      <td>61.9</td>\n",
              "      <td>88</td>\n",
              "      <td>5.26</td>\n",
              "      <td>196.9</td>\n",
              "      <td>89</td>\n",
              "      <td>8.86</td>\n",
              "      <td>6.6</td>\n",
              "      <td>7</td>\n",
              "      <td>1.78</td>\n",
              "      <td>2</td>\n",
              "      <td>False</td>\n",
              "    </tr>\n",
              "    <tr>\n",
              "      <th>5</th>\n",
              "      <td>OK</td>\n",
              "      <td>75</td>\n",
              "      <td>415</td>\n",
              "      <td>Yes</td>\n",
              "      <td>No</td>\n",
              "      <td>0</td>\n",
              "      <td>166.7</td>\n",
              "      <td>113</td>\n",
              "      <td>28.34</td>\n",
              "      <td>148.3</td>\n",
              "      <td>122</td>\n",
              "      <td>12.61</td>\n",
              "      <td>186.9</td>\n",
              "      <td>121</td>\n",
              "      <td>8.41</td>\n",
              "      <td>10.1</td>\n",
              "      <td>3</td>\n",
              "      <td>2.73</td>\n",
              "      <td>3</td>\n",
              "      <td>False</td>\n",
              "    </tr>\n",
              "  </tbody>\n",
              "</table>\n",
              "</div>\n",
              "      <button class=\"colab-df-convert\" onclick=\"convertToInteractive('df-412d1d83-10ba-48e3-bb38-9928af5d34fa')\"\n",
              "              title=\"Convert this dataframe to an interactive table.\"\n",
              "              style=\"display:none;\">\n",
              "        \n",
              "  <svg xmlns=\"http://www.w3.org/2000/svg\" height=\"24px\"viewBox=\"0 0 24 24\"\n",
              "       width=\"24px\">\n",
              "    <path d=\"M0 0h24v24H0V0z\" fill=\"none\"/>\n",
              "    <path d=\"M18.56 5.44l.94 2.06.94-2.06 2.06-.94-2.06-.94-.94-2.06-.94 2.06-2.06.94zm-11 1L8.5 8.5l.94-2.06 2.06-.94-2.06-.94L8.5 2.5l-.94 2.06-2.06.94zm10 10l.94 2.06.94-2.06 2.06-.94-2.06-.94-.94-2.06-.94 2.06-2.06.94z\"/><path d=\"M17.41 7.96l-1.37-1.37c-.4-.4-.92-.59-1.43-.59-.52 0-1.04.2-1.43.59L10.3 9.45l-7.72 7.72c-.78.78-.78 2.05 0 2.83L4 21.41c.39.39.9.59 1.41.59.51 0 1.02-.2 1.41-.59l7.78-7.78 2.81-2.81c.8-.78.8-2.07 0-2.86zM5.41 20L4 18.59l7.72-7.72 1.47 1.35L5.41 20z\"/>\n",
              "  </svg>\n",
              "      </button>\n",
              "      \n",
              "  <style>\n",
              "    .colab-df-container {\n",
              "      display:flex;\n",
              "      flex-wrap:wrap;\n",
              "      gap: 12px;\n",
              "    }\n",
              "\n",
              "    .colab-df-convert {\n",
              "      background-color: #E8F0FE;\n",
              "      border: none;\n",
              "      border-radius: 50%;\n",
              "      cursor: pointer;\n",
              "      display: none;\n",
              "      fill: #1967D2;\n",
              "      height: 32px;\n",
              "      padding: 0 0 0 0;\n",
              "      width: 32px;\n",
              "    }\n",
              "\n",
              "    .colab-df-convert:hover {\n",
              "      background-color: #E2EBFA;\n",
              "      box-shadow: 0px 1px 2px rgba(60, 64, 67, 0.3), 0px 1px 3px 1px rgba(60, 64, 67, 0.15);\n",
              "      fill: #174EA6;\n",
              "    }\n",
              "\n",
              "    [theme=dark] .colab-df-convert {\n",
              "      background-color: #3B4455;\n",
              "      fill: #D2E3FC;\n",
              "    }\n",
              "\n",
              "    [theme=dark] .colab-df-convert:hover {\n",
              "      background-color: #434B5C;\n",
              "      box-shadow: 0px 1px 3px 1px rgba(0, 0, 0, 0.15);\n",
              "      filter: drop-shadow(0px 1px 2px rgba(0, 0, 0, 0.3));\n",
              "      fill: #FFFFFF;\n",
              "    }\n",
              "  </style>\n",
              "\n",
              "      <script>\n",
              "        const buttonEl =\n",
              "          document.querySelector('#df-412d1d83-10ba-48e3-bb38-9928af5d34fa button.colab-df-convert');\n",
              "        buttonEl.style.display =\n",
              "          google.colab.kernel.accessAllowed ? 'block' : 'none';\n",
              "\n",
              "        async function convertToInteractive(key) {\n",
              "          const element = document.querySelector('#df-412d1d83-10ba-48e3-bb38-9928af5d34fa');\n",
              "          const dataTable =\n",
              "            await google.colab.kernel.invokeFunction('convertToInteractive',\n",
              "                                                     [key], {});\n",
              "          if (!dataTable) return;\n",
              "\n",
              "          const docLinkHtml = 'Like what you see? Visit the ' +\n",
              "            '<a target=\"_blank\" href=https://colab.research.google.com/notebooks/data_table.ipynb>data table notebook</a>'\n",
              "            + ' to learn more about interactive tables.';\n",
              "          element.innerHTML = '';\n",
              "          dataTable['output_type'] = 'display_data';\n",
              "          await google.colab.output.renderOutput(dataTable, element);\n",
              "          const docLink = document.createElement('div');\n",
              "          docLink.innerHTML = docLinkHtml;\n",
              "          element.appendChild(docLink);\n",
              "        }\n",
              "      </script>\n",
              "    </div>\n",
              "  </div>\n",
              "  "
            ]
          },
          "metadata": {},
          "execution_count": 197
        }
      ]
    },
    {
      "cell_type": "code",
      "source": [
        "data[\"Churn\"] = data[\"Churn\"].replace({True: 1, False: 0})\n",
        "dataAZ1 = data.copy()\n",
        "dataAZ1['total_call_all_day'] = dataAZ1['Total day minutes'] + dataAZ1['Total eve minutes'] + dataAZ1['Total night minutes']\n",
        "dataAZ1 = dataAZ1[['total_call_all_day','Churn']]\n",
        "dataAZ1.head()"
      ],
      "metadata": {
        "id": "zlwrtXlG3RaF",
        "colab": {
          "base_uri": "https://localhost:8080/",
          "height": 206
        },
        "outputId": "2dc03342-3436-45e0-8888-d5f6aff63e6d"
      },
      "execution_count": 198,
      "outputs": [
        {
          "output_type": "execute_result",
          "data": {
            "text/plain": [
              "   total_call_all_day  Churn\n",
              "1               707.2      0\n",
              "2               611.5      0\n",
              "3               527.2      0\n",
              "4               558.2      0\n",
              "5               501.9      0"
            ],
            "text/html": [
              "\n",
              "  <div id=\"df-f80d1fc1-3295-4477-8f66-a4089762baea\">\n",
              "    <div class=\"colab-df-container\">\n",
              "      <div>\n",
              "<style scoped>\n",
              "    .dataframe tbody tr th:only-of-type {\n",
              "        vertical-align: middle;\n",
              "    }\n",
              "\n",
              "    .dataframe tbody tr th {\n",
              "        vertical-align: top;\n",
              "    }\n",
              "\n",
              "    .dataframe thead th {\n",
              "        text-align: right;\n",
              "    }\n",
              "</style>\n",
              "<table border=\"1\" class=\"dataframe\">\n",
              "  <thead>\n",
              "    <tr style=\"text-align: right;\">\n",
              "      <th></th>\n",
              "      <th>total_call_all_day</th>\n",
              "      <th>Churn</th>\n",
              "    </tr>\n",
              "  </thead>\n",
              "  <tbody>\n",
              "    <tr>\n",
              "      <th>1</th>\n",
              "      <td>707.2</td>\n",
              "      <td>0</td>\n",
              "    </tr>\n",
              "    <tr>\n",
              "      <th>2</th>\n",
              "      <td>611.5</td>\n",
              "      <td>0</td>\n",
              "    </tr>\n",
              "    <tr>\n",
              "      <th>3</th>\n",
              "      <td>527.2</td>\n",
              "      <td>0</td>\n",
              "    </tr>\n",
              "    <tr>\n",
              "      <th>4</th>\n",
              "      <td>558.2</td>\n",
              "      <td>0</td>\n",
              "    </tr>\n",
              "    <tr>\n",
              "      <th>5</th>\n",
              "      <td>501.9</td>\n",
              "      <td>0</td>\n",
              "    </tr>\n",
              "  </tbody>\n",
              "</table>\n",
              "</div>\n",
              "      <button class=\"colab-df-convert\" onclick=\"convertToInteractive('df-f80d1fc1-3295-4477-8f66-a4089762baea')\"\n",
              "              title=\"Convert this dataframe to an interactive table.\"\n",
              "              style=\"display:none;\">\n",
              "        \n",
              "  <svg xmlns=\"http://www.w3.org/2000/svg\" height=\"24px\"viewBox=\"0 0 24 24\"\n",
              "       width=\"24px\">\n",
              "    <path d=\"M0 0h24v24H0V0z\" fill=\"none\"/>\n",
              "    <path d=\"M18.56 5.44l.94 2.06.94-2.06 2.06-.94-2.06-.94-.94-2.06-.94 2.06-2.06.94zm-11 1L8.5 8.5l.94-2.06 2.06-.94-2.06-.94L8.5 2.5l-.94 2.06-2.06.94zm10 10l.94 2.06.94-2.06 2.06-.94-2.06-.94-.94-2.06-.94 2.06-2.06.94z\"/><path d=\"M17.41 7.96l-1.37-1.37c-.4-.4-.92-.59-1.43-.59-.52 0-1.04.2-1.43.59L10.3 9.45l-7.72 7.72c-.78.78-.78 2.05 0 2.83L4 21.41c.39.39.9.59 1.41.59.51 0 1.02-.2 1.41-.59l7.78-7.78 2.81-2.81c.8-.78.8-2.07 0-2.86zM5.41 20L4 18.59l7.72-7.72 1.47 1.35L5.41 20z\"/>\n",
              "  </svg>\n",
              "      </button>\n",
              "      \n",
              "  <style>\n",
              "    .colab-df-container {\n",
              "      display:flex;\n",
              "      flex-wrap:wrap;\n",
              "      gap: 12px;\n",
              "    }\n",
              "\n",
              "    .colab-df-convert {\n",
              "      background-color: #E8F0FE;\n",
              "      border: none;\n",
              "      border-radius: 50%;\n",
              "      cursor: pointer;\n",
              "      display: none;\n",
              "      fill: #1967D2;\n",
              "      height: 32px;\n",
              "      padding: 0 0 0 0;\n",
              "      width: 32px;\n",
              "    }\n",
              "\n",
              "    .colab-df-convert:hover {\n",
              "      background-color: #E2EBFA;\n",
              "      box-shadow: 0px 1px 2px rgba(60, 64, 67, 0.3), 0px 1px 3px 1px rgba(60, 64, 67, 0.15);\n",
              "      fill: #174EA6;\n",
              "    }\n",
              "\n",
              "    [theme=dark] .colab-df-convert {\n",
              "      background-color: #3B4455;\n",
              "      fill: #D2E3FC;\n",
              "    }\n",
              "\n",
              "    [theme=dark] .colab-df-convert:hover {\n",
              "      background-color: #434B5C;\n",
              "      box-shadow: 0px 1px 3px 1px rgba(0, 0, 0, 0.15);\n",
              "      filter: drop-shadow(0px 1px 2px rgba(0, 0, 0, 0.3));\n",
              "      fill: #FFFFFF;\n",
              "    }\n",
              "  </style>\n",
              "\n",
              "      <script>\n",
              "        const buttonEl =\n",
              "          document.querySelector('#df-f80d1fc1-3295-4477-8f66-a4089762baea button.colab-df-convert');\n",
              "        buttonEl.style.display =\n",
              "          google.colab.kernel.accessAllowed ? 'block' : 'none';\n",
              "\n",
              "        async function convertToInteractive(key) {\n",
              "          const element = document.querySelector('#df-f80d1fc1-3295-4477-8f66-a4089762baea');\n",
              "          const dataTable =\n",
              "            await google.colab.kernel.invokeFunction('convertToInteractive',\n",
              "                                                     [key], {});\n",
              "          if (!dataTable) return;\n",
              "\n",
              "          const docLinkHtml = 'Like what you see? Visit the ' +\n",
              "            '<a target=\"_blank\" href=https://colab.research.google.com/notebooks/data_table.ipynb>data table notebook</a>'\n",
              "            + ' to learn more about interactive tables.';\n",
              "          element.innerHTML = '';\n",
              "          dataTable['output_type'] = 'display_data';\n",
              "          await google.colab.output.renderOutput(dataTable, element);\n",
              "          const docLink = document.createElement('div');\n",
              "          docLink.innerHTML = docLinkHtml;\n",
              "          element.appendChild(docLink);\n",
              "        }\n",
              "      </script>\n",
              "    </div>\n",
              "  </div>\n",
              "  "
            ]
          },
          "metadata": {},
          "execution_count": 198
        }
      ]
    },
    {
      "cell_type": "markdown",
      "source": [
        "### แก้ตาราง ทำช่วง นาที"
      ],
      "metadata": {
        "id": "qGEGmu-IgXdq"
      }
    },
    {
      "cell_type": "code",
      "source": [
        "# create a new column 'total_call_all_day_range'\n",
        "dataAZ1['total_call_all_day_range'] = pd.cut(dataAZ1['total_call_all_day'], [200, 500, 900], labels=['total_call_all_day 201-500', 'total_call_all_day 501-900'])\n",
        "# create dummies\n",
        "dummies = pd.get_dummies(dataAZ1['total_call_all_day_range'])\n",
        "# concatenate dummies with original dataframe\n",
        "dataAZ1 = pd.concat([dataAZ1, dummies], axis=1)\n",
        "dataAZ1 = dataAZ1.drop(['total_call_all_day', 'total_call_all_day_range'], axis=1)\n",
        "dataAZ1 = dataAZ1[['total_call_all_day 201-500', 'total_call_all_day 501-900','Churn']]"
      ],
      "metadata": {
        "id": "nA8trYhmiGJU"
      },
      "execution_count": 199,
      "outputs": []
    },
    {
      "cell_type": "code",
      "source": [
        "# ทำ one-hot encoding กับคอลัมน์ 'total_call_all_day'\n",
        "onehot_data = pd.get_dummies(dataAZ1)\n",
        "\n",
        "# สร้างกฎโดยใช้ apriori algorithm\n",
        "frequent_itemsets = apriori(onehot_data, min_support=0.1, use_colnames=True)\n",
        "\n",
        "# สร้างกฎด้วย association rule\n",
        "rules = association_rules(frequent_itemsets, metric=\"lift\", min_threshold=0)\n",
        "\n",
        "# แสดงผลลัพธ์\n",
        "rules"
      ],
      "metadata": {
        "colab": {
          "base_uri": "https://localhost:8080/",
          "height": 112
        },
        "id": "UmUbjR-slDPZ",
        "outputId": "0e57ef93-8d5b-4b0f-d32e-976dc641f8e9"
      },
      "execution_count": 200,
      "outputs": [
        {
          "output_type": "execute_result",
          "data": {
            "text/plain": [
              "                    antecedents                   consequents  \\\n",
              "0                       (Churn)  (total_call_all_day 501-900)   \n",
              "1  (total_call_all_day 501-900)                       (Churn)   \n",
              "\n",
              "   antecedent support  consequent support   support  confidence     lift  \\\n",
              "0            0.144914            0.816082  0.122712    0.846791  1.03763   \n",
              "1            0.816082            0.144914  0.122712    0.150368  1.03763   \n",
              "\n",
              "   leverage  conviction  \n",
              "0   0.00445    1.200440  \n",
              "1   0.00445    1.006418  "
            ],
            "text/html": [
              "\n",
              "  <div id=\"df-3bb3dd81-ca7e-4b5d-adb9-79ba1ea2fa4e\">\n",
              "    <div class=\"colab-df-container\">\n",
              "      <div>\n",
              "<style scoped>\n",
              "    .dataframe tbody tr th:only-of-type {\n",
              "        vertical-align: middle;\n",
              "    }\n",
              "\n",
              "    .dataframe tbody tr th {\n",
              "        vertical-align: top;\n",
              "    }\n",
              "\n",
              "    .dataframe thead th {\n",
              "        text-align: right;\n",
              "    }\n",
              "</style>\n",
              "<table border=\"1\" class=\"dataframe\">\n",
              "  <thead>\n",
              "    <tr style=\"text-align: right;\">\n",
              "      <th></th>\n",
              "      <th>antecedents</th>\n",
              "      <th>consequents</th>\n",
              "      <th>antecedent support</th>\n",
              "      <th>consequent support</th>\n",
              "      <th>support</th>\n",
              "      <th>confidence</th>\n",
              "      <th>lift</th>\n",
              "      <th>leverage</th>\n",
              "      <th>conviction</th>\n",
              "    </tr>\n",
              "  </thead>\n",
              "  <tbody>\n",
              "    <tr>\n",
              "      <th>0</th>\n",
              "      <td>(Churn)</td>\n",
              "      <td>(total_call_all_day 501-900)</td>\n",
              "      <td>0.144914</td>\n",
              "      <td>0.816082</td>\n",
              "      <td>0.122712</td>\n",
              "      <td>0.846791</td>\n",
              "      <td>1.03763</td>\n",
              "      <td>0.00445</td>\n",
              "      <td>1.200440</td>\n",
              "    </tr>\n",
              "    <tr>\n",
              "      <th>1</th>\n",
              "      <td>(total_call_all_day 501-900)</td>\n",
              "      <td>(Churn)</td>\n",
              "      <td>0.816082</td>\n",
              "      <td>0.144914</td>\n",
              "      <td>0.122712</td>\n",
              "      <td>0.150368</td>\n",
              "      <td>1.03763</td>\n",
              "      <td>0.00445</td>\n",
              "      <td>1.006418</td>\n",
              "    </tr>\n",
              "  </tbody>\n",
              "</table>\n",
              "</div>\n",
              "      <button class=\"colab-df-convert\" onclick=\"convertToInteractive('df-3bb3dd81-ca7e-4b5d-adb9-79ba1ea2fa4e')\"\n",
              "              title=\"Convert this dataframe to an interactive table.\"\n",
              "              style=\"display:none;\">\n",
              "        \n",
              "  <svg xmlns=\"http://www.w3.org/2000/svg\" height=\"24px\"viewBox=\"0 0 24 24\"\n",
              "       width=\"24px\">\n",
              "    <path d=\"M0 0h24v24H0V0z\" fill=\"none\"/>\n",
              "    <path d=\"M18.56 5.44l.94 2.06.94-2.06 2.06-.94-2.06-.94-.94-2.06-.94 2.06-2.06.94zm-11 1L8.5 8.5l.94-2.06 2.06-.94-2.06-.94L8.5 2.5l-.94 2.06-2.06.94zm10 10l.94 2.06.94-2.06 2.06-.94-2.06-.94-.94-2.06-.94 2.06-2.06.94z\"/><path d=\"M17.41 7.96l-1.37-1.37c-.4-.4-.92-.59-1.43-.59-.52 0-1.04.2-1.43.59L10.3 9.45l-7.72 7.72c-.78.78-.78 2.05 0 2.83L4 21.41c.39.39.9.59 1.41.59.51 0 1.02-.2 1.41-.59l7.78-7.78 2.81-2.81c.8-.78.8-2.07 0-2.86zM5.41 20L4 18.59l7.72-7.72 1.47 1.35L5.41 20z\"/>\n",
              "  </svg>\n",
              "      </button>\n",
              "      \n",
              "  <style>\n",
              "    .colab-df-container {\n",
              "      display:flex;\n",
              "      flex-wrap:wrap;\n",
              "      gap: 12px;\n",
              "    }\n",
              "\n",
              "    .colab-df-convert {\n",
              "      background-color: #E8F0FE;\n",
              "      border: none;\n",
              "      border-radius: 50%;\n",
              "      cursor: pointer;\n",
              "      display: none;\n",
              "      fill: #1967D2;\n",
              "      height: 32px;\n",
              "      padding: 0 0 0 0;\n",
              "      width: 32px;\n",
              "    }\n",
              "\n",
              "    .colab-df-convert:hover {\n",
              "      background-color: #E2EBFA;\n",
              "      box-shadow: 0px 1px 2px rgba(60, 64, 67, 0.3), 0px 1px 3px 1px rgba(60, 64, 67, 0.15);\n",
              "      fill: #174EA6;\n",
              "    }\n",
              "\n",
              "    [theme=dark] .colab-df-convert {\n",
              "      background-color: #3B4455;\n",
              "      fill: #D2E3FC;\n",
              "    }\n",
              "\n",
              "    [theme=dark] .colab-df-convert:hover {\n",
              "      background-color: #434B5C;\n",
              "      box-shadow: 0px 1px 3px 1px rgba(0, 0, 0, 0.15);\n",
              "      filter: drop-shadow(0px 1px 2px rgba(0, 0, 0, 0.3));\n",
              "      fill: #FFFFFF;\n",
              "    }\n",
              "  </style>\n",
              "\n",
              "      <script>\n",
              "        const buttonEl =\n",
              "          document.querySelector('#df-3bb3dd81-ca7e-4b5d-adb9-79ba1ea2fa4e button.colab-df-convert');\n",
              "        buttonEl.style.display =\n",
              "          google.colab.kernel.accessAllowed ? 'block' : 'none';\n",
              "\n",
              "        async function convertToInteractive(key) {\n",
              "          const element = document.querySelector('#df-3bb3dd81-ca7e-4b5d-adb9-79ba1ea2fa4e');\n",
              "          const dataTable =\n",
              "            await google.colab.kernel.invokeFunction('convertToInteractive',\n",
              "                                                     [key], {});\n",
              "          if (!dataTable) return;\n",
              "\n",
              "          const docLinkHtml = 'Like what you see? Visit the ' +\n",
              "            '<a target=\"_blank\" href=https://colab.research.google.com/notebooks/data_table.ipynb>data table notebook</a>'\n",
              "            + ' to learn more about interactive tables.';\n",
              "          element.innerHTML = '';\n",
              "          dataTable['output_type'] = 'display_data';\n",
              "          await google.colab.output.renderOutput(dataTable, element);\n",
              "          const docLink = document.createElement('div');\n",
              "          docLink.innerHTML = docLinkHtml;\n",
              "          element.appendChild(docLink);\n",
              "        }\n",
              "      </script>\n",
              "    </div>\n",
              "  </div>\n",
              "  "
            ]
          },
          "metadata": {},
          "execution_count": 200
        }
      ]
    },
    {
      "cell_type": "markdown",
      "source": [
        "- antecedents คือ สิ่งที่เป็นก่อนหน้า (antecedent) ใน association rule นั้นๆ ซึ่งอาจเป็นสินค้าหรือคุณลักษณะที่ต้องการตรวจสอบว่าเมื่อมีการเลือกหนึ่งสิ่งนั้น สิ่งอื่นๆ จะเกิดขึ้นตามมา\n",
        "- consequents คือ สิ่งที่ตามมา (consequent) ใน association rule นั้นๆ ซึ่งอาจเป็นสินค้าหรือคุณลักษณะที่เกิดขึ้นตามจากสิ่งที่เป็นก่อนหน้านั้น\n",
        "- antecedent support คือ ความน่าจะเป็นของข้อมูลในชุดข้อมูลทั้งหมดที่มีคุณลักษณะตรงกับ antecedents\n",
        "- consequent support คือ ความน่าจะเป็นของข้อมูลในชุดข้อมูลทั้งหมดที่มีคุณลักษณะตรงกับ consequents\n",
        "- support คือ ความน่าจะเป็นของข้อมูลในชุดข้อมูลทั้งหมดที่มีคุณลักษณะตรงกับ antecedents และ consequents พร้อมกัน\n",
        "- confidence คือ ความน่าจะเป็นที่ consequents จะเกิดขึ้น โดยที่ antecedents เป็นจริง คือค่าเฉพาะกัน (support) ของ antecedents และ consequents ที่เกิดขึ้นพร้อมกัน (support) หารด้วยค่า support ของ antecedents\n",
        "\n",
        "- จะเห็นได้ว่าโอกาสที่ลูกค้าที่มี total_call_all_day อยู่ในช่วง 501-900 จะเป็นลูกค้าที่ยกเลิกบริการ (Churn_1) คือประมาณ 18.40%\n",
        "- จะเห็นได้ว่าโอกาสที่ลูกค้าที่มี total_call_all_day อยู่ในช่วง 501-900 จะเป็นลูกค้าที่ใช้บริการต่อ (Churn_0) Churn_0 คือประมาณ 81.60% "
      ],
      "metadata": {
        "id": "t2aRwV8Yl-GA"
      }
    },
    {
      "cell_type": "markdown",
      "source": [
        "##Clustering K-mean"
      ],
      "metadata": {
        "id": "OSdDz-u_DEd_"
      }
    },
    {
      "cell_type": "code",
      "source": [
        "from sklearn.cluster import KMeans\n",
        "import numpy as np\n",
        "import matplotlib.pyplot as plt\n"
      ],
      "metadata": {
        "id": "V6NdpI6yFHsQ"
      },
      "execution_count": 201,
      "outputs": []
    },
    {
      "cell_type": "markdown",
      "source": [
        "###Prep\n"
      ],
      "metadata": {
        "id": "_1fKcdyyy5Q5"
      }
    },
    {
      "cell_type": "code",
      "source": [
        "from sklearn.preprocessing import LabelEncoder\n",
        "from sklearn.preprocessing import StandardScaler"
      ],
      "metadata": {
        "id": "yLqa_RGDzTiD"
      },
      "execution_count": 202,
      "outputs": []
    },
    {
      "cell_type": "code",
      "source": [
        "col_to_drop = ['State', 'Area code', 'Total day charge', 'Total eve charge', \n",
        "               'Total night charge', 'Total intl charge']"
      ],
      "metadata": {
        "id": "MY8uGXZ0y6QB"
      },
      "execution_count": 203,
      "outputs": []
    },
    {
      "cell_type": "code",
      "source": [
        "data_telcom = data1_train.drop(columns = col_to_drop, axis = 1)\n",
        "data_telcom_test = data2_test.drop(columns = col_to_drop, axis = 1)\n"
      ],
      "metadata": {
        "id": "pRUZG0nsy9EI"
      },
      "execution_count": 204,
      "outputs": []
    },
    {
      "cell_type": "code",
      "source": [
        "target_col = [\"Churn\"]"
      ],
      "metadata": {
        "id": "qVT5cwAXzIW0"
      },
      "execution_count": 205,
      "outputs": []
    },
    {
      "cell_type": "code",
      "source": [
        "#number of levels in feature to be a categorical feature\n",
        "nlevels = 6\n",
        "\n",
        "#Separating categorical and numerical columns\n",
        "#categorical columns\n",
        "cat_cols = list(set(data_telcom.nunique()[data_telcom.nunique()<nlevels].keys().tolist() \n",
        "                    + data_telcom.select_dtypes(include='object').columns.tolist()))\n",
        "cat_cols = [x for x in cat_cols if x not in target_col]\n",
        "#numerical columns\n",
        "num_cols = [x for x in data_telcom.columns if x not in cat_cols + target_col]\n",
        "#Binary columns with 2 values\n",
        "bin_cols = data_telcom.nunique()[data_telcom.nunique() == 2].keys().tolist()\n",
        "#Columns more than 2 values\n",
        "multi_cols = [i for i in cat_cols if i not in bin_cols]\n",
        "\n",
        "#Label encoding Binary columns\n",
        "le = LabelEncoder()\n",
        "for i in bin_cols:\n",
        "    data_telcom[i] = le.fit_transform(data_telcom[i])\n",
        "    data_telcom_test[i] = le.transform(data_telcom_test[i])\n",
        "\n",
        "#combining the train and test datasets\n",
        "trainsize = data_telcom.shape[0]\n",
        "comb = pd.concat((data_telcom, data_telcom_test), sort=False)\n",
        "\n",
        "#Duplicating columns for multi value columns\n",
        "comb = pd.get_dummies(data = comb, columns = multi_cols)\n",
        "\n",
        "#Separating the train and test datasets\n",
        "data_telcom = comb[:trainsize]\n",
        "data_telcom_test = comb[trainsize:]\n",
        "\n",
        "#Scaling Numerical columns\n",
        "std = StandardScaler()\n",
        "scaled = std.fit_transform(data_telcom[num_cols])\n",
        "scaled = pd.DataFrame(scaled, columns=num_cols)\n",
        "\n",
        "scaled_test = std.transform(data_telcom_test[num_cols])\n",
        "scaled_test = pd.DataFrame(scaled_test, columns=num_cols)\n",
        "\n",
        "#dropping original values merging scaled values for numerical columns\n",
        "df_telcom_og = data_telcom.copy()\n",
        "data_telcom = data_telcom.drop(columns = num_cols, axis = 1)\n",
        "data_telcom = data_telcom.merge(scaled, left_index=True, right_index=True, how = \"left\")\n",
        "\n",
        "df_telcom_test_og = data_telcom_test.copy()\n",
        "data_telcom_test = data_telcom_test.drop(columns = num_cols, axis = 1)\n",
        "data_telcom_test = data_telcom_test.merge(scaled_test, left_index=True, right_index=True, how = \"left\")"
      ],
      "metadata": {
        "id": "aZvlz20lzNsi"
      },
      "execution_count": 206,
      "outputs": []
    },
    {
      "cell_type": "code",
      "source": [
        "def pca_scatter(pcadf, targetfeature, targetlabel, color):\n",
        "    tracer = go.Scatter(x = pcadf[pcadf[targetfeature]==targetlabel][\"PC1\"],\n",
        "                        y = pcadf[pcadf[targetfeature]==targetlabel][\"PC2\"],\n",
        "                        name = targetlabel, mode = \"markers\",\n",
        "                        marker = dict(color = color, line = dict(width = .5), symbol = \"diamond-open\"),\n",
        "                       )\n",
        "    return tracer"
      ],
      "metadata": {
        "id": "23mJTRapxnpF"
      },
      "execution_count": 207,
      "outputs": []
    },
    {
      "cell_type": "code",
      "source": [
        "from sklearn.decomposition import PCA\n",
        "pca = PCA(n_components = 2)\n",
        "\n",
        "X = data_telcom[[i for i in data_telcom.columns if i not in target_col]]\n",
        "Y = data_telcom[target_col]\n",
        "\n",
        "principal_components = pca.fit_transform(X)\n",
        "pca_data = pd.DataFrame(principal_components, columns = [\"PC1\", \"PC2\"])\n",
        "pca_data = pca_data.merge(Y, left_index=True, right_index=True, how=\"left\")\n",
        "pca_data[\"Churn\"] = pca_data[\"Churn\"].replace({1: \"Churn\", 0: \"Not churn\"})\n",
        "\n",
        "layout = go.Layout(dict(title = \"Visualizing data with PCA\",\n",
        "                        plot_bgcolor = \"rgb(243,243,243)\",\n",
        "                        paper_bgcolor = \"rgb(243,243,243)\",\n",
        "                        xaxis = dict(gridcolor = 'rgb(255, 255, 255)',\n",
        "                                     title = \"first principal component (PC1)\",\n",
        "                                     zerolinewidth=1, ticklen=5, gridwidth=2),\n",
        "                        yaxis = dict(gridcolor = 'rgb(255, 255, 255)',\n",
        "                                     title = \"second principal component (PC2)\",\n",
        "                                     zerolinewidth=1, ticklen=5, gridwidth=2),\n",
        "                        height = 400\n",
        "                       )\n",
        "                  )\n",
        "trace1 = pca_scatter(pca_data, 'Churn', 'Churn', 'red')\n",
        "trace2 = pca_scatter(pca_data, 'Churn', 'Not churn', 'royalblue')\n",
        "data = [trace2, trace1]\n",
        "fig = go.Figure(data=data, layout=layout)\n",
        "py.iplot(fig)"
      ],
      "metadata": {
        "id": "d8POOymxxxUh",
        "colab": {
          "base_uri": "https://localhost:8080/",
          "height": 417
        },
        "outputId": "0ece5e4a-ff08-4db6-e594-dc509a04b23f"
      },
      "execution_count": 208,
      "outputs": [
        {
          "output_type": "display_data",
          "data": {
            "text/html": [
              "<html>\n",
              "<head><meta charset=\"utf-8\" /></head>\n",
              "<body>\n",
              "    <div>            <script src=\"https://cdnjs.cloudflare.com/ajax/libs/mathjax/2.7.5/MathJax.js?config=TeX-AMS-MML_SVG\"></script><script type=\"text/javascript\">if (window.MathJax && window.MathJax.Hub && window.MathJax.Hub.Config) {window.MathJax.Hub.Config({SVG: {font: \"STIX-Web\"}});}</script>                <script type=\"text/javascript\">window.PlotlyConfig = {MathJaxConfig: 'local'};</script>\n",
              "        <script src=\"https://cdn.plot.ly/plotly-2.18.2.min.js\"></script>                <div id=\"920fe9a3-2608-4301-88a1-a3b0d43e4297\" class=\"plotly-graph-div\" style=\"height:400px; width:100%;\"></div>            <script type=\"text/javascript\">                                    window.PLOTLYENV=window.PLOTLYENV || {};                                    if (document.getElementById(\"920fe9a3-2608-4301-88a1-a3b0d43e4297\")) {                    Plotly.newPlot(                        \"920fe9a3-2608-4301-88a1-a3b0d43e4297\",                        [{\"marker\":{\"color\":\"royalblue\",\"line\":{\"width\":0.5},\"symbol\":\"diamond-open\"},\"mode\":\"markers\",\"name\":\"Not churn\",\"x\":[1.4506972704143068,1.2764409295078767,-0.47483949024844335,-0.4263442645486081,-0.8792815018524391,-0.09532162911863083,1.8174881207267033,-0.5533913502381974,2.5908212202342864,-0.4858387264120687,-0.9592363612120305,-0.6553726048708701,-0.6855963357784617,1.451654545650068,-0.7119611812621016,2.1330254632898025,-0.8109722794357692,-0.40045786132634026,0.07084791855884492,-0.6984372318050135,-0.6796373943553911,2.4950412997721534,-1.0948431173382456,-0.1719590517786212,-0.7791222159457141,-0.4160161559931252,-0.8771755282245629,1.6066110148689536,2.102851389659469,-0.4265795380827529,1.8540577424294857,-0.2371909042436265,-0.9631332574327022,-0.680066243006812,-1.0807402719865704,-0.524666442567572,1.5590949018759626,-0.7278221193314096,0.9434211485365466,-0.6162675937976976,-0.20372528239877635,-0.7811284289855002,-0.49542944256944865,-0.7908107436456505,-0.30627501375268024,-0.8996259034969958,2.0801235090226915,1.0044124036500204,-0.6654801909353594,2.411940058919194,-0.41145451580990927,-0.11061620926006432,-0.8031401076455887,-0.5486642750613456,2.5739318115180323,-0.6810363938747594,-0.5334636928255533,-0.6065132059265413,-0.9550894098926314,-0.47388956507250546,-0.6706747361707314,0.8211252444575801,1.4794394309885703,-0.7350085761586658,1.831378075212983,-0.729679235021606,-0.5894639172326517,-0.40731904632552624,-0.6283570504962995,-0.3468192427147269,-0.8360929634340161,1.0907237493076576,-0.5471962827427582,-0.90033842534316,-0.6533492947055632,0.755232908726202,-0.5378476881405937,-0.24707883550711363,-0.8892266446552233,-0.9572839673583347,-0.5289010911294921,-0.6476502553029954,1.7273417659414505,-0.2099633162505693,1.3802529586812453,-0.7923126202164141,-1.002923399615459,-0.8408324103264813,-0.3935896356229535,-0.9109613623800615,1.8922648105520181,-0.833137721547267,-0.35091245993297027,-1.182230150654313,-0.2884390418555717,-0.9380683945465549,0.9882952571345857,-0.6712923608248651,2.0020392883418756,0.9438389662916912,-0.6179719718108206,2.6471980510851068,1.5953686509810647,-0.3603502025635599,-0.7287393033242163,-0.264161062852805,2.4737957408500257,-0.5336815088211052,0.28794914370571184,-1.1071330992460613,-0.33473452917443486,1.210249866495784,1.2547805656601638,-0.5147721820225672,-0.2392514478232922,2.0762573688391597,-1.143776552874222,-0.8699866203349038,1.8802739747287116,1.7567289198785137,-0.5768641414274132,2.008712896919374,-0.6647552818636664,-0.3604643162388101,-0.3604430512607737,-0.5322751748519436,-0.4833521532330728,-0.6260220340150692,1.0972609568700276,2.428955408745349,-0.3078709014122108,-0.4143312989003211,0.07220886567895803,-0.7627680904701741,-0.7372187615268131,-0.5072697106094728,-0.5194051544018772,-1.1003225197442918,-0.47832431866220326,-0.6489764048398915,1.5424022848943186,1.4056594121548824,-0.2234712340023079,-0.76257638087074,1.0537866050015616,-0.49025328828059894,-0.37645053231454173,-1.0218978614139276,-0.6485623327335199,1.9604239272097368,-0.7357146496251508,-0.6833069708464838,-0.6003269772814717,0.0270330167516089,1.0775794550766133,1.7380386012842035,-0.565505835477302,-0.5467075314506146,-0.5368110231484131,-0.050736584188717446,-0.8171553162801783,1.0566227711230671,-0.5014107927246003,-1.194027314792048,-0.5889209035893129,1.5653795881157961,1.0263405341381566,2.423166332218818,-0.7339037445861603,-0.5226649318334814,-0.465530169300583,2.5068415068171874,-0.9062263125836933,-0.479127529015466,-0.6280733238313597,-0.3754658590027731,-0.7735136861421266,-0.6318702600387192,1.7586168261933526,-0.5931787241935091,-0.5216208317376603,-0.3680212997033561,-0.654442804033085,-0.8750901043504115,-0.6132696533921299,-0.5536736806745783,1.5532458732750691,-1.2117591230763396,-0.7601699989802221,1.9731269655447017,1.7309075097176962,-0.8804098045713434,-0.9270166087964924,-0.4751764337879872,-0.8377585894151238,2.2387296779108827,-0.839940576209737,1.53887410682155,-0.4057533455956287,1.3277431959489077,-0.6549531660006715,1.8491128932393648,1.8513477688027844,-0.8943977540863353,-0.8502287202122069,-0.7453125144602153,-0.5860735020088336,-0.820374358771177,-0.5434908533741742,0.6732990204828306,-0.47945832682628475,-0.8169475562019419,-0.8257894771768957,-0.555235941219242,-0.7958208677737704,-0.5469884384764574,-0.46669540917562385,-0.6233928533067922,-0.6061977600618617,-0.8563226241607474,2.413988367712026,-0.5908053144925364,-0.6910420127905875,-0.7667616710549373,-1.1086766517480942,1.380379918574974,1.3545630713629937,1.191009998225933,-0.4415275255875561,1.603895062693783,-0.6615853385151588,-0.9044475889716623,-0.7064447286135837,1.6426049504506433,2.067464354989134,-0.598110057375989,0.07481548934588728,-0.6658316130422844,-0.5033657414033532,-0.5997313965516798,0.5665971306931182,-0.43617180668217703,-0.32580269900835884,-0.40842828277650634,0.12889586622355126,2.0941533665260637,0.5039334257733107,1.855659660931562,-0.3783478114264756,1.7438109965123108,-0.2614305521258565,2.112990692093162,-0.6481422393249843,1.9903443060339816,-0.7565748841854026,-0.5184582717249253,-0.9809570390311436,1.0479709900496073,2.176334259777069,1.7305797486270669,2.279740831649477,-0.7300149497868299,-0.7170866408026029,-0.8935355861598606,-0.6051966690955728,-0.6158488088399956,-0.5332998066631591,-0.7694378299364627,-0.6729117357452445,-0.6135780690004448,0.39433946024010713,-0.6595549979766767,-1.1669818412696475,-0.7475048450731858,-0.597065936123823,1.7216214279033355,-0.7825015993233007,-0.6096088697143341,-0.8246663839254695,-0.618198483317153,-0.7917280172158809,-0.7036255903822521,-0.8031472063766999,-0.6443932198458144,1.2182795412889111,-0.6656865118651707,1.5217525909253489,-0.6150214445179326,-0.454785005141427,-0.7716486446623102,-0.36539425512082474,-0.38045077190023524,-0.8032760054353651,-0.6293815999386716,-0.6908390386017693,-0.49216459202150403,-0.6836367205283086,1.896110516481462,-0.31065664157813105,2.1652753146295507,-0.6542846368213568,-0.5316217435474204,2.331718902712452,-0.8453260888947987,2.7905971557544667,-0.17979271755014375,-0.48039238694698405,-0.6041153012734194,-0.6402903200623051,1.8958397691916482,1.6874468219663783,-0.36079247706952805,-0.3790406874805374,1.6942051353558194,-0.5900042150189457,1.5456080729001451,-0.45785544674493517,-0.46062140311137184,-0.7714591731855116,-0.3175867797396079,-0.9766500893564978,1.3625057320664324,-0.5939280690039463,1.4549642142307426,-0.7979275958674882,-0.40686699694675477,-0.6693471119089595,1.6132847080374657,-0.6749017825044753,2.471840387811429,-0.7220244301677401,-0.9522369326367645,-1.2877414609660052,-1.006399722160488,-0.3625002888117443,0.8616005776909497,-0.8286589633271788,-0.791216619498607,-0.5340529426084891,-0.6481254964147607,-0.1591631073862641,-0.9743057227142129,0.6091490812213606,-0.29589512410810576,-0.601049161825887,-0.8117420847467284,-0.32169195884216106,-0.5347079835000732,1.815975801642381,-0.5794478414410544,-0.6106189273538577,1.9638173867130342,1.3126722968514113,-0.09416826614601363,-0.7328593081748653,1.7813923359621278,1.7014075892041958,0.7294055003010449,-0.4461275834629344,-0.4717942003821738,2.041934077678897,0.22658048983107082,-0.7673439685603476,-0.640027260076347,-0.8792251559912208,-0.7053133495709911,1.3372296308378566,-1.0292367943042031,-0.9153776144900369,-0.2544289416975482,-1.0209260725764253,-0.20467905588843477,2.1062394505588498,-0.9177724639563043,2.3542255403245136,1.788439302277056,-1.0936266232758043,2.331397364541413,1.1660562289074572,-0.9074469128590659,1.331057944287584,1.4795040821486523,2.0996524633483538,1.7123378203989346,-0.7379475805567263,-0.4640804127100577,0.9737890013750047,-0.2257494065692276,0.9758523355454642,-0.686458618680482,1.5376995828708662,1.8990903922065971,-0.8894614114487591,1.6972961814261198,-0.6262730457883225,-0.28624920445907726,-0.4211382716074352,-0.6347167612597463,0.8743598332833451,-0.7169025678653114,1.7850798467161024,2.2774579483289155,-0.6130735115687176,-0.781139154100482,1.9310578046698696,1.414986532374736,1.1843539215542889,-0.42621888614739806,-0.8076009121997803,-0.825988277040704,-0.1502846180266764,-0.4703597138440197,-0.426565976829971,-0.9738544925423259,1.7764219534091978,-0.7008389052977545,1.3673652909683587,-0.9492228669951189,-0.5575147893667632,3.343175478768123,-0.5923963855231965,-0.7323737247574769,-0.6391835475553491,-0.27715041387573025,-0.15797894214131208,-0.8889639629186665,-0.5933881105265644,2.1253735607642743,2.580293812128376,-0.605793593002777,-0.52700530003714,-0.8490004932072285,-0.6754450394697598,-0.941363996883901,-0.9984625839573837,-0.7681412369740299,-0.6199465310429975,-0.8680773275381899,1.08163356687821,1.481192712520483,-0.5745314626814654,1.1938548081941074,1.0432664557517224,1.830673338633952,-0.7400590678495023,-0.7051046313213488,0.09406483122943562,0.06078048990263542,1.327337043897367,1.3579450438588505,-0.42601193325589826,1.9217145015589001,-0.3716535947111491,-0.4697862489026593,1.1323937131511843,1.758014826111207,-0.9095707500034518,-0.5156291067909049,-1.0714127026544416,-0.6154204320653441,-1.006342447057502,-0.6260614221656182,1.3631412800511544,-0.8860128156068238,-0.7602092756697175,1.9582537310335255,-0.6769244839529915,-1.0306983827527023,-0.5828652664830682,-0.3674024596790386,-0.4404355828817914,1.9474805143972727,1.7061549798239823,-0.2923915653035284,-0.5620117219432966,-0.7442660663129974,-0.28162265245964146,-0.603405580249707,0.0009787313210139939,-0.15823206040302462,-0.861795447292716,-0.5488364322260827,-0.6889623817683653,1.3870530980944793,-0.6708799815679531,-0.6187357260793419,-0.4769106256911352,2.4251906335654683,-0.8792473600332186,-0.5585444236863849,-0.7039607066973415,-1.332125699911975,1.1591844369408935,1.6753470933075045,-0.4498299215682548,-0.6891943023575363,-0.5583201804046353,2.0958592153429736,-0.5178537833229298,-0.3383108296998778,2.140584919839648,-0.8012306484229543,-0.6918938237671287,-0.6580800782795774,-0.42517898439825824,2.1432733554273753,1.127345332394143,-0.9679280089761158,-0.8004289045053277,-0.15688856413965963,1.262930111209779,-0.7749016153838525,0.4804063485701947,-0.6863470814935864,-0.5397624713918845,1.7721228988654945,-0.7206681544105715,-0.6644748424335062,-0.29754302338199606,1.6206627401992133,1.5766227956704795,0.9985790439642938,-0.6059044375683788,-0.5793457337102731,0.037836753108941065,-0.7487102318050068,1.1190340665559706,-0.5139937003704069,-0.7162011262342562,-0.008487311783097628,1.7782433193956113,-0.5021651859269386,1.1506131939585582,-0.7538480238864467,-0.6408419113834137,-0.5460231651693198,-0.3173495122462477,-0.570648448765261,1.1804069692358388,1.2252003050116231,0.779726193397593,-0.41795042846870395,-0.5663502944439172,-1.3224350072252,-0.6371459072372339,-0.5198157866614356,-0.9836396229313382,-1.1155424758797414,-0.7980968726576616,-0.6834875740159347,-0.35558358467347584,1.7852844916308093,1.368125009458073,1.334098048272084,1.6238765159790065,-0.3580934380213946,-0.23278554943531168,-0.5732792241991708,-0.2640098283194304,-0.4274014980916717,-0.50015096274776,1.6034592874317677,0.8690162951787161,0.8064215929559034,-0.2041865248318326,-1.0660730044018472,-0.35940777907878846,-0.3354927927766602,-0.8257504587639286,-0.8670406435259433,0.44000869292076006,-1.000945026997543,-0.7632092857087154,1.2291587178088286,-0.7908389730798581,-0.4529512695575119,-0.28760319780623067,-0.8372400074778819,-0.6822431437105031,-0.7225456521661356,-1.3569679142185538,-0.892628877269448,2.12440116956298,2.520590054214359,2.3182180572855784,1.0421281387136698,-0.7468800875389396,-1.197157989256638,-0.08601658989660281,-0.44706249403726506,0.972389291843958,0.04226881819308136,-0.6395958150847454,-0.44872117925129545,-0.6818053609776551,-0.6081580160983644,-0.2294791388240504,-0.610936750699448,2.3181873280785736,-0.6925230256847497,-0.8274394696465224,0.14889552478629461,-0.8791296228492618,-0.5226893091231233,1.6425394930944368,-0.645451705824816,-0.003714390168349313,-0.7392560822677187,2.4730705828553083,-0.877753102091752,-1.1345900420437989,0.6566680544855565,-0.532104483059047,-0.09768436383764365,-0.579851177735565,-0.5266839309745722,-0.4661721893937558,-0.35269883192581614,0.1219454301797639,-0.4530972584136232,1.6221840395077116,1.5936853671512086,-0.37416282242597454,-0.604667176308287,-0.62578368964906,-0.5245652020665676,-0.8432883270819914,-0.7159513057948234,2.394725504724169,-0.9426282590189649,1.658253543462438,-0.8556926562823388,-0.04588007770547767,0.7126683861710215,-1.2513318374880487,1.4271073535689396,2.118512747866257,-0.9500687931440716,1.6314587388280557,-1.0165220119818972,-0.5343534162776863,-0.7066716128630576,-0.26847386009731483,-0.6626159362298406,-1.0670230696514813,0.05139426083762742,-0.5513057868912705,-1.3118890207867095,-0.6786666156592182,1.4002729637630795,0.8808222292515161,-0.37141267936337324,-0.44944732510377483,-0.3254508337925642,-0.8854530126464009,-0.8389509788643881,2.3023340561937804,-1.026869969526386,-0.6815190512717633,-0.561849503835537,-0.49261456057348646,-0.7596858872690254,-0.601604140541894,-0.6218287301655868,-0.6519079815482741,-0.8626282478270275,-0.6913842955429095,0.4235698375856504,1.2051203420441798,-0.7549154046638241,-1.0097052451893531,-0.13843286745470781,1.6217247700715856,1.6594421133335204,-0.559939286173507,-0.5125431645989822,-0.3278672641385042,-1.0110595467626189,-0.6423514719842193,-0.7828070908561514,1.487361982250432,-0.7212487371320888,-0.349808738870001,1.2460315856211805,2.6590589121667216,-0.4200153390635698,-0.755424983047831,0.9881843970054097,-1.0152327495935198,-0.6033963291376813,1.9543904989851109,1.3180459214759295,-0.819348929422007,1.960481133940633,-0.6057922237262274,-0.6232225553696706,-0.4333714181452167,-0.6499697843138401,-0.7406192786109577,1.6359722514162058,1.5291557637815745,-0.3436749901588573,-0.5562098368014917,2.257255649549157,-0.9080160682638878,-0.571476429114393,-0.8868552802735249,-0.8955446647301821,-0.5165612470094808,-0.7582816702836007,-0.6509395405281975,1.938979444876152,-0.5934485369939704,-0.4228982348659914,-0.46205344925232117,1.4109998536556614,-0.5025188995526658,-0.5327465534751035,-0.4994417597179186,-0.479148323349821,1.5183743075194243,-0.5568991220322475,-0.9268245502188367,-0.6616244278286655,2.5462936017714166,1.331987347181048,-0.6217821135983963,-0.4332668919464315,-0.3509802289097173,-0.3256200929826537,-0.2732883882106376,1.2409348414317474,-0.48606810556926966,-0.5116359234372927,-0.8569529099319376,-0.858406465889069,1.8480818819277187,-0.3939641231722454,-0.3984248846849339,-0.8709772538116299,1.1824474132199065,-1.0009698147046333,1.269689011332481,1.973723315711995,1.5288353079463721,-0.540563752552278,-0.34011032178235595,-0.5410222133810174,-0.29759435777229026,1.2777190024976761,-0.6380523732406705,-0.1526636756135744,-0.6493661228576614,-0.5635890760212209,0.9889201724941978,-0.6240982049240369,-0.4607982243281664,-0.4822928099523719,-0.43445230003494795,2.2644858260619998,-0.5460992925451789,-0.7016482710723887,-0.6601900344347134,-0.051262166172822185,-0.9943323929645165,-0.6573444110277585,1.741308359670132,-0.47898617531607635,-0.6672968310491466,2.2191304657665727,-0.616699850268566,-0.21198183793027253,-0.7981415134848441,-0.9533134428888838,-0.35886932543432615,-0.8955717104887297,-0.3253273952159756,0.9372774776129189,-1.0569594126012416,-0.5746513449991126,1.138809665555768,-0.6024690625492043,0.8021371806471133,1.99793798217232,-1.1264431306039209,1.5572671566461445,1.9467088487468118,-0.4392794667256769,1.9075930712496532,2.0076988545880528,-0.5607647695692635,-0.654814321452366,2.4079606564878033,-0.44448798852894134,-0.7155743006634823,1.863929328771283,1.27962277117961,-0.48987654332297154,-0.5979795250756681,1.6157476852851236,-0.4534858846972847,-0.6705675048064945,-0.3697701092042421,1.482651164360034,-0.4046508353733293,-0.920950352672501,1.9637720562105783,1.5810413512743764,2.0642123162158574,-1.015398915946735,-0.9704952958864345,-0.3873699062137814,-0.6459221227701665,-0.5019989543166286,2.4322690664628768,1.729699467518626,-0.9188002383189691,-0.9604832261144297,1.8905218980241443,2.0068666659834213,-0.29334417164003235,2.4892467582228384,1.4724731208066464,-0.8006531826525523,-0.48294702280152557,0.7242453251722811,1.9515751394151075,1.6185265680966912,-0.42044370354983013,-0.702275927111589,-0.8076594042150237,-0.4340788829430174,-0.5913439369459443,-0.858558883481388,1.2185232068323852,2.210647746489406,1.866788140178962,2.174261789793181,2.4729863801641505,-0.5583703157932022,-0.7248046804339056,-0.3319337990348008,-0.6591279896608134,-0.3077183484295902,-0.5753695286981427,-0.7327485710757179,1.5861734727068413,-0.33414157005881273,-0.7438032805360717,-0.6966512333327997,-0.36049967467666844,-0.6369716304290883,1.9637433046627022,2.034239727227163,-0.86001513605509,-0.4245761576550076,-0.7315930121332199,-0.5332211843921035,1.264831212643751,-0.8354201925456697,-0.26349906509747756,2.286061141212978,-0.5870997403467144,-1.0260494923697607,-0.578631994502766,-0.35257282473503115,-0.7915228232010225,-0.4801786218907558,-0.6840719364708935,-0.6578643243741532,-0.40385317646619373,-0.49274268823867273,-0.7588544021579817,2.5065300825710977,-0.6277739220135923,-0.3432421901506503,-0.29305326835869355,2.605161970604607,-1.196021042191051,-0.3247442092546089,1.0788974045458684,1.4682331029861566,-0.8474750049184888,-0.6331633103747445,-0.6950734427143708,-1.1327968546726817,2.446732249570598,0.5949945493412926,-0.9364184449198788,-0.1699371918229755,-0.5512553764119946,-0.3291816675920769,1.6720957126173976,-0.20108567334575103,-0.40672748849917784,-0.3192647695729738,1.7715996142429082,1.5338340825179824,-1.0211651142536484,-1.348178763071438,-0.6842635664351178,-0.9399329350252877,-1.0811094159103132,-0.5010973924193445,-0.9254144286437364,-0.7641620986304782,-0.7930122392668336,-0.8251800901511684,-1.0868799642467433,-0.628680159358393,2.086781700870774,-0.6659427904264779,-0.7935464111801012,1.710273020100336,-0.18104303961218116,0.03820123706534265,-0.7757343870687216,-0.3573184828034659,-0.7907608681620001,1.2388048447041706,-0.878783531279288,1.5811209161818753,-0.6158085317862951,-0.5495464553255908,-0.881300579763288,1.53738681424972,-0.4166061902021846,-0.4912174494425302,-0.6329246304577146,0.9363163499049714,-0.6867223432929749,0.7437760005446924,-0.6256368068989008,-0.8510620008475016,2.6124398942783444,-0.8034371630299312,-0.6965948401145405,-0.5879005339866552,-1.263540893065147,1.6284154316582138,-0.7952215117965122,-1.0795482151247897,-0.5561460810913602,-0.9512050091234205,-0.6049257783341224,2.086842144305243,3.1071634423483774,2.017885653747152,2.697323432941788,-1.0083048492397448,2.517082469956115,0.9946946477480316,-1.227738294946487,-0.6806747441907458,2.2302882048559574,-0.9243732910654002,-0.9060800210962596,-0.4413147682738541,-0.7453915036414528,1.521181125067777,-0.5471216430540856,1.1288636487253578,-0.7248941834064709,0.8600774155215889,-1.1037608895175353,-1.012111491441751,-0.4212945926743517,-1.01188480770064,1.607158061010588,-0.3799077519194604,1.9384603603735377,-0.6740906981476119,-0.38668671944462124,1.4692862336064407,-0.6474670851775314,-0.6578735256782278,-0.705419066208976,2.4524469787500855,-0.3824396812098503,1.7143025701486945,1.8017319184024114,1.396024209927867,-0.4072273126819383,-0.602737914558851,-0.4774976001561061,2.389472657808754,2.1950975471485306,2.046547380425746,1.6938246528164758,2.099893818237873,-0.38003166401498445,-0.4510245456681996,-0.25456301941262166,2.993132270708901,-0.3134093527082029,-0.8791586181872318,0.32279123781484914,-0.5507719258048102,-0.9270803381735571,-0.7677843838440056,-0.3464636284505716,1.7194913363938031,-1.1405064157643359,2.257318439364078,-0.3149643091038498,1.7475056867281522,-0.7145038360781,-0.6075259463161081,-0.2588002885351731,-1.174515569751505,-0.5748675867454278,-0.4813573201434642,-0.5834716584001263,-0.6196101532517586,-1.0703237748040764,-0.8297520057207373,1.5485551920885352,1.5159115332850064,2.3173648570436907,-0.2665336866470178,-0.4607809421702219,-0.7649375440840978,-1.0289429548113331,-0.39569342645219674,0.807174001562537,-0.5957682586413156,2.2097862730137514,-0.6824870161487949,-0.5579831993376928,-0.6687768600000799,-0.8176494984806159,2.6660893597389563,-0.5361226546105549,-1.0733561922082424,-0.4854421580886105,-0.6748626858483099,-0.4576212211713452,-0.12943892602901796,2.0369296812940165,-0.5451457552924421,-0.41967045374185763,-1.1550328045391955,-0.2630691145437908,0.8868128229242142,-0.533386454351553,-0.5844192672578491,-0.23857606334790635,-0.4739534572776824,2.1960331268641027,-0.4519475170900969,-0.153414538684392,0.6578036507364995,-0.6827043982934672,-0.5361853609109334,-0.8248978099848988,-0.5974418245634021,-0.6314405854746483,1.9914595732537046,-1.016924426070392,-0.5703887426565186,-0.9348967216048781,-0.7703537203129457,1.6449911027288502,-0.5579290207958422,-0.5022077787231137,-0.5990376315532708,-0.4290683838981471,-0.8266540270431807,2.0114388197266533,-0.339159220240816,-0.8988431414497152,1.9339197860968926,-0.9066592833862461,-0.3753162418317898,-0.2576111758275285,-1.1262770902516226,-0.31352132496714624,-0.25800531657180026,1.1761045294527837,1.7845303020859735,1.7240338654591334,-0.5274496656199545,-0.5823128433883537,2.385719722172561,-0.6383382084033977,2.7128657480627387,0.04969406422240503,1.2590441650517896,1.850839549076937,-0.9279036609497878,-0.7727486898959107,-0.2863791094329376,0.21961948093016695,2.551642324973288,2.0226330868758446,-0.8380503968135284,-0.17378808938534496,-0.7728531490992293,1.9141558156320126,2.0482632090308925,2.500436599114574,-0.9076746941901158,1.5484960401606167,-0.8565608334303652,-0.9438246554802174,-0.7707034864654274,-0.8432130614919836,-0.42943519904618677,2.579639271721786,1.3466473425781367,-0.7138708883226623,1.643767842223869,2.636470462538412,1.650162075078871,-0.41156782522455004,1.5266621597809018,-0.4763164569013282,-0.7086616949992001,0.7310768577831105,-0.7232305727176414,-0.8359060855107898,-0.9134140709763251,-0.6130940214425367,-0.6205522061314374,2.083026741734637,0.5184817186687657,-0.14272138857033909,-0.5624125593337823,-0.6277055306916123,2.55980495743813,-0.6952826380479813,-0.4618720863585252,-0.5497583096047161,-1.0247069643174347,-0.5415905117562366,-0.39233908328983486,-0.6189462163416669,-0.5482541030661557,1.9474986652108124,-0.6402121469002865,-1.0135569379482767,-0.763863120025099,-0.5285479591883738,-1.1052498327615397,-0.7968456742851705,-0.19858869885828434,2.0407083146540637,1.456662048444611,0.19152651722289363,-0.9887694037191328,1.5667498232943122,-0.4548939957850403,-0.7328930577706263,2.144528687671351,-0.8428487984369062,2.2500598660926827,1.694021634505802,1.3974688420368202,-0.5458778702719687,-0.3774887821075649,2.72418821637494,1.1185995461901894,-0.7524275858717708,-0.8121206286036239,-0.714006794181335,-0.6727785869337852,-0.39028433516955363,-0.40100737913442297,-0.49340738308072607,1.897728992897844,-1.0662407064708366,-0.9857569078873374,-1.0775438164795768,-1.048249483917749,2.0580774383798,1.0621861725477357,-0.5309744190836885,-0.461155706816878,-0.8486936973103086,-0.4983500893464349,-1.074128900682489,1.5944898660894429,1.5424375459268846,-0.4522623874417424,1.0898047921509573,-0.8635575736230666,-0.6767901612283745,-1.0521688262317346,1.157063872374523,-0.77212916440499,-0.9427157863856149,-0.6427842465973251,-0.9998118349329183,-0.4800180179696447,-1.0529493800139422,0.8463435999628135,1.594635721404756,-0.8603651398314202,2.4205688984312927,-0.3072285467086426,-0.5618550329118007,-0.8113780916041232,1.5390605493441045,1.9078450665447775,-1.1070663328450974,-0.22159871558833738,-0.46923916368171137,1.8930371534646278,-0.9753862168941494,-0.8335910422099505,-0.7208223324266151,0.6293133994472062,2.244048908883242,-0.6091841686372248,-0.22556869011235361,2.4871334139691195,-0.43727442663712973,1.7616051383816058,-0.5933739634307552,2.417921364052348,0.458329785205541,-0.8335556986549458,-0.5347169189163877,-0.3164758342945064,2.4707163558007657,-0.5833459365803824,1.7051933737841367,2.4407055897375223,-0.7087234222277009,1.6487329863832199,1.636229228638717,1.7144703828939512,1.9901791992227922,-0.7857590317107999,-0.4459104539964735,-0.32123985787273196,1.7487284801981746,-0.6532903636118441,3.3280505304459784,-0.34579966071979173,-0.30914241788762303,-0.5474098233244593,2.2069687447500135,-0.48607937014219055,-0.26057267209065965,-0.3954798303874418,-0.742624329970969,-0.08296941756660317,-0.8989367223535358,-0.44041024687073327,-0.3265487237553063,-0.4098742989341506,-0.6655875350467195,-0.7040990894192527,-0.9463810258130423,-0.8314967318754563,2.79012541038738,1.2444712236871163,-0.7953557738515857,-0.6140341617676423,-0.9118199828909396,1.791707534362374,-0.2077139799203051,2.154537481534345,-0.011983372945767581,-0.42225495802248353,2.104103235748658,1.0524716651122226,2.088323201366135,-0.7272369989834001,0.8357249147457378,-1.0870707421871224,2.4880574963017916,2.563790854448038,-1.1716219857625125,1.0800296252016766,-0.21405931678221524,-0.680763569404233,-1.0849204728103852,-0.3965786249758079,-0.06806440603610475,-0.418201584589011,-0.047799911619904406,-0.6091339590613034,-0.3416045962489918,1.1777802516288554,-1.0654256958134647,-0.15852009506425807,-0.25998354333976914,-0.9305860373569415,-0.7072118234449414,-0.5275789405135016,-0.6499328798927478,-0.4808229618525486,-0.41288684216028976,1.79003933196949,0.6990929739520414,-0.36547347346827314,-1.017591085490007,-0.5070281377043602,-1.1262951025986807,-0.8720571423919842,2.1068353097719013,-0.7378061877273914,-0.28077824773091326,-0.8337404903819625,2.002220024654929,1.483156166739447,2.204971913493346,-0.7413274848907181,-0.5996025513203407,-0.6866239658872784,1.1156772817547487,-0.03960231933187197,-0.7865247499941561,-0.8897053744413695,-0.3458486755674511,-0.7999261625508208,-0.718515076000309,-0.4210660879587734,-0.4827205027984224,-0.7402911221699867,-1.3345206837048,-0.5061023677078899,-0.6230950292835034,-0.8775404419842429,-0.5230809215464658,-1.0894460411479758,2.026360410311629,1.6714722114787437,-0.6773176214291705,-0.657333158148008,-0.7372384250663214,-0.4163777131335673,1.5609975376719438,-0.41235432305427366,-0.4359946316235849,-0.39758427344150005,-0.6283192943413942,-0.23041536852281666,-0.23464292814750504,-0.2525433907772931,1.4480198195145721,-0.5593687002339246,-1.4607238873064854,1.704790912370804,-0.43617572469566374,-0.9826690807578814,-0.8694256745102573,-0.6462427961445365,-0.5824132537387681,-0.31376889626225196,0.9836263765154962,-1.2726534110804282,0.7784678507881054,-1.1861328152666095,1.4625408320227316,-0.6694582056693481,-0.9507816445814611,-0.4629291902666523,-0.3354005219170382,0.7258321838259005,-1.2602506791596977,-0.5018006926292617,-0.5918474616756857,-0.6405586937959142,-0.7556040051848845,-0.6770482729639511,-0.24144341665657174,-0.539091718492015,2.2023000235937795,-0.42709449206780875,-0.8875962677605564,-1.0056048378872198,-0.7238556732250389,-0.8352173666077327,-0.7705653064518375,-0.317100977329122,-1.0254358888794686,-0.5518635515084782,1.0962454924330498,-0.31847837259175377,1.8316479923104798,-0.6140329061292699,-0.7501909694224341,-0.47073917759669165,-0.7763911836872938,-0.9019086336383512,-0.5678387908165168,-0.5899405368993271,2.0011249970583598,1.757756811349115,-0.6535845459876797,1.4224392256079674,-0.5340571508398071,-0.9136872433385219,-0.75780212968101,-0.5064157792150726,2.3380501859510345,-0.5599891140229641,-0.689152430631754,-0.8317158487203838,-0.7654341741780178,1.0811931191670012,0.12908598088303047,2.0468154317617833,2.045497983520776,-0.9361004207272101,2.172647078101983,-0.8151553658403853,-0.5500872531167025,-0.8768259072005165,1.6337690066110948,1.1855445472511112,-0.558371339165059,-0.6496262600226448,-0.028591494363306085,-0.6144815586506119,-0.7812604620749144,0.4787573413062199,0.09897327521767381,1.6795469753992178,2.2409503151611725,-0.4644231425766809,-0.859599008885757,-0.7853640507804613,-0.37094632998173205,1.7707818829694169,-0.9939730865550619,-0.9758922575179501,-0.5053111612143435,-0.26521097552267714,-0.9629723551126869,-0.5313232924987727,-0.46764075419934326,1.4624109133533958,-0.5669854292372495,-0.8284460628247908,-0.33349357723275386,-0.26386086638115025,-0.6656159807504478,1.3600596691847002,-0.7003188588057202,1.2712916836284571,-0.6077431017496935,-0.825837179538649,-0.6296250252399384,-0.7059222107187083,-0.251929056628942,2.2300395982390504,-0.6857533877516551,-0.3760196331369264,-0.5780874240952932,1.5039414044124617,-0.6387152361944837,-0.5892529281478958,1.5959097791318309,-0.37653381089066157,-0.651317863753177,-0.9406866026190971,-0.07233360791866267,-0.6120353099650856,0.6665199189046211,1.2262528290102155,-1.1674032373421321,-0.7046447054884012,-0.6040831744124259,-0.7578500176356738,-0.773099799582885,-1.0148366550130987,-1.3225646425615871,-0.35920544318242154,-0.6019463674434469,1.2053018859056084,1.3837092498304284,0.1465861064201991,1.7210946867694648,-1.1536913348199163,1.935024780816481,-0.6625510539831672,-0.6451402454422922,-0.20280220974292162,-0.5043640115684289,-0.8426931801030355,-0.8818480689626526,1.4369156671998213,-0.963348754904172,-1.0355266398401617,-0.630408370185724,-0.516443495008382,2.237962350524216,-0.7218602992045745,1.245586971598897,-0.8071273584793937,-0.38887878760282285,-0.9185814886516472,-0.7402520142611533,-0.6643048498997821,2.3832132832150283,0.17117290817288108,-0.7910576025686891,-0.7713242072340707,-0.34713893080906816,-0.7361519716855912,-0.6178906808214326,-0.6210688251212303,-0.529207481048523,-0.4843787470675407,-0.9440754165788529,-1.014717191279685,-0.5948039687064196,-0.8241380869795839,-0.6158825047056189,1.0861568811834201,-0.6633075602698275,1.82642633142117,2.180600475329948,-0.6294805383880893,1.8491229775261664,-0.6630422747770566,-1.012361906338143,1.2375867833214922,-0.6242570808861168,1.3360936894183981,2.453226966502504,0.8418255216137499,-0.6044490288345863,-0.07769865775281624,-0.9679129017021231,-1.1131440156882673,-0.6987593763253829,-0.6775538635046555,-0.5077170373365042,-0.5281536897435629,-0.715889216160705,-0.88206406257087,1.1984651538280575,3.001866029097668,-0.1897299610002579,-0.7478569521766851,1.4362349182308163,0.958256030359395,-0.490421564579948,-0.7294183432854426,1.5866740674514506,-1.298072842171403,-0.9386476130370774,-0.6436569146460147,-0.8137084957438568,-0.3166120044543967,-0.657716527407549,1.408700236067079,-0.7309128702427077,1.7115464643125018,-0.5526838846895473,0.5826489948307414,-0.4329955725075683,-0.6799177132690267,-0.31633599665393375,1.234963746781903,-0.7217668629276,-0.7908630724298064,-0.5178568160878975,-0.5017342808602758,-0.5597970088562341,-1.2049904595995067,-0.40250356372802143,-0.42694682384468374,-1.0581600255978496,1.207888663723298,-0.6923087915375946,-0.3470135714906504,1.9243628700487907,1.930876088863805,1.7221955181150284,1.421347777403165,2.1941702562433973,-0.7116231639627866,2.2802344344927032,2.3006849638798386,1.0029026622700874,2.5859808723047606,-0.7730099809563874,-0.845094541589676,-0.7544601160803149,1.456290890785494,-0.056181932782201606,-0.9835087117049272,-0.8293200221317115,-0.48361074527428094,-0.43932199905176555,1.6241333888067322,2.4508765378232935,-0.9828005151967276,-0.5741526033940857,-0.7487329851045341,2.6731064974236074,-0.6490957786852862,-0.16452540879802585,-0.6898233766874884,1.7985016072384556,-0.4480241172375959,-0.5513446159716459,-0.3525240528482561,-1.0167134000851688,-0.7070907294461202,1.7476397318276566,-0.5682530249001763,-0.6788313254630207,-1.398726020635357,2.181903545145496,-0.47582599992968244,-0.8636955910358654,-0.35507596336540814,1.1397412220585081,-0.6810332914936349,-0.4261521237570419,1.947574762088876,-0.4056940158419422,-0.8707565693218109,-0.98588513070735,-0.416051175749354,2.0506693423023528,-0.6446106175644718,1.8271219020693725,-0.6062591659029506,-0.8002998030787546,-0.6964454483595106,-0.7918690155142188,-1.1081503198470588,2.3149816434300954,-0.7433871535095543,-0.7985781293528446,-0.6075636453592286,1.2101202356589564,-0.20851493700171947,-0.8265343104189842,-0.10609582338682286,-0.5590320394918842,-0.6863788179058058,-0.3797905971945801,-0.873294290354602,-0.5850982222849522,-0.5481952645475,-0.6692394764533413,-0.26592653308194014,-0.2874606065706709,1.6778548583479498,-0.6208096197893404,-1.2427983852188524,-0.6859943226369859,-0.8630288999744048,2.0203969667817607,1.6363395330141781,2.615203996311412,-0.5930135459566805,-0.266812772322643,-0.9949334294715337,-0.8115165595628967,-0.8515400028357626,-0.533971048202978,-0.5644341216033225,-0.8345431395061748,-0.721624560390383,-0.7987007309650235,1.1244088666258043,-0.20177083822764916,1.6714520827408608,-0.26743510830296835,-0.4911260720022472,1.0717656867249854,-0.5641617740273341,1.342090009890057,-0.856861032852469,-1.101754284092192,-0.8962130202036557,-0.531418693401143,2.482221444272702,-0.5885126479872983,-0.7538172046831645,-0.34691028857444983,-0.5609272568638607,0.0787458202859548,-0.498685310174942,-0.009933413775867294,-0.5906014457304254,-0.6492532364649529,-0.9530055505873082,-0.6246307252455326,-0.7004363182714558,0.6865711391301235,1.502055497551272,-0.5513346301480914,-0.9248941699130014,1.2462956695880112,2.3946425252853873,1.5932382029155605,-0.5538491371284536,-0.41675046659834286,1.9128025425039088,-0.43664182188582906,-0.7735066665095505,-0.23389609555050497,1.673777870530541,-0.5895260264893873,-0.6081418160906655,-1.0876145209575707,-0.4963212424596681,-0.6670348378585964,2.4399536468602507,-0.6598305693872859,1.3547772189073288,-0.8029184472528812,-0.8952376260147389,-0.2850478488898802,1.3332442692354258,-0.8245349557102996,1.884121499724892,-0.33078497520905314,-1.0865229302217074,2.618626735320623,0.9514850787897771,-1.034526586551861,-0.30953340227454446,2.315911230020361,-0.6645373601257125,-0.5105730472669238,-0.6027493898155244,1.7118639114152818,1.1282782658067119,-0.6117200701562446,-0.6689257661560987,-0.39947773856261004,-0.43909543913625415,-0.38380234523396123,-0.7433840747802142,1.7138843237593093,-0.4768318811897558,-0.5965847628927154,2.5669806845903973,-0.39651004918297067,-0.650356729213104,-0.8182283837053838,-0.7086483715187599,-0.4157285733701771,-0.7546370908787399,1.0937013186062268,-1.129608656315432,-0.8242696282853834,2.3125674554883267,-1.0832925784530478,-0.45530313664035316,0.41192982090929875,-0.25793615777138423,-0.4300840003913588,-0.7104396732352032,-0.6824601201254341,-0.5591140468975176,-0.5944320316575307,-0.6443306086809806,-0.44394039543744807,-0.3278676824708227,-0.8770375703334883,-0.6770766135694757,-0.4431547862196511,0.9516700619797768,-1.0896287126336337,1.6020580588182176,-1.1897636623528491,-0.5271339601413367,-0.835677952236432,1.2644167808719153,-0.5779237406137582,-0.6367209515330914,-0.3917565769731533,-0.35687260738363613,-0.9686774159535421,-0.726433166578793,-0.8532293293695873,-0.4942621638337689,-0.7343366475954448,1.5969894330431944,-0.09788099138379776,-0.055919891895835024,-0.7696099856560822,-0.249734630275298,-0.5653566805888799,-0.5151320597062388,2.45443974195386,-0.6358925021881765,-0.7333334578360934,2.274759019881466,-0.6884074529832662,-0.4382214244702835,-0.7418537914084858,-0.7023009835612899,-0.3113773105312538,-0.4747386576940078,-1.1110570452248112,-0.4203564230362377,2.4195985526191763,1.7639079695461104,-0.31961888624055923,-0.5398538827252047,-0.6386310221988604,1.8572407779423608,0.9928243201375281,-0.9239567231083385,-0.8156013145076776,1.427134536427871,2.171217110953765,-0.9279205514650033,-0.42211939022465944,0.03967195736651962,-0.610889573910388,-0.8979275497537522,1.5939931050292506,2.530325831810779,0.3879593981432901,-0.40405134578817986,-0.7723706626367235,-0.6357869670068855,-0.8818311602564697,0.9503708846748821,1.8119391539133696,-0.6681025530041916,-0.831329714465275,-0.7939915828314894,1.8910285547982388,1.335472670806769,2.130487653431173,1.074028366823233,-0.7205882752184449,0.9669929315720711,-0.569091580092553,-0.7755985073166866,-0.7048369921384434,-0.19107182251766128,1.5476676866169696,-0.5600236508843046,-0.35632334747482464,-0.7440193955927534,-0.08452693286689389,-1.1607149213159096,-0.3783397997667936,-0.8283733448013408,-0.8298531145870955,1.499814006193996,1.3463947901410034,-0.863249043027088,0.49339600813654383,-0.8120687144058762,-0.318934380228486,-0.10917743034410872,-0.38774437165841297,-0.5131950434825903,1.48133571901944,-0.8334602979224603,-0.6325207707841174,-0.4016095981804714,-0.9422943345746653,2.4985655422164066,-0.48228915562535185,-0.11146889245842007,-0.35792692934395315,-0.41877711577319154,-0.7035684177065428,2.8317160665958396,-0.6094418887338323,-0.542636716041582,-0.7369737761198163,1.192333087619127,-0.5226621221068616,-1.0670692604985639,-0.5102704130387375,-0.5761802149456163,-1.2370560905552757,1.5260519187513117,-0.5521784518520092,-0.7775099889866578,2.02305748501593,2.8695361206703476,2.4925355393698903,1.2353016812203124,-0.9529177771048855,-0.34642593971160285,-0.8284922892953716,1.2402966946473712,-0.7980486517211046,-0.8460266966631848,-0.5319875551330113,-0.30087055263142937,-0.6653893391344073,1.706623210471263,-0.8466995947328204,1.4684698989393792,1.30284803276535,-0.7178634571946951,-0.6952325370517228,0.5679817676019107,-0.5990448088301267,1.683310013140602,-0.47520365781197066,-1.045163842663819,-0.3944589958829731,-0.4018750528336277,-1.3807202755735588,1.4313383599437524,-0.45307172992417466,-1.1876369860283331,-0.23582797599703173,-0.45764885260114563,0.6935783171811148,1.3915584563429313,-0.6046097383492672,0.12992225967712942,2.295697435413276,-0.9702719640591332,1.9454713136824535,2.2205068328010547,2.150368727812013,-0.4306880275644346,-0.5248255238653273,-0.8396659383193069,-0.69681127084596,-0.8480683447573957,0.8631786448339651,-0.4022604268775777,-0.1933012029971705,1.3536354448895995,1.1604999657438246,-0.42283924236836395,-0.7174356535627965,1.7287690759754943,-1.1324241665290649,-0.528245383112711,-0.870880734481571,-0.5360450023244262,-0.8142844317035348,-0.9129639459708135,-0.9946715565159665,-0.5902867592808804,-0.6575251141492523,-0.2784321080268412,-0.678804574937024,1.6121015909748873,-0.8422811441837863,-0.8101759457646155,-1.0113139887477303,-0.6956458121744723,1.4739736125833802,-0.6515997201997061,-0.7617833740196838,0.9477599366371583,-0.7210182567041824,-0.250488070976672,-0.1705669753155612,1.7393923651601135,-0.7309545586567486,-0.522861467882853,-0.8070934970723732,-0.3059756342897459,-0.5684509691938043,2.2708016535779927,-0.835597695890496,2.5448017927680366,1.1941642350449377,-0.8206967945428928,-0.8174170305890627,-0.21424486734479237,1.8869498784307348,-0.5998307584604994,-0.3319443661683602,-0.8307686301099185,-0.9400314188394502,-0.9295331612714103,0.7790301683318173,-0.591609403940223,-0.524757050470759,-0.5088955789272814,1.9060102991608512,0.7893497402755991,1.2409391834555188,-0.5457435646878263,-1.0545079095010668,1.0671891829372577,-0.5830158426018178,-0.8145111239305228,-1.1058165025361473,1.675425734103554,-0.40722023546216896,-0.8135223748047025,1.391586744803997,-0.30964029878107313,1.1382200743633244,0.12029770670096268,-0.6029566837342414,2.7794861742816592,-0.7073348962736034,-0.5969800077873295,1.9070256093378346,1.7497309552994849,-0.8438987851043929,-0.49920586979124215,-0.6336171980077643,-0.7680702353841098,0.8880061276280604,1.3499257182377262,-0.3939271902561247,-0.7316127121046939,0.6531004854387501,-0.8546524233458741,-0.8513870478813697,-0.3400529614131007,-0.5608870524941989,-0.71678571393575,-1.0128732030480119,-0.9877570263581865,-0.6080627643745833,-0.4987486064601363,-1.0956500047522695,-0.8251109982556049,1.1167197042983958,-0.6781635632365035,-0.7714984173822399,-0.26416132303741546,-0.28835555835988463,-1.0249259967009972,-0.3543922040171567,-0.37085971465879775,2.4720328416731636,-0.6394681931986094,1.4649230496592518,1.1763374411507472,-0.5236869516834356,-0.6536853451974985,-0.6791600360670719,-0.7186634900107379,1.1072557292212954,-0.3268150570944494,-0.27165282256203377,-0.44012361748428885,1.729521890213744,-0.5269305709304667,-0.6604121784966638,-0.5766733532000349,-0.34405334228413553,-0.5873265057133469,-0.37416252144925266,-0.7235686200598638,-0.5771894532338537,0.4763695709442573,-0.9231145488599377,1.6590567664104794,-0.7873062286480859,1.791735457329691,1.9037854609752936,-0.25263872140296684,-0.37893650124681943,-0.9911205020595365,-0.7986938762371402,-0.9438842463822367,-0.5812655757869021,-0.5129703643550244,1.9495778353316073,-0.9303998483491739,-0.9036819638140406,-0.36302751905359737,-0.5737475201066063,1.4307851368863154,-0.8351134977716139,-0.9209067780568725,1.2441897872092857,2.0249648056972194,-0.8542869548176664,1.2303181505067684,1.2885620590899551,1.6906538446621269,-0.39945025288527863,2.145903652667826,-0.7607549169369835,-0.7401971040432006,-0.8666163167034596,2.8440472320400585,-0.6883733699649108,-0.5235451823264347,1.1147992856451376,-0.6029534455972092,-0.524365884451129,-0.917550509320924,-0.6233794089584314,-1.0402679423964303,-0.4450529194601383,-1.0868055369211758,-0.8155970894648631,-0.8601761575127187,0.04290417020611352,-0.2873518862421848,-0.7699659667453026,-0.8364707613595683,-0.3693753505302724,1.5995027247887819,-0.6876819628102541,-0.375473315419629,1.9380115534286306,1.0697832402752132,1.7512047427734811,-0.5864813826176782,0.8447470082192646,1.2591706529484241,2.4023446496604284,2.1188997824275093,-0.7382016156126819,2.3434227863601262,-0.8267983460818044,1.994374017495137,-1.1393153471457755,-0.6093646053425668,-1.1120841196811255,-0.2871716500144345,-0.725755959905933,-0.7220677659787892,-0.4393699074034167,0.03927339589241533,1.5548947884636664,1.3121193013654864,-0.7103878274374196,-0.9569116762533424,-0.8342560416051596,1.5587395722220667,1.9848116434741732,-0.39426350807332206,-0.4165565082879401,-0.03694172080044449,-0.8687978258236395,2.0832720560167592,-0.7902038514874535,0.616359432386694,1.409652891197076,-0.5719456484789509,1.7003246387028168,-0.04246070182134482,1.7791538711896127,1.8503373708335258,-1.1008722791501775,-0.8485938534416878,2.098042051202547,-0.10087074968667277,1.3590390183439238,-0.3739516362763635,-0.8982875912281861,1.1531174057789604,1.0911186072577934,-0.36226219026317175,0.6668232548523256,0.8691629930719584,-1.1428261061865772,-0.4733391395554479,-0.9843647010609808,-0.8844082538323566,-1.0790715304168472,-0.5672731584227461,1.9268543405299896,-0.6735029347448513,-1.0528946018941914,-0.7395477028089514,-0.5677999125682187,-0.5806977367562689,-0.8065990597369358,2.6509358402548453,-0.6873333992903843,-0.3782407428340751,-0.5711301431627633,1.7328174603373518,-0.1887020711208005,2.597662427610003,-0.6845587932301823,-0.27217829866583887,-0.5410040093618964,-0.21853888364897353,-0.6955311588692986,2.1601373755295805,1.8145112301832786,-0.8996912466249712,-0.7052442913030977,-0.9327702249325008,-0.885185572412152,-0.46050801438393674,-0.3736340223521542,-0.8294186611077021,-0.6912606759400639,2.304927317005735,2.054595243072326,-0.8690750437358439,-0.5529261573095358,1.720498546139057,-0.8464494650643278,2.0081065074233972,-0.8073471205713418,-0.19333712382962553,-0.7942468523290585,-0.7410054497927169,2.2461434275195646,-0.4993740634911455,-0.4351654842795178,1.9295806619460796,1.4778534273907296,1.9599451922970366,1.2375451786351273,2.138394691462447,0.858725133125031,1.4174089487290977,-0.5570225778738578,2.01327896372835,2.6234102246823494,-0.6154492683630631,1.9061968483107372,-0.2845647015898171,1.891979404832502,-1.3316220775781424,-0.6516956834572205,-0.16527051070015106,-0.5688132186776319,-0.41265390784918443,-0.49361561924819514,1.7825849444867223,-1.1518339128891812,-0.6788255274827315,-0.6945575317987815,-0.39902536207012784,-0.4612946332608239,-0.5393111293396832,-0.8927298719259775,1.2889210556191828,-0.5093136689125903,-0.38674235747011404,-0.5060839303473089,-1.0840247292356335,-0.5246412214291688,-0.34328395452588817,1.0402771148375207,-0.501200553069723,2.7156842022418615,-0.41180164680246156,1.860165784893253,2.1598916374464365,-0.17537100679462467,-0.7547085537578295,-0.6407563525712477,-0.9761064632719277,-0.6779719406669606,-0.5072498301743673,1.8227573261387857,-0.6124336839257778,-0.6368159558764948,1.1114401062600363,-0.5936873226441042,1.3199912868037569,-1.0855324977293193,-0.5512487498139594,-0.8368944332571663,-0.0230754440324355,-0.4327497332625155,-0.8175842036693161,-0.922008459820243,-0.4038819063794909,0.816903504929754,2.062179026169716,-0.3198006510855461,-0.6563806998455504,-0.7800765394782047,-0.7628387693574047,-0.5939111967113815,-0.6613775645555965,2.068322228351014,-0.5769537459803122,-0.5201241161352305,1.5769241720500107],\"y\":[0.6694240601191218,1.1024466693322208,1.8575555202765681,-0.4020183696532837,-0.09393394575386002,-0.4827167510208038,-1.185649252105891,0.25848596425807974,0.5519440076695478,1.1695534057913233,0.3613034676756061,-0.8780778502225073,-1.7061460592569735,1.360341818567435,-0.5953730568128431,-1.5774553588086848,0.08798525428835251,0.32656980576869565,3.3459680831136644,-1.0645587836545403,0.45396766140424893,-0.21420162901512949,-0.04628468909055196,-1.5773485319617027,0.23056982251876035,0.03443748137329498,3.629607038327393,-1.3724769788306432,0.4118057144528506,-1.3079531686610888,0.8171847594971785,0.5145645922688268,-1.0904890737620045,-1.719903519685689,0.055935871277379014,-2.3686123554284126,-1.2173456781400849,0.5577164288595516,0.6829400015853118,-1.0905249555603942,-2.6068229650434938,-0.06916638453891313,-1.7024181521671098,-0.9232538324176915,1.6392057067691133,1.7430522734623957,0.4386404109948377,0.8032535929032113,-0.976798260384869,-2.013830955108099,-0.10215958662543626,-0.20699900945181882,-0.9266848878408226,0.6035049909522862,1.341834398301829,-0.35718667048155117,0.5966548874829434,-2.4116997998015655,0.6364289208759848,-0.3686938173355686,0.21324348313958297,0.21687597881583767,-0.19924055584905764,0.38720789422593965,1.2450805607143816,-1.1853776185047515,0.5698936491145687,-0.19973885435185823,-0.6459790456105293,0.6001952468404378,-1.4557044883260983,-0.7016557467183394,0.7292375112492592,0.5432912361366963,-1.088364554891668,0.9997681372902723,0.8982593621648056,-0.19717057890166226,0.4315993087841852,0.39638530132618954,0.8825869694983509,-0.27804778885264964,0.10125296397452888,-0.664663716763459,-1.265970076173787,0.2845412055815153,2.3161838230978886,0.8381566199536291,-1.5086549764579005,-0.26131516481752576,0.8831637182024894,-0.9302176317702674,-0.140224994311239,-0.8730061989002487,2.0711806693984647,-0.5185460112895677,-2.028430086080325,-0.2760240824925322,1.9303853043676549,0.6843997207478092,-0.07270826497252617,-0.7884583542061476,-0.4249222810427126,-1.1574398446925311,1.502665530415626,-0.03758435136017844,0.962933924093535,1.0476740306121128,-0.5211605253161192,0.10499468652104159,0.8752597345322055,1.1242690357428988,0.906485565164762,-0.37887958015950524,1.1892902439783435,0.39415836373728447,0.2377777343851062,1.383105391849884,-0.4366624438145899,1.3308952001388454,0.7858888494847464,1.6626374534726158,0.317565181551512,0.7328022221494951,0.8644784902654933,-0.5781282970108494,1.0714835839877759,-2.582241625686017,0.5977681960262189,0.38134759250463984,-1.2271536820137006,-0.7337902232053062,2.1080664257606547,0.41044828575456727,0.9920662556506878,-0.7491148110284904,-0.6517323321167758,1.214892857469744,-1.734994810926388,0.11073249533150777,-0.47220002257181914,-0.34365077932379645,0.4604655781495627,-0.8314941500657168,1.329069584011588,-1.9640794590306734,-0.8579053828739991,-0.7498375737450816,0.19281237701235054,-1.5491816422052167,-0.7464478451874518,-0.2400556189349648,1.1727855646818233,1.5852464313332968,0.8740303517968749,1.7382821483426127,-0.3951205769792802,-0.8301342401529114,-1.2672665309643154,1.5050390370013806,0.7701831116620486,1.5029064890247517,-0.6093902870579466,-0.5731472068281976,-1.9226548556603402,-1.1137431995008158,1.087752173434458,0.01313134804184941,-0.08712957055965127,-1.1484590184990047,0.402801460814858,1.322963041480041,0.47600648467406426,-0.05339273618928119,1.9657978114282777,-1.308687846283542,-1.988433459539373,-0.6614461398733716,0.29897199908280025,-0.3339874835809754,0.26366679272179305,-0.8080179817741181,0.1065769924342208,0.8042245396952423,1.3041698230775458,-0.9951410776145272,-0.02408458799287924,1.646502355265265,0.37803376849647063,-0.12106694525678852,0.3491003892600522,0.3488052638076088,0.6147430256721831,0.8237884989018732,-0.014657425839497728,-0.8634693098197295,0.47999639076419726,-0.9474710951975931,0.31580525360588474,0.7446427070011311,1.162807462553436,0.16728601052944989,-1.7595990178119643,-0.02768480897287433,1.4405395545368347,0.6964245420637126,1.2556636613984589,0.2482350566288504,-0.4215193914079476,0.2622718835294029,1.7100034784506395,-1.2574534864092775,-0.7997545368664585,0.8819526019303116,-0.6770432147488005,0.40253673085410974,1.0478016868748086,1.6137489831782066,-0.05103275981962013,1.6752321974831468,0.8622181529809279,-1.1907512847470054,0.6110097044024613,1.3063944649653663,1.2883199547988098,-0.3706051347653254,-1.175549557619173,0.02130021753465002,-1.5484217781531864,0.2075811752917097,0.24725848566486705,1.238670062913533,0.8402424453982108,-0.8036328133998096,0.7994663976199652,0.6231583557937971,1.8321181606650045,-0.7327079343699884,-0.2244864721893332,-1.1647270243497363,1.343697621437527,-1.6003573136991966,-0.6252040345209696,-0.2698869453958175,0.3188112432518761,1.1418541084997051,-2.2581827441292246,0.42802969232540344,1.286711064500968,0.8978984437745534,2.6997978215382985,1.068070336242152,-0.1305862206229489,-0.07724752493747407,-0.2138323213237876,1.3633003966615826,-0.03505009602458152,-0.4424991135949552,-0.461421777354162,-0.8581406325871757,-0.2684350338016333,1.113793227593592,-0.7712236525968016,0.7753183555331323,0.25323028077209403,1.2990080941532018,-0.06843067920141026,-0.8032607532824443,-0.30698015026563014,0.9523236466239511,1.3255054579055394,0.0764223157031362,1.9370659721578052,0.7820919866730183,-0.2791444860429047,-2.289190282287217,-0.27734154150687534,0.501862040174914,-2.2211349856684497,-0.46755197469713555,-0.016815390825975458,-0.5806887103844959,0.3587601514637375,-0.6990340785233181,1.845996319290598,0.48554552730407763,-0.28126102965970584,0.5401918204945826,1.3345286128898495,-1.746647158069663,0.5380627364101034,-1.6426328204292913,0.14497386106740806,-0.07676626904694273,-1.4616976594803877,-0.29427258952596114,-0.6683489107103445,0.8410564413311873,-1.2419612427069415,1.4639507704623134,0.272998801798497,0.43783757321766004,0.3252735301969409,2.719041637276339,-1.4270744994247186,-2.1408622297279094,0.396797013017521,-0.13393304765099184,-0.07351996540816562,0.1395509986663512,-0.6472003274666019,-0.3027474252329014,-0.6149668661829698,2.232583361157532,0.27244960862662915,-1.1349590179248785,1.9208041836152379,0.17594177109573428,0.01191019445419989,-0.6921610697132415,0.0292046781453115,-0.09056756083911821,-0.7062355431063078,-1.9380142677067715,1.5294039604096077,0.7917694038746755,-1.739040804441017,-0.7967972357081031,0.03142673505828037,-0.3349556305380955,0.25751776744145266,-0.20835877790953047,1.1024724224329137,-0.2711958657106116,0.06849536740873798,0.12813241548310886,0.46308783487638444,0.44028353455839364,0.7937992073001074,-0.5031442850304304,1.3979041183514125,0.5673833221866083,-0.52767481782545,-0.573755643251868,-1.4498432121890996,1.2911700097361531,-1.1311611779613149,1.1962523593873866,0.8394591676602335,-0.5879675168317973,-0.9951619377123765,-0.3938629601356961,1.6718042950747118,1.4684968114511954,-1.0044732960164116,-0.5322210693440179,-0.41508688929110454,0.6979540489177274,0.3694070641240246,-0.22482790388573268,-2.3709732042182927,2.7222242955595393,-2.012772280969932,-0.20092511071504646,-0.8295280002425177,0.8470839514394537,-0.9361037086196855,-0.3040764370721647,1.784592244604225,-1.1942342340128045,0.828763963419219,0.5252479270061231,-1.523480515856444,-0.5689788861481629,-0.6897521025586254,0.49385609871844816,2.057112658577726,1.4001940147020437,0.6206283980738708,-0.2605225467231528,-0.9090483478930712,-0.41243518044423333,-3.5861119361228218,-0.37749178779330345,0.20046512390700663,-0.9042244348151356,0.27389262108029905,-0.9460214973640757,-0.6806851018866089,-0.15005306631856682,-1.6300726412667037,-0.5018755729195591,1.0944142255853024,-1.7756610868282956,-1.6386628185740286,-1.359504652438925,0.4412190997491624,-1.0360089379892958,1.9717557463808952,-1.747078039416569,-1.8365360931212866,0.3468360992876055,0.18461943521273885,0.313606109982018,-1.7415094687265555,-0.20454413117328257,0.5132471752474875,0.675574417504123,-0.18998888977488268,0.41864260530822983,-0.8955392655903573,-0.0038416504828394918,-0.4333376370359693,-0.3509215413457219,0.3079694863301464,1.2853251847479121,-2.375942968731104,-0.6607582166022492,0.15168191886765892,-1.3132923799703773,-1.6964806160134753,0.4975382905334673,-1.0288237043017705,1.4560002941476275,-1.5513399019932008,0.19239745696887758,-0.21368356679944137,-1.1860309340174922,-0.8975768150528749,1.5359115143829785,0.41159815839896774,0.3340607329854046,-0.03970910597238857,0.7560216657817219,-0.44322028642586203,0.22142209742225935,1.5395034571930566,0.31395454279489443,-2.330975338111144,1.8770997314161044,-0.1947571370688725,-0.3748917167195237,-0.7426267467153246,-1.0552878061697246,-0.13774669728559943,-0.006163010240387931,0.7197091347435068,-0.6944487547605395,1.1080212818183586,-1.1429408085326842,-0.3808627176703798,1.8170521549859286,0.08835885243813646,-0.2571699300605953,-0.9757654691764239,1.0303357544818532,0.8102704290861256,0.12815586244191782,0.6570801410069235,-0.5171128538452071,0.8537726110883275,0.7080684289400045,-0.34226311950447513,0.686759875957325,1.2064546295351495,1.6547345983039536,1.5249654420913934,-1.1271894924103025,1.1027127162624146,-1.1081321397601256,-0.1816744073062053,1.7968521976539022,0.0021810684583501412,1.1207178534557853,-0.11219679068655942,0.7425337948039785,-2.618449898341885,1.1684739340095782,-0.3866123962976285,0.9172812937171566,0.42759621245508783,-0.9743468657839687,0.709022285780966,0.6313336442066958,-0.48601578099419995,-1.6841072273595028,-0.7027670476596507,-0.04187871398041094,0.25430750936988594,-1.2840402516481373,0.7044504012114532,-1.2342492861146153,-0.10391644813480054,0.712246265903418,-0.24198619940632898,0.6941605109031115,-0.5920848287286395,-0.24149812354894626,0.6536818359142851,-0.1135230177884086,1.280238257724065,-0.461172355095347,-0.01897125995583757,-0.8799891258475305,-0.6668502073458018,1.371549204095862,0.2390282818829989,-0.2672257243638692,0.2539993915199506,-0.6731130378513515,-2.8411190788861695,-0.6751288700072557,0.3934826382193782,1.8935431127043798,0.06038779611188568,0.03963835490126085,-0.7066520696951918,-0.1895820187895081,-0.07352783297995578,-0.5325769851529173,1.0730235928443286,-1.0832117898631712,-0.3284802727445684,-1.226325426230509,0.35243820582886454,1.0287911379019405,-0.36585291666622616,0.010048701472142445,-0.6457053701056527,-1.7372294159413386,0.24064895787727617,0.1228508587262533,3.6523650907672955,-1.3038830128831356,0.3806804438301397,0.22997732192242573,0.29656852564704467,-0.721499203762657,0.8586040429216772,-1.430148042395717,0.6836095881514829,1.1421556719780974,0.8723985336076104,0.2175389642380108,-1.0510956265032192,-0.34532508348354435,0.7074335317950307,0.06269363053438703,-0.9790392430225543,0.25582238676003005,-0.7879223810703866,-0.30920701671713047,0.7377551382907784,2.176623478481203,-0.12770774063456172,0.6156041482220777,-1.207991817720593,0.03961381668210442,-1.1743077039730323,-0.5978385552792378,1.0695571615182151,-0.5000170205017578,-1.5644732550212643,0.5926561241427507,0.022956634101071682,1.4732539276659988,1.0918772879758984,-0.2233384348244025,0.43008492008026444,1.5902416147702803,1.1639153813677106,1.4159593653798601,0.6162069339313726,-0.4246153642323722,0.4664392441658877,0.09154902904655138,1.1577583182101554,-0.5750164727079682,-1.298875490848672,-0.7659269927664413,0.09592321085633322,-1.2399054960775828,-0.5852435542325632,0.24113977901411174,-0.38287337438669317,0.34739844954843463,0.26760008041994204,0.2845068936275787,-1.319841142282499,1.0778309803581305,1.035840765246736,0.5234054631950029,-0.6073164790085641,2.005757419388133,-0.6884126560696603,-1.4418180215301235,-0.1436706526429823,0.4610273528334224,1.4774448716449546,1.7280010759004862,1.171178629876537,-0.19626265976150256,0.5274552619182874,-0.2103426321293869,1.4641640703930414,-0.8987016676760639,-1.5787155291104313,2.077783142430243,0.7562383854924897,0.6395984881935197,0.05892126029541911,0.9069696073724689,-1.4088527811370286,-1.6122398429874387,-2.6474845941440717,-0.39674141595392426,-1.1402892359819286,-0.821742457760656,-0.8947350356071828,0.4623687432779198,-0.8352333844158306,0.4836438881540586,-0.6135291427819493,-0.9479689549119568,1.2668104384445464,-1.11893992370594,0.06569740084706083,1.876748089131298,1.6110595997814048,0.9535650506102558,-0.05806405252865032,-1.5222270527673587,-1.0960517570688864,1.0737673163981003,-0.25625521071746,-0.23245528497489215,-1.064009225732821,-0.7231234119370606,-1.189375060805199,0.2437519968043933,-0.5915833720866315,0.004480178859856774,-3.0166323390109975,0.8362730095572192,0.1477473532401151,-1.7141356361058337,-0.1344583855239657,0.8341004884617605,2.571393679690344,-0.12549970561425985,2.6765100231040337,-0.9189088776947658,-0.5835058041778748,-1.6752885837384444,0.7818763678327465,-0.3505256215862986,0.028510844865960533,0.7527246525369194,0.06671818970064652,1.8203509617301263,-0.4425288372255882,1.0643273239600963,0.002894104721888361,-0.7145751491916741,0.5291074188843274,0.20410080171716646,-1.671254529893436,-0.12223885167736598,-0.4935134800396589,-0.06927231260202489,-1.4901225189881668,-2.8050078622206933,0.40337329642989994,-0.0673796376935433,0.8760972497718886,0.6961758908169311,-1.649445233246151,1.0028416008017598,0.09188938033634446,0.5268527325205511,-1.7813926943530034,1.1276867453414836,-0.590954762412028,-0.9262407616026037,2.2304876851359,-0.1861505822938359,-0.6426749067220473,1.7991793266848948,2.301146242471006,2.0752672785296875,-2.123224657791342,-0.4217078037851681,-0.37390373132279026,1.0880693365091278,0.05663812187603327,1.2333766858001183,-0.6055554723103728,0.9487802531325177,0.09791960338385516,-1.4643336976558694,-0.31156605098738976,-2.1705984440436628,-0.052278596129836076,-0.8245154370400645,0.5989007222117753,-1.3236023409357975,1.128431864190551,1.7239897991759086,0.60706451278835,-0.5473807560198792,0.19781968986167442,-0.021545865151850068,0.6414821883730434,-0.7207343497108669,-1.2106254029355163,-1.9249676784121665,-2.3885707123138973,0.42660203841931854,-0.21768951457551539,0.1597676590834045,-0.255835042686832,-0.634641191404355,-0.8791149900045845,-0.6361127407693431,2.287631259427175,-0.06861354642595255,0.2813915036686923,1.239486920643254,0.05017413515086457,-0.7626656367201096,-0.7020349257353423,1.783800217838468,0.013754081336996285,-1.1558883897219654,-0.27935015446918754,0.1128756335844824,2.367432584040843,0.474873225718835,0.015782059244440056,1.415118850975302,0.23641393791356552,0.4506355558128211,2.0139698235278147,-0.006610725266459857,0.9683430529623974,0.6761743914864881,1.0879633176271026,-0.8679850043713753,0.7480087958299252,2.3437700727484527,2.1657069991107685,-0.41941377226507065,0.3470275829991996,-2.6002634527364386,0.8937080387354212,0.9396741228970743,-0.05949813367112544,-1.666334694055916,0.4609025414630216,-0.10633190568121245,-0.22908760728022978,-0.008388562239713342,-1.3267202032329959,1.233799724783382,1.899615502385175,0.23773122167425828,0.4180088643398579,-0.6903050182570547,-0.11053822198870435,-0.45368052264434566,-1.1026893937489333,-1.0734452584261363,0.6698589855202868,-0.07982345893166833,-0.3366836293770145,0.09633972835293385,-0.23059061255052296,-0.8608911268601771,0.11529857077470956,1.1516746781925802,-1.3249876290154035,0.8493869883039269,-1.0257568597010982,1.2513816374440845,-0.7864481472028032,0.8330408090588246,0.14595616781908,-0.3754700215589067,0.6891638983868767,-1.9240904337679867,-0.09863602365472253,0.7406430598260656,-0.8477789826704101,0.007606902152532433,-0.6780040599297622,1.5304257875177278,0.44591086904047617,-1.5160581690821757,-0.8829567975239627,-1.2288456495122742,1.6587618818998167,0.6568347284733316,-0.2569126618201611,-1.3211822783885052,-1.5510436769892046,1.0053024332271325,0.11241469670229189,0.2860735750035169,-1.7788015879658652,0.20200410762149723,0.5976529587212324,1.2067360647756233,-0.44008291886786166,0.15193693497399344,-0.7555647091090991,0.3895514592880816,-2.0602693009574478,-0.3120131261916367,-1.2003807357926264,0.9241046818061638,-0.20391104915818178,-1.0349146932497622,0.5162010154824899,-0.2707701441588591,0.05642200738821772,-0.08620980395094209,0.14897419999828018,1.1809522408407032,0.608602372671839,-0.6965844322929187,-0.9195795301493025,-0.005240901381575785,-0.2870530157240303,-0.5657331377264139,-0.21924533555186282,-0.6229797549162028,-1.1450542317066201,0.1132555183891309,0.4817805504194401,0.11167331053846531,0.03841523266935808,-1.9472244182139544,-1.2284334978612619,1.3184427013919586,0.7747969773707214,-0.8723296156770657,-0.1971741073631291,-1.3368685478248061,0.9429176055787207,-0.551750528277651,1.0227318931167568,-0.3256048226302985,2.2806628495336843,0.24329738782705307,0.037401000863660785,-1.1808906617907922,0.7095125950964716,0.7516036931583124,0.4753356129633063,1.5598508483978593,0.7863213470938921,-1.4788473622326668,0.6592209997582043,-0.680484007863865,-0.6607083026049914,-1.1614287994251973,-0.14835253164744325,0.47081984750163003,-0.05054505608525769,-1.7787805253813869,-0.2973463203701581,-2.786318585699417,-0.3899702819029594,1.066440205995124,-1.087498562848051,-0.8187547988634933,-0.38842231237574415,-1.613727631418575,0.23663493634144087,-1.1418074893197359,-1.4329021600975365,1.3698641926200392,-0.31057474871177215,1.396239240524132,0.27620872665929946,1.7725308874564187,-0.04807527511318573,1.134460014876019,0.6700728242220308,-1.745026223268083,-0.6834796275273162,-0.12161163932760168,0.4620701915801282,0.6654763203932249,-1.0996070756677603,-1.2017855407276568,0.24762338232898967,0.49081798262315,-0.63071842522591,1.1346019867095867,0.830161481313901,-1.86223976952049,1.4930343214780057,0.8177634091477619,1.3451765937232545,-0.6903169849960522,-0.5274492031704436,-0.65661248765499,1.7580381070211337,-1.0982531021358086,-1.837746289253622,-0.7625353951814754,-0.5975978079794022,1.0129512581569609,-2.7082011710790086,1.449132506470655,0.9725370390985406,1.0494429976274762,0.6207373689489682,1.6290195702400572,-0.5996356877410621,0.585678518623478,0.48545064165494406,-1.8169646566616926,1.3716120503832963,-2.8175166402839973,0.7553240423377755,0.9196675037208732,-0.22904061529650085,-0.9075233451390031,-1.2122333407467194,0.8633612995554292,0.1067364798545736,-0.0868915930337895,0.9273478552116926,0.9444486091773416,0.6130372874830727,-1.1716961603060156,-0.4214926959845433,0.17549284939447946,1.3744681313337102,-1.4479814267070261,0.7291630939947479,1.443354908223279,-0.15756260648102813,0.8049394048287666,0.9869359818888486,2.7857822947960997,-1.2447169407546141,0.48678074215125633,-0.09067298486654037,-1.3917689495590773,-0.01643767026968728,0.09954454240609172,-1.3226203858086851,0.5674358083654629,0.7707654631860953,-1.1097313868529308,0.07418553732975122,0.224624636305452,0.8910097092590078,1.4640656696412575,-3.0074930900955326,-0.3001059541671411,0.26760644595951993,-2.9146663265697885,-1.7934892057865919,0.8818544494716865,-0.8601158331470606,0.3850489384626715,-1.982247190745087,0.6756956647032906,-0.8590192065386222,-1.5490505306697935,-1.1223410828667422,-1.7617659077687546,0.5112357444504966,-1.3506790878957757,-0.16808555254760862,-0.6895946805834018,-3.050039134459715,0.7443619493171644,-0.4786066380607679,1.6258836808167072,0.4784768459319877,-0.26597806842785676,-1.5323172305996802,0.8440182509896973,0.8538319938983454,0.2632308216126997,0.3852785562982519,0.4230049296943379,0.006350183711922786,0.5563367299769914,0.18349665393805295,-0.3673745366423226,-0.9697086561840605,0.11378000870075136,0.5003965974428844,0.8204118470280806,0.7162626773496481,0.4588733586477666,1.4633416671749315,0.2413820017097262,-1.5264171245293552,-0.04036265093735989,-0.3716426924170488,-0.6746425259999291,0.7487903496128148,1.2987228190613664,-0.08289126659258855,-1.196242595129778,-0.7259904148710471,-1.179542863761717,0.35420594384219195,0.09144525900581744,-1.0228620209964514,0.05232629741516457,-0.6048721119033481,-1.293424065476963,0.39674459825856834,1.3923236229567915,1.4430218143532623,0.6734094851379274,-1.238130009206126,-0.694497084228341,1.3887406588012805,-1.0615367778349158,-0.08297644665451379,0.4821752730306132,-0.21797007750779868,0.36394551205391307,-0.406046898104929,0.9982299110893946,-2.3811009206479072,0.6397633849583463,0.2668877882964089,-0.18512353001287382,0.9928706460158518,0.1219644279602505,-0.8841958723652743,-0.20490758558141006,-0.6559647396508884,-0.6112255048705447,-1.1221076900845015,-0.5303440937945335,-0.07254512275368796,-2.3082415477890463,0.21962540231816843,-1.3640967556313204,-1.7603042027294002,-2.114094224303464,-0.3728451695419841,-1.3944208411008578,0.963714162255238,-0.14262853930733163,-0.5563991795003408,1.2859540818793624,-1.091032279619609,-1.3189473359285273,0.4871162681521485,0.6435573020467876,2.4182337887598675,-1.5358585282984103,0.9228791401867822,-0.7015818521339469,1.309055242033565,1.9786615246616202,-0.7888213568324727,0.09359203387620443,0.38834372884735296,-0.33117229510344814,1.105626147064653,1.069400773735407,0.1625343222662646,0.06791220733688677,0.532432682121964,1.717258706850711,0.37418190185954203,-1.2500786099268963,-0.14646407160747787,-0.7817467382729988,-1.1750547523171377,-0.1688355753320927,1.053399358953417,-0.7868787750681125,2.041070822549174,-0.07860855228525584,-0.2135342608469077,1.0037691107938322,1.7181273179169478,-0.7412571774775799,0.48556599853948695,-0.08396517632673549,-2.0704975914446107,-0.8257215070108703,1.4100212133336831,-0.0340594785822724,1.9992855697585035,1.2800781710878395,0.1942516795319046,-0.5302140961173243,-0.5833266033401043,1.9282507415283108,-1.0108281566566835,1.7778932954958897,1.5754367338546234,-1.7626817099419694,0.8444210963001354,-0.7292982068208448,0.6020888142741707,-0.25899184652189555,0.49876730599830593,-0.40768255434188544,0.41497362574481944,1.8535986991352051,-0.31573156855157447,-0.8432933282743741,-0.21237731431465678,-1.0944452215725584,-1.1364731679194107,-1.643540078829316,0.37221993114958773,0.6448224748117676,0.6060529389955874,1.1591991051985981,-0.2769998208653563,1.3908449124539528,0.15599627257411658,1.2330660104823414,0.8247903536708604,-0.35061022976832634,1.204655565638758,1.197323059511216,1.4714258842407928,0.28014016450524937,-0.22199092259783848,-0.21968658863900584,-1.0889354439806365,-0.8053336129250047,-0.5282478016840663,-0.7529990799584648,-1.2012354885401297,-0.3865051023551044,1.271968265402303,-0.6431234971505971,-1.0976871893044853,1.4652981756690138,-0.9601946871139954,-0.5622238049539673,0.5454112754824426,0.588761482891095,-1.1137545121508745,1.1589827862963198,-0.0001506126305028368,-0.0741979762893185,-0.628027809839428,1.5066509660649978,-0.9785297740777511,-0.6857778217464529,-1.05548316143984,-0.8418079907065504,0.04522651399148945,-0.12745953068916369,-0.06931052114250824,-1.1477615761984457,0.7753331900477567,0.18518442309711433,-1.0488999747877192,-0.47046755937280177,1.0584870289871455,-0.33559683391077294,-0.1133366871796113,-0.1581379235118002,0.14277240622843987,2.9774574642354694,0.38605359214541424,1.1507952214536934,0.9542209362990876,-0.05859510306957646,1.5028718007624522,0.5780606166880028,-1.3994513847345673,0.7144461895779334,-0.8104299994323915,-1.4349760446299475,-0.9594102400528373,-0.373111245423473,-1.126885972444363,0.5135303345451375,2.7776288753835434,0.30953371309386035,-0.6431105111087967,-0.6745478674256066,-0.3136231463978326,-0.21310329291437455,1.5481047036675195,-0.014374316919804071,-0.4415294791469226,-1.4703057715191172,-0.19165351601228514,-0.2854820370400782,-1.4995634199460088,2.052508873447157,0.953676915655169,-2.837384898021441,-0.5577849708302292,-0.5471794001584199,0.16684337816092343,1.4002910205382186,-1.8308963084658596,1.056748662127188,1.0097698405054356,0.3042489648125347,0.8777683388912157,-0.7665158123019138,-0.42841773878613754,-0.055907867844689964,0.21565416004726407,-0.7827118715318333,-0.15822205835329325,-0.3739954467379435,0.020398481346309134,0.3540230077591599,-0.9121519063953897,-1.8827289379092633,-0.30751601232144127,-0.6822711954177356,-1.7005504925538235,-0.5995341260169564,-0.8299213576638099,-0.025996155356532373,0.22808253824388552,-0.07141956713266662,-0.01415289168690305,-1.540812358213649,1.4717875338968773,-0.3349427771525475,1.0531855053040087,-1.0540509421162272,0.14209423306089738,0.1581876085735648,0.3779936282820225,-0.5726043963296578,-0.11809418966333121,1.415620669770643,0.5890720967718529,0.010913075956952815,2.209424699609759,0.830784333928487,-1.7636194801956393,1.2620167558569138,0.4713380858962524,0.23825950925912476,0.4246430066676303,-1.13660365738006,1.3711044681890592,0.21966128431701334,-0.498575503257407,0.23148206172333918,-0.831719091294337,1.20697310172069,-0.06968405446697527,-1.3146919318317734,1.1374056121704559,-1.8835391692847432,0.7958066633376149,0.0005043769684663185,-0.8879366282973989,0.7858763437787112,-0.5069069982900533,1.3778725553703963,0.5411621465867925,-0.5481214355312243,2.0297282075718033,1.801988676227317,-0.7431413835468599,0.06509256692165649,0.8109885097826341,-1.2411128254404746,0.6627547680033653,-0.48946044710948566,-1.03017249329672,-0.09209841516403494,-0.8945815316898319,1.704170697256207,0.23234630141669088,-1.1824309943883864,-1.5736597583570489,-1.9643773209108044,-0.9773535904228337,0.40645746068343663,-0.6985908973964227,-0.34034348273107906,0.002325772331255971,-0.3230452763209325,-0.6759547549578923,0.023658615138995188,1.2025695933075469,-0.8773960236741972,0.43124177561173394,-0.541121740670191,1.0242439114736064,-0.2556015628786895,0.4415030820769171,-0.4615433169037814,1.1962165921212897,-0.8782517765623629,0.902937193516176,0.6081948950768056,-1.5683476087742185,-1.4222489926682553,-1.0017622480277684,0.29511273274395605,0.4203148662552769,0.239725462080235,-0.47527954403232336,0.11869904410229702,1.4618676230523082,1.7264129330932017,0.3093709033131769,-0.6384608430859023,2.6380519515483907,-0.5381274540452896,1.2198301731949377,-0.02842427386243607,-1.0695803767972343,0.954118065879747,1.042700428579194,0.08516146367419239,-0.34769220105061593,0.2813017133615048,-1.234238739088992,1.0487236626152172,0.07128725408076136,-1.4834106184862004,-1.499256789769151,-0.7932684023592766,-0.8006013725986065,-0.05051753391026548,-0.8207644249959105,0.7341089611871764,0.2465386699036362,-0.48927119844833383,1.6325102435600989,-0.30532666981836,1.1310758683866318,-0.2386060019820096,-0.5821533693427189,1.4335868163460905,1.1135612812417532,-0.3218409963136556,-1.1167368920474752,1.0867837973438785,-0.8978326758670244,0.11607495219140143,0.6272912981958573,-1.2145069611397596,-1.8384303027144013,0.12961291465904543,-0.5178451288799337,-0.36266978802125943,-0.2628743367131427,-0.21267601939256395,-1.6411703030165685,-0.5971979181912874,1.0580433822745003,-1.308665320686103,-1.9828482354641288,0.79216941798922,-0.09693333432101468,-0.8693644919138765,1.7731599714762245,-0.5264056958107111,2.4095761732672445,-1.6224376279254278,1.150014009427378,-0.40202846221754207,-0.12496894653451933,0.29731777564254264,-0.6425196560357581,-1.4106405163575164,0.368426124159252,-0.4051954671456531,2.8891841011169674,-0.5448171455359293,-0.8398421608398233,-0.160776071947627,1.2851183041726542,-0.8248145690360701,0.7815113969220349,0.5495877555681514,-1.5269028151048254,0.5618229304268693,-0.25776174030856874,1.5029721161486271,0.4970245124225524,0.49430567702367495,-1.4544972548973567,-0.410355557246972,2.101118963039305,0.36136669647713765,-1.4635537157669891,-0.822568074374606,0.8149964907009775,-1.2705650083793067,-1.1037683598309107,-0.3970659684836343,1.4526900900563924,0.2736590614670648,-0.03162798339634813,1.133310337009484,1.0482833554813251,0.18502305862552063,-0.20949324394891808,0.6257553120087918,0.09256182029943533,-1.3942505157561356,0.3894732861143382,-1.3160605223538155,-0.5969505347402378,-0.43158494982160683,0.7459143135063473,-0.00540990719930497,1.1396261139395492,-1.4903020609000073,-0.3546460054380628,0.3068189091674528,-0.8321775530007872,1.8287116413857039,-0.2987485231560589,0.16221070522450187,1.8653897497433898,0.45817183024614955,-1.153132551025799,-0.7430029970294852,1.9244965672362493,-0.5945624702242995,1.6489041528920423,-0.04861349999815359,0.9292772450606407,0.2046035187288198,-1.5029980896784905,0.020727545297506342,0.3946428741325283,-0.3355473710896953,0.01340637308478233,-0.1729397548761089,-1.0651487216303033,0.36773834714462583,-2.4435468364243977,-0.9167097653589407,1.5513305585014987,1.6826459283339812,-1.2683848458542966,-0.07362674770971923,1.4965538808244212,-0.39177588621427295,0.4074525605040595,0.094427933504117,-0.7994032844768324,-0.33786681604575913,-0.24429899214908238,0.1857686633514283,1.2359313173052433,-0.6758066937087669,0.46613498175574436,-0.22799430591767664,-1.2007626853901028,0.376243579698603,-0.5207542492478309,0.31652239506499374,-1.4482523746713212,0.22689557942587463,-0.6119045359992468,-0.43948743228440357,-0.9344344184012825,0.7196453319250559,0.6385041157884093,-0.9548113897249075,0.479210957912591,-0.6777163453885339,0.41959163432025715,-0.37054240396818955,-0.3845661639186178,-0.9679469853222824,0.26465701694028626,0.5801568970624977,1.3926969508680531,-0.08305342539721926,0.6352569055656496,-0.19272794713635968,2.0696140688859583,-1.353235697410202,1.5123578838844465,0.8965016347021347,0.8388609785596607,0.9721144284362139,-0.7623015156863822,-0.6054294356555434,1.1324296749717566,0.46584746336457206,-0.22257582608969775,1.7710931341497929,-0.019452956844860765,0.6912866513653908,-2.311973522530447,0.20139117874476192,1.3535352591375187,1.5978496895301932,-1.7381175170709546,-0.679849685071043,0.07679434570811967,-1.1179253348253637,0.2766147755810123,1.5487636140001215,2.0829295195397988,1.1516143454443954,0.39550031804753566,-0.6610372014014552,-0.20868144268907982,-0.724040425765364,-0.7510154217609645,-0.5015478836984356,-0.7919034401319688,-1.5393418768228517,-1.7273588208841224,-0.599832648653643,2.1853220052065025,1.7688746448738937,-0.9377845034533318,1.079159473725647,0.3370974665266746,0.8231192736209422,0.40111287900491005,-1.333589919741914,0.43454805783395395,-2.4829215737519355,0.3683722435407328,-0.06709774494275957,-0.6433750143654254,0.21226980940029128,-1.0212500376009397,0.6781160320023417,1.2264598832253018,0.9266367553119527,0.0682127588710582,-0.08224422760945883,0.3522118112000928,-0.13845737637839756,-0.4600334616088287,1.2217858795800403,0.38725160358144173,-0.13659147384466566,-0.8464151416225333,-0.8364313117305369,1.4949667003248526,-0.5478475316227264,0.0735893795061677,-0.8982051976155261,0.527134558352271,-0.19033964739881087,-0.03270181941095152,-0.6437447946887556,0.40525988791588136,0.5802793341743399,-0.163083239501963,-0.9529366417715595,1.899319412659258,0.22011422131784697,1.3307721765080311,-1.163637092194994,-0.03312862248605249,1.7228600327470265,0.39444788241220385,0.6547066667417861,-0.1398223434590245,-1.6378803754004048,-0.8760672187935337,0.18626729675048048,0.6909984001807195,1.9795824788468814,-0.00733934628100789,-0.7893220516275737,-0.8252331522301664,-1.6373906202290778,-0.10766662078324978,-1.6278471589590666,2.933561639909133,-1.8924612524501703,-1.3503450263985597,-0.6299475274574706,-1.0832938549272668,0.2047922990599579,-0.5867684427837374,-0.3711644549030609,0.9348484709912878,-0.8989527510019387,-2.390335289419647,-0.9369907453262736,-1.1765689390077503,-0.3354733720409415,0.2858738198034946,-0.531101790812607,1.2057567868261692,-0.7494051595250325,-0.5841489645633765,-0.14887783250369124,0.5541544790029691,2.0838019886462162,0.8736986277036667,0.1525090875564727,0.7921389371349997,-2.0277272280322354,0.90249245134394,0.10949966515197329,-2.1747248697281116,-0.7567522658553444,-3.1053719321181417,1.565172992027234,-0.39750945796597115,1.3039396561740828,-0.8704613858784899,0.2137839036688366,0.9743236417435723,1.4858406677530476,0.48895208263032286,-0.5871641996930387,-0.9754310629476913,-0.3287929016740175,0.6373955835189428,0.6397467985224227,-0.9386048995436315,-1.5334423997502367,-0.0086937145756775,-1.3382239853805602,-0.3764798943141097,-0.5975806091843218,-1.5463164042636464,-1.1747311808976295,-0.36599487108462253,2.4207007059806833,-1.1777601470990784,-0.3384980350679856,-0.9015944262471804,0.7987539252660664,0.5948917972262033,-0.5795693616306893,-0.5765663904632358,-0.4678910639599966,-2.052677379974127,0.5459995554730122,-1.065165131619879,1.4187037819818624,0.6858803296400453,-0.3962945678143287,-0.4835755603081583,-0.04937753257825401,1.3354296898435887,0.31477903252678163,0.3610250104058103,1.318311885319462,-1.056451781878158,1.4325801552065458,-1.1318325948165242,-0.5991176294434201,0.8852483776330422,-1.919023276664888,-1.5679201249191081,0.10524428483980817,-0.03169138578645736,1.1406162410521508,1.2364354795717005,0.5908973717578916,0.3669768603990394,1.2054057392939583,-0.19547063484601565,-0.5646926340399656,-0.35774593068308297,0.5288352548886612,-2.031374710200273,-1.0158740185246955,-0.12314235037256656,-0.12941905556303643,-0.5383672873063231,-1.1707092773098722,0.553192503401426,-0.16079853850015507,1.3409582947856227,-2.270495046162484,-0.7819625875371033,-0.9411943682797104,0.6497943401810123,-0.1646676104005132,-0.3919038348810815,0.2578515812701929,1.0932196355481871,-0.5659437251445443,-1.453658866094479,-0.587300366172213,-0.7281847465529585,2.0286064581063257,0.6796181124582402,-0.075617027830764,-0.34197981677448674,0.9146187746380944,2.045221181118653,0.0681646709927021,0.9514391894005321,0.5516775682049304,-0.6055047685791876,0.8628381924497691,0.6582352659158666,-0.06968279998819464,0.2312038273243317,0.7490245116891157,-0.6148203637541967,-0.11783200444769841,-1.9679638680674214,-0.05792275914624202,-0.6427206603665928,0.4831090188604084,0.6705304490832448,0.08219938632459442,1.3276558422007643,0.5687508010415225,0.3449642663230857,0.5969154288951212,-0.5525898648318233,-0.9727412756460979,-1.2407316108291986,0.21826598598355051,1.1279422414778362,0.8348523569374292,-1.1666285599310056,-0.7117608391022106,-2.8325414847821198,-0.5575367689831822,1.179101002054478,-0.37206043547295997,-1.0550545598813275,1.1777259040265382,1.3219081787978881,1.326661603747495,1.0513759593799765,0.16154438128377266,-0.4732724945449702,0.45554453495699593,0.05650139275965787,-0.21190626590999115,-1.9094432446310028,0.18454834198635517,1.4696726541647627,-0.14580475073850893,0.2118959248119047,2.085639667263818,0.40900917769257034,0.7513071630626573,1.301352381178113,0.3040169425533714,0.16914169266124035,0.2615505762578729,0.761962685055336,-0.22630459517002824,-0.6266140585741867,-0.6454268044402648,0.14762354811820158,-0.13330046752228167,1.040667520588015,1.0602909896746784,0.23079343879248967,1.1614556365156106,-0.7433384523900364,-0.37710872112951294,-1.7024500984487716,-1.04235583425682,-1.055841690720841,-0.5404720405265604,-0.5140725898227635,3.0838308202990947,1.1202421093859283,0.0716554186069283,-1.8169160806223497,-0.1381408545635073,0.2243720897473244,-1.5971384980554293,1.5715428803735685,0.3332448335537975,0.03771409774329025,-2.1900647052233886,0.8698766876869827,0.2816599493448489,0.18612501187382516,1.9839034552193553,-1.045347905286116,-0.13856717214434558,-0.6496460606051458,-0.9634563874302016,0.07916856402547778,0.34753911700647416,0.05510706491966639,0.11190417824621843,1.4350396748680536,-1.1896538944826793,1.2236159577248815,0.08808042653594422,-1.2256725588846942,0.5475133329525609,-0.368002105864469,0.6646547264668536,-0.9578453885280005,1.8241052885110696,0.34559577108905304,-0.8028539163774268,0.02596261053541435,-0.47504617664258914,-0.08921631812493187,1.7024530449154534,-0.5318941575823617,0.8999125200612768,0.6955048199698027,-1.3454867275041806,1.0160726852138224,0.8751300371792943,0.6827466587768308,0.38582875257657046,1.1578874774919927,0.0381345579179599,0.08272778189052059,0.01603561820915401,0.9425326287397413,-0.577533538278217,0.5629787874967065,1.2618053153109234,0.00430422545661214,-1.475412453322498,-0.19994939928033412,0.8699636527767363,0.9594973038141665,-1.1432089601144095,-1.5000231011065308,-0.4202564555960223,0.798958237367331,1.301063899351419,0.8495924047000656,2.364038418172461,-0.9501927445070877,0.1586384232745628,-0.03677537283929522,-1.4383281861466963,1.1493905718675146,0.408733554951553,0.24756991649094898,-0.0702752266392291,-0.4711812251878334,-0.9541152342760437,-1.3802710400599367,-0.2885829300886912,0.6310849134887239,-1.0179997133549903,0.4188487454298107,-1.6227752801081146,0.27773779406161425,0.006483249257064729,-1.2828891031561238,0.6251039384031258,0.8687050366181717,-0.5882069529401768,0.8009215280155666,0.5223373644357117,-1.555940153546919,0.36332824119287477,3.182109219253863,0.7008772689457924,0.000257387799561755,0.9811283143963461,-1.1085330521099628,0.5009853921443965,0.6711552686289447,0.9594305954654778,0.024627994299145778,0.7682615847404024,0.06898736117441108,0.2872817594887443,1.3515740881188036,0.6627606733957809,0.1172768394558595,0.9836142615958701,0.046347886403899925,0.4254309967772339,1.2339170612084298,-3.14804956083053,-0.7729855959739194,2.860519719111513,-1.9119723431469138,1.39107669623325,-0.8190488117828593,0.636666522016944,-0.8556075729228719,1.8676429147933067,0.1617253163377884,0.07869628671739477,-0.15663905985403645,0.5859482944242467,1.302522294837395,-0.43421508023757593,0.34315933406859656,0.12120947273009025,-0.09753758135060876,0.8162149514231893,-2.5876539699681613,0.9439802354446953,-0.3999848781317378,0.1996841631634038,0.9934737760104418,-0.8136052586365785,0.3693841002382287,0.027703782302391466,-0.7750942053823152,-0.17240424912435573,1.0003350798303807,-1.7339168557582072,1.2602809692715924,-0.31039264757890833,-1.0326666971760676,-0.16223005423816475,-0.8302831997570895,-1.9683388169011333,-0.8100893278336468,-0.8305615046835284,0.3987980854135301,-0.267499403327633,0.38653242392153764,2.2263147909525047,0.2654840421599531,1.0069191021484898,0.6197916434885132,-1.3984066974858036,-0.6742460056164298,-2.385028065355944,-0.1167790135556511,0.9124324993811194,-1.4626281907497445,-0.6073617922581788,-0.3176108589268693,-0.612192058992118,0.10580878738977917,0.5842515032113147,-0.6151397944113275,0.4583763855636472,-0.5113837771670592,0.5198739625549038,1.3987112992072788,0.9613824286716502,0.3063184081285823,0.0956690498442999,1.0004053767320598,0.9349766028907835,-0.060321006063376495,-0.9569026506611555,-0.9663409564997333,2.557774969556802,2.1257157304299663,1.6442638016058129,-0.04221725650593064,0.9943126148177496,0.2886610793720728,0.3728114038417789,1.0182792239557064,-1.5673758597433847,0.6749540132303464,-0.06761046540993494,0.1623764400841052,1.0354665917030574,-0.06917558072534961,0.4840917018314001,-0.661022966625403,0.7450127309319358,-1.2511035002742221,0.4240928039858889,0.7562506197755897,-0.8113061687785769,1.2062148835227848,1.3935019588766038,1.0340880467903646,-0.552644802075637,0.5847351325905448,0.4735525636586911,0.5950582883029888,-1.531437872257238,-0.6691529497805356,-0.45602985361446896,-2.70660603580462,0.3920458532217146,-1.2780081420446276,-0.3035343579929169,-1.3187203702596182,1.7049253339768418,0.8298364382691742,0.9517847424866116,0.8390905368955017,0.6325952990748609,-0.7236858890537426,-1.1667985808402026,-0.09174698964978378,-0.9066376140431711,-1.3005838637423166,-0.32062937889239956,1.1583625665146333,0.15947743321707963,-1.5062119203838733,-0.39258520772591626,-0.6624492537654402,0.0026511149203842345,-0.7832390422086141,1.0498858587942588,0.38903335158458846,-2.53020659498835,1.266580709383572,-0.25583283549347535,0.14042406656955586,-0.6276949549439074,0.27570023111851444,-0.13554581209638614,0.1968831402905254,2.7937904558141184,-0.9755268889835468,1.3839001865251255,-2.9411480689069163,-1.1470643170231418,0.6074096858027486,-0.8941516080166404,-0.4044699639048786,-0.050207870626117715,-0.2765293945606036,0.42189723138686913,0.08177313248162625,0.09588152628290633,-1.5737383696454885,-1.0270826874863233,-0.8644724683909477,0.28294635200565077,-0.40828790287526,-0.6177584530000292,0.8008963497441717,-0.40900927658177866,-0.7103466213475322,-1.6895942835896836,-0.9828016345357063,0.916420623915134,-1.6476733260493426,-0.2779922175562853,1.235345358010199,-0.33632035426977464,0.4908646361380463,-1.5590457408591594,0.23986014175174655,-0.9457670565908647,-0.9335480335160768,1.015554105996835,-0.09192245756343365,0.13719572020308116,-1.7278911175580498,1.6835685687786506,-0.5727415671537579,0.13550400756570052,0.08568962253473035,-1.1451183293411038,1.713823450407744,-0.13700981563368186,-1.3153092600403324,0.547956821342884,-0.2050405374768863,-0.8188948339089955,0.5540439109253801,2.9635672745931974,-0.1550333634081631,-1.0615153020776396,0.29894337971086965,-0.18042092013747724,0.16810992356757584,1.3643087918321493,0.7920236067971533,0.7259684292311928,0.3407598443787246,0.4096282161170546,-0.5836812993833279,0.5837196032769026,-1.7637425051286324,0.8127421570008557,-1.6446390933413733,0.32951405885019264,0.9608258036854976,1.4402545350705342,0.9406697774692132,-0.40094969123103125,0.3161648058977633,1.1469595762698375,-0.09019212689945082,-0.34644005301367103,-0.9442557005023829,0.37801293979415557,-0.5732894364147878,-0.08285399459242025,0.9141489182377394,0.7037733975233336,-0.6844840114355546,-0.83546766393509,-1.4040050850584327,0.8280747062499625,1.3895176295579235,0.05197876347123309,-1.1229018369265615,-1.8027064684050969,-0.7613588221850256,-0.45497138833297535,0.6512450203346216,1.2274673655763995,-0.6673221925583985,1.9477665545080354,-0.0797575982800126,0.33652800689332346,0.3433096969587212,-0.9005417581143369,0.3646208875908553,-0.8315415493316629,-0.04274976416875612,-0.6425737015707775,-1.1267795399948708,1.1808909844700533,1.3202265462284501,1.7845118152949146,0.8391377787657822,0.25278156518911504,1.0906228485476566,-0.2023687094604175,0.17240442631341765,-1.1330800653364494,0.786993615864819,-1.1266757928607085,0.042856777073383846,2.785931783972029,0.3210458261123416,0.85434946103155,0.2526325192927083,-0.4337032206308346,-0.7936942864781784,0.07004724888573727,0.8431016999210055,0.28738080350407474,0.12596154027995937,-0.24194383812064157,-0.22144092464772014,0.18023151133622028,-0.407647172707845,-0.3221338455392581,-1.3848520367565895,-1.473959262490041,0.6588471507885486,0.11965803952543763,0.9651547676230773,-1.276552793448821,-0.17170608597395776,0.07203344746896885,1.272975924200607,-1.1406071899785093,1.0198515765326854,0.2106951824661324,0.21537072962084639,-0.4255815781849124,-0.6971326129236568,-0.09342147398531732,0.2883850804535636,-0.6577392951342473,-0.7425020148202442,-0.11741001910955588,0.329306206610028,-1.111820421671061,1.0823422793227315,-2.58974427401957,-0.2553397546485117,-0.022972351113215873,-0.14350447668684685,0.9976969752102884,0.6718349080457622,1.4354506293310725,-0.7518493740056623,-0.16114703480946574,-1.0395879343122274,0.8045028224534451,1.7411962976385773,-2.841892222398773,-0.27219412135879667,0.8790247443426903,-0.6664850684113911,-1.3821999204416693,0.3582536786502656,0.4239053253470628,0.09239948685886851,1.94821992013359,0.9361780972709312,0.7767120197331133,-0.5199956665357375,1.3408298327421124,-0.06908809210555437,-1.252964642505372,-0.4674132764415158,2.384229333573069,-0.36095911720713,-0.6855310486916661,0.5196728509725307,0.037550487744141214,-1.5965536044635764,-1.9044918239634072,-0.38561971352938257,2.1924325061028758,-0.2755665386508812,-3.2848239333099936,-1.0371540147847322,0.311952306917299,-0.30311497478055005,0.22667981479442123,0.15928363676951177,-0.0762341888269612,-0.792282571543011,0.1690697533106804,1.9945105308163393,1.1647357008967483,0.06921101101956953,-0.9716369617594777,-0.1590324992696098,-0.39693790361539666,-1.291767308992884,-1.8995146641602894,-0.4879258990942667,0.5077450489848196,-1.2039575555280655,-1.0505763593105555,1.5094876016895566,-0.44827352823428374,0.8196052396151738,1.1724007048103673,-0.4113796091654142,0.23843151578237426,-1.9336237940335341,1.3752358065501276,-1.3143370368184415,1.0112154515110925,0.7165409973476164,0.8344060108993926,0.9511684909212648,-1.3629020981477742,0.6514461833033295,-0.9905359628156587,0.10135816243611896,-0.7629691113960722,-1.4870037574963946,0.5934426185545102,2.6725306714698793,0.21677560665227041,0.29081322454768527,2.1736440969328688,-1.3492281567373594,2.3714007327578788,1.2825648758217356,-1.5449608045996113,0.746513788913452,1.0717506601966262,0.850230697809676,-0.15234545154591964,0.5946411963825208,-0.4081886139037605,1.2022362144497216,-0.8189929478852832,1.0202530959017557,-2.314370523555533,-0.6845110503017124,0.5116601093213851],\"type\":\"scatter\"},{\"marker\":{\"color\":\"red\",\"line\":{\"width\":0.5},\"symbol\":\"diamond-open\"},\"mode\":\"markers\",\"name\":\"Churn\",\"x\":[-1.2744448282842062,-0.42282578152705097,3.0989726966852613,-0.904816062550908,1.0815175771921195,-1.0978803345163974,-0.3935012874849848,-1.3028275838272017,-0.8157272265177676,-1.0456900752924463,-0.6538333528393899,-0.4993659912264067,2.99737386560367,-0.32462458978760805,-1.4593711104472695,1.4013652181478817,-0.45176825261324666,0.09785027538354306,-1.6428690265606942,1.669184277068338,-0.6082398005817248,-0.45433737375466554,-0.5737265334328838,-1.1606387728021978,-0.5305851466993993,1.465386130435079,0.14653989054534033,-0.6291449115330935,1.7230397704487797,-0.30935791348789526,-1.128818606193824,-0.5350274874299172,-1.4047160920883408,-0.029090419571593994,0.17251596154742105,-0.7102165662302246,-0.5898637217578522,-0.4113344904530763,-0.4148241148620102,-1.1863826235225778,-0.36371060595153487,-0.8140824794416742,-0.5394272206832988,-0.12433657915499935,-0.5340523275474802,-0.4577360880216538,-0.9324263168907847,2.0492086482787153,1.8676764436998736,-0.8201654576223364,-0.31818157117778917,1.058468280767676,2.3551014026133856,-1.3583426718277738,0.17384645629798726,-0.8669651260747644,-0.5024769252853866,-0.402411454342147,1.8310534903516824,-0.3982527048230646,-0.24756953364026435,-0.39201617853093523,0.12682140647601572,-0.28416182118494987,2.1913095836924024,-0.09499469722607033,-0.7345222128104075,0.18077248257009534,-0.9005622124427984,-0.8612100013842124,-0.665934218939142,-0.7212171674991643,-0.6156086664849422,-0.2572657178261955,2.088577405547644,-0.4596321496219168,-1.1416162905014102,-0.4416525967517773,-0.7418913585201257,-0.5602814423823808,1.5321836049132218,-1.3461128851253725,-0.029189793765185358,-0.5806751723011392,-1.2126640178130197,-0.35956985553662824,-0.11345369337928347,-0.5279527977889802,1.275087986600227,-0.23204007781119335,1.9605317085012697,0.48764087546687024,-0.47131125335058965,0.3018664602526619,1.7357834079570864,-0.5427325320195244,-0.4412442673230956,-0.5854684935058764,2.48888865784842,-1.4743036564757974,-1.4365188851500688,1.7414123646495587,-0.5490274546086729,-0.389063790958121,-1.0865961416648462,1.9698483357705183,-1.0543296069060624,-1.091645953852503,-1.1309796072686804,-0.8171261380142516,-0.8981434624015463,-0.6581682685352134,-0.3269207969890148,-0.20947563084355736,1.468378609943842,1.892402816022301,1.979363940655425,2.3803003447098736,-1.1921076599703286,-0.06515332685360305,-0.8976401457803056,-0.6929963065942949,-0.1601146606130873,-0.7482804209062689,-0.6735552061765201,-0.7957943802033368,0.9617486758745583,-0.2968238277439518,-0.4329709811582075,-1.1064145315220804,-1.3061478574501364,-0.7458670934487047,0.11952039978789586,-0.3517963020359188,-0.049304825680779964,-1.0562642766068642,-0.5385834797686267,0.2157916894528228,-0.9813694084172441,1.0346549113556252,-0.7689251979724653,2.6641405672977982,2.307549150342132,-0.03142239396681804,-1.0132137076120984,1.2191251596830308,-0.4685360050419217,-0.45319636994770296,-0.3367093473084345,-1.2780780824806275,1.1871158996318896,-0.5403516946617382,-0.4281361383323242,0.5900038290133549,-1.5758725536829938,-0.5487924545381494,-0.4499859258904372,-0.1689513783558735,-0.3255932902259165,-0.904257237612218,-1.4392041529328714,-0.356533608812924,-0.34788543013445367,-1.0852587440495065,-0.7680689822780435,0.11876109929389946,-0.250389603637125,-1.1000741184221665,-1.2011664455060767,-0.3221198500384661,-0.9542077204734614,-0.323208980685567,0.05540840422548786,-0.09131811301833455,-0.6055685433752213,-0.6513674229930222,-0.7972617441737935,-0.6108657399983534,-0.21741047352560702,-1.2472474420476105,-0.8437217030545134,-0.7217912812556012,-0.5638537570964373,-0.10851518284376913,-0.6424320642169802,-0.9017759965842438,1.0324130417891748,-0.7045350439516245,-0.8706882191929644,-0.9970513258825585,-0.26524616540894247,0.7577071543261309,-0.2910793652291974,-1.255183346587801,-0.27773902103753395,-0.30370936125236625,-1.2013771741958976,-0.2584987705983651,1.394768372990724,-0.433973474938495,-0.3330421444601682,-0.47428063305250784,2.4603951705514393,1.6508094356978058,-1.234707879395474,-0.5295371039147949,2.111177650892543,-0.6401609137982613,-1.127011193485765,-0.6050186567182031,-0.4650746265959345,-0.897957898571504,-0.6433860115994541,0.4321580406651817,-0.3372196913958844,-0.08759345941927647,-0.6723100291270263,-0.08766104837163233,-0.282602812057331,-0.8423324843617398,-0.2729520866112714,-0.4896196227163555,0.9634759854028941,-0.5381044510554756,-1.3351458940978385,-0.4277961575473467,-0.8026377293096171,-0.7335695520412217,-0.6283877165996865,-0.748368446419085,-0.5367349263441444,-0.4405843215985778,-0.3655340850923667,-0.7901571626115231,-0.7878585241553864,-0.6023192561262523,-0.6803039575503493,-1.2773582723726216,-0.8633922046343999,-0.22352513361741186,-0.5812223733583186,-0.47183168745682125,-1.0539576892494502,-0.5112550496520132,-0.5775074027649715,-1.033686081914612,-0.5840331447956459,-1.1375313916096568,-0.24808247298562408,-1.4221700589176858,-0.9757154230768711,-0.7962229825274059,-0.19367621338325802,-0.989911462796189,-0.41444744939493905,2.0242754860059735,-1.453119452676595,-0.9214229996083372,1.5033153154712977,-0.3457362998010792,-0.38993339578725694,-0.3274909038835723,1.4828143880286175,1.8843459392573312,1.9916439382234443,-0.5065348927648523,-1.229731782004132,-0.8983224243549741,-1.5899996846157352,-0.8991351404530842,1.431988596707487,-0.5515025980152343,-0.6043150013588396,1.555887764618043,-1.4343068436209592,-1.320298313732634,-0.9171873639378969,-0.2935849652043645,-0.5764897041203458,-0.17297125708684527,-0.2835143791732397,-0.41842335016170873,-0.7131015544749261,-1.0580359659393623,0.11655928427172806,-0.263255467166756,-0.14153482519399285,-0.9213258268101446,-0.2774635742973395,-0.20975284417198584,1.431839741701797,-0.5618310698836647,2.369285961360398,-0.7144539757290327,-0.24479103395087082,-0.7252933419549606,-0.7586467246476027,1.2993731140945903,-0.6007717085656614,-0.10851722635108811,-0.7030383711103907,-0.9749948654999013,-0.480197146085558,1.9777261031814275,-0.25769414233564863,-0.37595354920467394,-0.13817362998770627,-0.0839875357119569,-0.7712426242180181,1.3304009172035145,2.0894015892295035,-0.4609718501683462,-0.5687772873638991,-1.1072248510340248,2.2912601854698056,-1.007571178397616,1.3776634490007846,-0.3203427323775111,-0.7177247418171648,-0.6164004740308011,-1.0643280350562825,-0.8929141834347882,1.910206530368611,-0.5856638653250988,-1.1683752718355678,-0.24479362581518274,-0.1167036061993183,-0.5446201471434227,0.7023695723746187,-0.6246261304710252,-0.7324873905235907,-0.9877397092954209,-0.3072271591679461,-0.43696590589093787,0.2829319728890424,-0.568184291962972,-0.7442083779055465,-1.2597795805466063,1.5606359539094357,-0.7250980105394897,-0.5858194878989542,-0.5314595080720934,1.7078445512445097,-1.404981485624253,-0.5729738054595597,-1.189672916317386,-0.5478054278040883,-0.7973086645197843,1.279192510128626,-1.3464601875198696,-0.4070072586707437,-0.8568576693277332,-1.0883341807430011,-0.04142520037194604,-1.3149671133584568,-0.33105910306742176,-1.5022696277080176,-0.09226482428572247,-1.0071863817729236,-0.20311995915986325,-1.2509909633674294,-0.16903270847858232,-0.19136924361674668,-0.723755216744552,-0.40378668066964546,-0.5105178266320364,-1.37209416586249,-0.22828162594622886,-1.5057697637841407,-0.5977465265921735,-0.13228486609738774,1.3093529689544587,-0.7245169770088495,-0.4624097661048094,-0.47020465612617823,-0.8079922546547371,-0.9836369777960472,2.451791721464265,-0.8594379131216644,-0.385957289116091,-0.40981113327442664,-1.0400989780970993,1.6873638318232158,2.1451581067434518,-0.934405091829981,-0.8937637092305987,-0.7003857240806178,-1.4593782444456347],\"y\":[-0.6949671891503914,-0.4015289886152956,2.606819443409727,-1.5185623088175648,0.7991024113697383,1.1116368823304181,0.8707032457578185,1.0741779436207197,-0.36405709152926974,-0.02373668283339005,1.7343038545910536,0.43950531804533055,0.5650512549808934,-0.8587234123763127,0.5989827445180935,-0.5578219262770564,0.18469576593564058,1.6770497967488145,0.2406194644489317,0.8182278327097156,0.932162724079982,0.9269720471726246,0.8900357799043906,0.8617112635552396,-0.6692487924456296,0.7893095103404155,0.7061775073011509,0.41501084083665274,-0.7106743892843416,-1.970181661648508,-0.528625874531565,-2.240167085535994,-0.5778202294985297,-0.4600811946931478,0.5574987589379643,-0.07204655699490237,-0.7195639568306682,-1.425946874437612,-1.2781816159868336,1.569090732865164,-1.8164821681625292,0.5533737195175182,-0.905774490823848,-1.317024311517143,0.038476607148162714,0.7593555897333829,0.1773774328784224,0.8670412962903657,-3.2013502740753625,-0.38513205464359157,0.2356142730818106,0.6109127527990771,1.813546586101589,-1.065202555354984,1.0109144642605445,-1.601810923734724,-0.6839178377831825,-1.44128052223127,1.7811178593185204,-0.09949280875264528,0.7860395857774808,-0.23160104161622513,0.029315170713498897,0.48779639545871434,-0.5522167648708062,0.39886748424850044,-1.6634222869749928,-1.1122797719015476,0.7677871128958557,-0.15471834103318902,-0.2083440570986708,1.481446488428747,-0.45020265977484647,-1.0060618455802506,-0.8484324411090904,-1.1165767893241711,0.5872309590493308,-0.5083038241601047,-0.06828611929022133,0.43296424402123823,-0.08845982455345418,0.34270875970697906,-1.5196300858853216,0.5005402198983511,1.7470559957697605,2.379925158299898,1.2522955745792304,-0.40354903576921547,0.8961652827833171,-1.424148795808974,0.3949317504684292,0.4244796847874769,-0.557479773810705,-0.9081326380643143,-0.8833040596787821,1.8586791457504304,0.8390501931051737,0.30991618513552505,0.37496171084695396,1.2416875209094558,0.6180851105471252,0.37262851232368993,1.623407940153706,1.1177789792708508,-1.6174189874985756,0.8474527508753869,-2.586605062149728,0.4825547833105204,1.0890400058957281,1.8966417998442342,-1.3553099545834828,0.5124474262217784,0.5979694740375883,-0.2614509881184515,-0.16462983101857195,-0.6060636082807502,-1.6320060562776075,-0.44199939010297173,-3.1352722471317382,0.545483528549901,-0.14421649435087422,-1.5160622505757402,0.009227721299120221,-0.2633428347424206,-0.9905673703548576,-3.4838671195337865,-1.8332650901247536,0.07328580999615814,-0.4820857103448294,-0.9597667100555352,-3.319376358980896,-1.3009712116283616,0.6660541283782104,-0.350074815547727,0.2551655400124756,-0.9058181084797615,-0.8509882618630017,-0.3984564375201969,-0.014620440798925322,0.00932332606404321,0.17533613711319224,1.0958775386091415,-0.2519114135840476,-0.29946663502555204,-0.20054499885070776,0.523166977966818,-0.7881640303730999,0.3574851407575975,0.714198739540456,0.3376036952694355,0.06004286725767319,0.7226415196663294,1.4355901840612224,1.084633338064888,0.6042584533706835,1.1321134363339957,0.5116212564178251,-0.4143768209234998,0.7785917816554195,0.47849867761693143,-0.7430426709128949,1.9565658676792734,2.1392119539876453,1.0507885850346306,0.10482311996981096,-0.2989241143825968,0.21182111462714848,-0.6985561301452726,-0.22790538234112692,0.7035167937768985,-0.1378719815364741,0.8519911023470007,-0.11479533027977776,-0.26317648943936056,1.2868171339602787,-2.8172239474844405,1.265501877178099,-1.108080439435476,-1.3075832389904072,0.17016591759999114,-0.3163792897307172,-0.13167566252813107,0.024620707642816604,-0.9788358004228056,0.5992000510712048,-0.9503716992368015,0.13036257365499507,0.22137742278031752,1.2559538120755582,-0.367136684660819,-0.17703067198238467,-0.3919057422534655,-0.37406588681279823,-0.4007075219846035,2.230745512731386,-0.30043115457492053,-0.7090224995139018,-1.200681744913045,1.199822008118925,0.0046865452903721615,0.18650281571451316,0.6720076628424352,1.7526613695902107,0.6121710178236485,0.9106052473112547,-0.46819328078642064,1.0713463693994636,-1.1740909040328165,-0.5327595116757528,0.6103285946870092,0.6207070159368235,-0.3916217863606889,1.582428225810702,0.2698507673789864,-0.2929341341963977,1.5748243004080746,0.0936731224475285,0.8502621019886326,-0.6026793059961842,-0.5410736908725224,-0.8913413091078694,0.086144560846421,0.7753752766812012,1.1401081988732598,0.7415069904859439,-0.026093067420690095,1.5685096865670232,-0.7385974347843756,0.8274542196479816,-0.0011678587074040435,-0.00252798144121542,1.2142609983532082,1.1123344453225659,0.38799509987391034,-1.412122529651936,-1.5631894409553593,1.063002022378235,2.207793765800856,-1.266186387723511,0.5404657519897454,0.3005516777171665,0.34504791511044364,0.23356296546413194,-2.153835458198563,-0.09572998999261045,-0.33622370318348205,-0.007343249836963877,-0.0761146766518716,0.07770881147130279,-1.6087086769883026,-0.5481803924887912,0.11967147080296843,-1.6761312395773238,1.202051009521533,-1.5640228857162362,0.1752151560796349,-0.7752581018377772,0.07271523463231755,-0.520892268986274,1.7611581357423534,0.9627898699044243,0.05063582320876623,-0.01638876776767088,0.36825912424091545,0.34573088545047814,-0.11897726728398925,0.11948834047545548,-0.25462081892905086,-0.1163255551601134,-0.9557541840850361,-0.49265828521898264,1.6694098417413263,1.092418894396823,-1.252489039173751,-1.3925376878235733,-0.6345995926518706,-1.7622070514833592,-1.608487526419363,-0.31332924290628067,-1.413848695997441,0.9238564001852967,1.4518635409414224,0.6393083361031623,0.9050058009668899,0.5281188528028781,-2.1489255299827996,-0.6186484812172096,0.4450653717286889,0.4556054438789364,0.39531181786699243,0.584247995670233,0.04007757483324423,-0.7022011549088765,0.20531041280237017,0.9933707817516153,0.1251040950329317,0.2054757892531373,1.6356241277931909,0.6130149088056434,1.6146423526847136,0.6162490498351858,0.2848865274602603,2.0755618072684054,1.3149341242473849,-0.7271344286720213,0.6146539997761578,-0.15833132193478933,0.4445346535976043,-0.21939427652073748,0.8933542071253091,-1.4984627249673896,-0.6729118354420697,1.4590729947853112,-0.3857158467949266,-0.45852126991869496,-1.352153142147711,-1.3384913212597789,0.8611394866386568,0.37841847488379543,-0.3032866226552808,-1.7403937593595662,-0.4299697814551723,-0.90136746909391,-0.34732460187476505,1.4330305511084678,-0.11827633577336585,0.11534411559777054,-0.4747017653050827,-1.2873198305114737,-0.12211866574120371,0.5650774815030761,-1.6108814052243663,-1.335132058936644,0.3681013235527942,1.0787673435270893,0.3745247223998796,-1.265668034456614,-0.7766491317853033,-1.2895611799685307,-2.004216980168442,2.0228648662096074,-0.28793118530043293,1.843930923493424,-0.7137902062867112,-0.6155583073537517,0.5752014439285192,1.0731973852960321,1.1992579731155673,0.28841025928422576,-0.21596004511505465,-1.6127022062620693,-0.0975423429317916,0.5958685526918164,-0.13867236203073513,-0.5289618408207473,-2.114689317218974,-0.5824771732822863,0.9428164961520248,-0.4065693053496018,0.6560443097612297,-1.2878398478609587,-1.3597767270791659,-0.5396486428932227,-1.2279818423267481,-1.9186714933202573,1.2198591491382937,0.44041713724686055,-0.06332585515745695,1.3786525773458917,-0.2332126905606787,-1.1859275064114092,-0.4551145553385216,-0.19469719320668954,-0.06781189436790958,-1.019723950950535,1.4309921593909591,0.8696572049934108,-0.1015906774343562,0.8312346726381951,-0.9350169028214596,-0.8557280543684386,0.09907854060515431,2.1297648488296246,3.586295079940123,1.1601281433691686,-0.7570831000626432,-0.16380770893212912,1.1747754879835366],\"type\":\"scatter\"}],                        {\"height\":400,\"paper_bgcolor\":\"rgb(243,243,243)\",\"plot_bgcolor\":\"rgb(243,243,243)\",\"template\":{\"data\":{\"barpolar\":[{\"marker\":{\"line\":{\"color\":\"#E5ECF6\",\"width\":0.5},\"pattern\":{\"fillmode\":\"overlay\",\"size\":10,\"solidity\":0.2}},\"type\":\"barpolar\"}],\"bar\":[{\"error_x\":{\"color\":\"#2a3f5f\"},\"error_y\":{\"color\":\"#2a3f5f\"},\"marker\":{\"line\":{\"color\":\"#E5ECF6\",\"width\":0.5},\"pattern\":{\"fillmode\":\"overlay\",\"size\":10,\"solidity\":0.2}},\"type\":\"bar\"}],\"carpet\":[{\"aaxis\":{\"endlinecolor\":\"#2a3f5f\",\"gridcolor\":\"white\",\"linecolor\":\"white\",\"minorgridcolor\":\"white\",\"startlinecolor\":\"#2a3f5f\"},\"baxis\":{\"endlinecolor\":\"#2a3f5f\",\"gridcolor\":\"white\",\"linecolor\":\"white\",\"minorgridcolor\":\"white\",\"startlinecolor\":\"#2a3f5f\"},\"type\":\"carpet\"}],\"choropleth\":[{\"colorbar\":{\"outlinewidth\":0,\"ticks\":\"\"},\"type\":\"choropleth\"}],\"contourcarpet\":[{\"colorbar\":{\"outlinewidth\":0,\"ticks\":\"\"},\"type\":\"contourcarpet\"}],\"contour\":[{\"colorbar\":{\"outlinewidth\":0,\"ticks\":\"\"},\"colorscale\":[[0.0,\"#0d0887\"],[0.1111111111111111,\"#46039f\"],[0.2222222222222222,\"#7201a8\"],[0.3333333333333333,\"#9c179e\"],[0.4444444444444444,\"#bd3786\"],[0.5555555555555556,\"#d8576b\"],[0.6666666666666666,\"#ed7953\"],[0.7777777777777778,\"#fb9f3a\"],[0.8888888888888888,\"#fdca26\"],[1.0,\"#f0f921\"]],\"type\":\"contour\"}],\"heatmapgl\":[{\"colorbar\":{\"outlinewidth\":0,\"ticks\":\"\"},\"colorscale\":[[0.0,\"#0d0887\"],[0.1111111111111111,\"#46039f\"],[0.2222222222222222,\"#7201a8\"],[0.3333333333333333,\"#9c179e\"],[0.4444444444444444,\"#bd3786\"],[0.5555555555555556,\"#d8576b\"],[0.6666666666666666,\"#ed7953\"],[0.7777777777777778,\"#fb9f3a\"],[0.8888888888888888,\"#fdca26\"],[1.0,\"#f0f921\"]],\"type\":\"heatmapgl\"}],\"heatmap\":[{\"colorbar\":{\"outlinewidth\":0,\"ticks\":\"\"},\"colorscale\":[[0.0,\"#0d0887\"],[0.1111111111111111,\"#46039f\"],[0.2222222222222222,\"#7201a8\"],[0.3333333333333333,\"#9c179e\"],[0.4444444444444444,\"#bd3786\"],[0.5555555555555556,\"#d8576b\"],[0.6666666666666666,\"#ed7953\"],[0.7777777777777778,\"#fb9f3a\"],[0.8888888888888888,\"#fdca26\"],[1.0,\"#f0f921\"]],\"type\":\"heatmap\"}],\"histogram2dcontour\":[{\"colorbar\":{\"outlinewidth\":0,\"ticks\":\"\"},\"colorscale\":[[0.0,\"#0d0887\"],[0.1111111111111111,\"#46039f\"],[0.2222222222222222,\"#7201a8\"],[0.3333333333333333,\"#9c179e\"],[0.4444444444444444,\"#bd3786\"],[0.5555555555555556,\"#d8576b\"],[0.6666666666666666,\"#ed7953\"],[0.7777777777777778,\"#fb9f3a\"],[0.8888888888888888,\"#fdca26\"],[1.0,\"#f0f921\"]],\"type\":\"histogram2dcontour\"}],\"histogram2d\":[{\"colorbar\":{\"outlinewidth\":0,\"ticks\":\"\"},\"colorscale\":[[0.0,\"#0d0887\"],[0.1111111111111111,\"#46039f\"],[0.2222222222222222,\"#7201a8\"],[0.3333333333333333,\"#9c179e\"],[0.4444444444444444,\"#bd3786\"],[0.5555555555555556,\"#d8576b\"],[0.6666666666666666,\"#ed7953\"],[0.7777777777777778,\"#fb9f3a\"],[0.8888888888888888,\"#fdca26\"],[1.0,\"#f0f921\"]],\"type\":\"histogram2d\"}],\"histogram\":[{\"marker\":{\"pattern\":{\"fillmode\":\"overlay\",\"size\":10,\"solidity\":0.2}},\"type\":\"histogram\"}],\"mesh3d\":[{\"colorbar\":{\"outlinewidth\":0,\"ticks\":\"\"},\"type\":\"mesh3d\"}],\"parcoords\":[{\"line\":{\"colorbar\":{\"outlinewidth\":0,\"ticks\":\"\"}},\"type\":\"parcoords\"}],\"pie\":[{\"automargin\":true,\"type\":\"pie\"}],\"scatter3d\":[{\"line\":{\"colorbar\":{\"outlinewidth\":0,\"ticks\":\"\"}},\"marker\":{\"colorbar\":{\"outlinewidth\":0,\"ticks\":\"\"}},\"type\":\"scatter3d\"}],\"scattercarpet\":[{\"marker\":{\"colorbar\":{\"outlinewidth\":0,\"ticks\":\"\"}},\"type\":\"scattercarpet\"}],\"scattergeo\":[{\"marker\":{\"colorbar\":{\"outlinewidth\":0,\"ticks\":\"\"}},\"type\":\"scattergeo\"}],\"scattergl\":[{\"marker\":{\"colorbar\":{\"outlinewidth\":0,\"ticks\":\"\"}},\"type\":\"scattergl\"}],\"scattermapbox\":[{\"marker\":{\"colorbar\":{\"outlinewidth\":0,\"ticks\":\"\"}},\"type\":\"scattermapbox\"}],\"scatterpolargl\":[{\"marker\":{\"colorbar\":{\"outlinewidth\":0,\"ticks\":\"\"}},\"type\":\"scatterpolargl\"}],\"scatterpolar\":[{\"marker\":{\"colorbar\":{\"outlinewidth\":0,\"ticks\":\"\"}},\"type\":\"scatterpolar\"}],\"scatter\":[{\"fillpattern\":{\"fillmode\":\"overlay\",\"size\":10,\"solidity\":0.2},\"type\":\"scatter\"}],\"scatterternary\":[{\"marker\":{\"colorbar\":{\"outlinewidth\":0,\"ticks\":\"\"}},\"type\":\"scatterternary\"}],\"surface\":[{\"colorbar\":{\"outlinewidth\":0,\"ticks\":\"\"},\"colorscale\":[[0.0,\"#0d0887\"],[0.1111111111111111,\"#46039f\"],[0.2222222222222222,\"#7201a8\"],[0.3333333333333333,\"#9c179e\"],[0.4444444444444444,\"#bd3786\"],[0.5555555555555556,\"#d8576b\"],[0.6666666666666666,\"#ed7953\"],[0.7777777777777778,\"#fb9f3a\"],[0.8888888888888888,\"#fdca26\"],[1.0,\"#f0f921\"]],\"type\":\"surface\"}],\"table\":[{\"cells\":{\"fill\":{\"color\":\"#EBF0F8\"},\"line\":{\"color\":\"white\"}},\"header\":{\"fill\":{\"color\":\"#C8D4E3\"},\"line\":{\"color\":\"white\"}},\"type\":\"table\"}]},\"layout\":{\"annotationdefaults\":{\"arrowcolor\":\"#2a3f5f\",\"arrowhead\":0,\"arrowwidth\":1},\"autotypenumbers\":\"strict\",\"coloraxis\":{\"colorbar\":{\"outlinewidth\":0,\"ticks\":\"\"}},\"colorscale\":{\"diverging\":[[0,\"#8e0152\"],[0.1,\"#c51b7d\"],[0.2,\"#de77ae\"],[0.3,\"#f1b6da\"],[0.4,\"#fde0ef\"],[0.5,\"#f7f7f7\"],[0.6,\"#e6f5d0\"],[0.7,\"#b8e186\"],[0.8,\"#7fbc41\"],[0.9,\"#4d9221\"],[1,\"#276419\"]],\"sequential\":[[0.0,\"#0d0887\"],[0.1111111111111111,\"#46039f\"],[0.2222222222222222,\"#7201a8\"],[0.3333333333333333,\"#9c179e\"],[0.4444444444444444,\"#bd3786\"],[0.5555555555555556,\"#d8576b\"],[0.6666666666666666,\"#ed7953\"],[0.7777777777777778,\"#fb9f3a\"],[0.8888888888888888,\"#fdca26\"],[1.0,\"#f0f921\"]],\"sequentialminus\":[[0.0,\"#0d0887\"],[0.1111111111111111,\"#46039f\"],[0.2222222222222222,\"#7201a8\"],[0.3333333333333333,\"#9c179e\"],[0.4444444444444444,\"#bd3786\"],[0.5555555555555556,\"#d8576b\"],[0.6666666666666666,\"#ed7953\"],[0.7777777777777778,\"#fb9f3a\"],[0.8888888888888888,\"#fdca26\"],[1.0,\"#f0f921\"]]},\"colorway\":[\"#636efa\",\"#EF553B\",\"#00cc96\",\"#ab63fa\",\"#FFA15A\",\"#19d3f3\",\"#FF6692\",\"#B6E880\",\"#FF97FF\",\"#FECB52\"],\"font\":{\"color\":\"#2a3f5f\"},\"geo\":{\"bgcolor\":\"white\",\"lakecolor\":\"white\",\"landcolor\":\"#E5ECF6\",\"showlakes\":true,\"showland\":true,\"subunitcolor\":\"white\"},\"hoverlabel\":{\"align\":\"left\"},\"hovermode\":\"closest\",\"mapbox\":{\"style\":\"light\"},\"paper_bgcolor\":\"white\",\"plot_bgcolor\":\"#E5ECF6\",\"polar\":{\"angularaxis\":{\"gridcolor\":\"white\",\"linecolor\":\"white\",\"ticks\":\"\"},\"bgcolor\":\"#E5ECF6\",\"radialaxis\":{\"gridcolor\":\"white\",\"linecolor\":\"white\",\"ticks\":\"\"}},\"scene\":{\"xaxis\":{\"backgroundcolor\":\"#E5ECF6\",\"gridcolor\":\"white\",\"gridwidth\":2,\"linecolor\":\"white\",\"showbackground\":true,\"ticks\":\"\",\"zerolinecolor\":\"white\"},\"yaxis\":{\"backgroundcolor\":\"#E5ECF6\",\"gridcolor\":\"white\",\"gridwidth\":2,\"linecolor\":\"white\",\"showbackground\":true,\"ticks\":\"\",\"zerolinecolor\":\"white\"},\"zaxis\":{\"backgroundcolor\":\"#E5ECF6\",\"gridcolor\":\"white\",\"gridwidth\":2,\"linecolor\":\"white\",\"showbackground\":true,\"ticks\":\"\",\"zerolinecolor\":\"white\"}},\"shapedefaults\":{\"line\":{\"color\":\"#2a3f5f\"}},\"ternary\":{\"aaxis\":{\"gridcolor\":\"white\",\"linecolor\":\"white\",\"ticks\":\"\"},\"baxis\":{\"gridcolor\":\"white\",\"linecolor\":\"white\",\"ticks\":\"\"},\"bgcolor\":\"#E5ECF6\",\"caxis\":{\"gridcolor\":\"white\",\"linecolor\":\"white\",\"ticks\":\"\"}},\"title\":{\"x\":0.05},\"xaxis\":{\"automargin\":true,\"gridcolor\":\"white\",\"linecolor\":\"white\",\"ticks\":\"\",\"title\":{\"standoff\":15},\"zerolinecolor\":\"white\",\"zerolinewidth\":2},\"yaxis\":{\"automargin\":true,\"gridcolor\":\"white\",\"linecolor\":\"white\",\"ticks\":\"\",\"title\":{\"standoff\":15},\"zerolinecolor\":\"white\",\"zerolinewidth\":2}}},\"title\":{\"text\":\"Visualizing data with PCA\"},\"xaxis\":{\"gridcolor\":\"rgb(255, 255, 255)\",\"gridwidth\":2,\"ticklen\":5,\"title\":{\"text\":\"first principal component (PC1)\"},\"zerolinewidth\":1},\"yaxis\":{\"gridcolor\":\"rgb(255, 255, 255)\",\"gridwidth\":2,\"ticklen\":5,\"title\":{\"text\":\"second principal component (PC2)\"},\"zerolinewidth\":1}},                        {\"responsive\": true}                    ).then(function(){\n",
              "                            \n",
              "var gd = document.getElementById('920fe9a3-2608-4301-88a1-a3b0d43e4297');\n",
              "var x = new MutationObserver(function (mutations, observer) {{\n",
              "        var display = window.getComputedStyle(gd).display;\n",
              "        if (!display || display === 'none') {{\n",
              "            console.log([gd, 'removed!']);\n",
              "            Plotly.purge(gd);\n",
              "            observer.disconnect();\n",
              "        }}\n",
              "}});\n",
              "\n",
              "// Listen for the removal of the full notebook cells\n",
              "var notebookContainer = gd.closest('#notebook-container');\n",
              "if (notebookContainer) {{\n",
              "    x.observe(notebookContainer, {childList: true});\n",
              "}}\n",
              "\n",
              "// Listen for the clearing of the current output cell\n",
              "var outputEl = gd.closest('.output');\n",
              "if (outputEl) {{\n",
              "    x.observe(outputEl, {childList: true});\n",
              "}}\n",
              "\n",
              "                        })                };                            </script>        </div>\n",
              "</body>\n",
              "</html>"
            ]
          },
          "metadata": {}
        }
      ]
    },
    {
      "cell_type": "code",
      "source": [
        "# # Select features\n",
        "# # features = data[['Total day minutes','Total day calls','Total eve minutes','Total eve calls','Total night minutes','Total night calls','Total intl minutes','Total intl calls','Customer service calls']] #9 columns\n",
        "# features = data[['Total day minutes','Total eve minutes','Total night minutes']] #9 columns"
      ],
      "metadata": {
        "id": "zLrv8eScN-Ho"
      },
      "execution_count": 209,
      "outputs": []
    },
    {
      "cell_type": "code",
      "source": [
        "df_telecom = pd.concat([data_telcom, data_telcom_test], ignore_index=True)\n",
        "df_telecom"
      ],
      "metadata": {
        "id": "HRmSiO701o4w",
        "colab": {
          "base_uri": "https://localhost:8080/",
          "height": 485
        },
        "outputId": "7f822b77-9755-4e64-e424-183567aa9fc9"
      },
      "execution_count": 210,
      "outputs": [
        {
          "output_type": "execute_result",
          "data": {
            "text/plain": [
              "      International plan  Voice mail plan  Churn  Account length  \\\n",
              "0                      0                1      0        0.692163   \n",
              "1                      0                1      0        0.161278   \n",
              "2                      0                0      0        0.919686   \n",
              "3                      1                0      0       -0.420168   \n",
              "4                      1                0      0       -0.647691   \n",
              "...                  ...              ...    ...             ...   \n",
              "3328                   0                1      0        0.338240   \n",
              "3329                   0                1      0        0.135998   \n",
              "3330                   0                0      0       -1.026894   \n",
              "3331                   0                0      0        1.475851   \n",
              "3332                   1                0      0        2.107858   \n",
              "\n",
              "      Number vmail messages  Total day minutes  Total day calls  \\\n",
              "0                  1.247508           1.579670         0.484868   \n",
              "1                  1.320985          -0.329918         1.135375   \n",
              "2                 -0.589414           1.179302         0.685024   \n",
              "3                 -0.589414           2.212509        -1.466653   \n",
              "4                 -0.589414          -0.235822         0.634985   \n",
              "...                     ...                ...              ...   \n",
              "3328               1.320985          -0.781946        -0.615990   \n",
              "3329               1.541416          -1.769028         1.535687   \n",
              "3330              -0.589414           0.266021         0.885180   \n",
              "3331              -0.589414          -0.178627         0.685024   \n",
              "3332              -0.589414           0.633178         0.234673   \n",
              "\n",
              "      Total eve minutes  Total eve calls  Total night minutes  \\\n",
              "0             -0.058619        -0.050781             0.857403   \n",
              "1             -0.095916         0.147654             1.048458   \n",
              "2             -1.554439         0.494917            -0.759668   \n",
              "3             -2.718509        -0.596479            -0.084083   \n",
              "4             -1.022461         1.090224            -0.281046   \n",
              "...                 ...              ...                  ...   \n",
              "3328          -0.877198         1.239051             0.914523   \n",
              "3329           0.068977         1.536704             0.558019   \n",
              "3330          -2.265051         0.494917             0.175909   \n",
              "3331          -0.052730         0.246872            -0.147111   \n",
              "3332          -0.800640        -0.794915            -1.220563   \n",
              "\n",
              "      Total night calls  Total intl minutes  Total intl calls  \\\n",
              "0             -0.469031           -0.085020         -0.597527   \n",
              "1              0.149054            1.242179         -0.597527   \n",
              "2              0.200561            0.704125          0.216894   \n",
              "3             -0.572045           -1.304609          1.031314   \n",
              "4              1.076181           -0.049150         -0.597527   \n",
              "...                 ...                 ...               ...   \n",
              "3328          -0.314510            0.453033          1.031314   \n",
              "3329          -1.396158           -0.766555         -0.597527   \n",
              "3330           1.745772            1.062828          1.438524   \n",
              "3331          -0.932595            0.488904         -0.190317   \n",
              "3332           1.900293           -1.878533          2.252945   \n",
              "\n",
              "      Customer service calls  \n",
              "0                  -0.429172  \n",
              "1                  -0.429172  \n",
              "2                  -1.191955  \n",
              "3                   0.333610  \n",
              "4                   1.096392  \n",
              "...                      ...  \n",
              "3328                0.333610  \n",
              "3329               -0.429172  \n",
              "3330                1.096392  \n",
              "3331               -0.429172  \n",
              "3332                0.333610  \n",
              "\n",
              "[3333 rows x 14 columns]"
            ],
            "text/html": [
              "\n",
              "  <div id=\"df-062365c2-79e8-40cd-84ed-df5bf4fec3a7\">\n",
              "    <div class=\"colab-df-container\">\n",
              "      <div>\n",
              "<style scoped>\n",
              "    .dataframe tbody tr th:only-of-type {\n",
              "        vertical-align: middle;\n",
              "    }\n",
              "\n",
              "    .dataframe tbody tr th {\n",
              "        vertical-align: top;\n",
              "    }\n",
              "\n",
              "    .dataframe thead th {\n",
              "        text-align: right;\n",
              "    }\n",
              "</style>\n",
              "<table border=\"1\" class=\"dataframe\">\n",
              "  <thead>\n",
              "    <tr style=\"text-align: right;\">\n",
              "      <th></th>\n",
              "      <th>International plan</th>\n",
              "      <th>Voice mail plan</th>\n",
              "      <th>Churn</th>\n",
              "      <th>Account length</th>\n",
              "      <th>Number vmail messages</th>\n",
              "      <th>Total day minutes</th>\n",
              "      <th>Total day calls</th>\n",
              "      <th>Total eve minutes</th>\n",
              "      <th>Total eve calls</th>\n",
              "      <th>Total night minutes</th>\n",
              "      <th>Total night calls</th>\n",
              "      <th>Total intl minutes</th>\n",
              "      <th>Total intl calls</th>\n",
              "      <th>Customer service calls</th>\n",
              "    </tr>\n",
              "  </thead>\n",
              "  <tbody>\n",
              "    <tr>\n",
              "      <th>0</th>\n",
              "      <td>0</td>\n",
              "      <td>1</td>\n",
              "      <td>0</td>\n",
              "      <td>0.692163</td>\n",
              "      <td>1.247508</td>\n",
              "      <td>1.579670</td>\n",
              "      <td>0.484868</td>\n",
              "      <td>-0.058619</td>\n",
              "      <td>-0.050781</td>\n",
              "      <td>0.857403</td>\n",
              "      <td>-0.469031</td>\n",
              "      <td>-0.085020</td>\n",
              "      <td>-0.597527</td>\n",
              "      <td>-0.429172</td>\n",
              "    </tr>\n",
              "    <tr>\n",
              "      <th>1</th>\n",
              "      <td>0</td>\n",
              "      <td>1</td>\n",
              "      <td>0</td>\n",
              "      <td>0.161278</td>\n",
              "      <td>1.320985</td>\n",
              "      <td>-0.329918</td>\n",
              "      <td>1.135375</td>\n",
              "      <td>-0.095916</td>\n",
              "      <td>0.147654</td>\n",
              "      <td>1.048458</td>\n",
              "      <td>0.149054</td>\n",
              "      <td>1.242179</td>\n",
              "      <td>-0.597527</td>\n",
              "      <td>-0.429172</td>\n",
              "    </tr>\n",
              "    <tr>\n",
              "      <th>2</th>\n",
              "      <td>0</td>\n",
              "      <td>0</td>\n",
              "      <td>0</td>\n",
              "      <td>0.919686</td>\n",
              "      <td>-0.589414</td>\n",
              "      <td>1.179302</td>\n",
              "      <td>0.685024</td>\n",
              "      <td>-1.554439</td>\n",
              "      <td>0.494917</td>\n",
              "      <td>-0.759668</td>\n",
              "      <td>0.200561</td>\n",
              "      <td>0.704125</td>\n",
              "      <td>0.216894</td>\n",
              "      <td>-1.191955</td>\n",
              "    </tr>\n",
              "    <tr>\n",
              "      <th>3</th>\n",
              "      <td>1</td>\n",
              "      <td>0</td>\n",
              "      <td>0</td>\n",
              "      <td>-0.420168</td>\n",
              "      <td>-0.589414</td>\n",
              "      <td>2.212509</td>\n",
              "      <td>-1.466653</td>\n",
              "      <td>-2.718509</td>\n",
              "      <td>-0.596479</td>\n",
              "      <td>-0.084083</td>\n",
              "      <td>-0.572045</td>\n",
              "      <td>-1.304609</td>\n",
              "      <td>1.031314</td>\n",
              "      <td>0.333610</td>\n",
              "    </tr>\n",
              "    <tr>\n",
              "      <th>4</th>\n",
              "      <td>1</td>\n",
              "      <td>0</td>\n",
              "      <td>0</td>\n",
              "      <td>-0.647691</td>\n",
              "      <td>-0.589414</td>\n",
              "      <td>-0.235822</td>\n",
              "      <td>0.634985</td>\n",
              "      <td>-1.022461</td>\n",
              "      <td>1.090224</td>\n",
              "      <td>-0.281046</td>\n",
              "      <td>1.076181</td>\n",
              "      <td>-0.049150</td>\n",
              "      <td>-0.597527</td>\n",
              "      <td>1.096392</td>\n",
              "    </tr>\n",
              "    <tr>\n",
              "      <th>...</th>\n",
              "      <td>...</td>\n",
              "      <td>...</td>\n",
              "      <td>...</td>\n",
              "      <td>...</td>\n",
              "      <td>...</td>\n",
              "      <td>...</td>\n",
              "      <td>...</td>\n",
              "      <td>...</td>\n",
              "      <td>...</td>\n",
              "      <td>...</td>\n",
              "      <td>...</td>\n",
              "      <td>...</td>\n",
              "      <td>...</td>\n",
              "      <td>...</td>\n",
              "    </tr>\n",
              "    <tr>\n",
              "      <th>3328</th>\n",
              "      <td>0</td>\n",
              "      <td>1</td>\n",
              "      <td>0</td>\n",
              "      <td>0.338240</td>\n",
              "      <td>1.320985</td>\n",
              "      <td>-0.781946</td>\n",
              "      <td>-0.615990</td>\n",
              "      <td>-0.877198</td>\n",
              "      <td>1.239051</td>\n",
              "      <td>0.914523</td>\n",
              "      <td>-0.314510</td>\n",
              "      <td>0.453033</td>\n",
              "      <td>1.031314</td>\n",
              "      <td>0.333610</td>\n",
              "    </tr>\n",
              "    <tr>\n",
              "      <th>3329</th>\n",
              "      <td>0</td>\n",
              "      <td>1</td>\n",
              "      <td>0</td>\n",
              "      <td>0.135998</td>\n",
              "      <td>1.541416</td>\n",
              "      <td>-1.769028</td>\n",
              "      <td>1.535687</td>\n",
              "      <td>0.068977</td>\n",
              "      <td>1.536704</td>\n",
              "      <td>0.558019</td>\n",
              "      <td>-1.396158</td>\n",
              "      <td>-0.766555</td>\n",
              "      <td>-0.597527</td>\n",
              "      <td>-0.429172</td>\n",
              "    </tr>\n",
              "    <tr>\n",
              "      <th>3330</th>\n",
              "      <td>0</td>\n",
              "      <td>0</td>\n",
              "      <td>0</td>\n",
              "      <td>-1.026894</td>\n",
              "      <td>-0.589414</td>\n",
              "      <td>0.266021</td>\n",
              "      <td>0.885180</td>\n",
              "      <td>-2.265051</td>\n",
              "      <td>0.494917</td>\n",
              "      <td>0.175909</td>\n",
              "      <td>1.745772</td>\n",
              "      <td>1.062828</td>\n",
              "      <td>1.438524</td>\n",
              "      <td>1.096392</td>\n",
              "    </tr>\n",
              "    <tr>\n",
              "      <th>3331</th>\n",
              "      <td>0</td>\n",
              "      <td>0</td>\n",
              "      <td>0</td>\n",
              "      <td>1.475851</td>\n",
              "      <td>-0.589414</td>\n",
              "      <td>-0.178627</td>\n",
              "      <td>0.685024</td>\n",
              "      <td>-0.052730</td>\n",
              "      <td>0.246872</td>\n",
              "      <td>-0.147111</td>\n",
              "      <td>-0.932595</td>\n",
              "      <td>0.488904</td>\n",
              "      <td>-0.190317</td>\n",
              "      <td>-0.429172</td>\n",
              "    </tr>\n",
              "    <tr>\n",
              "      <th>3332</th>\n",
              "      <td>1</td>\n",
              "      <td>0</td>\n",
              "      <td>0</td>\n",
              "      <td>2.107858</td>\n",
              "      <td>-0.589414</td>\n",
              "      <td>0.633178</td>\n",
              "      <td>0.234673</td>\n",
              "      <td>-0.800640</td>\n",
              "      <td>-0.794915</td>\n",
              "      <td>-1.220563</td>\n",
              "      <td>1.900293</td>\n",
              "      <td>-1.878533</td>\n",
              "      <td>2.252945</td>\n",
              "      <td>0.333610</td>\n",
              "    </tr>\n",
              "  </tbody>\n",
              "</table>\n",
              "<p>3333 rows × 14 columns</p>\n",
              "</div>\n",
              "      <button class=\"colab-df-convert\" onclick=\"convertToInteractive('df-062365c2-79e8-40cd-84ed-df5bf4fec3a7')\"\n",
              "              title=\"Convert this dataframe to an interactive table.\"\n",
              "              style=\"display:none;\">\n",
              "        \n",
              "  <svg xmlns=\"http://www.w3.org/2000/svg\" height=\"24px\"viewBox=\"0 0 24 24\"\n",
              "       width=\"24px\">\n",
              "    <path d=\"M0 0h24v24H0V0z\" fill=\"none\"/>\n",
              "    <path d=\"M18.56 5.44l.94 2.06.94-2.06 2.06-.94-2.06-.94-.94-2.06-.94 2.06-2.06.94zm-11 1L8.5 8.5l.94-2.06 2.06-.94-2.06-.94L8.5 2.5l-.94 2.06-2.06.94zm10 10l.94 2.06.94-2.06 2.06-.94-2.06-.94-.94-2.06-.94 2.06-2.06.94z\"/><path d=\"M17.41 7.96l-1.37-1.37c-.4-.4-.92-.59-1.43-.59-.52 0-1.04.2-1.43.59L10.3 9.45l-7.72 7.72c-.78.78-.78 2.05 0 2.83L4 21.41c.39.39.9.59 1.41.59.51 0 1.02-.2 1.41-.59l7.78-7.78 2.81-2.81c.8-.78.8-2.07 0-2.86zM5.41 20L4 18.59l7.72-7.72 1.47 1.35L5.41 20z\"/>\n",
              "  </svg>\n",
              "      </button>\n",
              "      \n",
              "  <style>\n",
              "    .colab-df-container {\n",
              "      display:flex;\n",
              "      flex-wrap:wrap;\n",
              "      gap: 12px;\n",
              "    }\n",
              "\n",
              "    .colab-df-convert {\n",
              "      background-color: #E8F0FE;\n",
              "      border: none;\n",
              "      border-radius: 50%;\n",
              "      cursor: pointer;\n",
              "      display: none;\n",
              "      fill: #1967D2;\n",
              "      height: 32px;\n",
              "      padding: 0 0 0 0;\n",
              "      width: 32px;\n",
              "    }\n",
              "\n",
              "    .colab-df-convert:hover {\n",
              "      background-color: #E2EBFA;\n",
              "      box-shadow: 0px 1px 2px rgba(60, 64, 67, 0.3), 0px 1px 3px 1px rgba(60, 64, 67, 0.15);\n",
              "      fill: #174EA6;\n",
              "    }\n",
              "\n",
              "    [theme=dark] .colab-df-convert {\n",
              "      background-color: #3B4455;\n",
              "      fill: #D2E3FC;\n",
              "    }\n",
              "\n",
              "    [theme=dark] .colab-df-convert:hover {\n",
              "      background-color: #434B5C;\n",
              "      box-shadow: 0px 1px 3px 1px rgba(0, 0, 0, 0.15);\n",
              "      filter: drop-shadow(0px 1px 2px rgba(0, 0, 0, 0.3));\n",
              "      fill: #FFFFFF;\n",
              "    }\n",
              "  </style>\n",
              "\n",
              "      <script>\n",
              "        const buttonEl =\n",
              "          document.querySelector('#df-062365c2-79e8-40cd-84ed-df5bf4fec3a7 button.colab-df-convert');\n",
              "        buttonEl.style.display =\n",
              "          google.colab.kernel.accessAllowed ? 'block' : 'none';\n",
              "\n",
              "        async function convertToInteractive(key) {\n",
              "          const element = document.querySelector('#df-062365c2-79e8-40cd-84ed-df5bf4fec3a7');\n",
              "          const dataTable =\n",
              "            await google.colab.kernel.invokeFunction('convertToInteractive',\n",
              "                                                     [key], {});\n",
              "          if (!dataTable) return;\n",
              "\n",
              "          const docLinkHtml = 'Like what you see? Visit the ' +\n",
              "            '<a target=\"_blank\" href=https://colab.research.google.com/notebooks/data_table.ipynb>data table notebook</a>'\n",
              "            + ' to learn more about interactive tables.';\n",
              "          element.innerHTML = '';\n",
              "          dataTable['output_type'] = 'display_data';\n",
              "          await google.colab.output.renderOutput(dataTable, element);\n",
              "          const docLink = document.createElement('div');\n",
              "          docLink.innerHTML = docLinkHtml;\n",
              "          element.appendChild(docLink);\n",
              "        }\n",
              "      </script>\n",
              "    </div>\n",
              "  </div>\n",
              "  "
            ]
          },
          "metadata": {},
          "execution_count": 210
        }
      ]
    },
    {
      "cell_type": "code",
      "source": [
        "# create an empty list to store WCSS values for each k\n",
        "wcss = []\n",
        "\n",
        "# fit k-means models for a range of k values\n",
        "for i in range(1, 11):\n",
        "    kmeans = KMeans(n_clusters=i, init='k-means++', max_iter=300, n_init=10, random_state=0)\n",
        "    kmeans.fit(df_telecom)\n",
        "    wcss.append(kmeans.inertia_)\n",
        "\n",
        "# plot the WCSS values against k\n",
        "plt.plot(range(1, 11), wcss)\n",
        "plt.title('Elbow Method')\n",
        "plt.xlabel('Number of clusters')\n",
        "plt.ylabel('WCSS')\n",
        "plt.show()\n"
      ],
      "metadata": {
        "id": "ddbT40wJ1kNW",
        "colab": {
          "base_uri": "https://localhost:8080/",
          "height": 295
        },
        "outputId": "a88468fb-abbf-4b50-d0f4-ba33eaac1a94"
      },
      "execution_count": 211,
      "outputs": [
        {
          "output_type": "display_data",
          "data": {
            "text/plain": [
              "<Figure size 432x288 with 1 Axes>"
            ],
            "image/png": "[encoded data removed]"
          },
          "metadata": {
            "needs_background": "light"
          }
        }
      ]
    },
    {
      "cell_type": "code",
      "source": [
        "# Initialize KMeans object with desired number of clusters\n",
        "kmeans = KMeans(n_clusters=2)\n",
        "\n",
        "# Fit the model to your data\n",
        "kmeans.fit(df_telecom)\n",
        "# kmeans1.fit(features)\n",
        "# Predict the cluster labels for each data point\n",
        "labels = kmeans.predict(df_telecom)\n",
        "# labels1 = kmeans.predict(features)\n",
        "\n",
        "# Get the coordinates of the cluster centroids\n",
        "centroids = kmeans.cluster_centers_\n",
        "# centroids1 = kmeans.cluster_centers_"
      ],
      "metadata": {
        "id": "1USQIKV3FKHu"
      },
      "execution_count": 212,
      "outputs": []
    },
    {
      "cell_type": "code",
      "source": [
        "# Select the features for clustering\n",
        "X = df_telecom[[i for i in df_telecom.columns if i not in target_col]]\n",
        "\n",
        "# Perform k-means clustering with 2 clusters\n",
        "kmeans = KMeans(n_clusters=2, random_state=0)\n",
        "clusters = kmeans.fit_predict(X)\n",
        "\n",
        "# Add the cluster labels to the data\n",
        "df_telecom['Cluster'] = clusters\n"
      ],
      "metadata": {
        "id": "lUYvoeGz2IZ4"
      },
      "execution_count": 213,
      "outputs": []
    },
    {
      "cell_type": "code",
      "source": [
        "kmeans.cluster_centers_"
      ],
      "metadata": {
        "id": "e88QXZsx3qBP",
        "colab": {
          "base_uri": "https://localhost:8080/"
        },
        "outputId": "2c11f77d-c4ba-46bc-eaf1-7b42cf601c0a"
      },
      "execution_count": 214,
      "outputs": [
        {
          "output_type": "execute_result",
          "data": {
            "text/plain": [
              "array([[ 9.54545455e-02,  3.71900826e-03,  1.14243764e-02,\n",
              "        -5.86923823e-01,  5.83526002e-03,  1.32191830e-02,\n",
              "         1.00255991e-03,  7.84750047e-03, -9.50992588e-03,\n",
              "        -1.02989999e-02,  5.49519159e-04, -6.77745322e-04,\n",
              "         1.11610837e-02],\n",
              "       [ 1.00766703e-01,  1.00000000e+00,  1.07315165e-02,\n",
              "         1.57642404e+00,  4.29992067e-03, -1.21241767e-02,\n",
              "         3.99233815e-02, -4.37813799e-03,  3.85849646e-03,\n",
              "         2.75917392e-02, -1.10041232e-03,  1.97557483e-02,\n",
              "        -2.89831614e-02]])"
            ]
          },
          "metadata": {},
          "execution_count": 214
        }
      ]
    },
    {
      "cell_type": "code",
      "source": [
        "kmeans.labels_"
      ],
      "metadata": {
        "id": "v3K6dNkX3vOu",
        "colab": {
          "base_uri": "https://localhost:8080/"
        },
        "outputId": "808c0b73-c6e4-4130-b64a-e816ca0601f2"
      },
      "execution_count": 215,
      "outputs": [
        {
          "output_type": "execute_result",
          "data": {
            "text/plain": [
              "array([1, 1, 0, ..., 0, 0, 0], dtype=int32)"
            ]
          },
          "metadata": {},
          "execution_count": 215
        }
      ]
    },
    {
      "cell_type": "code",
      "source": [
        "pd.crosstab(df_telecom['Churn'], kmeans.labels_) #ทำนาย ว่า 0 ตรง 833 แต่ผิดพลาดไป 2017, ทำนายว่า 1 ตรง 403 ผิดไป 80"
      ],
      "metadata": {
        "id": "NuBBrhwr303d",
        "colab": {
          "base_uri": "https://localhost:8080/",
          "height": 143
        },
        "outputId": "926e376d-e889-49aa-ce52-9b31e46470d2"
      },
      "execution_count": 216,
      "outputs": [
        {
          "output_type": "execute_result",
          "data": {
            "text/plain": [
              "col_0     0    1\n",
              "Churn           \n",
              "0      2017  833\n",
              "1       403   80"
            ],
            "text/html": [
              "\n",
              "  <div id=\"df-7d5f0ad4-bb78-4178-8274-019ec24f9ded\">\n",
              "    <div class=\"colab-df-container\">\n",
              "      <div>\n",
              "<style scoped>\n",
              "    .dataframe tbody tr th:only-of-type {\n",
              "        vertical-align: middle;\n",
              "    }\n",
              "\n",
              "    .dataframe tbody tr th {\n",
              "        vertical-align: top;\n",
              "    }\n",
              "\n",
              "    .dataframe thead th {\n",
              "        text-align: right;\n",
              "    }\n",
              "</style>\n",
              "<table border=\"1\" class=\"dataframe\">\n",
              "  <thead>\n",
              "    <tr style=\"text-align: right;\">\n",
              "      <th>col_0</th>\n",
              "      <th>0</th>\n",
              "      <th>1</th>\n",
              "    </tr>\n",
              "    <tr>\n",
              "      <th>Churn</th>\n",
              "      <th></th>\n",
              "      <th></th>\n",
              "    </tr>\n",
              "  </thead>\n",
              "  <tbody>\n",
              "    <tr>\n",
              "      <th>0</th>\n",
              "      <td>2017</td>\n",
              "      <td>833</td>\n",
              "    </tr>\n",
              "    <tr>\n",
              "      <th>1</th>\n",
              "      <td>403</td>\n",
              "      <td>80</td>\n",
              "    </tr>\n",
              "  </tbody>\n",
              "</table>\n",
              "</div>\n",
              "      <button class=\"colab-df-convert\" onclick=\"convertToInteractive('df-7d5f0ad4-bb78-4178-8274-019ec24f9ded')\"\n",
              "              title=\"Convert this dataframe to an interactive table.\"\n",
              "              style=\"display:none;\">\n",
              "        \n",
              "  <svg xmlns=\"http://www.w3.org/2000/svg\" height=\"24px\"viewBox=\"0 0 24 24\"\n",
              "       width=\"24px\">\n",
              "    <path d=\"M0 0h24v24H0V0z\" fill=\"none\"/>\n",
              "    <path d=\"M18.56 5.44l.94 2.06.94-2.06 2.06-.94-2.06-.94-.94-2.06-.94 2.06-2.06.94zm-11 1L8.5 8.5l.94-2.06 2.06-.94-2.06-.94L8.5 2.5l-.94 2.06-2.06.94zm10 10l.94 2.06.94-2.06 2.06-.94-2.06-.94-.94-2.06-.94 2.06-2.06.94z\"/><path d=\"M17.41 7.96l-1.37-1.37c-.4-.4-.92-.59-1.43-.59-.52 0-1.04.2-1.43.59L10.3 9.45l-7.72 7.72c-.78.78-.78 2.05 0 2.83L4 21.41c.39.39.9.59 1.41.59.51 0 1.02-.2 1.41-.59l7.78-7.78 2.81-2.81c.8-.78.8-2.07 0-2.86zM5.41 20L4 18.59l7.72-7.72 1.47 1.35L5.41 20z\"/>\n",
              "  </svg>\n",
              "      </button>\n",
              "      \n",
              "  <style>\n",
              "    .colab-df-container {\n",
              "      display:flex;\n",
              "      flex-wrap:wrap;\n",
              "      gap: 12px;\n",
              "    }\n",
              "\n",
              "    .colab-df-convert {\n",
              "      background-color: #E8F0FE;\n",
              "      border: none;\n",
              "      border-radius: 50%;\n",
              "      cursor: pointer;\n",
              "      display: none;\n",
              "      fill: #1967D2;\n",
              "      height: 32px;\n",
              "      padding: 0 0 0 0;\n",
              "      width: 32px;\n",
              "    }\n",
              "\n",
              "    .colab-df-convert:hover {\n",
              "      background-color: #E2EBFA;\n",
              "      box-shadow: 0px 1px 2px rgba(60, 64, 67, 0.3), 0px 1px 3px 1px rgba(60, 64, 67, 0.15);\n",
              "      fill: #174EA6;\n",
              "    }\n",
              "\n",
              "    [theme=dark] .colab-df-convert {\n",
              "      background-color: #3B4455;\n",
              "      fill: #D2E3FC;\n",
              "    }\n",
              "\n",
              "    [theme=dark] .colab-df-convert:hover {\n",
              "      background-color: #434B5C;\n",
              "      box-shadow: 0px 1px 3px 1px rgba(0, 0, 0, 0.15);\n",
              "      filter: drop-shadow(0px 1px 2px rgba(0, 0, 0, 0.3));\n",
              "      fill: #FFFFFF;\n",
              "    }\n",
              "  </style>\n",
              "\n",
              "      <script>\n",
              "        const buttonEl =\n",
              "          document.querySelector('#df-7d5f0ad4-bb78-4178-8274-019ec24f9ded button.colab-df-convert');\n",
              "        buttonEl.style.display =\n",
              "          google.colab.kernel.accessAllowed ? 'block' : 'none';\n",
              "\n",
              "        async function convertToInteractive(key) {\n",
              "          const element = document.querySelector('#df-7d5f0ad4-bb78-4178-8274-019ec24f9ded');\n",
              "          const dataTable =\n",
              "            await google.colab.kernel.invokeFunction('convertToInteractive',\n",
              "                                                     [key], {});\n",
              "          if (!dataTable) return;\n",
              "\n",
              "          const docLinkHtml = 'Like what you see? Visit the ' +\n",
              "            '<a target=\"_blank\" href=https://colab.research.google.com/notebooks/data_table.ipynb>data table notebook</a>'\n",
              "            + ' to learn more about interactive tables.';\n",
              "          element.innerHTML = '';\n",
              "          dataTable['output_type'] = 'display_data';\n",
              "          await google.colab.output.renderOutput(dataTable, element);\n",
              "          const docLink = document.createElement('div');\n",
              "          docLink.innerHTML = docLinkHtml;\n",
              "          element.appendChild(docLink);\n",
              "        }\n",
              "      </script>\n",
              "    </div>\n",
              "  </div>\n",
              "  "
            ]
          },
          "metadata": {},
          "execution_count": 216
        }
      ]
    },
    {
      "cell_type": "code",
      "source": [
        "df_telecom.columns"
      ],
      "metadata": {
        "id": "e4ClomPU3EsB",
        "colab": {
          "base_uri": "https://localhost:8080/"
        },
        "outputId": "90056546-0c6b-4346-d25b-58507da7c95e"
      },
      "execution_count": 217,
      "outputs": [
        {
          "output_type": "execute_result",
          "data": {
            "text/plain": [
              "Index(['International plan', 'Voice mail plan', 'Churn', 'Account length',\n",
              "       'Number vmail messages', 'Total day minutes', 'Total day calls',\n",
              "       'Total eve minutes', 'Total eve calls', 'Total night minutes',\n",
              "       'Total night calls', 'Total intl minutes', 'Total intl calls',\n",
              "       'Customer service calls', 'Cluster'],\n",
              "      dtype='object')"
            ]
          },
          "metadata": {},
          "execution_count": 217
        }
      ]
    },
    {
      "cell_type": "code",
      "source": [
        "import seaborn as sns\n",
        "\n",
        "# Select the features to plot\n",
        "x_feature = df_telecom['Total day minutes']\n",
        "y_feature = df_telecom['Total night minutes']\n",
        "\n",
        "# Plot the clusters using the selected features\n",
        "sns.scatterplot(x=x_feature, y=y_feature, hue='Cluster', data=df_telecom)\n"
      ],
      "metadata": {
        "id": "sF3gk2ko3K6L",
        "colab": {
          "base_uri": "https://localhost:8080/",
          "height": 296
        },
        "outputId": "8a2dad9a-0374-4386-9035-470f0c58ff82"
      },
      "execution_count": 218,
      "outputs": [
        {
          "output_type": "execute_result",
          "data": {
            "text/plain": [
              "<Axes: xlabel='Total day minutes', ylabel='Total night minutes'>"
            ]
          },
          "metadata": {},
          "execution_count": 218
        },
        {
          "output_type": "display_data",
          "data": {
            "text/plain": [
              "<Figure size 432x288 with 1 Axes>"
            ],
            "image/png": "[encoded data removed]"
          },
          "metadata": {
            "needs_background": "light"
          }
        }
      ]
    },
    {
      "cell_type": "code",
      "source": [
        "import plotly.express as px\n",
        "\n",
        "fig = px.scatter_3d(df_telecom, x='Total day minutes', y='Total eve minutes', z='Total night minutes',color='Cluster', symbol='Churn', opacity=0.7)\n",
        "\n",
        "fig.update_layout(scene=dict(xaxis_title='Total day minutes',\n",
        "                             yaxis_title='Total eve minutes',\n",
        "                             zaxis_title='Total night minutes'))\n",
        "\n",
        "fig.show()\n"
      ],
      "metadata": {
        "id": "CvMbe2dzevoq",
        "colab": {
          "base_uri": "https://localhost:8080/",
          "height": 542
        },
        "outputId": "514d4ee1-d7dc-40d9-b289-739e6e6ecf63"
      },
      "execution_count": 219,
      "outputs": [
        {
          "output_type": "display_data",
          "data": {
            "text/html": [
              "<html>\n",
              "<head><meta charset=\"utf-8\" /></head>\n",
              "<body>\n",
              "    <div>            <script src=\"https://cdnjs.cloudflare.com/ajax/libs/mathjax/2.7.5/MathJax.js?config=TeX-AMS-MML_SVG\"></script><script type=\"text/javascript\">if (window.MathJax && window.MathJax.Hub && window.MathJax.Hub.Config) {window.MathJax.Hub.Config({SVG: {font: \"STIX-Web\"}});}</script>                <script type=\"text/javascript\">window.PlotlyConfig = {MathJaxConfig: 'local'};</script>\n",
              "        <script src=\"https://cdn.plot.ly/plotly-2.18.2.min.js\"></script>                <div id=\"b9571d97-679a-49a0-9233-d8e5cec88b88\" class=\"plotly-graph-div\" style=\"height:525px; width:100%;\"></div>            <script type=\"text/javascript\">                                    window.PLOTLYENV=window.PLOTLYENV || {};                                    if (document.getElementById(\"b9571d97-679a-49a0-9233-d8e5cec88b88\")) {                    Plotly.newPlot(                        \"b9571d97-679a-49a0-9233-d8e5cec88b88\",                        [{\"hovertemplate\":\"Churn=0<br>Total day minutes=%{x}<br>Total eve minutes=%{y}<br>Total night minutes=%{z}<br>Cluster=%{marker.color}<extra></extra>\",\"legendgroup\":\"0\",\"marker\":{\"color\":[1,1,0,0,0,0,1,0,1,0,0,0,0,1,0,1,0,0,0,0,0,1,0,0,0,0,0,1,1,0,1,0,0,0,0,0,1,0,1,0,0,0,0,0,0,0,1,1,0,1,0,0,0,0,1,0,0,0,0,0,0,1,1,0,1,0,0,0,0,0,0,1,0,0,0,1,0,0,0,0,0,0,1,0,1,0,0,0,0,0,1,0,0,0,0,0,1,0,1,1,0,1,1,0,0,0,1,0,0,0,0,1,1,0,0,1,0,0,1,1,0,1,0,0,0,0,0,0,1,1,0,0,0,0,0,0,0,0,0,0,1,1,0,0,1,0,0,0,0,1,0,0,0,0,1,1,0,0,0,0,0,1,0,0,0,1,1,1,0,0,0,1,0,0,0,0,0,0,1,0,0,0,0,0,0,0,1,0,0,1,1,0,0,0,0,1,0,1,0,1,0,1,1,0,0,0,0,0,0,1,0,0,0,0,0,0,0,0,0,0,1,0,0,0,0,1,1,1,0,1,0,0,0,1,1,0,0,0,0,0,1,0,0,0,0,1,1,1,0,1,0,1,0,1,0,0,0,1,1,1,1,0,0,0,0,0,0,0,0,0,0,0,0,0,0,1,0,0,0,0,0,0,0,0,1,0,1,0,0,0,0,0,0,0,0,0,0,1,0,1,0,0,1,0,1,0,0,0,0,1,1,0,0,1,0,1,0,0,0,0,0,1,0,1,0,0,0,1,0,1,0,0,0,0,0,1,0,0,0,0,0,0,1,0,0,0,0,0,1,0,0,1,1,0,0,1,1,1,0,0,1,1,0,0,0,0,1,0,0,0,0,0,1,0,1,1,0,1,1,0,1,1,1,1,0,0,1,0,1,0,1,1,0,1,0,0,0,0,1,0,1,1,0,0,1,1,1,0,0,0,0,0,0,0,1,0,1,0,0,1,0,0,0,0,0,0,0,1,1,0,0,0,0,0,0,0,0,0,1,1,0,1,1,1,0,0,0,0,1,1,0,1,0,0,1,1,0,0,0,0,0,0,1,0,0,1,0,0,0,0,0,1,1,0,0,0,0,0,0,0,0,0,0,1,0,0,0,1,0,0,0,0,1,1,0,0,0,1,0,0,1,0,0,0,0,1,1,0,0,0,1,0,1,0,0,1,0,0,0,1,1,1,0,0,0,0,1,0,0,0,1,0,1,0,0,0,0,0,1,1,1,0,0,0,0,0,0,0,0,0,0,1,1,1,1,0,0,0,0,0,0,1,1,1,0,0,0,0,0,0,1,0,0,1,0,0,0,0,0,0,0,0,1,1,1,1,0,0,0,0,1,0,0,0,0,0,0,0,1,0,0,0,0,0,1,0,0,0,1,0,0,1,0,0,0,0,0,0,0,0,1,1,0,0,0,0,0,0,1,0,1,0,0,1,0,1,1,0,1,0,0,0,0,0,0,0,0,0,0,1,1,0,0,0,0,0,1,0,0,0,0,0,0,0,0,0,0,0,1,0,0,0,1,1,0,0,0,0,0,0,1,0,0,1,1,0,0,1,0,0,1,1,0,1,0,0,0,0,0,1,1,0,0,1,0,0,0,0,0,0,0,1,0,0,0,1,0,0,0,0,1,0,0,0,1,1,0,0,0,0,0,1,0,0,0,0,1,0,0,0,1,0,1,1,1,0,0,0,0,1,0,0,0,0,1,0,0,0,0,1,0,0,0,0,0,0,1,0,0,1,0,0,0,0,0,0,0,1,0,0,1,0,1,1,0,1,1,0,1,1,0,0,1,0,0,1,1,0,0,1,0,0,0,1,0,0,1,1,1,0,0,0,0,0,1,1,0,0,1,1,0,1,1,0,0,1,1,1,0,0,0,0,0,0,1,1,1,1,1,0,0,0,0,0,0,0,1,0,0,0,0,0,1,1,0,0,0,0,1,0,0,1,0,0,0,0,0,0,0,0,0,0,0,1,0,0,0,1,0,0,1,1,0,0,0,0,1,1,0,0,0,0,1,0,0,0,1,1,0,0,0,0,0,0,0,0,0,0,0,0,1,0,0,1,0,0,0,0,0,1,0,1,0,0,0,1,0,0,0,1,0,1,0,0,1,0,0,0,0,1,0,0,0,0,0,1,1,1,1,0,1,1,0,0,1,0,0,0,0,1,0,1,0,1,0,0,0,0,1,0,1,0,0,1,0,0,0,1,0,1,1,1,0,0,0,1,1,1,1,1,0,0,0,1,0,0,0,0,0,0,0,1,0,1,0,1,0,0,0,0,0,0,0,0,0,0,1,1,1,0,0,0,0,0,1,0,1,0,0,0,0,1,0,0,0,0,0,0,1,0,0,0,0,1,0,0,0,0,1,0,0,1,0,0,0,0,0,1,0,0,0,0,1,0,0,0,0,0,1,0,0,1,0,0,0,0,0,0,1,1,1,0,0,1,0,1,0,1,1,0,0,0,1,1,1,0,0,0,1,1,1,0,1,0,0,0,0,0,1,1,0,1,1,1,0,1,0,0,1,0,0,0,0,0,1,1,0,0,0,1,0,0,0,0,0,0,0,0,1,0,0,0,0,0,0,0,1,1,1,0,1,0,0,1,0,1,1,1,0,0,1,1,0,0,0,0,0,0,0,1,0,0,0,0,1,1,0,0,0,0,0,1,1,0,1,0,0,0,1,0,0,0,0,0,0,1,1,0,1,0,0,0,1,1,0,0,0,1,0,0,0,1,1,0,0,1,0,1,0,1,1,0,0,0,1,0,1,1,0,1,1,1,1,0,0,0,1,0,1,0,0,0,1,0,0,0,0,0,0,0,0,0,0,0,0,0,1,1,0,0,0,1,0,1,0,0,1,1,1,0,1,0,1,1,0,1,0,0,0,0,0,0,0,0,0,1,0,0,0,0,0,0,0,0,0,1,1,0,0,0,0,0,1,0,0,0,1,1,1,0,0,0,1,0,0,0,0,0,0,0,0,0,0,0,0,0,0,0,1,1,0,0,0,0,1,0,0,0,0,0,0,0,1,0,0,1,0,0,0,0,0,0,1,0,1,0,1,0,0,0,0,1,0,0,0,0,0,0,0,0,1,0,0,0,0,0,0,0,0,0,1,0,1,0,0,0,0,0,0,0,1,1,0,1,0,0,0,0,1,0,0,0,0,1,1,1,1,0,1,0,0,0,1,1,0,0,0,0,0,1,0,1,1,0,0,0,0,1,0,0,0,0,0,0,0,1,0,0,0,0,0,1,0,1,0,0,0,0,0,1,0,0,0,1,0,0,1,0,0,0,0,0,1,1,0,0,0,0,0,0,0,0,0,1,1,0,1,0,1,0,0,0,0,0,0,1,0,0,0,0,1,0,1,0,0,0,0,0,1,0,0,0,0,0,0,0,0,0,0,0,0,0,0,1,0,1,1,0,1,0,0,1,0,1,1,0,0,0,0,0,0,0,0,0,0,0,1,1,0,0,1,1,0,0,1,0,0,0,0,0,0,1,0,1,0,1,0,0,0,1,0,0,0,0,0,0,0,0,0,1,0,0,1,1,1,1,1,0,1,1,1,1,0,0,0,1,0,0,0,0,0,1,1,0,0,0,1,0,0,0,1,0,0,0,0,0,1,0,0,0,1,0,0,0,1,0,0,1,0,0,0,0,1,0,1,0,0,0,0,0,1,0,0,0,1,0,0,0,0,0,0,0,0,0,0,0,0,1,0,0,0,0,1,1,1,0,0,0,0,0,0,0,0,0,0,1,0,1,0,0,1,0,1,0,0,0,0,1,0,0,0,0,0,0,0,0,0,0,0,0,1,1,0,0,1,1,1,0,0,1,0,0,0,1,0,0,0,0,0,1,0,1,0,0,0,1,0,1,0,0,1,1,0,0,1,0,0,0,1,1,0,0,0,0,0,0,1,0,0,1,0,0,0,0,0,0,1,0,0,1,0,0,1,0,0,0,0,0,0,0,0,0,0,0,0,1,0,1,0,0,0,1,0,0,0,0,0,0,0,0,0,1,0,0,0,0,0,0,1,0,0,1,0,0,0,0,0,0,0,0,1,1,0,0,0,1,1,0,0,1,1,0,0,0,0,0,1,1,1,0,0,0,0,1,1,0,0,0,1,1,1,1,0,1,0,0,0,0,1,0,0,0,0,0,0,0,0,1,1,0,0,0,0,0,0,0,1,0,0,0,0,1,0,0,0,0,0,1,0,0,0,1,0,0,0,0,0,1,0,0,1,1,1,1,0,0,0,1,0,0,0,0,0,1,0,1,1,0,0,0,0,1,0,0,0,0,0,1,0,0,0,0,1,1,0,0,1,0,1,1,1,0,0,0,0,0,1,0,0,1,1,0,0,1,0,0,0,0,0,0,0,0,0,0,0,1,0,0,0,0,1,0,0,1,0,0,0,1,0,0,0,0,0,1,0,1,1,0,0,0,1,0,0,0,0,0,1,0,0,0,1,1,1,0,0,1,0,0,0,1,0,0,1,0,1,0,0,1,0,0,1,1,0,0,0,0,1,1,0,0,1,0,0,0,0,0,0,0,0,0,0,0,1,0,0,0,0,0,0,0,1,0,1,1,0,0,0,0,1,0,0,0,1,0,0,0,0,0,0,0,0,1,0,1,0,1,1,0,0,0,0,0,0,0,1,0,0,0,0,1,0,0,1,1,0,1,1,1,0,1,0,0,0,1,0,0,1,0,0,0,0,0,0,0,0,0,0,0,0,0,0,1,0,0,1,1,1,0,1,1,1,1,0,1,0,1,0,0,0,0,0,0,0,0,1,1,0,0,0,1,1,0,0,0,0,1,0,1,1,0,1,0,1,1,0,0,1,0,1,0,0,1,1,0,1,1,0,0,0,0,0,0,1,0,0,0,0,0,0,1,0,0,0,1,0,1,0,0,0,0,0,1,1,0,0,0,0,0,0,0,0,1,1,0,0,1,0,1,0,0,0,0,1,0,0,1,1,1,1,1,1,1,0,1,1,0,1,0,1,0,0,0,0,0,0,1,0,0,0,0,0,0,0,1,0,0,0,0,0,0,1,0,1,0,1,1,0,0,0,0,0,0,1,0,0,1,0,1,0,0,0,0,0,0,0,0,1,1,0,0,0,0,0,0,1,0,0,1,0,0,0,1,0,0,0,1,0,0,1,0,0,0,1,1,0,0,0,0,0,0,0,0,0,1,0,0,0,0,0,0,0,0,1,0,0,1,1,1,0,0,1,0,0,0,1,1,0,1,0,0,0,0,0,1,0,0,0,1,0,0,0,1,0,0,0,0,1,0,0,1,0,0,1,1,1,0,0,0,1,1,0,0,1,0,0,1,0,1,0,0,1,1,0,0,0,1,0,0,1,0,1,0,0,0,1,1,0,1,0,1,1,0,0,0,0,0,0,0,1,0,1,0,0,0,1,0,0,1,1,0,0,1,1,0,0,1,1,1,0,0,1,0,0,0,1,1,1,0,1,0,1,0,0,1,0,0,0,0,0,0,1,0,1,0,1,1,0,0,0,1,0,1,0,0,0,0,0,0,0,0,0,0,0,0,0,1,0,0,1,0,0,0,0,0,1,0,0,0,0,0,0,1,0,1,0,0,0,0,0,0,0,0,0,0,1,1,1,0,0,1,0,1,0,0,0,0,0,1,0,0,0,0,1,1,0,0,0,0,0,0,0,1,0,1,0,0,0,0,0,0,0,0,0,0,0,1,0,0,1,0,0,0,1,1,0,1,0,1,0,0,1,0,0,0,0,0,0,0,0,1,0,1,0,1,0,0,0,1,1,0,0,0,1,0,0,0,0,0,1,1,1,1,0,1,1,0,0,0,0,0,0,1,0,0,1,0,0,0,1,0,0,0,0,0,0,1,1,0,1,0,1,1,1,1,0,1,0,1,0,1,0,0,0,1,0,0,0,1,0,0,1,0,1,1,1,0,0,0,0,0,0,0,1,1,0,0,0,0,0,0,1,0,0,1,1,0,0,0,1,0,0,0,1,0,0,0,0,1,0,1,0,0,0,1,0,1,1,0,0,0,0,0,1,0,0,0,1,0,1,0,1,1,0,0,0,0,1,0,0,0,0,0,1,0,0,0,0,0,0,0,0,1,1,1,0,1,0,0,0,0,0,0,0,0,0,0,1,1,0,0,0,0,0,1,0,0,0,0,1,0,1,1,1,0,0,0,1,0,0,0,0,0,0,0,0,1,0,1,1,1,0,1,0,0,0,0,0,0,1,0,0,0,0,1,0,1,0,0,0,0,0,1,1,0,0,1,1,0,0,0,0,0,0,0,0,0,0,1,0,0,0,0,0,1,0,0,1,0,0,0,0,0,1,0,0,0,1,0,1,0,1,0,1,0,0,0,0,0,0,0,1,0,0,1,0,1,0,1,1,0,0,1,0,0,0,1,1,0,0,0],\"coloraxis\":\"coloraxis\",\"opacity\":0.7,\"symbol\":\"circle\"},\"mode\":\"markers\",\"name\":\"0\",\"scene\":\"scene\",\"showlegend\":true,\"x\":[1.5796695875462738,-0.32991808608894013,1.1793019303686492,2.212508787601228,-0.2358224615909732,0.8102994813570136,0.7143588446139881,-0.4147886493616162,1.4597437916174922,0.15163010987124403,-0.9350821024680219,-0.422168698341849,-1.0845280943177344,0.3121461751913058,0.20698047722298935,0.18853035477240757,0.8287496038075954,-0.44984388201772163,0.0649145343535099,-1.8151529433607727,-1.0181076534956401,0.6184182078709631,-0.8336064289898222,0.1940653915075823,-1.7468874902936202,0.8601148119735842,0.5999680854203813,-0.04947622484009687,0.7475690650250355,-0.8981818575668584,0.4505220935706691,-0.7210606820412735,-0.9812074085944766,-1.0088825922703493,-1.7284373678430385,-0.4701390167133615,-1.080838069827618,0.138715024155837,-0.8539015636854626,0.22912062416368778,0.7586391384953844,-0.3557482575197547,-0.0734613840258534,-0.9701373351241275,0.9191552038154461,0.23281064865380394,1.64424501612331,0.02247925271717162,-0.8908018085866262,-0.578994739171794,1.3287479222183614,-1.0015025432901166,0.5925880364401485,1.1497817344477184,0.8379746650328863,1.275242567111674,0.44129703234537815,-0.4129436371165581,-0.17124703301393698,0.3988617507090399,0.6626985017523594,-0.256117596286613,1.2918476773171979,0.6424033670567196,-0.46829400446830344,-0.6564852534642373,-1.0181076534956401,1.3545780936491758,-0.007040943203759113,1.8250562161390105,0.34535639560235265,-0.33729813506917294,-0.5125742983496998,-0.16571199627876226,1.0815162813805654,-1.1361884371793634,0.9283802650407371,-0.267187669756962,0.10181477925467344,-0.3409881595592891,-0.9738273596142438,-0.3114679636383584,-1.213678951471807,0.5667578650093339,0.6331783058314288,0.20698047722298935,-0.15833194729852942,-0.4664489922232454,0.40439678744421464,-1.619581645384606,0.640558354811661,-0.6269650575433066,0.950520411981435,0.3841016527485748,0.3232162486616547,-0.9147869677723821,-0.06792634729067865,0.4357619956102034,0.06860455884362605,0.4708172282663089,-0.5716146901915612,0.3841016527485748,0.2420357098790948,1.2364973099654524,0.9671255221869587,1.6977503712299968,1.443138681411968,0.2641758568197933,0.8582697997285261,1.4929540120285387,-0.014420992183991926,-0.4037185758912672,-0.6896954738752847,-0.7967061840886587,0.6940637099183482,0.14794008538112788,-1.486740763740417,0.4948023874520654,1.1737668936334744,0.19037536701746616,0.4154668609145636,-0.17309204525899508,1.0630661589299837,0.7328089670645699,1.349043056914001,-0.5974448616223759,-0.11036162892701694,0.9708155466770748,0.3250612609067128,-1.1786237188157016,0.1221099139503133,1.4837289508032478,0.6424033670567196,-0.3834234411956274,-0.3483682085395219,0.9763505834122496,-0.842831490215113,-0.0476312125950388,0.5612228282741597,-0.7745660371479608,2.0298525753404686,0.3435113833572946,-0.5494745432508633,-1.7800977107046674,-0.6232750330531904,0.05199944863810287,0.7106688201238719,-0.7173706575511574,-0.494124175899118,-1.3428298086258792,0.2752459302901422,0.6350233180764868,0.6959087221634063,0.4431420445904362,-0.44799886977266357,-0.21921735138544948,-0.0033509187136424434,-0.518109335084874,0.009564167001764587,0.8029194323767808,0.07598460782385887,-0.24873754730638023,-0.5568545922310956,-2.1048198658349064,0.5058724609224143,0.12395492619537136,1.858266436550058,0.3601164935628183,0.4357619956102034,-0.19707720444475105,-0.11774167790724975,0.4265369343849125,-1.9369237515346125,0.234655660898862,0.7512590895151516,1.3638031548744667,0.8398196772779444,-1.276409367803785,-2.204450527068048,0.6516284282820105,0.5243225833729962,0.5077174731674724,-0.6601752779543539,-0.7542709024523209,-1.7487325025386782,-0.44799886977266357,-0.2690326820020201,-0.829916404499706,-0.6675553269345863,0.49295737520700683,0.85457977523841,-0.7598059391874951,-0.3594382820098709,0.5003374241872396,-0.8262263800095899,0.6442483793017777,0.2457257343692115,-0.5236443718200487,0.7272739303293957,0.24388072212415288,0.45974715479595996,0.5944330486852065,0.7770892609459662,0.3398213588671784,0.49664739969712346,0.4874223384718326,0.5187875466378215,-1.475670690270068,-0.04394118810492266,-0.12512172688748255,0.4560571303058433,-1.7302823800880964,-0.4037185758912672,0.6645435139974175,-0.14357184933806433,-0.3963385269110344,-1.6140466086494314,1.0058707793331803,0.2752459302901422,0.880409946669224,1.0483060609695185,0.48188730173665784,-1.5753013515032097,-1.0015025432901166,-2.197070478087815,-1.07899305758256,-1.1380334494244218,0.9763505834122496,-0.05870128606538776,-1.0015025432901166,-0.7524258902072628,-1.7192123066177476,0.5077174731674724,-2.2265906740087464,1.1018114160762054,0.3472014078474112,0.474507252756425,0.23281064865380394,-0.18231710648428595,0.4025517751991565,0.6497834160369519,-0.18969715546451876,0.26971089355496747,0.8416646895230024,0.0815196445590336,0.7807792854360829,-2.119579963795372,-0.45906894324301256,1.4892639875384226,-0.32991808608894013,0.7586391384953844,-0.435083784057256,0.05568947312821902,0.7494140772700936,-0.5033492371244089,0.03723935067763725,-0.24689253506132217,-0.8354514412348808,-0.5494745432508633,-0.5420944942706305,-0.6970755228555175,-0.3170030003735326,0.25495079559450234,-1.8686582984674598,-1.7727176617244345,0.29738607723084015,0.3232162486616547,-0.27087769424707814,-0.00519593095870104,-0.16571199627876226,0.48373231398171596,0.7660191874756173,1.1553167711828924,-0.5144193105947579,-0.060546298310446355,0.30476612621107296,-0.36866334323516176,0.9357603140209694,-0.6048249106026087,-1.4295453841436137,-0.9867424453296512,-0.20445725342498386,0.4984924119421816,0.6940637099183482,1.823211203893953,0.03723935067763725,-1.07899305758256,0.7678641997206753,0.7992294078866646,0.07229458333374272,1.5649094895858082,-0.6177399963180157,-0.9627572861438949,0.1553201343613607,-0.01257597993893333,1.4209985344712701,-0.18416211872934402,-0.686005449385168,0.08520966904914976,0.5058724609224143,1.4837289508032478,0.44867708132561096,1.2789325916017908,-1.0531628861517455,-1.3760400290369263,-1.1085132535034907,-0.021801041164224214,1.1793019303686492,-0.45168889426277975,2.015092477380003,1.1239515630169037,0.19960042824275706,-0.45168889426277975,1.7328056038861017,-0.446153857527605,-0.8557465759305206,1.2420323467006271,-0.2598076207767292,-0.7598059391874951,1.9781922324788395,-1.1472585106497126,0.8490447385032353,-0.363128306499987,0.20513546497793128,0.08336465680409168,1.5187841834593538,-0.8446765024601717,0.25864082008461853,-0.16755700852382033,0.2752459302901422,1.1221065507718457,-1.9276986903093216,-2.036554412767754,-0.5716146901915612,1.4505187303922014,-0.5494745432508633,-0.5476295310058047,0.20144544048781513,0.03539433843257917,-0.4387738085473727,-0.5457845187607466,0.7900043466613738,-0.5550095799860375,0.4560571303058433,1.1700768691433583,-0.5365594575354558,1.736495628376219,-0.4313937595671399,-0.014420992183991926,-0.03656113912468984,-0.07899642076102813,1.3269029099733032,0.6959087221634063,0.4948023874520654,-0.3723533677252779,-0.6712453514247029,0.1313349751756042,-1.0236426902308147,0.3472014078474112,-0.12327671464242397,0.699598746653523,-1.5845264127285006,-1.4996558494558243,-0.20814727791510054,0.4320719711200873,1.5114041344791205,1.369338191609641,-2.4812023638267746,-2.4369220699453784,0.8840999711593407,-1.0088825922703493,-2.047624486238103,-0.29486285343283464,-0.30408791465812557,0.6313332935863701,0.4025517751991565,-2.4184719474947967,-0.15279691056335523,-0.23951248608108935,-1.3225346739302395,-0.7044555718357498,-0.9221670167526149,-1.4646006167997192,1.0630661589299837,-1.8686582984674598,-0.5679246657014451,0.27893595478025834,-0.36866334323516176,0.2770909425352003,-0.8797317351162767,-0.6029798983575501,0.3914817017288071,-0.6251200452982485,0.9210002160605042,0.5815179629697995,0.6737685752227084,2.0944280039175047,0.03723935067763725,-1.9406137760247288,-2.16201524543171,0.9062401181000386,2.4062350733323363,0.4136218486695055,-0.5476295310058047,0.07967463231397554,0.13317998742066225,0.806609456866897,-0.28194776771742763,-0.5347144452903977,-2.2911661025857826,0.7807792854360829,-0.18231710648428595,0.7272739303293957,-0.05870128606538776,0.5114074976575886,0.48373231398171596,-0.518109335084874,-0.4055635881363253,-0.37788840446045263,0.638713342566603,-1.4184753106732646,0.4302269588750292,-2.2505758331945027,-0.7376657922467972,0.15347512211630263,0.26233084457473466,-0.42585872283196513,1.1128814895465549,-0.13803681260288958,0.29369605274072397,0.2180505506933388,-1.0531628861517455,-0.33360811057905626,-0.6509502167290631,1.4154634977360954,-1.2321290739223887,0.282625979270375,-1.4516855310843118,-1.7893227719299583,-0.6103599473377829,-0.02918109014445703,-0.4793640779386524,0.01140917924682266,1.58335961203639,-0.9387721269581386,-0.26165263302178726,0.28631600376049116,0.6331783058314288,0.48004228949159977,1.3545780936491758,0.23096563640874584,-2.036554412767754,1.0335459630090529,0.6257982568511959,1.5556844283605173,0.07229458333374272,1.1626968201631254,-0.5254893840651068,-0.7634959636776117,0.5852079874599156,0.3250612609067128,0.47635226500148364,0.04277438741281199,1.3379729834436522,0.9542104364715511,0.3804116282584581,-0.07715140851596954,-1.0033475555351747,1.1387116609773689,0.6940637099183482,0.29369605274072397,1.4246885589613862,-2.7413490903799778,0.14609507313606981,1.8084511059334873,-0.5955998493773178,0.11657487721513908,-1.5107259229261736,0.48926735071689065,0.688528673183174,-1.4055602249578574,-0.7395108044918552,0.21620553844828022,-0.3594382820098709,0.7789342731910243,-2.150945171961361,0.6663885262424756,-0.26165263302178726,0.4376070078552615,0.2918510404956659,-0.6601752779543539,-1.2007638657563995,-0.06608133504562057,1.0150958405584711,0.5759829262346248,0.05199944863810287,0.19960042824275706,-0.04394118810492266,0.6663885262424756,-0.7764110493930189,0.2457257343692115,-0.5568545922310956,-0.6601752779543539,0.5114074976575886,2.2309589100518097,0.9246902405506204,0.14794008538112788,-2.2579558821747354,-0.36866334323516176,0.20698047722298935,0.9431403630012022,-2.6841537107831743,0.25679580783956046,0.4154668609145636,0.22543059967357112,-0.3354531228241143,-0.5328694330453396,0.09443473027444063,0.7604841507404425,-0.4701390167133615,-1.077148045337502,0.0483094241479862,0.5612228282741597,-0.22106236363050757,0.6350233180764868,-1.1749336943255853,-0.0015059064685843712,0.14425006089101172,0.40070676295409796,0.1866853425273495,-0.4793640779386524,0.14978509762618594,1.2069771140445218,0.9486753997363769,0.14056003640089507,-0.1620219717886461,0.18484033028229144,-0.339143147314231,1.3822532773250487,-0.9553772371636621,-0.16571199627876226,1.7346506161311603,-0.3243830493537654,-2.152790184206419,0.8988600691198058,0.5593778160291016,0.6534734405270686,-1.2727193433136685,-1.2302840616773305,0.14425006089101172,0.3232162486616547,0.016944215981997402,0.3250612609067128,-0.47567405344853625,1.509559122234063,1.2309622732302776,0.2125155139581641,0.531702632353229,1.356423105894234,0.42100189764973833,-0.09375651872149324,-0.9664473106340112,-0.6638653024444701,0.1368700119107789,1.0206308772936459,-1.0291777269659892,-0.10298157994678411,0.8933250323846316,-1.5494711800723953,-0.6122049595828409,0.08336465680409168,-1.359434918831403,-0.02733607789939896,-0.5550095799860375,0.5519977670488688,-0.13619180035783152,-0.18785214321946017,0.27155590580002553,0.35642646907270215,0.4191568854046797,-1.901868518878507,-1.9701339719456596,0.5704478894994506,-0.964602298388953,0.41177683642444746,0.7383440037997446,-1.4793607147601846,1.1018114160762054,-1.080838069827618,0.8342846405427696,-0.05316624933021354,1.0722912201552746,0.3490464200924693,1.749410714091626,0.7051337833886971,-0.8262263800095899,1.417308509981154,-0.060546298310446355,0.4708172282663089,-0.00519593095870104,-0.5550095799860375,0.5187875466378215,-0.2598076207767292,0.5593778160291016,0.7494140772700936,-0.7044555718357498,0.31399118743636384,-1.3741950167918684,0.5021824364322977,-0.2339774493459146,0.46897221602125083,-0.45906894324301256,-0.9682923228790693,1.622104869182611,1.8730265345105237,-0.15279691056335523,-1.0217976779857565,-0.3077779391482417,-0.6122049595828409,1.3896333263052814,1.3914783385503395,-1.3243796861752974,-0.38157842895056876,0.06306952210845183,0.3508914323375274,-1.2653392943334358,-0.26165263302178726,-0.9738273596142438,0.6719235629776503,-0.7265957187764482,-0.7321307555116224,-0.23766747383603126,0.640558354811661,-1.1324984126892472,0.19775541599769847,-1.7948578086651328,-0.2893278166976599,-0.363128306499987,0.6424033670567196,-1.444305482104079,-1.4147852861831482,-1.2985495147444832,0.6719235629776503,0.44129703234537815,-1.2800993922939015,-1.2634942820883777,1.1147265017916128,-1.757957563763969,0.5464627303136941,-0.911096943282266,-0.06792634729067865,1.1516267466927763,-0.7893261351084264,0.38594666499363284,-0.9461521759383714,0.8638048364637009,-0.3170030003735326,-1.0882181188078508,-1.6306517188549552,-0.19707720444475105,0.8619598242186423,0.22912062416368778,0.009564167001764587,-0.3649733187450456,1.0649111711750419,-1.411095261693032,0.47266224051136696,-0.5439395065156886,0.9763505834122496,-0.2598076207767292,0.3638065180529344,0.7032887711436391,-0.4701390167133615,0.2641758568197933,-0.07530639627091146,0.9357603140209694,0.19775541599769847,-0.056856273820329685,0.9080851303450967,-0.6546402412191792,-0.8040862330688915,-0.9037168943020332,-1.3668149678116355,-1.2487341841279123,-0.37604339221539457,0.6073481344006141,-0.686005449385168,-1.2099889269816904,-0.14910688607323855,1.7697058487872652,0.32690627315177084,-1.619581645384606,-0.9812074085944766,1.3287479222183614,0.20513546497793128,-1.1693986575904107,-0.0015059064685843712,0.5206325588828795,-0.9996575310450584,-0.7634959636776117,0.4025517751991565,0.20144544048781513,-0.6675553269345863,-1.5144159474162897,0.03539433843257917,-0.6657103146895281,-1.3760400290369263,-1.193383816776167,0.9781955956573076,-0.662020290199412,-0.05132123708515547,-0.6361901187685974,-0.23213243710085651,-0.6823154248950519,-0.8575915881755787,-1.5586962412976861,0.7992294078866646,-0.6122049595828409,1.0206308772936459,0.35273644458258546,-0.6804704126499939,-0.8354514412348808,-1.0457828371715128,0.18115030579217528,1.1239515630169037,-1.5863714249735588,-0.38526845344068544,0.7641741752305592,-0.6472601922389464,0.605503122155556,-0.5992898738674339,-1.5365560943569878,1.548304379380284,-3.0808313434706824,-0.3170030003735326,0.07598460782385887,-1.0420928126813964,0.5261675956180543,1.1018114160762054,0.24941575885932762,-1.1583285841200615,-1.5808363882383842,-0.46829400446830344,1.10734645281138,0.6737685752227084,0.14609507313606981,-0.22290737587556564,-0.35205823302963807,-0.6694003391796448,0.7309639548195118,0.9837306323924824,-0.3225380371087073,0.5612228282741597,0.22174057518345497,2.0593727712614,1.4099284610009213,1.3508880691590592,-0.8741966983811024,0.6922186976732901,-1.4313903963886718,0.5907430241950904,-0.48120909018371044,-0.24320251057120548,0.1055048037447896,-1.381575065772101,1.7512557263366835,1.8527313998148833,0.14240504864595313,1.7844659467477308,0.38594666499363284,-0.3170030003735326,-0.25796260853167113,0.2032904527328732,1.0409260119892858,-0.6435701677488302,-1.4479955065941954,0.4948023874520654,-0.26534265751190395,-0.446153857527605,0.531702632353229,-0.8852667718514514,-0.686005449385168,-1.693382135186933,-0.09191150647643516,-1.4055602249578574,1.2383423222105105,-1.8631232617322853,0.49295737520700683,1.3305929344634193,-0.422168698341849,-0.7395108044918552,0.7512590895151516,0.638713342566603,0.30476612621107296,-0.04025116361480599,1.526164232439586,0.6959087221634063,0.5538427792939269,-1.5513161923174532,0.6479384037918938,-0.20445725342498386,-0.6103599473377829,0.0649145343535099,-1.2413541351476796,-0.1620219717886461,-0.1288117513775987,0.27340091804508415,0.15347512211630263,2.3545747304707083,-1.1306534004441888,-0.4701390167133615,-0.4424638330374888,-0.3981835391560925,0.44129703234537815,-1.599286510688966,0.688528673183174,0.2531057833494438,-1.2229040126970978,-0.24504752281626407,1.526164232439586,0.522477571127938,1.2162021752698127,0.2365006731439206,0.27155590580002553,0.5815179629697995,-0.6933854983654009,0.7567941262503264,-0.6638653024444701,-0.43323877181219794,-0.3575932697648128,0.1645451955866516,0.282625979270375,1.2604824691512089,0.7697092119657334,-1.1251183637090145,0.9652805099419006,0.6719235629776503,0.6940637099183482,0.07044957108868465,0.2641758568197933,0.2198955629383969,1.766015824297149,-0.10113656770172605,-0.267187669756962,0.9080851303450967,-1.320689661685181,1.2936926895622558,-0.016266004429049997,-0.7468908534720881,-0.8336064289898222,-0.019956028919166143,-0.1620219717886461,0.09258971802938257,-0.33729813506917294,-1.7450424780485618,0.7088238078788138,-0.9812074085944766,-0.37788840446045263,0.7457240527799774,0.35642646907270215,1.4265335712064449,0.3195262241715386,-0.7265957187764482,0.27340091804508415,-1.141723473914538,1.1737668936334744,-0.6288100697883646,-0.19154216770957683,0.9191552038154461,-0.3077779391482417,0.2752459302901422,-0.6361901187685974,-0.5992898738674339,1.500334061008772,-0.4443088452825469,-0.24504752281626407,-0.30962295139330026,1.0630661589299837,-0.24504752281626407,-0.056856273820329685,-2.067919620933743,-0.0642363228005625,-1.1823137433058177,-0.3114679636383584,0.9210002160605042,-0.7358207800017391,0.701443758898581,-1.2026088780014579,0.3103011629462477,1.36011313038435,-1.5033458739459407,1.2900026650721397,-0.9203220045075569,0.771554224210792,0.44498705683549433,0.6294882813413121,0.03908436292269532,0.6626985017523594,0.3638065180529344,-1.1896937922860507,0.7881593344163151,-2.1693952944119426,0.30476612621107296,-0.1454168615831224,-0.10113656770172605,-0.7044555718357498,1.0390809997442276,0.10365979149973152,1.3804082650799905,0.0649145343535099,-0.29486285343283464,0.5243225833729962,1.275242567111674,0.10919482823490627,0.33797634662212034,0.3250612609067128,-0.45906894324301256,0.5852079874599156,-0.7081455963258665,-0.5236443718200487,0.555687791538985,1.2457223711907432,1.3287479222183614,-0.3649733187450456,-0.5273343963101649,-0.15833194729852942,1.3877883140602227,0.8379746650328863,-0.5107292861046412,-0.7026105595906917,-2.2339707229889787,-1.6435668045703622,-1.2007638657563995,-0.5863747881520269,2.2733941916881477,-0.8003962085787754,-1.0199526657406983,0.49295737520700683,-0.8594366004206367,-1.3760400290369263,0.09258971802938257,-1.6601719147758858,1.035390975254111,0.12026490170525522,0.0003391057764737013,-0.20445725342498386,0.6424033670567196,-0.422168698341849,-0.6767803881598772,-1.1564835718750035,1.044616036479402,-0.7634959636776117,-2.3538965189177605,-1.8114629188706564,-0.14726187382818048,-0.9867424453296512,0.32690627315177084,0.26971089355496747,-1.1767787065706434,-0.4110986248715,0.8840999711593407,0.17377025681194247,-3.3114578741029543,-1.2727193433136685,-0.21921735138544948,-0.8760417106261605,0.6257982568511959,-0.07530639627091146,-1.7874777596849,-0.995967506554942,0.06675954659856798,-0.32069302486364926,-0.23766747383603126,-0.8040862330688915,-0.686005449385168,-0.03471612687963177,-1.776407686214551,1.024320901783762,-1.361279931076461,1.5722895385660405,-0.35390324527469613,-1.5420911310921623,-0.7155256453060993,1.3176778487480123,0.389636689483749,0.5593778160291016,0.34166637111223647,-1.2302840616773305,0.8656498487087589,1.2069771140445218,0.4376070078552615,-0.7893261351084264,-0.49596918814417607,1.7604807875619743,0.4579021425509019,0.7900043466613738,0.7936943711514899,-0.0956015309665513,1.1626968201631254,0.7770892609459662,-1.2026088780014579,0.7420340282898608,-0.6380351310136555,1.0519960854596346,-1.2911694657642503,-1.8059278821354818,-0.8502115391953459,-0.7819460861281936,0.3232162486616547,0.3435113833572946,-2.5826780373049743,0.36934155478810915,-0.4184786738517323,0.07229458333374272,-0.8686616616459277,-2.1454101352261863,-1.1435684861595963,0.723583905839279,0.5132525099026471,-0.5328694330453396,1.5981197099968556,-1.2302840616773305,-1.379730053527043,1.36011313038435,-0.08822148198631902,-1.7062972209023402,0.461592167041018,0.867494860953817,1.0077157915782384,-0.840986477970055,-0.3557482575197547,0.9431403630012022,0.8840999711593407,-1.9682889597006015,0.306611138456131,0.3250612609067128,0.7401890160448027,0.6737685752227084,0.8010744201317227,0.19037536701746616,-0.45722393099795444,-0.7948611718436006,-0.16571199627876226,1.0519960854596346,-0.47198402895841957,1.345353032423885,0.3398213588671784,-0.49965921263429225,1.0686011956651584,1.5888946487715647,0.32875128539682946,0.36196150580787634,1.0003357425980055,0.06675954659856798,-0.7395108044918552,0.5095624854125305,-0.04209617585986458,-0.17862708199416927,-0.11036162892701694,-0.36128329425492894,-1.1878487800409925,-1.610356584159315,1.18852699159394,-1.150948535139829,0.7918493589064318,-2.0310193760325794,1.2125121507796959,-1.4240103474084391,0.9486753997363769,0.8840999711593407,-0.3114679636383584,0.7364989915546866,-0.7801010738831354,-1.693382135186933,1.6903703222497646,-2.348361482182586,0.7069787956337558,1.037235987499169,0.461592167041018,-0.911096943282266,-1.3981801759776247,1.1147265017916128,0.21436052620322216,0.7198938813491629,-0.9369271147130805,1.0538410977046928,-1.72659235559798,-0.7063005840808084,0.2752459302901422,-0.21921735138544948,1.0150958405584711,-0.4664489922232454,-0.6694003391796448,0.6811486242029412,-0.3243830493537654,-1.121428339218898,-0.007040943203759113,-0.5826847636619102,0.5483077425587521,1.1959070405741727,-0.07715140851596954,-0.5347144452903977,0.3305962976418875,-0.29486285343283464,-1.7930127964200746,0.6737685752227084,0.009564167001764587,-0.6601752779543539,0.34535639560235265,-0.2893278166976599,0.18484033028229144,-0.44799886977266357,1.376718240589874,-1.245044159637796,0.3490464200924693,0.7401890160448027,-0.18231710648428595,-0.35205823302963807,-1.5586962412976861,-0.3575932697648128,0.27893595478025834,-0.4129436371165581,0.005874142511648443,-0.5771497269267359,0.8213695548273626,-2.9516804863166097,0.0981247547645573,-0.05870128606538776,1.1479367222026597,0.8342846405427696,0.5132525099026471,0.3195262241715386,-1.2653392943334358,-1.0513178739066873,0.8748749099340498,0.138715024155837,0.46712720377619277,-0.2505825595514383,-0.3944935146659763,0.8435097017680605,-0.12512172688748255,0.7992294078866646,0.638713342566603,-0.8391414657249969,0.797384395641606,-0.09191150647643516,1.7254255549058695,1.9136168039018033,-1.6564818902857694,-0.9664473106340112,-1.3575899065863446,-0.686005449385168,0.2180505506933388,0.4136218486695055,1.251257407925918,1.1571617834279506,-0.007040943203759113,0.3305962976418875,0.2512607711043857,-0.14357184933806433,0.3508914323375274,-1.0660779718671527,-0.9092519310372079,0.44129703234537815,-0.6970755228555175,-0.8243813677645313,-0.30224290241306745,-0.6269650575433066,-0.8778867228712186,0.3158361996814219,-1.4719806657799517,-0.662020290199412,-2.6140432454709637,-1.9682889597006015,-1.5623862657878025,0.7807792854360829,0.41731187315962165,0.6663885262424756,-0.1767820697491112,0.40993182417938884,0.7678641997206753,0.723583905839279,1.0483060609695185,1.740185652866335,-0.22290737587556564,0.3361313343770618,-0.09191150647643516,0.3785666160134,-0.49227916365405944,-0.9147869677723821,0.16639020783170966,-0.5476295310058047,-1.1730886820805269,-0.8815767473613352,-1.4406154576139627,-0.5623896289662703,-1.525486020886639,-1.328069710665414,-1.077148045337502,-1.0181076534956401,-0.40187356364620913,-1.0181076534956401,-0.11958669015230781,0.7198938813491629,-2.538397743423578,1.500334061008772,0.8711848854439331,-0.06977135953573724,-0.4074086003813834,0.059379497618335164,-0.6823154248950519,-0.3723533677252779,-0.47382904120347763,0.02247925271717162,0.4283819466299706,0.20882548946804794,0.47266224051136696,1.035390975254111,0.18115030579217528,-0.23213243710085651,0.2365006731439206,0.24941575885932762,-0.38526845344068544,-0.4775190656935943,0.7770892609459662,1.203287089554405,1.1128814895465549,-1.141723473914538,0.7143588446139881,-0.6435701677488302,-0.8059312453139496,0.42469192213985446,-0.5033492371244089,-0.7487358657171461,-0.9682923228790693,-0.20076722893486773,-0.2745677187371948,-0.6546402412191792,-0.6989205351005756,0.4579021425509019,-0.3003978901680094,-0.06239131055550443,1.3785632528349319,-0.08453145749620235,0.5962780609302651,1.1516267466927763,-0.32991808608894013,0.2678658813099094,-1.287479441274134,1.7992260447081965,0.23281064865380394,0.3490464200924693,0.0981247547645573,-0.21552732689533283,-0.7432008289819719,-1.067922984112211,1.6774552365343565,1.356423105894234,0.389636689483749,-0.21921735138544948,-0.42401371058690707,0.6571634650171847,2.254944069237566,-0.5015042248793503,0.29369605274072397,0.5390826813334613,0.19591040375264038,0.06860455884362605,0.5261675956180543,0.937605326266028,0.2992310894758982,-0.24689253506132217,-0.02918109014445703,-0.6564852534642373,-0.5771497269267359,-0.6527952289741211,-0.1288117513775987,0.3748765915232839,-1.2985495147444832,-0.14172683709300574,1.2235822242500454,-0.2745677187371948,0.5944330486852065,-0.17309204525899508,0.2881610160055492,0.21436052620322216,0.5058724609224143,-0.0033509187136424434,0.10734981598984819,-0.7026105595906917,-0.49781420038923413,-0.6251200452982485,-0.28194776771742763,0.7660191874756173,-0.7321307555116224,0.3841016527485748,-0.8059312453139496,1.055686109949751,-1.256114233108145,0.21436052620322216,0.4781972772465417,-0.8834217596063934,-0.6749353759148191,0.5114074976575886,0.49295737520700683,0.3361313343770618,-0.17862708199416927,0.20513546497793128,-1.829913041321238,-2.036554412767754,0.1719252445668844,0.23096563640874584,-0.2911728289427185,0.5944330486852065,-0.0734613840258534,-0.5420944942706305,0.6645435139974175,-1.4350804208787882,1.4560537671273752,1.1608518079180672,0.19775541599769847,-0.46829400446830344,0.15716514660641875,-1.4092502494479737,-0.07530639627091146,-0.6288100697883646,-0.3317630983339982,-1.4295453841436137,0.723583905839279,-0.9406171392031967,-0.13434678811277345,0.3638065180529344,0.09258971802938257,-0.20076722893486773,-0.10113656770172605,0.9394503385110861,0.34535639560235265,0.1221099139503133,-0.5716146901915612,-0.4129436371165581,0.16639020783170966,0.5409276935785199,0.3582714813177602,0.6147281833808469,-0.7764110493930189,0.22727561191862972,-0.5623896289662703,-1.150948535139829,-1.318844649440123,-1.2302840616773305,-0.06608133504562057,-0.9203220045075569,-0.8520565514404039,-0.21552732689533283,1.9136168039018033,-0.7063005840808084,0.9357603140209694,0.7678641997206753,-0.04209617585986458,-0.2893278166976599,-0.7044555718357498,-1.1177383147287816,-3.1657019067433585,-0.36866334323516176,-0.5402494820255724,-0.7155256453060993,-0.18969715546451876,0.7623291629855011,0.6793036119578831,-0.18416211872934402,1.417308509981154,0.004029130266589846,1.596274697751797,-1.527331033131697,-1.785632747439842,-0.20814727791510054,-0.0956015309665513,0.20513546497793128,-0.0734613840258534,-0.8502115391953459,0.4634371792860761,1.1571617834279506,1.3582681181392922,-0.912941955527324,-1.3575899065863446,0.27155590580002553,0.31399118743636384,0.09258971802938257,1.5206291957044114,0.4228469098947964,-0.22290737587556564,-0.21737233914039142,1.1202615385267871,0.17746028130205863,-0.9553772371636621,0.474507252756425,-0.4609139554880706,-0.47567405344853625,0.40070676295409796,-0.74504584122703,-1.1177383147287816,-0.6361901187685974,0.4431420445904362,-0.9812074085944766,-1.6860020862067004,0.7198938813491629,1.0575311221948094,-1.0217976779857565,0.08705468129420782,0.797384395641606,-0.5586996044761542,0.4984924119421816,-0.3649733187450456,0.46528219153113415,0.6221082323610793,-1.1583285841200615,1.548304379380284,-0.7247507065313902,0.3361313343770618,-1.6786220372264675,0.6608534895073014,0.44867708132561096,1.640554991633193,-0.37604339221539457,-1.2007638657563995,-0.7487358657171461,0.12026490170525522,-0.16755700852382033,-0.2764127309822529,-0.20076722893486773,0.2032904527328732,0.02985930169740443,-0.04394118810492266,-0.35021322078457995,-0.8262263800095899,0.34535639560235265,1.1479367222026597,-0.8926468208316842,1.0077157915782384,0.3804116282584581,-0.4701390167133615,0.8250595793174788,-0.5753047146816774,-0.0900664942313771,-0.7561159146973789,-1.3003945269895412,-0.3170030003735326,0.5778279384796834,-0.68416043714011,0.8121444936020716,0.05568947312821902,0.2604858323296766,0.23834568538897868,0.9911106813727146,-0.38157842895056876,-0.9848974330845931,-2.1933804535976993,-0.5734597024366194,1.2364973099654524,-1.1103582657485491,1.1626968201631254,-0.6509502167290631,-0.45906894324301256,-0.7764110493930189,-1.3981801759776247,0.29738607723084015,0.7881593344163151,-0.4609139554880706,-1.6435668045703622,-1.3538998820962285,-2.8133045679372466,1.2088221262895797,0.31768121192647997,-0.8908018085866262,-0.5513195554959214,1.1128814895465549,-0.6896954738752847,-1.1823137433058177,0.24941575885932762,0.49111236296194877,-0.35390324527469613,0.37672160376834196,0.6202632201160212,-0.021801041164224214,0.3361313343770618,-1.2616492698433197,-0.41663366160667425,-1.036557775946222,0.5058724609224143,-0.6546402412191792,2.2143537998462866,-0.7727210249029026,0.5944330486852065,-1.6564818902857694,0.33428632213200365,0.27340091804508415,0.19591040375264038,0.05753448537327709,0.48004228949159977,0.9597454732067259,-0.15279691056335523,0.3398213588671784,-0.8243813677645313,0.2198955629383969,-0.09191150647643516,-0.03840615136974792,0.0483094241479862,0.7918493589064318,-1.0642329596220945,-0.6638653024444701,-0.2690326820020201,0.2604858323296766,-1.4461504943491374,-1.6085115719142569,-0.19523219219969298,0.7328089670645699,-0.025491065654340884,-0.6085149350927248,-0.13250177586771486,-1.027332714720931,-1.5402461188471044,-1.5882164372186167,1.4468287059020843,-1.7395074413133873,-0.3594382820098709,0.06306952210845183,0.6774585997128245,1.5169391712142952,-0.04209617585986458,-1.6601719147758858,-0.36866334323516176,-0.5107292861046412,-0.060546298310446355,-0.505194249369467,-0.3354531228241143,-0.14357184933806433,0.6184182078709631,1.1700768691433583,-0.06608133504562057,1.096276379341031,0.1866853425273495,-1.6011315229340242,-0.04209617585986458,0.09258971802938257,-0.06239131055550443,0.46528219153113415,-0.662020290199412,-0.0033509187136424434,-0.7782560616380769,1.0759812446453914,0.4468320690805524,0.2180505506933388,0.5464627303136941,-1.6730870004912932,-0.7671859881677279,0.5187875466378215,1.635019954898019,0.04277438741281199,-0.5974448616223759,-2.6158882577160214,0.10181477925467344,-0.42585872283196513,1.103656428321264,-0.8225363555194732,0.282625979270375,-1.6029765351790823,0.5519977670488688,0.33428632213200365,-2.9867357189727155,0.42100189764973833,-0.8003962085787754,0.5077174731674724,0.5243225833729962,2.478190550889606,2.011402452889887,-2.1140449270601973,1.1811469426137071,0.3232162486616547,1.8176761671587782,0.7457240527799774,-0.6232750330531904,-1.9129385923488562,0.3029211139660149,-1.0236426902308147,-0.13988182484794767,1.2900026650721397,0.9025500936099224,-0.20076722893486773,-1.0291777269659892,-0.014420992183991926,-1.2229040126970978,-0.68416043714011,0.4560571303058433,-0.5494745432508633,-0.446153857527605,-0.42585872283196513,-0.5679246657014451,1.701440395720113,0.26233084457473466,0.306611138456131,0.8398196772779444,0.18853035477240757,-0.6749353759148191,-0.07161637178079532,-1.6066665596691985,-1.599286510688966,0.7789342731910243,-0.3668183309901037,-0.37604339221539457,-2.390796763818924,-1.154638559629945,1.3822532773250487,0.5077174731674724,-0.6306550820334227,0.9449853752462603,-0.5162643228398159,-0.6158949840729576,0.38225664050351615,-0.5310244208002816,0.12026490170525522,0.616573195625905,0.282625979270375,1.7162004936805786,-0.8188463310293571,0.9412953507561441,1.3656481671195249,-1.379730053527043,-0.8133112942941824,-0.6398801432587136,-1.4885857759854755,-0.30408791465812557,0.03908436292269532,-0.9313920779779058,-1.7247473433529221,0.26602086906485134,-1.2930144780093085,0.17377025681194247,0.07229458333374272,2.0040224039096546,-0.18969715546451876,0.5206325588828795,-0.18416211872934402,-0.7007655473456337,-0.4553789187528959,-0.8483665269502878,0.8324396282977116,-1.3926451392424501,-1.1823137433058177,0.7863143221712571,-1.163863620855236,0.7051337833886971,-0.924012028997673,-0.32622806159882345,0.35642646907270215,-0.5845297759069683,1.5280092446846447,1.2346522977203944,0.07229458333374272,0.22912062416368778,0.15347512211630263,1.4800389263131317,0.016944215981997402,-2.3557415311628187,0.49295737520700683,-0.280102755472369,0.38594666499363284,-0.46460397997818675,-1.0439378249264546,0.7623291629855011,0.6479384037918938,-0.4904341514090013,-0.9978125188000001,-0.7598059391874951,0.18115030579217528,0.365651530297993,-0.07530639627091146,-0.0015059064685843712,-0.9719823473691858,-1.6158916208944896,0.5704478894994506,-0.6251200452982485,0.9763505834122496,-1.715522282127631,-0.43323877181219794,0.28631600376049116,-1.2819444045389594,-0.43323877181219794,-1.4996558494558243,0.5741379139895667,-1.027332714720931,-1.141723473914538,-1.3686599800566939,-1.2505791963729704,-0.3723533677252779,1.0796712691355075,-0.9479971881834295,-0.15279691056335523,0.7475690650250355,-2.285631065850608,1.976347220233782,0.5187875466378215,-0.06977135953573724,0.474507252756425,0.9800406079023657,-1.4166302984282064,-0.18785214321946017,1.3195228609930705,0.9394503385110861,-1.285634429029076,0.6442483793017777,-1.5384011066020462,0.8213695548273626,0.5833629752148576,-1.2967045024994248,0.7475690650250355,-1.5310210576218135,0.07413959557880079,-1.320689661685181,-0.3409881595592891,-0.5586996044761542,-0.6970755228555175,0.3121461751913058,-0.6029798983575501,-0.10298157994678411,2.319519497814602,-0.5439395065156886,0.3324413098869456,1.1202615385267871,0.12395492619537136,1.055686109949751,-0.11589666566219167,0.0335493261875211,-0.07530639627091146,-1.6952271474319913,0.4394520201003201,-0.34467818404940526,-2.377881678103517,-0.8225363555194732,1.3398179956887102,0.6645435139974175,-1.0088825922703493,-0.014420992183991926,0.06860455884362605,-0.5974448616223759,0.9339153017759113,-0.8059312453139496,0.48373231398171596,-1.9498388372500197,0.18115030579217528,-0.7782560616380769,-2.007034216846823,0.4634371792860761,-0.9184769922624988,0.3545814568276435,0.6719235629776503,-1.112203277993607,-0.6491052044840044,1.0280109262738781,-0.5125742983496998,-0.4867441269188852,0.7217388935942209,0.19960042824275706,-1.1841587555508761,0.6663885262424756,-0.9350821024680219,-1.9978091556215323,-1.560541253542744,0.6700785507325923,-1.5125709351712315,-0.6085149350927248,-0.7302857432665644,-0.4848991146738271,-1.401870200467741,0.11657487721513908,-0.9221670167526149,1.0538410977046928,1.4929540120285387,-0.2247523881206237,-1.2265940371872142,0.11472986497008048,-0.7985511963337173,0.795539383396548,0.32875128539682946,0.5261675956180543,-1.1251183637090145,-0.4848991146738271,-0.20076722893486773,0.8250595793174788,-1.1269633759540725,0.210670501713106,-0.6177399963180157,0.25679580783956046,0.10365979149973152,0.25495079559450234,-0.6103599473377829,0.4708172282663089,-0.9369271147130805,0.6903736854282321,-0.5439395065156886,0.5999680854203813,-0.2247523881206237,-0.04025116361480599,-0.5513195554959214,-1.0605429351319782,0.5335476445982871,-0.11774167790724975,1.8767165590006398,0.531702632353229,0.18115030579217528,0.9855756446375404,-0.45168889426277975,-0.4627589677331287,1.0187858650485873,1.116571514036671,-0.24873754730638023,-0.09191150647643516,-0.0734613840258534,0.5169425343927633,-0.6398801432587136,1.4634338161076084,-0.4904341514090013,-0.5291794085552229,-0.4775190656935943,0.6571634650171847,-0.09375651872149324,0.018789228227055473,-1.0402478004363385,0.38225664050351615,0.08705468129420782,1.7567907630718582,-0.6915404861203428,-0.5162643228398159,0.9818856201474238,-0.16017695954358752,0.6756135874677665,-0.7524258902072628,0.5759829262346248,0.04277438741281199,-2.1749303311471175,0.5206325588828795,0.7328089670645699,0.8767199221791079,1.4357586324317357,-1.077148045337502,1.0040257670881223,-0.17862708199416927,-1.1675536453453523,0.15163010987124403,0.3029211139660149,-0.924012028997673,0.7660191874756173,-0.7192156697962154,-1.2985495147444832,0.522477571127938,1.1645418324081835,0.9246902405506204,-0.24873754730638023,-1.3538998820962285,0.7807792854360829,0.4634371792860761,0.627643269096254,-0.5070392616145251,-0.24135749832614742,-0.02918109014445703,1.0261659140288202,1.640554991633193,0.007719154756706515,-0.3225380371087073,-0.06792634729067865,-1.2930144780093085,0.5390826813334613,0.6479384037918938,-2.403711849534331,-0.7044555718357498,1.36011313038435,0.48926735071689065,-2.5660729270994507,-1.9978091556215323,0.2180505506933388,-0.8520565514404039,1.9117717916567458,0.1294899629305461,-0.2985528779229508,-0.025491065654340884,0.3029211139660149,2.136863285553843,-0.8003962085787754,-1.2062989024915742,-0.18785214321946017,0.6442483793017777,1.408083448755863,-0.5771497269267359,-1.1103582657485491,0.2365006731439206,-0.13065676362265677,-0.07715140851596954,-3.263487555731442,0.08520966904914976,0.04461939965787006,-0.3575932697648128,0.806609456866897,0.6737685752227084,-0.36866334323516176,0.461592167041018,0.9302252772857952,-0.0015059064685843712,-3.1675469189884162,0.06675954659856798,0.5058724609224143,-0.7284407310215063,-0.00519593095870104,0.03723935067763725,-0.4387738085473727,1.2088221262895797,-1.2616492698433197,-1.6786220372264675,-1.171243669835469,-0.4424638330374888,-0.07899642076102813,0.8859449834043988,0.10181477925467344,0.13502499966572085,0.5390826813334613,0.11841988946019714,0.7936943711514899,0.3988617507090399,-0.21368231465027476,-1.693382135186933,1.1922170160840562,-0.267187669756962,-0.9609122738988365,0.282625979270375,-2.3022361760561316,1.9173068283919195,-1.641721792325304,1.035390975254111,-0.6823154248950519,-2.315151261771539,0.6516284282820105,-0.7468908534720881,-1.1472585106497126,1.5593744528506335,-1.7874777596849,0.7549491140052683,0.6922186976732901,-0.9313920779779058,-0.5347144452903977,0.18484033028229144,-0.925857041242731,-1.1786237188157016,0.782624297681141,-2.180465367882292,0.07967463231397554,-0.46829400446830344,0.3472014078474112,-0.9443071636933128,0.1553201343613607,1.4339136201866771,-1.0125726167604656,-0.0808414330060862,-1.0181076534956401,1.6995953834750555,0.7457240527799774,0.07044957108868465,-1.4461504943491374,-0.1454168615831224,0.5981230731753232,-2.1361850740008954,-0.112206641172075,1.0741362324003327,-0.11958669015230781,0.8379746650328863,1.0741362324003327,-0.7837910983732517,-0.6823154248950519,-0.68416043714011,-0.5992898738674339,0.7531041017602103,-0.5586996044761542,0.45974715479595996,2.3711798406762314,0.5686028772543925,-2.224745661763688,0.9117751548352133,-0.6048249106026087,0.1368700119107789,-1.722902331107864,0.605503122155556,-0.5254893840651068,0.605503122155556,1.0132508283134132,-0.04947622484009687,-0.6066699228476667,1.4947990242735973,-0.6158949840729576,0.5519977670488688,0.210670501713106,0.5409276935785199,1.1313316119971366,-1.193383816776167,-0.7505808779622042,0.5593778160291016,-0.8225363555194732,-0.28563779220754376,1.2180471875148706,-1.6380317678351877,1.345353032423885,0.07229458333374272,0.07229458333374272,-0.44799886977266357,-0.2524275717964964,-0.09929155545666797,-0.06977135953573724,1.4209985344712701,-0.17124703301393698,-0.7358207800017391,0.5649128527642758,-0.09375651872149324,0.5741379139895667,-1.069767996357269,-0.953532224918604,-1.4775157025151262,-1.0882181188078508,0.08520966904914976,0.10181477925467344,-0.34283317180434714,0.5187875466378215,0.5483077425587521,-0.38895847793080157,0.461592167041018,-1.307774575969774,-0.4295487473220818,0.8435097017680605,-0.07715140851596954,-0.3981835391560925,-0.0328711146345737,-1.1029782167683162,-0.9369271147130805,0.5206325588828795,0.9929556936177732,1.3305929344634193,0.8914800201395735,-1.0144176290055238,-0.5162643228398159,-0.6122049595828409,0.2881610160055492,0.542772705823578,-1.0568529106418618,-0.4830541024287685,0.282625979270375,0.5021824364322977,0.15716514660641875,1.4726588773328992,-0.12143170239736589,0.3158361996814219,0.2844709915154331,1.5372343059099356,0.5852079874599156,0.45236710581572714,0.806609456866897,-1.1158933024837234,-0.8317614167447641,-0.16571199627876226,-0.018111016674108072,1.1147265017916128,-2.285631065850608,-1.285634429029076,0.306611138456131,-0.2339774493459146,-1.2229040126970978,1.1682318568983001,-0.42401371058690707,0.04646441190292813,-0.6066699228476667,-1.1232733514639563,0.33428632213200365,0.5686028772543925,0.7531041017602103,-0.5439395065156886,-0.32807307384388207,0.2198955629383969,-1.2930144780093085,-0.6527952289741211,1.2807776038468488,0.6516284282820105,-0.3797334167055107,-1.2819444045389594,-0.6251200452982485,-1.5900614494636751,0.4136218486695055,-0.6103599473377829,-2.962750559786959,0.19775541599769847,-0.9018718820569751,-0.23951248608108935,-0.925857041242731,0.365651530297993,0.10365979149973152,-0.07530639627091146,-1.5734563392581515,0.18299531803723335,-1.1343434249343054,0.6018130976654393,0.784469309926199,0.7992294078866646,0.1940653915075823,0.29369605274072397,-1.4664456290447772,-0.3483682085395219,-0.3834234411956274,0.2365006731439206,0.24941575885932762,-1.973823996435776,-1.370504992301752,0.018789228227055473,0.6497834160369519,-1.7099872453924567,-0.8133112942941824,-0.0956015309665513,1.0335459630090529,-0.4147886493616162,-1.246889171882854,1.0483060609695185,-0.2930178411877766,0.6294882813413121,-0.6657103146895281,-1.5199509841514645,-1.5753013515032097,-0.842831490215113,0.19960042824275706,2.1294832365736096,0.10919482823490627,0.0003391057764737013,-0.3963385269110344,-0.11958669015230781,-0.8354514412348808,0.3029211139660149,0.640558354811661,-0.8760417106261605,-0.4037185758912672,-1.276409367803785,-0.3317630983339982,-0.14172683709300574,0.5815179629697995,1.0206308772936459,0.14978509762618594,-0.04394118810492266,-1.1361884371793634,1.2567924446610923,-0.1767820697491112,0.10181477925467344,0.46897221602125083,0.8490447385032353,-0.3243830493537654,-0.8520565514404039,-0.1620219717886461,0.18853035477240757,-1.0162626412505817,-0.601134886112492,-0.8778867228712186,-0.5955998493773178,-0.6712453514247029,1.0649111711750419,0.08705468129420782,-1.2985495147444832,0.13502499966572085,-0.4443088452825469,0.5114074976575886,0.7623291629855011,-0.10667160443690078,0.09074470578432449,0.6774585997128245,-0.9147869677723821,0.9339153017759113,0.45974715479595996,0.6848386486930573,0.8970150568747477,-1.1804687310607598,0.7254289180843375,0.8176795303372464,-0.6583302657092953,-2.7597992128305595,1.7936910079730217,-0.7026105595906917,0.2420357098790948,-0.5107292861046412,0.6663885262424756,0.009564167001764587,0.31399118743636384,0.25495079559450234,0.723583905839279,0.0317043139424625,0.5833629752148576,-0.18785214321946017,1.2531024201709762,-0.8908018085866262,-1.3336047474005883,0.5981230731753232,-0.35205823302963807,-0.8502115391953459,-0.20445725342498386,-2.003344192356707,-1.3741950167918684,-0.505194249369467,0.02616927720728829,-0.422168698341849,0.018789228227055473,1.094431367095973,0.0483094241479862,-0.7358207800017391,0.3841016527485748,-0.9461521759383714,1.336127971198594,0.389636689483749,1.2088221262895797,-0.7136806330610407,-1.005192567780233,0.020634240472113548,-0.025491065654340884,-1.2598042575982613,-0.6122049595828409,0.4948023874520654,-0.8760417106261605,1.7549457508268007,0.10734981598984819,-0.00519593095870104,1.6331749426529605,-0.7745660371479608,-0.8225363555194732,1.0095608038232964,-0.0808414330060862,-0.6878504616302267,-0.8686616616459277,-1.5070358984360572,0.38225664050351615,0.3490464200924693,0.01509920373693933,-1.7192123066177476,1.1331766242421946,0.5206325588828795,0.8287496038075954,-0.2690326820020201,0.950520411981435,0.10181477925467344,1.1922170160840562,0.7494140772700936,-1.2911694657642503,0.14240504864595313,-0.3594382820098709,-2.368656616878226,0.8896350078945149,0.44867708132561096,1.1479367222026597,-1.8705033107125182,0.15347512211630263,-0.9664473106340112,-0.4848991146738271,0.8232145670724207,0.4505220935706691,0.5870529997049743,0.7364989915546866,0.20144544048781513,-0.5863747881520269,0.9302252772857952,-1.4147852861831482,-0.014420992183991926,-0.5716146901915612,-0.2837927799624857,0.32690627315177084,-1.0070375800252909,-1.1823137433058177,0.25679580783956046,-1.3446748208709376,-0.8262263800095899,-0.4295487473220818,0.9523654242264931,0.024324264962230214,1.0132508283134132,0.09258971802938257,-1.2745643555587267,-1.1103582657485491,-0.6122049595828409,0.5870529997049743,0.1221099139503133,-0.5660796534563866,0.26233084457473466,1.0390809997442276,0.638713342566603,-0.0033509187136424434,-0.3575932697648128,-0.021801041164224214,-0.8206913432744152,1.880406583490756,-0.5697696779465031,-2.224745661763688,1.1128814895465549,-0.24320251057120548,-0.6048249106026087,0.03723935067763725,-1.4147852861831482,0.1553201343613607,0.07598460782385887,0.9486753997363769,0.0483094241479862,-1.1103582657485491,-1.1564835718750035,0.41731187315962165,1.6995953834750555,1.1866819793488819,1.1368666487323107,-0.8003962085787754,0.6257982568511959,0.3158361996814219,-1.7690276372343183,0.04277438741281199,-0.4701390167133615,-1.1158933024837234,-0.2505825595514383,-0.20630226567004195,1.5298542569297022,-1.569766314768035,0.7733992364558501,-0.13250177586771486,0.3490464200924693,-0.590064812642143,0.9431403630012022,0.03723935067763725,-2.0439344617479867,1.0021807548430641,1.201442077309347,-1.0162626412505817,0.9320702895308532,0.41177683642444746,0.6368683303215449,0.5722929017445086,-1.3631249433215193,-0.7542709024523209,-0.6214300208081318,-1.518105971906406,1.4818839385581903,1.1147265017916128,0.7770892609459662,0.24757074661426956,-0.11589666566219167,-0.4793640779386524,-2.2136755882933388,1.5649094895858082,-0.9516872126735456,-0.5623896289662703,0.3582714813177602,-1.4996558494558243,-0.5826847636619102,-1.3483648453610537,-2.003344192356707,0.6479384037918938,-0.5236443718200487,1.0021807548430641,0.542772705823578,-1.1048232290133746,-1.2026088780014579,0.6497834160369519,0.9560554487166097,-2.55684786587416,2.415460134557627,0.6848386486930573,0.5612228282741597,1.0150958405584711,-1.4092502494479737,0.8305946160526535,-0.3483682085395219,-1.069767996357269,-1.8317580535662963,-0.9922774820648256,-0.35205823302963807,-0.1767820697491112,-0.686005449385168,-0.6140499718278996,0.9652805099419006,-0.9461521759383714,-0.9092519310372079,0.555687791538985,0.6682335384875336,-0.5310244208002816,-0.3317630983339982,1.035390975254111,0.5058724609224143,-0.07161637178079532,1.8970116936962802,0.2641758568197933,1.609189783467204,-1.1324984126892472,-0.04947622484009687,1.1516267466927763,0.18484033028229144,-1.0402478004363385,-0.37604339221539457,-1.4646006167997192,0.806609456866897,2.511400771300653,0.19037536701746616,-0.4443088452825469,-0.4664489922232454,-0.01257597993893333,-0.5568545922310956,-1.5642312780328604,0.7992294078866646,0.8361296527878282,1.5077141099890043,0.31399118743636384,-0.2247523881206237,-1.2893244535191923,1.7918459957279642,0.13502499966572085,-0.1860071309744021,0.7309639548195118,1.1479367222026597,1.874871546755582,1.874871546755582,-0.769031000412786,0.2678658813099094,-0.8963368453218004,0.10734981598984819,-1.1140482902386655,0.6774585997128245,1.9265318896172103,-0.9885874575747092,0.6128831711357884,0.07598460782385887,-0.2930178411877766,0.02616927720728829,1.6848352855145898,-0.019956028919166143,1.2051321017994636,0.5612228282741597,0.6184182078709631,-0.6398801432587136,-0.8133112942941824,-2.0623845841985684,0.8287496038075954,-0.4793640779386524,-0.09375651872149324,-0.47382904120347763,-0.06977135953573724,-0.435083784057256,-0.4627589677331287,0.557532803784043,0.6018130976654393,-0.34283317180434714,0.17377025681194247,0.2420357098790948,0.6977537344084649,-0.18785214321946017,0.6866836609381154,1.2346522977203944,-0.4295487473220818,-0.6103599473377829,-0.21552732689533283,1.3545780936491758,0.41177683642444746,-1.569766314768035,0.20144544048781513,1.1756119058785324,-0.056856273820329685,-0.025491065654340884,0.40439678744421464,-0.09191150647643516,0.47635226500148364,-0.6694003391796448,-2.8335997026328865,0.6663885262424756,0.5409276935785199,1.2125121507796959,-1.495965824965708,0.7069787956337558,0.007719154756706515,-0.7210606820412735,0.17561526905700053,-0.435083784057256,0.3638065180529344,-0.4129436371165581,-0.24135749832614742,0.08520966904914976,-2.6638585760875344,-0.0015059064685843712,0.6866836609381154,-0.5144193105947579,-0.10851661668195886,-1.3446748208709376,-1.4055602249578574,-0.994122494309884,0.365651530297993,0.7881593344163151,-0.4074086003813834,-1.7708726494793765,-0.8391414657249969,-0.05316624933021354,-0.08637646974126043,0.771554224210792,-0.7081455963258665,-0.24135749832614742,0.6719235629776503,0.03908436292269532,-1.3483648453610537,-0.9461521759383714,-0.014420992183991926,-0.5273343963101649,-0.21183730240521667,0.06122450986339376,0.26233084457473466,0.32690627315177084,-1.9074035556136817,0.05199944863810287,0.18115030579217528,-0.3575932697648128,0.7604841507404425,0.5962780609302651,0.7604841507404425,-1.6952271474319913,-0.7081455963258665,0.3951717262189237,-0.13803681260288958,0.7733992364558501,1.1848369671038232,0.5722929017445086,-0.1804720942392279,0.880409946669224,0.8195245425823044,-0.1860071309744021,-1.1324984126892472,0.4228469098947964,-0.4387738085473727,1.2346522977203944,0.19037536701746616,-0.21552732689533283,-0.256117596286613,-0.25427258404155495,-0.06239131055550443,-1.1029782167683162,-1.4682906412898353,1.1128814895465549,-0.2764127309822529,0.7641741752305592,-0.9350821024680219,0.2641758568197933,-0.20076722893486773,-1.1730886820805269,1.71435548143552,0.5630678405192178,0.8029194323767808,-0.733975767756681,-0.7874811228633678,-0.4553789187528959,0.2457257343692115,-1.403715212712799,-0.590064812642143,-0.019956028919166143,-0.5734597024366194,-0.5697696779465031,-1.5125709351712315,0.11288485272502241,-0.7727210249029026,-0.9996575310450584,-0.01257597993893333,0.6534734405270686,-0.30408791465812557,-1.1804687310607598,-0.7819460861281936,-0.8631266249107534,0.06860455884362605,-0.16571199627876226,-2.3003911638110734,0.0981247547645573,1.9117717916567458,-2.049469498483161,-0.3225380371087073,-0.5771497269267359,-0.08822148198631902,0.2770909425352003,-0.5439395065156886,0.9671255221869587,0.3545814568276435,-0.06792634729067865,-0.18416211872934402,0.8435097017680605,-1.5420911310921623,-0.16386698403370417,0.2198955629383969,-1.922163653574147,-0.9350821024680219,-0.6970755228555175,1.3988583875305722,1.105501440566322,-0.3963385269110344,0.05199944863810287,-1.6232716698747223,-0.13065676362265677,-0.09191150647643516,-0.40925361262644144,0.23096563640874584,-0.3465231962944638,0.8840999711593407,0.22358558742851303,0.8398196772779444,0.306611138456131,0.9560554487166097,0.5483077425587521,0.771554224210792,-0.7358207800017391,0.0815196445590336,0.4394520201003201,0.10919482823490627,1.1313316119971366,1.275242567111674,-0.4129436371165581,0.7254289180843375,0.3398213588671784,-0.23951248608108935,0.8471997262581772,0.5686028772543925,0.963435497696842,0.18484033028229144,-0.8797317351162767,1.3121428120128376,-0.925857041242731,0.5833629752148576,-0.1860071309744021,-0.04394118810492266,-0.0900664942313771,-0.5384044697805138,-1.1343434249343054,-0.6454151799938883,0.07967463231397554,0.22543059967357112,-0.4775190656935943,-0.15279691056335523,1.118416526281729,-1.765337612744202,1.6626951385738917,-0.7985511963337173,0.7401890160448027,1.0464610487244599,1.5021790732538296,1.647935040613426,-0.7265957187764482,0.26233084457473466,0.8342846405427696,0.210670501713106,-1.639876780080246,-0.4904341514090013,1.1387116609773689,0.3841016527485748,-1.518105971906406,0.8269045915625373,0.6645435139974175,1.0999664038311472,-2.150945171961361,0.5796729507247415,-0.8760417106261605,1.2180471875148706,-0.8372964534799389,-0.6454151799938883,-0.5439395065156886,1.6829902732695312,1.4117734732459792,-0.45906894324301256,-0.2598076207767292,-0.20630226567004195,0.2198955629383969,-0.3834234411956274,1.5667545018308657,-0.6251200452982485,1.2549474324160341,-1.2837894167840176,-1.1823137433058177,0.32690627315177084,0.2512607711043857,1.5427693426451103,0.3232162486616547,0.4062417996892727,-0.112206641172075,-1.4406154576139627,0.9781955956573076,-0.09191150647643516,0.03539433843257917,0.02247925271717162,0.8914800201395735,-0.35390324527469613,-0.07899642076102813,-1.154638559629945,-0.5033492371244089,1.539079318154993,-0.6952305106104589,-0.22106236363050757,-0.5955998493773178,-0.6343451065235394,-0.817001318784299,-1.0107276045154074,-0.10113656770172605,1.5815145997913314,-0.6675553269345863,-0.3981835391560925,0.050154436393044274,-0.7026105595906917,-1.3133096127049486,-0.23213243710085651,-1.9978091556215323,-0.2837927799624857,-0.4627589677331287,0.4320719711200873,-0.04209617585986458,-0.8557465759305206,1.1793019303686492,-0.20630226567004195,-1.2524242086180288,0.49295737520700683,-0.42032368609679094,0.7660191874756173,-0.25427258404155495,-0.4553789187528959,-0.9978125188000001,-1.0088825922703493,-0.00519593095870104,1.2254272364951035,0.4874223384718326,0.13502499966572085,0.23281064865380394,0.07598460782385887,-0.44799886977266357,0.44129703234537815,0.19037536701746616,0.3508914323375274,-0.3834234411956274,-0.769031000412786,-0.7413558167369133,-0.03840615136974792,-1.1786237188157016,-2.3612765678979932,-0.8815767473613352,-1.3465198331159958,-0.38157842895056876,-0.06792634729067865,0.25495079559450234,-0.769031000412786,1.3379729834436522,-0.30224290241306745,0.4394520201003201,-0.07530639627091146,-1.859433237242169,0.8564247874834681,0.688528673183174,-2.241350771969212,-0.11589666566219167,1.0575311221948094,1.0667561834201003,-0.38526845344068544,-0.40925361262644144,-0.6472601922389464,-1.879728371937809,-1.829913041321238,0.19960042824275706,0.5519977670488688,0.5409276935785199,-1.215523963716865,0.4265369343849125,-0.817001318784299,-1.5125709351712315,-0.23951248608108935,-1.4277003718985557,-0.6085149350927248,1.3158328365029544,-0.29670786567789276,-0.3409881595592891,-1.8059278821354818,0.07967463231397554,0.013254191491880733,-0.5845297759069683,-1.2653392943334358,-2.237660747479095,0.6128831711357884,0.6368683303215449,-0.42585872283196513,-0.9479971881834295,-2.483047376071833,-0.1546419228084133,0.474507252756425,0.9837306323924824,-0.4793640779386524,0.43391698336514534,-1.72659235559798,-0.6048249106026087,-0.49227916365405944,0.688528673183174,-0.12327671464242397,1.548304379380284,0.3711865670331672,0.4505220935706691,-1.8668132862224016,-1.0015025432901166,0.7678641997206753,-0.7468908534720881,-0.363128306499987,1.103656428321264,0.2420357098790948,-1.5347110821119299,1.8619564610401742,1.2143571630247545,-0.5162643228398159,0.1940653915075823,-1.193383816776167,-1.2118339392267488,0.8840999711593407,0.8213695548273626,-0.47198402895841957,0.2032904527328732,-0.40925361262644144,1.1221065507718457,0.5981230731753232,-1.213678951471807,-0.08822148198631902,-0.33360811057905626,0.9449853752462603,0.9800406079023657,2.337969620265184,1.0575311221948094,-0.4793640779386524,-0.36866334323516176,-0.47567405344853625,0.9708155466770748,0.4136218486695055,0.1368700119107789,0.3158361996814219,0.9708155466770748,-0.24873754730638023,-0.7099906085709246,0.9560554487166097,-0.4553789187528959,1.1719218813884162,-0.44799886977266357,-0.9406171392031967,1.0796712691355075,1.0870513181157402,-0.7081455963258665,-0.3944935146659763,-1.320689661685181,0.44867708132561096,-0.7819460861281936,-1.7690276372343183,0.26602086906485134,-0.17862708199416927,0.6331783058314288],\"y\":[-0.058618850397207885,-0.09591619935677599,-1.5544388455125142,-2.7185087367242944,-1.0224608682470966,0.3968014105827801,2.9075019010715946,-1.9097451698115568,0.424283667710883,-0.7260450949368458,-1.8744108392182817,0.9268163694819044,2.0967753157925637,1.5805014854574906,0.34968896979174674,0.24368597801192235,-0.802602811222275,0.771737918544753,-2.5025767164320585,0.879703928690871,1.5059067875383554,-0.18228900747367044,-0.8811235458739971,1.1348963163089678,-1.2501709987370913,0.021864902620807165,-3.3211553751762617,-0.10573129118824126,0.3320218044951097,0.45765497993786464,-0.25099465029392726,1.4018668141248234,-0.6593024704828819,1.6060207242193005,-0.6887477459772777,0.4988783656300192,0.24761201474450822,-1.2913943844292453,0.33005878612881623,1.3626064467989625,0.21031466578494012,1.3174570243742219,0.9601876817088866,-0.40018404613219916,-0.45122252365581844,-0.5984489011277974,-0.43551837672547433,-0.24706861356134083,-0.7358601867683111,-0.6063009745929697,0.24368597801192235,0.11805280256916686,0.3241697310299374,-0.5866707909300392,-0.23921654009616908,-1.0106827580493385,0.5165455309266562,0.4498029064726929,-0.8870126009728765,2.024143636239721,0.08664450870847813,-1.2619491089348494,1.1643415918033637,0.15927618826132087,-1.511252441454067,-0.1076943095545342,-0.5375953317727129,-0.4315923399928879,-0.1921040993051357,-2.3435722287623215,0.13571996786580445,1.0171152143313846,-1.5976252495709613,-0.5238542032086617,-0.2588467237590996,-0.7044518929076223,-1.030312941712269,2.2930771524218687,0.4498029064726929,-0.1862150442062563,0.11020072910399453,-0.9439401335953745,-0.8418631785481361,0.528323641124415,-1.150057062056145,-0.33147840331194234,-1.336543806853985,-1.77037086580475,0.569547026816569,-0.13125052995005118,-0.7594164071638281,0.33987387796028146,0.5891772104794996,0.015975847521927784,0.04345810465003063,-0.5317062766738335,0.3359478412276956,0.19068448212200959,-1.4445098170001032,-0.9498291886942539,1.4921656589743033,0.3928753738501942,-0.09591619935677599,-0.09591619935677599,-0.7908247010245167,0.3123916208321792,-0.7515643336986557,0.4125055575131248,0.944483534778542,-1.067610290671837,1.8003595424823133,0.9150382592841462,-0.33344142167823526,-0.5532994787030575,0.8070722491380282,0.8051092307717354,-1.2756902374989005,-1.0165718131482178,0.2633161616748529,-0.7280081133031387,0.84044356136501,-0.13910260341522293,0.4537289432052788,-1.0008676662178733,-0.616116066424435,-0.19603013603772157,-0.12339845648487885,1.8042855792148993,0.277057290238904,0.732477551218892,1.0583386000235393,0.8757778919582851,1.3370872080371525,-2.671396295933261,-0.7299711316694323,-0.25492068702651316,-0.39036895430073393,-2.153159447231895,-0.10376827282194832,0.05523621484778884,-0.6632285072154683,-0.45907459712099075,-0.35699764207375223,-0.45907459712099075,0.3948383922164872,2.5090091727141046,-0.32166331148047705,-0.427666303260302,1.1211551877449166,0.18479542702313076,-0.26866181559056485,-0.9517922070605469,0.9091492041852668,0.9268163694819044,0.8659628001268198,-1.7154063515485445,-0.427666303260302,-0.27455087068944367,0.4674700717693299,-1.7723338841710432,-0.9380510784964957,-0.5081500562783171,0.8208133777020794,-0.6318202133547796,0.8698888368594058,-0.2117342829680662,0.3948383922164872,1.7846553955519686,0.3261327493962303,0.3909123554839013,0.7835160287425118,-1.6015512863035475,0.008123774056756019,-0.6239681398896073,-2.2002718880229284,-0.3530716053411658,-0.46103761548728367,-0.6651915255817613,-1.9274123351081942,-0.9949786111189943,-0.5572255154356434,0.6382526696368258,1.4254230345203398,-0.551336460336764,0.9719657919066448,0.6853651104278592,0.1749803351916655,-1.1245378232943357,0.21424070251752655,1.170230646902243,-0.1449916585141023,-0.5866707909300392,-0.49048289098167946,0.4812112003333816,-0.40018404613219916,0.6834020920615657,0.6676979451312216,-0.10965732792082715,0.14946109642985558,0.5008413839963122,0.36735613508838433,-0.7947507377571027,1.7277278629294694,-0.37073877063780336,-1.4209535966045865,0.1749803351916655,-1.3345807884876921,-1.3993603945753632,-0.1253614748511718,-1.3149506048247617,-0.40214706449849213,0.9287793878481972,-0.3157742563815977,0.359504061623212,-1.7664448290721637,1.808211615947485,1.0445974714594874,0.9641137184414724,-0.19799315440401452,1.1388223530415538,-0.08806412589160367,-0.6063009745929697,1.568723375259733,0.09842261890623633,2.0771451321296333,1.3743845569967201,1.1074140591808654,0.22601881271528476,1.1545264999718983,-0.4433704501906461,1.1093770775471579,0.9071861858189738,-0.8929016560717553,0.37520820855355663,0.689291147160445,0.32809576776252325,0.7894050838413906,2.2086673626712674,1.2507143999202586,-0.9341250417639093,-1.214836668143816,1.3959777590259441,-0.46692667058616305,-0.02328451980393327,1.0897468938842279,-0.7594164071638281,-0.47674176241762833,-2.296459787971288,-0.4158881930625438,-1.5191045149192393,-0.8870126009728765,-0.7476382969660693,0.08468149034218463,0.6657349267649286,-0.45514856038840484,0.09253356380735694,-2.3769435409893034,0.528323641124415,0.21031466578494012,1.2624925101180162,0.6264745594390676,0.26135314330855935,1.2507143999202586,1.0406714347269017,0.6245115410727742,1.3233460794731013,0.4399878146412276,0.5793621186480342,0.2024625923197678,-1.6133293965013058,0.277057290238904,-0.7790465908267585,-0.18425202583996336,-0.88308656424029,-1.0872404743347677,2.4010431625679867,0.917001277650439,0.3928753738501942,1.4450532181832705,1.3704585202641342,0.7481816981492366,0.8522216715627687,-0.4747787440513354,0.0944965821736499,-2.100157951341983,-1.3679521007146744,0.3634300983557984,-1.7585927556069918,-0.7299711316694323,0.8168873409694936,-0.7751205540941721,-1.7801859576362151,0.9994480490347476,-0.06647092386238021,-1.1618351722539038,-0.01739546470505389,-1.4994743312563086,-0.10965732792082715,2.4854529523185884,1.256603455019137,-0.4747787440513354,1.6236878895159386,-1.179502337550541,-1.7075542780833721,0.3123916208321792,1.4313120896192193,1.6138727976844733,-0.35896066044004515,-0.49244590934797244,0.06701432504554761,-1.5995882679372542,1.980957232181274,2.556121613505139,-0.9105688213683929,1.2821226937809467,0.40857952078053833,-0.24706861356134083,-0.08610110752531074,0.6991062389919104,-1.295320421161831,0.014012829155634843,0.901297130720095,1.248751381553965,0.38698631875131484,-1.5701429924428585,0.3968014105827801,-0.09984223608936188,0.3889493371176078,-0.0036543361410027436,1.0701167102212974,-0.7024888745413294,0.9484095715111278,-1.258023072202263,-1.0577951988403718,-0.7653054622627069,-0.7437122602334834,-0.7064149112739153,-0.8300850683503779,1.0485235081920738,-0.5238542032086617,1.0936729306168145,0.610770412508723,-1.3463588986854504,1.8101746343137786,0.18479542702313076,0.5911402288457924,-1.6839980576878557,-0.3942949910333198,-0.427666303260302,1.708097679266539,0.8639997817605269,0.4851372370659675,-1.0774253825033024,-0.8929016560717553,-1.4621769822967405,0.7108843491896686,0.424283667710883,0.04934715974891001,1.5490931915968025,0.08664450870847813,0.2633161616748529,-0.12928751158375767,2.0967753157925637,0.47728516360079515,-0.9144948581009787,-0.9007537295369276,0.5656209900839826,-0.9635703172583051,-0.6396722868199514,-0.35110858697487285,-0.8457892152807219,2.683717807314187,0.053273196481495894,0.36735613508838433,1.0328193612617294,-3.1052233548840262,1.5844275221900777,-1.0734993457707165,-0.34129349514340757,0.318280675931058,-0.6357462500873655,0.9523356082437142,0.901297130720095,0.10234865563882221,-0.08806412589160367,1.1506004632393125,-1.5799580842743237,2.0300326913386004,0.26135314330855935,-1.2501709987370913,2.1517398300487693,1.252677418286551,-2.0039700513936234,1.119192169378623,-0.2235123931658244,-0.23921654009616908,-0.7810096091930515,-0.06843394222867315,-0.45318554202211137,1.464683401846201,0.944483534778542,-0.0016913177747092446,0.5185085492929498,-0.40018404613219916,0.5754360819154478,2.6424944216220325,-0.3373674584108217,-0.88308656424029,-0.1430286401478094,-0.7005258561750365,0.06701432504554761,-2.7773992877130858,1.9534749750531706,-2.100157951341983,1.0544125632909527,-0.7554903704312416,-0.9419771152290816,-1.3679521007146744,-0.6377092684536584,0.01008679242304896,0.8954080756212156,-0.6789326541458124,1.278196657048361,1.7453950282261077,0.9464465531448348,-0.9066427846358069,0.648067761468291,0.42232064934459,-0.0036543361410027436,-0.8987907111706347,-0.12732449321746472,-1.110796694730284,0.3968014105827801,0.5165455309266562,-0.7790465908267585,0.33987387796028146,-0.5788187174648669,0.5813251370143272,1.7571731384238654,-2.1727896308948256,0.4753221452345022,-0.1253614748511718,-1.4307686884360518,-1.0362019968111484,-1.3031724946270034,-0.037025648367984415,0.19853655558718192,1.2703445835831892,0.3712821718209708,-0.44140743182435316,-1.428805670069759,-1.9450795004048318,1.1152661326460374,0.08860752707477107,-1.9038561147126773,-0.09591619935677599,-1.915634224910436,-1.3542109721506226,-0.7044518929076223,0.732477551218892,-1.3797302109124325,-0.6612654888491754,0.544027788054759,-0.9851635192875291,-0.2294014482647038,-0.22547541153211736,-1.1009816028988189,0.9503725898774213,-1.6467007087282877,0.6991062389919104,-0.37662782573668274,-0.9792744641886497,-0.26277276049168546,-0.009543391239881568,-1.3463588986854504,-0.1489176952466882,1.4941286773405966,-1.8626327290205233,-0.28240294415461603,-0.18817806257254927,-1.3993603945753632,-0.8104548846874473,-0.7162300031053805,-0.2156603197006521,-0.1449916585141023,0.6009553206772578,-0.09984223608936188,0.4537289432052788,-0.9400140968627887,0.32024369429735094,1.9122515893610172,-2.396573724652234,0.22209277598269833,-0.10180525445565539,0.36931915345467725,-0.5984489011277974,-0.11554638301970653,-0.7201560398379669,-0.13713958504893,0.730514532852599,-0.45907459712099075,-0.0036543361410027436,-0.5827447541974533,1.808211615947485,-1.318876641557348,-1.336543806853985,-0.6004119194940903,-0.013469427972468008,0.7933311205739771,0.1612392066276138,-0.2215493747995315,1.5353520630327513,0.7894050838413906,-0.7240820765705529,0.8051092307717354,0.9798178653718171,-1.5976252495709613,-0.08610110752531074,1.3704585202641342,-0.29221803598608126,-0.27455087068944367,-0.7024888745413294,-1.5406977169484626,0.8188503593357864,0.7737009369110466,0.8424065797313034,-0.3785908441029757,1.382236630461893,0.5263606227581215,1.3154940060079285,0.36735613508838433,0.15338713316244149,-1.6172554332338918,0.4439138513738135,0.9778548470055236,-0.18228900747367044,0.12983091276692507,-0.031136593269105034,-0.7594164071638281,0.2868723820703693,0.33005878612881623,-0.32558934821306296,0.01008679242304896,-0.5886338092963321,1.2428623264550858,-0.11554638301970653,-1.621181469966478,0.44783988810639935,0.3614670799895055,0.771737918544753,1.352791354967497,-1.3934713394764837,1.1584525367044842,-1.2285777967078673,0.4026904656816595,0.03953206791744475,2.324485446282558,1.0445974714594874,0.3712821718209708,0.021864902620807165,-0.8654193989436524,-0.5552624970693505,0.8286654511672518,0.7776269736436324,-1.8371134902587138,-1.9117081881778497,1.4921656589743033,0.13964600459839033,-0.7201560398379669,0.045421123016323575,-2.433871073611802,-3.071852042657044,-0.9144948581009787,-1.5014373496226017,-1.3326177701213993,0.22209277598269833,0.3437999146928679,-0.5297432583075405,0.5832881553806202,0.3222067126636445,-1.6643678740249253,0.1612392066276138,0.4929893105311398,-0.7358601867683111,2.0516258933678233,0.4262466860771759,1.3763475753630134,-0.989089556020115,0.6794760553289798,-1.3934713394764837,-0.7397862235008975,-0.15676976871186052,1.2624925101180162,-2.895180389690669,1.435238126351805,0.6971432206256174,-0.3962580093996133,-0.08610110752531074,-0.6867847276109847,-0.4944089277142659,-0.07628601569384547,-0.9360880601302027,-0.32755236657935644,-0.5709666439996945,1.331198152938273,-0.9046797662695135,0.8031462124054424,1.0053371041336265,-0.5061870379120241,0.6991062389919104,-1.279616274231487,0.8875560021560434,2.410858254399452,0.07486639851071937,-0.7810096091930515,-0.29025501761978834,0.04345810465003063,1.7650252118890382,1.0897468938842279,-1.1186487681954564,0.84044356136501,-0.22547541153211736,1.2644555284843098,0.7697749001784602,-3.0993342997851467,-0.8222329948852055,0.18872146375571663,-0.8811235458739971,0.004197737324169579,0.18086939029054433,-1.2207257232426953,0.3614670799895055,-0.07039696059496608,-1.7821489760025084,-0.6671545439480542,-0.7280081133031387,-0.4433704501906461,-1.5701429924428585,1.755210120057573,-1.1539830987887316,1.5962056323878353,-1.662404855658632,0.3261327493962303,-1.4072124680405353,-0.616116066424435,0.381097263652436,-1.1402419702246798,-2.3474982654949077,-1.8508546188227653,-0.08610110752531074,-0.8909386377054623,-1.0833144376021817,0.5538428798862244,2.1360356831184246,-1.318876641557348,0.4439138513738135,0.6578828532997564,-0.20977126460177328,-0.41392517469625034,0.8051092307717354,-1.179502337550541,0.12786789440063212,-1.0872404743347677,-0.88308656424029,0.4360617779086412,0.8227763960683729,-0.7829726275593445,1.6786524037721433,-0.28240294415461603,-1.662404855658632,-0.2568837053928061,2.35785675850954,-0.6789326541458124,0.04345810465003063,0.9366314613133696,-0.26866181559056485,1.2134170509606899,0.4812112003333816,-0.7338971684020181,-0.36877575227151044,1.386162667194479,-1.3581370088832092,0.2829463453377834,0.7697749001784602,-0.9930155927527009,0.4753221452345022,2.0791081504959266,-1.0813514192358882,-1.6722199474900972,-0.25295766866022024,0.9719657919066448,-0.9773114458223567,-1.1539830987887316,0.6618088900323422,-0.9439401335953745,0.027753957719686546,0.6304005961716536,-0.698562837808743,-0.6435983235525378,-0.6494873786514166,-1.110796694730284,2.298966207520748,-0.09591619935677599,0.06308828831296116,-0.6416353051862449,1.7473580465924001,-0.037025648367984415,-2.325905063465684,0.10038563727252928,-0.9419771152290816,0.8581107266616476,-0.11554638301970653,-0.8929016560717553,-0.09199016262419012,1.2251951611584486,1.7826923771856753,0.3045395473670069,-0.5611515521682293,-1.1677242273527826,0.2652791800411458,0.15338713316244149,-0.6946368010761571,0.21424070251752655,0.4026904656816595,0.027753957719686546,-0.33344142167823526,0.21227768415123305,0.8208133777020794,1.2978268407112914,0.5499168431536384,-0.6808956725121059,-0.42177724816142265,-0.41785121142883674,1.1034880224482797,-0.15676976871186052,-2.7832883428119652,-1.3051355129932964,-0.029173574902812093,-0.2333274849972897,-2.1708266125285327,-1.06957330903813,-0.989089556020115,-1.6035143046698404,0.06701432504554761,0.46550705340303694,-0.4433704501906461,0.6441417247357046,0.3477259514254538,0.17105429845907905,-0.9596442805257192,-0.4944089277142659,0.9248533511156114,0.4105425391468318,-0.4944089277142659,0.5165455309266562,0.07290338014442642,0.4066165024142454,0.9248533511156114,0.12983091276692507,0.44587686974010643,-0.30988520128271885,-0.037025648367984415,0.7638858450795813,-0.5886338092963321,-0.9989046478515803,-0.03506263000169148,0.44587686974010643,-0.09395318099048305,-0.6789326541458124,1.421496997787754,0.8561477082953546,0.10038563727252928,-0.4080361195973715,-2.351424302227494,1.1466744265067266,-0.8791605275077041,1.8141006710463645,1.3076419325427566,-0.23921654009616908,0.7128473675559615,0.585251173746913,-1.5230305516518254,0.4439138513738135,0.4674700717693299,-1.214836668143816,-1.1579091355213174,0.19853655558718192,1.0995619857156926,-0.054692813664622,0.4674700717693299,0.45765497993786464,-0.23529050336358262,-0.6121900296918491,0.25546408820968053,-0.9341250417639093,-0.6907107643435711,-1.2109106314112301,-0.5415213685052988,0.13375694949951095,0.0944965821736499,0.32809576776252325,-0.46692667058616305,0.12394185766804568,-0.8948646744380482,-0.41785121142883674,-1.134352915125801,0.84044356136501,-1.3856192660113114,1.7473580465924001,-0.6514503970177101,0.1082377107377016,0.25546408820968053,-0.38447989920185455,-0.6416353051862449,1.3900887039270646,-1.9274123351081942,-0.11750940138599947,-0.21762333806694503,0.754070753248116,-0.8516782703796013,-0.09199016262419012,-1.0244238866133901,-0.6887477459772777,0.8188503593357864,0.3261327493962303,0.5597319349851038,0.7678118818121672,0.4537289432052788,-2.8343268203355847,0.15731316989502792,-0.6769696357795195,0.6853651104278592,-1.3816932292787256,0.25939012494226643,0.2652791800411458,0.6382526696368258,1.1290072612100885,0.4007274473153666,0.09253356380735694,-0.09984223608936188,0.09842261890623633,-0.3962580093996133,0.799220175672856,0.9680397551740584,-0.6220051215233143,0.6951802022593244,0.5263606227581215,0.24957503311080118,0.4812112003333816,0.03756904955115181,-0.6298571949884861,0.7815530103762184,-0.3373674584108217,0.07486639851071937,1.1211551877449166,0.5832881553806202,-0.6200421031570208,1.0740427469538834,0.15927618826132087,-0.09591619935677599,0.5832881553806202,1.0563755816572458,0.60880739414243,-0.20584522786918683,0.26724219840743874,0.60880739414243,-1.3954343578427766,-0.5984489011277974,-0.31184821964901177,-0.30203312781754654,0.9307424062144908,0.7913681022076836,-0.7476382969660693,0.25546408820968053,-0.7123039663727947,1.0779687836864698,1.7983965241160198,1.252677418286551,0.33791085959398853,0.012049810789341902,0.8561477082953546,1.521610934468699,1.2212691244258629,-0.9105688213683929,0.2692052167737317,-1.4955482945237226,0.6539568165671699,-0.011506409606174509,-1.2482079803707977,-0.24314257682875495,0.7913681022076836,0.21816673925011243,0.6402156880031188,1.3194200427405154,-0.7594164071638281,0.6775130369626868,0.39876442894907305,2.51882426454557,-0.49637194608055885,-1.2285777967078673,-0.9282359866650305,1.2212691244258629,-0.28240294415461603,0.09057054544106401,-0.7672684806289998,1.0445974714594874,-0.47870478078392126,-0.6926737827098641,-2.3847956144544753,0.2829463453377834,1.460757365113615,0.19853655558718192,-0.5002979828131447,-0.054692813664622,0.4046534840479524,0.5381387329558802,-0.31773727474789115,0.6029183390435506,-1.0440540702763206,0.8698888368594058,0.5577689166188108,-1.46806603739562,0.27116823514002464,0.32024369429735094,1.339050226403446,0.019901884254514224,-2.1629745390633603,-0.16658486054332577,0.1867584453894237,-0.7338971684020181,1.2134170509606899,0.017938865888221283,0.318280675931058,0.4380247962749341,0.7874420654750978,0.07486639851071937,-1.5014373496226017,0.6284375778053606,-2.618394800043349,0.730514532852599,0.463544035036744,-0.41392517469625034,-0.10965732792082715,1.2153800693269834,-0.7476382969660693,0.5008413839963122,-0.23921654009616908,-2.5398740653916265,1.4116819059562886,-1.5171414965529462,1.7434320098598142,1.1721936652685365,-0.7535273520649487,0.3968014105827801,-0.9282359866650305,-1.1009816028988189,-0.8713084540425318,0.5263606227581215,-1.4248796333371727,-0.08021205242643135,1.3370872080371525,-0.7751205540941721,-0.1626588238107399,0.5381387329558802,0.36931915345467725,-0.05665583203091494,0.08468149034218463,-2.0039700513936234,0.4713961085019163,1.3626064467989625,0.6323636145379464,0.22994484944787064,-0.15676976871186052,0.6441417247357046,0.08075545360959875,1.8926214056980866,-0.1921040993051357,-0.3354044400445282,-1.150057062056145,0.3163176575647651,0.4144685758794177,-0.802602811222275,-0.10180525445565539,-0.5690036256334016,1.7493210649586937,-0.07432299732755253,1.439164163084391,0.8541846899290616,0.6735870002301004,0.3771712269198496,0.6951802022593244,0.838480542998717,0.16712826172649317,-0.2706248339568578,-0.22743842989841032,-1.0636842539392513,-0.5670406072671087,-0.5709666439996945,-0.7476382969660693,1.6649112752080921,0.4066165024142454,-0.26669879722427137,-0.9635703172583051,-1.6368856168968224,2.5855668889995345,0.691254165526738,-1.5583648822451002,0.18479542702313076,-0.19603013603772157,-0.8575673254784807,1.2546404366528445,0.13964600459839033,0.3025765290007139,0.730514532852599,-1.546586772047342,0.3889493371176078,0.12590487603433917,-0.7260450949368458,-1.2383928885393325,1.9848832689138598,-0.36092367880633813,-0.8575673254784807,-2.320016008366805,0.012049810789341902,0.6225485227064812,-0.1332135483163441,-1.3267287150225198,-0.9478661703279609,-0.7319341500357252,-0.6671545439480542,-1.2069845946786437,0.46550705340303694,-0.47870478078392126,1.3096049509090502,1.8867323505992073,-0.6769696357795195,2.020217599507135,-0.26473577885797844,1.2094910142281041,-1.0342389784448554,1.916177626093603,0.041495086283737694,1.5137588610035273,-0.7319341500357252,0.38698631875131484,-0.6377092684536584,-0.6337832317210725,1.4568313283810292,-0.48066779915021424,-0.386442917568148,2.0692930586644613,0.4203576309782971,0.14749807806356266,-0.7908247010245167,-1.1186487681954564,-0.005617354507295684,0.5558058982525172,-0.5238542032086617,0.862036763394234,-0.5532994787030575,-0.07039696059496608,0.21227768415123305,-1.322802678289934,0.6873281287941522,-0.2863289808872019,-0.18817806257254927,-1.9411534636722456,-1.279616274231487,-0.6435983235525378,0.21816673925011243,0.11412676583658042,-0.39036895430073393,-0.6769696357795195,1.5274999895675783,-0.5572255154356434,0.38698631875131484,0.2809833269714899,-1.2462449620045049,-1.1932434661145925,0.918964296016732,0.7049952940907898,-0.4571115787546978,-1.3973973762090701,-1.7212954066474235,-1.6251075066990641,-0.05665583203091494,0.5165455309266562,-0.6416353051862449,-0.47870478078392126,-0.9007537295369276,-0.7103409480065017,-0.07235997896125959,-0.5984489011277974,0.9680397551740584,-0.9655333356245985,0.09253356380735694,-0.07432299732755253,0.1749803351916655,-1.6447376903619948,2.393191089102815,1.2153800693269834,-1.5721060108091518,1.8710282036688626,-1.1127597130965776,-0.6514503970177101,-0.9164578764672723,-0.031136593269105034,-0.5356323134064199,1.5706863936260254,-1.2855053293303658,0.08860752707477107,0.5989923023109648,-0.3962580093996133,0.14946109642985558,0.6971432206256174,0.19657353722088897,0.6735870002301004,1.8356938730755874,-0.6377092684536584,1.1054510408145721,0.6362896512705329,0.24957503311080118,-0.533669295040127,-0.7574533887975345,-0.16462184217703285,-1.1677242273527826,0.9464465531448348,0.012049810789341902,-0.6259311582559002,1.837656891441881,-0.03898866673427736,-0.6357462500873655,-1.6643678740249253,1.4313120896192193,0.023827920987100105,-1.1579091355213174,-0.7731575357278792,0.6971432206256174,2.3912280707365214,0.2888354004366622,-1.2030585579460578,-0.48263081751650716,0.7874420654750978,-0.5081500562783171,-1.8567436739216443,0.714810385922255,0.29668747390183453,-0.7417492418671905,-1.2128736497775232,0.9287793878481972,0.6146964492413088,-0.8320480867166707,-1.214836668143816,-0.8654193989436524,-0.34718255024228695,-0.7986767744896891,0.7442556614166508,-1.511252441454067,-0.5552624970693505,-0.5022610011794377,1.378310593729307,-0.32166331148047705,1.5235739528349925,-0.6239681398896073,0.4046534840479524,-0.6514503970177101,0.9621507000751796,0.5499168431536384,1.4195339794214605,0.8051092307717354,-1.0852774559684746,-1.150057062056145,-0.885049582606583,-0.27455087068944367,0.36735613508838433,0.20049957395347484,-0.09199016262419012,0.004197737324169579,0.17694335355795843,-0.6082639929592627,-0.7888616826582239,-1.6761459842226833,-0.18817806257254927,-1.5858471393732032,1.1427483897741406,0.983743902104403,0.26135314330855935,-1.81552028822949,0.8325914878998382,0.16320222499390674,-1.0224608682470966,1.4902026406080109,-1.7487776637755263,0.3163176575647651,-0.8104548846874473,0.6951802022593244,-0.5847077725637463,1.0995619857156926,1.174156683634829,1.3802736120955994,1.9279557362913617,0.131793931133218,0.8914820388886298,-1.2992464578944176,0.20835164741864717,1.1329332979426754,-0.6278941766221932,1.148637444873019,-0.6396722868199514,0.9052231674526808,0.15535015152873496,-0.5847077725637463,-1.5132154598203602,-0.5061870379120241,0.4812112003333816,1.195749885664053,0.6343266329042394,0.714810385922255,-0.8732714724088247,1.4293490712529258,-2.192419814557756,0.9739288102729378,0.3850233003850219,0.10038563727252928,-0.8497152520133083,-0.6357462500873655,1.6786524037721433,-0.8084918663211543,-0.6102270113255556,-1.1853913926494202,0.4340987595423482,0.8051092307717354,0.5243976043918286,0.22012975761640538,0.12786789440063212,1.1545264999718983,1.2251951611584486,-1.2678381640337282,0.14749807806356266,0.9209273143830256,-0.6435983235525378,-0.013469427972468008,0.544027788054759,1.2094910142281041,0.5989923023109648,-1.44254679863381,-0.08021205242643135,0.797257157306563,0.45961799830415817,0.7442556614166508,-0.7221190582042599,0.3241697310299374,0.3143546391984721,-1.1461310253235593,-0.17639995237479106,-0.6887477459772777,0.877740910324578,-1.2069845946786437,-0.9400140968627887,-0.47870478078392126,0.07682941687701286,-0.058618850397207885,-0.6534134153840031,1.3174570243742219,0.22994484944787064,1.4744984936776662,0.44783988810639935,1.0288933245291434,-0.30203312781754654,-2.4044257981174058,-1.848891600456472,-0.48066779915021424,-0.49637194608055885,0.19461051885459602,-0.8006397928559821,-0.6435983235525378,1.0347823796280222,-0.6534134153840031,-1.1402419702246798,1.9888093056464458,1.2624925101180162,1.378310593729307,1.3999037957585299,1.4018668141248234,1.199675922396639,-0.9969416294852873,0.4713961085019163,1.0269303061628499,0.36735613508838433,-1.5014373496226017,1.021041251063971,0.5989923023109648,-0.08217507079272485,-0.6867847276109847,-0.5002979828131447,0.5145825125603632,0.004197737324169579,0.6186224859738954,-0.4983349644468518,1.6177988344170593,-1.2855053293303658,-1.2442819436382118,-2.1943828329240493,1.091709912250521,0.21227768415123305,-0.9459031519616681,-2.653729130636624,0.7246254777537202,-0.924309949932444,0.5872141921132066,0.33398482286140263,-1.1952064844808856,-1.7114803148159583,-0.03309961163539853,-1.336543806853985,-0.005617354507295684,-0.19014108093884274,0.047384141382617075,-1.4445098170001032,-0.9321620233976163,-0.05272979529832906,0.07486639851071937,-2.1570854839644813,1.464683401846201,-0.802602811222275,0.17105429845907905,0.27116823514002464,-1.7095172964496654,-0.8909386377054623,-0.23529050336358262,-0.7417492418671905,-1.4602139639304477,0.0022347189578766375,-0.4865568542490936,0.09645960053994339,1.119192169378623,0.047384141382617075,0.22012975761640538,0.836517524632424,1.3429762631360318,-0.36092367880633813,0.4890632737985539,0.12983091276692507,0.07290338014442642,-1.5779950659080308,1.3233460794731013,-2.967812069243512,0.9660767368077654,0.8149243226032006,-0.01935848307134683,-0.23725352172987557,0.8993341123538015,-0.31970029311418413,0.24564899637821527,0.771737918544753,-1.0067567213167525,-0.0841380891590178,-0.427666303260302,-1.134352915125801,1.0838578387853486,0.5891772104794996,0.5479538247873456,-1.25606005383597,-0.6514503970177101,-0.2882919992534954,0.20638862905235422,0.3222067126636445,-1.0185348315145109,1.2939008039787054,-0.8399001601818431,1.1329332979426754,1.9515119566868782,-1.3797302109124325,-0.12928751158375767,-0.11358336465341358,-0.7594164071638281,-0.2706248339568578,-0.7594164071638281,0.09253356380735694,0.08271847197589169,-1.2639121273011424,0.6441417247357046,0.19068448212200959,-0.29614407271866716,-0.2117342829680662,-0.12928751158375767,-0.2038822095028939,-0.5572255154356434,-1.026386904979683,1.174156683634829,-0.5434843868715923,0.9111122225515602,0.5872141921132066,-0.43551837672547433,-0.34325651350970054,-1.9804138309981065,-0.1332135483163441,-0.1253614748511718,1.564797338527147,0.8954080756212156,1.5294630079338718,0.17105429845907905,1.751284083324987,0.18086939029054433,-0.48066779915021424,-0.07235997896125959,1.2369732713562063,-0.1489176952466882,-0.6455613419188307,1.503943769172062,-0.1332135483163441,-0.3962580093996133,-0.6200421031570208,0.17694335355795843,-1.5642539373439794,0.2633161616748529,0.689291147160445,0.2652791800411458,-1.428805670069759,-0.42374026652771557,0.8247394144346658,1.3096049509090502,0.42820970444346884,1.3626064467989625,-1.4268426517034656,0.16712826172649317,0.7265884961200132,1.062264636756125,0.5989923023109648,-0.6239681398896073,-0.4315923399928879,2.238112638165663,-1.6820350393215626,0.7874420654750978,1.8631761302036909,-1.2030585579460578,-1.2678381640337282,-0.4747787440513354,-0.0036543361410027436,1.973105158716101,-2.0805277676790523,-0.2117342829680662,-0.36877575227151044,-0.46692667058616305,-0.9262729682987375,1.2840857121472402,0.23779692291304297,-0.2117342829680662,2.322522427916265,0.6814390736952728,0.6225485227064812,0.7422926430503572,-0.8536412887458943,-1.7095172964496654,-0.2333274849972897,1.4587943467473214,-0.6769696357795195,-0.12928751158375767,0.3123916208321792,-0.3000701094512536,0.6382526696368258,0.2319078678141636,0.8090352675043212,-0.4649636522198701,-1.4405837802675172,-1.4523618904652753,-0.7437122602334834,0.3104286024658857,1.4882396222417174,-0.8399001601818431,-0.7751205540941721,-0.39233197266702685,0.1082377107377016,-1.843002545357593,0.7737009369110466,1.009263140866213,-0.1449916585141023,-0.4257032848940091,0.4792481819670887,0.4753221452345022,0.4105425391468318,1.7277278629294694,0.11412676583658042,0.6794760553289798,-1.2501709987370913,0.3437999146928679,-1.5348086618495835,-0.5964858827615045,-0.6416353051862449,0.47728516360079515,-0.7260450949368458,-1.1166857498291634,-1.201095539579765,-0.40411008286478506,0.9052231674526808,-1.507326404721481,-0.35699764207375223,-0.9007537295369276,1.9259927179250682,1.305678914176463,0.8463326164638894,0.9935589939358682,0.07290338014442642,-0.6259311582559002,-0.058618850397207885,0.506730439095191,0.21816673925011243,-0.6867847276109847,-2.180641704359998,-0.21762333806694503,0.19657353722088897,-1.014608794781925,1.2330472346236205,-0.1430286401478094,-1.5014373496226017,0.11020072910399453,0.8325914878998382,1.651170146644041,1.2919377856124121,2.328411483015144,-0.45907459712099075,1.013189177598799,0.22012975761640538,0.5891772104794996,-0.31184821964901177,1.8062485975811917,0.42820970444346884,-0.364849715538924,-1.509289423087774,-0.38447989920185455,-1.58388412100691,-1.2246517599752813,0.6991062389919104,-1.5583648822451002,0.3968014105827801,-1.097055566166233,0.506730439095191,-0.5788187174648669,1.6649112752080921,-0.2588467237590996,-0.4198142297951297,-1.4248796333371727,0.9523356082437142,0.16909128009278612,-0.8045658295885679,-1.1245378232943357,-1.297283439528124,-0.22743842989841032,0.2319078678141636,0.4537289432052788,0.3143546391984721,0.9876699388369888,0.09057054544106401,-1.7821489760025084,-0.15284373197927464,-0.9360880601302027,-1.5681799740765656,-0.03506263000169148,-0.013469427972468008,-1.1049076396314053,0.4812112003333816,-0.5768556990985739,-0.09199016262419012,0.21816673925011243,0.1867584453894237,-0.44729648692323254,0.21816673925011243,-0.7044518929076223,-0.7594164071638281,-2.5752083959849017,-0.37270178900409634,-0.6475243602851237,0.650030779834584,-1.0342389784448554,0.059162251580375275,-0.31970029311418413,0.714810385922255,0.0650513066792541,1.036745397994315,0.4262466860771759,-0.18425202583996336,-0.5258172215749547,0.5538428798862244,1.2114540325943977,-0.8124179030537403,0.17890637192425138,-1.0852774559684746,0.09253356380735694,0.944483534778542,1.0190782326976782,-0.29221803598608126,2.224371509601612,0.1082377107377016,0.23779692291304297,-0.5984489011277974,-0.29221803598608126,-0.6494873786514166,-0.8889756193391694,-1.44254679863381,0.714810385922255,-0.17836297074108398,-1.6584788189260458,-0.44140743182435316,0.7383666063177714,0.3653931167220914,-0.8006397928559821,0.7010692573582032,1.5000177324394761,0.041495086283737694,-0.9753484274560639,0.6284375778053606,-0.8065288479548609,-0.5218911848423682,2.0300326913386004,0.6559198349334634,0.8208133777020794,-0.08217507079272485,0.8639997817605269,0.9091492041852668,-2.6380249837062792,-0.26277276049168546,0.25546408820968053,1.0328193612617294,0.0944965821736499,1.2840857121472402,-1.6192184516001848,0.9700027735403518,0.7403296246840644,-0.69659981944245,-1.0499431253751994,2.206704344304975,2.6562355501860835,-0.24314257682875495,1.1839717754662942,-0.20780824623547978,0.8698888368594058,-0.9184208948335651,1.5883535589226634,-1.2266147783415742,-0.9910525743864079,0.20049957395347484,-1.7173693699148374,1.2291211978910346,0.8561477082953546,0.3771712269198496,0.5008413839963122,-0.06647092386238021,0.33398482286140263,-0.01935848307134683,-2.0569715472835357,0.6146964492413088,-0.8457892152807219,1.4254230345203398,0.7501447165155296,-1.0401280335437342,-0.029173574902812093,-0.7868986642919303,-0.6200421031570208,0.01008679242304896,-0.8987907111706347,-0.9360880601302027,-0.1253614748511718,0.585251173746913,-0.7044518929076223,0.6539568165671699,-1.360100027249502,-0.34129349514340757,0.650030779834584,1.2821226937809467,1.0073001224999194,0.2515380514770941,1.3488653182349113,-2.351424302227494,-0.5002979828131447,-0.10965732792082715,-0.885049582606583,-1.1265008416606286,1.8298048179767092,-0.03898866673427736,-0.46692667058616305,1.7179127710980042,-0.924309949932444,1.6649112752080921,1.486276603875425,-0.037025648367984415,-1.0420910519100273,1.1074140591808654,-0.26866181559056485,-0.9282359866650305,0.7030322757244962,-0.08021205242643135,-0.058618850397207885,0.7246254777537202,0.03756904955115181,0.18086939029054433,0.9287793878481972,-0.1332135483163441,0.1435720413309762,0.8306284695335446,2.2557798034623016,0.5616949533513966,-0.6239681398896073,-0.3059591645501324,-0.9262729682987375,-1.0028306845841661,-0.8713084540425318,-2.14334435540043,0.48317421869967453,0.5911402288457924,0.22209277598269833,0.9111122225515602,0.650030779834584,-0.4649636522198701,-0.9282359866650305,-0.40214706449849213,-1.071536327404423,-0.5866707909300392,-1.177539319184248,0.8738148735919922,-0.7554903704312416,1.3331611713045666,-0.9832005009212356,-0.5631145705345227,1.708097679266539,-0.8614933622110665,1.833730854709295,0.12786789440063212,-0.9301990050313234,1.6943565507024878,1.2389362897224998,-1.3581370088832092,-0.3530716053411658,0.9876699388369888,1.305678914176463,-1.1480940436898521,-0.8752344907751177,0.019901884254514224,-0.8713084540425318,0.504767420728898,0.8129613042369076,1.1152661326460374,1.386162667194479,-0.4158881930625438,-0.007580372873588626,0.2279818310815777,-0.7299711316694323,-1.2619491089348494,-1.1186487681954564,0.650030779834584,-0.31773727474789115,0.20835164741864717,0.0944965821736499,-0.7770835724604651,0.17890637192425138,-1.0793884008695953,0.5499168431536384,-0.8634563805773595,0.3968014105827801,-0.42962932162659495,0.6618088900323422,-0.9910525743864079,1.0269303061628499,0.47728516360079515,-0.6396722868199514,0.16320222499390674,-0.36877575227151044,1.036745397994315,1.6649112752080921,1.3292351345719806,-0.5984489011277974,0.4556919615715717,1.235010252989914,2.3343005381140234,-0.15873278707815347,3.0193939479502983,0.4026904656816595,0.15338713316244149,-0.7162300031053805,-0.9871265376538221,0.6814390736952728,-0.6926737827098641,-0.19799315440401452,1.2585664733854305,-2.066786639115001,-0.4433704501906461,0.5754360819154478,-0.24903163192763433,0.8424065797313034,-1.1049076396314053,0.5145825125603632,0.051310178115202956,0.612733430875016,0.24761201474450822,-0.616116066424435,-0.07628601569384547,-1.1677242273527826,0.7933311205739771,0.20835164741864717,0.3555780248906261,0.5145825125603632,-0.11162034628712064,0.2240557943489918,0.00616075569046252,-1.218762704876402,-0.51011307464461,0.918964296016732,-0.43551837672547433,-0.6082639929592627,0.7638858450795813,-0.9478661703279609,-1.138278951858387,0.06701432504554761,-0.09199016262419012,-1.1657612089864897,0.7010692573582032,-0.3962580093996133,0.20049957395347484,0.012049810789341902,0.11412676583658042,-1.3915083211101908,-0.5729296623659881,1.8749542404014485,1.2114540325943977,-1.2069845946786437,-0.07235997896125959,0.5813251370143272,-0.36092367880633813,-1.6035143046698404,2.2027783075723892,-0.13517656668263706,0.8090352675043212,-1.0322759600785618,-0.27455087068944367,0.7128473675559615,-0.05665583203091494,0.2947244555355416,0.7521077348818226,-0.8300850683503779,1.0740427469538834,-0.07235997896125959,-0.655376433750296,1.144711408140433,-0.3059591645501324,0.3065025657332998,0.3634300983557984,-0.33933047677711464,0.5754360819154478,0.4046534840479524,0.2652791800411458,-0.29418105435237424,-0.9694593723571845,-0.26669879722427137,0.33398482286140263,-1.509289423087774,0.16909128009278612,-1.2226887416089884,0.6578828532997564,-1.509289423087774,-0.6750066174132265,0.23779692291304297,-0.6632285072154683,1.4627203834799074,2.289151115689283,-0.6494873786514166,-0.07039696059496608,-0.51011307464461,-0.9930155927527009,2.440303529893848,1.4509422732821498,0.13964600459839033,-0.5317062766738335,-2.0373413636206053,-1.108833676363991,-1.2855053293303658,0.7364035879514784,-0.04487772183315674,-0.5493734419704711,-1.4857332026922572,1.199675922396639,1.0818948204190557,-0.29418105435237424,-0.43944441345806023,-1.2639121273011424,0.24368597801192235,-2.184567741092584,-1.4327317068023449,-0.8654193989436524,-0.7633424438964139,-1.1952064844808856,-1.2246517599752813,-1.132389896759508,1.6629482568417997,0.4615810166704511,-0.009543391239881568,1.1034880224482797,-0.924309949932444,1.0524495449246598,0.22209277598269833,-0.9596442805257192,0.18872146375571663,0.3163176575647651,0.4851372370659675,-0.09787921772306894,-0.7456752785997763,0.03953206791744475,1.3743845569967201,-0.5690036256334016,-1.0401280335437342,1.2173430876932758,-0.9164578764672723,1.6276139262485245,-0.26277276049168546,-0.29418105435237424,1.2683815652168957,2.2184824545027326,2.4422665482601413,-0.9871265376538221,-1.320839659923641,-0.02328451980393327,0.6775130369626868,0.9641137184414724,1.0406714347269017,0.24368597801192235,0.2279818310815777,-0.6023749378603839,-0.5827447541974533,0.8502586531964752,0.2829463453377834,0.9130752409178532,-1.434694725168638,-1.9058191330789707,1.812137652680071,1.0936729306168145,0.46550705340303694,0.22209277598269833,-1.6584788189260458,0.60880739414243,-0.41392517469625034,-1.362063045615795,0.9876699388369888,0.16320222499390674,-1.3385068252202785,0.07094036177813348,0.21227768415123305,-0.9439401335953745,1.759136156790159,-0.9321620233976163,-1.8960040412475054,-1.132389896759508,0.25939012494226643,1.066190673488711,-0.11750940138599947,-0.7005258561750365,-0.09984223608936188,-0.26277276049168546,0.2927614371692487,0.0022347189578766375,0.4694330901356234,-1.0597582172066649,0.3241697310299374,-0.5297432583075405,-0.8713084540425318,-1.1206117865617493,0.019901884254514224,0.2750942718726111,-1.2619491089348494,0.2888354004366622,-0.09002714425789661,0.26135314330855935,0.131793931133218,0.17694335355795843,-1.110796694730284,-0.37073877063780336,0.3261327493962303,-0.47674176241762833,-1.4562879271978615,-0.06058186876350083,-0.23136446663099675,1.1839717754662942,-1.2344668518067465,0.9307424062144908,0.8129613042369076,2.063404003565582,-0.7790465908267585,-1.848891600456472,1.0975989673494002,1.166304610169657,0.2947244555355416,-1.5662169557102725,1.0033740857673334,-0.41392517469625034,-0.25295766866022024,-0.5415213685052988,-1.923486298375608,1.5117958426372338,0.7265884961200132,-0.7653054622627069,-1.324765696656227,-1.097055566166233,-0.15284373197927464,-1.1461310253235593,-0.8909386377054623,0.942520516412249,-0.9282359866650305,-0.1508807136129817,0.13964600459839033,-0.24706861356134083,1.3488653182349113,-1.1480940436898521,-1.2658751456674353,-0.26473577885797844,-1.9882659044632789,-0.30988520128271885,0.4262466860771759,-0.25295766866022024,0.9778548470055236,0.9523356082437142,1.2840857121472402,-0.7103409480065017,1.0328193612617294,-0.36877575227151044,1.464683401846201,0.5381387329558802,0.08860752707477107,0.6304005961716536,-1.1029446212651122,1.0053371041336265,-3.9336171054596942,2.084997205594806,0.16516524336020025,0.11805280256916686,-2.1669005757959465,1.1074140591808654,0.8031462124054424,1.1623785734370713,0.2986504922681275,-0.20977126460177328,-0.6063009745929697,-0.013469427972468008,0.18479542702313076,-0.49637194608055885,-0.7574533887975345,0.6146964492413088,-1.3483219170517438,0.359504061623212,-1.0126457764156314,0.2829463453377834,-0.6514503970177101,0.4733591268682093,-0.6514503970177101,1.5844275221900777,-0.9635703172583051,-0.4944089277142659,-1.2325038334404537,-0.5925598460289185,-0.17247391564220516,0.3025765290007139,1.0269303061628499,0.4851372370659675,-1.4307686884360518,-0.25295766866022024,-0.9419771152290816,1.0583386000235393,-1.0499431253751994,1.0485235081920738,1.733616918028349,-0.2117342829680662,-0.29221803598608126,-1.1166857498291634,1.3645694651652547,0.6618088900323422,-1.1814653559168344,0.30846558409959274,-1.6800720209552695,-0.015432446338760949,-2.363202412425252,-0.16069580544444695,1.6766893854058509,0.6284375778053606,0.14160902296468328,-0.6475243602851237,-1.9450795004048318,0.9700027735403518,-0.5807817358311598,0.18283240865683725,0.8325914878998382,-1.1559461171550245,-0.06450790549608727,-0.015432446338760949,-0.8968276928043417,0.4851372370659675,1.1388223530415538,-0.8497152520133083,0.15142411479614853,0.7030322757244962,0.047384141382617075,-0.13713958504893,0.6402156880031188,-0.058618850397207885,1.2507143999202586,0.3653931167220914,-0.6514503970177101,-0.2156603197006521,-0.26277276049168546,-0.39036895430073393,-1.6447376903619948,1.331198152938273,-0.5277802399412476,0.44587686974010643,-0.7829726275593445,-1.3954343578427766,-0.9184208948335651,0.07094036177813348,2.766164578698495,-1.2894313660629522,2.2361496197993707,-1.8115942514969041,0.7206994410211338,1.0544125632909527,-1.1402419702246798,1.1093770775471579,0.4439138513738135,-0.9341250417639093,1.629576944614817,-0.48066779915021424,-0.5964858827615045,0.5420647696884662,-1.0362019968111484,-0.8163439397863261,0.9542986266100072,-0.6808956725121059,-0.17639995237479106,-0.16658486054332577,0.14749807806356266,-0.19603013603772157,0.22601881271528476,0.5224345860255356,-0.37662782573668274,-0.5317062766738335,-0.0409516851005703,-0.3530716053411658,-0.14695467688039526,0.7913681022076836,-0.8889756193391694,-0.02328451980393327,0.019901884254514224,-0.1253614748511718,-0.7849356459256374,1.0975989673494002,-1.218762704876402,0.0650513066792541,0.012049810789341902,-0.36092367880633813,0.5832881553806202,-0.2882919992534954,-1.776259920903629,-0.8693454356762389,2.3657088319747115,-1.6898871127867348,-0.6435983235525378,-0.4944089277142659,0.7697749001784602,0.24957503311080118,-0.36877575227151044,-0.26080974212539254,0.14160902296468328,1.7768033220867958,0.2692052167737317,-0.8673824173099459,0.07094036177813348,0.06701432504554761,-0.2882919992534954,0.5832881553806202,1.712023715999126,1.4293490712529258,-0.5356323134064199,-1.25606005383597,1.0171152143313846,-1.0224608682470966,0.8718518552256992,-0.32166331148047705,-1.3993603945753632,0.0650513066792541,-1.0597582172066649,-0.42177724816142265,-1.8999300779800916,-0.14695467688039526,0.5616949533513966,-0.8202699765189125,-0.8968276928043417,-0.8791605275077041,-0.44729648692323254,0.4537289432052788,-0.427666303260302,-0.48066779915021424,0.530286659490708,-2.2297171635173245,0.04934715974891001,1.6786524037721433,0.4615810166704511,1.4843135855091314,-1.2933574027955381,-1.542660735314756,0.29668747390183453,-0.1076943095545342,-0.7633424438964139,0.46550705340303694,0.5813251370143272,0.25939012494226643,2.5993080175635854,1.0445974714594874,-0.5631145705345227,-0.11358336465341358,-0.7123039663727947,0.3241697310299374,0.5538428798862244,0.6853651104278592,1.5706863936260254,0.7128473675559615,-1.5367716802158768,0.318280675931058,0.799220175672856,1.5549822466956817,-0.7711945173615863,0.4890632737985539,1.625650907882231,-0.9184208948335651,-0.04487772183315674,0.4144685758794177,0.32024369429735094,-0.5591885338019363,1.2173430876932758,-0.0016913177747092446,0.13375694949951095,0.8738148735919922,0.9641137184414724,0.14946109642985558,0.7521077348818226,-0.6475243602851237,0.3359478412276956,-1.067610290671837,-1.4503988720989824,0.4301727228097624,-0.35110858697487285,0.059162251580375275,0.42820970444346884,1.6825784405047302,-1.6820350393215626,0.2927614371692487,0.1612392066276138,-0.5964858827615045,0.09253356380735694,-0.6789326541458124,0.7638858450795813,-1.0047937029504597,0.5479538247873456,0.2044256106860613,0.754070753248116,0.6598458716660492,-0.6808956725121059,0.4969153472637257,-2.1276402084700856,1.6276139262485245,-1.0990185845325258,-1.1127597130965776,0.6539568165671699,-1.6859610760541488,0.36735613508838433,-0.2333274849972897,1.9652530852509293,0.1867584453894237,-1.6388486352631153,1.6570592017429202,-0.20977126460177328,0.29668747390183453,-0.9223469315661511,1.7355799363946425,1.2860487305135326,2.9683554704266797,-1.2383928885393325,0.2888354004366622,-0.7437122602334834,-0.7417492418671905,-0.19995617277030803,0.9052231674526808,0.8973710939875086,-0.8477522336470155,-0.7064149112739153,0.5008413839963122,0.2535010698433876,-0.2235123931658244,-0.32951538494564936,0.03560603118485831,-1.360100027249502,-0.6043379562266767,0.2829463453377834,-0.8281220499840849,0.06112526994666822,0.3536150065243332,0.12394185766804568,-0.8399001601818431,1.1054510408145721,-0.25492068702651316,-0.6023749378603839,0.21816673925011243,-0.42177724816142265,0.569547026816569,0.569547026816569,-2.2866446961398226,-0.8791605275077041,1.4234600161540463,0.6696609634975146,2.214556417770147,-1.5603279006113933,0.03953206791744475,1.5235739528349925,0.5813251370143272,0.3163176575647651,0.40857952078053833,-0.11358336465341358,-1.2599860905685565,0.6166594676076024,-0.5179651481097823,0.20638862905235422,-0.48459383588280064,0.3732451901872637,-0.009543391239881568,0.173017316825372,1.2978268407112914,-0.22743842989841032,-0.40607310123107854,-1.9077821514452635,0.48317421869967453,-0.40018404613219916,0.08075545360959875,1.1348963163089678,-0.027210556536519152,-0.16069580544444695,-0.27847690742203013,0.8227763960683729,-0.5022610011794377,-1.3777671925461397,-0.29221803598608126,-0.07039696059496608,-0.054692813664622,1.1152661326460374,0.047384141382617075,1.3900887039270646,0.8816669470571645,1.4450532181832705,-0.39036895430073393,0.5499168431536384,-1.8115942514969041,-0.6612654888491754,0.6814390736952728,-0.25492068702651316,0.41643159424571063,1.021041251063971,1.5373150813990437,-0.19799315440401452,-0.8202699765189125,-0.5631145705345227,-1.3149506048247617,-2.628209891874814,-0.18817806257254927,-0.8320480867166707,0.3163176575647651,0.836517524632424,0.00616075569046252,0.7187364226548408,1.3940147406596506,0.3653931167220914,0.14160902296468328,-1.919560261643022,0.48710025543226043,-1.6035143046698404,1.199675922396639,-0.9773114458223567,1.4548683100147357,1.7768033220867958,-1.0499431253751994,-1.0617212355729577,-0.06058186876350083,-0.5277802399412476,0.5401017513221732,-1.4248796333371727,-0.7574533887975345,-0.9498291886942539,-1.5995882679372542,0.6264745594390676,0.4144685758794177,0.47728516360079515,-1.3934713394764837,-0.20780824623547978,-0.8241960132514985,0.8090352675043212,0.6461047431019982,0.2750942718726111,0.16712826172649317,-0.06058186876350083,-0.2333274849972897,1.339050226403446,-0.4315923399928879,1.4372011447180986,-0.9027167479032205,0.051310178115202956,-0.2038822095028939,0.27116823514002464,-0.48263081751650716,-0.037025648367984415,-1.2325038334404537,0.38698631875131484,1.1898608305651734,-0.06254488712979432,0.8345545062661311,-1.1461310253235593,-1.1127597130965776,-0.04684074019944968,1.6865044772373161,0.8168873409694936,0.059162251580375275,0.14946109642985558,1.7139867343654185,0.2986504922681275,-0.16462184217703285,-0.07824903406013842,1.1211551877449166,-1.5642539373439794,-1.053869162107786,0.17890637192425138,0.3928753738501942,0.651993798200877,-2.7401019387535177,0.9700027735403518,-0.22743842989841032,-1.7252214433800097,0.1082377107377016,-0.09199016262419012,-1.030312941712269,1.7061346609002466,-0.5984489011277974,0.6598458716660492,-0.2588467237590996,0.4674700717693299,0.4125055575131248,-0.32951538494564936,-0.9871265376538221,0.9974850306684542,0.06897734341184054,-1.279616274231487,0.30846558409959274,0.5008413839963122,-1.6467007087282877,1.0956359489831067,-0.1449916585141023,-1.0185348315145109,-0.6416353051862449,1.647244109911455,0.610770412508723,0.2888354004366622,0.2986504922681275,-1.0479801070089065,-0.8163439397863261,-1.0577951988403718,-2.017711179957675,0.8875560021560434,0.7874420654750978,-0.6004119194940903,0.1200158209354598,0.3104286024658857,0.26135314330855935,-0.8124179030537403,0.9660767368077654,-0.20977126460177328,-0.21958635643323854,-0.26080974212539254,-1.6074403414024265,1.0936729306168145,0.2809833269714899,-0.7417492418671905,0.84044356136501,-0.11554638301970653,-0.38447989920185455,1.4725354753113726,-1.1009816028988189,0.3732451901872637,-2.1335292635689647,-1.0401280335437342,0.8934450572549227,0.24761201474450822,0.4674700717693299,0.3555780248906261,-1.0872404743347677,0.4066165024142454,0.11020072910399453,-0.5434843868715923,0.3771712269198496,-0.8359741234492567,0.2162037208838195,0.7442556614166508,0.7795899920099254,0.2515380514770941,-1.1814653559168344,-2.989405271272736,0.30061351063442043,-0.7574533887975345,-0.15676976871186052,0.24172295964562884,-0.2706248339568578,0.22209277598269833,1.7650252118890382,-0.02328451980393327,-1.6054773230361337,-0.6220051215233143,-1.5917361944720823,1.1800457387337082,-0.4433704501906461,1.2094910142281041,0.9562616449763002,-0.7083779296402082,1.4921656589743033,-0.6789326541458124,-2.7558060856838624,0.983743902104403,-0.6769696357795195,-0.11750940138599947,-0.8771975091414111,1.0426344530931946,-1.1009816028988189,0.5950662655783784,1.1761197020011225,0.544027788054759,-1.6663308923912181,0.9327054245807838,-0.08806412589160367,0.2986504922681275,-0.5002979828131447,0.6166594676076024,1.2389362897224998,-1.403286431307949,-1.030312941712269,-0.16069580544444695,-0.8457892152807219,-0.054692813664622,1.916177626093603,0.7108843491896686,-1.81552028822949,0.6343266329042394,0.5224345860255356,0.04345810465003063,-0.40999913796366444,-0.5670406072671087,-0.8320480867166707,-0.21762333806694503,-0.17051089727591223,0.9150382592841462,1.3096049509090502,0.2044256106860613,-0.09002714425789661,0.37913424528614253,-0.7535273520649487,-1.1618351722539038,-0.6377092684536584,-0.042914703466863796,0.06897734341184054,1.3135309876416361,0.2044256106860613,0.08271847197589169,0.17694335355795843,-0.14106562178151644,-0.5375953317727129,-0.49637194608055885,1.6845414588710226,-0.13910260341522293,0.8011831940391488,2.1262205912869594,1.5785384670911982,-0.27651388905573665,-0.8045658295885679,0.2240557943489918,0.9542986266100072,0.12197883930175274,0.5989923023109648,-0.5297432583075405,1.2016389407629322,-0.7515643336986557,0.00616075569046252,-0.40214706449849213,0.06897734341184054,0.10234865563882221,-0.11358336465341358,1.1584525367044842,-0.06647092386238021,-1.1893174293820061,0.383060282018729,0.5911402288457924,1.1564895183381918,0.4026904656816595,0.7599598083469948,-1.0519061437414925,-2.4966876613331794,0.10234865563882221,0.8600737450279404,-0.013469427972468008,0.19657353722088897,-0.7986767744896891,-0.6435983235525378,0.79529413894027,0.7913681022076836,1.1682676285359495,-0.42962932162659495,-2.443686165443267,-1.5917361944720823,-0.5493734419704711,0.8325914878998382,-0.6828586908783989,0.19264750048830254,-0.26080974212539254,-0.09002714425789661,0.4851372370659675,-0.4728157256850419,1.647244109911455,-0.2451055951950479,-0.46888968895245603,0.12786789440063212,-0.30399614618383947,-0.3079221829164259,2.1635179402465283,1.0897468938842279,0.9366314613133696,1.2153800693269834,-1.509289423087774,-0.1449916585141023,0.3241697310299374,-0.2863289808872019,-0.39233197266702685,0.7815530103762184,-0.5631145705345227,0.4026904656816595,-1.1637981906201968,-0.2156603197006521,-0.6259311582559002,0.9071861858189738,0.4517659248389858,-0.3373674584108217,-0.16462184217703285,-0.9949786111189943,-0.5847077725637463,1.1034880224482797,-0.512076093010903,-0.05076677693203556,-0.8791605275077041,-0.2882919992534954,-0.7554903704312416,0.17105429845907905,0.04934715974891001,2.530602374743329,0.6048813574098436,1.812137652680071,-0.10376827282194832,-0.39036895430073393,-2.1708266125285327,0.00616075569046252,-0.25492068702651316,1.2291211978910346,0.0650513066792541,-2.21401301658698,3.168583343788571,-0.03898866673427736,0.3771712269198496,1.655096183376627,-1.8037421780317318,0.4007274473153666,-0.6710805806806407,0.8227763960683729,-1.7428886086766473,1.5490931915968025,0.012049810789341902,-1.3973973762090701,0.424283667710883,0.9562616449763002,-0.364849715538924,0.3359478412276956,-0.7044518929076223,-0.5238542032086617,-0.6063009745929697,0.03953206791744475,-0.9557182437931333,1.4941286773405966,-1.240355906905626,-0.9989046478515803,-0.6494873786514166,-1.2030585579460578,-0.7554903704312416,0.6539568165671699,-0.9400140968627887,0.98178088373811,1.5844275221900777,-0.4257032848940091,-0.39036895430073393,0.6598458716660492,0.2338708861804571,-0.27455087068944367,-0.32951538494564936,0.4203576309782971,2.041810801536358,0.11020072910399453,0.33005878612881623,-0.427666303260302,1.3743845569967201,0.1200158209354598,1.4411271814506845,1.3841996488281854,0.2535010698433876,-0.47085270731874895,0.7089213308233756,0.08075545360959875,1.119192169378623,1.7139867343654185,1.199675922396639,-1.322802678289934,0.4419508330075206,0.7795899920099254,1.113303114279745,-0.5238542032086617,0.9700027735403518,0.06701432504554761,-0.09591619935677599,-0.34325651350970054,-0.5238542032086617,1.299789859077585,-0.3668127339052175,-0.24903163192763433,-0.43355535835918085,0.7835160287425118,-0.6396722868199514,-0.7142669847390876,-0.7319341500357252,0.4969153472637257,0.2240557943489918,1.0445974714594874,1.235010252989914,0.689291147160445,-0.5925598460289185,1.7925074690171405,0.5597319349851038,-0.2038822095028939,0.49495232889743274,-0.737823205134604,0.13571996786580445,-2.6085797082118836,0.7030322757244962,-0.6534134153840031,-0.9105688213683929,-1.3738411558135533,1.1250812244775026,1.2605294917517238,0.12983091276692507,-0.009543391239881568,1.1034880224482797,1.4411271814506845,-1.1441680069572662,-0.8202699765189125,-0.7338971684020181,0.8168873409694936,1.1780827203674147,1.1898608305651734,0.37520820855355663,0.903260149086388,-0.9400140968627887,0.9601876817088866,0.14946109642985558,1.3292351345719806,-0.33344142167823526,-2.0157481615913815,1.5000177324394761,0.25546408820968053,0.03364301281856537,0.48710025543226043,-0.15676976871186052,-1.3738411558135533,-1.1186487681954564,-1.2992464578944176,1.1152661326460374,-0.8948646744380482,-0.33147840331194234,0.8149243226032006,-0.9714223907234774,-0.12732449321746472,-1.0224608682470966,-0.32951538494564936,-0.24706861356134083,-0.13713958504893,-0.9517922070605469,0.2731312535063181,-0.16854787890961873,-0.042914703466863796,0.5989923023109648,0.7128473675559615,-1.324765696656227,0.19068448212200959,0.4517659248389858,0.11805280256916686,-0.4080361195973715,-0.41196215632995736,-1.5210675332855321,0.9484095715111278,0.9071861858189738,-0.989089556020115,-0.15873278707815347,0.9346684429470766,0.2024625923197678,-1.1716502640853692,0.10038563727252928,-0.05665583203091494,-0.7437122602334834,1.4529052916484422,-0.6926737827098641,-0.7810096091930515,-0.7221190582042599,1.1074140591808654,1.0406714347269017,-0.20977126460177328,-0.27455087068944367,1.0073001224999194,0.03756904955115181,-0.23136446663099675,0.2044256106860613,0.2338708861804571,-0.3491455686085799,-0.38840593593444095,-0.6318202133547796,-2.469205404205077,0.2279818310815777,0.47728516360079515,-0.45514856038840484,-0.16854787890961873,1.3331611713045666,-0.7201560398379669,-0.7044518929076223,0.9052231674526808,0.47728516360079515,-1.6722199474900972,-0.26277276049168546,-2.2100869798543936,-0.8771975091414111,0.06897734341184054,-2.2650514941105993,-0.05272979529832906,-0.8006397928559821],\"z\":[0.8574034446394462,1.048458149949096,-0.759667824012329,-0.0840826289483106,-0.2810462426695987,0.05379190065659106,0.22515024459411148,0.20939315549640877,2.46659616874237,-0.10180935418322665,-1.1831395935130984,-0.17468589126010303,0.036065175421675026,-2.2034111125893707,-1.4096477492925799,-0.6986091037587299,-0.16483771057403862,0.15030407138002236,-0.3814976856674555,0.7057414620740545,0.975581612872219,-0.36377096043254004,-1.951297687026122,-0.3874065940790944,0.9716423405977935,0.8869479866976394,1.8146466073249068,0.24287696982902754,-0.952692165459191,0.5245349374504698,-1.9591762315749734,-0.25347133674861827,-0.2633195174346827,2.173120384297651,-0.4464956781954808,1.2631484889053002,-0.7498196433262646,0.8081625412091241,-2.5717330702481798,0.701802189799629,0.9420977985396003,0.5383223904109596,1.3596606596287308,-1.1890485019247368,-0.23377497537648945,-0.6808823785238137,-0.6867912869354521,1.2670877611797255,-0.8305747249519926,0.2546947866523047,-0.854210358598547,-1.415556657704218,-0.9389047124987011,1.8540393300691644,1.0523974222235215,-0.5646738464282537,-0.9605707100080426,-0.3893762302163072,0.5402920265481724,0.44968876423638005,1.5231404590174003,-0.5016454900374417,0.42408349445261234,-0.36967986884417836,0.018338450186758982,-1.8035749767351559,1.024822516302541,1.235573582984319,-1.4470708358996243,-0.7478500071890518,-0.20226079718108347,-0.8069390913054383,-0.4169511361372876,0.9342192539907487,-0.2199875224159995,0.31181423463147834,0.7924054521114214,-1.6144899075627193,0.4260531305898257,0.5225653013132564,0.9184621648930459,-2.829755404223067,-0.4642224034303969,-0.021054272557498636,-1.1614735960037568,0.38666040784556804,-1.7385769842071306,0.5166563929016181,1.011035063342051,-0.5154329429979316,1.2513306720820223,-1.068900697554751,1.186332679553997,0.09712389567527423,0.1030328040869131,0.9066443480697682,0.7155896427601189,-0.10968789873207828,1.2237557661610425,-0.8384532695008443,-0.1490806214763359,1.0366403331258187,-1.8016053405979429,-0.013175728008647003,-1.7878178876374526,-1.5770668209556746,1.6885898945432818,-0.5686131187026793,-1.1949574103363756,1.3458732066682408,1.2749663057285767,1.143000684535314,-0.7163358289936453,-1.254046494452762,1.03073142471418,0.5580187517830885,0.6978629175252029,-0.6690645617005366,0.5422616626853852,1.2533003082192358,1.1843630434167849,-1.8764515138120323,-2.043870585475127,0.8574034446394462,-0.5961880246236597,-0.11756644328092992,0.13454698228231907,0.0006117249518429412,1.5960169960942765,-0.6158843859957884,0.2527251505150919,-1.3151052147063613,0.7884661798369953,-0.05256845075290462,-0.2771069703951732,0.5915025661157073,-1.7523644371676208,0.7254378234461833,0.1384862545567446,-1.007841977301152,-1.6164595436999323,-0.4071029554512232,1.1883023156912105,0.877099806011575,0.9598245237745163,0.863312353051085,0.7746787268765054,0.31181423463147834,-0.060446995301756255,-0.21210897786714789,0.4359013112758901,1.1607274097702305,0.49105112311785043,-0.1352931685158454,-1.551461551171907,0.9007354396581299,0.4733243978829344,-0.5646738464282537,1.2651181250425123,-0.24559279219976718,0.21727170004525986,0.8613427169138723,-0.5292203959584216,0.6860451007019257,0.400447860806058,-2.4555245381526194,-1.2658643112760393,-0.07029517598782066,-0.39922441090237154,-0.9231476234009978,0.6308952888599648,0.6643791031925842,-0.17665552739731635,-1.2087448632968656,-0.11559680714371659,1.4699602833126526,-0.1352931685158454,0.02227772246118508,1.1942112241028493,1.619652629740831,-0.18453407194616742,-0.5666434825654665,-0.45043495046990634,0.5993811106645589,-0.15301989375076144,-0.6257325666818528,0.5915025661157073,0.44771912809916725,-0.31453005700221803,1.781162792992288,0.6151381997622621,1.235573582984319,-0.3224086015510691,0.9598245237745163,-0.005297183459795366,0.09909353181248699,0.040004447696100565,0.7490734570927378,0.04197408383331389,1.0445188776746699,0.42408349445261234,-1.124050509396712,0.7707394546020798,1.5802599069965733,-0.13135389624141985,1.7476789786596683,1.0642152390467987,-1.4982813754671593,-1.0728399698291773,1.1489095929469528,0.3078749623570528,-1.1575343237293307,0.7727090907392926,0.11682025704740304,-0.11362717100650382,0.7864965436997826,0.2546947866523047,-0.5528560296049765,-0.34998350747204954,-0.3480138713348368,-0.3480138713348368,0.37287295488507755,0.07545789816593264,1.048458149949096,-1.5219170091137137,-0.8010301828937995,-1.0551132445942613,1.4148104714706917,1.6984380752293462,0.6151381997622621,0.6643791031925842,0.993308338107135,0.8652819891882978,-0.9625403461452554,-0.8837549006567402,-0.2515017006114055,-2.3924961817618073,-1.3978299324693026,0.10106316794970031,0.6308952888599648,-0.6316414750934918,-0.6099754775841502,2.0017620403601306,-0.5055847623118672,1.4542031942149494,0.5225653013132564,0.8593730807766595,-0.6946698314843037,-1.3032873978830841,1.1843630434167849,-0.2849855149440248,-1.4490404720368373,0.5658972963319401,0.7116503704856935,-2.063566946847256,0.055761536793803836,0.24681624210345307,-1.551461551171907,-1.7110020782861506,-0.4484653143326936,0.4122656776293352,-0.17862516353452912,-1.4293441106647085,1.0602759667723731,-1.0728399698291773,-0.7143661928564325,0.4752940340201477,-0.6670949255633233,1.4916262808219936,-0.2613498812974699,0.49105112311785043,0.6289256527227521,0.34332841282688437,0.764830546190441,0.9519459792256647,0.481202942431786,-0.2613498812974699,0.06954898975429377,2.3661447257445136,-1.043295427770984,1.6531364440734508,0.26651260347558187,0.6230167443111138,-0.3046818763161536,-1.8429676994794135,-0.28892478721845033,0.5028689399411276,0.7668001823276538,-0.7990605467565867,0.004550997226269039,-0.05059881461569185,0.9105836203441943,-1.3032873978830841,-0.6730038339749621,0.036065175421675026,-0.25347133674861827,0.3590855019245876,0.751043093229951,0.22318060845689872,-0.5784612993887436,-2.441737085192129,-0.07620408439945897,1.2296646745726814,-0.4130118638628621,0.31969277918033,0.2606036950639436,-0.3972547747651588,1.143000684535314,-0.8975423536172307,0.040004447696100565,-0.728153645816923,0.26454296733836913,-0.23180533923927668,0.8790694421487883,-1.092536331201306,-1.3702550265483222,-0.9192083511265723,2.9156732080269068,-0.43467786137220366,-0.16286807443682585,-1.8370587910677747,0.877099806011575,-1.6834271723651701,-0.41104222772564875,-0.9349654402242755,-1.271773219687678,1.562533181761658,1.402992654647414,1.1252739593003984,-0.8069390913054383,0.7786179991509309,-0.49573658162580286,-0.38346732180466886,1.7338915256991783,0.4713547617457216,0.3768122271595037,1.8422215132458868,1.3852659294124985,-1.750394801030408,1.107547234065482,0.22711988073132425,0.43984058355031563,-1.3485890290389806,0.8495249000905951,0.536352754273747,-0.29286405949287586,0.9736119767350063,-0.42482968068613924,-1.4647975611345403,-0.4071029554512232,-2.4693119911131096,0.999217246518774,1.5664724540360833,1.2296646745726814,1.1961808602400614,0.5245349374504698,0.6643791031925842,0.07742753430314542,-1.0826881505152417,0.7805876352881442,0.512717120627192,-1.1082934202990087,-0.36771023270696557,-0.6237629305446402,-1.7267591673838534,-1.384042479508812,-0.2101393417299351,-0.9507225293219782,-0.7498196433262646,-0.18650370808338076,-0.03681136165520135,0.07939717044035818,0.6072596552134105,0.634834561134391,0.12863807387068021,-1.486463558643882,0.3413587766896716,-0.08605226508552337,-1.5790364570928874,0.32166241531754275,-1.7267591673838534,1.3163286646100476,1.0602759667723731,-0.0880219012227367,-1.835089154930562,-1.0176901579872164,-0.5055847623118672,0.5068082122155537,0.6978629175252029,2.1081223917696255,-0.4425564059210553,-0.5607345741538281,0.5836240215668562,0.5974114745273461,-1.5396437343486298,-1.0649614252803257,-1.1279897816711375,-0.2751373342579604,1.8737356914412933,-1.2304108608062077,-0.6710341978377494,-0.3480138713348368,0.32166241531754275,-1.20480559102244,-1.124050509396712,-0.2751373342579604,-0.9920848882034486,-0.6355807473679173,2.1750900204348644,-0.009236455734221464,0.28817860098492404,-0.43073858909777757,-0.8384532695008443,0.1187898931846158,-0.6277022028190656,1.3498124789426664,0.9637637960489419,-0.15301989375076144,-0.661186017151685,0.8987658035209172,-0.6040665691725113,-1.1279897816711375,0.8495249000905951,-1.4135870215670052,0.15030407138002236,1.9269158671460407,-0.10771826259486551,-0.23771424765091556,0.6289256527227521,-1.1496557791804791,1.3242072091588988,-0.8699674476962502,0.9460370708140258,-1.1142023287106475,0.9499763430884519,-0.9664796184196816,0.4713547617457216,-0.1490806214763359,-0.4169511361372876,0.3709033187478648,2.0706993051625813,1.0898205088305664,0.7136200066229063,1.1449703206725272,0.18575752184985386,0.14439516296838348,-0.4051333193140104,0.7608912739160154,0.2901482371221368,-0.8423925417752698,-0.8975423536172307,-1.8981175113213742,-1.9316013256539932,-0.42286004454892645,0.13651661841953183,-0.41498150000007483,-1.1575343237293307,-0.2869551510812376,-1.305257034020297,1.143000684535314,-2.4240103599572134,0.7766483630137182,1.2119379493377647,-0.9723885268313198,0.11288098477297749,0.07742753430314542,-0.8069390913054383,0.19954497481034436,-0.9645099822824688,-1.6322166327976353,-0.4464956781954808,-1.5396437343486298,0.5836240215668562,0.2940875093965623,-1.4628279249973273,-0.5607345741538281,-0.17862516353452912,0.37484259102229034,2.0864563942602845,-0.2692284258463215,-0.6710341978377494,-1.4372226552135603,0.8357374471301046,0.5658972963319401,-0.1392324407902715,-0.6355807473679173,-0.13332353237863262,1.1745148627307205,-0.06635590371339456,1.1567881374958038,0.22515024459411148,0.6210471081739004,-0.525281123683996,1.3320857537077508,-0.42286004454892645,-0.3381656906487724,1.0898205088305664,0.8180107218951885,-1.8862996944980968,0.10894171249855139,0.301966053945414,0.6013507468017717,1.704346983640985,0.4949903953922765,-0.0742344482622462,0.21136279163362154,-0.5095240345862928,1.4482942858033105,0.17984861343821557,0.0518222645193783,-0.7675463685611806,-1.4096477492925799,0.9243710733046843,-0.11362717100650382,0.04591335610773943,-1.1575343237293307,0.6249863804483266,0.49892966766670205,-1.5672186402696102,-1.043295427770984,0.7983143605230597,-1.4254048383902824,1.0346706969886055,-1.9690244122610379,-1.0334472470849196,-0.3263478738254952,2.3543269089212355,0.1030328040869131,-1.0905666950640927,-0.328317509962708,0.7136200066229063,-0.8325443610892054,0.6860451007019257,-0.854210358598547,-1.1082934202990087,0.26454296733836913,0.2546947866523047,0.536352754273747,0.9893690658327096,0.652561286369307,0.4831725785689988,-0.9329958040870622,-1.322983759255213,1.5566242733500188,-1.1535950514549052,-0.01514536414585977,-1.3288926676668518,-0.6237629305446402,0.7687698184648666,-0.6631556532888977,-0.8325443610892054,-0.6749734701121749,-1.309196306294723,0.24287696982902754,-0.4287689529605648,-0.41498150000007483,0.9086139842069816,1.7693449761690103,0.18969679412427998,-1.9591762315749734,-1.2737428558248909,-0.1293842601042071,-1.0531436084570485,-0.005297183459795366,-0.4464956781954808,-0.23180533923927668,-0.20423043331829624,0.20742351935919545,1.241482491395958,0.660439830918158,-0.31649969313943077,-0.22786606696485115,0.6978629175252029,-0.5292203959584216,-1.019659794124429,-0.37361914111860445,-0.33422641837434686,1.3301161175705376,-1.602672090739442,0.7530127293671638,0.4949903953922765,-2.6662756048343974,-0.6395200196423434,0.9105836203441943,0.481202942431786,-0.25347133674861827,0.4752940340201477,-0.7951212744821605,-2.089172216631024,-0.661186017151685,0.28226969257328516,0.1227291654590419,-1.7681215262653238,0.8849783505604266,0.5068082122155537,1.1626970459074428,-0.2731676981207471,1.235573582984319,-0.31846932927664356,0.5402920265481724,0.1640915243405123,0.32757132372918163,-2.3826480010757427,-0.9172387149893595,-1.0767792421036027,0.18575752184985386,-1.141777234631628,1.1193650508887596,0.7943750882486342,2.096304574946349,0.1384862545567446,-1.0354168832221324,-1.1279897816711375,-1.7622126178536852,-2.427949632231639,0.04197408383331389,1.7417700702480303,-1.699184261462873,-3.075959921374677,-0.9310261679498495,-0.20423043331829624,-0.09787008190880112,1.3557213873543053,0.5639276601947274,-0.43270822523499086,0.12469880159625467,-0.2751373342579604,0.09909353181248699,-0.11362717100650382,1.2395128552587458,0.39059968011999363,0.14045589069395795,-0.8522407224613342,0.8731605337371494,0.3669640464734393,1.255269944356448,-0.21210897786714789,-0.7517892794634774,2.19281674566978,-0.05256845075290462,0.530443845862108,1.8638875107552288,2.789616495245283,-0.2101393417299351,-0.678912742386601,0.016368814049546213,3.213088264746052,-0.09983971804601388,-0.42482968068613924,-1.21859304398293,-0.4031636831767977,0.26257333120115633,1.2631484889053002,-0.9664796184196816,-0.4642224034303969,1.0720937835956503,1.501474461508058,1.3576910234915187,1.9603996814786595,0.0715186258915071,0.15227370751723512,1.395114110098563,0.6407434695460292,1.0740634197328631,-0.5489167573305505,-0.6099754775841502,-1.0176901579872164,-0.20816970559272233,-0.2101393417299351,-0.1451413492019098,0.2527251505150919,-0.994054524340662,1.3557213873543053,-0.19635188876944515,-1.551461551171907,-1.433283382939134,-1.401769204743728,0.36302477419901313,-0.9270868956754239,-1.4391922913507729,-0.43467786137220366,1.2513306720820223,0.44181021968752837,1.3222375730216867,0.24090733369181477,0.39650858853163246,-0.09196117349716225,-0.11756644328092992,0.45953694492244446,-1.0649614252803257,1.9249462310088274,-2.7155165082647197,1.0780026920072892,0.24090733369181477,-1.112232692573435,-0.3795280495302428,-0.4996758539002284,-2.888844488339453,1.170575590456295,0.7431645486810994,-1.0039027050267264,-1.3348015760784901,0.4359013112758901,-0.5370989405072732,-0.6434592919167689,-0.14120207692748427,1.1233043231631852,2.0313065824183236,0.24681624210345307,-0.13332353237863262,-0.489827673214164,0.8101321773463375,-0.23180533923927668,-1.5573704595835458,0.2586340589267308,-0.8187569081287155,0.43984058355031563,-0.6631556532888977,0.0616704452054427,-0.5902791162120213,-0.5942183884864469,-0.5528560296049765,1.186332679553997,0.7392252764066733,0.09712389567527423,0.7786179991509309,-0.43073858909777757,0.6328649249971782,0.32363205145475554,-0.7458803710518385,0.8278589025812529,-0.37558877725581724,0.26651260347558187,-0.6257325666818528,0.7766483630137182,0.028186630872823387,-1.240259041492272,-2.4574941742898324,-1.8823604222236712,-0.5587649380166149,-0.5134633068607188,0.7864965436997826,1.1272435954376105,-0.6572467448772589,1.3143590284728344,0.634834561134391,-1.8035749767351559,-0.16286807443682585,-0.5548256657421893,-2.97550847837682,0.21727170004525986,-0.8995119897544435,0.17393970502657669,0.3768122271595037,0.3531765935129488,-0.588309480074808,-1.797666068323517,0.8869479866976394,1.3163286646100476,0.796344724385847,-0.7261840096797098,-0.724214373542497,-1.535704462074204,-0.710426920582007,1.062245602909586,-0.7951212744821605,0.9952779742443478,-0.3814976856674555,-0.976327799105746,0.26257333120115633,-0.41498150000007483,0.2448466059662403,1.129213231574824,0.2290895168685376,1.024822516302541,2.0332762185555358,-3.1015651911584445,0.975581612872219,0.9027050757953426,-0.43467786137220366,1.6255615381524697,0.5580187517830885,-0.3716495049813911,-1.671609355541893,-0.7163358289936453,-0.22392679469042504,-0.42286004454892645,-1.65585226644419,0.15818261592887342,1.1764844988679326,-0.5528560296049765,-0.5607345741538281,-0.22589643082763838,-0.08605226508552337,-0.7537589156006902,-0.1352931685158454,-1.21859304398293,-2.1088685780031526,-1.2835910365109553,-1.3111659424319357,-2.3550730951547627,0.22515024459411148,0.0518222645193783,-0.678912742386601,1.5901080876826377,-1.9532673231633348,2.383871450979429,-1.3564675735878315,-0.5174025791351444,0.25666442278951745,0.6407434695460292,0.7234681873089706,-1.3525283013134062,-1.3623764819994706,-0.6710341978377494,-0.5351293043700605,-0.28892478721845033,1.3911748378241373,-1.819332065832859,-1.419495929978644,-0.3224086015510691,1.4345068328428205,0.07545789816593264,0.28817860098492404,0.2684822396127952,-0.11953607941814269,1.0464885138118831,-0.50755439844908,-0.7458803710518385,-0.4642224034303969,0.08924535112642258,-0.5272507598212088,-1.317074850843574,1.7851020652667136,-1.3505586651761934,0.11288098477297749,-0.4130118638628621,0.9519459792256647,1.2316343107098935,-0.36377096043254004,0.08924535112642258,-0.8305747249519926,0.13060771000789353,-0.6080058414469368,0.43984058355031563,0.5402920265481724,0.7628609100532282,-0.06241663143896903,-0.5981576607608724,-0.10377899032043941,-1.5888846377789518,-1.618429179837145,-1.4529797443112629,0.5974114745273461,0.1837878857126411,0.6092292913506233,-0.9172387149893595,-2.3393160060570595,2.9806712005549323,0.23893769755460198,-1.1338986900827763,1.1942112241028493,-0.25741060902304436,0.6111989274878361,0.7549823655043766,-0.39922441090237154,-0.2908944233556631,0.8613427169138723,-0.6493682003284078,0.3610551380618004,0.8711908975999367,-0.08014335667388507,-0.7537589156006902,-0.10968789873207828,-0.8561799947357603,0.530443845862108,-0.35195314360926233,1.381326657138073,0.37484259102229034,-0.9999634327523003,1.5743509985849355,-0.5213418514095706,0.877099806011575,0.16803079661493783,1.7417700702480303,-2.079324035944959,-0.7340625542285614,-0.12741462396699432,-0.9152690788521467,-1.1654128682781824,1.0563366944979475,-0.6336111112307046,1.8875231444017833,-1.766151890128111,-0.4977062177630156,0.5599883879203013,0.6919540091135646,-0.8010301828937995,0.18575752184985386,0.44968876423638005,0.5166563929016181,0.22318060845689872,-0.9487528931847655,-0.6020969330352985,1.1725452265935072,0.28817860098492404,-2.709607599853081,-1.7641822539908982,-0.9448136209103399,0.1030328040869131,3.559744224895519,-1.8035749767351559,0.1187898931846158,-1.0649614252803257,-0.6414896557795562,0.2527251505150919,0.31969277918033,0.38863004398278084,1.0543670583607343,-0.9211779872637851,-0.5666434825654665,0.49892966766670205,-0.296803331767302,0.10894171249855139,-0.41892077227450036,-0.8305747249519926,-0.9408743486359138,0.5658972963319401,1.2946626671007055,0.3709033187478648,-0.8305747249519926,0.5107474844899792,0.9736119767350063,-0.741941098777413,-0.14317171306469703,0.5324134819993208,-1.2894999449225941,0.993308338107135,-0.8029998190310121,1.2257254022982547,-0.4071029554512232,0.4713547617457216,-0.6020969330352985,-2.014326043416934,1.247391399807597,-0.18453407194616742,2.6064403344844846,1.1922415879656358,-0.15301989375076144,0.32166241531754275,-0.50755439844908,-1.2954088533342325,0.43984058355031563,0.6801361922902869,-0.7005787398959425,2.0017620403601306,0.0577311729310166,-0.21210897786714789,-1.8449373356166263,0.5028689399411276,-1.1398075984944147,-0.0683255398506079,-0.63755038350513,0.8357374471301046,0.2901482371221368,-0.4996758539002284,1.0917901449677796,0.014399177912333444,-0.7399714626402002,0.6821058284275002,0.9283103455791103,1.1666363181818682,-0.6552771087400461,0.18575752184985386,0.03803481155888779,-0.16286807443682585,-0.9979937966150875,-1.2087448632968656,-0.4071029554512232,0.18772715798706663,1.1902719518284237,-0.952692165459191,1.0189136078909027,-1.0354168832221324,-2.0261438602402113,0.6269560165855393,0.3295409598663944,-0.4425564059210553,-1.3308623038040646,0.18969679412427998,0.4674154894712961,-0.2416535199253411,-1.6164595436999323,0.863312353051085,-1.2166234078457172,1.466021011038227,3.4730802348581524,0.38666040784556804,-0.3361960545115596,-0.6651252894261105,-1.4746457418206047,-0.328317509962708,1.0090654272048383,0.39256931625720637,1.1311828677120372,-0.9901152520662359,1.0543670583607343,0.733316367995035,0.21136279163362154,-0.37558877725581724,-0.3027122401789403,-2.309771463998866,0.4359013112758901,0.5284742097248952,-0.0683255398506079,-0.3381656906487724,-0.13332353237863262,-0.539068576644486,-1.6834271723651701,-0.8364836333636315,0.10500244022412586,0.9539156153628775,-0.6257325666818528,-0.11559680714371659,2.0529725799276646,0.09121498726363592,-0.21801788627878674,-0.724214373542497,1.6019259045059153,-0.15105025761354868,2.19281674566978,0.8436159916789563,0.09712389567527423,0.4201442221781868,0.20348424708476992,0.5146867567644053,-0.9192083511265723,0.18772715798706663,-0.19241261649501906,-0.5607345741538281,0.17787897730100224,0.5816543854296429,-0.7616374601495418,0.6998325536624157,1.562533181761658,0.9283103455791103,0.7608912739160154,1.0051261549304122,0.17984861343821557,0.19560570253591827,-0.5942183884864469,-2.668245240971611,0.22711988073132425,2.1790292927092896,0.4733243978829344,-0.13726280465305873,-0.1352931685158454,0.26454296733836913,0.4024174969432708,1.221786130023829,0.22121097231968595,-1.419495929978644,0.24681624210345307,0.39650858853163246,0.7195289150345445,0.368933682610652,-0.9625403461452554,-0.028932817106350275,1.3557213873543053,1.1233043231631852,-1.173291412827034,-1.9119049642818644,-0.3716495049813911,-0.6020969330352985,-0.629671838956279,-1.750394801030408,0.5422616626853852,0.38863004398278084,0.07545789816593264,1.7378307979736038,1.0917901449677796,0.3157535069059039,0.12469880159625467,0.07742753430314542,-0.05453808689011739,0.1640915243405123,1.5448064565267423,1.4423853773916717,0.5698365686063657,1.5802599069965733,-0.19241261649501906,1.03073142471418,0.4024174969432708,-0.30074260404172753,-0.2002911610438707,-0.5705827548398925,-0.2849855149440248,-0.7695160046983934,-1.8035749767351559,-0.6769431062493877,-1.1279897816711375,1.3793570210008597,0.20742351935919545,1.028761788576967,-0.12741462396699432,0.5087778483527665,0.31378387076869113,0.747103820955525,-1.4096477492925799,-2.400374726310659,0.4043871330804836,1.1902719518284237,-0.09787008190880112,-1.001933068889513,2.4508390796446675,0.8180107218951885,1.6590453524850886,2.0766082135742203,-0.011206091871434233,1.3557213873543053,-0.5469471211933377,1.5605635456244444,1.4108711991962661,1.1449703206725272,-0.7498196433262646,-0.42286004454892645,-1.340710484490129,-0.7734552769728189,-0.6178540221330012,1.7496486147968815,-1.7149413505605764,-1.3505586651761934,-0.2101393417299351,-0.06635590371339456,-1.3978299324693026,0.7293770957206089,1.6649542608967274,0.17590934116378945,0.17393970502657669,0.8002839966602731,-0.5292203959584216,0.016368814049546213,-0.2416535199253411,2.1652418397488,0.2684822396127952,1.3635999319031564,-1.900087147458587,-0.4622527672931841,-0.6966394676215165,0.12863807387068021,1.5782902708593611,-0.46619203956760963,0.8830087144232138,-1.3761639349599604,-1.141777234631628,0.17393970502657669,-0.6986091037587299,-1.6853968085023832,-1.4096477492925799,-0.22786606696485115,0.17197006888936392,1.2887537586890678,2.0529725799276646,-0.5548256657421893,0.5107474844899792,-0.7813338215216706,-0.6493682003284078,1.422689016019543,-0.16483771057403862,0.48908148698063764,-1.019659794124429,-0.14120207692748427,-0.5154329429979316,-0.5095240345862928,-0.0742344482622462,0.40635676921769687,1.7851020652667136,-0.9329958040870622,0.09712389567527423,1.676772077720005,-0.7754249131100317,-0.16680734671125194,-1.4214655661158568,1.3084501200611967,-1.66963971940468,-0.39331550249073327,-0.7183054651308586,0.6407434695460292,-1.0590525168686866,0.5954418383901333,-0.42089040841171316,0.7924054521114214,-0.6099754775841502,-0.09983971804601388,1.143000684535314,0.012429541775120675,-0.6927001953470909,0.9066443480697682,0.4181745860409741,0.7549823655043766,0.3098445984942656,-0.8620889031473986,1.9466122285181695,-1.6203988159743579,0.7234681873089706,-1.3761639349599604,-0.24559279219976718,1.3242072091588988,-0.24362315606255386,0.33151059600360716,0.5462009349598114,-1.1811699573758856,-1.6420648134836997,-0.7064876483075809,1.0386099692630315,0.1640915243405123,1.1567881374958038,0.7884661798369953,-0.29877296790451474,-0.5942183884864469,0.5560491156458757,-1.3367712122157027,1.0189136078909027,-1.7070628060117248,0.4181745860409741,1.5822295431337867,1.093759781104992,0.6939236452507774,-1.1831395935130984,-0.7045180121703681,0.6781665561530741,-0.6217932944074274,-0.10771826259486551,-0.42679931682335204,0.6013507468017717,1.548745728801168,-1.5238866452509268,0.22121097231968595,0.0478829922449522,0.26651260347558187,-2.2388645630592023,1.235573582984319,-2.03205276865185,0.17393970502657669,0.31378387076869113,-0.30665151245336636,1.8441911493831,0.5186260290388308,0.7707394546020798,-2.1029596695915136,-0.6198236582702146,-1.7405466203443436,-1.1831395935130984,-0.20620006945550956,1.6807113499944306,0.8416463555417435,-1.8173624296956459,1.5093530060569103,-0.03484172551798858,0.9795208851466451,-1.1673825044153952,-0.7695160046983934,-2.5402188920527737,1.2946626671007055,-1.236319769217846,-0.36771023270696557,1.0839116004189275,-0.875876356107889,-0.4622527672931841,0.9046747119325554,-0.8620889031473986,0.8337678109928919,-0.7852730937960961,-1.4175262938414315,-0.0742344482622462,0.764830546190441,0.4024174969432708,1.3911748378241373,-2.165988025982326,-1.2166234078457172,-1.7622126178536852,0.5757454770180045,0.04197408383331389,-1.781908979225814,0.0518222645193783,0.5245349374504698,-0.0742344482622462,0.5186260290388308,0.8357374471301046,2.409476720763197,-0.31059078472779195,-0.3874065940790944,0.6880147368391385,0.6742272838786486,0.008490269500694578,-0.04665954234126576,-0.17271625512289024,-0.7183054651308586,0.3157535069059039,-2.29204473876395,2.153424022925522,1.0858812365561408,1.7496486147968815,0.1936360663987055,-0.09787008190880112,0.39059968011999363,-1.118141600985073,0.20545388322198269,2.1278187531417543,1.093759781104992,0.37287295488507755,-0.2711980619835343,-1.3210141231180001,1.9800960428507883,0.8219499941696147,1.29072339482628,0.26257333120115633,-1.2796517642365297,-0.36967986884417836,2.307055641628127,0.9125532564814071,-0.09787008190880112,-1.001933068889513,-1.1831395935130984,1.170575590456295,0.2527251505150919,2.2420576491001016,-0.24756242833697994,-2.012356407279721,1.048458149949096,0.9677030683233679,1.7338915256991783,1.53692791197789,0.8298285387184663,0.3354498682780327,-1.8488766078910521,-1.0787488782408154,0.5796847492924301,1.0642152390467987,-0.3874065940790944,0.3354498682780327,0.4024174969432708,-0.8148176358542893,-0.8857245367939535,-1.3958602963320892,-0.013175728008647003,-0.7458803710518385,-0.7675463685611806,1.0031565187931994,-1.1516254153176924,-0.25347133674861827,-0.5725523909771053,1.4128408353334785,0.1384862545567446,-1.0176901579872164,-0.5863398439375953,0.28030005643607236,0.030156267010036156,2.2243309238651863,-0.16286807443682585,0.44377985582474117,-0.41498150000007483,-0.8778459922451018,-1.2323804969434204,0.22318060845689872,0.5658972963319401,-0.4287689529605648,-0.3401353267859851,0.2527251505150919,-2.0281134963774243,0.28226969257328516,-0.3125604208650047,-0.6966394676215165,-0.5804309355259569,-0.8305747249519926,-0.17271625512289024,1.1233043231631852,-0.22195715855321227,0.8672516253255106,-0.0840826289483106,0.1837878857126411,-0.2495320644741927,-2.0911418527682364,-0.4425564059210553,-0.5961880246236597,-0.18059479967174188,-0.7478500071890518,-0.34998350747204954,-1.1023845118873705,-0.4681616757048224,-0.1687769828484647,0.05379190065659106,0.31181423463147834,-0.03681136165520135,-0.5567953018794021,-0.22983570310206392,-0.39922441090237154,1.0819419642817152,-0.9251172595382111,0.1187898931846158,-0.125444987829781,2.5079585276238405,0.23105915300575036,-0.17074661898567747,1.353751751217092,-0.9861759797918104,-0.395285138627946,-0.7537589156006902,0.2290895168685376,-1.9572065954377607,0.9401281624023875,0.38272113557114196,0.845585627816169,0.23105915300575036,0.8514945362278079,0.2586340589267308,-1.9532673231633348,-1.5987328184650162,-1.1634432321409696,0.5422616626853852,1.548745728801168,0.4713547617457216,-1.6460040857581255,0.3787818632967164,1.0228528801653283,0.6151381997622621,-1.0452650639081968,0.36302477419901313,-1.0098116134383648,-2.085232944356598,-0.7636070962867546,0.8967961673837038,-0.9369350763614883,0.6368041972716038,-0.11165753486929106,-0.040750633929627446,1.5054137337824847,-2.195532568040519,0.7136200066229063,0.6860451007019257,1.702377347503773,0.4260531305898257,-0.8975423536172307,0.2606036950639436,0.2842393287104979,0.5343831181365342,0.26651260347558187,-0.858149630872973,0.4516584003735928,-1.2028359548852272,-1.0235990663988552,-0.4878580370769512,-0.4996758539002284,-1.638125541209274,-0.23377497537648945,-0.3302871460999207,-1.3466193929017671,0.09515425953806145,-0.42482968068613924,-0.8699674476962502,-0.9290565318126367,-0.6277022028190656,-0.8108783635798638,-0.25544097288583156,2.5237156167215438,-1.0354168832221324,-0.3204389654138563,0.5639276601947274,-1.0767792421036027,-0.17074661898567747,1.542836820389529,1.2158772216121903,0.3039356900826267,0.4043871330804836,1.8185858795993324,-0.6414896557795562,1.028761788576967,-0.3046818763161536,-0.07029517598782066,1.093759781104992,-0.9999634327523003,-0.4051333193140104,-0.7439107349146258,0.7589216377788022,0.8514945362278079,0.9243710733046843,-0.23771424765091556,-0.6946698314843037,-0.8955727174800179,0.5225653013132564,-1.0728399698291773,1.4285979244311817,-1.0728399698291773,-1.092536331201306,1.6570757163478764,0.5580187517830885,1.548745728801168,-0.10180935418322665,0.25666442278951745,0.1936360663987055,-0.4524045866071197,-1.2382894053550588,0.733316367995035,-1.8094838851467945,0.7352860041322478,1.042549241537457,0.1227291654590419,0.1424255268311707,-0.994054524340662,-0.5174025791351444,0.5560491156458757,1.6019259045059153,-1.2501072221783365,-2.0064474988680825,1.282844850277429,-0.17271625512289024,0.8239196303068275,-0.49573658162580286,0.5324134819993208,0.7175592788973317,-0.7675463685611806,-0.23968388378812833,-0.23377497537648945,0.8357374471301046,0.14045589069395795,-1.1595039598665435,-0.18059479967174188,-1.9749333206726765,0.23696806141738866,-0.1589288021624003,-0.5370989405072732,0.6368041972716038,-0.9586010738708299,-0.06241663143896903,0.46347621719687,-0.8522407224613342,-0.22392679469042504,-0.47013131184203516,-0.9920848882034486,-0.395285138627946,-0.42482968068613924,0.481202942431786,-0.007266819597008135,-0.6198236582702146,1.3379946621193899,-0.6966394676215165,0.2842393287104979,1.024822516302541,-0.9546618015964043,0.31969277918033,-0.9251172595382111,0.9499763430884519,-1.6105506352882935,-0.5607345741538281,1.0740634197328631,0.6230167443111138,0.38666040784556804,0.10697207636133862,-0.7970909106193739,0.5008993038039148,0.22121097231968595,-0.09983971804601388,0.6190774720366877,-0.2495320644741927,-0.1392324407902715,-0.8148176358542893,1.773284248443436,-2.110838214140365,0.03803481155888779,1.1114865063399084,-1.3741942988227476,0.7293770957206089,0.39650858853163246,-0.16680734671125194,0.536352754273747,-0.976327799105746,-0.5489167573305505,0.016368814049546213,0.43393167513867675,-1.6282773605232095,0.28226969257328516,-0.759667824012329,2.0155494933206204,1.3202679368844732,-1.2146537717085044,-0.4051333193140104,0.8692212614627239,-0.4996758539002284,1.3478428428054543,1.0740634197328631,0.7116503704856935,-1.468736833408966,1.6807113499944306,0.8810390782860011,0.11485062091019026,0.5028689399411276,1.3675392041775831,-0.032872089380775814,0.39453895239441916,-0.3716495049813911,0.5028689399411276,0.38272113557114196,-1.7306984396582792,-0.05453808689011739,0.22515024459411148,-1.0334472470849196,-0.16680734671125194,0.43984058355031563,0.6289256527227521,-0.25544097288583156,-1.4470708358996243,1.2454217636703835,-0.4484653143326936,0.09712389567527423,0.28817860098492404,2.02933694628111,2.145545478376671,0.1187898931846158,-1.917813872693503,0.2349984252801759,-1.4391922913507729,-0.20423043331829624,-0.40119404703958433,-0.6867912869354521,1.3498124789426664,0.9322496178535359,-0.17468589126010303,-0.10968789873207828,0.5974114745273461,-0.20620006945550956,-0.023023908694711406,-1.0117812495755774,0.666348739329797,-2.0202349518285727,-0.09590044577158778,1.4916262808219936,0.23893769755460198,-1.8902389667725226,0.10500244022412586,-0.0840826289483106,0.7293770957206089,-2.847482129457983,0.11682025704740304,-0.8187569081287155,0.17393970502657669,1.3360250259821764,-1.7937267960490915,0.7628609100532282,-0.7636070962867546,-0.3874065940790944,-0.3125604208650047,0.28226969257328516,-0.9310261679498495,1.739800434110817,0.04591335610773943,-0.6946698314843037,-0.5961880246236597,-0.028932817106350275,1.3931444739613497,0.2507555143778792,0.46347621719687,0.5146867567644053,0.5186260290388308,-1.1988966826108012,-0.2731676981207471,0.5816543854296429,-2.8986926690255177,-0.032872089380775814,0.2290895168685376,0.7805876352881442,0.0813668065775715,0.7372556402694606,-0.7380018265029874,0.40832640535490966,1.9111587780483374,-0.4287689529605648,-1.671609355541893,-0.5331596682328477,-0.5804309355259569,-1.0137508857127908,-0.38346732180466886,0.26454296733836913,-0.40907259158843595,-0.4977062177630156,2.0313065824183236,-0.2101393417299351,-0.5095240345862928,-1.0728399698291773,1.2020897686517003,-2.5205225306806445,-0.8620889031473986,-0.2692284258463215,1.03073142471418,0.548170571097024,0.6269560165855393,-0.028932817106350275,-0.09196117349716225,-0.6454289280539817,-0.489827673214164,-0.14317171306469703,-0.759667824012329,-0.044689906204052984,-0.49376694548859007,1.6846506222688562,-0.25741060902304436,0.18969679412427998,-1.1614735960037568,-0.05256845075290462,1.0760330558700764,-0.7123965567192198,0.561958024057514,1.8264644241481833,0.400447860806058,0.764830546190441,-0.25544097288583156,-0.5272507598212088,-0.1451413492019098,1.0327010608513927,-0.40119404703958433,-0.0643862675761818,0.7904358159742086,-0.49179730935137733,0.6565005586437326,0.0715186258915071,1.5526850010755935,0.975581612872219,-0.7399714626402002,0.9420977985396003,-0.7261840096797098,1.150879229084166,-0.5961880246236597,-0.4051333193140104,1.7358611618363915,0.26454296733836913,-0.009236455734221464,1.0464885138118831,-1.0708703336919638,-0.07226481212503343,-0.8975423536172307,-1.0669310614175382,-0.15695916602518753,0.8810390782860011,1.8047984266388424,0.6643791031925842,-0.5174025791351444,0.5639276601947274,-0.822696180403141,-0.6099754775841502,1.3734481125892208,0.5954418383901333,-0.5233114875467832,-0.7202751012680714,1.2572395804936614,1.5901080876826377,-0.2810462426695987,-0.0643862675761818,0.26651260347558187,0.6919540091135646,0.5501402072342368,2.5217459805843307,0.067579353617081,0.38272113557114196,-0.9586010738708299,0.11485062091019026,0.018338450186758982,-0.2810462426695987,-0.5134633068607188,-0.17862516353452912,1.066184875184012,0.7411949125438867,0.7805876352881442,-1.3032873978830841,0.7628609100532282,-0.023023908694711406,-1.0964756034757315,-1.0708703336919638,0.1325773461451063,-0.30074260404172753,0.0616704452054427,1.0878508726933531,-1.2461679499039104,0.0006117249518429412,0.1837878857126411,-0.4464956781954808,1.0740634197328631,-1.043295427770984,0.301966053945414,-1.051173972319835,-0.8483014501869086,0.5698365686063657,-0.9723885268313198,0.49302075925506317,-0.09983971804601388,0.4733243978829344,0.5698365686063657,1.4069319269218405,0.7195289150345445,-0.42089040841171316,0.22121097231968595,-0.1490806214763359,0.6998325536624157,0.7687698184648666,-0.39331550249073327,0.4536280365108056,2.1573632951999477,-0.8364836333636315,0.8475552639533818,-1.9532673231633348,-2.195532568040519,2.819161037303476,-1.1319290539455635,-0.8364836333636315,1.028761788576967,-1.4234352022530696,-1.317074850843574,-0.4366474975094164,1.8441911493831,-0.7222447374052842,1.0681545113212247,-0.1490806214763359,1.0996686895166308,0.9066443480697682,0.4792333062945732,-1.0826881505152417,-1.4529797443112629,0.6171078358994749,0.8554338085022334,0.6978629175252029,1.2375432191215325,1.9387336839693186,1.9860049512624272,0.18181824957542833,-0.9428439847731266,1.8382822409714612,0.32757132372918163,-0.7261840096797098,1.0327010608513927,1.2808752141402155,0.4871118508434249,1.1922415879656358,-0.7833034576588833,-0.6198236582702146,-1.8173624296956459,0.6683183754670097,-0.35983168815811395,3.8177665588704066,0.059700809068229374,-1.092536331201306,-2.225077110098712,0.06954898975429377,-0.4366474975094164,0.5087778483527665,-0.2515017006114055,1.781162792992288,0.3649944103362259,0.9775512490094324,-0.611945113721363,-2.063566946847256,0.17787897730100224,-0.37558877725581724,-1.5593400957207586,-0.7636070962867546,-0.8029998190310121,0.44377985582474117,1.1528488652213784,-0.15105025761354868,-0.6493682003284078,-0.8089087274426511,0.5008993038039148,-1.3032873978830841,1.2513306720820223,-0.6001272968980857,0.036065175421675026,0.5186260290388308,-0.9231476234009978,-1.285560672648168,-1.104354148024583,-0.8995119897544435,-0.3716495049813911,0.5402920265481724,2.1987256540814184,0.2842393287104979,0.9440674346768131,0.4949903953922765,1.9899442235368527,-0.6769431062493877,-0.8345139972264182,-0.489827673214164,-0.08211299281109784,-1.0334472470849196,-0.39331550249073327,-0.6848216507982393,0.21136279163362154,0.8475552639533818,0.6722576477414358,0.6387738334088165,0.8180107218951885,0.8239196303068275,-1.1457165069060535,-1.222532316257356,0.26651260347558187,0.660439830918158,-1.9453887786144832,-0.9093601704405079,-0.5863398439375953,-0.2002911610438707,-0.28892478721845033,2.9353695693990356,-1.0216294302616418,-2.97550847837682,1.6590453524850886,0.3768122271595037,-0.16680734671125194,0.7589216377788022,0.2862089648477107,-2.3885569094873813,0.8987658035209172,1.0228528801653283,0.3669640464734393,-0.6848216507982393,-0.854210358598547,1.416780107607905,-0.4543742227443325,1.59798663223149,1.2434521275331714,0.7136200066229063,0.21136279163362154,0.00258136108905627,-0.023023908694711406,1.6393489911129597,-0.728153645816923,0.4615065810596572,-0.48391876480252566,0.7904358159742086,-0.12347535169256822,-0.31059078472779195,-1.3781335710971738,0.9066443480697682,0.3098445984942656,1.6748024415827918,0.04394371997052666,-0.4622527672931841,0.4536280365108056,1.1449703206725272,-1.317074850843574,-0.47407058411646125,0.2901482371221368,-0.4051333193140104,1.1252739593003984,0.33938914055245883,0.9716423405977935,-1.1437468707688407,-1.7760000708141754,1.4876870085475682,-1.3328319399412774,-1.1319290539455635,0.028186630872823387,0.055761536793803836,-0.6257325666818528,0.8377070832673174,1.0858812365561408,-1.2776821280993165,-1.389951387920451,-0.4681616757048224,-0.42679931682335204,-0.34998350747204954,0.7352860041322478,0.17590934116378945,-1.1752610489642468,-0.37361914111860445,0.5895329299784945,-0.044689906204052984,-0.3046818763161536,-0.37558877725581724,-0.22786606696485115,1.4384461051172461,1.30451084778677,1.5211708228801868,-0.003327547322582597,0.48908148698063764,-0.9507225293219782,0.2862089648477107,-0.8325443610892054,0.03803481155888779,-0.0683255398506079,2.630075968131039,-1.0472347000454096,-0.28301587880681145,-0.952692165459191,0.148334435242809,1.6610149886223018,-0.08605226508552337,-0.539068576644486,-1.407678113155367,-1.2501072221783365,0.7490734570927378,0.6052900190761977,-1.2698035835504653,-1.486463558643882,1.1390614122608884,-0.3421049629231979,0.9913387019699224,0.6899843729763513,-1.5238866452509268,-1.1713217766898212,-0.6257325666818528,1.150879229084166,0.04591335610773943,-0.01514536414585977,-0.3263478738254952,0.9558852515000902,0.20545388322198269,-0.871937083833463,-0.875876356107889,-1.6085809991510807,-0.8483014501869086,-0.8384532695008443,-0.36967986884417836,0.004550997226269039,-0.10771826259486551,-0.07620408439945897,0.21530206390804707,-0.840422905638057,0.4555976726480189,-0.19832152490665794,-1.5908542739161646,-0.18847334422059353,-0.50755439844908,-1.1220808732594991,0.44968876423638005,-1.4746457418206047,0.07742753430314542,0.9558852515000902,0.20151461094755713,0.5678669324691529,0.6998325536624157,1.0839116004189275,-0.1490806214763359,0.301966053945414,0.18575752184985386,-0.3302871460999207,0.31181423463147834,0.41423531376654793,0.6722576477414358,0.6860451007019257,0.45953694492244446,0.9204318010302587,-0.125444987829781,1.422689016019543,-1.986751137495954,-0.840422905638057,0.014399177912333444,0.4181745860409741,0.0518222645193783,-0.1352931685158454,-0.9487528931847655,-0.9132994427149334,0.4851422147062121,0.7707394546020798,1.7358611618363915,-0.23377497537648945,0.6958932813879901,-0.07620408439945897,0.31378387076869113,-1.4273744745274959,-1.7720607985397496,0.10894171249855139,0.9617941599117291,0.18772715798706663,0.5501402072342368,0.20348424708476992,0.5166563929016181,-0.871937083833463,0.3787818632967164,-2.9124801219860075,-1.5829757293673132,0.8849783505604266,0.036065175421675026,1.1823934072795717,0.08924535112642258,0.301966053945414,-0.6670949255633233,0.20151461094755713,-1.9040264197330128,-0.724214373542497,0.9184621648930459,0.7116503704856935,1.8382822409714612,0.09909353181248699,-0.724214373542497,0.5698365686063657,-1.8035749767351559,-0.3874065940790944,0.067579353617081,0.08727571498920982,0.6269560165855393,1.048458149949096,-0.9645099822824688,-0.25544097288583156,0.04985262838216497,-0.6533074726028333,0.08924535112642258,2.9747622921432932,1.59798663223149,-0.9822367075173842,-1.1752610489642468,-0.6533074726028333,0.33151059600360716,-1.519947372976501,0.33741950441524604,-1.2776821280993165,1.1666363181818682,-1.6400951773464867,-0.6986091037587299,-0.6001272968980857,1.5566242733500188,0.0616704452054427,-1.6322166327976353,-0.4878580370769512,2.2755414634327207,-0.30862114859057915,0.8278589025812529,-0.8049694551682249,1.2001201325144881,0.1187898931846158,-1.4431315636251985,0.764830546190441,0.24287696982902754,-0.22786606696485115,0.2862089648477107,-0.23574461151370277,-1.1260201455339247,-0.7025483760331553,-0.21210897786714789,1.7496486147968815,-0.661186017151685,2.2066041986302696,-0.5351293043700605,0.04591335610773943,3.224906081569329,-0.3421049629231979,-0.6473985641911945,0.8731605337371494,0.6624094670553714,-0.7478500071890518,1.241482491395958,1.028761788576967,0.6722576477414358,-0.8384532695008443,-1.1535950514549052,-0.6040665691725113,0.3649944103362259,1.3734481125892208,-1.0314776109477062,-0.7813338215216706,-0.6986091037587299,0.8436159916789563,-0.8660281754218248,-1.7070628060117248,0.09318462340084868,-1.2776821280993165,0.4043871330804836,-0.16680734671125194,-1.137837962357202,0.3039356900826267,-0.12150571555535546,0.536352754273747,-0.1608984382996131,-0.2613498812974699,-0.5233114875467832,0.7136200066229063,1.9466122285181695,-1.1949574103363756,-0.47407058411646125,-0.42482968068613924,0.8061929050719114,-0.07620408439945897,0.15227370751723512,1.5093530060569103,0.4457494919619545,1.4640513749010138,2.4567479880563052,0.8869479866976394,-1.5396437343486298,0.26454296733836913,-0.8837549006567402,-1.1260201455339247,-1.2166234078457172,1.3419339343938153,-0.5193722152723572,1.501474461508058,0.5284742097248952,-1.0393561554965578,0.8101321773463375,1.6984380752293462,-0.4386171336466292,-0.8857245367939535,0.24287696982902754,-0.36771023270696557,-0.40907259158843595,-0.09787008190880112,-0.63755038350513,0.400447860806058,1.2060290409261258,-0.06635590371339456,1.8402518771086744,0.08924535112642258,0.10106316794970031,-0.1608984382996131,0.2487858782406664,-1.0216294302616418,0.9795208851466451,0.19757533867313104,-0.6217932944074274,-1.748425164893195,-0.9507225293219782,0.2783304202988596,1.79691988208999,1.2375432191215325,-0.40119404703958433,0.6269560165855393,0.5245349374504698,-0.4169511361372876,-0.13332353237863262,-0.1352931685158454,0.530443845862108,0.6131685636250493,1.8028287905016291,-1.720850258972215,-1.389951387920451,-1.3801032072343866,-1.2205626801201432,0.026216994735610618,0.26257333120115633,-0.20226079718108347,-0.7557285517379029,-0.39331550249073327,0.733316367995035,2.383871450979429,-1.488433194781095,0.7924054521114214,0.7352860041322478,-1.0472347000454096,1.4522335580777361,0.6466523779576682,-0.8423925417752698,0.9145228926186199,-1.900087147458587,-0.2416535199253411,-0.06241663143896903,-1.4273744745274959,-0.9113298065777207,-0.7990605467565867,-1.118141600985073,0.004550997226269039,-0.678912742386601,-0.9389047124987011,-0.531190032095635,-0.7970909106193739,1.2749663057285767,1.066184875184012,0.4654458533340833,-0.25347133674861827,1.2060290409261258,-0.19241261649501906,-1.3643461181366832,-0.45043495046990634,0.3768122271595037,0.19560570253591827,-0.17074661898567747,1.5704117263105088,0.8298285387184663,-0.4386171336466292,0.39847822466884525,1.534958275840678,-0.19438225263223183,-0.18256443580895465,0.7924054521114214,0.28817860098492404,-0.22786606696485115,-0.4425564059210553,-1.415556657704218,-1.309196306294723,1.6078348129175544,-1.4057084770181536,-1.2441983137666976,-0.25544097288583156,-0.46619203956760963,2.399628540077132,-0.5331596682328477,-1.419495929978644,0.8692212614627239,-0.2751373342579604,0.3590855019245876,0.20151461094755713,-1.1398075984944147,1.093759781104992,0.04394371997052666,-0.7793641853844578,1.9269158671460407,0.5146867567644053,-0.44452604205826807,-0.9290565318126367,-0.7183054651308586,1.3340553898449632,-0.36967986884417836,-0.11756644328092992,-2.4397674490549166,-0.42089040841171316,-0.25544097288583156,0.37484259102229034,0.9637637960489419,-0.7458803710518385,0.5008993038039148,0.8810390782860011,0.536352754273747,0.7037718259368418,-0.5528560296049765,0.7845269075625698,-1.0767792421036027,-1.0590525168686866,-1.5494919150346942,-0.25544097288583156,-0.1549895298879742,1.0031565187931994,1.9328247755576797,1.704346983640985,-0.0742344482622462,0.22711988073132425,0.09515425953806145,1.0208832440281155,2.135697297690607,0.06364008134265547,-1.3131355785691485,-1.4451011997624115,0.2349984252801759,0.0577311729310166,-0.710426920582007,-0.23968388378812833,-0.63755038350513,0.1640915243405123,-0.023023908694711406,0.07939717044035818,0.16015225206608674,-0.05256845075290462,0.14045589069395795,-0.5469471211933377,0.02030808632397175,1.1587577736330172,-0.20620006945550956,0.44181021968752837,1.9407033201065307,0.1424255268311707,0.8613427169138723,-0.7557285517379029,1.0681545113212247,-1.068900697554751,1.5566242733500188,1.2257254022982547,0.7727090907392926,-1.5317651897997782,-2.628852518227353,1.241482491395958,0.8928568951092782,0.46347621719687,-1.1673825044153952,-0.18847334422059353,-2.4574941742898324,-1.6657004471302543,0.8652819891882978,0.9361888901279615,-1.5475222788974814,-0.3558924158836884,0.6722576477414358,-0.6198236582702146,0.7668001823276538,-0.7478500071890518,1.339964298256602,1.9249462310088274,-0.125444987829781,-1.5790364570928874,1.2493610359448102,-0.6336111112307046,0.09909353181248699,-0.6080058414469368,-0.03878099779241468,1.739800434110817,0.4792333062945732,-1.285560672648168,0.2290895168685376,-1.91584423655629,0.067579353617081,1.2533003082192358,0.09121498726363592,1.0819419642817152,0.02424735859839785,0.06364008134265547,-0.9211779872637851,1.1607274097702305,0.6565005586437326,1.0583063306351603,-0.24362315606255386,-0.629671838956279,0.10697207636133862,-0.01514536414585977,0.18575752184985386,0.39847822466884525,-0.9113298065777207,0.40635676921769687,-1.340710484490129,-0.8167872719915027,-0.458313495018758,2.2972074609420625,0.02030808632397175,-0.6355807473679173,1.7279826172875394,0.7530127293671638,-2.1049293057287266,-0.6730038339749621,-1.0807185143780282,-0.5804309355259569,0.09712389567527423,0.4299924028642512,-1.236319769217846,-0.09590044577158778,1.0149743356164767,0.5245349374504698,0.27439114802443354,2.848705579361669,0.9598245237745163,-0.6158843859957884,-0.4287689529605648,-0.4819491286653129,0.4536280365108056,-1.2796517642365297,0.3452980489640971,0.055761536793803836,0.6958932813879901,-0.3421049629231979,0.5718062047435785,0.008490269500694578,-0.09590044577158778,0.4792333062945732,0.39059968011999363,0.14439516296838348,0.08530607885199705,0.3669640464734393,1.422689016019543,-0.9723885268313198,0.2960571455337751,-1.0452650639081968,-0.5745220271143181,0.3709033187478648,-0.6336111112307046,0.42408349445261234,0.3059053262198395,-1.7897875237746657,1.2139075854749781,0.49105112311785043,-0.42286004454892645,-0.7872427299333095,-2.0931114889054494,2.0766082135742203,-1.2520768583155493,0.026216994735610618,-0.5587649380166149,-0.43467786137220366,0.28817860098492404,0.530443845862108,-0.588309480074808,-0.5134633068607188,0.5658972963319401,0.9263407094418971,-0.36574059656975283,-0.7261840096797098,0.1325773461451063,0.9243710733046843,1.2158772216121903,-0.9901152520662359,-1.007841977301152,0.5521098433714496,0.481202942431786,0.993308338107135,0.8849783505604266,-1.2973784894714453,0.46347621719687,0.20742351935919545,0.6821058284275002,-0.7892123660705223,-0.38346732180466886,-1.2028359548852272,1.27693594186579,1.5881384515454255,2.9255213887129714,-0.4051333193140104,-1.9040264197330128,1.0760330558700764,-0.17074661898567747,-1.9197835088307158,-0.994054524340662,-0.875876356107889,0.13060771000789353,-2.1718969343939647,-1.671609355541893,-0.9546618015964043,-0.6592163810144722,-0.6828520146610265,-0.1451413492019098,0.4299924028642512,0.17590934116378945,0.7037718259368418,-1.5947935461905904,0.9657334321861546,-3.505340599287085,-0.710426920582007,-1.1220808732594991,0.09712389567527423,-0.3263478738254952,-1.2835910365109553,0.9420977985396003,-0.14711098533912315,0.9027050757953426,-0.23968388378812833,0.796344724385847,-0.18256443580895465,0.8317981748556791,-1.0039027050267264,-0.08014335667388507,0.4713547617457216,0.016368814049546213,-0.17665552739731635,-0.6848216507982393,-0.19438225263223183,-0.9073905343032951,-1.6322166327976353,0.8298285387184663,0.660439830918158,0.4162049499037613,1.0543670583607343,0.9598245237745163,1.0149743356164767,-0.791182002207735,-1.0590525168686866,0.34726768510131045,-0.12741462396699432,1.0602759667723731,-0.30862114859057915,-0.63755038350513,-0.25347133674861827,0.0478829922449522,-2.561884889562115,0.5146867567644053,0.6761969200158614,0.512717120627192,-1.3032873978830841,1.1567881374958038,-0.9782974352429586,0.04985262838216497,1.726012981150327,-0.9664796184196816,-0.265289153571896,-0.6493682003284078,-0.4386171336466292,-0.5981576607608724,-0.8305747249519926,-1.7129717144233632,-0.19241261649501906,-0.9152690788521467,-0.5666434825654665,-0.25938024516025715,-0.11953607941814269,-0.8463318140496959,1.1922415879656358,-0.5843702078003825,0.18181824957542833,0.6742272838786486,-0.5804309355259569,-0.45043495046990634,0.530443845862108,1.326176845296112,-0.5508863934677637,-0.4563438588815452,1.3517821150798797,-1.0905666950640927,0.5402920265481724,0.18772715798706663,0.5698365686063657,-0.1451413492019098,1.6038955406431288,0.3413587766896716,1.4857173724103558,0.7254378234461833,-0.9113298065777207,-0.5824005716631697,0.548170571097024,0.5324134819993208,-0.6040665691725113,0.3492373212385232,-1.6755486278163187,1.7063166197781983,-1.7110020782861506,0.17787897730100224,0.39453895239441916,-1.285560672648168,0.31969277918033,-0.3854369579418816,1.2119379493377647,-1.4588886527229017,-0.3046818763161536,-1.6794879000907441,0.33741950441524604,0.4615065810596572,-0.1352931685158454,-0.328317509962708,-2.2723483773918214,0.13454698228231907,1.1036079617910564,1.5743509985849355,0.4024174969432708,0.010459905637907347,0.4871118508434249,2.054942216064878,-1.5928239100533776,-0.9192083511265723,-0.14317171306469703,0.652561286369307,-0.5331596682328477,0.660439830918158,-1.2698035835504653,0.2606036950639436,0.49892966766670205,-0.7970909106193739,-1.019659794124429,-0.7852730937960961,0.5205956651760436,-1.3348015760784901,-0.8384532695008443,0.351206957375736,-0.0840826289483106,0.08924535112642258,-0.9369350763614883,-0.45043495046990634,1.3931444739613497,1.1173954147515464,1.822525151873758,0.21727170004525986,-0.19241261649501906,-1.2560161305899749,-0.5430078489189121,0.8692212614627239,-0.9861759797918104,1.1902719518284237,-0.822696180403141,-1.4352530190763468,1.3202679368844732,1.1390614122608884,-1.4588886527229017,2.210543470904695,-0.3381656906487724,-0.8187569081287155,0.48908148698063764,2.4587176241935187,0.010459905637907347,-1.6164595436999323,3.28005589341129,0.010459905637907347,0.9066443480697682,-1.0570828807314738,-0.395285138627946,-0.01514536414585977,0.5324134819993208,0.6072596552134105,-1.9138746004190772,-0.32437823768828244,-0.18059479967174188,0.5166563929016181,-1.4588886527229017,-0.9842063436545976,0.38272113557114196,-2.697789783029804,-0.858149630872973,0.03803481155888779,0.3768122271595037,-0.5942183884864469,0.5974114745273461,-0.0013579111853698278,-0.19832152490665794,0.5777151131552173,1.7476789786596683,-0.30074260404172753,-1.1949574103363756,-0.4543742227443325,-1.236319769217846,-1.1634432321409696,0.148334435242809,0.4654458533340833,0.2999964178082012,-0.0781737205366723,-0.5213418514095706,-0.33422641837434686,0.17393970502657669,0.6269560165855393,0.17393970502657669,-0.48391876480252566,0.8416463555417435,-0.35195314360926233,-0.12741462396699432,-0.31059078472779195,0.0518222645193783,0.5974114745273461,0.4024174969432708,1.6098044490547665,0.4201442221781868,1.3084501200611967,1.8894927805389965,-1.535704462074204,-1.638125541209274,-0.5981576607608724,0.1424255268311707,0.796344724385847,-0.8049694551682249,-0.25544097288583156,-0.8364836333636315,0.1542433436544479,0.9795208851466451,-1.3505586651761934,-0.6749734701121749,-0.611945113721363,0.24681624210345307,1.101638325653844,0.8298285387184663,-0.47013131184203516,-1.0787488782408154,0.8928568951092782,0.7116503704856935,-1.169352140552608,-0.6257325666818528,-0.0013579111853698278,-0.24756242833697994,-0.060446995301756255,-1.4313137468019212,0.2606036950639436,1.318298300747261,0.15818261592887342,-2.063566946847256,0.41423531376654793,-1.2304108608062077,-0.9999634327523003,1.3970837462357764,0.5402920265481724,-0.30074260404172753,0.7687698184648666,1.5566242733500188,0.7057414620740545,0.5639276601947274,-0.21210897786714789,-0.31059078472779195,1.0740634197328631,-0.5981576607608724,0.27045187575000795,-1.0039027050267264,0.26454296733836913,-0.265289153571896,1.318298300747261,0.9007354396581299,-2.215228929412648,1.2119379493377647,-2.5106743499945803,-0.04272027006684022,-1.0452650639081968,0.9558852515000902,0.13651661841953183,-1.1890485019247368,0.666348739329797,-0.38346732180466886,-1.0098116134383648,-0.2948336956300892,0.1837878857126411,-0.11953607941814269,0.8160410857579757,0.12075952932182914,-0.2002911610438707,-0.6454289280539817,-2.1581094814334745,-0.19241261649501906,0.11091134863576473,0.8574034446394462,0.8731605337371494,0.5974114745273461,0.7372556402694606,-0.9723885268313198,-1.2422286776294849,-2.197502204177732,0.3413587766896716,-0.08605226508552337,-1.3525283013134062,0.9322496178535359,-0.18059479967174188,1.0070957910676255,1.395114110098563,-0.5134633068607188,0.9893690658327096,1.6157133574664053,-0.6867912869354521,-0.9960241604778748,0.536352754273747,-0.026963180969136944,2.02933694628111,1.3281464814333255,0.27045187575000795,-2.7529395948717643,0.6052900190761977,0.3256016875919683,-1.3879817517832382,-1.4372226552135603,0.6052900190761977,0.1837878857126411,-1.1752610489642468,-0.9034512620288689,-0.9448136209103399,1.235573582984319,-0.9290565318126367,0.7707394546020798,-1.4628279249973273,-0.37361914111860445,1.079972328144502,-0.007266819597008135,-0.7045180121703681,-0.47800985639088683,-1.1437468707688407,0.863312353051085,-0.07620408439945897,0.9204318010302587,-0.5114936707235062,0.26454296733836913,0.12666843773346745,-1.6420648134836997,-0.2908944233556631,0.8219499941696147,1.6019259045059153,-0.05453808689011739,-0.5292203959584216,-0.36967986884417836,0.3413587766896716,-0.6887609230726655,0.9145228926186199,0.5580187517830885,0.17590934116378945,-0.14711098533912315,-1.2205626801201432],\"type\":\"scatter3d\"},{\"hovertemplate\":\"Churn=1<br>Total day minutes=%{x}<br>Total eve minutes=%{y}<br>Total night minutes=%{z}<br>Cluster=%{marker.color}<extra></extra>\",\"legendgroup\":\"1\",\"marker\":{\"color\":[0,0,1,0,1,0,0,0,0,0,0,0,1,0,0,1,0,0,0,1,0,0,0,0,0,1,0,0,1,0,0,0,0,0,0,0,0,0,0,0,0,0,0,0,0,0,0,1,1,0,0,1,1,0,1,0,0,0,1,0,0,0,0,0,1,0,0,0,0,0,0,0,0,0,1,0,0,0,0,0,1,0,0,0,0,0,0,0,1,0,1,1,0,0,1,0,0,0,1,0,0,1,0,0,0,1,0,0,0,0,0,0,0,0,1,1,1,1,0,0,0,0,0,0,0,0,1,0,0,0,0,0,0,0,0,0,0,0,0,1,0,1,1,0,0,1,0,0,0,0,1,0,0,1,0,0,0,0,0,0,0,0,0,0,0,0,0,0,0,0,0,0,0,0,0,0,0,0,0,0,0,0,0,0,0,0,1,0,0,0,0,1,0,0,0,0,0,0,1,0,0,0,1,1,0,0,1,0,0,0,0,0,0,0,0,0,0,0,0,0,0,0,1,0,0,0,0,0,0,0,0,0,0,0,0,0,0,0,0,0,0,0,0,0,0,0,0,0,0,0,0,0,0,0,0,1,0,0,1,0,0,0,1,1,1,0,0,0,0,0,1,0,0,1,0,0,0,0,0,0,0,0,0,0,0,0,0,0,0,0,1,0,1,0,0,0,0,1,0,0,0,0,0,1,0,0,0,0,0,1,1,0,0,0,1,0,1,0,0,0,0,0,1,0,0,0,0,0,1,0,0,0,0,0,0,0,0,0,1,0,0,0,1,0,0,0,0,0,1,0,0,0,0,0,0,0,0,0,0,0,0,0,0,0,0,0,0,0,0,0,0,1,0,0,0,0,0,1,0,0,0,0,1,1,0,0,0,0,0,0,0,0,0,0,0,0,1,0,1,0,0,0,0,0,0,0,0,0,1,0,0,1,0,0,0,1,1,0,0,0,1,0,0,0,0,1,0,0,0,0,0,1,0,0,0,0,0,0,0,0,1,0,0,0,0,0,1,0,0,0,0,0,1,0,0,0,0,0,1,0,0,1,0,0,0,0,0,1,0,0,0,0,0,0,0,0,0,0,0,0,0,0,0],\"coloraxis\":\"coloraxis\",\"opacity\":0.7,\"symbol\":\"diamond\"},\"mode\":\"markers\",\"name\":\"1\",\"scene\":\"scene\",\"showlegend\":true,\"x\":[-2.1601702331866517,1.2936926895622558,-0.11774167790724975,-0.5254893840651068,0.3490464200924693,-0.010730967693875257,2.229113897806752,-2.1749303311471175,0.5741379139895667,-0.3981835391560925,1.0778262568904493,0.6018130976654393,0.3195262241715386,1.9007017181863963,-2.007034216846823,0.14794008538112788,-0.2284424126107404,2.913613440723335,-2.237660747479095,2.092582991672446,0.8711848854439331,1.3047627630326049,2.4449803304785585,-0.8188463310293571,0.3508914323375274,-0.4074086003813834,1.7088204447003463,1.2770875793567322,0.8121444936020716,1.7180455059256372,-0.9443071636933128,0.6184182078709631,-1.337294771890705,1.4320686079416196,3.1608450815611313,0.7106688201238719,-0.25796260853167113,0.9246902405506204,-0.2247523881206237,-0.4129436371165581,1.1110364773014962,-0.14726187382818048,1.3066077752776635,1.8176761671587782,1.4191535222262115,1.574134550811099,-0.023646053409282813,0.8619598242186423,-1.5291760453767553,-0.900026869811917,0.6903736854282321,-0.16017695954358752,1.5944296855067384,-1.9590638984753106,1.0704462079102166,-0.12327671464242397,2.0040224039096546,-0.09929155545666797,0.7678641997206753,0.5519977670488688,1.0095608038232964,-0.3649733187450456,2.87855820806723,2.0999630406526797,0.7512590895151516,2.2143537998462866,1.5169391712142952,0.7918493589064318,1.692215334494822,-0.32069302486364926,-0.6361901187685974,0.9486753997363769,-0.0476312125950388,1.5888946487715647,1.6977503712299968,2.4929506488500714,-0.21737233914039142,0.020634240472113548,1.6313299304079019,1.6959053589849382,-0.23213243710085651,-1.0826830820726765,2.622101506004144,1.4855739630483065,0.22912062416368778,1.6294849181628444,1.989262305949189,-0.9904324698197675,-0.21368231465027476,1.4376036446767932,-0.08453145749620235,-0.8354514412348808,1.8176761671587782,3.0870445917588043,1.6313299304079019,1.8047610814433712,1.548304379380284,0.27155590580002553,0.6737685752227084,-1.246889171882854,-0.0476312125950388,0.40439678744421464,-0.267187669756962,0.17746028130205863,-0.578994739171794,1.675610224289299,-1.3483648453610537,0.25495079559450234,-0.8834217596063934,1.9855722814590728,1.0261659140288202,1.0575311221948094,1.6866802977596473,1.1719218813884162,-0.32069302486364926,0.12764495068548803,0.8342846405427696,-0.9037168943020332,-1.0660779718671527,1.2586374569061505,-1.2413541351476796,1.5556844283605173,1.679300248779415,0.1793052935471167,-1.8612782494872273,-0.8741966983811024,-0.4867441269188852,2.616566469268969,1.0593761344398676,-0.5771497269267359,-3.3114578741029543,-0.8446765024601717,1.9597421100282577,0.7069787956337558,1.2088221262895797,-1.245044159637796,1.2217372120049868,1.6645401508189495,-0.5550095799860375,-1.233974086167447,0.2992310894758982,-0.10113656770172605,0.02985930169740443,1.7309605916410442,-0.8520565514404039,-0.48120909018371044,0.6350233180764868,0.8084544691119555,1.5114041344791205,-2.453527180150902,-0.5457845187607466,1.1571617834279506,1.474503889577957,-0.42401371058690707,-2.18231038012735,-0.2598076207767292,1.0593761344398676,1.1590067956730092,1.0501510732145767,-1.112203277993607,-0.3705083554802198,2.072287856976807,0.8453547140131191,-0.9627572861438949,1.1350216364872527,2.7733925100989145,1.6387099793881352,-1.1804687310607598,-1.0919081432979674,1.826901228384069,-0.8926468208316842,1.640554991633193,0.9837306323924824,1.9726571957436647,-0.0033509187136424434,-1.224749024942156,-0.3354531228241143,0.2032904527328732,1.2125121507796959,-0.8649716371558115,-1.0605429351319782,1.1626968201631254,-0.4775190656935943,1.976347220233782,0.14425006089101172,-2.3114612372814225,-0.8040862330688915,0.17746028130205863,1.9855722814590728,-0.2524275717964964,0.7900043466613738,-0.5955998493773178,1.3877883140602227,-0.5568545922310956,1.0981213915860892,2.138708297798901,-0.3170030003735326,1.7198905181706947,-0.4313937595671399,0.8435097017680605,1.2992277262974306,1.7770858977674986,0.8527347629933514,-0.21552732689533283,-0.5328694330453396,1.487418975293365,-0.911096943282266,-0.9369271147130805,-0.45168889426277975,1.0538410977046928,1.0759812446453914,0.45236710581572714,1.7162004936805786,1.9726571957436647,2.7420273019329255,-0.6195850085630737,0.7032887711436391,1.6663851630640079,1.5077141099890043,0.9117751548352133,2.0464576855459917,2.1885236284154725,0.7863143221712571,1.0464610487244599,-0.7911711473534845,2.0353876120756436,0.3084561507011891,-0.12143170239736589,1.343508020178827,-1.5310210576218135,1.2973827140523726,0.8582697997285261,1.6700751875541242,-2.4313870332102034,-1.6601719147758858,1.3250578977282452,-2.429542020965146,-0.18969715546451876,-0.6361901187685974,1.8342812773643014,0.6959087221634063,2.2826192529134386,-0.8520565514404039,-0.2358224615909732,1.7900009834829056,0.8785649344241659,1.2143571630247545,-0.6675553269345863,1.6903703222497646,-0.2284424126107404,-0.40002855140115057,0.007719154756706515,1.740185652866335,-0.0956015309665513,2.295534338628846,-1.0291777269659892,0.9062401181000386,0.4154668609145636,0.5538427792939269,2.1848336039253553,0.6147281833808469,2.1294832365736096,-0.6730903636697609,0.4025517751991565,0.4431420445904362,2.708817081521878,-0.5974448616223759,-0.36128329425492894,-1.8040828698904237,-1.3003945269895412,-1.2893244535191923,1.8453513508346508,-0.769031000412786,-0.3170030003735326,-1.6029765351790823,-1.0402478004363385,-1.1896937922860507,0.09627974251949871,2.116568150858203,1.474503889577957,2.551991040691933,2.4449803304785585,-0.8834217596063934,-1.03840278819128,3.0593694080829317,1.5759795630561566,0.8416646895230024,-0.3151579881284745,0.8250595793174788,2.194058665150646,-0.4055635881363253,0.8748749099340498,2.6368616039646087,1.2346522977203944,2.002177391664596,2.25125404474745,-1.47382567802501,0.35642646907270215,1.4099284610009213,1.8158311549137196,0.8379746650328863,2.382249914146581,-0.6398801432587136,1.500334061008772,2.4837255876247806,2.0612177835064576,1.5187841834593538,1.2125121507796959,0.6774585997128245,-0.19338717995463492,-1.3741950167918684,1.7438756773564512,1.0667561834201003,-0.45722393099795444,0.7180488691041047,-0.06977135953573724,-1.2598042575982613,1.4486737181471427,1.3269029099733032,-0.22290737587556564,-0.9277020534877897,-0.995967506554942,-1.650946853550595,-0.3077779391482417,-1.0144176290055238,1.9597421100282577,1.6903703222497646,-1.307774575969774,-1.6546368780407112,1.8416613263445347,-0.29670786567789276,-0.5623896289662703,2.016937489625062,1.9911073181942465,1.2235822242500454,-1.1380334494244218,1.1571617834279506,0.0483094241479862,-0.21183730240521667,1.4191535222262115,1.022475889538704,0.9966457181078894,0.32875128539682946,-0.8077762575590082,0.8564247874834681,-1.0550078983968036,1.5981197099968556,1.609189783467204,-1.2727193433136685,-1.7302823800880964,1.7198905181706947,-0.38895847793080157,-0.4609139554880706,2.317674485569545,-0.8852667718514514,0.8638048364637009,-0.7413558167369133,2.0685978324866907,-0.1804720942392279,2.635016591719551,-0.7634959636776117,0.4874223384718326,0.782624297681141,-0.6694003391796448,1.2549474324160341,0.8564247874834681,-1.401870200467741,1.2420323467006271,-0.08822148198631902,1.116571514036671,2.1257932120834937,-0.9922774820648256,0.8656498487087589,1.5685995140759244,1.3951683630404557,1.2770875793567322,-1.0568529106418618,-1.4074052372029155,-0.757960926942437,1.9689671712535486,1.61287980795732,-1.3317597351555304,0.36934155478810915,-0.13619180035783152,0.1221099139503133,-0.7284407310215063,2.6128764447788533,-1.1269633759540725,-0.9295470657328477,2.830587889695717,-0.37604339221539457,0.44129703234537815,1.334282958953536,2.7125071060119943,-0.8317614167447641,-2.156480208696536,0.19037536701746616,2.295534338628846,-0.12512172688748255,1.6073447712221465,-0.16755700852382033,2.1571584202494827,1.0464610487244599,1.0132508283134132,0.22912062416368778,0.5870529997049743,-0.4701390167133615,1.8508863875698256,-0.7874811228633678,0.8970150568747477,-1.6564818902857694,0.7604841507404425,-0.4037185758912672,1.5722895385660405,1.2992277262974306,-1.7026071964122238,-0.9701373351241275,-0.5716146901915612,2.6387066162096673,0.3711865670331672,-0.5070392616145251,2.8564180611265324,-0.4664489922232454,2.635016591719551,-0.4627589677331287,-0.3594382820098709,0.9265352527956785,1.6018097344869717,-1.525486020886639,1.9357569508425012,-0.6694003391796448,-1.7930127964200746,1.7420306651113926,-0.4701390167133615,-0.8871117840965095,1.6516250651035422,2.107343089632912,-0.9184769922624988,1.6460900283683675,1.7826209345026733,0.004029130266589846,-1.800392845400307,-0.48858913916394325,-2.005189204601765,1.8785615712456984,1.0796712691355075,-0.40002855140115057,1.6553150895936586,1.2973827140523726,0.9708155466770748,1.6165698324474373,2.4671204774192566,0.2955410649857821,1.7291155793959856,-0.36866334323516176,1.1110364773014962,1.1147265017916128,0.33797634662212034,-0.6029798983575501,-0.21552732689533283,-1.2265940371872142,0.5852079874599156,1.2494123956808594,0.9542104364715511,1.129486599752078,1.3951683630404557,1.8379713018544186,1.2494123956808594,1.0999664038311472,1.5538394161154587,2.6792968856009467,1.596274697751797,2.14977837126925,1.7973810324631379,1.9911073181942465,-0.9387721269581386,-1.1878487800409925,0.8933250323846316,1.7032854079651716,-1.2210590004520396,2.0224725263602363,2.1313282488186682,1.8545764120599417],\"y\":[-0.5984489011277974,1.021041251063971,0.06897734341184054,0.37913424528614253,-2.455464275641025,-0.6141530480581421,-0.38055386246926864,-2.4201299450477505,0.958224663342593,-0.8909386377054623,0.9268163694819044,0.17694335355795843,1.0701167102212974,0.383060282018729,-0.8418631785481361,-1.055832180474079,-0.44925950528952546,0.530286659490708,-1.2109106314112301,-0.013469427972468008,0.544027788054759,1.3096049509090502,-1.3934713394764837,-1.3012094762607105,1.3233460794731013,-1.6192184516001848,1.3370872080371525,0.3850233003850219,-0.22743842989841032,0.9484095715111278,-0.06450790549608727,-0.46692667058616305,-1.8587066922879374,2.1949262341072164,0.3163176575647651,-1.6879240944204417,1.6845414588710226,0.10431167400511515,0.5813251370143272,-0.30399614618383947,1.6197618527833517,-0.7927877193908097,1.1820087571000018,-0.4649636522198701,1.443090199816977,0.8836299654234574,-0.6396722868199514,-0.36877575227151044,2.257742821828594,1.1820087571000018,0.13768298623209738,-0.01739546470505389,0.3025765290007139,-0.7653054622627069,1.0406714347269017,-0.33933047677711464,1.1309702795763819,0.9955220123021612,1.2664185468506022,2.8839456806760784,1.8199897261452438,-0.05665583203091494,0.23779692291304297,-0.2333274849972897,-0.29614407271866716,0.5165455309266562,0.20049957395347484,2.4854529523185884,0.04345810465003063,-0.8909386377054623,-0.48263081751650716,0.84044356136501,-0.6377092684536584,0.16516524336020025,1.0406714347269017,-0.6004119194940903,-2.0942688962431038,-0.1862150442062563,0.4439138513738135,-0.19603013603772157,0.40857952078053833,-0.6004119194940903,1.0053371041336265,0.19853655558718192,-2.5418370837579194,2.2773730054915244,1.7198757894642978,0.1435720413309762,-0.19014108093884274,1.191823848931467,0.9385944796796626,-0.7437122602334834,1.2958638223449979,0.9641137184414724,1.235010252989914,0.5499168431536384,0.5872141921132066,0.9621507000751796,0.6264745594390676,-1.695776167885614,-1.915634224910436,0.9052231674526808,0.04345810465003063,0.8973710939875086,-0.69659981944245,0.29079841880295515,0.7795899920099254,-1.4150645415057073,0.21424070251752655,-0.4315923399928879,1.009263140866213,1.274270620315775,0.506730439095191,-0.32362632984677,-0.5611515521682293,0.012049810789341902,-1.2933574027955381,0.15731316989502792,-1.4641400006630338,1.356717391700083,0.18086939029054433,0.9994480490347476,0.5813251370143272,-0.31381123801530475,-0.2568837053928061,-1.2069845946786437,-0.28436596252090895,-0.6377092684536584,-0.8399001601818431,0.3928753738501942,-0.8006397928559821,-0.24706861356134083,0.5989923023109648,0.3968014105827801,0.9876699388369888,-0.13125052995005118,0.8149243226032006,0.14160902296468328,-0.5591885338019363,1.2036019591292246,0.17105429845907905,0.17694335355795843,0.3045395473670069,1.2408993080887933,-0.34325651350970054,-0.9616072988920121,1.1800457387337082,-0.6534134153840031,0.30061351063442043,-0.28240294415461603,-0.5788187174648669,0.504767420728898,-0.5434843868715923,0.173017316825372,-2.1217511533712066,1.439164163084391,-0.05272979529832906,2.9546143418626274,1.7061346609002466,-0.6298571949884861,-0.40999913796366444,0.2731312535063181,-1.809631233130611,0.4301727228097624,0.6166594676076024,0.15535015152873496,-0.29221803598608126,0.3477259514254538,0.7854790471088048,0.7913681022076836,-0.7829726275593445,-0.9773114458223567,2.0221806178734276,0.10431167400511515,0.16712826172649317,-0.6200421031570208,-1.4916222577911364,1.1643415918033637,1.0544125632909527,0.4066165024142454,0.3889493371176078,0.8836299654234574,0.6382526696368258,0.44783988810639935,-0.7790465908267585,2.0182545811408414,0.8659628001268198,0.44783988810639935,-0.8065288479548609,-0.2038822095028939,1.6806154221384366,-0.7908247010245167,1.0171152143313846,-0.26080974212539254,1.4254230345203398,0.6225485227064812,-1.0067567213167525,0.7069583124570826,-1.8312244351598348,-0.30399614618383947,1.062264636756125,-0.21369730133435916,-1.5858471393732032,0.09645960053994339,-0.6141530480581421,1.1015250040819862,-0.655376433750296,0.5243976043918286,-1.3149506048247617,-0.5984489011277974,0.16712826172649317,-0.6259311582559002,0.504767420728898,-0.43551837672547433,-0.9557182437931333,0.15338713316244149,1.543204136497923,0.5577689166188108,0.9896329572032824,1.0858208571516414,1.050486526558367,0.017938865888221283,-0.7810096091930515,1.443090199816977,0.17694335355795843,1.0838578387853486,-0.46888968895245603,-0.34129349514340757,0.12983091276692507,0.19264750048830254,1.2075279958618106,2.045736838268945,1.1034880224482797,1.256603455019137,2.7386823215703915,1.0230042694302641,-0.42177724816142265,-0.5317062766738335,1.8435459465407602,-0.19995617277030803,2.0221806178734276,-0.5866707909300392,0.9307424062144908,-0.41392517469625034,-0.09395318099048305,-1.5681799740765656,1.1682676285359495,0.5950662655783784,0.7187364226548408,-1.3463588986854504,0.05523621484778884,-0.5964858827615045,1.7532471016912794,-1.1814653559168344,0.6245115410727742,-0.5454474052378852,-1.3267287150225198,-0.3157742563815977,-1.7821489760025084,0.7403296246840644,-0.20780824623547978,-0.1489176952466882,0.2319078678141636,0.0650513066792541,-0.0016913177747092446,-0.6926737827098641,-0.7731575357278792,-0.40214706449849213,0.19264750048830254,1.1564895183381918,0.9601876817088866,0.05523621484778884,0.4988783656300192,1.5490931915968025,-0.7554903704312416,0.2652791800411458,-1.5328456434832907,1.2094910142281041,0.6304005961716536,1.360643428432669,-0.9321620233976163,-0.40018404613219916,-0.41392517469625034,-0.2038822095028939,0.059162251580375275,1.5863905405563699,1.5530192283293882,-0.655376433750296,2.2479277299971283,1.3763475753630134,-0.2117342829680662,-0.35699764207375223,1.625650907882231,-0.36092367880633813,1.087783875517935,1.1250812244775026,2.1262205912869594,-0.6632285072154683,-1.1677242273527826,-0.8752344907751177,0.9739288102729378,-0.9733854090897703,0.004197737324169579,-0.7201560398379669,0.4321357411760553,0.6637719083986352,0.8757778919582851,0.33005878612881623,3.2058806927481385,-0.22743842989841032,-0.38840593593444095,0.6166594676076024,-0.4649636522198701,-0.4433704501906461,0.7128473675559615,0.2240557943489918,1.2389362897224998,0.9052231674526808,-0.07432299732755253,-1.110796694730284,0.2692052167737317,-1.403286431307949,1.4902026406080109,0.5734730635491548,-1.1618351722539038,-0.6455613419188307,0.7265884961200132,0.1867584453894237,0.6441417247357046,0.023827920987100105,0.7795899920099254,-1.362063045615795,-0.48066779915021424,1.1623785734370713,1.6943565507024878,-0.02328451980393327,0.504767420728898,-1.2855053293303658,-0.7299711316694323,0.277057290238904,1.382236630461893,-0.24903163192763433,-1.1637981906201968,0.15731316989502792,1.4764615120439597,-1.6015512863035475,0.48710025543226043,-0.8281220499840849,0.15535015152873496,0.41643159424571063,0.4812112003333816,-0.24314257682875495,0.27116823514002464,-0.24314257682875495,-0.5022610011794377,1.4509422732821498,-0.15873278707815347,0.4066165024142454,-1.1579091355213174,0.5891772104794996,-0.8281220499840849,1.5117958426372338,1.5274999895675783,-0.40999913796366444,0.4910262921648469,1.937770828122827,-1.6192184516001848,0.11608978420287391,-1.028349923345976,-1.3012094762607105,1.8494350016396397,1.4823505671428379,1.5000177324394761,-0.1253614748511718,1.305678914176463,-0.551336460336764,-1.3483219170517438,0.7049952940907898,-0.8143809214200332,-0.2588467237590996,0.5754360819154478,0.7422926430503572,-1.283542310964073,0.4556919615715717,-0.03506263000169148,-0.07824903406013842,1.278196657048361,0.9601876817088866,0.5518798615199314,2.3048552626196277,0.6068443757761371,-0.1862150442062563,0.10431167400511515,-0.4728157256850419,0.21424070251752655,-0.38840593593444095,-1.511252441454067,1.1878978121988801,-1.5760320475417378,1.2644555284843098,2.946762268397456,0.2829463453377834,0.35754104325691904,1.5490931915968025,1.0936729306168145,-1.8606697106542305,2.540417466574794,0.9484095715111278,0.008123774056756019,1.4941286773405966,1.1721936652685365,0.33987387796028146,-0.12339845648487885,2.0535889117341166,0.8267024328009588,-0.6102270113255556,-0.657339452116589,0.3732451901872637,0.08271847197589169,0.2162037208838195,1.1466744265067266,-0.1626588238107399,-1.729147480112596,0.424283667710883,-0.6298571949884861,0.17890637192425138,2.662124605284963,0.1455350596972697,-1.134352915125801,-0.8516782703796013,-2.2041979247555146,1.0936729306168145,1.5353520630327513,-0.029173574902812093,0.37913424528614253,0.6539568165671699,1.4156079426888746,-0.44925950528952546,1.9750681770823946,0.014012829155634843,0.3477259514254538,1.0485235081920738,-1.1637981906201968,0.2986504922681275,1.9848832689138598,1.5333890446664578,-0.7633424438964139,-0.12928751158375767,0.8247394144346658,2.4874159706848817,-0.39233197266702685,0.3123916208321792,-0.5650775889008157,0.21031466578494012,1.4744984936776662,1.5962056323878353,1.2016389407629322,-1.3051355129932964,1.672763348673265,0.20835164741864717,-0.6121900296918491,2.2008152892060955,2.0280696729723067,1.3233460794731013,1.3547543733337895,0.5931032472120854,-0.39036895430073393,0.4929893105311398,0.8463326164638894,-0.27258785232315075,0.7069583124570826,0.27902030860519694,0.5106564758277774,0.9130752409178532,0.6853651104278592,0.3104286024658857,0.21424070251752655,2.006476470943084,0.7226624593874268,-0.04880375856574262,0.6559198349334634,0.4556919615715717,0.03560603118485831],\"z\":[0.16606116047772507,1.5566242733500188,-1.5554008234463328,0.05379190065659106,-0.39331550249073327,-1.0354168832221324,1.3576910234915187,-0.5548256657421893,-0.19241261649501906,-0.22786606696485115,0.15227370751723512,-0.6690645617005366,-1.2382894053550588,-0.6139147498585757,-0.9132994427149334,0.4831725785689988,0.9499763430884519,-0.9310261679498495,-1.267833947413252,1.066184875184012,-2.5205225306806445,-0.9881456159290231,0.32363205145475554,0.431962039001464,3.0279424678480407,1.53692791197789,0.2487858782406664,1.2710270334541511,-0.9113298065777207,-0.0742344482622462,-1.236319769217846,1.2099683132005525,0.8258892664440401,-0.35786205202090116,1.0386099692630315,1.339964298256602,-0.044689906204052984,-0.6887609230726655,-0.18650370808338076,-0.0781737205366723,0.733316367995035,0.22121097231968595,-0.12150571555535546,0.3610551380618004,0.42408349445261234,-0.8010301828937995,-0.37558877725581724,1.1351221399864628,-0.7458803710518385,0.8475552639533818,0.4043871330804836,-0.6198236582702146,-1.8331195187933491,0.7569520016415894,1.2611788527680867,-0.8345139972264182,-0.17271625512289024,1.1114865063399084,-0.6355807473679173,0.8830087144232138,-0.3401353267859851,-1.5672186402696102,1.2572395804936614,1.2946626671007055,0.07742753430314542,0.18772715798706663,1.093759781104992,0.13454698228231907,0.4024174969432708,-0.22589643082763838,0.44377985582474117,-0.36967986884417836,-0.37361914111860445,-0.36771023270696557,-0.7045180121703681,1.6531364440734508,0.7904358159742086,1.8599482384808033,1.2119379493377647,1.6452578995245986,-0.07620408439945897,-0.1392324407902715,-1.1831395935130984,0.660439830918158,0.0715186258915071,0.14636479910559624,1.27693594186579,0.1227291654590419,-0.1608984382996131,0.06364008134265547,-0.7202751012680714,-0.2869551510812376,0.4516584003735928,1.4620817387638003,-0.4543742227443325,-1.6519129941697641,-0.6020969330352985,1.0583063306351603,0.28226969257328516,-1.0708703336919638,0.24681624210345307,-0.9132994427149334,-0.5686131187026793,0.8042232689346986,0.29211787325934957,1.0405796054002443,-1.0531436084570485,-0.7695160046983934,-0.6473985641911945,-0.9448136209103399,1.668893533171153,-0.9605707100080426,-0.440586769783842,-0.3322567822371335,1.1548185013585917,1.6846506222688562,-1.5928239100533776,-1.173291412827034,1.1902719518284237,-0.6670949255633233,1.1764844988679326,-0.021054272557498636,-1.2835910365109553,1.0760330558700764,-0.33422641837434686,-0.1687769828484647,0.4555976726480189,-0.1490806214763359,0.7845269075625698,-1.3190444869807874,-0.6710341978377494,-0.3795280495302428,0.5816543854296429,1.4995048253708458,1.3596606596287308,0.15227370751723512,1.6570757163478764,0.25666442278951745,0.26257333120115633,-1.5297955536625654,-0.0013579111853698278,0.4516584003735928,0.2980267816709884,-0.7084572844447942,0.7864965436997826,-0.9329958040870622,0.6427131056832426,0.036065175421675026,1.3911748378241373,-0.6631556532888977,-0.5843702078003825,1.0011868826559867,1.822525151873758,-0.8364836333636315,-0.0742344482622462,0.17393970502657669,2.125849117004542,-0.7498196433262646,-0.18059479967174188,0.06954898975429377,-0.6572467448772589,-0.9842063436545976,-1.2126841355712916,-0.5370989405072732,0.37484259102229034,1.2986019393751322,1.2493610359448102,1.0583063306351603,0.2999964178082012,-1.5987328184650162,0.11288098477297749,1.9052498696366986,1.0720937835956503,-0.19241261649501906,0.9263407094418971,1.2158772216121903,1.1981504963772749,-1.1752610489642468,0.7530127293671638,-1.4431315636251985,-0.42286004454892645,0.36302477419901313,0.25666442278951745,0.04985262838216497,1.233603946847107,-0.5784612993887436,0.12469880159625467,1.3360250259821764,0.3078749623570528,-1.1260201455339247,0.9499763430884519,-0.3381656906487724,-0.4543742227443325,-1.0117812495755774,1.5172315506057614,0.06364008134265547,1.0701241474584375,0.6761969200158614,-0.6592163810144722,-1.141777234631628,1.4187497437451173,0.44771912809916725,-0.15695916602518753,-1.401769204743728,0.39453895239441916,0.5501402072342368,0.8574034446394462,-0.4543742227443325,-0.49376694548859007,0.21924133618247318,-0.6572467448772589,-0.7320929180913486,-0.8286050888147799,0.25666442278951745,2.0155494933206204,-0.39922441090237154,0.975581612872219,1.1095168702026952,-0.49573658162580286,0.13454698228231907,1.2237557661610425,0.26651260347558187,0.34726768510131045,0.5087778483527665,-0.7892123660705223,0.8199803580324019,0.6151381997622621,0.4969600315294893,1.6432882633873864,-1.0787488782408154,-0.6769431062493877,-0.39331550249073327,-0.6434592919167689,0.6702880116042225,-0.5567953018794021,-1.6322166327976353,-0.9566314377336171,0.301966053945414,0.7608912739160154,1.0642152390467987,-0.08014335667388507,0.5205956651760436,0.351206957375736,0.8180107218951885,0.17984861343821557,-1.6578219025814027,0.0616704452054427,0.2586340589267308,0.7628609100532282,-0.2711980619835343,-0.6395200196423434,-0.20816970559272233,1.3379946621193899,0.28030005643607236,-1.0649614252803257,1.562533181761658,0.512717120627192,-0.49573658162580286,-0.22589643082763838,0.7746787268765054,-0.611945113721363,-1.0452650639081968,-1.8961478751841612,-1.4037388408809408,0.2527251505150919,-0.7537589156006902,1.4719299194498647,-0.9211779872637851,0.2133324277708343,-0.37558877725581724,2.3641750896073,-0.531190032095635,-1.1023845118873705,-0.16680734671125194,1.6511668079362374,-0.3204389654138563,0.863312353051085,0.7549823655043766,-0.12150571555535546,-0.5095240345862928,-1.5317651897997782,-0.6414896557795562,0.9854297935582834,-0.6080058414469368,0.32166241531754275,-0.6907305592098781,0.6427131056832426,-1.4234352022530696,-0.35983168815811395,-1.8488766078910521,0.5087778483527665,0.05379190065659106,0.1640915243405123,-0.858149630872973,0.634834561134391,-1.3446497567645546,-0.7872427299333095,-0.05256845075290462,2.1219098447301157,1.0976990533794175,0.2940875093965623,-0.048629178478479085,0.15030407138002236,1.389205201686924,1.1390614122608884,-0.18650370808338076,0.018338450186758982,0.8258892664440401,-1.466767197271753,0.23893769755460198,-0.5331596682328477,1.6235919020152576,1.2257254022982547,-0.5567953018794021,-0.17665552739731635,-1.2461679499039104,0.46347621719687,-0.5508863934677637,-0.18059479967174188,-1.2028359548852272,0.27045187575000795,0.999217246518774,-0.31453005700221803,2.5906832453867814,1.3202679368844732,1.1587577736330172,-1.0984452396129443,0.4221138583153996,-0.6986091037587299,1.5684420901732967,-0.7320929180913486,0.7372556402694606,0.28030005643607236,-0.9448136209103399,0.7786179991509309,0.845585627816169,1.3281464814333255,-0.9625403461452554,-0.5607345741538281,0.6407434695460292,0.35711586578737486,-1.55343118730912,0.21530206390804707,0.1542433436544479,0.004550997226269039,-1.0492043361826222,0.46347621719687,1.704346983640985,-2.2408341991964154,-0.20816970559272233,-0.4524045866071197,0.3649944103362259,-0.4563438588815452,0.6742272838786486,-0.33422641837434686,0.8180107218951885,-0.9881456159290231,0.5521098433714496,1.0208832440281155,0.7943750882486342,0.2862089648477107,0.016368814049546213,1.7122255281898373,-0.5784612993887436,0.8495249000905951,0.9873994296954968,-0.003327547322582597,0.1424255268311707,-0.6493682003284078,-0.23771424765091556,1.1607274097702305,0.26257333120115633,0.24090733369181477,1.2119379493377647,-0.0683255398506079,-0.18256443580895465,-0.6237629305446402,0.04591335610773943,-3.028688654081568,-1.0826881505152417,0.9952779742443478,1.3911748378241373,-0.3263478738254952,-1.007841977301152,0.10500244022412586,-1.5967631823278035,-0.4071029554512232,0.5087778483527665,0.15030407138002236,-0.7990605467565867,-1.141777234631628,-0.10180935418322665,1.458142466489375,-0.38346732180466886,-0.1490806214763359,0.4043871330804836,0.25666442278951745,2.1849382011209286,0.2940875093965623,0.1187898931846158,1.8875231444017833,-1.3249533953924257,-0.1392324407902715,0.6505916502320936,0.04985262838216497,-0.4977062177630156,1.7102558920526238,-0.5942183884864469,-1.3288926676668518,1.548745728801168,-0.611945113721363,-0.2101393417299351,0.5974114745273461,-0.0742344482622462,-0.9743581629685332,-0.678912742386601,-1.1023845118873705,-0.05256845075290462,-0.2948336956300892,-2.5362796197783473,1.221786130023829,-0.2002911610438707,0.8908872589720654,-0.7557285517379029,0.7628609100532282,-2.3412856421942725,-0.16483771057403862,0.07545789816593264,0.17590934116378945,0.8199803580324019,0.6308952888599648,0.5599883879203013,1.066184875184012,-0.970418890694107,-0.8955727174800179,-0.43073858909777757,-0.4524045866071197,0.5462009349598114,-0.6730038339749621,0.5934722022529205,0.21924133618247318,0.2349984252801759,-0.5843702078003825,0.5836240215668562,0.03212590314724949,-0.1589288021624003,1.3852659294124985,1.1114865063399084,0.6033203829389849,0.49892966766670205,0.5796847492924301,0.33938914055245883,0.055761536793803836,0.04985262838216497,-0.4819491286653129,-0.3480138713348368,0.11682025704740304,-0.47013131184203516,0.2448466059662403,-0.9389047124987011,-0.8778459922451018,-0.4563438588815452,-1.8862996944980968,0.7707394546020798,-0.2771069703951732,0.33151059600360716,0.32166241531754275,-0.29286405949287586,0.5855936577040689,-0.11559680714371659,-0.26725878970910877,2.068729669025368,0.8987658035209172,1.048458149949096,1.7910109736783524,1.066184875184012,-1.2816214003737425,-0.1904429803578063,0.17590934116378945,1.641318627250173,0.43984058355031563,0.5560491156458757,-0.8739067199706758],\"type\":\"scatter3d\"}],                        {\"template\":{\"data\":{\"histogram2dcontour\":[{\"type\":\"histogram2dcontour\",\"colorbar\":{\"outlinewidth\":0,\"ticks\":\"\"},\"colorscale\":[[0.0,\"#0d0887\"],[0.1111111111111111,\"#46039f\"],[0.2222222222222222,\"#7201a8\"],[0.3333333333333333,\"#9c179e\"],[0.4444444444444444,\"#bd3786\"],[0.5555555555555556,\"#d8576b\"],[0.6666666666666666,\"#ed7953\"],[0.7777777777777778,\"#fb9f3a\"],[0.8888888888888888,\"#fdca26\"],[1.0,\"#f0f921\"]]}],\"choropleth\":[{\"type\":\"choropleth\",\"colorbar\":{\"outlinewidth\":0,\"ticks\":\"\"}}],\"histogram2d\":[{\"type\":\"histogram2d\",\"colorbar\":{\"outlinewidth\":0,\"ticks\":\"\"},\"colorscale\":[[0.0,\"#0d0887\"],[0.1111111111111111,\"#46039f\"],[0.2222222222222222,\"#7201a8\"],[0.3333333333333333,\"#9c179e\"],[0.4444444444444444,\"#bd3786\"],[0.5555555555555556,\"#d8576b\"],[0.6666666666666666,\"#ed7953\"],[0.7777777777777778,\"#fb9f3a\"],[0.8888888888888888,\"#fdca26\"],[1.0,\"#f0f921\"]]}],\"heatmap\":[{\"type\":\"heatmap\",\"colorbar\":{\"outlinewidth\":0,\"ticks\":\"\"},\"colorscale\":[[0.0,\"#0d0887\"],[0.1111111111111111,\"#46039f\"],[0.2222222222222222,\"#7201a8\"],[0.3333333333333333,\"#9c179e\"],[0.4444444444444444,\"#bd3786\"],[0.5555555555555556,\"#d8576b\"],[0.6666666666666666,\"#ed7953\"],[0.7777777777777778,\"#fb9f3a\"],[0.8888888888888888,\"#fdca26\"],[1.0,\"#f0f921\"]]}],\"heatmapgl\":[{\"type\":\"heatmapgl\",\"colorbar\":{\"outlinewidth\":0,\"ticks\":\"\"},\"colorscale\":[[0.0,\"#0d0887\"],[0.1111111111111111,\"#46039f\"],[0.2222222222222222,\"#7201a8\"],[0.3333333333333333,\"#9c179e\"],[0.4444444444444444,\"#bd3786\"],[0.5555555555555556,\"#d8576b\"],[0.6666666666666666,\"#ed7953\"],[0.7777777777777778,\"#fb9f3a\"],[0.8888888888888888,\"#fdca26\"],[1.0,\"#f0f921\"]]}],\"contourcarpet\":[{\"type\":\"contourcarpet\",\"colorbar\":{\"outlinewidth\":0,\"ticks\":\"\"}}],\"contour\":[{\"type\":\"contour\",\"colorbar\":{\"outlinewidth\":0,\"ticks\":\"\"},\"colorscale\":[[0.0,\"#0d0887\"],[0.1111111111111111,\"#46039f\"],[0.2222222222222222,\"#7201a8\"],[0.3333333333333333,\"#9c179e\"],[0.4444444444444444,\"#bd3786\"],[0.5555555555555556,\"#d8576b\"],[0.6666666666666666,\"#ed7953\"],[0.7777777777777778,\"#fb9f3a\"],[0.8888888888888888,\"#fdca26\"],[1.0,\"#f0f921\"]]}],\"surface\":[{\"type\":\"surface\",\"colorbar\":{\"outlinewidth\":0,\"ticks\":\"\"},\"colorscale\":[[0.0,\"#0d0887\"],[0.1111111111111111,\"#46039f\"],[0.2222222222222222,\"#7201a8\"],[0.3333333333333333,\"#9c179e\"],[0.4444444444444444,\"#bd3786\"],[0.5555555555555556,\"#d8576b\"],[0.6666666666666666,\"#ed7953\"],[0.7777777777777778,\"#fb9f3a\"],[0.8888888888888888,\"#fdca26\"],[1.0,\"#f0f921\"]]}],\"mesh3d\":[{\"type\":\"mesh3d\",\"colorbar\":{\"outlinewidth\":0,\"ticks\":\"\"}}],\"scatter\":[{\"fillpattern\":{\"fillmode\":\"overlay\",\"size\":10,\"solidity\":0.2},\"type\":\"scatter\"}],\"parcoords\":[{\"type\":\"parcoords\",\"line\":{\"colorbar\":{\"outlinewidth\":0,\"ticks\":\"\"}}}],\"scatterpolargl\":[{\"type\":\"scatterpolargl\",\"marker\":{\"colorbar\":{\"outlinewidth\":0,\"ticks\":\"\"}}}],\"bar\":[{\"error_x\":{\"color\":\"#2a3f5f\"},\"error_y\":{\"color\":\"#2a3f5f\"},\"marker\":{\"line\":{\"color\":\"#E5ECF6\",\"width\":0.5},\"pattern\":{\"fillmode\":\"overlay\",\"size\":10,\"solidity\":0.2}},\"type\":\"bar\"}],\"scattergeo\":[{\"type\":\"scattergeo\",\"marker\":{\"colorbar\":{\"outlinewidth\":0,\"ticks\":\"\"}}}],\"scatterpolar\":[{\"type\":\"scatterpolar\",\"marker\":{\"colorbar\":{\"outlinewidth\":0,\"ticks\":\"\"}}}],\"histogram\":[{\"marker\":{\"pattern\":{\"fillmode\":\"overlay\",\"size\":10,\"solidity\":0.2}},\"type\":\"histogram\"}],\"scattergl\":[{\"type\":\"scattergl\",\"marker\":{\"colorbar\":{\"outlinewidth\":0,\"ticks\":\"\"}}}],\"scatter3d\":[{\"type\":\"scatter3d\",\"line\":{\"colorbar\":{\"outlinewidth\":0,\"ticks\":\"\"}},\"marker\":{\"colorbar\":{\"outlinewidth\":0,\"ticks\":\"\"}}}],\"scattermapbox\":[{\"type\":\"scattermapbox\",\"marker\":{\"colorbar\":{\"outlinewidth\":0,\"ticks\":\"\"}}}],\"scatterternary\":[{\"type\":\"scatterternary\",\"marker\":{\"colorbar\":{\"outlinewidth\":0,\"ticks\":\"\"}}}],\"scattercarpet\":[{\"type\":\"scattercarpet\",\"marker\":{\"colorbar\":{\"outlinewidth\":0,\"ticks\":\"\"}}}],\"carpet\":[{\"aaxis\":{\"endlinecolor\":\"#2a3f5f\",\"gridcolor\":\"white\",\"linecolor\":\"white\",\"minorgridcolor\":\"white\",\"startlinecolor\":\"#2a3f5f\"},\"baxis\":{\"endlinecolor\":\"#2a3f5f\",\"gridcolor\":\"white\",\"linecolor\":\"white\",\"minorgridcolor\":\"white\",\"startlinecolor\":\"#2a3f5f\"},\"type\":\"carpet\"}],\"table\":[{\"cells\":{\"fill\":{\"color\":\"#EBF0F8\"},\"line\":{\"color\":\"white\"}},\"header\":{\"fill\":{\"color\":\"#C8D4E3\"},\"line\":{\"color\":\"white\"}},\"type\":\"table\"}],\"barpolar\":[{\"marker\":{\"line\":{\"color\":\"#E5ECF6\",\"width\":0.5},\"pattern\":{\"fillmode\":\"overlay\",\"size\":10,\"solidity\":0.2}},\"type\":\"barpolar\"}],\"pie\":[{\"automargin\":true,\"type\":\"pie\"}]},\"layout\":{\"autotypenumbers\":\"strict\",\"colorway\":[\"#636efa\",\"#EF553B\",\"#00cc96\",\"#ab63fa\",\"#FFA15A\",\"#19d3f3\",\"#FF6692\",\"#B6E880\",\"#FF97FF\",\"#FECB52\"],\"font\":{\"color\":\"#2a3f5f\"},\"hovermode\":\"closest\",\"hoverlabel\":{\"align\":\"left\"},\"paper_bgcolor\":\"white\",\"plot_bgcolor\":\"#E5ECF6\",\"polar\":{\"bgcolor\":\"#E5ECF6\",\"angularaxis\":{\"gridcolor\":\"white\",\"linecolor\":\"white\",\"ticks\":\"\"},\"radialaxis\":{\"gridcolor\":\"white\",\"linecolor\":\"white\",\"ticks\":\"\"}},\"ternary\":{\"bgcolor\":\"#E5ECF6\",\"aaxis\":{\"gridcolor\":\"white\",\"linecolor\":\"white\",\"ticks\":\"\"},\"baxis\":{\"gridcolor\":\"white\",\"linecolor\":\"white\",\"ticks\":\"\"},\"caxis\":{\"gridcolor\":\"white\",\"linecolor\":\"white\",\"ticks\":\"\"}},\"coloraxis\":{\"colorbar\":{\"outlinewidth\":0,\"ticks\":\"\"}},\"colorscale\":{\"sequential\":[[0.0,\"#0d0887\"],[0.1111111111111111,\"#46039f\"],[0.2222222222222222,\"#7201a8\"],[0.3333333333333333,\"#9c179e\"],[0.4444444444444444,\"#bd3786\"],[0.5555555555555556,\"#d8576b\"],[0.6666666666666666,\"#ed7953\"],[0.7777777777777778,\"#fb9f3a\"],[0.8888888888888888,\"#fdca26\"],[1.0,\"#f0f921\"]],\"sequentialminus\":[[0.0,\"#0d0887\"],[0.1111111111111111,\"#46039f\"],[0.2222222222222222,\"#7201a8\"],[0.3333333333333333,\"#9c179e\"],[0.4444444444444444,\"#bd3786\"],[0.5555555555555556,\"#d8576b\"],[0.6666666666666666,\"#ed7953\"],[0.7777777777777778,\"#fb9f3a\"],[0.8888888888888888,\"#fdca26\"],[1.0,\"#f0f921\"]],\"diverging\":[[0,\"#8e0152\"],[0.1,\"#c51b7d\"],[0.2,\"#de77ae\"],[0.3,\"#f1b6da\"],[0.4,\"#fde0ef\"],[0.5,\"#f7f7f7\"],[0.6,\"#e6f5d0\"],[0.7,\"#b8e186\"],[0.8,\"#7fbc41\"],[0.9,\"#4d9221\"],[1,\"#276419\"]]},\"xaxis\":{\"gridcolor\":\"white\",\"linecolor\":\"white\",\"ticks\":\"\",\"title\":{\"standoff\":15},\"zerolinecolor\":\"white\",\"automargin\":true,\"zerolinewidth\":2},\"yaxis\":{\"gridcolor\":\"white\",\"linecolor\":\"white\",\"ticks\":\"\",\"title\":{\"standoff\":15},\"zerolinecolor\":\"white\",\"automargin\":true,\"zerolinewidth\":2},\"scene\":{\"xaxis\":{\"backgroundcolor\":\"#E5ECF6\",\"gridcolor\":\"white\",\"linecolor\":\"white\",\"showbackground\":true,\"ticks\":\"\",\"zerolinecolor\":\"white\",\"gridwidth\":2},\"yaxis\":{\"backgroundcolor\":\"#E5ECF6\",\"gridcolor\":\"white\",\"linecolor\":\"white\",\"showbackground\":true,\"ticks\":\"\",\"zerolinecolor\":\"white\",\"gridwidth\":2},\"zaxis\":{\"backgroundcolor\":\"#E5ECF6\",\"gridcolor\":\"white\",\"linecolor\":\"white\",\"showbackground\":true,\"ticks\":\"\",\"zerolinecolor\":\"white\",\"gridwidth\":2}},\"shapedefaults\":{\"line\":{\"color\":\"#2a3f5f\"}},\"annotationdefaults\":{\"arrowcolor\":\"#2a3f5f\",\"arrowhead\":0,\"arrowwidth\":1},\"geo\":{\"bgcolor\":\"white\",\"landcolor\":\"#E5ECF6\",\"subunitcolor\":\"white\",\"showland\":true,\"showlakes\":true,\"lakecolor\":\"white\"},\"title\":{\"x\":0.05},\"mapbox\":{\"style\":\"light\"}}},\"scene\":{\"domain\":{\"x\":[0.0,1.0],\"y\":[0.0,1.0]},\"xaxis\":{\"title\":{\"text\":\"Total day minutes\"}},\"yaxis\":{\"title\":{\"text\":\"Total eve minutes\"}},\"zaxis\":{\"title\":{\"text\":\"Total night minutes\"}}},\"coloraxis\":{\"colorbar\":{\"title\":{\"text\":\"Cluster\"}},\"colorscale\":[[0.0,\"#0d0887\"],[0.1111111111111111,\"#46039f\"],[0.2222222222222222,\"#7201a8\"],[0.3333333333333333,\"#9c179e\"],[0.4444444444444444,\"#bd3786\"],[0.5555555555555556,\"#d8576b\"],[0.6666666666666666,\"#ed7953\"],[0.7777777777777778,\"#fb9f3a\"],[0.8888888888888888,\"#fdca26\"],[1.0,\"#f0f921\"]]},\"legend\":{\"title\":{\"text\":\"Churn\"},\"tracegroupgap\":0},\"margin\":{\"t\":60}},                        {\"responsive\": true}                    ).then(function(){\n",
              "                            \n",
              "var gd = document.getElementById('b9571d97-679a-49a0-9233-d8e5cec88b88');\n",
              "var x = new MutationObserver(function (mutations, observer) {{\n",
              "        var display = window.getComputedStyle(gd).display;\n",
              "        if (!display || display === 'none') {{\n",
              "            console.log([gd, 'removed!']);\n",
              "            Plotly.purge(gd);\n",
              "            observer.disconnect();\n",
              "        }}\n",
              "}});\n",
              "\n",
              "// Listen for the removal of the full notebook cells\n",
              "var notebookContainer = gd.closest('#notebook-container');\n",
              "if (notebookContainer) {{\n",
              "    x.observe(notebookContainer, {childList: true});\n",
              "}}\n",
              "\n",
              "// Listen for the clearing of the current output cell\n",
              "var outputEl = gd.closest('.output');\n",
              "if (outputEl) {{\n",
              "    x.observe(outputEl, {childList: true});\n",
              "}}\n",
              "\n",
              "                        })                };                            </script>        </div>\n",
              "</body>\n",
              "</html>"
            ]
          },
          "metadata": {}
        }
      ]
    },
    {
      "cell_type": "code",
      "source": [
        "import plotly.express as px\n",
        "\n",
        "fig = px.scatter_3d(df_telecom, x='Total day minutes', y='Total eve minutes', z='Total night minutes', color='Cluster')\n",
        "fig.show()\n"
      ],
      "metadata": {
        "id": "kCAKwRDW8Dmo",
        "colab": {
          "base_uri": "https://localhost:8080/",
          "height": 542
        },
        "outputId": "4b7200ea-ea85-467d-f7f9-5c89a6626480"
      },
      "execution_count": 220,
      "outputs": [
        {
          "output_type": "display_data",
          "data": {
            "text/html": [
              "<html>\n",
              "<head><meta charset=\"utf-8\" /></head>\n",
              "<body>\n",
              "    <div>            <script src=\"https://cdnjs.cloudflare.com/ajax/libs/mathjax/2.7.5/MathJax.js?config=TeX-AMS-MML_SVG\"></script><script type=\"text/javascript\">if (window.MathJax && window.MathJax.Hub && window.MathJax.Hub.Config) {window.MathJax.Hub.Config({SVG: {font: \"STIX-Web\"}});}</script>                <script type=\"text/javascript\">window.PlotlyConfig = {MathJaxConfig: 'local'};</script>\n",
              "        <script src=\"https://cdn.plot.ly/plotly-2.18.2.min.js\"></script>                <div id=\"492bcc6c-380e-442b-820e-9750aa1ce8b0\" class=\"plotly-graph-div\" style=\"height:525px; width:100%;\"></div>            <script type=\"text/javascript\">                                    window.PLOTLYENV=window.PLOTLYENV || {};                                    if (document.getElementById(\"492bcc6c-380e-442b-820e-9750aa1ce8b0\")) {                    Plotly.newPlot(                        \"492bcc6c-380e-442b-820e-9750aa1ce8b0\",                        [{\"hovertemplate\":\"Total day minutes=%{x}<br>Total eve minutes=%{y}<br>Total night minutes=%{z}<br>Cluster=%{marker.color}<extra></extra>\",\"legendgroup\":\"\",\"marker\":{\"color\":[1,1,0,0,0,0,1,0,1,0,0,0,0,1,0,1,0,0,0,0,0,0,1,0,0,0,0,0,0,1,1,0,1,0,0,1,0,0,0,1,0,1,0,0,0,0,0,0,1,0,0,1,1,0,1,0,0,0,0,0,1,0,0,0,0,0,0,0,0,1,1,0,0,0,1,0,0,0,0,0,0,0,0,1,0,0,0,1,0,0,0,0,0,1,0,0,1,0,1,0,0,0,0,0,1,0,1,0,0,0,0,0,1,0,1,1,0,1,1,0,0,0,0,1,0,0,0,0,0,1,1,0,0,1,0,0,1,1,0,1,0,0,0,0,0,0,1,0,1,0,0,0,0,0,0,0,0,0,0,1,1,0,1,0,1,0,0,0,0,1,0,0,0,0,1,1,0,0,0,0,0,0,0,1,0,0,0,1,1,0,1,0,0,0,1,0,0,0,0,0,0,0,0,1,0,1,0,0,0,0,0,0,1,0,0,1,1,0,0,0,0,1,0,1,0,1,0,1,1,0,0,0,0,0,0,1,0,0,0,0,0,0,0,0,0,0,0,0,1,0,0,0,0,1,1,1,1,0,1,0,0,0,1,1,0,0,0,0,0,0,0,1,0,0,0,0,0,1,1,1,0,1,0,1,0,0,1,0,0,0,1,1,1,0,1,0,0,0,0,0,0,0,0,0,0,0,0,0,0,0,0,0,1,0,0,0,0,0,0,0,0,0,1,0,0,1,0,0,0,0,0,0,0,0,0,0,0,0,0,1,0,1,0,0,1,0,1,0,0,0,0,0,1,1,0,0,0,1,0,1,0,0,0,0,0,1,0,0,0,1,0,0,0,1,0,1,0,1,0,0,0,1,0,0,1,0,0,0,0,0,0,1,0,0,0,0,0,0,1,0,0,1,0,1,0,0,1,1,1,1,0,0,1,1,1,0,0,0,0,0,1,0,0,0,0,0,1,0,1,1,0,1,1,0,1,1,1,1,1,0,0,0,0,1,0,1,0,0,1,1,0,1,0,0,0,1,0,1,0,1,1,0,0,1,1,0,1,0,0,0,0,0,0,0,0,1,0,1,0,0,1,0,0,0,0,0,0,0,0,0,1,1,0,0,0,0,0,0,1,0,0,0,0,0,1,1,0,1,1,1,0,0,0,0,1,1,0,1,0,0,0,1,1,0,0,0,0,0,0,1,0,0,1,0,0,0,0,0,0,1,1,0,0,0,0,0,0,0,0,0,0,1,0,0,0,1,0,0,0,0,1,1,0,0,0,1,0,0,1,0,0,0,0,0,1,1,0,0,0,0,0,1,0,1,0,0,1,0,0,0,1,1,1,0,0,0,0,1,0,0,0,1,0,0,1,0,0,0,0,0,0,1,1,1,0,0,0,0,0,0,0,0,1,0,0,0,1,1,1,1,0,0,0,0,0,0,1,1,1,0,0,0,0,0,0,0,1,0,0,1,0,0,0,0,0,0,0,0,0,1,1,1,1,0,0,0,0,1,0,0,0,0,0,0,0,0,1,0,0,0,0,0,0,1,0,0,0,0,1,0,0,1,0,0,0,0,0,0,0,0,1,1,0,0,0,0,1,0,0,0,1,0,1,0,0,0,0,0,1,0,1,1,0,0,1,0,0,0,0,0,0,0,0,0,0,0,1,1,0,0,0,0,0,0,1,0,0,0,0,0,1,0,0,0,0,0,0,0,1,0,0,0,1,1,0,0,1,0,0,0,0,1,0,1,0,0,1,1,0,0,0,1,1,0,0,1,1,0,1,0,0,0,0,0,0,1,1,0,0,1,0,0,0,0,0,0,0,0,1,0,0,0,1,0,0,1,0,0,0,1,0,0,0,0,1,1,0,0,0,0,0,1,0,0,0,0,1,0,0,0,1,0,1,1,1,0,0,0,0,1,0,0,0,0,1,0,0,0,0,1,0,0,0,0,0,0,1,0,0,1,0,0,0,1,0,0,0,0,0,1,0,0,0,0,1,0,1,1,0,1,1,0,0,1,1,1,0,0,1,0,0,0,1,0,1,0,0,1,0,0,0,0,1,0,0,1,1,1,0,0,0,0,0,1,1,0,0,1,1,0,1,0,1,0,0,1,1,1,0,0,0,0,0,0,0,1,1,1,1,1,0,0,0,0,0,0,0,0,1,0,0,0,0,0,1,1,0,0,0,0,0,0,1,1,0,0,1,0,0,0,0,0,0,0,1,0,0,0,1,0,1,0,0,1,0,1,0,0,0,1,1,0,0,0,0,0,0,0,1,1,0,0,0,0,1,0,0,0,1,1,0,0,0,0,0,0,0,0,0,0,0,0,0,0,0,1,0,0,1,0,0,0,0,1,0,0,1,0,1,0,0,0,0,0,0,1,0,0,0,0,0,1,0,0,1,0,0,1,0,0,0,0,0,1,0,0,0,0,0,0,0,1,1,0,1,1,0,1,1,0,0,1,0,0,0,0,1,0,0,1,0,1,0,0,0,0,1,0,1,0,0,1,0,0,0,1,0,0,1,1,1,0,0,0,1,1,1,1,1,1,0,0,0,1,0,0,0,0,0,0,0,0,1,0,1,1,0,1,0,0,0,0,0,0,0,0,0,0,1,1,1,1,0,0,0,0,0,0,1,0,1,0,0,0,0,0,1,0,0,0,0,0,1,0,1,0,0,0,0,1,0,0,0,0,1,0,0,1,0,0,0,0,0,0,1,0,0,0,0,1,0,0,0,0,1,0,0,0,0,1,0,0,0,1,0,0,1,0,0,0,0,0,0,0,1,1,1,0,0,1,0,1,0,1,1,0,0,0,1,1,1,0,0,0,1,1,1,0,1,0,0,0,0,0,0,1,1,0,1,0,1,1,0,1,0,0,1,0,0,0,0,0,0,0,1,1,0,0,0,1,0,0,0,0,0,0,0,0,1,0,0,0,0,0,0,0,0,0,1,0,1,1,0,1,0,0,1,0,1,0,1,1,0,0,1,1,0,0,0,0,0,0,0,0,0,1,0,0,0,0,1,1,0,0,0,0,0,0,0,1,0,0,1,0,0,1,0,0,0,1,0,0,0,0,0,0,0,1,1,0,0,1,0,0,0,0,1,1,0,0,0,0,1,0,0,0,0,0,0,1,1,0,0,1,0,1,0,1,0,0,1,0,0,0,0,1,0,1,0,1,0,1,0,1,1,1,0,0,0,0,1,0,1,0,0,0,1,0,0,0,0,0,0,0,0,0,0,0,0,0,0,1,1,0,0,0,1,0,1,0,0,1,1,0,1,0,1,0,1,0,1,1,0,0,0,1,0,0,0,0,0,0,0,0,1,0,0,0,0,1,0,0,0,0,0,0,0,0,0,0,0,0,0,1,1,0,0,1,0,0,0,0,0,0,1,0,0,1,1,0,1,1,1,0,0,0,0,1,0,0,0,0,0,0,0,0,0,0,0,0,0,0,0,1,0,1,1,0,0,0,0,0,1,0,0,0,0,0,0,0,0,1,0,0,1,0,0,0,0,0,0,0,1,0,1,0,1,0,0,0,0,0,0,0,1,0,0,0,0,0,0,0,0,1,0,0,0,0,0,0,0,0,0,0,1,0,1,0,0,0,0,0,0,0,1,1,0,1,0,0,0,0,0,0,1,0,0,0,0,0,0,1,1,1,1,0,1,0,0,0,1,1,0,0,0,0,0,1,0,1,1,0,0,0,0,1,0,0,0,0,0,0,0,0,1,0,0,0,0,0,0,1,0,1,0,0,0,0,0,1,0,0,0,1,0,0,0,1,0,0,0,0,0,1,0,0,1,1,0,0,0,0,0,0,0,0,0,0,0,0,0,1,1,0,1,0,1,0,0,0,0,0,0,0,1,0,0,0,0,0,0,1,0,0,1,0,0,0,0,0,0,0,0,1,0,0,0,0,0,0,0,0,0,0,0,0,0,0,0,0,1,0,1,1,0,1,0,0,0,1,0,1,1,0,0,0,0,0,0,0,0,0,0,0,0,0,1,1,0,0,0,0,1,0,1,0,0,1,0,0,0,0,0,0,1,0,1,0,1,0,0,0,0,1,0,0,0,0,0,0,0,0,0,1,0,0,1,0,1,1,1,1,0,1,1,1,1,0,0,0,1,0,0,0,0,0,1,1,0,0,0,0,1,0,0,0,0,1,0,0,0,0,0,1,0,0,0,1,0,0,0,1,0,0,1,0,0,0,0,1,0,1,0,0,0,0,0,0,0,0,0,1,0,0,0,1,0,0,0,0,0,0,0,0,0,0,0,0,0,0,1,0,0,0,0,1,1,1,0,0,0,0,0,0,0,0,0,0,1,0,0,0,1,0,1,0,0,0,1,0,0,1,0,1,0,0,0,0,0,1,1,0,0,1,0,1,0,0,0,0,0,0,0,0,0,0,0,0,1,1,0,0,0,1,1,1,0,0,0,1,0,1,0,0,1,0,0,0,0,0,0,1,0,1,0,0,0,1,0,1,0,0,0,1,1,0,0,1,1,0,0,0,1,1,0,0,0,0,0,0,0,1,0,0,1,0,0,0,0,0,0,1,0,0,1,0,0,0,1,0,0,0,0,0,0,0,0,0,0,0,0,0,0,0,1,0,0,1,0,0,0,1,0,0,0,0,0,0,0,0,0,1,0,0,0,0,0,0,1,0,0,0,0,0,1,0,0,0,0,0,0,0,0,0,1,1,0,0,0,0,0,0,1,0,1,0,0,0,1,1,0,0,0,0,0,0,1,1,1,1,0,0,0,0,1,0,1,1,0,0,0,1,1,1,1,0,0,0,1,0,0,0,0,1,0,0,0,0,0,0,0,0,0,1,0,0,1,1,0,0,0,0,0,0,0,0,0,0,1,0,0,0,0,0,1,1,0,0,0,0,0,0,1,0,0,0,1,0,0,0,0,0,0,1,0,0,0,1,1,1,1,0,0,0,1,0,0,0,0,0,1,0,0,0,1,1,1,0,0,0,0,1,0,1,0,0,0,0,0,1,0,0,0,0,0,1,1,0,0,1,0,1,0,1,1,1,0,0,0,0,0,1,0,1,0,0,1,1,0,0,1,0,0,0,0,0,0,0,0,0,0,0,0,0,1,0,0,0,0,1,0,0,0,1,0,0,0,0,0,1,0,0,0,0,0,1,0,1,1,0,0,0,1,0,0,0,0,0,1,0,0,0,1,1,1,0,1,0,0,1,0,0,0,1,0,0,1,0,1,0,0,0,0,1,0,0,0,1,1,0,0,0,0,0,1,1,1,0,0,1,0,0,0,0,0,0,0,0,0,0,0,0,0,1,0,0,0,0,0,0,0,0,0,1,0,1,0,1,0,0,0,0,0,0,0,1,0,0,1,0,0,0,0,1,0,1,0,0,0,0,0,0,0,0,0,0,1,0,0,1,0,1,1,0,0,0,0,0,0,0,0,1,0,0,0,0,1,0,0,0,1,1,1,0,1,1,1,0,1,0,0,0,1,0,0,0,1,0,0,0,0,0,0,0,0,0,0,0,0,0,0,0,0,1,0,0,1,1,1,0,1,1,0,1,0,1,0,1,0,1,0,0,0,0,0,0,0,0,0,1,1,0,0,0,0,1,1,0,0,0,0,1,0,1,1,0,1,0,1,1,0,0,0,0,1,0,1,0,0,1,1,0,0,1,1,0,0,0,0,0,0,0,1,0,0,0,0,0,0,0,0,0,1,0,0,0,0,1,0,1,0,0,0,0,0,0,0,0,1,1,0,0,0,0,0,0,0,0,0,0,0,1,1,0,0,1,0,1,0,0,0,1,0,0,1,0,0,1,1,1,1,1,1,1,0,0,0,1,1,0,0,1,0,0,1,0,0,1,0,0,0,0,0,0,1,0,0,0,0,0,0,0,0,1,0,0,0,0,0,0,0,1,0,1,0,0,1,1,1,0,0,1,0,0,0,0,1,0,0,1,0,0,1,0,0,0,0,0,0,0,0,1,1,0,0,0,0,0,0,0,0,0,1,0,0,1,0,0,0,0,0,1,0,0,0,0,1,0,0,1,0,0,0,0,0,1,1,0,0,0,0,0,0,0,0,0,1,0,0,0,0,0,0,0,0,0,1,0,0,0,1,1,1,0,0,0,1,0,1,0,0,1,0,1,1,0,0,0,0,1,0,0,0,0,0,0,1,0,0,0,0,1,0,0,0,1,0,0,0,0,1,0,0,1,0,0,1,1,1,0,0,0,0,1,0,1,0,0,0,1,0,0,1,0,1,0,1,0,0,1,0,0,1,0,0,0,1,0,0,1,1,0,1,0,0,0,1,1,0,0,0,1,0,1,1,0,0,0,0,0,0,0,1,0,1,0,0,0,1,0,0,1,0,1,1,0,0,1,1,1,0,0,1,1,1,0,0,0,1,0,0,0,0,1,1,0,1,0,1,0,1,0,0,1,0,0,0,0,0,0,1,0,1,0,1,1,0,1,0,0,0,1,0,1,0,0,0,0,0,0,0,0,0,0,0,0,0,1,0,0,1,0,0,0,0,0,0,0,1,0,0,0,0,0,0,0,1,0,1,0,0,0,0,0,0,0,0,0,1,0,1,1,1,0,0,1,0,1,0,0,0,0,0,1,0,0,0,0,1,1,0,0,0,0,0,0,0,0,0,0,1,0,1,0,0,0,0,0,0,0,0,0,0,0,0,1,0,1,0,0,1,0,0,0,1,1,0,1,0,1,0,0,1,0,0,0,0,0,0,0,0,1,0,0,1,0,1,0,0,0,1,1,0,0,0,0,1,0,0,0,0,0,0,1,1,0,1,0,1,0,1,0,1,0,0,0,0,0,0,0,1,0,0,1,0,0,0,1,0,0,0,0,0,0,1,1,0,1,0,1,1,0,1,0,1,1,0,0,1,0,1,0,1,0,0,0,0,0,1,0,0,0,0,1,0,1,0,1,0,1,1,1,0,0,0,0,0,0,0,0,0,1,1,0,0,0,0,0,0,0,1,0,0,0,1,1,0,0,0,0,1,0,0,0,1,0,0,0,0,1,0,1,1,0,0,0,0,0,0,0,0,1,0,1,1,0,0,0,0,0,1,0,0,1,0,1,0,1,0,0,1,1,0,0,0,0,1,0,0,0,0,1,0,0,1,0,0,0,0,0,0,0,0,0,0,1,1,1,0,1,0,0,0,0,0,0,0,0,0,0,0,0,1,1,0,0,0,0,0,0,1,0,0,0,0,1,1,0,0,1,1,1,0,0,0,0,0,1,0,0,0,0,0,0,0,0,0,0,1,0,1,1,1,0,1,0,0,0,0,0,0,0,0,1,0,0,0,0,0,1,0,1,0,0,0,0,0,0,1,0,1,0,0,1,1,0,0,0,0,0,0,0,0,0,0,0,1,0,0,0,0,0,0,1,0,0,1,0,0,0,0,0,1,0,0,0,1,0,1,0,1,0,1,0,0,0,0,0,0,0,1,0,0,1,0,1,0,1,0,0,1,0,0,1,0,0,0,0,1,1,0,0,0],\"coloraxis\":\"coloraxis\",\"symbol\":\"circle\"},\"mode\":\"markers\",\"name\":\"\",\"scene\":\"scene\",\"showlegend\":false,\"x\":[1.5796695875462738,-0.32991808608894013,1.1793019303686492,2.212508787601228,-0.2358224615909732,0.8102994813570136,0.7143588446139881,-0.4147886493616162,1.4597437916174922,0.15163010987124403,-0.9350821024680219,-0.422168698341849,-1.0845280943177344,0.3121461751913058,0.20698047722298935,0.18853035477240757,0.8287496038075954,-0.44984388201772163,-2.1601702331866517,0.0649145343535099,-1.8151529433607727,-1.0181076534956401,0.6184182078709631,-0.8336064289898222,0.1940653915075823,-1.7468874902936202,0.8601148119735842,0.5999680854203813,1.2936926895622558,-0.04947622484009687,0.7475690650250355,-0.8981818575668584,0.4505220935706691,-0.7210606820412735,-0.9812074085944766,-0.11774167790724975,-1.0088825922703493,-1.7284373678430385,-0.4701390167133615,-1.080838069827618,0.138715024155837,-0.8539015636854626,0.22912062416368778,0.7586391384953844,-0.3557482575197547,-0.5254893840651068,-0.0734613840258534,-0.9701373351241275,0.3490464200924693,0.9191552038154461,0.23281064865380394,1.64424501612331,0.02247925271717162,-0.8908018085866262,-0.578994739171794,1.3287479222183614,-1.0015025432901166,0.5925880364401485,-0.010730967693875257,1.1497817344477184,0.8379746650328863,1.275242567111674,0.44129703234537815,-0.4129436371165581,2.229113897806752,-2.1749303311471175,-0.17124703301393698,0.3988617507090399,0.6626985017523594,-0.256117596286613,1.2918476773171979,0.5741379139895667,-0.3981835391560925,0.6424033670567196,-0.46829400446830344,1.0778262568904493,-0.6564852534642373,-1.0181076534956401,1.3545780936491758,-0.007040943203759113,1.8250562161390105,0.34535639560235265,0.6018130976654393,-0.33729813506917294,-0.5125742983496998,-0.16571199627876226,1.0815162813805654,-1.1361884371793634,0.9283802650407371,-0.267187669756962,0.10181477925467344,-0.3409881595592891,-0.9738273596142438,0.3195262241715386,-0.3114679636383584,1.9007017181863963,-1.213678951471807,0.5667578650093339,0.6331783058314288,0.20698047722298935,-0.15833194729852942,-0.4664489922232454,0.40439678744421464,-2.007034216846823,0.14794008538112788,-1.619581645384606,0.640558354811661,-0.6269650575433066,0.950520411981435,0.3841016527485748,0.3232162486616547,-0.9147869677723821,-0.06792634729067865,0.4357619956102034,0.06860455884362605,0.4708172282663089,-0.5716146901915612,0.3841016527485748,0.2420357098790948,1.2364973099654524,-0.2284424126107404,0.9671255221869587,1.6977503712299968,1.443138681411968,0.2641758568197933,0.8582697997285261,1.4929540120285387,-0.014420992183991926,2.913613440723335,-0.4037185758912672,-0.6896954738752847,-0.7967061840886587,0.6940637099183482,0.14794008538112788,-1.486740763740417,0.4948023874520654,1.1737668936334744,0.19037536701746616,0.4154668609145636,-0.17309204525899508,1.0630661589299837,0.7328089670645699,1.349043056914001,-0.5974448616223759,-0.11036162892701694,0.9708155466770748,0.3250612609067128,-2.237660747479095,-1.1786237188157016,0.1221099139503133,1.4837289508032478,0.6424033670567196,-0.3834234411956274,-0.3483682085395219,0.9763505834122496,-0.842831490215113,-0.0476312125950388,0.5612228282741597,-0.7745660371479608,2.0298525753404686,0.3435113833572946,-0.5494745432508633,2.092582991672446,-1.7800977107046674,-0.6232750330531904,0.05199944863810287,0.7106688201238719,-0.7173706575511574,-0.494124175899118,-1.3428298086258792,0.2752459302901422,0.6350233180764868,0.6959087221634063,0.4431420445904362,-0.44799886977266357,-0.21921735138544948,0.8711848854439331,-0.0033509187136424434,-0.518109335084874,0.009564167001764587,1.3047627630326049,0.8029194323767808,0.07598460782385887,-0.24873754730638023,-0.5568545922310956,-2.1048198658349064,0.5058724609224143,0.12395492619537136,1.858266436550058,2.4449803304785585,0.3601164935628183,0.4357619956102034,-0.19707720444475105,-0.11774167790724975,0.4265369343849125,-1.9369237515346125,0.234655660898862,0.7512590895151516,-0.8188463310293571,1.3638031548744667,0.8398196772779444,0.3508914323375274,-1.276409367803785,-2.204450527068048,0.6516284282820105,-0.4074086003813834,0.5243225833729962,0.5077174731674724,-0.6601752779543539,-0.7542709024523209,-1.7487325025386782,-0.44799886977266357,-0.2690326820020201,-0.829916404499706,-0.6675553269345863,0.49295737520700683,0.85457977523841,-0.7598059391874951,-0.3594382820098709,0.5003374241872396,-0.8262263800095899,0.6442483793017777,0.2457257343692115,-0.5236443718200487,0.7272739303293957,0.24388072212415288,0.45974715479595996,0.5944330486852065,0.7770892609459662,0.3398213588671784,0.49664739969712346,0.4874223384718326,0.5187875466378215,-1.475670690270068,-0.04394118810492266,-0.12512172688748255,0.4560571303058433,-1.7302823800880964,-0.4037185758912672,0.6645435139974175,-0.14357184933806433,-0.3963385269110344,-1.6140466086494314,1.0058707793331803,1.7088204447003463,0.2752459302901422,0.880409946669224,1.2770875793567322,1.0483060609695185,0.48188730173665784,-1.5753013515032097,-1.0015025432901166,-2.197070478087815,-1.07899305758256,-1.1380334494244218,0.9763505834122496,0.8121444936020716,-0.05870128606538776,-1.0015025432901166,-0.7524258902072628,-1.7192123066177476,0.5077174731674724,-2.2265906740087464,1.1018114160762054,0.3472014078474112,0.474507252756425,0.23281064865380394,1.7180455059256372,-0.9443071636933128,-0.18231710648428595,0.4025517751991565,0.6497834160369519,-0.18969715546451876,0.26971089355496747,0.8416646895230024,0.6184182078709631,0.0815196445590336,0.7807792854360829,-2.119579963795372,-0.45906894324301256,1.4892639875384226,-0.32991808608894013,0.7586391384953844,-0.435083784057256,-1.337294771890705,0.05568947312821902,0.7494140772700936,-0.5033492371244089,0.03723935067763725,-0.24689253506132217,-0.8354514412348808,-0.5494745432508633,-0.5420944942706305,1.4320686079416196,-0.6970755228555175,-0.3170030003735326,3.1608450815611313,0.25495079559450234,-1.8686582984674598,-1.7727176617244345,0.29738607723084015,0.3232162486616547,0.7106688201238719,-0.27087769424707814,-0.00519593095870104,-0.16571199627876226,0.48373231398171596,-0.25796260853167113,0.7660191874756173,1.1553167711828924,-0.5144193105947579,-0.060546298310446355,0.30476612621107296,-0.36866334323516176,0.9357603140209694,-0.6048249106026087,-1.4295453841436137,-0.9867424453296512,-0.20445725342498386,0.4984924119421816,0.6940637099183482,0.9246902405506204,1.823211203893953,0.03723935067763725,-0.2247523881206237,-1.07899305758256,0.7678641997206753,0.7992294078866646,0.07229458333374272,1.5649094895858082,-0.6177399963180157,-0.4129436371165581,-0.9627572861438949,0.1553201343613607,-0.01257597993893333,1.4209985344712701,-0.18416211872934402,1.1110364773014962,-0.14726187382818048,-0.686005449385168,0.08520966904914976,0.5058724609224143,1.4837289508032478,0.44867708132561096,1.2789325916017908,-1.0531628861517455,-1.3760400290369263,-1.1085132535034907,1.3066077752776635,-0.021801041164224214,1.1793019303686492,-0.45168889426277975,2.015092477380003,1.1239515630169037,0.19960042824275706,1.8176761671587782,-0.45168889426277975,1.7328056038861017,-0.446153857527605,-0.8557465759305206,1.2420323467006271,-0.2598076207767292,-0.7598059391874951,1.9781922324788395,-1.1472585106497126,0.8490447385032353,1.4191535222262115,1.574134550811099,-0.363128306499987,0.20513546497793128,0.08336465680409168,1.5187841834593538,-0.8446765024601717,0.25864082008461853,-0.023646053409282813,0.8619598242186423,-0.16755700852382033,0.2752459302901422,1.1221065507718457,-1.9276986903093216,-2.036554412767754,-1.5291760453767553,-0.5716146901915612,1.4505187303922014,-0.5494745432508633,-0.5476295310058047,0.20144544048781513,0.03539433843257917,-0.4387738085473727,-0.5457845187607466,0.7900043466613738,-0.5550095799860375,0.4560571303058433,1.1700768691433583,-0.5365594575354558,-0.900026869811917,1.736495628376219,-0.4313937595671399,-0.014420992183991926,-0.03656113912468984,-0.07899642076102813,1.3269029099733032,0.6903736854282321,0.6959087221634063,0.4948023874520654,-0.3723533677252779,-0.6712453514247029,0.1313349751756042,-0.16017695954358752,-1.0236426902308147,0.3472014078474112,-0.12327671464242397,0.699598746653523,1.5944296855067384,-1.5845264127285006,-1.4996558494558243,-0.20814727791510054,0.4320719711200873,1.5114041344791205,-1.9590638984753106,1.369338191609641,-2.4812023638267746,-2.4369220699453784,0.8840999711593407,-1.0088825922703493,-2.047624486238103,-0.29486285343283464,-0.30408791465812557,0.6313332935863701,0.4025517751991565,-2.4184719474947967,-0.15279691056335523,-0.23951248608108935,-1.3225346739302395,-0.7044555718357498,1.0704462079102166,-0.9221670167526149,-1.4646006167997192,1.0630661589299837,-0.12327671464242397,2.0040224039096546,-1.8686582984674598,-0.5679246657014451,0.27893595478025834,-0.36866334323516176,0.2770909425352003,-0.09929155545666797,-0.8797317351162767,-0.6029798983575501,0.3914817017288071,-0.6251200452982485,0.9210002160605042,0.5815179629697995,0.6737685752227084,2.0944280039175047,0.7678641997206753,0.03723935067763725,-1.9406137760247288,-2.16201524543171,0.9062401181000386,2.4062350733323363,0.4136218486695055,-0.5476295310058047,0.07967463231397554,0.13317998742066225,0.5519977670488688,0.806609456866897,-0.28194776771742763,-0.5347144452903977,1.0095608038232964,-2.2911661025857826,0.7807792854360829,-0.18231710648428595,0.7272739303293957,-0.05870128606538776,0.5114074976575886,0.48373231398171596,-0.518109335084874,-0.4055635881363253,-0.37788840446045263,0.638713342566603,-1.4184753106732646,-0.3649733187450456,0.4302269588750292,-2.2505758331945027,2.87855820806723,-0.7376657922467972,0.15347512211630263,0.26233084457473466,-0.42585872283196513,1.1128814895465549,-0.13803681260288958,0.29369605274072397,2.0999630406526797,0.2180505506933388,-1.0531628861517455,-0.33360811057905626,-0.6509502167290631,0.7512590895151516,1.4154634977360954,-1.2321290739223887,2.2143537998462866,0.282625979270375,-1.4516855310843118,-1.7893227719299583,-0.6103599473377829,-0.02918109014445703,-0.4793640779386524,0.01140917924682266,1.58335961203639,-0.9387721269581386,-0.26165263302178726,0.28631600376049116,0.6331783058314288,0.48004228949159977,1.3545780936491758,0.23096563640874584,-2.036554412767754,1.5169391712142952,1.0335459630090529,0.6257982568511959,1.5556844283605173,0.07229458333374272,1.1626968201631254,-0.5254893840651068,-0.7634959636776117,0.5852079874599156,0.3250612609067128,0.47635226500148364,0.04277438741281199,1.3379729834436522,0.9542104364715511,0.3804116282584581,-0.07715140851596954,-1.0033475555351747,1.1387116609773689,0.6940637099183482,0.29369605274072397,0.7918493589064318,1.4246885589613862,-2.7413490903799778,0.14609507313606981,1.8084511059334873,-0.5955998493773178,0.11657487721513908,-1.5107259229261736,0.48926735071689065,0.688528673183174,-1.4055602249578574,-0.7395108044918552,0.21620553844828022,-0.3594382820098709,0.7789342731910243,-2.150945171961361,0.6663885262424756,-0.26165263302178726,0.4376070078552615,0.2918510404956659,-0.6601752779543539,-1.2007638657563995,-0.06608133504562057,1.0150958405584711,0.5759829262346248,0.05199944863810287,0.19960042824275706,-0.04394118810492266,0.6663885262424756,-0.7764110493930189,0.2457257343692115,-0.5568545922310956,-0.6601752779543539,1.692215334494822,0.5114074976575886,2.2309589100518097,0.9246902405506204,0.14794008538112788,-2.2579558821747354,-0.32069302486364926,-0.6361901187685974,-0.36866334323516176,0.20698047722298935,0.9431403630012022,-2.6841537107831743,0.25679580783956046,0.4154668609145636,0.22543059967357112,-0.3354531228241143,-0.5328694330453396,0.09443473027444063,0.7604841507404425,-0.4701390167133615,-1.077148045337502,0.0483094241479862,0.5612228282741597,-0.22106236363050757,0.6350233180764868,-1.1749336943255853,-0.0015059064685843712,0.14425006089101172,0.40070676295409796,0.1866853425273495,-0.4793640779386524,0.14978509762618594,0.9486753997363769,1.2069771140445218,0.9486753997363769,0.14056003640089507,-0.1620219717886461,0.18484033028229144,-0.0476312125950388,-0.339143147314231,1.3822532773250487,-0.9553772371636621,-0.16571199627876226,1.7346506161311603,-0.3243830493537654,-2.152790184206419,0.8988600691198058,0.5593778160291016,1.5888946487715647,0.6534734405270686,-1.2727193433136685,1.6977503712299968,-1.2302840616773305,0.14425006089101172,0.3232162486616547,0.016944215981997402,0.3250612609067128,-0.47567405344853625,1.509559122234063,1.2309622732302776,0.2125155139581641,0.531702632353229,1.356423105894234,0.42100189764973833,-0.09375651872149324,-0.9664473106340112,-0.6638653024444701,0.1368700119107789,1.0206308772936459,-1.0291777269659892,-0.10298157994678411,2.4929506488500714,0.8933250323846316,-1.5494711800723953,-0.6122049595828409,0.08336465680409168,-1.359434918831403,-0.02733607789939896,-0.5550095799860375,0.5519977670488688,-0.13619180035783152,-0.18785214321946017,0.27155590580002553,0.35642646907270215,-0.21737233914039142,0.4191568854046797,-1.901868518878507,-1.9701339719456596,0.5704478894994506,-0.964602298388953,0.41177683642444746,0.7383440037997446,-1.4793607147601846,1.1018114160762054,-1.080838069827618,0.8342846405427696,-0.05316624933021354,0.020634240472113548,1.0722912201552746,0.3490464200924693,1.749410714091626,0.7051337833886971,-0.8262263800095899,1.417308509981154,-0.060546298310446355,0.4708172282663089,1.6313299304079019,-0.00519593095870104,-0.5550095799860375,0.5187875466378215,-0.2598076207767292,0.5593778160291016,0.7494140772700936,-0.7044555718357498,0.31399118743636384,-1.3741950167918684,1.6959053589849382,0.5021824364322977,-0.2339774493459146,0.46897221602125083,-0.45906894324301256,-0.9682923228790693,1.622104869182611,1.8730265345105237,-0.15279691056335523,-1.0217976779857565,-0.3077779391482417,-0.6122049595828409,1.3896333263052814,1.3914783385503395,-1.3243796861752974,-0.38157842895056876,0.06306952210845183,0.3508914323375274,-1.2653392943334358,-0.23213243710085651,-1.0826830820726765,-0.26165263302178726,-0.9738273596142438,0.6719235629776503,-0.7265957187764482,-0.7321307555116224,2.622101506004144,-0.23766747383603126,0.640558354811661,1.4855739630483065,0.22912062416368778,-1.1324984126892472,0.19775541599769847,-1.7948578086651328,-0.2893278166976599,1.6294849181628444,-0.363128306499987,0.6424033670567196,1.989262305949189,-1.444305482104079,-1.4147852861831482,-1.2985495147444832,0.6719235629776503,0.44129703234537815,-1.2800993922939015,-1.2634942820883777,1.1147265017916128,-1.757957563763969,0.5464627303136941,-0.911096943282266,-0.06792634729067865,1.1516267466927763,-0.7893261351084264,0.38594666499363284,-0.9904324698197675,-0.9461521759383714,0.8638048364637009,-0.3170030003735326,-1.0882181188078508,-1.6306517188549552,-0.19707720444475105,0.8619598242186423,0.22912062416368778,-0.21368231465027476,0.009564167001764587,1.4376036446767932,-0.3649733187450456,1.0649111711750419,-1.411095261693032,0.47266224051136696,-0.5439395065156886,0.9763505834122496,-0.2598076207767292,0.3638065180529344,0.7032887711436391,-0.4701390167133615,0.2641758568197933,-0.07530639627091146,0.9357603140209694,-0.08453145749620235,0.19775541599769847,-0.056856273820329685,0.9080851303450967,-0.6546402412191792,-0.8040862330688915,-0.9037168943020332,-0.8354514412348808,1.8176761671587782,-1.3668149678116355,-1.2487341841279123,-0.37604339221539457,0.6073481344006141,-0.686005449385168,3.0870445917588043,-1.2099889269816904,1.6313299304079019,-0.14910688607323855,1.7697058487872652,0.32690627315177084,-1.619581645384606,-0.9812074085944766,1.3287479222183614,0.20513546497793128,-1.1693986575904107,-0.0015059064685843712,0.5206325588828795,1.8047610814433712,-0.9996575310450584,-0.7634959636776117,0.4025517751991565,0.20144544048781513,-0.6675553269345863,-1.5144159474162897,0.03539433843257917,-0.6657103146895281,-1.3760400290369263,-1.193383816776167,0.9781955956573076,-0.662020290199412,-0.05132123708515547,1.548304379380284,-0.6361901187685974,-0.23213243710085651,-0.6823154248950519,-0.8575915881755787,-1.5586962412976861,0.27155590580002553,0.7992294078866646,0.6737685752227084,-0.6122049595828409,1.0206308772936459,0.35273644458258546,-0.6804704126499939,-0.8354514412348808,-1.246889171882854,-1.0457828371715128,0.18115030579217528,1.1239515630169037,-1.5863714249735588,-0.38526845344068544,0.7641741752305592,-0.6472601922389464,0.605503122155556,-0.5992898738674339,-1.5365560943569878,1.548304379380284,-3.0808313434706824,-0.3170030003735326,0.07598460782385887,-1.0420928126813964,0.5261675956180543,1.1018114160762054,0.24941575885932762,-1.1583285841200615,-1.5808363882383842,-0.46829400446830344,1.10734645281138,0.6737685752227084,0.14609507313606981,-0.22290737587556564,-0.35205823302963807,-0.6694003391796448,0.7309639548195118,0.9837306323924824,-0.3225380371087073,0.5612228282741597,0.22174057518345497,2.0593727712614,1.4099284610009213,1.3508880691590592,-0.8741966983811024,0.6922186976732901,-1.4313903963886718,0.5907430241950904,-0.48120909018371044,-0.24320251057120548,0.1055048037447896,-1.381575065772101,1.7512557263366835,1.8527313998148833,0.14240504864595313,1.7844659467477308,0.38594666499363284,-0.3170030003735326,-0.0476312125950388,-0.25796260853167113,0.40439678744421464,0.2032904527328732,1.0409260119892858,-0.6435701677488302,-1.4479955065941954,0.4948023874520654,-0.26534265751190395,-0.267187669756962,-0.446153857527605,0.531702632353229,0.17746028130205863,-0.8852667718514514,-0.686005449385168,-1.693382135186933,-0.09191150647643516,-1.4055602249578574,1.2383423222105105,-1.8631232617322853,-0.578994739171794,0.49295737520700683,1.3305929344634193,1.675610224289299,-0.422168698341849,-0.7395108044918552,0.7512590895151516,0.638713342566603,0.30476612621107296,-1.3483648453610537,-0.04025116361480599,1.526164232439586,0.25495079559450234,0.6959087221634063,0.5538427792939269,-1.5513161923174532,0.6479384037918938,-0.8834217596063934,-0.20445725342498386,-0.6103599473377829,0.0649145343535099,-1.2413541351476796,-0.1620219717886461,-0.1288117513775987,0.27340091804508415,0.15347512211630263,2.3545747304707083,-1.1306534004441888,-0.4701390167133615,-0.4424638330374888,-0.3981835391560925,0.44129703234537815,-1.599286510688966,0.688528673183174,0.2531057833494438,-1.2229040126970978,-0.24504752281626407,1.526164232439586,0.522477571127938,1.2162021752698127,1.9855722814590728,0.2365006731439206,0.27155590580002553,0.5815179629697995,-0.6933854983654009,0.7567941262503264,-0.6638653024444701,-0.43323877181219794,-0.3575932697648128,1.0261659140288202,0.1645451955866516,0.282625979270375,1.2604824691512089,0.7697092119657334,-1.1251183637090145,0.9652805099419006,0.6719235629776503,0.6940637099183482,0.07044957108868465,1.0575311221948094,0.2641758568197933,0.2198955629383969,1.766015824297149,-0.10113656770172605,-0.267187669756962,0.9080851303450967,-1.320689661685181,1.2936926895622558,-0.016266004429049997,-0.7468908534720881,-0.8336064289898222,-0.019956028919166143,-0.1620219717886461,0.09258971802938257,-0.33729813506917294,-1.7450424780485618,0.7088238078788138,1.6866802977596473,1.1719218813884162,-0.9812074085944766,-0.37788840446045263,0.7457240527799774,-0.32069302486364926,0.35642646907270215,1.4265335712064449,0.3195262241715386,-0.7265957187764482,0.27340091804508415,-1.141723473914538,1.1737668936334744,-0.6288100697883646,-0.19154216770957683,0.9191552038154461,0.12764495068548803,-0.3077779391482417,0.2752459302901422,-0.6361901187685974,0.8342846405427696,-0.5992898738674339,1.500334061008772,-0.4443088452825469,-0.24504752281626407,-0.9037168943020332,-0.30962295139330026,1.0630661589299837,-0.24504752281626407,-1.0660779718671527,-0.056856273820329685,-2.067919620933743,-0.0642363228005625,1.2586374569061505,-1.1823137433058177,-1.2413541351476796,-0.3114679636383584,0.9210002160605042,-0.7358207800017391,1.5556844283605173,0.701443758898581,-1.2026088780014579,0.3103011629462477,1.36011313038435,-1.5033458739459407,1.2900026650721397,-0.9203220045075569,0.771554224210792,0.44498705683549433,0.6294882813413121,0.03908436292269532,0.6626985017523594,0.3638065180529344,-1.1896937922860507,1.679300248779415,0.7881593344163151,-2.1693952944119426,0.1793052935471167,0.30476612621107296,-0.1454168615831224,-0.10113656770172605,-1.8612782494872273,-0.7044555718357498,1.0390809997442276,0.10365979149973152,1.3804082650799905,0.0649145343535099,-0.29486285343283464,0.5243225833729962,1.275242567111674,0.10919482823490627,0.33797634662212034,-0.8741966983811024,0.3250612609067128,-0.45906894324301256,-0.4867441269188852,0.5852079874599156,-0.7081455963258665,-0.5236443718200487,0.555687791538985,1.2457223711907432,2.616566469268969,1.3287479222183614,1.0593761344398676,-0.3649733187450456,-0.5771497269267359,-0.5273343963101649,-0.15833194729852942,1.3877883140602227,-3.3114578741029543,-0.8446765024601717,0.8379746650328863,-0.5107292861046412,-0.7026105595906917,1.9597421100282577,-2.2339707229889787,-1.6435668045703622,-1.2007638657563995,-0.5863747881520269,2.2733941916881477,-0.8003962085787754,0.7069787956337558,-1.0199526657406983,0.49295737520700683,-0.8594366004206367,-1.3760400290369263,1.2088221262895797,0.09258971802938257,-1.6601719147758858,1.035390975254111,0.12026490170525522,0.0003391057764737013,-1.245044159637796,-0.20445725342498386,0.6424033670567196,1.2217372120049868,-0.422168698341849,-0.6767803881598772,-1.1564835718750035,1.044616036479402,-0.7634959636776117,-2.3538965189177605,-1.8114629188706564,-0.14726187382818048,-0.9867424453296512,0.32690627315177084,0.26971089355496747,-1.1767787065706434,-0.4110986248715,1.6645401508189495,0.8840999711593407,0.17377025681194247,-3.3114578741029543,-1.2727193433136685,-0.21921735138544948,-0.8760417106261605,0.6257982568511959,-0.07530639627091146,-1.7874777596849,-0.995967506554942,0.06675954659856798,-0.32069302486364926,-0.23766747383603126,-0.8040862330688915,-0.686005449385168,-0.03471612687963177,-1.776407686214551,1.024320901783762,-1.361279931076461,-0.5550095799860375,1.5722895385660405,-0.35390324527469613,-1.5420911310921623,-0.7155256453060993,1.3176778487480123,0.389636689483749,0.5593778160291016,0.34166637111223647,-1.2302840616773305,-1.233974086167447,0.8656498487087589,1.2069771140445218,0.4376070078552615,-0.7893261351084264,-0.49596918814417607,1.7604807875619743,0.2992310894758982,0.4579021425509019,0.7900043466613738,0.7936943711514899,-0.0956015309665513,1.1626968201631254,0.7770892609459662,-1.2026088780014579,0.7420340282898608,-0.6380351310136555,1.0519960854596346,-0.10113656770172605,-1.2911694657642503,-1.8059278821354818,-0.8502115391953459,-0.7819460861281936,0.3232162486616547,0.3435113833572946,-2.5826780373049743,0.36934155478810915,-0.4184786738517323,0.07229458333374272,-0.8686616616459277,-2.1454101352261863,0.02985930169740443,-1.1435684861595963,0.723583905839279,0.5132525099026471,-0.5328694330453396,1.7309605916410442,1.5981197099968556,-1.2302840616773305,-1.379730053527043,1.36011313038435,-0.08822148198631902,-1.7062972209023402,0.461592167041018,0.867494860953817,1.0077157915782384,-0.8520565514404039,-0.840986477970055,-0.3557482575197547,0.9431403630012022,0.8840999711593407,-1.9682889597006015,0.306611138456131,0.3250612609067128,0.7401890160448027,-0.48120909018371044,0.6737685752227084,0.8010744201317227,0.19037536701746616,-0.45722393099795444,-0.7948611718436006,-0.16571199627876226,1.0519960854596346,-0.47198402895841957,1.345353032423885,0.3398213588671784,-0.49965921263429225,1.0686011956651584,1.5888946487715647,0.32875128539682946,0.36196150580787634,1.0003357425980055,0.06675954659856798,-0.7395108044918552,0.6350233180764868,0.5095624854125305,-0.04209617585986458,-0.17862708199416927,-0.11036162892701694,-0.36128329425492894,-1.1878487800409925,-1.610356584159315,1.18852699159394,-1.150948535139829,0.8084544691119555,1.5114041344791205,-2.453527180150902,-0.5457845187607466,1.1571617834279506,1.474503889577957,0.7918493589064318,-2.0310193760325794,-0.42401371058690707,-2.18231038012735,1.2125121507796959,-1.4240103474084391,0.9486753997363769,0.8840999711593407,-0.3114679636383584,0.7364989915546866,-0.7801010738831354,-1.693382135186933,1.6903703222497646,-2.348361482182586,-0.2598076207767292,0.7069787956337558,1.037235987499169,0.461592167041018,-0.911096943282266,-1.3981801759776247,1.1147265017916128,0.21436052620322216,0.7198938813491629,-0.9369271147130805,1.0538410977046928,-1.72659235559798,-0.7063005840808084,0.2752459302901422,-0.21921735138544948,1.0150958405584711,-0.4664489922232454,-0.6694003391796448,0.6811486242029412,-0.3243830493537654,-1.121428339218898,-0.007040943203759113,-0.5826847636619102,0.5483077425587521,1.1959070405741727,-0.07715140851596954,-0.5347144452903977,0.3305962976418875,-0.29486285343283464,1.0593761344398676,-1.7930127964200746,0.6737685752227084,0.009564167001764587,-0.6601752779543539,0.34535639560235265,-0.2893278166976599,0.18484033028229144,-0.44799886977266357,1.1590067956730092,1.376718240589874,-1.245044159637796,0.3490464200924693,0.7401890160448027,-0.18231710648428595,-0.35205823302963807,-1.5586962412976861,-0.3575932697648128,0.27893595478025834,1.0501510732145767,-0.4129436371165581,0.005874142511648443,-0.5771497269267359,-1.112203277993607,0.8213695548273626,-2.9516804863166097,0.0981247547645573,-0.05870128606538776,1.1479367222026597,0.8342846405427696,0.5132525099026471,0.3195262241715386,-1.2653392943334358,-1.0513178739066873,0.8748749099340498,0.138715024155837,0.46712720377619277,-0.2505825595514383,-0.3944935146659763,0.8435097017680605,-0.3705083554802198,-0.12512172688748255,0.7992294078866646,0.638713342566603,-0.8391414657249969,2.072287856976807,0.797384395641606,-0.09191150647643516,1.7254255549058695,0.8453547140131191,1.9136168039018033,-1.6564818902857694,-0.9664473106340112,-1.3575899065863446,-0.686005449385168,0.2180505506933388,0.4136218486695055,1.251257407925918,1.1571617834279506,-0.9627572861438949,-0.007040943203759113,0.3305962976418875,0.2512607711043857,-0.14357184933806433,0.3508914323375274,-1.0660779718671527,-0.9092519310372079,0.44129703234537815,1.1350216364872527,-0.6970755228555175,-0.8243813677645313,-0.30224290241306745,-0.6269650575433066,2.7733925100989145,-0.8778867228712186,0.3158361996814219,-1.4719806657799517,-0.662020290199412,-2.6140432454709637,-1.9682889597006015,-1.5623862657878025,0.7807792854360829,1.6387099793881352,-1.1804687310607598,0.41731187315962165,0.6663885262424756,-0.1767820697491112,0.40993182417938884,0.7678641997206753,0.723583905839279,-1.0919081432979674,1.826901228384069,1.0483060609695185,1.740185652866335,-0.8926468208316842,-0.22290737587556564,0.3361313343770618,-0.09191150647643516,0.3785666160134,-0.49227916365405944,-0.9147869677723821,1.640554991633193,0.16639020783170966,-0.5476295310058047,-1.1730886820805269,-0.8815767473613352,-1.4406154576139627,-0.5623896289662703,-1.525486020886639,-1.328069710665414,0.9837306323924824,-1.077148045337502,-1.0181076534956401,-0.40187356364620913,-1.0181076534956401,1.9726571957436647,-0.11958669015230781,0.7198938813491629,-2.538397743423578,1.500334061008772,0.8711848854439331,-0.0033509187136424434,-0.06977135953573724,-0.4074086003813834,-1.224749024942156,0.059379497618335164,-0.3354531228241143,-0.6823154248950519,0.2032904527328732,-0.3723533677252779,-0.47382904120347763,0.02247925271717162,0.4283819466299706,0.20882548946804794,0.47266224051136696,1.035390975254111,0.18115030579217528,-0.23213243710085651,1.2125121507796959,-0.8649716371558115,0.2365006731439206,-1.0605429351319782,0.24941575885932762,-0.38526845344068544,-0.4775190656935943,0.7770892609459662,1.203287089554405,1.1128814895465549,1.1626968201631254,-1.141723473914538,0.7143588446139881,-0.6435701677488302,-0.4775190656935943,-0.8059312453139496,0.42469192213985446,-0.5033492371244089,-0.7487358657171461,-0.9682923228790693,-0.20076722893486773,1.976347220233782,-0.2745677187371948,-0.6546402412191792,-0.6989205351005756,0.4579021425509019,-0.3003978901680094,-0.06239131055550443,1.3785632528349319,-0.08453145749620235,0.14425006089101172,0.5962780609302651,1.1516267466927763,-0.32991808608894013,0.2678658813099094,-1.287479441274134,1.7992260447081965,0.23281064865380394,0.3490464200924693,0.0981247547645573,-0.21552732689533283,-0.7432008289819719,-1.067922984112211,1.6774552365343565,1.356423105894234,0.389636689483749,-0.21921735138544948,-0.42401371058690707,0.6571634650171847,2.254944069237566,-0.5015042248793503,0.29369605274072397,0.5390826813334613,0.19591040375264038,0.06860455884362605,-2.3114612372814225,0.5261675956180543,0.937605326266028,0.2992310894758982,-0.24689253506132217,-0.8040862330688915,0.17746028130205863,-0.02918109014445703,-0.6564852534642373,-0.5771497269267359,1.9855722814590728,-0.2524275717964964,-0.6527952289741211,-0.1288117513775987,0.3748765915232839,-1.2985495147444832,-0.14172683709300574,0.7900043466613738,1.2235822242500454,-0.2745677187371948,0.5944330486852065,-0.5955998493773178,1.3877883140602227,-0.17309204525899508,0.2881610160055492,-0.5568545922310956,0.21436052620322216,0.5058724609224143,1.0981213915860892,-0.0033509187136424434,0.10734981598984819,-0.7026105595906917,-0.49781420038923413,-0.6251200452982485,-0.28194776771742763,0.7660191874756173,2.138708297798901,-0.7321307555116224,-0.3170030003735326,1.7198905181706947,0.3841016527485748,-0.8059312453139496,1.055686109949751,-1.256114233108145,-0.4313937595671399,0.21436052620322216,0.4781972772465417,0.8435097017680605,1.2992277262974306,-0.8834217596063934,1.7770858977674986,-0.6749353759148191,0.5114074976575886,0.49295737520700683,0.8527347629933514,-0.21552732689533283,0.3361313343770618,-0.17862708199416927,0.20513546497793128,-1.829913041321238,-2.036554412767754,0.1719252445668844,-0.5328694330453396,0.23096563640874584,-0.2911728289427185,0.5944330486852065,-0.0734613840258534,-0.5420944942706305,0.6645435139974175,-1.4350804208787882,1.4560537671273752,1.1608518079180672,0.19775541599769847,-0.46829400446830344,0.15716514660641875,-1.4092502494479737,-0.07530639627091146,-0.6288100697883646,-0.3317630983339982,1.487418975293365,-0.911096943282266,-1.4295453841436137,0.723583905839279,-0.9406171392031967,-0.9369271147130805,-0.13434678811277345,0.3638065180529344,0.09258971802938257,-0.20076722893486773,-0.10113656770172605,0.9394503385110861,0.34535639560235265,0.1221099139503133,-0.5716146901915612,-0.4129436371165581,-0.45168889426277975,0.16639020783170966,0.5409276935785199,0.3582714813177602,0.6147281833808469,-0.7764110493930189,0.22727561191862972,-0.5623896289662703,-1.150948535139829,-1.318844649440123,-1.2302840616773305,-0.06608133504562057,1.0538410977046928,-0.9203220045075569,-0.8520565514404039,-0.21552732689533283,1.9136168039018033,-0.7063005840808084,0.9357603140209694,1.0759812446453914,0.45236710581572714,0.7678641997206753,-0.04209617585986458,-0.2893278166976599,-0.7044555718357498,1.7162004936805786,-1.1177383147287816,-3.1657019067433585,-0.36866334323516176,-0.5402494820255724,-0.7155256453060993,-0.18969715546451876,0.7623291629855011,0.6793036119578831,-0.18416211872934402,1.417308509981154,0.004029130266589846,1.596274697751797,-1.527331033131697,-1.785632747439842,-0.20814727791510054,1.9726571957436647,-0.0956015309665513,0.20513546497793128,-0.0734613840258534,-0.8502115391953459,0.4634371792860761,1.1571617834279506,1.3582681181392922,-0.912941955527324,-1.3575899065863446,0.27155590580002553,0.31399118743636384,0.09258971802938257,1.5206291957044114,0.4228469098947964,-0.22290737587556564,-0.21737233914039142,1.1202615385267871,0.17746028130205863,-0.9553772371636621,0.474507252756425,-0.4609139554880706,-0.47567405344853625,2.7420273019329255,-0.6195850085630737,0.40070676295409796,-0.74504584122703,-1.1177383147287816,0.7032887711436391,-0.6361901187685974,0.4431420445904362,1.6663851630640079,-0.9812074085944766,-1.6860020862067004,0.7198938813491629,1.0575311221948094,-1.0217976779857565,0.08705468129420782,0.797384395641606,-0.5586996044761542,0.4984924119421816,-0.3649733187450456,0.46528219153113415,0.6221082323610793,-1.1583285841200615,1.548304379380284,-0.7247507065313902,0.3361313343770618,-1.6786220372264675,0.6608534895073014,0.44867708132561096,1.640554991633193,-0.37604339221539457,-1.2007638657563995,-0.7487358657171461,0.12026490170525522,-0.16755700852382033,-0.2764127309822529,-0.20076722893486773,1.5077141099890043,0.2032904527328732,0.02985930169740443,-0.04394118810492266,-0.35021322078457995,-0.8262263800095899,0.34535639560235265,0.9117751548352133,1.1479367222026597,-0.8926468208316842,1.0077157915782384,0.3804116282584581,-0.4701390167133615,0.8250595793174788,-0.5753047146816774,-0.0900664942313771,-0.7561159146973789,-1.3003945269895412,-0.3170030003735326,0.5778279384796834,-0.68416043714011,0.8121444936020716,0.05568947312821902,0.2604858323296766,0.23834568538897868,0.9911106813727146,-0.38157842895056876,-0.9848974330845931,2.0464576855459917,-2.1933804535976993,-0.5734597024366194,1.2364973099654524,2.1885236284154725,-1.1103582657485491,1.1626968201631254,0.7863143221712571,1.0464610487244599,-0.6509502167290631,-0.45906894324301256,-0.7764110493930189,-1.3981801759776247,-0.7911711473534845,2.0353876120756436,0.3084561507011891,0.29738607723084015,0.7881593344163151,-0.12143170239736589,-0.4609139554880706,-1.6435668045703622,-1.3538998820962285,-2.8133045679372466,1.2088221262895797,0.31768121192647997,-0.8908018085866262,-0.5513195554959214,1.1128814895465549,-0.6896954738752847,-1.1823137433058177,0.24941575885932762,0.49111236296194877,-0.35390324527469613,0.37672160376834196,0.6202632201160212,-0.021801041164224214,1.343508020178827,0.3361313343770618,-1.2616492698433197,-1.5310210576218135,-0.41663366160667425,-1.036557775946222,0.5058724609224143,1.2973827140523726,-0.6546402412191792,2.2143537998462866,0.8582697997285261,-0.7727210249029026,0.5944330486852065,-1.6564818902857694,0.33428632213200365,1.6700751875541242,0.27340091804508415,-2.4313870332102034,0.19591040375264038,-1.6601719147758858,0.05753448537327709,0.48004228949159977,0.9597454732067259,1.3250578977282452,-0.15279691056335523,0.3398213588671784,-0.8243813677645313,0.2198955629383969,-0.09191150647643516,-0.03840615136974792,0.0483094241479862,0.7918493589064318,-2.429542020965146,-1.0642329596220945,-0.6638653024444701,-0.2690326820020201,0.2604858323296766,-1.4461504943491374,-1.6085115719142569,-0.19523219219969298,0.7328089670645699,-0.025491065654340884,-0.6085149350927248,-0.13250177586771486,-0.18969715546451876,-1.027332714720931,-1.5402461188471044,-1.5882164372186167,1.4468287059020843,-1.7395074413133873,-0.3594382820098709,0.06306952210845183,0.6774585997128245,1.5169391712142952,-0.04209617585986458,-1.6601719147758858,-0.6361901187685974,-0.36866334323516176,-0.5107292861046412,-0.060546298310446355,-0.505194249369467,-0.3354531228241143,-0.14357184933806433,1.8342812773643014,0.6184182078709631,1.1700768691433583,0.6959087221634063,-0.06608133504562057,2.2826192529134386,1.096276379341031,0.1866853425273495,-0.8520565514404039,-1.6011315229340242,-0.04209617585986458,0.09258971802938257,-0.06239131055550443,0.46528219153113415,-0.662020290199412,-0.0033509187136424434,-0.7782560616380769,1.0759812446453914,0.4468320690805524,0.2180505506933388,0.5464627303136941,-1.6730870004912932,-0.7671859881677279,0.5187875466378215,1.635019954898019,-0.2358224615909732,0.04277438741281199,-0.5974448616223759,-2.6158882577160214,0.10181477925467344,-0.42585872283196513,1.103656428321264,-0.8225363555194732,0.282625979270375,-1.6029765351790823,0.5519977670488688,0.33428632213200365,-2.9867357189727155,0.42100189764973833,-0.8003962085787754,0.5077174731674724,0.5243225833729962,1.7900009834829056,2.478190550889606,2.011402452889887,-2.1140449270601973,1.1811469426137071,0.3232162486616547,1.8176761671587782,0.7457240527799774,-0.6232750330531904,-1.9129385923488562,0.3029211139660149,-1.0236426902308147,-0.13988182484794767,1.2900026650721397,0.9025500936099224,-0.20076722893486773,-1.0291777269659892,-0.014420992183991926,-1.2229040126970978,-0.68416043714011,0.4560571303058433,-0.5494745432508633,0.8785649344241659,-0.446153857527605,-0.42585872283196513,-0.5679246657014451,1.701440395720113,0.26233084457473466,1.2143571630247545,0.306611138456131,0.8398196772779444,0.18853035477240757,-0.6749353759148191,-0.07161637178079532,-1.6066665596691985,-1.599286510688966,0.7789342731910243,-0.3668183309901037,-0.37604339221539457,-2.390796763818924,-1.154638559629945,1.3822532773250487,0.5077174731674724,-0.6306550820334227,0.9449853752462603,-0.5162643228398159,-0.6158949840729576,0.38225664050351615,-0.5310244208002816,0.12026490170525522,0.616573195625905,0.282625979270375,1.7162004936805786,-0.8188463310293571,0.9412953507561441,-0.6675553269345863,1.6903703222497646,1.3656481671195249,-0.2284424126107404,-1.379730053527043,-0.8133112942941824,-0.6398801432587136,-1.4885857759854755,-0.40002855140115057,-0.30408791465812557,0.03908436292269532,-0.9313920779779058,-1.7247473433529221,0.26602086906485134,-1.2930144780093085,0.17377025681194247,0.007719154756706515,0.07229458333374272,2.0040224039096546,-0.18969715546451876,0.5206325588828795,-0.18416211872934402,-0.7007655473456337,-0.4553789187528959,-0.8483665269502878,0.8324396282977116,1.740185652866335,-1.3926451392424501,-1.1823137433058177,0.7863143221712571,-1.163863620855236,0.7051337833886971,-0.924012028997673,-0.32622806159882345,0.35642646907270215,-0.5845297759069683,1.5280092446846447,1.2346522977203944,-0.0956015309665513,0.07229458333374272,0.22912062416368778,0.15347512211630263,1.4800389263131317,0.016944215981997402,-2.3557415311628187,2.295534338628846,-1.0291777269659892,0.49295737520700683,-0.280102755472369,0.9062401181000386,0.38594666499363284,-0.46460397997818675,-1.0439378249264546,0.7623291629855011,0.6479384037918938,0.4154668609145636,0.5538427792939269,2.1848336039253553,0.6147281833808469,-0.4904341514090013,-0.9978125188000001,-0.7598059391874951,0.18115030579217528,0.365651530297993,2.1294832365736096,-0.07530639627091146,-0.0015059064685843712,-0.9719823473691858,-0.6730903636697609,-1.6158916208944896,0.5704478894994506,0.4025517751991565,-0.6251200452982485,0.4431420445904362,0.9763505834122496,-1.715522282127631,-0.43323877181219794,2.708817081521878,0.28631600376049116,-1.2819444045389594,-0.5974448616223759,-0.43323877181219794,-1.4996558494558243,0.5741379139895667,-0.36128329425492894,-1.027332714720931,-1.141723473914538,-1.3686599800566939,-1.2505791963729704,-0.3723533677252779,-1.8040828698904237,1.0796712691355075,-0.9479971881834295,-0.15279691056335523,-1.3003945269895412,0.7475690650250355,-2.285631065850608,1.976347220233782,0.5187875466378215,-1.2893244535191923,-0.06977135953573724,0.474507252756425,0.9800406079023657,-1.4166302984282064,-0.18785214321946017,1.3195228609930705,0.9394503385110861,-1.285634429029076,1.8453513508346508,0.6442483793017777,-1.5384011066020462,0.8213695548273626,0.5833629752148576,-1.2967045024994248,0.7475690650250355,-1.5310210576218135,0.07413959557880079,-1.320689661685181,-0.3409881595592891,-0.5586996044761542,-0.769031000412786,-0.6970755228555175,0.3121461751913058,-0.6029798983575501,-0.10298157994678411,2.319519497814602,-0.3170030003735326,-0.5439395065156886,0.3324413098869456,1.1202615385267871,0.12395492619537136,1.055686109949751,-0.11589666566219167,0.0335493261875211,-0.07530639627091146,-1.6952271474319913,0.4394520201003201,-1.6029765351790823,-0.34467818404940526,-2.377881678103517,-0.8225363555194732,1.3398179956887102,0.6645435139974175,-1.0088825922703493,-0.014420992183991926,0.06860455884362605,-0.5974448616223759,0.9339153017759113,-0.8059312453139496,0.48373231398171596,-1.9498388372500197,0.18115030579217528,-0.7782560616380769,-2.007034216846823,0.4634371792860761,-1.0402478004363385,-0.9184769922624988,0.3545814568276435,0.6719235629776503,-1.112203277993607,-0.6491052044840044,1.0280109262738781,-1.1896937922860507,-0.5125742983496998,-0.4867441269188852,0.7217388935942209,0.19960042824275706,0.09627974251949871,-1.1841587555508761,2.116568150858203,0.6663885262424756,-0.9350821024680219,-1.9978091556215323,-1.560541253542744,1.474503889577957,0.6700785507325923,-1.5125709351712315,-0.6085149350927248,-0.7302857432665644,-0.4848991146738271,-1.401870200467741,0.11657487721513908,-0.9221670167526149,1.0538410977046928,1.4929540120285387,-0.2247523881206237,-1.2265940371872142,0.11472986497008048,-0.7985511963337173,0.795539383396548,0.32875128539682946,0.5261675956180543,-1.1251183637090145,-0.4848991146738271,-0.20076722893486773,0.8250595793174788,-1.1269633759540725,0.210670501713106,2.551991040691933,2.4449803304785585,-0.6177399963180157,-0.8834217596063934,0.25679580783956046,0.10365979149973152,0.25495079559450234,-0.6103599473377829,-1.03840278819128,0.4708172282663089,-0.9369271147130805,0.6903736854282321,-0.5439395065156886,0.5999680854203813,-0.2247523881206237,-0.04025116361480599,-0.5513195554959214,3.0593694080829317,1.5759795630561566,-1.0605429351319782,0.8416646895230024,0.5335476445982871,-0.11774167790724975,-0.3151579881284745,1.8767165590006398,0.531702632353229,0.8250595793174788,0.18115030579217528,0.9855756446375404,-0.45168889426277975,-0.4627589677331287,1.0187858650485873,1.116571514036671,2.194058665150646,-0.24873754730638023,-0.09191150647643516,-0.0734613840258534,-0.4055635881363253,0.5169425343927633,-0.6398801432587136,1.4634338161076084,0.8748749099340498,-0.4904341514090013,-0.5291794085552229,2.6368616039646087,-0.4775190656935943,0.6571634650171847,-0.09375651872149324,0.018789228227055473,-1.0402478004363385,0.38225664050351615,0.08705468129420782,1.7567907630718582,-0.6915404861203428,-0.5162643228398159,1.2346522977203944,0.9818856201474238,2.002177391664596,-0.16017695954358752,0.6756135874677665,-0.7524258902072628,0.5759829262346248,0.04277438741281199,-2.1749303311471175,0.5206325588828795,0.7328089670645699,0.8767199221791079,1.4357586324317357,-1.077148045337502,2.25125404474745,1.0040257670881223,-1.47382567802501,-0.17862708199416927,0.35642646907270215,-1.1675536453453523,1.4099284610009213,0.15163010987124403,0.3029211139660149,-0.924012028997673,0.7660191874756173,-0.7192156697962154,1.8158311549137196,0.8379746650328863,-1.2985495147444832,0.522477571127938,2.382249914146581,1.1645418324081835,0.9246902405506204,-0.24873754730638023,-0.6398801432587136,-1.3538998820962285,0.7807792854360829,0.4634371792860761,0.627643269096254,-0.5070392616145251,1.500334061008772,-0.24135749832614742,-0.02918109014445703,1.0261659140288202,1.640554991633193,0.007719154756706515,2.4837255876247806,-0.3225380371087073,-0.06792634729067865,-1.2930144780093085,0.5390826813334613,0.6479384037918938,-2.403711849534331,-0.7044555718357498,1.36011313038435,0.48926735071689065,-2.5660729270994507,2.0612177835064576,-1.9978091556215323,1.5187841834593538,0.2180505506933388,-0.8520565514404039,1.9117717916567458,0.1294899629305461,-0.2985528779229508,-0.025491065654340884,0.3029211139660149,2.136863285553843,-0.8003962085787754,-1.2062989024915742,-0.18785214321946017,0.6442483793017777,1.408083448755863,-0.5771497269267359,-1.1103582657485491,0.2365006731439206,1.2125121507796959,0.6774585997128245,-0.13065676362265677,-0.07715140851596954,-0.19338717995463492,-3.263487555731442,0.08520966904914976,0.04461939965787006,-0.3575932697648128,0.806609456866897,0.6737685752227084,-0.36866334323516176,-1.3741950167918684,0.461592167041018,1.7438756773564512,0.9302252772857952,-0.0015059064685843712,-3.1675469189884162,0.06675954659856798,0.5058724609224143,-0.7284407310215063,-0.00519593095870104,1.0667561834201003,0.03723935067763725,-0.4387738085473727,1.2088221262895797,-1.2616492698433197,-1.6786220372264675,-1.171243669835469,-0.4424638330374888,-0.07899642076102813,-0.45722393099795444,0.7180488691041047,0.8859449834043988,0.10181477925467344,0.13502499966572085,0.5390826813334613,0.11841988946019714,0.7936943711514899,0.3988617507090399,-0.21368231465027476,-0.06977135953573724,-1.2598042575982613,-1.693382135186933,1.1922170160840562,-0.267187669756962,-0.9609122738988365,0.282625979270375,-2.3022361760561316,1.9173068283919195,1.4486737181471427,-1.641721792325304,1.035390975254111,-0.6823154248950519,-2.315151261771539,0.6516284282820105,1.3269029099733032,-0.7468908534720881,-1.1472585106497126,1.5593744528506335,-1.7874777596849,0.7549491140052683,0.6922186976732901,-0.9313920779779058,-0.5347144452903977,0.18484033028229144,-0.925857041242731,-1.1786237188157016,0.782624297681141,-2.180465367882292,0.07967463231397554,-0.22290737587556564,-0.46829400446830344,0.3472014078474112,-0.9443071636933128,0.1553201343613607,-0.9277020534877897,-0.995967506554942,1.4339136201866771,-1.0125726167604656,-0.0808414330060862,-1.0181076534956401,1.6995953834750555,0.7457240527799774,0.07044957108868465,-1.4461504943491374,-0.1454168615831224,0.5981230731753232,-2.1361850740008954,-0.112206641172075,1.0741362324003327,-0.11958669015230781,0.8379746650328863,1.0741362324003327,-0.7837910983732517,-0.6823154248950519,-0.68416043714011,-0.5992898738674339,0.7531041017602103,-0.5586996044761542,0.45974715479595996,2.3711798406762314,0.5686028772543925,-2.224745661763688,0.9117751548352133,-1.650946853550595,-0.6048249106026087,-0.3077779391482417,0.1368700119107789,-1.722902331107864,0.605503122155556,-0.5254893840651068,0.605503122155556,1.0132508283134132,-0.04947622484009687,-0.6066699228476667,1.4947990242735973,-0.6158949840729576,-1.0144176290055238,0.5519977670488688,1.9597421100282577,0.210670501713106,0.5409276935785199,1.6903703222497646,1.1313316119971366,-1.193383816776167,-0.7505808779622042,0.5593778160291016,-0.8225363555194732,-0.28563779220754376,1.2180471875148706,-1.6380317678351877,-1.307774575969774,-1.6546368780407112,1.345353032423885,0.07229458333374272,0.07229458333374272,-0.44799886977266357,-0.2524275717964964,1.8416613263445347,-0.09929155545666797,-0.06977135953573724,1.4209985344712701,-0.17124703301393698,-0.7358207800017391,0.5649128527642758,-0.09375651872149324,0.5741379139895667,-1.069767996357269,-0.953532224918604,-1.4775157025151262,-0.29670786567789276,-1.0882181188078508,0.08520966904914976,0.10181477925467344,-0.34283317180434714,0.5187875466378215,0.5483077425587521,-0.38895847793080157,-0.5623896289662703,0.461592167041018,2.016937489625062,-1.307774575969774,-0.4295487473220818,0.8435097017680605,1.9911073181942465,-0.07715140851596954,-0.3981835391560925,1.2235822242500454,-0.0328711146345737,-1.1380334494244218,-1.1029782167683162,1.1571617834279506,-0.9369271147130805,0.5206325588828795,0.9929556936177732,0.0483094241479862,-0.21183730240521667,1.3305929344634193,1.4191535222262115,0.8914800201395735,1.022475889538704,-1.0144176290055238,0.9966457181078894,0.32875128539682946,-0.5162643228398159,-0.6122049595828409,0.2881610160055492,0.542772705823578,-0.8077762575590082,0.8564247874834681,-1.0568529106418618,-0.4830541024287685,0.282625979270375,0.5021824364322977,0.15716514660641875,-1.0550078983968036,1.4726588773328992,-0.12143170239736589,0.3158361996814219,0.2844709915154331,1.5372343059099356,0.5852079874599156,0.45236710581572714,0.806609456866897,-1.1158933024837234,1.5981197099968556,-0.8317614167447641,-0.16571199627876226,-0.018111016674108072,1.1147265017916128,-2.285631065850608,-1.285634429029076,0.306611138456131,-0.2339774493459146,-1.2229040126970978,1.1682318568983001,-0.42401371058690707,1.609189783467204,0.04646441190292813,-0.6066699228476667,-1.2727193433136685,-1.1232733514639563,0.33428632213200365,0.5686028772543925,0.7531041017602103,-0.5439395065156886,-0.32807307384388207,0.2198955629383969,-1.2930144780093085,-0.6527952289741211,1.2807776038468488,-1.7302823800880964,0.6516284282820105,-0.3797334167055107,-1.2819444045389594,-0.6251200452982485,-1.5900614494636751,0.4136218486695055,-0.6103599473377829,1.7198905181706947,-2.962750559786959,0.19775541599769847,-0.9018718820569751,-0.38895847793080157,-0.23951248608108935,-0.925857041242731,0.365651530297993,0.10365979149973152,-0.07530639627091146,-1.5734563392581515,0.18299531803723335,-1.1343434249343054,0.6018130976654393,0.784469309926199,0.7992294078866646,0.1940653915075823,0.29369605274072397,-1.4664456290447772,-0.3483682085395219,-0.3834234411956274,-0.4609139554880706,0.2365006731439206,2.317674485569545,0.24941575885932762,-1.973823996435776,-1.370504992301752,0.018789228227055473,0.6497834160369519,-1.7099872453924567,-0.8852667718514514,-0.8133112942941824,-0.0956015309665513,1.0335459630090529,-0.4147886493616162,-1.246889171882854,1.0483060609695185,-0.2930178411877766,0.6294882813413121,-0.6657103146895281,-1.5199509841514645,-1.5753013515032097,0.8638048364637009,-0.842831490215113,0.19960042824275706,2.1294832365736096,0.10919482823490627,0.0003391057764737013,-0.3963385269110344,-0.11958669015230781,-0.8354514412348808,0.3029211139660149,0.640558354811661,-0.8760417106261605,-0.4037185758912672,-1.276409367803785,-0.3317630983339982,-0.14172683709300574,0.5815179629697995,-0.7413558167369133,2.0685978324866907,1.0206308772936459,0.14978509762618594,-0.04394118810492266,-1.1361884371793634,1.2567924446610923,-0.1767820697491112,0.10181477925467344,0.46897221602125083,0.8490447385032353,-0.1804720942392279,-0.3243830493537654,-0.8520565514404039,-0.1620219717886461,0.18853035477240757,2.635016591719551,-1.0162626412505817,-0.601134886112492,-0.8778867228712186,-0.5955998493773178,-0.6712453514247029,1.0649111711750419,0.08705468129420782,-1.2985495147444832,-0.7634959636776117,0.13502499966572085,-0.4443088452825469,0.4874223384718326,0.5114074976575886,0.782624297681141,0.7623291629855011,-0.10667160443690078,-0.6694003391796448,0.09074470578432449,0.6774585997128245,-0.9147869677723821,0.9339153017759113,0.45974715479595996,0.6848386486930573,1.2549474324160341,0.8970150568747477,0.8564247874834681,-1.401870200467741,-1.1804687310607598,0.7254289180843375,0.8176795303372464,-0.6583302657092953,-2.7597992128305595,1.7936910079730217,-0.7026105595906917,0.2420357098790948,-0.5107292861046412,0.6663885262424756,0.009564167001764587,0.31399118743636384,0.25495079559450234,0.723583905839279,1.2420323467006271,-0.08822148198631902,1.116571514036671,0.0317043139424625,0.5833629752148576,-0.18785214321946017,1.2531024201709762,-0.8908018085866262,-1.3336047474005883,0.5981230731753232,-0.35205823302963807,2.1257932120834937,-0.8502115391953459,-0.9922774820648256,-0.20445725342498386,-2.003344192356707,-1.3741950167918684,-0.505194249369467,0.02616927720728829,-0.422168698341849,0.018789228227055473,1.094431367095973,0.0483094241479862,-0.7358207800017391,0.3841016527485748,-0.9461521759383714,0.8656498487087589,1.336127971198594,1.5685995140759244,0.389636689483749,1.2088221262895797,-0.7136806330610407,1.3951683630404557,-1.005192567780233,0.020634240472113548,1.2770875793567322,-0.025491065654340884,-1.0568529106418618,-1.2598042575982613,-1.4074052372029155,-0.757960926942437,-0.6122049595828409,0.4948023874520654,-0.8760417106261605,1.7549457508268007,0.10734981598984819,-0.00519593095870104,1.9689671712535486,1.6331749426529605,-0.7745660371479608,-0.8225363555194732,1.0095608038232964,-0.0808414330060862,-0.6878504616302267,-0.8686616616459277,-1.5070358984360572,1.61287980795732,0.38225664050351615,0.3490464200924693,0.01509920373693933,-1.7192123066177476,1.1331766242421946,0.5206325588828795,0.8287496038075954,-0.2690326820020201,0.950520411981435,-1.3317597351555304,0.10181477925467344,1.1922170160840562,0.7494140772700936,0.36934155478810915,-1.2911694657642503,0.14240504864595313,-0.13619180035783152,-0.3594382820098709,-2.368656616878226,0.8896350078945149,0.44867708132561096,1.1479367222026597,-1.8705033107125182,0.15347512211630263,-0.9664473106340112,-0.4848991146738271,0.1221099139503133,0.8232145670724207,0.4505220935706691,0.5870529997049743,0.7364989915546866,0.20144544048781513,-0.5863747881520269,0.9302252772857952,-1.4147852861831482,-0.014420992183991926,-0.5716146901915612,-0.2837927799624857,0.32690627315177084,-1.0070375800252909,-1.1823137433058177,-0.7284407310215063,2.6128764447788533,-1.1269633759540725,0.25679580783956046,-1.3446748208709376,-0.8262263800095899,-0.4295487473220818,0.9523654242264931,0.024324264962230214,1.0132508283134132,0.09258971802938257,-0.9295470657328477,2.830587889695717,-1.2745643555587267,-1.1103582657485491,-0.6122049595828409,0.5870529997049743,-0.37604339221539457,0.1221099139503133,-0.5660796534563866,0.26233084457473466,1.0390809997442276,0.638713342566603,-0.0033509187136424434,0.44129703234537815,-0.3575932697648128,1.334282958953536,-0.021801041164224214,-0.8206913432744152,1.880406583490756,-0.5697696779465031,-2.224745661763688,1.1128814895465549,-0.24320251057120548,-0.6048249106026087,0.03723935067763725,-1.4147852861831482,0.1553201343613607,0.07598460782385887,0.9486753997363769,0.0483094241479862,-1.1103582657485491,-1.1564835718750035,0.41731187315962165,1.6995953834750555,2.7125071060119943,1.1866819793488819,1.1368666487323107,-0.8003962085787754,0.6257982568511959,0.3158361996814219,-0.8317614167447641,-1.7690276372343183,0.04277438741281199,-0.4701390167133615,-1.1158933024837234,-0.2505825595514383,-2.156480208696536,-0.20630226567004195,1.5298542569297022,-1.569766314768035,0.7733992364558501,0.19037536701746616,-0.13250177586771486,0.3490464200924693,-0.590064812642143,2.295534338628846,0.9431403630012022,-0.12512172688748255,0.03723935067763725,1.6073447712221465,-0.16755700852382033,2.1571584202494827,-2.0439344617479867,1.0021807548430641,1.0464610487244599,1.201442077309347,-1.0162626412505817,0.9320702895308532,0.41177683642444746,0.6368683303215449,0.5722929017445086,-1.3631249433215193,-0.7542709024523209,1.0132508283134132,-0.6214300208081318,-1.518105971906406,1.4818839385581903,1.1147265017916128,0.7770892609459662,0.24757074661426956,-0.11589666566219167,-0.4793640779386524,-2.2136755882933388,1.5649094895858082,-0.9516872126735456,-0.5623896289662703,0.3582714813177602,-1.4996558494558243,-0.5826847636619102,-1.3483648453610537,-2.003344192356707,0.6479384037918938,-0.5236443718200487,1.0021807548430641,0.542772705823578,0.22912062416368778,-1.1048232290133746,0.5870529997049743,-1.2026088780014579,-0.4701390167133615,0.6497834160369519,0.9560554487166097,-2.55684786587416,2.415460134557627,0.6848386486930573,0.5612228282741597,1.0150958405584711,-1.4092502494479737,1.8508863875698256,-0.7874811228633678,0.8305946160526535,-0.3483682085395219,-1.069767996357269,0.8970150568747477,-1.6564818902857694,-1.8317580535662963,-0.9922774820648256,-0.35205823302963807,-0.1767820697491112,-0.686005449385168,-0.6140499718278996,0.9652805099419006,0.7604841507404425,-0.9461521759383714,-0.9092519310372079,0.555687791538985,0.6682335384875336,-0.5310244208002816,-0.3317630983339982,1.035390975254111,0.5058724609224143,-0.4037185758912672,-0.07161637178079532,1.5722895385660405,1.8970116936962802,0.2641758568197933,1.609189783467204,-1.1324984126892472,-0.04947622484009687,1.1516267466927763,0.18484033028229144,-1.0402478004363385,-0.37604339221539457,-1.4646006167997192,0.806609456866897,2.511400771300653,0.19037536701746616,-0.4443088452825469,-0.4664489922232454,-0.01257597993893333,-0.5568545922310956,-1.5642312780328604,0.7992294078866646,1.2992277262974306,-1.7026071964122238,0.8361296527878282,1.5077141099890043,0.31399118743636384,-0.2247523881206237,-1.2893244535191923,1.7918459957279642,0.13502499966572085,-0.9701373351241275,-0.1860071309744021,0.7309639548195118,1.1479367222026597,1.874871546755582,1.874871546755582,-0.769031000412786,-0.5716146901915612,0.2678658813099094,-0.8963368453218004,0.10734981598984819,-1.1140482902386655,2.6387066162096673,0.6774585997128245,1.9265318896172103,-0.9885874575747092,0.3711865670331672,0.6128831711357884,0.07598460782385887,-0.2930178411877766,0.02616927720728829,1.6848352855145898,-0.019956028919166143,1.2051321017994636,0.5612228282741597,0.6184182078709631,-0.6398801432587136,-0.8133112942941824,-2.0623845841985684,0.8287496038075954,-0.4793640779386524,-0.09375651872149324,-0.47382904120347763,-0.06977135953573724,-0.435083784057256,-0.4627589677331287,0.557532803784043,0.6018130976654393,-0.5070392616145251,-0.34283317180434714,2.8564180611265324,0.17377025681194247,0.2420357098790948,0.6977537344084649,-0.18785214321946017,0.6866836609381154,1.2346522977203944,-0.4295487473220818,-0.6103599473377829,-0.21552732689533283,1.3545780936491758,0.41177683642444746,-1.569766314768035,0.20144544048781513,1.1756119058785324,-0.056856273820329685,-0.025491065654340884,0.40439678744421464,-0.09191150647643516,0.47635226500148364,-0.6694003391796448,-2.8335997026328865,-0.4664489922232454,2.635016591719551,0.6663885262424756,0.5409276935785199,1.2125121507796959,-1.495965824965708,0.7069787956337558,0.007719154756706515,-0.7210606820412735,0.17561526905700053,-0.435083784057256,0.3638065180529344,-0.4129436371165581,-0.4627589677331287,-0.24135749832614742,0.08520966904914976,-2.6638585760875344,-0.0015059064685843712,0.6866836609381154,-0.5144193105947579,-0.10851661668195886,-1.3446748208709376,-1.4055602249578574,-0.994122494309884,0.365651530297993,0.7881593344163151,-0.4074086003813834,-0.3594382820098709,-1.7708726494793765,-0.8391414657249969,-0.05316624933021354,-0.08637646974126043,0.771554224210792,-0.7081455963258665,-0.24135749832614742,0.6719235629776503,0.03908436292269532,-1.3483648453610537,-0.9461521759383714,-0.014420992183991926,-0.5273343963101649,-0.21183730240521667,0.06122450986339376,0.26233084457473466,0.32690627315177084,-1.9074035556136817,0.05199944863810287,0.18115030579217528,-0.3575932697648128,0.7604841507404425,0.5962780609302651,0.9265352527956785,0.7604841507404425,-1.6952271474319913,1.6018097344869717,-0.7081455963258665,0.3951717262189237,-1.525486020886639,-0.13803681260288958,0.7733992364558501,1.1848369671038232,0.5722929017445086,1.9357569508425012,-0.1804720942392279,0.880409946669224,0.8195245425823044,-0.1860071309744021,-1.1324984126892472,0.4228469098947964,-0.4387738085473727,1.2346522977203944,0.19037536701746616,-0.21552732689533283,-0.6694003391796448,-1.7930127964200746,-0.256117596286613,-0.25427258404155495,-0.06239131055550443,-1.1029782167683162,-1.4682906412898353,1.1128814895465549,-0.2764127309822529,0.7641741752305592,-0.9350821024680219,0.2641758568197933,-0.20076722893486773,-1.1730886820805269,1.71435548143552,0.5630678405192178,0.8029194323767808,-0.733975767756681,-0.7874811228633678,-0.4553789187528959,0.2457257343692115,-1.403715212712799,-0.590064812642143,-0.019956028919166143,-0.5734597024366194,-0.5697696779465031,-1.5125709351712315,0.11288485272502241,-0.7727210249029026,1.7420306651113926,-0.9996575310450584,-0.01257597993893333,0.6534734405270686,-0.30408791465812557,-1.1804687310607598,-0.7819460861281936,-0.8631266249107534,0.06860455884362605,-0.16571199627876226,-0.4701390167133615,-2.3003911638110734,0.0981247547645573,1.9117717916567458,-2.049469498483161,-0.8871117840965095,-0.3225380371087073,-0.5771497269267359,-0.08822148198631902,0.2770909425352003,-0.5439395065156886,0.9671255221869587,1.6516250651035422,0.3545814568276435,2.107343089632912,-0.06792634729067865,-0.18416211872934402,0.8435097017680605,-0.9184769922624988,-1.5420911310921623,-0.16386698403370417,0.2198955629383969,-1.922163653574147,-0.9350821024680219,-0.6970755228555175,1.6460900283683675,1.3988583875305722,1.105501440566322,-0.3963385269110344,0.05199944863810287,-1.6232716698747223,-0.13065676362265677,-0.09191150647643516,-0.40925361262644144,0.23096563640874584,-0.3465231962944638,0.8840999711593407,0.22358558742851303,0.8398196772779444,0.306611138456131,0.9560554487166097,0.5483077425587521,0.771554224210792,-0.7358207800017391,0.0815196445590336,0.4394520201003201,0.10919482823490627,1.1313316119971366,1.7826209345026733,0.004029130266589846,-1.800392845400307,1.275242567111674,-0.4129436371165581,-0.48858913916394325,0.7254289180843375,0.3398213588671784,-0.23951248608108935,0.8471997262581772,0.5686028772543925,0.963435497696842,0.18484033028229144,-2.005189204601765,-0.8797317351162767,1.3121428120128376,1.8785615712456984,-0.925857041242731,1.0796712691355075,0.5833629752148576,-0.1860071309744021,-0.04394118810492266,-0.0900664942313771,-0.5384044697805138,-0.40002855140115057,-1.1343434249343054,-0.6454151799938883,0.07967463231397554,0.22543059967357112,-0.4775190656935943,-0.15279691056335523,1.118416526281729,-1.765337612744202,1.6626951385738917,-0.7985511963337173,1.6553150895936586,0.7401890160448027,1.0464610487244599,1.5021790732538296,1.2973827140523726,1.647935040613426,-0.7265957187764482,0.26233084457473466,0.8342846405427696,0.210670501713106,0.9708155466770748,-1.639876780080246,-0.4904341514090013,1.1387116609773689,0.3841016527485748,-1.518105971906406,0.8269045915625373,1.6165698324474373,0.6645435139974175,1.0999664038311472,-2.150945171961361,0.5796729507247415,2.4671204774192566,-0.8760417106261605,1.2180471875148706,-0.8372964534799389,-0.6454151799938883,-0.5439395065156886,1.6829902732695312,1.4117734732459792,-0.45906894324301256,-0.2598076207767292,-0.20630226567004195,0.2198955629383969,-0.3834234411956274,0.2955410649857821,1.5667545018308657,1.7291155793959856,-0.36866334323516176,-0.6251200452982485,1.2549474324160341,1.1110364773014962,-1.2837894167840176,1.1147265017916128,0.33797634662212034,-1.1823137433058177,0.32690627315177084,0.2512607711043857,1.5427693426451103,0.3232162486616547,0.4062417996892727,-0.112206641172075,-1.4406154576139627,0.9781955956573076,-0.09191150647643516,0.03539433843257917,0.02247925271717162,-0.6029798983575501,0.8914800201395735,-0.35390324527469613,-0.07899642076102813,-1.154638559629945,-0.5033492371244089,-0.21552732689533283,1.539079318154993,-0.6952305106104589,-0.22106236363050757,-0.5955998493773178,-0.6343451065235394,-0.817001318784299,-1.0107276045154074,-0.10113656770172605,1.5815145997913314,-0.6675553269345863,-1.2265940371872142,0.5852079874599156,-0.3981835391560925,0.050154436393044274,-0.7026105595906917,-1.3133096127049486,1.2494123956808594,-0.23213243710085651,-1.9978091556215323,-0.2837927799624857,-0.4627589677331287,0.9542104364715511,0.4320719711200873,-0.04209617585986458,-0.8557465759305206,1.1793019303686492,-0.20630226567004195,-1.2524242086180288,0.49295737520700683,-0.42032368609679094,0.7660191874756173,-0.25427258404155495,-0.4553789187528959,-0.9978125188000001,-1.0088825922703493,-0.00519593095870104,1.2254272364951035,0.4874223384718326,0.13502499966572085,0.23281064865380394,1.129486599752078,1.3951683630404557,0.07598460782385887,-0.44799886977266357,0.44129703234537815,1.8379713018544186,0.19037536701746616,0.3508914323375274,-0.3834234411956274,-0.769031000412786,-0.7413558167369133,-0.03840615136974792,-1.1786237188157016,-2.3612765678979932,-0.8815767473613352,-1.3465198331159958,1.2494123956808594,-0.38157842895056876,1.0999664038311472,-0.06792634729067865,0.25495079559450234,-0.769031000412786,1.5538394161154587,1.3379729834436522,-0.30224290241306745,2.6792968856009467,0.4394520201003201,-0.07530639627091146,1.596274697751797,-1.859433237242169,0.8564247874834681,0.688528673183174,-2.241350771969212,-0.11589666566219167,1.0575311221948094,1.0667561834201003,-0.38526845344068544,2.14977837126925,-0.40925361262644144,-0.6472601922389464,-1.879728371937809,-1.829913041321238,0.19960042824275706,0.5519977670488688,0.5409276935785199,-1.215523963716865,0.4265369343849125,-0.817001318784299,1.7973810324631379,1.9911073181942465,-1.5125709351712315,-0.23951248608108935,-1.4277003718985557,-0.6085149350927248,1.3158328365029544,-0.29670786567789276,-0.3409881595592891,-1.8059278821354818,-0.9387721269581386,0.07967463231397554,0.013254191491880733,-0.5845297759069683,-1.2653392943334358,-2.237660747479095,0.6128831711357884,0.6368683303215449,-1.1878487800409925,-0.42585872283196513,-0.9479971881834295,0.8933250323846316,-2.483047376071833,-0.1546419228084133,0.474507252756425,0.9837306323924824,-0.4793640779386524,0.43391698336514534,-1.72659235559798,-0.6048249106026087,-0.49227916365405944,0.688528673183174,-0.12327671464242397,1.548304379380284,1.7032854079651716,0.3711865670331672,0.4505220935706691,-1.8668132862224016,-1.0015025432901166,0.7678641997206753,-0.7468908534720881,-0.363128306499987,1.103656428321264,-1.2210590004520396,0.2420357098790948,-1.5347110821119299,1.8619564610401742,1.2143571630247545,-0.5162643228398159,0.1940653915075823,-1.193383816776167,-1.2118339392267488,0.8840999711593407,0.8213695548273626,-0.47198402895841957,0.2032904527328732,-0.40925361262644144,1.1221065507718457,0.5981230731753232,-1.213678951471807,-0.08822148198631902,-0.33360811057905626,0.9449853752462603,0.9800406079023657,2.337969620265184,1.0575311221948094,-0.4793640779386524,-0.36866334323516176,-0.47567405344853625,0.9708155466770748,0.4136218486695055,0.1368700119107789,0.3158361996814219,0.9708155466770748,-0.24873754730638023,-0.7099906085709246,0.9560554487166097,-0.4553789187528959,1.1719218813884162,-0.44799886977266357,2.0224725263602363,2.1313282488186682,-0.9406171392031967,1.0796712691355075,1.0870513181157402,-0.7081455963258665,-0.3944935146659763,-1.320689661685181,0.44867708132561096,1.8545764120599417,-0.7819460861281936,-1.7690276372343183,0.26602086906485134,-0.17862708199416927,0.6331783058314288],\"y\":[-0.058618850397207885,-0.09591619935677599,-1.5544388455125142,-2.7185087367242944,-1.0224608682470966,0.3968014105827801,2.9075019010715946,-1.9097451698115568,0.424283667710883,-0.7260450949368458,-1.8744108392182817,0.9268163694819044,2.0967753157925637,1.5805014854574906,0.34968896979174674,0.24368597801192235,-0.802602811222275,0.771737918544753,-0.5984489011277974,-2.5025767164320585,0.879703928690871,1.5059067875383554,-0.18228900747367044,-0.8811235458739971,1.1348963163089678,-1.2501709987370913,0.021864902620807165,-3.3211553751762617,1.021041251063971,-0.10573129118824126,0.3320218044951097,0.45765497993786464,-0.25099465029392726,1.4018668141248234,-0.6593024704828819,0.06897734341184054,1.6060207242193005,-0.6887477459772777,0.4988783656300192,0.24761201474450822,-1.2913943844292453,0.33005878612881623,1.3626064467989625,0.21031466578494012,1.3174570243742219,0.37913424528614253,0.9601876817088866,-0.40018404613219916,-2.455464275641025,-0.45122252365581844,-0.5984489011277974,-0.43551837672547433,-0.24706861356134083,-0.7358601867683111,-0.6063009745929697,0.24368597801192235,0.11805280256916686,0.3241697310299374,-0.6141530480581421,-0.5866707909300392,-0.23921654009616908,-1.0106827580493385,0.5165455309266562,0.4498029064726929,-0.38055386246926864,-2.4201299450477505,-0.8870126009728765,2.024143636239721,0.08664450870847813,-1.2619491089348494,1.1643415918033637,0.958224663342593,-0.8909386377054623,0.15927618826132087,-1.511252441454067,0.9268163694819044,-0.1076943095545342,-0.5375953317727129,-0.4315923399928879,-0.1921040993051357,-2.3435722287623215,0.13571996786580445,0.17694335355795843,1.0171152143313846,-1.5976252495709613,-0.5238542032086617,-0.2588467237590996,-0.7044518929076223,-1.030312941712269,2.2930771524218687,0.4498029064726929,-0.1862150442062563,0.11020072910399453,1.0701167102212974,-0.9439401335953745,0.383060282018729,-0.8418631785481361,0.528323641124415,-1.150057062056145,-0.33147840331194234,-1.336543806853985,-1.77037086580475,0.569547026816569,-0.8418631785481361,-1.055832180474079,-0.13125052995005118,-0.7594164071638281,0.33987387796028146,0.5891772104794996,0.015975847521927784,0.04345810465003063,-0.5317062766738335,0.3359478412276956,0.19068448212200959,-1.4445098170001032,-0.9498291886942539,1.4921656589743033,0.3928753738501942,-0.09591619935677599,-0.09591619935677599,-0.44925950528952546,-0.7908247010245167,0.3123916208321792,-0.7515643336986557,0.4125055575131248,0.944483534778542,-1.067610290671837,1.8003595424823133,0.530286659490708,0.9150382592841462,-0.33344142167823526,-0.5532994787030575,0.8070722491380282,0.8051092307717354,-1.2756902374989005,-1.0165718131482178,0.2633161616748529,-0.7280081133031387,0.84044356136501,-0.13910260341522293,0.4537289432052788,-1.0008676662178733,-0.616116066424435,-0.19603013603772157,-0.12339845648487885,1.8042855792148993,0.277057290238904,-1.2109106314112301,0.732477551218892,1.0583386000235393,0.8757778919582851,1.3370872080371525,-2.671396295933261,-0.7299711316694323,-0.25492068702651316,-0.39036895430073393,-2.153159447231895,-0.10376827282194832,0.05523621484778884,-0.6632285072154683,-0.45907459712099075,-0.35699764207375223,-0.013469427972468008,-0.45907459712099075,0.3948383922164872,2.5090091727141046,-0.32166331148047705,-0.427666303260302,1.1211551877449166,0.18479542702313076,-0.26866181559056485,-0.9517922070605469,0.9091492041852668,0.9268163694819044,0.8659628001268198,-1.7154063515485445,0.544027788054759,-0.427666303260302,-0.27455087068944367,0.4674700717693299,1.3096049509090502,-1.7723338841710432,-0.9380510784964957,-0.5081500562783171,0.8208133777020794,-0.6318202133547796,0.8698888368594058,-0.2117342829680662,0.3948383922164872,-1.3934713394764837,1.7846553955519686,0.3261327493962303,0.3909123554839013,0.7835160287425118,-1.6015512863035475,0.008123774056756019,-0.6239681398896073,-2.2002718880229284,-1.3012094762607105,-0.3530716053411658,-0.46103761548728367,1.3233460794731013,-0.6651915255817613,-1.9274123351081942,-0.9949786111189943,-1.6192184516001848,-0.5572255154356434,0.6382526696368258,1.4254230345203398,-0.551336460336764,0.9719657919066448,0.6853651104278592,0.1749803351916655,-1.1245378232943357,0.21424070251752655,1.170230646902243,-0.1449916585141023,-0.5866707909300392,-0.49048289098167946,0.4812112003333816,-0.40018404613219916,0.6834020920615657,0.6676979451312216,-0.10965732792082715,0.14946109642985558,0.5008413839963122,0.36735613508838433,-0.7947507377571027,1.7277278629294694,-0.37073877063780336,-1.4209535966045865,0.1749803351916655,-1.3345807884876921,-1.3993603945753632,-0.1253614748511718,-1.3149506048247617,-0.40214706449849213,0.9287793878481972,-0.3157742563815977,0.359504061623212,-1.7664448290721637,1.808211615947485,1.0445974714594874,0.9641137184414724,1.3370872080371525,-0.19799315440401452,1.1388223530415538,0.3850233003850219,-0.08806412589160367,-0.6063009745929697,1.568723375259733,0.09842261890623633,2.0771451321296333,1.3743845569967201,1.1074140591808654,0.22601881271528476,-0.22743842989841032,1.1545264999718983,-0.4433704501906461,1.1093770775471579,0.9071861858189738,-0.8929016560717553,0.37520820855355663,0.689291147160445,0.32809576776252325,0.7894050838413906,2.2086673626712674,0.9484095715111278,-0.06450790549608727,1.2507143999202586,-0.9341250417639093,-1.214836668143816,1.3959777590259441,-0.46692667058616305,-0.02328451980393327,-0.46692667058616305,1.0897468938842279,-0.7594164071638281,-0.47674176241762833,-2.296459787971288,-0.4158881930625438,-1.5191045149192393,-0.8870126009728765,-0.7476382969660693,-1.8587066922879374,0.08468149034218463,0.6657349267649286,-0.45514856038840484,0.09253356380735694,-2.3769435409893034,0.528323641124415,0.21031466578494012,1.2624925101180162,2.1949262341072164,0.6264745594390676,0.26135314330855935,0.3163176575647651,1.2507143999202586,1.0406714347269017,0.6245115410727742,1.3233460794731013,0.4399878146412276,-1.6879240944204417,0.5793621186480342,0.2024625923197678,-1.6133293965013058,0.277057290238904,1.6845414588710226,-0.7790465908267585,-0.18425202583996336,-0.88308656424029,-1.0872404743347677,2.4010431625679867,0.917001277650439,0.3928753738501942,1.4450532181832705,1.3704585202641342,0.7481816981492366,0.8522216715627687,-0.4747787440513354,0.0944965821736499,0.10431167400511515,-2.100157951341983,-1.3679521007146744,0.5813251370143272,0.3634300983557984,-1.7585927556069918,-0.7299711316694323,0.8168873409694936,-0.7751205540941721,-1.7801859576362151,-0.30399614618383947,0.9994480490347476,-0.06647092386238021,-1.1618351722539038,-0.01739546470505389,-1.4994743312563086,1.6197618527833517,-0.7927877193908097,-0.10965732792082715,2.4854529523185884,1.256603455019137,-0.4747787440513354,1.6236878895159386,-1.179502337550541,-1.7075542780833721,0.3123916208321792,1.4313120896192193,1.1820087571000018,1.6138727976844733,-0.35896066044004515,-0.49244590934797244,0.06701432504554761,-1.5995882679372542,1.980957232181274,-0.4649636522198701,2.556121613505139,-0.9105688213683929,1.2821226937809467,0.40857952078053833,-0.24706861356134083,-0.08610110752531074,0.6991062389919104,-1.295320421161831,0.014012829155634843,0.901297130720095,1.443090199816977,0.8836299654234574,1.248751381553965,0.38698631875131484,-1.5701429924428585,0.3968014105827801,-0.09984223608936188,0.3889493371176078,-0.6396722868199514,-0.36877575227151044,-0.0036543361410027436,1.0701167102212974,-0.7024888745413294,0.9484095715111278,-1.258023072202263,2.257742821828594,-1.0577951988403718,-0.7653054622627069,-0.7437122602334834,-0.7064149112739153,-0.8300850683503779,1.0485235081920738,-0.5238542032086617,1.0936729306168145,0.610770412508723,-1.3463588986854504,1.8101746343137786,0.18479542702313076,0.5911402288457924,1.1820087571000018,-1.6839980576878557,-0.3942949910333198,-0.427666303260302,1.708097679266539,0.8639997817605269,0.4851372370659675,0.13768298623209738,-1.0774253825033024,-0.8929016560717553,-1.4621769822967405,0.7108843491896686,0.424283667710883,-0.01739546470505389,0.04934715974891001,1.5490931915968025,0.08664450870847813,0.2633161616748529,0.3025765290007139,-0.12928751158375767,2.0967753157925637,0.47728516360079515,-0.9144948581009787,-0.9007537295369276,-0.7653054622627069,0.5656209900839826,-0.9635703172583051,-0.6396722868199514,-0.35110858697487285,-0.8457892152807219,2.683717807314187,0.053273196481495894,0.36735613508838433,1.0328193612617294,-3.1052233548840262,1.5844275221900777,-1.0734993457707165,-0.34129349514340757,0.318280675931058,-0.6357462500873655,1.0406714347269017,0.9523356082437142,0.901297130720095,0.10234865563882221,-0.33933047677711464,1.1309702795763819,-0.08806412589160367,1.1506004632393125,-1.5799580842743237,2.0300326913386004,0.26135314330855935,0.9955220123021612,-1.2501709987370913,2.1517398300487693,1.252677418286551,-2.0039700513936234,1.119192169378623,-0.2235123931658244,-0.23921654009616908,-0.7810096091930515,1.2664185468506022,-0.06843394222867315,-0.45318554202211137,1.464683401846201,0.944483534778542,-0.0016913177747092446,0.5185085492929498,-0.40018404613219916,0.5754360819154478,2.6424944216220325,2.8839456806760784,-0.3373674584108217,-0.88308656424029,-0.1430286401478094,1.8199897261452438,-0.7005258561750365,0.06701432504554761,-2.7773992877130858,1.9534749750531706,-2.100157951341983,1.0544125632909527,-0.7554903704312416,-0.9419771152290816,-1.3679521007146744,-0.6377092684536584,0.01008679242304896,0.8954080756212156,-0.05665583203091494,-0.6789326541458124,1.278196657048361,0.23779692291304297,1.7453950282261077,0.9464465531448348,-0.9066427846358069,0.648067761468291,0.42232064934459,-0.0036543361410027436,-0.8987907111706347,-0.2333274849972897,-0.12732449321746472,-1.110796694730284,0.3968014105827801,0.5165455309266562,-0.29614407271866716,-0.7790465908267585,0.33987387796028146,0.5165455309266562,-0.5788187174648669,0.5813251370143272,1.7571731384238654,-2.1727896308948256,0.4753221452345022,-0.1253614748511718,-1.4307686884360518,-1.0362019968111484,-1.3031724946270034,-0.037025648367984415,0.19853655558718192,1.2703445835831892,0.3712821718209708,-0.44140743182435316,-1.428805670069759,-1.9450795004048318,0.20049957395347484,1.1152661326460374,0.08860752707477107,-1.9038561147126773,-0.09591619935677599,-1.915634224910436,-1.3542109721506226,-0.7044518929076223,0.732477551218892,-1.3797302109124325,-0.6612654888491754,0.544027788054759,-0.9851635192875291,-0.2294014482647038,-0.22547541153211736,-1.1009816028988189,0.9503725898774213,-1.6467007087282877,0.6991062389919104,-0.37662782573668274,2.4854529523185884,-0.9792744641886497,-0.26277276049168546,-0.009543391239881568,-1.3463588986854504,-0.1489176952466882,1.4941286773405966,-1.8626327290205233,-0.28240294415461603,-0.18817806257254927,-1.3993603945753632,-0.8104548846874473,-0.7162300031053805,-0.2156603197006521,-0.1449916585141023,0.6009553206772578,-0.09984223608936188,0.4537289432052788,-0.9400140968627887,0.32024369429735094,1.9122515893610172,-2.396573724652234,0.22209277598269833,-0.10180525445565539,0.36931915345467725,-0.5984489011277974,-0.11554638301970653,-0.7201560398379669,-0.13713958504893,0.730514532852599,-0.45907459712099075,-0.0036543361410027436,-0.5827447541974533,0.04345810465003063,1.808211615947485,-1.318876641557348,-1.336543806853985,-0.6004119194940903,-0.013469427972468008,-0.8909386377054623,-0.48263081751650716,0.7933311205739771,0.1612392066276138,-0.2215493747995315,1.5353520630327513,0.7894050838413906,-0.7240820765705529,0.8051092307717354,0.9798178653718171,-1.5976252495709613,-0.08610110752531074,1.3704585202641342,-0.29221803598608126,-0.27455087068944367,-0.7024888745413294,-1.5406977169484626,0.8188503593357864,0.7737009369110466,0.8424065797313034,-0.3785908441029757,1.382236630461893,0.5263606227581215,1.3154940060079285,0.36735613508838433,0.15338713316244149,0.84044356136501,-1.6172554332338918,0.4439138513738135,0.9778548470055236,-0.18228900747367044,0.12983091276692507,-0.6377092684536584,-0.031136593269105034,-0.7594164071638281,0.2868723820703693,0.33005878612881623,-0.32558934821306296,0.01008679242304896,-0.5886338092963321,1.2428623264550858,-0.11554638301970653,0.16516524336020025,-1.621181469966478,0.44783988810639935,1.0406714347269017,0.3614670799895055,0.771737918544753,1.352791354967497,-1.3934713394764837,1.1584525367044842,-1.2285777967078673,0.4026904656816595,0.03953206791744475,2.324485446282558,1.0445974714594874,0.3712821718209708,0.021864902620807165,-0.8654193989436524,-0.5552624970693505,0.8286654511672518,0.7776269736436324,-1.8371134902587138,-1.9117081881778497,1.4921656589743033,-0.6004119194940903,0.13964600459839033,-0.7201560398379669,0.045421123016323575,-2.433871073611802,-3.071852042657044,-0.9144948581009787,-1.5014373496226017,-1.3326177701213993,0.22209277598269833,0.3437999146928679,-0.5297432583075405,0.5832881553806202,-2.0942688962431038,0.3222067126636445,-1.6643678740249253,0.1612392066276138,0.4929893105311398,-0.7358601867683111,2.0516258933678233,0.4262466860771759,1.3763475753630134,-0.989089556020115,0.6794760553289798,-1.3934713394764837,-0.7397862235008975,-0.1862150442062563,-0.15676976871186052,1.2624925101180162,-2.895180389690669,1.435238126351805,0.6971432206256174,-0.3962580093996133,-0.08610110752531074,-0.6867847276109847,0.4439138513738135,-0.4944089277142659,-0.07628601569384547,-0.9360880601302027,-0.32755236657935644,-0.5709666439996945,1.331198152938273,-0.9046797662695135,0.8031462124054424,1.0053371041336265,-0.19603013603772157,-0.5061870379120241,0.6991062389919104,-1.279616274231487,0.8875560021560434,2.410858254399452,0.07486639851071937,-0.7810096091930515,-0.29025501761978834,0.04345810465003063,1.7650252118890382,1.0897468938842279,-1.1186487681954564,0.84044356136501,-0.22547541153211736,1.2644555284843098,0.7697749001784602,-3.0993342997851467,-0.8222329948852055,0.40857952078053833,-0.6004119194940903,0.18872146375571663,-0.8811235458739971,0.004197737324169579,0.18086939029054433,-1.2207257232426953,1.0053371041336265,0.3614670799895055,-0.07039696059496608,0.19853655558718192,-2.5418370837579194,-1.7821489760025084,-0.6671545439480542,-0.7280081133031387,-0.4433704501906461,2.2773730054915244,-1.5701429924428585,1.755210120057573,1.7198757894642978,-1.1539830987887316,1.5962056323878353,-1.662404855658632,0.3261327493962303,-1.4072124680405353,-0.616116066424435,0.381097263652436,-1.1402419702246798,-2.3474982654949077,-1.8508546188227653,-0.08610110752531074,-0.8909386377054623,-1.0833144376021817,0.5538428798862244,2.1360356831184246,0.1435720413309762,-1.318876641557348,0.4439138513738135,0.6578828532997564,-0.20977126460177328,-0.41392517469625034,0.8051092307717354,-1.179502337550541,0.12786789440063212,-0.19014108093884274,-1.0872404743347677,1.191823848931467,-0.88308656424029,0.4360617779086412,0.8227763960683729,-0.7829726275593445,1.6786524037721433,-0.28240294415461603,-1.662404855658632,-0.2568837053928061,2.35785675850954,-0.6789326541458124,0.04345810465003063,0.9366314613133696,-0.26866181559056485,0.9385944796796626,1.2134170509606899,0.4812112003333816,-0.7338971684020181,-0.36877575227151044,1.386162667194479,-1.3581370088832092,-0.7437122602334834,1.2958638223449979,0.2829463453377834,0.7697749001784602,-0.9930155927527009,0.4753221452345022,2.0791081504959266,0.9641137184414724,-1.0813514192358882,1.235010252989914,-1.6722199474900972,-0.25295766866022024,0.9719657919066448,-0.9773114458223567,-1.1539830987887316,0.6618088900323422,-0.9439401335953745,0.027753957719686546,0.6304005961716536,-0.698562837808743,0.5499168431536384,-0.6435983235525378,-0.6494873786514166,-1.110796694730284,2.298966207520748,-0.09591619935677599,0.06308828831296116,-0.6416353051862449,1.7473580465924001,-0.037025648367984415,-2.325905063465684,0.10038563727252928,-0.9419771152290816,0.8581107266616476,0.5872141921132066,-0.11554638301970653,-0.8929016560717553,-0.09199016262419012,1.2251951611584486,1.7826923771856753,0.9621507000751796,0.3045395473670069,0.6264745594390676,-0.5611515521682293,-1.1677242273527826,0.2652791800411458,0.15338713316244149,-0.6946368010761571,-1.695776167885614,0.21424070251752655,0.4026904656816595,0.027753957719686546,-0.33344142167823526,0.21227768415123305,0.8208133777020794,1.2978268407112914,0.5499168431536384,-0.6808956725121059,-0.42177724816142265,-0.41785121142883674,1.1034880224482797,-0.15676976871186052,-2.7832883428119652,-1.3051355129932964,-0.029173574902812093,-0.2333274849972897,-2.1708266125285327,-1.06957330903813,-0.989089556020115,-1.6035143046698404,0.06701432504554761,0.46550705340303694,-0.4433704501906461,0.6441417247357046,0.3477259514254538,0.17105429845907905,-0.9596442805257192,-0.4944089277142659,0.9248533511156114,0.4105425391468318,-0.4944089277142659,0.5165455309266562,0.07290338014442642,0.4066165024142454,0.9248533511156114,0.12983091276692507,0.44587686974010643,-0.30988520128271885,-0.037025648367984415,0.7638858450795813,-0.5886338092963321,-0.9989046478515803,-0.03506263000169148,0.44587686974010643,-0.09395318099048305,-0.6789326541458124,1.421496997787754,0.8561477082953546,-1.915634224910436,0.10038563727252928,0.9052231674526808,-0.4080361195973715,-2.351424302227494,1.1466744265067266,-0.8791605275077041,1.8141006710463645,1.3076419325427566,0.04345810465003063,-0.23921654009616908,0.7128473675559615,0.8973710939875086,0.585251173746913,-1.5230305516518254,0.4439138513738135,0.4674700717693299,-1.214836668143816,-1.1579091355213174,0.19853655558718192,-0.69659981944245,1.0995619857156926,-0.054692813664622,0.29079841880295515,0.4674700717693299,0.45765497993786464,-0.23529050336358262,-0.6121900296918491,0.25546408820968053,0.7795899920099254,-0.9341250417639093,-0.6907107643435711,-1.4150645415057073,-1.2109106314112301,-0.5415213685052988,0.13375694949951095,0.0944965821736499,0.21424070251752655,0.32809576776252325,-0.46692667058616305,0.12394185766804568,-0.8948646744380482,-0.41785121142883674,-1.134352915125801,0.84044356136501,-1.3856192660113114,1.7473580465924001,-0.6514503970177101,0.1082377107377016,0.25546408820968053,-0.38447989920185455,-0.6416353051862449,1.3900887039270646,-1.9274123351081942,-0.11750940138599947,-0.21762333806694503,0.754070753248116,-0.8516782703796013,-0.09199016262419012,-1.0244238866133901,-0.4315923399928879,-0.6887477459772777,0.8188503593357864,0.3261327493962303,0.5597319349851038,0.7678118818121672,0.4537289432052788,-2.8343268203355847,0.15731316989502792,1.009263140866213,-0.6769696357795195,0.6853651104278592,-1.3816932292787256,0.25939012494226643,0.2652791800411458,0.6382526696368258,1.1290072612100885,0.4007274473153666,0.09253356380735694,1.274270620315775,-0.09984223608936188,0.09842261890623633,-0.3962580093996133,0.799220175672856,0.9680397551740584,-0.6220051215233143,0.6951802022593244,0.5263606227581215,0.24957503311080118,0.4812112003333816,0.03756904955115181,-0.6298571949884861,0.7815530103762184,-0.3373674584108217,0.07486639851071937,1.1211551877449166,0.5832881553806202,0.506730439095191,-0.32362632984677,-0.6200421031570208,1.0740427469538834,0.15927618826132087,-0.5611515521682293,-0.09591619935677599,0.5832881553806202,1.0563755816572458,0.60880739414243,-0.20584522786918683,0.26724219840743874,0.60880739414243,-1.3954343578427766,-0.5984489011277974,-0.31184821964901177,0.012049810789341902,-0.30203312781754654,0.9307424062144908,0.7913681022076836,-1.2933574027955381,-0.7476382969660693,0.25546408820968053,-0.7123039663727947,1.0779687836864698,0.15731316989502792,1.7983965241160198,1.252677418286551,0.33791085959398853,-1.4641400006630338,0.012049810789341902,0.8561477082953546,1.521610934468699,1.356717391700083,1.2212691244258629,0.18086939029054433,-0.9105688213683929,0.2692052167737317,-1.4955482945237226,0.9994480490347476,0.6539568165671699,-0.011506409606174509,-1.2482079803707977,-0.24314257682875495,0.7913681022076836,0.21816673925011243,0.6402156880031188,1.3194200427405154,-0.7594164071638281,0.6775130369626868,0.39876442894907305,2.51882426454557,-0.49637194608055885,-1.2285777967078673,0.5813251370143272,-0.9282359866650305,1.2212691244258629,-0.31381123801530475,-0.28240294415461603,0.09057054544106401,-0.7672684806289998,-0.2568837053928061,1.0445974714594874,-0.47870478078392126,-0.6926737827098641,-2.3847956144544753,0.2829463453377834,1.460757365113615,0.19853655558718192,-0.5002979828131447,-0.054692813664622,0.4046534840479524,-1.2069845946786437,0.5381387329558802,-0.31773727474789115,-0.28436596252090895,0.6029183390435506,-1.0440540702763206,0.8698888368594058,0.5577689166188108,-1.46806603739562,-0.6377092684536584,0.27116823514002464,-0.8399001601818431,0.32024369429735094,0.3928753738501942,1.339050226403446,0.019901884254514224,-2.1629745390633603,-0.8006397928559821,-0.24706861356134083,-0.16658486054332577,0.1867584453894237,-0.7338971684020181,0.5989923023109648,1.2134170509606899,0.017938865888221283,0.318280675931058,0.4380247962749341,0.7874420654750978,0.07486639851071937,0.3968014105827801,-1.5014373496226017,0.6284375778053606,-2.618394800043349,0.730514532852599,0.9876699388369888,0.463544035036744,-0.41392517469625034,-0.10965732792082715,1.2153800693269834,-0.7476382969660693,-0.13125052995005118,0.5008413839963122,-0.23921654009616908,0.8149243226032006,-2.5398740653916265,1.4116819059562886,-1.5171414965529462,1.7434320098598142,1.1721936652685365,-0.7535273520649487,0.3968014105827801,-0.9282359866650305,-1.1009816028988189,-0.8713084540425318,0.5263606227581215,-1.4248796333371727,-0.08021205242643135,0.14160902296468328,1.3370872080371525,-0.7751205540941721,-0.1626588238107399,0.5381387329558802,0.36931915345467725,-0.05665583203091494,0.08468149034218463,-2.0039700513936234,0.4713961085019163,1.3626064467989625,0.6323636145379464,0.22994484944787064,-0.15676976871186052,0.6441417247357046,0.08075545360959875,1.8926214056980866,-0.1921040993051357,-0.3354044400445282,-1.150057062056145,-0.5591885338019363,0.3163176575647651,0.4144685758794177,-0.802602811222275,-0.10180525445565539,-0.5690036256334016,1.7493210649586937,-0.07432299732755253,1.439164163084391,0.8541846899290616,1.2036019591292246,0.6735870002301004,0.3771712269198496,0.6951802022593244,0.838480542998717,0.16712826172649317,-0.2706248339568578,0.17105429845907905,-0.22743842989841032,-1.0636842539392513,-0.5670406072671087,-0.5709666439996945,-0.7476382969660693,1.6649112752080921,0.4066165024142454,-0.26669879722427137,-0.9635703172583051,-1.6368856168968224,0.17694335355795843,2.5855668889995345,0.691254165526738,-1.5583648822451002,0.18479542702313076,-0.19603013603772157,-0.8575673254784807,1.2546404366528445,0.13964600459839033,0.3025765290007139,0.730514532852599,-1.546586772047342,0.3889493371176078,0.3045395473670069,0.12590487603433917,-0.7260450949368458,-1.2383928885393325,1.9848832689138598,1.2408993080887933,-0.36092367880633813,-0.8575673254784807,-2.320016008366805,0.012049810789341902,0.6225485227064812,-0.1332135483163441,-1.3267287150225198,-0.9478661703279609,-0.7319341500357252,-0.34325651350970054,-0.6671545439480542,-1.2069845946786437,0.46550705340303694,-0.47870478078392126,1.3096049509090502,1.8867323505992073,-0.6769696357795195,2.020217599507135,-0.9616072988920121,-0.26473577885797844,1.2094910142281041,-1.0342389784448554,1.916177626093603,0.041495086283737694,1.5137588610035273,-0.7319341500357252,0.38698631875131484,-0.6377092684536584,-0.6337832317210725,1.4568313283810292,-0.48066779915021424,-0.386442917568148,2.0692930586644613,0.4203576309782971,0.14749807806356266,-0.7908247010245167,-1.1186487681954564,1.1800457387337082,-0.005617354507295684,0.5558058982525172,-0.5238542032086617,0.862036763394234,-0.5532994787030575,-0.07039696059496608,0.21227768415123305,-1.322802678289934,0.6873281287941522,-0.6534134153840031,0.30061351063442043,-0.28240294415461603,-0.5788187174648669,0.504767420728898,-0.5434843868715923,-0.2863289808872019,-0.18817806257254927,0.173017316825372,-2.1217511533712066,-1.9411534636722456,-1.279616274231487,-0.6435983235525378,0.21816673925011243,0.11412676583658042,-0.39036895430073393,-0.6769696357795195,1.5274999895675783,-0.5572255154356434,0.38698631875131484,1.439164163084391,0.2809833269714899,-1.2462449620045049,-1.1932434661145925,0.918964296016732,0.7049952940907898,-0.4571115787546978,-1.3973973762090701,-1.7212954066474235,-1.6251075066990641,-0.05665583203091494,0.5165455309266562,-0.6416353051862449,-0.47870478078392126,-0.9007537295369276,-0.7103409480065017,-0.07235997896125959,-0.5984489011277974,0.9680397551740584,-0.9655333356245985,0.09253356380735694,-0.07432299732755253,0.1749803351916655,-1.6447376903619948,2.393191089102815,1.2153800693269834,-1.5721060108091518,1.8710282036688626,-1.1127597130965776,-0.05272979529832906,-0.6514503970177101,-0.9164578764672723,-0.031136593269105034,-0.5356323134064199,1.5706863936260254,-1.2855053293303658,0.08860752707477107,0.5989923023109648,2.9546143418626274,-0.3962580093996133,0.14946109642985558,0.6971432206256174,0.19657353722088897,0.6735870002301004,1.8356938730755874,-0.6377092684536584,1.1054510408145721,0.6362896512705329,1.7061346609002466,0.24957503311080118,-0.533669295040127,-0.7574533887975345,-0.6298571949884861,-0.16462184217703285,-1.1677242273527826,0.9464465531448348,0.012049810789341902,-0.6259311582559002,1.837656891441881,-0.03898866673427736,-0.6357462500873655,-1.6643678740249253,1.4313120896192193,0.023827920987100105,-1.1579091355213174,-0.7731575357278792,0.6971432206256174,2.3912280707365214,0.2888354004366622,-0.40999913796366444,-1.2030585579460578,-0.48263081751650716,0.7874420654750978,-0.5081500562783171,0.2731312535063181,-1.8567436739216443,0.714810385922255,0.29668747390183453,-1.809631233130611,-0.7417492418671905,-1.2128736497775232,0.9287793878481972,0.6146964492413088,-0.8320480867166707,-1.214836668143816,-0.8654193989436524,-0.34718255024228695,-0.7986767744896891,0.4301727228097624,0.7442556614166508,-1.511252441454067,-0.5552624970693505,-0.5022610011794377,1.378310593729307,-0.32166331148047705,1.5235739528349925,-0.6239681398896073,0.6166594676076024,0.4046534840479524,-0.6514503970177101,0.9621507000751796,0.5499168431536384,0.15535015152873496,1.4195339794214605,0.8051092307717354,-1.0852774559684746,-1.150057062056145,-0.885049582606583,-0.27455087068944367,0.36735613508838433,0.20049957395347484,-0.29221803598608126,0.3477259514254538,-0.09199016262419012,0.004197737324169579,0.17694335355795843,-0.6082639929592627,-0.7888616826582239,-1.6761459842226833,0.7854790471088048,0.7913681022076836,-0.18817806257254927,-1.5858471393732032,-0.7829726275593445,1.1427483897741406,0.983743902104403,0.26135314330855935,-1.81552028822949,0.8325914878998382,0.16320222499390674,-0.9773114458223567,-1.0224608682470966,1.4902026406080109,-1.7487776637755263,0.3163176575647651,-0.8104548846874473,0.6951802022593244,-0.5847077725637463,1.0995619857156926,2.0221806178734276,1.174156683634829,1.3802736120955994,1.9279557362913617,0.131793931133218,0.10431167400511515,0.8914820388886298,-1.2992464578944176,0.20835164741864717,1.1329332979426754,-0.6278941766221932,0.16712826172649317,1.148637444873019,-0.6396722868199514,-0.6200421031570208,0.9052231674526808,-1.4916222577911364,0.15535015152873496,1.1643415918033637,-0.5847077725637463,-1.5132154598203602,-0.5061870379120241,0.4812112003333816,1.195749885664053,0.6343266329042394,0.714810385922255,-0.8732714724088247,1.4293490712529258,1.0544125632909527,0.4066165024142454,-2.192419814557756,0.3889493371176078,0.9739288102729378,0.3850233003850219,0.10038563727252928,-0.8497152520133083,-0.6357462500873655,1.6786524037721433,0.8836299654234574,-0.8084918663211543,-0.6102270113255556,-1.1853913926494202,0.6382526696368258,0.4340987595423482,0.8051092307717354,0.5243976043918286,0.22012975761640538,0.12786789440063212,1.1545264999718983,0.44783988810639935,1.2251951611584486,-1.2678381640337282,0.14749807806356266,0.9209273143830256,-0.6435983235525378,-0.013469427972468008,0.544027788054759,1.2094910142281041,-0.7790465908267585,0.5989923023109648,-1.44254679863381,-0.08021205242643135,0.797257157306563,0.45961799830415817,0.7442556614166508,-0.7221190582042599,0.3241697310299374,0.3143546391984721,-1.1461310253235593,-0.17639995237479106,-0.6887477459772777,0.877740910324578,-1.2069845946786437,-0.9400140968627887,-0.47870478078392126,0.07682941687701286,-0.058618850397207885,-0.6534134153840031,1.3174570243742219,0.22994484944787064,1.4744984936776662,0.44783988810639935,1.0288933245291434,2.0182545811408414,-0.30203312781754654,-2.4044257981174058,-1.848891600456472,-0.48066779915021424,0.8659628001268198,0.44783988810639935,-0.49637194608055885,0.19461051885459602,-0.8006397928559821,-0.8065288479548609,-0.2038822095028939,-0.6435983235525378,1.0347823796280222,-0.6534134153840031,-1.1402419702246798,1.9888093056464458,1.6806154221384366,1.2624925101180162,1.378310593729307,1.3999037957585299,-0.7908247010245167,1.0171152143313846,1.4018668141248234,1.199675922396639,-0.26080974212539254,-0.9969416294852873,0.4713961085019163,1.4254230345203398,1.0269303061628499,0.36735613508838433,-1.5014373496226017,1.021041251063971,0.5989923023109648,-0.08217507079272485,-0.6867847276109847,0.6225485227064812,-0.5002979828131447,-1.0067567213167525,0.7069583124570826,0.5145825125603632,0.004197737324169579,0.6186224859738954,-0.4983349644468518,-1.8312244351598348,1.6177988344170593,-1.2855053293303658,-0.30399614618383947,1.062264636756125,-1.2442819436382118,-0.21369730133435916,-2.1943828329240493,1.091709912250521,0.21227768415123305,-1.5858471393732032,0.09645960053994339,-0.9459031519616681,-2.653729130636624,0.7246254777537202,-0.924309949932444,0.5872141921132066,0.33398482286140263,-0.6141530480581421,-1.1952064844808856,-1.7114803148159583,-0.03309961163539853,-1.336543806853985,-0.005617354507295684,-0.19014108093884274,0.047384141382617075,-1.4445098170001032,-0.9321620233976163,-0.05272979529832906,0.07486639851071937,-2.1570854839644813,1.464683401846201,-0.802602811222275,0.17105429845907905,0.27116823514002464,1.1015250040819862,-0.655376433750296,-1.7095172964496654,-0.8909386377054623,-0.23529050336358262,0.5243976043918286,-0.7417492418671905,-1.4602139639304477,0.0022347189578766375,-0.4865568542490936,0.09645960053994339,1.119192169378623,0.047384141382617075,0.22012975761640538,0.836517524632424,1.3429762631360318,-1.3149506048247617,-0.36092367880633813,0.4890632737985539,0.12983091276692507,0.07290338014442642,-1.5779950659080308,1.3233460794731013,-2.967812069243512,0.9660767368077654,0.8149243226032006,-0.01935848307134683,-0.23725352172987557,-0.5984489011277974,0.8993341123538015,-0.31970029311418413,0.24564899637821527,0.771737918544753,-1.0067567213167525,-0.0841380891590178,0.16712826172649317,-0.6259311582559002,-0.427666303260302,-1.134352915125801,1.0838578387853486,0.5891772104794996,0.504767420728898,0.5479538247873456,-1.25606005383597,-0.6514503970177101,-0.2882919992534954,0.20638862905235422,0.3222067126636445,-1.0185348315145109,1.2939008039787054,-0.8399001601818431,1.1329332979426754,1.9515119566868782,-1.3797302109124325,-0.12928751158375767,-0.11358336465341358,-0.7594164071638281,-0.43551837672547433,-0.2706248339568578,-0.7594164071638281,0.09253356380735694,0.08271847197589169,-1.2639121273011424,0.6441417247357046,0.19068448212200959,-0.29614407271866716,-0.2117342829680662,-0.12928751158375767,-0.2038822095028939,-0.5572255154356434,-1.026386904979683,1.174156683634829,-0.5434843868715923,0.9111122225515602,0.5872141921132066,-0.43551837672547433,-0.34325651350970054,-1.9804138309981065,-0.1332135483163441,-0.1253614748511718,-0.9557182437931333,0.15338713316244149,1.564797338527147,0.8954080756212156,1.5294630079338718,1.543204136497923,0.17105429845907905,1.751284083324987,0.5577689166188108,0.18086939029054433,-0.48066779915021424,-0.07235997896125959,1.2369732713562063,-0.1489176952466882,-0.6455613419188307,1.503943769172062,-0.1332135483163441,-0.3962580093996133,-0.6200421031570208,0.17694335355795843,-1.5642539373439794,0.2633161616748529,0.689291147160445,0.2652791800411458,-1.428805670069759,-0.42374026652771557,0.8247394144346658,1.3096049509090502,0.42820970444346884,1.3626064467989625,-1.4268426517034656,0.16712826172649317,0.7265884961200132,1.062264636756125,0.5989923023109648,-0.6239681398896073,0.9896329572032824,-0.4315923399928879,2.238112638165663,-1.6820350393215626,0.7874420654750978,1.8631761302036909,-1.2030585579460578,1.0858208571516414,-1.2678381640337282,-0.4747787440513354,-0.0036543361410027436,1.973105158716101,-2.0805277676790523,-0.2117342829680662,-0.36877575227151044,-0.46692667058616305,-0.9262729682987375,1.2840857121472402,0.23779692291304297,-0.2117342829680662,2.322522427916265,0.6814390736952728,0.6225485227064812,0.7422926430503572,-0.8536412887458943,-1.7095172964496654,-0.2333274849972897,1.4587943467473214,1.050486526558367,-0.6769696357795195,-0.12928751158375767,0.3123916208321792,0.017938865888221283,-0.3000701094512536,0.6382526696368258,-0.7810096091930515,1.443090199816977,0.2319078678141636,0.8090352675043212,-0.4649636522198701,-1.4405837802675172,0.17694335355795843,1.0838578387853486,-0.46888968895245603,-1.4523618904652753,-0.7437122602334834,-0.34129349514340757,0.3104286024658857,1.4882396222417174,-0.8399001601818431,-0.7751205540941721,-0.39233197266702685,0.1082377107377016,-1.843002545357593,0.7737009369110466,1.009263140866213,-0.1449916585141023,-0.4257032848940091,0.4792481819670887,0.4753221452345022,0.4105425391468318,1.7277278629294694,0.11412676583658042,0.6794760553289798,0.12983091276692507,-1.2501709987370913,0.3437999146928679,0.19264750048830254,-1.5348086618495835,-0.5964858827615045,-0.6416353051862449,1.2075279958618106,0.47728516360079515,-0.7260450949368458,2.045736838268945,-1.1166857498291634,-1.201095539579765,-0.40411008286478506,0.9052231674526808,1.1034880224482797,-1.507326404721481,1.256603455019137,-0.35699764207375223,2.7386823215703915,-0.9007537295369276,1.9259927179250682,1.305678914176463,1.0230042694302641,0.8463326164638894,0.9935589939358682,0.07290338014442642,-0.6259311582559002,-0.058618850397207885,0.506730439095191,0.21816673925011243,-0.6867847276109847,-0.42177724816142265,-2.180641704359998,-0.21762333806694503,0.19657353722088897,-1.014608794781925,1.2330472346236205,-0.1430286401478094,-1.5014373496226017,0.11020072910399453,0.8325914878998382,1.651170146644041,1.2919377856124121,-0.5317062766738335,2.328411483015144,-0.45907459712099075,1.013189177598799,0.22012975761640538,0.5891772104794996,-0.31184821964901177,1.8062485975811917,0.42820970444346884,-0.364849715538924,-1.509289423087774,-0.38447989920185455,1.8435459465407602,-1.58388412100691,-1.2246517599752813,0.6991062389919104,-1.5583648822451002,0.3968014105827801,-1.097055566166233,-0.19995617277030803,0.506730439095191,-0.5788187174648669,2.0221806178734276,1.6649112752080921,-0.5866707909300392,-0.2588467237590996,-0.4198142297951297,0.9307424062144908,-1.4248796333371727,0.9523356082437142,0.16909128009278612,-0.8045658295885679,-1.1245378232943357,-1.297283439528124,-0.22743842989841032,0.2319078678141636,0.4537289432052788,0.3143546391984721,0.9876699388369888,0.09057054544106401,-1.7821489760025084,-0.15284373197927464,-0.9360880601302027,-1.5681799740765656,-0.41392517469625034,-0.03506263000169148,-0.013469427972468008,-1.1049076396314053,0.4812112003333816,-0.5768556990985739,-0.09199016262419012,0.21816673925011243,0.1867584453894237,-0.44729648692323254,0.21816673925011243,-0.7044518929076223,-0.7594164071638281,-2.5752083959849017,-0.37270178900409634,-0.6475243602851237,0.650030779834584,-0.09395318099048305,-1.0342389784448554,0.059162251580375275,-0.31970029311418413,0.714810385922255,0.0650513066792541,1.036745397994315,0.4262466860771759,-0.18425202583996336,-0.5258172215749547,0.5538428798862244,1.2114540325943977,-0.8124179030537403,0.17890637192425138,-1.0852774559684746,0.09253356380735694,0.944483534778542,1.0190782326976782,-0.29221803598608126,2.224371509601612,0.1082377107377016,0.23779692291304297,-1.5681799740765656,-0.5984489011277974,-0.29221803598608126,-0.6494873786514166,-0.8889756193391694,-1.44254679863381,1.1682676285359495,0.714810385922255,-0.17836297074108398,-1.6584788189260458,-0.44140743182435316,0.7383666063177714,0.3653931167220914,-0.8006397928559821,0.7010692573582032,1.5000177324394761,0.041495086283737694,-0.9753484274560639,0.6284375778053606,-0.8065288479548609,-0.5218911848423682,2.0300326913386004,0.6559198349334634,0.8208133777020794,-0.08217507079272485,0.8639997817605269,0.9091492041852668,-2.6380249837062792,-0.26277276049168546,0.25546408820968053,1.0328193612617294,0.0944965821736499,1.2840857121472402,0.5950662655783784,0.7187364226548408,-1.6192184516001848,-1.3463588986854504,0.9700027735403518,0.7403296246840644,-0.69659981944245,-1.0499431253751994,0.05523621484778884,2.206704344304975,2.6562355501860835,-0.24314257682875495,1.1839717754662942,-0.20780824623547978,0.8698888368594058,-0.9184208948335651,-0.5964858827615045,1.5883535589226634,-1.2266147783415742,-0.9910525743864079,0.20049957395347484,-1.7173693699148374,1.2291211978910346,0.8561477082953546,0.3771712269198496,0.5008413839963122,1.7532471016912794,-0.06647092386238021,0.33398482286140263,-0.01935848307134683,-2.0569715472835357,0.6146964492413088,-0.8457892152807219,1.4254230345203398,0.7501447165155296,-1.0401280335437342,-0.029173574902812093,-0.7868986642919303,-1.1814653559168344,-0.6200421031570208,0.01008679242304896,-0.8987907111706347,-0.9360880601302027,-0.1253614748511718,0.585251173746913,0.6245115410727742,-0.5454474052378852,-0.7044518929076223,0.6539568165671699,-1.3267287150225198,-1.360100027249502,-0.34129349514340757,0.650030779834584,1.2821226937809467,1.0073001224999194,-0.3157742563815977,-1.7821489760025084,0.7403296246840644,-0.20780824623547978,0.2515380514770941,1.3488653182349113,-2.351424302227494,-0.5002979828131447,-0.10965732792082715,-0.1489176952466882,-0.885049582606583,-1.1265008416606286,1.8298048179767092,0.2319078678141636,-0.03898866673427736,-0.46692667058616305,0.0650513066792541,1.7179127710980042,-0.0016913177747092446,-0.924309949932444,1.6649112752080921,1.486276603875425,-0.6926737827098641,-0.037025648367984415,-1.0420910519100273,-0.7731575357278792,1.1074140591808654,-0.26866181559056485,-0.9282359866650305,-0.40214706449849213,0.7030322757244962,-0.08021205242643135,-0.058618850397207885,0.7246254777537202,0.03756904955115181,0.19264750048830254,0.18086939029054433,0.9287793878481972,-0.1332135483163441,1.1564895183381918,0.1435720413309762,0.8306284695335446,2.2557798034623016,0.5616949533513966,0.9601876817088866,-0.6239681398896073,-0.3059591645501324,-0.9262729682987375,-1.0028306845841661,-0.8713084540425318,-2.14334435540043,0.48317421869967453,0.5911402288457924,0.05523621484778884,0.22209277598269833,0.9111122225515602,0.650030779834584,-0.4649636522198701,-0.9282359866650305,-0.40214706449849213,-1.071536327404423,-0.5866707909300392,-1.177539319184248,0.8738148735919922,-0.7554903704312416,0.4988783656300192,1.3331611713045666,-0.9832005009212356,-0.5631145705345227,1.708097679266539,-0.8614933622110665,1.5490931915968025,1.833730854709295,0.12786789440063212,-0.9301990050313234,1.6943565507024878,1.2389362897224998,-1.3581370088832092,-0.3530716053411658,0.9876699388369888,1.305678914176463,-1.1480940436898521,-0.7554903704312416,-0.8752344907751177,0.019901884254514224,-0.8713084540425318,0.504767420728898,0.8129613042369076,1.1152661326460374,1.386162667194479,-0.4158881930625438,-0.007580372873588626,0.2279818310815777,-0.7299711316694323,-1.2619491089348494,-1.1186487681954564,0.650030779834584,-0.31773727474789115,0.20835164741864717,0.0944965821736499,0.2652791800411458,-0.7770835724604651,0.17890637192425138,-1.0793884008695953,0.5499168431536384,-0.8634563805773595,0.3968014105827801,-1.5328456434832907,-0.42962932162659495,0.6618088900323422,-0.9910525743864079,1.0269303061628499,1.2094910142281041,0.47728516360079515,0.6304005961716536,-0.6396722868199514,0.16320222499390674,-0.36877575227151044,1.036745397994315,1.360643428432669,1.6649112752080921,1.3292351345719806,-0.5984489011277974,0.4556919615715717,1.235010252989914,2.3343005381140234,-0.15873278707815347,3.0193939479502983,0.4026904656816595,0.15338713316244149,-0.7162300031053805,-0.9871265376538221,0.6814390736952728,-0.6926737827098641,-0.19799315440401452,1.2585664733854305,-2.066786639115001,-0.4433704501906461,0.5754360819154478,-0.24903163192763433,0.8424065797313034,-1.1049076396314053,0.5145825125603632,-0.9321620233976163,-0.40018404613219916,0.051310178115202956,-0.41392517469625034,0.612733430875016,0.24761201474450822,-0.616116066424435,-0.07628601569384547,-0.2038822095028939,-1.1677242273527826,0.7933311205739771,0.20835164741864717,0.3555780248906261,0.5145825125603632,-0.11162034628712064,0.2240557943489918,0.00616075569046252,0.059162251580375275,1.5863905405563699,-1.218762704876402,1.5530192283293882,-0.51011307464461,0.918964296016732,-0.655376433750296,-0.43551837672547433,-0.6082639929592627,2.2479277299971283,0.7638858450795813,-0.9478661703279609,-1.138278951858387,0.06701432504554761,-0.09199016262419012,-1.1657612089864897,1.3763475753630134,0.7010692573582032,-0.3962580093996133,0.20049957395347484,-0.2117342829680662,0.012049810789341902,0.11412676583658042,-1.3915083211101908,-0.35699764207375223,-0.5729296623659881,1.8749542404014485,1.625650907882231,1.2114540325943977,-1.2069845946786437,-0.07235997896125959,0.5813251370143272,-0.36092367880633813,-1.6035143046698404,2.2027783075723892,-0.13517656668263706,0.8090352675043212,-1.0322759600785618,-0.36092367880633813,-0.27455087068944367,1.087783875517935,0.7128473675559615,-0.05665583203091494,0.2947244555355416,0.7521077348818226,-0.8300850683503779,1.0740427469538834,-0.07235997896125959,-0.655376433750296,1.144711408140433,-0.3059591645501324,0.3065025657332998,1.1250812244775026,0.3634300983557984,2.1262205912869594,-0.33933047677711464,-0.6632285072154683,0.5754360819154478,-1.1677242273527826,0.4046534840479524,0.2652791800411458,-0.29418105435237424,-0.9694593723571845,-0.26669879722427137,-0.8752344907751177,0.9739288102729378,0.33398482286140263,-1.509289423087774,-0.9733854090897703,0.16909128009278612,-1.2226887416089884,0.6578828532997564,0.004197737324169579,-1.509289423087774,-0.6750066174132265,0.23779692291304297,-0.6632285072154683,1.4627203834799074,-0.7201560398379669,2.289151115689283,-0.6494873786514166,-0.07039696059496608,-0.51011307464461,-0.9930155927527009,0.4321357411760553,2.440303529893848,1.4509422732821498,0.13964600459839033,-0.5317062766738335,-2.0373413636206053,-1.108833676363991,-1.2855053293303658,0.7364035879514784,-0.04487772183315674,-0.5493734419704711,0.6637719083986352,-1.4857332026922572,0.8757778919582851,1.199675922396639,1.0818948204190557,-0.29418105435237424,-0.43944441345806023,-1.2639121273011424,0.24368597801192235,-2.184567741092584,-1.4327317068023449,-0.8654193989436524,-0.7633424438964139,-1.1952064844808856,-1.2246517599752813,-1.132389896759508,1.6629482568417997,0.4615810166704511,-0.009543391239881568,0.33005878612881623,3.2058806927481385,1.1034880224482797,-0.924309949932444,-0.22743842989841032,1.0524495449246598,0.22209277598269833,-0.9596442805257192,0.18872146375571663,0.3163176575647651,0.4851372370659675,-0.09787921772306894,-0.38840593593444095,-0.7456752785997763,0.6166594676076024,0.03953206791744475,1.3743845569967201,-0.5690036256334016,-1.0401280335437342,1.2173430876932758,-0.9164578764672723,1.6276139262485245,-0.4649636522198701,-0.26277276049168546,-0.29418105435237424,1.2683815652168957,2.2184824545027326,2.4422665482601413,-0.9871265376538221,-1.320839659923641,-0.02328451980393327,-0.4433704501906461,0.7128473675559615,0.6775130369626868,0.9641137184414724,1.0406714347269017,0.24368597801192235,0.2279818310815777,-0.6023749378603839,-0.5827447541974533,0.8502586531964752,0.2240557943489918,1.2389362897224998,0.2829463453377834,0.9130752409178532,-1.434694725168638,-1.9058191330789707,1.812137652680071,1.0936729306168145,0.46550705340303694,0.9052231674526808,0.22209277598269833,-1.6584788189260458,0.60880739414243,-0.41392517469625034,-1.362063045615795,-0.07432299732755253,0.9876699388369888,0.16320222499390674,-1.3385068252202785,0.07094036177813348,0.21227768415123305,-0.9439401335953745,1.759136156790159,-0.9321620233976163,-1.8960040412475054,-1.132389896759508,0.25939012494226643,1.066190673488711,-0.11750940138599947,-0.7005258561750365,-1.110796694730284,-0.09984223608936188,-0.26277276049168546,0.2927614371692487,0.0022347189578766375,0.2692052167737317,-1.403286431307949,0.4694330901356234,-1.0597582172066649,0.3241697310299374,-0.5297432583075405,-0.8713084540425318,-1.1206117865617493,0.019901884254514224,0.2750942718726111,-1.2619491089348494,0.2888354004366622,-0.09002714425789661,0.26135314330855935,0.131793931133218,0.17694335355795843,-1.110796694730284,-0.37073877063780336,0.3261327493962303,-0.47674176241762833,-1.4562879271978615,-0.06058186876350083,-0.23136446663099675,1.1839717754662942,-1.2344668518067465,0.9307424062144908,0.8129613042369076,2.063404003565582,-0.7790465908267585,1.4902026406080109,-1.848891600456472,0.5734730635491548,1.0975989673494002,1.166304610169657,0.2947244555355416,-1.5662169557102725,1.0033740857673334,-0.41392517469625034,-0.25295766866022024,-0.5415213685052988,-1.923486298375608,1.5117958426372338,-1.1618351722539038,0.7265884961200132,-0.6455613419188307,-0.7653054622627069,-1.324765696656227,0.7265884961200132,-1.097055566166233,-0.15284373197927464,-1.1461310253235593,-0.8909386377054623,0.942520516412249,-0.9282359866650305,-0.1508807136129817,0.13964600459839033,0.1867584453894237,0.6441417247357046,-0.24706861356134083,1.3488653182349113,-1.1480940436898521,-1.2658751456674353,-0.26473577885797844,0.023827920987100105,-1.9882659044632789,-0.30988520128271885,0.4262466860771759,-0.25295766866022024,0.9778548470055236,0.9523356082437142,1.2840857121472402,-0.7103409480065017,1.0328193612617294,-0.36877575227151044,1.464683401846201,0.7795899920099254,0.5381387329558802,0.08860752707477107,0.6304005961716536,-1.1029446212651122,1.0053371041336265,-3.9336171054596942,2.084997205594806,-1.362063045615795,0.16516524336020025,-0.48066779915021424,0.11805280256916686,-2.1669005757959465,1.1074140591808654,1.1623785734370713,0.8031462124054424,1.1623785734370713,1.6943565507024878,0.2986504922681275,-0.02328451980393327,-0.20977126460177328,0.504767420728898,-0.6063009745929697,-0.013469427972468008,0.18479542702313076,-1.2855053293303658,-0.7299711316694323,-0.49637194608055885,0.277057290238904,-0.7574533887975345,1.382236630461893,0.6146964492413088,-0.24903163192763433,-1.1637981906201968,-1.3483219170517438,0.359504061623212,-1.0126457764156314,0.2829463453377834,0.15731316989502792,1.4764615120439597,-0.6514503970177101,0.4733591268682093,-0.6514503970177101,1.5844275221900777,-0.9635703172583051,-1.6015512863035475,-0.4944089277142659,-1.2325038334404537,-0.5925598460289185,-0.17247391564220516,0.3025765290007139,1.0269303061628499,0.4851372370659675,-1.4307686884360518,-0.25295766866022024,0.48710025543226043,-0.9419771152290816,1.0583386000235393,-1.0499431253751994,1.0485235081920738,1.733616918028349,-0.2117342829680662,-0.29221803598608126,-1.1166857498291634,1.3645694651652547,0.6618088900323422,-1.1814653559168344,-0.8281220499840849,0.30846558409959274,-1.6800720209552695,0.15535015152873496,-0.015432446338760949,-2.363202412425252,-0.16069580544444695,1.6766893854058509,0.6284375778053606,0.14160902296468328,-0.6475243602851237,-1.9450795004048318,0.9700027735403518,-0.5807817358311598,0.41643159424571063,0.18283240865683725,0.8325914878998382,-1.1559461171550245,-0.06450790549608727,-0.015432446338760949,-0.8968276928043417,0.4851372370659675,0.4812112003333816,1.1388223530415538,-0.8497152520133083,0.15142411479614853,-0.24314257682875495,0.7030322757244962,0.047384141382617075,-0.13713958504893,0.6402156880031188,-0.058618850397207885,1.2507143999202586,0.3653931167220914,-0.6514503970177101,-0.2156603197006521,-0.26277276049168546,-0.39036895430073393,-1.6447376903619948,1.331198152938273,-0.5277802399412476,0.44587686974010643,-0.7829726275593445,0.27116823514002464,-1.3954343578427766,-0.24314257682875495,-0.9184208948335651,0.07094036177813348,2.766164578698495,-1.2894313660629522,2.2361496197993707,-1.8115942514969041,-0.5022610011794377,0.7206994410211338,1.0544125632909527,-1.1402419702246798,1.1093770775471579,0.4439138513738135,-0.9341250417639093,1.629576944614817,-0.48066779915021424,-0.5964858827615045,0.5420647696884662,-1.0362019968111484,1.4509422732821498,-0.8163439397863261,0.9542986266100072,-0.6808956725121059,-0.17639995237479106,-0.16658486054332577,0.14749807806356266,-0.19603013603772157,0.22601881271528476,0.5224345860255356,-0.37662782573668274,-0.5317062766738335,-0.0409516851005703,-0.3530716053411658,-0.14695467688039526,0.7913681022076836,-0.8889756193391694,-0.15873278707815347,0.4066165024142454,-0.02328451980393327,0.019901884254514224,-0.1253614748511718,-0.7849356459256374,1.0975989673494002,-1.218762704876402,0.0650513066792541,0.012049810789341902,-0.36092367880633813,-1.1579091355213174,0.5832881553806202,-0.2882919992534954,-1.776259920903629,-0.8693454356762389,0.5891772104794996,2.3657088319747115,-1.6898871127867348,-0.6435983235525378,-0.4944089277142659,0.7697749001784602,0.24957503311080118,-0.36877575227151044,-0.26080974212539254,-0.8281220499840849,0.14160902296468328,1.7768033220867958,1.5117958426372338,0.2692052167737317,1.5274999895675783,-0.8673824173099459,0.07094036177813348,-0.40999913796366444,0.06701432504554761,-0.2882919992534954,0.5832881553806202,1.712023715999126,1.4293490712529258,-0.5356323134064199,0.4910262921648469,-1.25606005383597,1.937770828122827,-1.6192184516001848,1.0171152143313846,-1.0224608682470966,0.8718518552256992,-0.32166331148047705,-1.3993603945753632,0.0650513066792541,-1.0597582172066649,-0.42177724816142265,-1.8999300779800916,-0.14695467688039526,0.5616949533513966,-0.8202699765189125,-0.8968276928043417,-0.8791605275077041,0.11608978420287391,-1.028349923345976,-1.3012094762607105,-0.44729648692323254,0.4537289432052788,-0.427666303260302,-0.48066779915021424,0.530286659490708,-2.2297171635173245,0.04934715974891001,1.6786524037721433,1.8494350016396397,0.4615810166704511,1.4823505671428379,1.4843135855091314,-1.2933574027955381,-1.542660735314756,0.29668747390183453,-0.1076943095545342,-0.7633424438964139,0.46550705340303694,0.5813251370143272,0.25939012494226643,2.5993080175635854,1.0445974714594874,-0.5631145705345227,1.5000177324394761,-0.11358336465341358,-0.1253614748511718,-0.7123039663727947,0.3241697310299374,0.5538428798862244,1.305678914176463,0.6853651104278592,1.5706863936260254,-0.551336460336764,0.7128473675559615,-1.3483219170517438,-1.5367716802158768,0.7049952940907898,-0.8143809214200332,0.318280675931058,0.799220175672856,1.5549822466956817,-0.7711945173615863,0.4890632737985539,1.625650907882231,-0.2588467237590996,-0.9184208948335651,-0.04487772183315674,0.4144685758794177,0.32024369429735094,-0.5591885338019363,1.2173430876932758,-0.0016913177747092446,0.13375694949951095,0.5754360819154478,0.8738148735919922,0.9641137184414724,0.14946109642985558,0.7521077348818226,-0.6475243602851237,0.3359478412276956,-1.067610290671837,-1.4503988720989824,0.4301727228097624,0.7422926430503572,-0.35110858697487285,0.059162251580375275,0.42820970444346884,-1.283542310964073,1.6825784405047302,-1.6820350393215626,0.4556919615715717,0.2927614371692487,0.1612392066276138,-0.5964858827615045,0.09253356380735694,-0.6789326541458124,0.7638858450795813,-1.0047937029504597,0.5479538247873456,0.2044256106860613,-0.03506263000169148,0.754070753248116,0.6598458716660492,-0.6808956725121059,0.4969153472637257,-2.1276402084700856,1.6276139262485245,-1.0990185845325258,-1.1127597130965776,0.6539568165671699,-1.6859610760541488,0.36735613508838433,-0.2333274849972897,1.9652530852509293,0.1867584453894237,-0.07824903406013842,1.278196657048361,0.9601876817088866,-1.6388486352631153,1.6570592017429202,-0.20977126460177328,0.29668747390183453,-0.9223469315661511,1.7355799363946425,1.2860487305135326,2.9683554704266797,0.5518798615199314,2.3048552626196277,-1.2383928885393325,0.2888354004366622,-0.7437122602334834,-0.7417492418671905,0.6068443757761371,-0.19995617277030803,0.9052231674526808,0.8973710939875086,-0.8477522336470155,-0.7064149112739153,0.5008413839963122,-0.1862150442062563,0.2535010698433876,0.10431167400511515,-0.2235123931658244,-0.32951538494564936,0.03560603118485831,-1.360100027249502,-0.6043379562266767,0.2829463453377834,-0.8281220499840849,0.06112526994666822,0.3536150065243332,0.12394185766804568,-0.8399001601818431,1.1054510408145721,-0.25492068702651316,-0.6023749378603839,0.21816673925011243,-0.42177724816142265,0.569547026816569,0.569547026816569,-0.4728157256850419,-2.2866446961398226,-0.8791605275077041,1.4234600161540463,0.6696609634975146,2.214556417770147,0.21424070251752655,-1.5603279006113933,0.03953206791744475,1.5235739528349925,0.5813251370143272,0.3163176575647651,-0.38840593593444095,0.40857952078053833,-0.11358336465341358,-1.2599860905685565,0.6166594676076024,-1.511252441454067,-0.5179651481097823,0.20638862905235422,-0.48459383588280064,1.1878978121988801,0.3732451901872637,-1.5760320475417378,-0.009543391239881568,1.2644555284843098,2.946762268397456,0.2829463453377834,0.173017316825372,1.2978268407112914,0.35754104325691904,-0.22743842989841032,-0.40607310123107854,-1.9077821514452635,0.48317421869967453,-0.40018404613219916,0.08075545360959875,1.1348963163089678,-0.027210556536519152,1.5490931915968025,-0.16069580544444695,-0.27847690742203013,0.8227763960683729,-0.5022610011794377,-1.3777671925461397,-0.29221803598608126,-0.07039696059496608,-0.054692813664622,1.1152661326460374,0.047384141382617075,1.3900887039270646,0.8816669470571645,1.4450532181832705,-0.39036895430073393,0.5499168431536384,-1.8115942514969041,-0.6612654888491754,0.6814390736952728,-0.25492068702651316,0.41643159424571063,1.021041251063971,1.0936729306168145,1.5373150813990437,-1.8606697106542305,-0.19799315440401452,2.540417466574794,-0.8202699765189125,-0.5631145705345227,-1.3149506048247617,-2.628209891874814,-0.18817806257254927,-0.8320480867166707,0.3163176575647651,0.836517524632424,0.9484095715111278,0.008123774056756019,0.00616075569046252,0.7187364226548408,1.3940147406596506,1.4941286773405966,1.1721936652685365,0.3653931167220914,0.14160902296468328,-1.919560261643022,0.48710025543226043,-1.6035143046698404,1.199675922396639,-0.9773114458223567,0.33987387796028146,1.4548683100147357,1.7768033220867958,-1.0499431253751994,-1.0617212355729577,-0.06058186876350083,-0.5277802399412476,0.5401017513221732,-1.4248796333371727,-0.12339845648487885,-0.7574533887975345,2.0535889117341166,-0.9498291886942539,-1.5995882679372542,0.6264745594390676,0.4144685758794177,0.47728516360079515,-1.3934713394764837,-0.20780824623547978,-0.8241960132514985,0.8090352675043212,0.6461047431019982,0.2750942718726111,0.16712826172649317,-0.06058186876350083,-0.2333274849972897,1.339050226403446,-0.4315923399928879,1.4372011447180986,-0.9027167479032205,0.051310178115202956,0.8267024328009588,-0.6102270113255556,-0.2038822095028939,0.27116823514002464,-0.48263081751650716,-0.037025648367984415,-1.2325038334404537,0.38698631875131484,1.1898608305651734,-0.657339452116589,-0.06254488712979432,0.8345545062661311,-1.1461310253235593,-1.1127597130965776,-0.04684074019944968,1.6865044772373161,0.3732451901872637,0.8168873409694936,0.059162251580375275,0.14946109642985558,1.7139867343654185,0.08271847197589169,0.2986504922681275,-0.16462184217703285,-0.07824903406013842,0.2162037208838195,1.1211551877449166,-1.5642539373439794,-1.053869162107786,0.17890637192425138,0.3928753738501942,0.651993798200877,-2.7401019387535177,0.9700027735403518,-0.22743842989841032,-1.7252214433800097,0.1082377107377016,-0.09199016262419012,-1.030312941712269,1.7061346609002466,-0.5984489011277974,0.6598458716660492,-0.2588467237590996,0.4674700717693299,0.4125055575131248,-0.32951538494564936,-0.9871265376538221,1.1466744265067266,0.9974850306684542,-0.1626588238107399,0.06897734341184054,-1.279616274231487,0.30846558409959274,0.5008413839963122,-1.6467007087282877,1.0956359489831067,-0.1449916585141023,-1.0185348315145109,-0.6416353051862449,1.647244109911455,0.610770412508723,0.2888354004366622,0.2986504922681275,-1.0479801070089065,-0.8163439397863261,-1.0577951988403718,-2.017711179957675,0.8875560021560434,0.7874420654750978,-0.6004119194940903,0.1200158209354598,-1.729147480112596,0.424283667710883,0.3104286024658857,0.26135314330855935,-0.8124179030537403,0.9660767368077654,-0.20977126460177328,-0.21958635643323854,-0.26080974212539254,-1.6074403414024265,1.0936729306168145,0.2809833269714899,-0.7417492418671905,-0.6298571949884861,0.84044356136501,-0.11554638301970653,-0.38447989920185455,1.4725354753113726,-1.1009816028988189,0.3732451901872637,-2.1335292635689647,-1.0401280335437342,0.8934450572549227,0.24761201474450822,0.4674700717693299,0.3555780248906261,-1.0872404743347677,0.17890637192425138,0.4066165024142454,0.11020072910399453,-0.5434843868715923,0.3771712269198496,-0.8359741234492567,0.2162037208838195,0.7442556614166508,0.7795899920099254,0.2515380514770941,-1.1814653559168344,-2.989405271272736,0.30061351063442043,-0.7574533887975345,-0.15676976871186052,0.24172295964562884,-0.2706248339568578,0.22209277598269833,1.7650252118890382,-0.02328451980393327,-1.6054773230361337,-0.6220051215233143,-1.5917361944720823,1.1800457387337082,2.662124605284963,-0.4433704501906461,1.2094910142281041,0.1455350596972697,0.9562616449763002,-0.7083779296402082,-1.134352915125801,1.4921656589743033,-0.6789326541458124,-2.7558060856838624,0.983743902104403,-0.8516782703796013,-0.6769696357795195,-0.11750940138599947,-0.8771975091414111,1.0426344530931946,-1.1009816028988189,0.5950662655783784,1.1761197020011225,0.544027788054759,-1.6663308923912181,0.9327054245807838,-2.2041979247555146,1.0936729306168145,-0.08806412589160367,0.2986504922681275,-0.5002979828131447,0.6166594676076024,1.2389362897224998,-1.403286431307949,-1.030312941712269,-0.16069580544444695,-0.8457892152807219,-0.054692813664622,1.916177626093603,0.7108843491896686,-1.81552028822949,0.6343266329042394,0.5224345860255356,0.04345810465003063,-0.40999913796366444,-0.5670406072671087,-0.8320480867166707,-0.21762333806694503,-0.17051089727591223,0.9150382592841462,1.3096049509090502,0.2044256106860613,-0.09002714425789661,0.37913424528614253,-0.7535273520649487,1.5353520630327513,-1.1618351722539038,-0.6377092684536584,-0.042914703466863796,0.06897734341184054,1.3135309876416361,0.2044256106860613,0.08271847197589169,0.17694335355795843,-0.14106562178151644,-0.029173574902812093,-0.5375953317727129,-0.49637194608055885,1.6845414588710226,-0.13910260341522293,0.37913424528614253,0.8011831940391488,2.1262205912869594,1.5785384670911982,-0.27651388905573665,-0.8045658295885679,0.2240557943489918,0.6539568165671699,0.9542986266100072,1.4156079426888746,0.12197883930175274,0.5989923023109648,-0.5297432583075405,-0.44925950528952546,1.2016389407629322,-0.7515643336986557,0.00616075569046252,-0.40214706449849213,0.06897734341184054,0.10234865563882221,1.9750681770823946,-0.11358336465341358,1.1584525367044842,-0.06647092386238021,-1.1893174293820061,0.383060282018729,0.5911402288457924,1.1564895183381918,0.4026904656816595,0.7599598083469948,-1.0519061437414925,-2.4966876613331794,0.10234865563882221,0.8600737450279404,-0.013469427972468008,0.19657353722088897,-0.7986767744896891,-0.6435983235525378,0.79529413894027,0.7913681022076836,1.1682676285359495,-0.42962932162659495,-2.443686165443267,0.014012829155634843,0.3477259514254538,1.0485235081920738,-1.5917361944720823,-0.5493734419704711,-1.1637981906201968,0.8325914878998382,-0.6828586908783989,0.19264750048830254,-0.26080974212539254,-0.09002714425789661,0.4851372370659675,-0.4728157256850419,0.2986504922681275,1.647244109911455,-0.2451055951950479,1.9848832689138598,-0.46888968895245603,1.5333890446664578,0.12786789440063212,-0.30399614618383947,-0.3079221829164259,2.1635179402465283,1.0897468938842279,-0.7633424438964139,0.9366314613133696,1.2153800693269834,-1.509289423087774,-0.1449916585141023,0.3241697310299374,-0.2863289808872019,-0.39233197266702685,0.7815530103762184,-0.5631145705345227,0.4026904656816595,-0.12928751158375767,-1.1637981906201968,-0.2156603197006521,-0.6259311582559002,0.8247394144346658,0.9071861858189738,0.4517659248389858,-0.3373674584108217,-0.16462184217703285,-0.9949786111189943,2.4874159706848817,-0.5847077725637463,1.1034880224482797,-0.512076093010903,-0.05076677693203556,-0.8791605275077041,-0.2882919992534954,-0.39233197266702685,-0.7554903704312416,0.17105429845907905,0.04934715974891001,2.530602374743329,0.3123916208321792,0.6048813574098436,1.812137652680071,-0.10376827282194832,-0.39036895430073393,-2.1708266125285327,0.00616075569046252,-0.25492068702651316,1.2291211978910346,0.0650513066792541,-2.21401301658698,3.168583343788571,-0.03898866673427736,-0.5650775889008157,0.3771712269198496,0.21031466578494012,1.4744984936776662,1.655096183376627,-1.8037421780317318,1.5962056323878353,0.4007274473153666,1.2016389407629322,-1.3051355129932964,-0.6710805806806407,0.8227763960683729,-1.7428886086766473,1.5490931915968025,0.012049810789341902,-1.3973973762090701,0.424283667710883,0.9562616449763002,-0.364849715538924,0.3359478412276956,-0.7044518929076223,-0.5238542032086617,1.672763348673265,-0.6063009745929697,0.03953206791744475,-0.9557182437931333,1.4941286773405966,-1.240355906905626,0.20835164741864717,-0.9989046478515803,-0.6494873786514166,-1.2030585579460578,-0.7554903704312416,0.6539568165671699,-0.9400140968627887,0.98178088373811,1.5844275221900777,-0.4257032848940091,-0.39036895430073393,-0.6121900296918491,2.2008152892060955,0.6598458716660492,0.2338708861804571,-0.27455087068944367,-0.32951538494564936,2.0280696729723067,0.4203576309782971,2.041810801536358,0.11020072910399453,0.33005878612881623,1.3233460794731013,-0.427666303260302,1.3743845569967201,0.1200158209354598,1.4411271814506845,1.3841996488281854,0.2535010698433876,-0.47085270731874895,0.7089213308233756,0.08075545360959875,1.119192169378623,1.7139867343654185,1.199675922396639,-1.322802678289934,0.4419508330075206,0.7795899920099254,1.113303114279745,-0.5238542032086617,0.9700027735403518,1.3547543733337895,0.5931032472120854,0.06701432504554761,-0.09591619935677599,-0.34325651350970054,-0.39036895430073393,-0.5238542032086617,1.299789859077585,-0.3668127339052175,-0.24903163192763433,-0.43355535835918085,0.7835160287425118,-0.6396722868199514,-0.7142669847390876,-0.7319341500357252,0.4969153472637257,0.4929893105311398,0.2240557943489918,0.8463326164638894,1.0445974714594874,1.235010252989914,0.689291147160445,-0.27258785232315075,-0.5925598460289185,1.7925074690171405,0.7069583124570826,0.5597319349851038,-0.2038822095028939,0.27902030860519694,0.49495232889743274,-0.737823205134604,0.13571996786580445,-2.6085797082118836,0.7030322757244962,-0.6534134153840031,-0.9105688213683929,-1.3738411558135533,0.5106564758277774,1.1250812244775026,1.2605294917517238,0.12983091276692507,-0.009543391239881568,1.1034880224482797,1.4411271814506845,-1.1441680069572662,-0.8202699765189125,-0.7338971684020181,0.8168873409694936,0.9130752409178532,0.6853651104278592,1.1780827203674147,1.1898608305651734,0.37520820855355663,0.903260149086388,-0.9400140968627887,0.9601876817088866,0.14946109642985558,1.3292351345719806,0.3104286024658857,-0.33344142167823526,-2.0157481615913815,1.5000177324394761,0.25546408820968053,0.03364301281856537,0.48710025543226043,-0.15676976871186052,0.21424070251752655,-1.3738411558135533,-1.1186487681954564,2.006476470943084,-1.2992464578944176,1.1152661326460374,-0.8948646744380482,-0.33147840331194234,0.8149243226032006,-0.9714223907234774,-0.12732449321746472,-1.0224608682470966,-0.32951538494564936,-0.24706861356134083,-0.13713958504893,-0.9517922070605469,0.7226624593874268,0.2731312535063181,-0.16854787890961873,-0.042914703466863796,0.5989923023109648,0.7128473675559615,-1.324765696656227,0.19068448212200959,0.4517659248389858,-0.04880375856574262,0.11805280256916686,-0.4080361195973715,-0.41196215632995736,-1.5210675332855321,0.9484095715111278,0.9071861858189738,-0.989089556020115,-0.15873278707815347,0.9346684429470766,0.2024625923197678,-1.1716502640853692,0.10038563727252928,-0.05665583203091494,-0.7437122602334834,1.4529052916484422,-0.6926737827098641,-0.7810096091930515,-0.7221190582042599,1.1074140591808654,1.0406714347269017,-0.20977126460177328,-0.27455087068944367,1.0073001224999194,0.03756904955115181,-0.23136446663099675,0.2044256106860613,0.2338708861804571,-0.3491455686085799,-0.38840593593444095,-0.6318202133547796,-2.469205404205077,0.2279818310815777,0.47728516360079515,-0.45514856038840484,-0.16854787890961873,1.3331611713045666,0.6559198349334634,0.4556919615715717,-0.7201560398379669,-0.7044518929076223,0.9052231674526808,0.47728516360079515,-1.6722199474900972,-0.26277276049168546,-2.2100869798543936,0.03560603118485831,-0.8771975091414111,0.06897734341184054,-2.2650514941105993,-0.05272979529832906,-0.8006397928559821],\"z\":[0.8574034446394462,1.048458149949096,-0.759667824012329,-0.0840826289483106,-0.2810462426695987,0.05379190065659106,0.22515024459411148,0.20939315549640877,2.46659616874237,-0.10180935418322665,-1.1831395935130984,-0.17468589126010303,0.036065175421675026,-2.2034111125893707,-1.4096477492925799,-0.6986091037587299,-0.16483771057403862,0.15030407138002236,0.16606116047772507,-0.3814976856674555,0.7057414620740545,0.975581612872219,-0.36377096043254004,-1.951297687026122,-0.3874065940790944,0.9716423405977935,0.8869479866976394,1.8146466073249068,1.5566242733500188,0.24287696982902754,-0.952692165459191,0.5245349374504698,-1.9591762315749734,-0.25347133674861827,-0.2633195174346827,-1.5554008234463328,2.173120384297651,-0.4464956781954808,1.2631484889053002,-0.7498196433262646,0.8081625412091241,-2.5717330702481798,0.701802189799629,0.9420977985396003,0.5383223904109596,0.05379190065659106,1.3596606596287308,-1.1890485019247368,-0.39331550249073327,-0.23377497537648945,-0.6808823785238137,-0.6867912869354521,1.2670877611797255,-0.8305747249519926,0.2546947866523047,-0.854210358598547,-1.415556657704218,-0.9389047124987011,-1.0354168832221324,1.8540393300691644,1.0523974222235215,-0.5646738464282537,-0.9605707100080426,-0.3893762302163072,1.3576910234915187,-0.5548256657421893,0.5402920265481724,0.44968876423638005,1.5231404590174003,-0.5016454900374417,0.42408349445261234,-0.19241261649501906,-0.22786606696485115,-0.36967986884417836,0.018338450186758982,0.15227370751723512,-1.8035749767351559,1.024822516302541,1.235573582984319,-1.4470708358996243,-0.7478500071890518,-0.20226079718108347,-0.6690645617005366,-0.8069390913054383,-0.4169511361372876,0.9342192539907487,-0.2199875224159995,0.31181423463147834,0.7924054521114214,-1.6144899075627193,0.4260531305898257,0.5225653013132564,0.9184621648930459,-1.2382894053550588,-2.829755404223067,-0.6139147498585757,-0.4642224034303969,-0.021054272557498636,-1.1614735960037568,0.38666040784556804,-1.7385769842071306,0.5166563929016181,1.011035063342051,-0.9132994427149334,0.4831725785689988,-0.5154329429979316,1.2513306720820223,-1.068900697554751,1.186332679553997,0.09712389567527423,0.1030328040869131,0.9066443480697682,0.7155896427601189,-0.10968789873207828,1.2237557661610425,-0.8384532695008443,-0.1490806214763359,1.0366403331258187,-1.8016053405979429,-0.013175728008647003,0.9499763430884519,-1.7878178876374526,-1.5770668209556746,1.6885898945432818,-0.5686131187026793,-1.1949574103363756,1.3458732066682408,1.2749663057285767,-0.9310261679498495,1.143000684535314,-0.7163358289936453,-1.254046494452762,1.03073142471418,0.5580187517830885,0.6978629175252029,-0.6690645617005366,0.5422616626853852,1.2533003082192358,1.1843630434167849,-1.8764515138120323,-2.043870585475127,0.8574034446394462,-0.5961880246236597,-0.11756644328092992,0.13454698228231907,0.0006117249518429412,1.5960169960942765,-1.267833947413252,-0.6158843859957884,0.2527251505150919,-1.3151052147063613,0.7884661798369953,-0.05256845075290462,-0.2771069703951732,0.5915025661157073,-1.7523644371676208,0.7254378234461833,0.1384862545567446,-1.007841977301152,-1.6164595436999323,-0.4071029554512232,1.1883023156912105,1.066184875184012,0.877099806011575,0.9598245237745163,0.863312353051085,0.7746787268765054,0.31181423463147834,-0.060446995301756255,-0.21210897786714789,0.4359013112758901,1.1607274097702305,0.49105112311785043,-0.1352931685158454,-1.551461551171907,0.9007354396581299,-2.5205225306806445,0.4733243978829344,-0.5646738464282537,1.2651181250425123,-0.9881456159290231,-0.24559279219976718,0.21727170004525986,0.8613427169138723,-0.5292203959584216,0.6860451007019257,0.400447860806058,-2.4555245381526194,-1.2658643112760393,0.32363205145475554,-0.07029517598782066,-0.39922441090237154,-0.9231476234009978,0.6308952888599648,0.6643791031925842,-0.17665552739731635,-1.2087448632968656,-0.11559680714371659,0.431962039001464,1.4699602833126526,-0.1352931685158454,3.0279424678480407,0.02227772246118508,1.1942112241028493,1.619652629740831,1.53692791197789,-0.18453407194616742,-0.5666434825654665,-0.45043495046990634,0.5993811106645589,-0.15301989375076144,-0.6257325666818528,0.5915025661157073,0.44771912809916725,-0.31453005700221803,1.781162792992288,0.6151381997622621,1.235573582984319,-0.3224086015510691,0.9598245237745163,-0.005297183459795366,0.09909353181248699,0.040004447696100565,0.7490734570927378,0.04197408383331389,1.0445188776746699,0.42408349445261234,-1.124050509396712,0.7707394546020798,1.5802599069965733,-0.13135389624141985,1.7476789786596683,1.0642152390467987,-1.4982813754671593,-1.0728399698291773,1.1489095929469528,0.3078749623570528,-1.1575343237293307,0.7727090907392926,0.11682025704740304,-0.11362717100650382,0.7864965436997826,0.2546947866523047,-0.5528560296049765,0.2487858782406664,-0.34998350747204954,-0.3480138713348368,1.2710270334541511,-0.3480138713348368,0.37287295488507755,0.07545789816593264,1.048458149949096,-1.5219170091137137,-0.8010301828937995,-1.0551132445942613,1.4148104714706917,-0.9113298065777207,1.6984380752293462,0.6151381997622621,0.6643791031925842,0.993308338107135,0.8652819891882978,-0.9625403461452554,-0.8837549006567402,-0.2515017006114055,-2.3924961817618073,-1.3978299324693026,-0.0742344482622462,-1.236319769217846,0.10106316794970031,0.6308952888599648,-0.6316414750934918,-0.6099754775841502,2.0017620403601306,-0.5055847623118672,1.2099683132005525,1.4542031942149494,0.5225653013132564,0.8593730807766595,-0.6946698314843037,-1.3032873978830841,1.1843630434167849,-0.2849855149440248,-1.4490404720368373,0.8258892664440401,0.5658972963319401,0.7116503704856935,-2.063566946847256,0.055761536793803836,0.24681624210345307,-1.551461551171907,-1.7110020782861506,-0.4484653143326936,-0.35786205202090116,0.4122656776293352,-0.17862516353452912,1.0386099692630315,-1.4293441106647085,1.0602759667723731,-1.0728399698291773,-0.7143661928564325,0.4752940340201477,1.339964298256602,-0.6670949255633233,1.4916262808219936,-0.2613498812974699,0.49105112311785043,-0.044689906204052984,0.6289256527227521,0.34332841282688437,0.764830546190441,0.9519459792256647,0.481202942431786,-0.2613498812974699,0.06954898975429377,2.3661447257445136,-1.043295427770984,1.6531364440734508,0.26651260347558187,0.6230167443111138,-0.3046818763161536,-0.6887609230726655,-1.8429676994794135,-0.28892478721845033,-0.18650370808338076,0.5028689399411276,0.7668001823276538,-0.7990605467565867,0.004550997226269039,-0.05059881461569185,0.9105836203441943,-0.0781737205366723,-1.3032873978830841,-0.6730038339749621,0.036065175421675026,-0.25347133674861827,0.3590855019245876,0.733316367995035,0.22121097231968595,0.751043093229951,0.22318060845689872,-0.5784612993887436,-2.441737085192129,-0.07620408439945897,1.2296646745726814,-0.4130118638628621,0.31969277918033,0.2606036950639436,-0.12150571555535546,-0.3972547747651588,1.143000684535314,-0.8975423536172307,0.040004447696100565,-0.728153645816923,0.26454296733836913,0.3610551380618004,-0.23180533923927668,0.8790694421487883,-1.092536331201306,-1.3702550265483222,-0.9192083511265723,2.9156732080269068,-0.43467786137220366,-0.16286807443682585,-1.8370587910677747,0.877099806011575,0.42408349445261234,-0.8010301828937995,-1.6834271723651701,-0.41104222772564875,-0.9349654402242755,-1.271773219687678,1.562533181761658,1.402992654647414,-0.37558877725581724,1.1351221399864628,1.1252739593003984,-0.8069390913054383,0.7786179991509309,-0.49573658162580286,-0.38346732180466886,-0.7458803710518385,1.7338915256991783,0.4713547617457216,0.3768122271595037,1.8422215132458868,1.3852659294124985,-1.750394801030408,1.107547234065482,0.22711988073132425,0.43984058355031563,-1.3485890290389806,0.8495249000905951,0.536352754273747,-0.29286405949287586,0.8475552639533818,0.9736119767350063,-0.42482968068613924,-1.4647975611345403,-0.4071029554512232,-2.4693119911131096,0.999217246518774,0.4043871330804836,1.5664724540360833,1.2296646745726814,1.1961808602400614,0.5245349374504698,0.6643791031925842,-0.6198236582702146,0.07742753430314542,-1.0826881505152417,0.7805876352881442,0.512717120627192,-1.8331195187933491,-1.1082934202990087,-0.36771023270696557,-0.6237629305446402,-1.7267591673838534,-1.384042479508812,0.7569520016415894,-0.2101393417299351,-0.9507225293219782,-0.7498196433262646,-0.18650370808338076,-0.03681136165520135,0.07939717044035818,0.6072596552134105,0.634834561134391,0.12863807387068021,-1.486463558643882,0.3413587766896716,-0.08605226508552337,-1.5790364570928874,0.32166241531754275,-1.7267591673838534,1.2611788527680867,1.3163286646100476,1.0602759667723731,-0.0880219012227367,-0.8345139972264182,-0.17271625512289024,-1.835089154930562,-1.0176901579872164,-0.5055847623118672,0.5068082122155537,0.6978629175252029,1.1114865063399084,2.1081223917696255,-0.4425564059210553,-0.5607345741538281,0.5836240215668562,0.5974114745273461,-1.5396437343486298,-1.0649614252803257,-1.1279897816711375,-0.6355807473679173,-0.2751373342579604,1.8737356914412933,-1.2304108608062077,-0.6710341978377494,-0.3480138713348368,0.32166241531754275,-1.20480559102244,-1.124050509396712,-0.2751373342579604,0.8830087144232138,-0.9920848882034486,-0.6355807473679173,2.1750900204348644,-0.3401353267859851,-0.009236455734221464,0.28817860098492404,-0.43073858909777757,-0.8384532695008443,0.1187898931846158,-0.6277022028190656,1.3498124789426664,0.9637637960489419,-0.15301989375076144,-0.661186017151685,0.8987658035209172,-0.6040665691725113,-1.5672186402696102,-1.1279897816711375,0.8495249000905951,1.2572395804936614,-1.4135870215670052,0.15030407138002236,1.9269158671460407,-0.10771826259486551,-0.23771424765091556,0.6289256527227521,-1.1496557791804791,1.2946626671007055,1.3242072091588988,-0.8699674476962502,0.9460370708140258,-1.1142023287106475,0.07742753430314542,0.9499763430884519,-0.9664796184196816,0.18772715798706663,0.4713547617457216,-0.1490806214763359,-0.4169511361372876,0.3709033187478648,2.0706993051625813,1.0898205088305664,0.7136200066229063,1.1449703206725272,0.18575752184985386,0.14439516296838348,-0.4051333193140104,0.7608912739160154,0.2901482371221368,-0.8423925417752698,-0.8975423536172307,-1.8981175113213742,1.093759781104992,-1.9316013256539932,-0.42286004454892645,0.13651661841953183,-0.41498150000007483,-1.1575343237293307,-0.2869551510812376,-1.305257034020297,1.143000684535314,-2.4240103599572134,0.7766483630137182,1.2119379493377647,-0.9723885268313198,0.11288098477297749,0.07742753430314542,-0.8069390913054383,0.19954497481034436,-0.9645099822824688,-1.6322166327976353,-0.4464956781954808,0.13454698228231907,-1.5396437343486298,0.5836240215668562,0.2940875093965623,-1.4628279249973273,-0.5607345741538281,-0.17862516353452912,0.37484259102229034,2.0864563942602845,-0.2692284258463215,-0.6710341978377494,-1.4372226552135603,0.8357374471301046,0.5658972963319401,-0.1392324407902715,-0.6355807473679173,-0.13332353237863262,1.1745148627307205,-0.06635590371339456,1.1567881374958038,0.22515024459411148,0.6210471081739004,-0.525281123683996,1.3320857537077508,-0.42286004454892645,-0.3381656906487724,1.0898205088305664,0.8180107218951885,-1.8862996944980968,0.10894171249855139,0.301966053945414,0.6013507468017717,1.704346983640985,0.4024174969432708,0.4949903953922765,-0.0742344482622462,0.21136279163362154,-0.5095240345862928,1.4482942858033105,-0.22589643082763838,0.44377985582474117,0.17984861343821557,0.0518222645193783,-0.7675463685611806,-1.4096477492925799,0.9243710733046843,-0.11362717100650382,0.04591335610773943,-1.1575343237293307,0.6249863804483266,0.49892966766670205,-1.5672186402696102,-1.043295427770984,0.7983143605230597,-1.4254048383902824,1.0346706969886055,-1.9690244122610379,-1.0334472470849196,-0.3263478738254952,2.3543269089212355,0.1030328040869131,-1.0905666950640927,-0.328317509962708,0.7136200066229063,-0.8325443610892054,-0.36967986884417836,0.6860451007019257,-0.854210358598547,-1.1082934202990087,0.26454296733836913,0.2546947866523047,-0.37361914111860445,0.536352754273747,0.9893690658327096,0.652561286369307,0.4831725785689988,-0.9329958040870622,-1.322983759255213,1.5566242733500188,-1.1535950514549052,-0.01514536414585977,-0.36771023270696557,-1.3288926676668518,-0.6237629305446402,-0.7045180121703681,0.7687698184648666,-0.6631556532888977,-0.8325443610892054,-0.6749734701121749,-1.309196306294723,0.24287696982902754,-0.4287689529605648,-0.41498150000007483,0.9086139842069816,1.7693449761690103,0.18969679412427998,-1.9591762315749734,-1.2737428558248909,-0.1293842601042071,-1.0531436084570485,-0.005297183459795366,-0.4464956781954808,-0.23180533923927668,-0.20423043331829624,1.6531364440734508,0.20742351935919545,1.241482491395958,0.660439830918158,-0.31649969313943077,-0.22786606696485115,0.6978629175252029,-0.5292203959584216,-1.019659794124429,-0.37361914111860445,-0.33422641837434686,1.3301161175705376,-1.602672090739442,0.7904358159742086,0.7530127293671638,0.4949903953922765,-2.6662756048343974,-0.6395200196423434,0.9105836203441943,0.481202942431786,-0.25347133674861827,0.4752940340201477,-0.7951212744821605,-2.089172216631024,-0.661186017151685,0.28226969257328516,1.8599482384808033,0.1227291654590419,-1.7681215262653238,0.8849783505604266,0.5068082122155537,1.1626970459074428,-0.2731676981207471,1.235573582984319,-0.31846932927664356,1.2119379493377647,0.5402920265481724,0.1640915243405123,0.32757132372918163,-2.3826480010757427,-0.9172387149893595,-1.0767792421036027,0.18575752184985386,-1.141777234631628,1.1193650508887596,1.6452578995245986,0.7943750882486342,2.096304574946349,0.1384862545567446,-1.0354168832221324,-1.1279897816711375,-1.7622126178536852,-2.427949632231639,0.04197408383331389,1.7417700702480303,-1.699184261462873,-3.075959921374677,-0.9310261679498495,-0.20423043331829624,-0.09787008190880112,1.3557213873543053,0.5639276601947274,-0.43270822523499086,0.12469880159625467,-0.07620408439945897,-0.1392324407902715,-0.2751373342579604,0.09909353181248699,-0.11362717100650382,1.2395128552587458,0.39059968011999363,-1.1831395935130984,0.14045589069395795,-0.8522407224613342,0.660439830918158,0.0715186258915071,0.8731605337371494,0.3669640464734393,1.255269944356448,-0.21210897786714789,0.14636479910559624,-0.7517892794634774,2.19281674566978,1.27693594186579,-0.05256845075290462,0.530443845862108,1.8638875107552288,2.789616495245283,-0.2101393417299351,-0.678912742386601,0.016368814049546213,3.213088264746052,-0.09983971804601388,-0.42482968068613924,-1.21859304398293,-0.4031636831767977,0.26257333120115633,1.2631484889053002,-0.9664796184196816,0.1227291654590419,-0.4642224034303969,1.0720937835956503,1.501474461508058,1.3576910234915187,1.9603996814786595,0.0715186258915071,0.15227370751723512,1.395114110098563,-0.1608984382996131,0.6407434695460292,0.06364008134265547,1.0740634197328631,-0.5489167573305505,-0.6099754775841502,-1.0176901579872164,-0.20816970559272233,-0.2101393417299351,-0.1451413492019098,0.2527251505150919,-0.994054524340662,1.3557213873543053,-0.19635188876944515,-1.551461551171907,-1.433283382939134,-0.7202751012680714,-1.401769204743728,0.36302477419901313,-0.9270868956754239,-1.4391922913507729,-0.43467786137220366,1.2513306720820223,-0.2869551510812376,0.4516584003735928,0.44181021968752837,1.3222375730216867,0.24090733369181477,0.39650858853163246,-0.09196117349716225,1.4620817387638003,-0.11756644328092992,-0.4543742227443325,0.45953694492244446,-1.0649614252803257,1.9249462310088274,-2.7155165082647197,1.0780026920072892,0.24090733369181477,-1.112232692573435,-0.3795280495302428,-0.4996758539002284,-2.888844488339453,-1.6519129941697641,1.170575590456295,0.7431645486810994,-1.0039027050267264,-1.3348015760784901,0.4359013112758901,-0.5370989405072732,-0.6434592919167689,-0.14120207692748427,1.1233043231631852,2.0313065824183236,0.24681624210345307,-0.13332353237863262,-0.489827673214164,-0.6020969330352985,0.8101321773463375,-0.23180533923927668,-1.5573704595835458,0.2586340589267308,-0.8187569081287155,1.0583063306351603,0.43984058355031563,0.28226969257328516,-0.6631556532888977,0.0616704452054427,-0.5902791162120213,-0.5942183884864469,-0.5528560296049765,-1.0708703336919638,1.186332679553997,0.7392252764066733,0.09712389567527423,0.7786179991509309,-0.43073858909777757,0.6328649249971782,0.32363205145475554,-0.7458803710518385,0.8278589025812529,-0.37558877725581724,0.26651260347558187,-0.6257325666818528,0.7766483630137182,0.028186630872823387,-1.240259041492272,-2.4574941742898324,-1.8823604222236712,-0.5587649380166149,-0.5134633068607188,0.7864965436997826,1.1272435954376105,-0.6572467448772589,1.3143590284728344,0.634834561134391,-1.8035749767351559,-0.16286807443682585,-0.5548256657421893,-2.97550847837682,0.21727170004525986,-0.8995119897544435,0.17393970502657669,0.3768122271595037,0.3531765935129488,-0.588309480074808,-1.797666068323517,0.8869479866976394,1.3163286646100476,0.796344724385847,-0.7261840096797098,-0.724214373542497,-1.535704462074204,-0.710426920582007,1.062245602909586,-0.7951212744821605,0.9952779742443478,-0.3814976856674555,-0.976327799105746,0.26257333120115633,-0.41498150000007483,0.24681624210345307,0.2448466059662403,-0.9132994427149334,1.129213231574824,0.2290895168685376,1.024822516302541,2.0332762185555358,-3.1015651911584445,0.975581612872219,-0.5686131187026793,0.9027050757953426,-0.43467786137220366,0.8042232689346986,1.6255615381524697,0.5580187517830885,-0.3716495049813911,-1.671609355541893,-0.7163358289936453,-0.22392679469042504,-0.42286004454892645,0.29211787325934957,-1.65585226644419,0.15818261592887342,1.0405796054002443,1.1764844988679326,-0.5528560296049765,-0.5607345741538281,-0.22589643082763838,-0.08605226508552337,-1.0531436084570485,-0.7537589156006902,-0.1352931685158454,-0.7695160046983934,-1.21859304398293,-2.1088685780031526,-1.2835910365109553,-1.3111659424319357,-0.6473985641911945,-2.3550730951547627,0.22515024459411148,0.0518222645193783,-0.678912742386601,1.5901080876826377,-1.9532673231633348,2.383871450979429,-1.3564675735878315,-0.5174025791351444,0.25666442278951745,0.6407434695460292,0.7234681873089706,-1.3525283013134062,-1.3623764819994706,-0.6710341978377494,-0.5351293043700605,-0.28892478721845033,1.3911748378241373,-1.819332065832859,-1.419495929978644,-0.3224086015510691,1.4345068328428205,-0.9448136209103399,0.07545789816593264,0.28817860098492404,0.2684822396127952,-0.11953607941814269,1.0464885138118831,-0.50755439844908,-0.7458803710518385,-0.4642224034303969,1.668893533171153,0.08924535112642258,-0.5272507598212088,-1.317074850843574,1.7851020652667136,-1.3505586651761934,0.11288098477297749,-0.4130118638628621,0.9519459792256647,1.2316343107098935,-0.9605707100080426,-0.36377096043254004,0.08924535112642258,-0.8305747249519926,0.13060771000789353,-0.6080058414469368,0.43984058355031563,0.5402920265481724,0.7628609100532282,-0.06241663143896903,-0.5981576607608724,-0.10377899032043941,-1.5888846377789518,-1.618429179837145,-1.4529797443112629,0.5974114745273461,0.1837878857126411,0.6092292913506233,-0.440586769783842,-0.3322567822371335,-0.9172387149893595,-2.3393160060570595,2.9806712005549323,1.1548185013585917,0.23893769755460198,-1.1338986900827763,1.1942112241028493,-0.25741060902304436,0.6111989274878361,0.7549823655043766,-0.39922441090237154,-0.2908944233556631,0.8613427169138723,-0.6493682003284078,1.6846506222688562,0.3610551380618004,0.8711908975999367,-0.08014335667388507,-1.5928239100533776,-0.7537589156006902,-0.10968789873207828,-0.8561799947357603,0.530443845862108,-1.173291412827034,-0.35195314360926233,1.381326657138073,0.37484259102229034,1.1902719518284237,-0.9999634327523003,1.5743509985849355,-0.5213418514095706,-0.6670949255633233,0.877099806011575,1.1764844988679326,0.16803079661493783,1.7417700702480303,-2.079324035944959,-0.021054272557498636,-0.7340625542285614,-0.12741462396699432,-0.9152690788521467,-1.1654128682781824,1.0563366944979475,-0.6336111112307046,1.8875231444017833,-1.766151890128111,-0.4977062177630156,0.5599883879203013,0.6919540091135646,-0.8010301828937995,0.18575752184985386,0.44968876423638005,-1.2835910365109553,0.5166563929016181,0.22318060845689872,1.0760330558700764,-0.9487528931847655,-0.6020969330352985,1.1725452265935072,-0.33422641837434686,0.28817860098492404,-2.709607599853081,-1.7641822539908982,-0.9448136209103399,0.1030328040869131,3.559744224895519,-1.8035749767351559,0.1187898931846158,-1.0649614252803257,-0.6414896557795562,-0.1687769828484647,0.2527251505150919,0.31969277918033,0.4555976726480189,0.38863004398278084,1.0543670583607343,-0.9211779872637851,-0.5666434825654665,0.49892966766670205,-0.1490806214763359,-0.296803331767302,0.7845269075625698,0.10894171249855139,-1.3190444869807874,-0.41892077227450036,-0.8305747249519926,-0.9408743486359138,-0.6710341978377494,-0.3795280495302428,0.5658972963319401,1.2946626671007055,0.3709033187478648,0.5816543854296429,-0.8305747249519926,0.5107474844899792,0.9736119767350063,-0.741941098777413,-0.14317171306469703,0.5324134819993208,1.4995048253708458,-1.2894999449225941,0.993308338107135,-0.8029998190310121,1.2257254022982547,1.3596606596287308,-0.4071029554512232,0.4713547617457216,-0.6020969330352985,-2.014326043416934,1.247391399807597,0.15227370751723512,-0.18453407194616742,2.6064403344844846,1.6570757163478764,1.1922415879656358,-0.15301989375076144,0.32166241531754275,-0.50755439844908,-1.2954088533342325,0.43984058355031563,0.6801361922902869,-0.7005787398959425,2.0017620403601306,0.0577311729310166,-0.21210897786714789,-1.8449373356166263,0.5028689399411276,0.25666442278951745,-1.1398075984944147,-0.0683255398506079,-0.63755038350513,0.8357374471301046,0.2901482371221368,-0.4996758539002284,1.0917901449677796,0.014399177912333444,-0.7399714626402002,0.6821058284275002,0.9283103455791103,1.1666363181818682,-0.6552771087400461,0.18575752184985386,0.03803481155888779,-0.16286807443682585,-0.9979937966150875,-1.2087448632968656,-0.4071029554512232,0.26257333120115633,0.18772715798706663,1.1902719518284237,-0.952692165459191,1.0189136078909027,-1.0354168832221324,-2.0261438602402113,0.6269560165855393,0.3295409598663944,-0.4425564059210553,-1.5297955536625654,-1.3308623038040646,0.18969679412427998,0.4674154894712961,-0.2416535199253411,-1.6164595436999323,0.863312353051085,-0.0013579111853698278,-1.2166234078457172,1.466021011038227,3.4730802348581524,0.38666040784556804,-0.3361960545115596,-0.6651252894261105,-1.4746457418206047,-0.328317509962708,1.0090654272048383,0.39256931625720637,0.4516584003735928,1.1311828677120372,-0.9901152520662359,1.0543670583607343,0.733316367995035,0.21136279163362154,-0.37558877725581724,-0.3027122401789403,-2.309771463998866,0.4359013112758901,0.5284742097248952,-0.0683255398506079,-0.3381656906487724,0.2980267816709884,-0.13332353237863262,-0.539068576644486,-1.6834271723651701,-0.8364836333636315,-0.7084572844447942,0.10500244022412586,0.9539156153628775,-0.6257325666818528,-0.11559680714371659,2.0529725799276646,0.09121498726363592,-0.21801788627878674,-0.724214373542497,1.6019259045059153,0.7864965436997826,-0.15105025761354868,2.19281674566978,0.8436159916789563,0.09712389567527423,0.4201442221781868,0.20348424708476992,0.5146867567644053,-0.9192083511265723,-0.9329958040870622,0.18772715798706663,-0.19241261649501906,-0.5607345741538281,0.17787897730100224,0.5816543854296429,-0.7616374601495418,0.6998325536624157,1.562533181761658,0.9283103455791103,0.7608912739160154,1.0051261549304122,0.17984861343821557,0.19560570253591827,-0.5942183884864469,-2.668245240971611,0.22711988073132425,2.1790292927092896,0.4733243978829344,0.6427131056832426,-0.13726280465305873,-0.1352931685158454,0.26454296733836913,0.4024174969432708,1.221786130023829,0.22121097231968595,-1.419495929978644,0.24681624210345307,0.39650858853163246,0.036065175421675026,1.3911748378241373,-0.6631556532888977,-0.5843702078003825,1.0011868826559867,1.822525151873758,0.7195289150345445,0.368933682610652,-0.8364836333636315,-0.0742344482622462,-0.9625403461452554,-0.028932817106350275,1.3557213873543053,1.1233043231631852,-1.173291412827034,-1.9119049642818644,-0.3716495049813911,-0.6020969330352985,-0.629671838956279,-1.750394801030408,0.17393970502657669,0.5422616626853852,0.38863004398278084,0.07545789816593264,1.7378307979736038,1.0917901449677796,0.3157535069059039,0.12469880159625467,0.07742753430314542,-0.05453808689011739,0.1640915243405123,1.5448064565267423,1.4423853773916717,0.5698365686063657,1.5802599069965733,-0.19241261649501906,1.03073142471418,0.4024174969432708,-0.30074260404172753,-0.2002911610438707,-0.5705827548398925,-0.2849855149440248,-0.7695160046983934,-1.8035749767351559,-0.6769431062493877,-1.1279897816711375,1.3793570210008597,0.20742351935919545,1.028761788576967,2.125849117004542,-0.12741462396699432,0.5087778483527665,0.31378387076869113,0.747103820955525,-1.4096477492925799,-2.400374726310659,0.4043871330804836,1.1902719518284237,-0.7498196433262646,-0.09787008190880112,-1.001933068889513,2.4508390796446675,0.8180107218951885,1.6590453524850886,2.0766082135742203,-0.011206091871434233,1.3557213873543053,-0.5469471211933377,-0.18059479967174188,1.5605635456244444,1.4108711991962661,1.1449703206725272,0.06954898975429377,-0.7498196433262646,-0.42286004454892645,-1.340710484490129,-0.7734552769728189,-0.6178540221330012,1.7496486147968815,-1.7149413505605764,-1.3505586651761934,-0.2101393417299351,-0.06635590371339456,-1.3978299324693026,0.7293770957206089,1.6649542608967274,0.17590934116378945,0.17393970502657669,0.8002839966602731,-0.6572467448772589,-0.5292203959584216,0.016368814049546213,-0.2416535199253411,2.1652418397488,-0.9842063436545976,0.2684822396127952,1.3635999319031564,-1.900087147458587,-1.2126841355712916,-0.4622527672931841,-0.6966394676215165,0.12863807387068021,1.5782902708593611,-0.46619203956760963,0.8830087144232138,-1.3761639349599604,-1.141777234631628,0.17393970502657669,-0.5370989405072732,-0.6986091037587299,-1.6853968085023832,-1.4096477492925799,-0.22786606696485115,0.17197006888936392,1.2887537586890678,2.0529725799276646,-0.5548256657421893,0.37484259102229034,0.5107474844899792,-0.7813338215216706,-0.6493682003284078,1.422689016019543,1.2986019393751322,-0.16483771057403862,0.48908148698063764,-1.019659794124429,-0.14120207692748427,-0.5154329429979316,-0.5095240345862928,-0.0742344482622462,0.40635676921769687,1.2493610359448102,1.0583063306351603,1.7851020652667136,-0.9329958040870622,0.09712389567527423,1.676772077720005,-0.7754249131100317,-0.16680734671125194,0.2999964178082012,-1.5987328184650162,-1.4214655661158568,1.3084501200611967,0.11288098477297749,-1.66963971940468,-0.39331550249073327,-0.7183054651308586,0.6407434695460292,-1.0590525168686866,0.5954418383901333,1.9052498696366986,-0.42089040841171316,0.7924054521114214,-0.6099754775841502,-0.09983971804601388,1.143000684535314,0.012429541775120675,-0.6927001953470909,0.9066443480697682,1.0720937835956503,0.4181745860409741,0.7549823655043766,0.3098445984942656,-0.8620889031473986,-0.19241261649501906,1.9466122285181695,-1.6203988159743579,0.7234681873089706,-1.3761639349599604,-0.24559279219976718,0.9263407094418971,1.3242072091588988,-0.24362315606255386,1.2158772216121903,0.33151059600360716,1.1981504963772749,0.5462009349598114,-1.1752610489642468,-1.1811699573758856,-1.6420648134836997,-0.7064876483075809,1.0386099692630315,0.1640915243405123,1.1567881374958038,0.7884661798369953,-0.29877296790451474,-0.5942183884864469,0.7530127293671638,-1.4431315636251985,0.5560491156458757,-0.42286004454892645,-1.3367712122157027,1.0189136078909027,-1.7070628060117248,0.4181745860409741,1.5822295431337867,1.093759781104992,0.36302477419901313,0.6939236452507774,-1.1831395935130984,-0.7045180121703681,0.25666442278951745,0.6781665561530741,-0.6217932944074274,-0.10771826259486551,-0.42679931682335204,0.6013507468017717,1.548745728801168,0.04985262838216497,-1.5238866452509268,0.22121097231968595,0.0478829922449522,0.26651260347558187,-2.2388645630592023,1.235573582984319,-2.03205276865185,0.17393970502657669,1.233603946847107,0.31378387076869113,-0.30665151245336636,1.8441911493831,0.5186260290388308,0.7707394546020798,-2.1029596695915136,-0.6198236582702146,-1.7405466203443436,-1.1831395935130984,-0.20620006945550956,1.6807113499944306,0.8416463555417435,-1.8173624296956459,1.5093530060569103,-0.03484172551798858,0.9795208851466451,-1.1673825044153952,-0.7695160046983934,-2.5402188920527737,1.2946626671007055,-1.236319769217846,-0.36771023270696557,1.0839116004189275,-0.875876356107889,-0.5784612993887436,-0.4622527672931841,0.9046747119325554,-0.8620889031473986,0.8337678109928919,0.12469880159625467,1.3360250259821764,-0.7852730937960961,-1.4175262938414315,-0.0742344482622462,0.3078749623570528,-1.1260201455339247,0.764830546190441,0.4024174969432708,1.3911748378241373,-2.165988025982326,-1.2166234078457172,0.9499763430884519,-1.7622126178536852,0.5757454770180045,0.04197408383331389,-0.3381656906487724,-0.4543742227443325,-1.781908979225814,0.0518222645193783,-1.0117812495755774,0.5245349374504698,-0.0742344482622462,1.5172315506057614,0.5186260290388308,0.8357374471301046,2.409476720763197,-0.31059078472779195,-0.3874065940790944,0.6880147368391385,0.6742272838786486,0.06364008134265547,0.008490269500694578,1.0701241474584375,0.6761969200158614,-0.04665954234126576,-0.17271625512289024,-0.7183054651308586,0.3157535069059039,-0.6592163810144722,-2.29204473876395,2.153424022925522,-1.141777234631628,1.4187497437451173,1.0858812365561408,0.44771912809916725,1.7496486147968815,0.1936360663987055,-0.09787008190880112,-0.15695916602518753,-1.401769204743728,0.39059968011999363,-1.118141600985073,0.20545388322198269,2.1278187531417543,1.093759781104992,0.37287295488507755,0.39453895239441916,-0.2711980619835343,-1.3210141231180001,1.9800960428507883,0.8219499941696147,1.29072339482628,0.26257333120115633,-1.2796517642365297,-0.36967986884417836,2.307055641628127,0.9125532564814071,-0.09787008190880112,-1.001933068889513,-1.1831395935130984,1.170575590456295,0.2527251505150919,2.2420576491001016,0.5501402072342368,0.8574034446394462,-0.24756242833697994,-2.012356407279721,1.048458149949096,-0.4543742227443325,0.9677030683233679,1.7338915256991783,1.53692791197789,0.8298285387184663,0.3354498682780327,-1.8488766078910521,-1.0787488782408154,0.5796847492924301,1.0642152390467987,-0.3874065940790944,-0.49376694548859007,0.3354498682780327,0.4024174969432708,-0.8148176358542893,-0.8857245367939535,-1.3958602963320892,-0.013175728008647003,-0.7458803710518385,-0.7675463685611806,1.0031565187931994,-1.1516254153176924,-0.25347133674861827,0.21924133618247318,-0.5725523909771053,1.4128408353334785,0.1384862545567446,-1.0176901579872164,-0.5863398439375953,0.28030005643607236,-0.6572467448772589,-0.7320929180913486,0.030156267010036156,2.2243309238651863,-0.16286807443682585,0.44377985582474117,-0.8286050888147799,-0.41498150000007483,-0.8778459922451018,-1.2323804969434204,0.22318060845689872,0.5658972963319401,-0.4287689529605648,-0.3401353267859851,0.2527251505150919,-2.0281134963774243,0.28226969257328516,-0.3125604208650047,-0.6966394676215165,-0.5804309355259569,-0.8305747249519926,-0.17271625512289024,0.25666442278951745,1.1233043231631852,-0.22195715855321227,0.8672516253255106,-0.0840826289483106,0.1837878857126411,-0.2495320644741927,-2.0911418527682364,-0.4425564059210553,-0.5961880246236597,-0.18059479967174188,-0.7478500071890518,-0.34998350747204954,-1.1023845118873705,-0.4681616757048224,-0.1687769828484647,0.05379190065659106,0.31181423463147834,-0.03681136165520135,-0.5567953018794021,-0.22983570310206392,-0.39922441090237154,1.0819419642817152,2.0155494933206204,-0.39922441090237154,-0.9251172595382111,0.1187898931846158,-0.125444987829781,0.975581612872219,2.5079585276238405,0.23105915300575036,1.1095168702026952,-0.17074661898567747,1.353751751217092,-0.9861759797918104,-0.395285138627946,-0.7537589156006902,0.2290895168685376,-1.9572065954377607,0.9401281624023875,0.38272113557114196,0.845585627816169,0.23105915300575036,0.8514945362278079,0.2586340589267308,-1.9532673231633348,-1.5987328184650162,-1.1634432321409696,0.5422616626853852,1.548745728801168,0.4713547617457216,-1.6460040857581255,0.3787818632967164,1.0228528801653283,0.6151381997622621,-1.0452650639081968,0.36302477419901313,-1.0098116134383648,-2.085232944356598,-0.49573658162580286,-0.7636070962867546,0.8967961673837038,-0.9369350763614883,0.6368041972716038,-0.11165753486929106,-0.040750633929627446,0.13454698228231907,1.5054137337824847,-2.195532568040519,0.7136200066229063,0.6860451007019257,1.702377347503773,0.4260531305898257,-0.8975423536172307,0.2606036950639436,0.2842393287104979,0.5343831181365342,0.26651260347558187,-0.858149630872973,0.4516584003735928,-1.2028359548852272,-1.0235990663988552,-0.4878580370769512,-0.4996758539002284,-1.638125541209274,-0.23377497537648945,-0.3302871460999207,1.2237557661610425,-1.3466193929017671,0.09515425953806145,-0.42482968068613924,0.26651260347558187,-0.8699674476962502,-0.9290565318126367,0.34726768510131045,0.5087778483527665,-0.6277022028190656,-0.8108783635798638,-0.25544097288583156,2.5237156167215438,-0.7892123660705223,0.8199803580324019,0.6151381997622621,-1.0354168832221324,-0.3204389654138563,0.4969600315294893,0.5639276601947274,-1.0767792421036027,-0.17074661898567747,1.542836820389529,1.2158772216121903,0.3039356900826267,0.4043871330804836,1.8185858795993324,-0.6414896557795562,1.028761788576967,-0.3046818763161536,-0.07029517598782066,1.093759781104992,-0.9999634327523003,-0.4051333193140104,-0.7439107349146258,0.7589216377788022,1.6432882633873864,0.8514945362278079,0.9243710733046843,-1.0787488782408154,-0.23771424765091556,-0.6946698314843037,-0.8955727174800179,-0.6769431062493877,0.5225653013132564,-1.0728399698291773,-0.39331550249073327,1.4285979244311817,-1.0728399698291773,-1.092536331201306,1.6570757163478764,-0.6434592919167689,0.5580187517830885,0.6702880116042225,1.548745728801168,-0.5567953018794021,-0.10180935418322665,0.25666442278951745,0.1936360663987055,-1.6322166327976353,-0.4524045866071197,-1.2382894053550588,0.733316367995035,-1.8094838851467945,0.7352860041322478,1.042549241537457,0.1227291654590419,0.1424255268311707,-0.9566314377336171,-0.994054524340662,-0.5174025791351444,0.5560491156458757,1.6019259045059153,-1.2501072221783365,-2.0064474988680825,1.282844850277429,-0.17271625512289024,0.8239196303068275,-0.49573658162580286,0.5324134819993208,0.301966053945414,0.7175592788973317,-0.7675463685611806,-0.23968388378812833,-0.23377497537648945,0.8357374471301046,0.14045589069395795,-1.1595039598665435,-0.18059479967174188,-1.9749333206726765,0.23696806141738866,-0.1589288021624003,0.7608912739160154,-0.5370989405072732,0.6368041972716038,-0.9586010738708299,-0.06241663143896903,0.46347621719687,-0.8522407224613342,1.0642152390467987,-0.22392679469042504,-0.47013131184203516,-0.08014335667388507,-0.9920848882034486,0.5205956651760436,-0.395285138627946,-0.42482968068613924,0.351206957375736,0.481202942431786,-0.007266819597008135,-0.6198236582702146,1.3379946621193899,-0.6966394676215165,0.2842393287104979,1.024822516302541,-0.9546618015964043,0.31969277918033,-0.9251172595382111,0.9499763430884519,-1.6105506352882935,-0.5607345741538281,1.0740634197328631,0.6230167443111138,0.38666040784556804,0.8180107218951885,0.10697207636133862,-0.7970909106193739,0.5008993038039148,0.22121097231968595,-0.09983971804601388,0.6190774720366877,-0.2495320644741927,-0.1392324407902715,-0.8148176358542893,1.773284248443436,-2.110838214140365,0.03803481155888779,1.1114865063399084,-1.3741942988227476,0.7293770957206089,0.39650858853163246,0.17984861343821557,-0.16680734671125194,0.536352754273747,-0.976327799105746,-0.5489167573305505,0.016368814049546213,0.43393167513867675,-1.6282773605232095,0.28226969257328516,-0.759667824012329,2.0155494933206204,1.3202679368844732,-1.2146537717085044,-0.4051333193140104,0.8692212614627239,-0.4996758539002284,1.3478428428054543,1.0740634197328631,0.7116503704856935,-1.468736833408966,1.6807113499944306,0.8810390782860011,-1.6578219025814027,0.11485062091019026,0.5028689399411276,1.3675392041775831,-0.032872089380775814,0.39453895239441916,0.0616704452054427,-0.3716495049813911,0.5028689399411276,0.38272113557114196,-1.7306984396582792,-0.05453808689011739,0.22515024459411148,-1.0334472470849196,-0.16680734671125194,0.43984058355031563,0.6289256527227521,-0.25544097288583156,-1.4470708358996243,1.2454217636703835,-0.4484653143326936,0.09712389567527423,0.28817860098492404,2.02933694628111,2.145545478376671,0.1187898931846158,-1.917813872693503,0.2349984252801759,-1.4391922913507729,-0.20423043331829624,-0.40119404703958433,-0.6867912869354521,1.3498124789426664,0.2586340589267308,0.7628609100532282,0.9322496178535359,-0.2711980619835343,-0.17468589126010303,-0.10968789873207828,0.5974114745273461,-0.20620006945550956,-0.6395200196423434,-0.023023908694711406,-1.0117812495755774,0.666348739329797,-2.0202349518285727,-0.09590044577158778,1.4916262808219936,0.23893769755460198,-0.20816970559272233,-1.8902389667725226,0.10500244022412586,-0.0840826289483106,0.7293770957206089,-2.847482129457983,0.11682025704740304,-0.8187569081287155,0.17393970502657669,1.3360250259821764,1.3379946621193899,-1.7937267960490915,0.7628609100532282,-0.7636070962867546,-0.3874065940790944,-0.3125604208650047,0.28226969257328516,-0.9310261679498495,1.739800434110817,0.04591335610773943,-0.6946698314843037,-0.5961880246236597,0.28030005643607236,-0.028932817106350275,1.3931444739613497,0.2507555143778792,0.46347621719687,0.5146867567644053,0.5186260290388308,-1.0649614252803257,1.562533181761658,-1.1988966826108012,-0.2731676981207471,0.512717120627192,0.5816543854296429,-2.8986926690255177,-0.032872089380775814,0.2290895168685376,0.7805876352881442,-0.49573658162580286,-0.22589643082763838,0.7746787268765054,-0.611945113721363,0.0813668065775715,0.7372556402694606,-0.7380018265029874,0.40832640535490966,1.9111587780483374,-1.0452650639081968,-0.4287689529605648,-1.671609355541893,-0.5331596682328477,-1.8961478751841612,-0.5804309355259569,-1.0137508857127908,-1.4037388408809408,-0.38346732180466886,0.2527251505150919,0.26454296733836913,-0.40907259158843595,-0.4977062177630156,-0.7537589156006902,2.0313065824183236,-0.2101393417299351,1.4719299194498647,-0.5095240345862928,-1.0728399698291773,1.2020897686517003,-0.9211779872637851,-2.5205225306806445,-0.8620889031473986,-0.2692284258463215,1.03073142471418,0.548170571097024,0.2133324277708343,0.6269560165855393,-0.028932817106350275,-0.09196117349716225,-0.37558877725581724,-0.6454289280539817,-0.489827673214164,-0.14317171306469703,-0.759667824012329,2.3641750896073,-0.044689906204052984,-0.49376694548859007,1.6846506222688562,-0.25741060902304436,0.18969679412427998,-1.1614735960037568,-0.05256845075290462,1.0760330558700764,-0.531190032095635,-0.7123965567192198,0.561958024057514,1.8264644241481833,0.400447860806058,0.764830546190441,-0.25544097288583156,-0.5272507598212088,-0.1451413492019098,1.0327010608513927,-0.40119404703958433,-0.0643862675761818,-1.1023845118873705,0.7904358159742086,-0.49179730935137733,0.6565005586437326,0.0715186258915071,1.5526850010755935,-0.16680734671125194,0.975581612872219,-0.7399714626402002,0.9420977985396003,-0.7261840096797098,1.150879229084166,-0.5961880246236597,-0.4051333193140104,1.7358611618363915,0.26454296733836913,-0.009236455734221464,1.6511668079362374,1.0464885138118831,-1.0708703336919638,-0.07226481212503343,-0.8975423536172307,-1.0669310614175382,-0.15695916602518753,0.8810390782860011,1.8047984266388424,0.6643791031925842,-0.5174025791351444,0.5639276601947274,-0.822696180403141,-0.6099754775841502,1.3734481125892208,0.5954418383901333,-0.5233114875467832,-0.7202751012680714,-0.3204389654138563,1.2572395804936614,1.5901080876826377,-0.2810462426695987,-0.0643862675761818,0.26651260347558187,0.6919540091135646,0.863312353051085,0.5501402072342368,2.5217459805843307,0.067579353617081,0.38272113557114196,0.7549823655043766,-0.9586010738708299,-0.12150571555535546,0.11485062091019026,0.018338450186758982,-0.2810462426695987,-0.5134633068607188,-0.5095240345862928,-0.17862516353452912,1.066184875184012,0.7411949125438867,0.7805876352881442,-1.3032873978830841,0.7628609100532282,-0.023023908694711406,-1.0964756034757315,-1.0708703336919638,0.1325773461451063,-0.30074260404172753,0.0616704452054427,1.0878508726933531,-1.2461679499039104,0.0006117249518429412,0.1837878857126411,-0.4464956781954808,1.0740634197328631,-1.043295427770984,0.301966053945414,-1.051173972319835,-0.8483014501869086,0.5698365686063657,-1.5317651897997782,-0.6414896557795562,-0.9723885268313198,0.9854297935582834,0.49302075925506317,-0.09983971804601388,0.4733243978829344,0.5698365686063657,-0.6080058414469368,1.4069319269218405,0.7195289150345445,-0.42089040841171316,0.22121097231968595,-0.1490806214763359,0.6998325536624157,0.7687698184648666,-0.39331550249073327,0.32166241531754275,-0.6907305592098781,0.4536280365108056,0.6427131056832426,2.1573632951999477,-0.8364836333636315,-1.4234352022530696,0.8475552639533818,-1.9532673231633348,-0.35983168815811395,-2.195532568040519,2.819161037303476,-1.1319290539455635,-0.8364836333636315,1.028761788576967,-1.4234352022530696,-1.8488766078910521,-1.317074850843574,-0.4366474975094164,1.8441911493831,0.5087778483527665,-0.7222447374052842,1.0681545113212247,-0.1490806214763359,0.05379190065659106,1.0996686895166308,0.9066443480697682,0.1640915243405123,0.4792333062945732,-1.0826881505152417,-1.4529797443112629,0.6171078358994749,0.8554338085022334,0.6978629175252029,1.2375432191215325,1.9387336839693186,1.9860049512624272,0.18181824957542833,-0.858149630872973,-0.9428439847731266,0.634834561134391,1.8382822409714612,0.32757132372918163,-0.7261840096797098,1.0327010608513927,1.2808752141402155,0.4871118508434249,1.1922415879656358,-0.7833034576588833,-0.6198236582702146,-1.8173624296956459,0.6683183754670097,-1.3446497567645546,-0.35983168815811395,-0.7872427299333095,3.8177665588704066,-0.05256845075290462,0.059700809068229374,2.1219098447301157,-1.092536331201306,-2.225077110098712,0.06954898975429377,-0.4366474975094164,0.5087778483527665,1.0976990533794175,0.2940875093965623,-0.2515017006114055,1.781162792992288,-0.048629178478479085,0.3649944103362259,0.9775512490094324,-0.611945113721363,0.15030407138002236,-2.063566946847256,0.17787897730100224,-0.37558877725581724,-1.5593400957207586,-0.7636070962867546,1.389205201686924,-0.8029998190310121,0.44377985582474117,1.1528488652213784,-0.15105025761354868,-0.6493682003284078,1.1390614122608884,-0.8089087274426511,0.5008993038039148,-1.3032873978830841,1.2513306720820223,-0.6001272968980857,0.036065175421675026,0.5186260290388308,-0.9231476234009978,-1.285560672648168,-1.104354148024583,-0.18650370808338076,-0.8995119897544435,0.018338450186758982,-0.3716495049813911,0.5402920265481724,2.1987256540814184,0.2842393287104979,0.9440674346768131,0.4949903953922765,1.9899442235368527,-0.6769431062493877,-0.8345139972264182,-0.489827673214164,-0.08211299281109784,-1.0334472470849196,-0.39331550249073327,-0.6848216507982393,0.21136279163362154,0.8475552639533818,0.8258892664440401,-1.466767197271753,0.6722576477414358,0.6387738334088165,0.23893769755460198,0.8180107218951885,0.8239196303068275,-1.1457165069060535,-1.222532316257356,0.26651260347558187,0.660439830918158,-1.9453887786144832,-0.5331596682328477,-0.9093601704405079,1.6235919020152576,-0.5863398439375953,-0.2002911610438707,-0.28892478721845033,2.9353695693990356,-1.0216294302616418,-2.97550847837682,1.6590453524850886,1.2257254022982547,0.3768122271595037,-0.16680734671125194,0.7589216377788022,0.2862089648477107,-2.3885569094873813,0.8987658035209172,1.0228528801653283,0.3669640464734393,-0.5567953018794021,-0.17665552739731635,-0.6848216507982393,-0.854210358598547,1.416780107607905,-0.4543742227443325,1.59798663223149,1.2434521275331714,0.7136200066229063,0.21136279163362154,-1.2461679499039104,0.46347621719687,0.00258136108905627,-0.023023908694711406,1.6393489911129597,-0.728153645816923,0.4615065810596572,-0.48391876480252566,0.7904358159742086,-0.5508863934677637,-0.12347535169256822,-0.31059078472779195,-1.3781335710971738,0.9066443480697682,0.3098445984942656,-0.18059479967174188,1.6748024415827918,0.04394371997052666,-0.4622527672931841,0.4536280365108056,1.1449703206725272,-1.317074850843574,-0.47407058411646125,0.2901482371221368,-0.4051333193140104,1.1252739593003984,0.33938914055245883,0.9716423405977935,-1.1437468707688407,-1.7760000708141754,-1.2028359548852272,1.4876870085475682,-1.3328319399412774,-1.1319290539455635,0.028186630872823387,0.27045187575000795,0.999217246518774,0.055761536793803836,-0.6257325666818528,0.8377070832673174,1.0858812365561408,-1.2776821280993165,-1.389951387920451,-0.4681616757048224,-0.42679931682335204,-0.34998350747204954,0.7352860041322478,0.17590934116378945,-1.1752610489642468,-0.37361914111860445,0.5895329299784945,-0.044689906204052984,-0.3046818763161536,-0.37558877725581724,-0.22786606696485115,1.4384461051172461,1.30451084778677,1.5211708228801868,-0.003327547322582597,0.48908148698063764,-0.9507225293219782,0.2862089648477107,-0.8325443610892054,0.03803481155888779,-0.31453005700221803,-0.0683255398506079,2.5906832453867814,2.630075968131039,-1.0472347000454096,-0.28301587880681145,-0.952692165459191,0.148334435242809,1.6610149886223018,-0.08605226508552337,-0.539068576644486,-1.407678113155367,-1.2501072221783365,1.3202679368844732,0.7490734570927378,1.1587577736330172,0.6052900190761977,-1.2698035835504653,-1.0984452396129443,-1.486463558643882,1.1390614122608884,-0.3421049629231979,0.9913387019699224,0.6899843729763513,-1.5238866452509268,-1.1713217766898212,-0.6257325666818528,0.4221138583153996,-0.6986091037587299,1.150879229084166,0.04591335610773943,-0.01514536414585977,-0.3263478738254952,0.9558852515000902,1.5684420901732967,0.20545388322198269,-0.871937083833463,-0.875876356107889,-1.6085809991510807,-0.8483014501869086,-0.8384532695008443,-0.36967986884417836,0.004550997226269039,-0.10771826259486551,-0.07620408439945897,0.21530206390804707,-0.7320929180913486,-0.840422905638057,0.4555976726480189,-0.19832152490665794,-1.5908542739161646,-0.18847334422059353,-0.50755439844908,-1.1220808732594991,0.7372556402694606,0.44968876423638005,0.28030005643607236,-1.4746457418206047,0.07742753430314542,0.9558852515000902,-0.9448136209103399,0.20151461094755713,0.5678669324691529,0.7786179991509309,0.6998325536624157,0.845585627816169,1.0839116004189275,1.3281464814333255,-0.1490806214763359,0.301966053945414,0.18575752184985386,-0.9625403461452554,-0.5607345741538281,-0.3302871460999207,0.6407434695460292,0.31181423463147834,0.35711586578737486,0.41423531376654793,-1.55343118730912,0.21530206390804707,0.6722576477414358,0.6860451007019257,0.45953694492244446,0.9204318010302587,0.1542433436544479,0.004550997226269039,-0.125444987829781,1.422689016019543,-1.986751137495954,-0.840422905638057,0.014399177912333444,-1.0492043361826222,0.4181745860409741,0.0518222645193783,-0.1352931685158454,-0.9487528931847655,-0.9132994427149334,0.4851422147062121,0.7707394546020798,1.7358611618363915,-0.23377497537648945,0.46347621719687,0.6958932813879901,-0.07620408439945897,0.31378387076869113,-1.4273744745274959,-1.7720607985397496,0.10894171249855139,0.9617941599117291,0.18772715798706663,0.5501402072342368,0.20348424708476992,0.5166563929016181,1.704346983640985,-0.871937083833463,0.3787818632967164,-2.2408341991964154,-2.9124801219860075,-1.5829757293673132,0.8849783505604266,0.036065175421675026,1.1823934072795717,0.08924535112642258,0.301966053945414,-0.6670949255633233,0.20151461094755713,-1.9040264197330128,-0.20816970559272233,-0.724214373542497,0.9184621648930459,0.7116503704856935,1.8382822409714612,0.09909353181248699,-0.724214373542497,0.5698365686063657,-0.4524045866071197,-1.8035749767351559,-0.3874065940790944,0.067579353617081,0.3649944103362259,0.08727571498920982,0.6269560165855393,1.048458149949096,-0.9645099822824688,-0.25544097288583156,0.04985262838216497,-0.6533074726028333,0.08924535112642258,2.9747622921432932,1.59798663223149,-0.9822367075173842,-1.1752610489642468,-0.6533074726028333,0.33151059600360716,-1.519947372976501,0.33741950441524604,-0.4563438588815452,-1.2776821280993165,0.6742272838786486,1.1666363181818682,-1.6400951773464867,-0.6986091037587299,-0.6001272968980857,1.5566242733500188,0.0616704452054427,-0.33422641837434686,-1.6322166327976353,-0.4878580370769512,2.2755414634327207,-0.30862114859057915,0.8278589025812529,-0.8049694551682249,1.2001201325144881,0.1187898931846158,-1.4431315636251985,0.764830546190441,0.24287696982902754,0.8180107218951885,-0.22786606696485115,0.2862089648477107,-0.23574461151370277,-1.1260201455339247,-0.7025483760331553,-0.21210897786714789,1.7496486147968815,-0.661186017151685,2.2066041986302696,-0.5351293043700605,0.04591335610773943,3.224906081569329,-0.3421049629231979,-0.6473985641911945,0.8731605337371494,0.6624094670553714,-0.9881456159290231,0.5521098433714496,-0.7478500071890518,1.241482491395958,1.028761788576967,0.6722576477414358,-0.8384532695008443,-1.1535950514549052,-0.6040665691725113,0.3649944103362259,1.3734481125892208,1.0208832440281155,-1.0314776109477062,-0.7813338215216706,-0.6986091037587299,0.8436159916789563,0.7943750882486342,-0.8660281754218248,-1.7070628060117248,0.09318462340084868,-1.2776821280993165,0.4043871330804836,-0.16680734671125194,-1.137837962357202,0.3039356900826267,0.2862089648477107,-0.12150571555535546,0.536352754273747,0.016368814049546213,-0.1608984382996131,1.7122255281898373,-0.2613498812974699,-0.5233114875467832,-0.5784612993887436,0.7136200066229063,1.9466122285181695,-1.1949574103363756,-0.47407058411646125,-0.42482968068613924,0.8061929050719114,0.8495249000905951,-0.07620408439945897,0.9873994296954968,-0.003327547322582597,0.15227370751723512,1.5093530060569103,0.4457494919619545,1.4640513749010138,2.4567479880563052,0.8869479866976394,-1.5396437343486298,0.26454296733836913,-0.8837549006567402,-1.1260201455339247,-1.2166234078457172,1.3419339343938153,-0.5193722152723572,1.501474461508058,0.1424255268311707,-0.6493682003284078,-0.23771424765091556,0.5284742097248952,-1.0393561554965578,0.8101321773463375,1.6984380752293462,-0.4386171336466292,-0.8857245367939535,0.24287696982902754,-0.36771023270696557,1.1607274097702305,-0.40907259158843595,0.26257333120115633,-0.09787008190880112,-0.63755038350513,0.400447860806058,1.2060290409261258,-0.06635590371339456,1.8402518771086744,0.08924535112642258,0.10106316794970031,-0.1608984382996131,0.2487858782406664,-1.0216294302616418,0.9795208851466451,0.24090733369181477,0.19757533867313104,1.2119379493377647,-0.6217932944074274,-1.748425164893195,-0.9507225293219782,-0.0683255398506079,0.2783304202988596,1.79691988208999,-0.18256443580895465,1.2375432191215325,-0.6237629305446402,-0.40119404703958433,0.04591335610773943,-3.028688654081568,0.6269560165855393,0.5245349374504698,-0.4169511361372876,-0.13332353237863262,-0.1352931685158454,0.530443845862108,-1.0826881505152417,0.6131685636250493,1.8028287905016291,-1.720850258972215,-1.389951387920451,-1.3801032072343866,-1.2205626801201432,0.026216994735610618,0.26257333120115633,0.9952779742443478,-0.20226079718108347,-0.7557285517379029,-0.39331550249073327,0.733316367995035,2.383871450979429,-1.488433194781095,0.7924054521114214,0.7352860041322478,-1.0472347000454096,1.3911748378241373,1.4522335580777361,0.6466523779576682,-0.8423925417752698,-0.3263478738254952,0.9145228926186199,-1.900087147458587,-1.007841977301152,-0.2416535199253411,-0.06241663143896903,-1.4273744745274959,-0.9113298065777207,-0.7990605467565867,-1.118141600985073,0.004550997226269039,-0.678912742386601,-0.9389047124987011,0.10500244022412586,-0.531190032095635,-0.7970909106193739,1.2749663057285767,1.066184875184012,0.4654458533340833,-0.25347133674861827,1.2060290409261258,-0.19241261649501906,-1.3643461181366832,-0.45043495046990634,0.3768122271595037,0.19560570253591827,-0.17074661898567747,1.5704117263105088,-1.5967631823278035,-0.4071029554512232,0.5087778483527665,0.8298285387184663,-0.4386171336466292,0.39847822466884525,1.534958275840678,-0.19438225263223183,-0.18256443580895465,0.7924054521114214,0.28817860098492404,0.15030407138002236,-0.7990605467565867,-0.22786606696485115,-0.4425564059210553,-1.415556657704218,-1.309196306294723,-1.141777234631628,1.6078348129175544,-1.4057084770181536,-1.2441983137666976,-0.25544097288583156,-0.46619203956760963,2.399628540077132,-0.10180935418322665,-0.5331596682328477,1.458142466489375,-1.419495929978644,0.8692212614627239,-0.2751373342579604,0.3590855019245876,0.20151461094755713,-1.1398075984944147,1.093759781104992,0.04394371997052666,-0.7793641853844578,1.9269158671460407,0.5146867567644053,-0.44452604205826807,-0.9290565318126367,-0.7183054651308586,1.3340553898449632,-0.36967986884417836,-0.11756644328092992,-2.4397674490549166,-0.38346732180466886,-0.42089040841171316,-0.25544097288583156,0.37484259102229034,0.9637637960489419,-0.7458803710518385,-0.1490806214763359,0.5008993038039148,0.8810390782860011,0.536352754273747,0.7037718259368418,-0.5528560296049765,0.4043871330804836,0.7845269075625698,-1.0767792421036027,-1.0590525168686866,-1.5494919150346942,0.25666442278951745,-0.25544097288583156,-0.1549895298879742,1.0031565187931994,2.1849382011209286,1.9328247755576797,0.2940875093965623,1.704346983640985,0.1187898931846158,1.8875231444017833,-1.3249533953924257,-0.0742344482622462,0.22711988073132425,-0.1392324407902715,0.09515425953806145,1.0208832440281155,2.135697297690607,0.06364008134265547,-1.3131355785691485,-1.4451011997624115,0.2349984252801759,0.0577311729310166,0.6505916502320936,-0.710426920582007,-0.23968388378812833,-0.63755038350513,0.1640915243405123,-0.023023908694711406,0.07939717044035818,0.16015225206608674,-0.05256845075290462,0.14045589069395795,-0.5469471211933377,0.02030808632397175,1.1587577736330172,-0.20620006945550956,0.44181021968752837,1.9407033201065307,0.1424255268311707,0.8613427169138723,-0.7557285517379029,1.0681545113212247,-1.068900697554751,1.5566242733500188,0.04985262838216497,1.2257254022982547,-0.4977062177630156,0.7727090907392926,1.7102558920526238,-1.5317651897997782,-2.628852518227353,1.241482491395958,0.8928568951092782,0.46347621719687,-1.1673825044153952,-0.18847334422059353,-2.4574941742898324,-0.5942183884864469,-1.3288926676668518,-1.6657004471302543,0.8652819891882978,0.9361888901279615,1.548745728801168,-0.611945113721363,-1.5475222788974814,-0.3558924158836884,0.6722576477414358,-0.6198236582702146,0.7668001823276538,-0.7478500071890518,1.339964298256602,-0.2101393417299351,1.9249462310088274,-0.125444987829781,-1.5790364570928874,1.2493610359448102,-0.6336111112307046,0.09909353181248699,-0.6080058414469368,-0.03878099779241468,0.5974114745273461,1.739800434110817,-0.0742344482622462,0.4792333062945732,-1.285560672648168,0.2290895168685376,-1.91584423655629,0.067579353617081,1.2533003082192358,0.09121498726363592,1.0819419642817152,0.02424735859839785,0.06364008134265547,-0.9211779872637851,1.1607274097702305,0.6565005586437326,1.0583063306351603,-0.24362315606255386,-0.629671838956279,0.10697207636133862,-0.01514536414585977,0.18575752184985386,-0.9743581629685332,-0.678912742386601,0.39847822466884525,-0.9113298065777207,0.40635676921769687,-1.340710484490129,-0.8167872719915027,-0.458313495018758,2.2972074609420625,-1.1023845118873705,0.02030808632397175,-0.6355807473679173,1.7279826172875394,0.7530127293671638,-2.1049293057287266,-0.6730038339749621,-0.05256845075290462,-1.0807185143780282,-0.5804309355259569,0.09712389567527423,0.4299924028642512,-0.2948336956300892,-1.236319769217846,-0.09590044577158778,1.0149743356164767,-2.5362796197783473,0.5245349374504698,0.27439114802443354,2.848705579361669,0.9598245237745163,-0.6158843859957884,-0.4287689529605648,-0.4819491286653129,0.4536280365108056,-1.2796517642365297,0.3452980489640971,0.055761536793803836,0.6958932813879901,-0.3421049629231979,0.5718062047435785,0.008490269500694578,-0.09590044577158778,0.4792333062945732,0.39059968011999363,0.14439516296838348,0.08530607885199705,0.3669640464734393,1.221786130023829,1.422689016019543,-0.2002911610438707,-0.9723885268313198,0.2960571455337751,-1.0452650639081968,-0.5745220271143181,0.3709033187478648,-0.6336111112307046,0.42408349445261234,0.3059053262198395,-1.7897875237746657,1.2139075854749781,0.49105112311785043,-0.42286004454892645,-0.7872427299333095,-2.0931114889054494,2.0766082135742203,-1.2520768583155493,0.026216994735610618,-0.5587649380166149,-0.43467786137220366,0.28817860098492404,0.530443845862108,0.8908872589720654,-0.7557285517379029,-0.588309480074808,-0.5134633068607188,0.5658972963319401,0.9263407094418971,-0.36574059656975283,-0.7261840096797098,0.1325773461451063,0.9243710733046843,1.2158772216121903,-0.9901152520662359,-1.007841977301152,0.7628609100532282,0.5521098433714496,0.481202942431786,0.993308338107135,0.8849783505604266,-1.2973784894714453,0.46347621719687,0.20742351935919545,0.6821058284275002,-0.7892123660705223,-0.38346732180466886,-1.2028359548852272,1.27693594186579,1.5881384515454255,-2.3412856421942725,2.9255213887129714,-0.4051333193140104,-1.9040264197330128,1.0760330558700764,-0.17074661898567747,-1.9197835088307158,-0.994054524340662,-0.875876356107889,0.13060771000789353,-2.1718969343939647,-1.671609355541893,-0.9546618015964043,-0.6592163810144722,-0.6828520146610265,-0.1451413492019098,0.4299924028642512,0.17590934116378945,0.7037718259368418,-1.5947935461905904,0.9657334321861546,-3.505340599287085,-0.710426920582007,-1.1220808732594991,-0.16483771057403862,0.09712389567527423,-0.3263478738254952,0.07545789816593264,-1.2835910365109553,0.9420977985396003,0.17590934116378945,-0.14711098533912315,0.9027050757953426,-0.23968388378812833,0.796344724385847,0.8199803580324019,-0.18256443580895465,0.8317981748556791,-1.0039027050267264,-0.08014335667388507,0.4713547617457216,0.016368814049546213,-0.17665552739731635,-0.6848216507982393,-0.19438225263223183,-0.9073905343032951,0.6308952888599648,0.5599883879203013,-1.6322166327976353,0.8298285387184663,0.660439830918158,0.4162049499037613,1.0543670583607343,0.9598245237745163,1.0149743356164767,-0.791182002207735,-1.0590525168686866,0.34726768510131045,-0.12741462396699432,1.0602759667723731,-0.30862114859057915,-0.63755038350513,-0.25347133674861827,0.0478829922449522,-2.561884889562115,0.5146867567644053,0.6761969200158614,0.512717120627192,-1.3032873978830841,1.1567881374958038,-0.9782974352429586,0.04985262838216497,1.726012981150327,-0.9664796184196816,-0.265289153571896,1.066184875184012,-0.6493682003284078,-0.4386171336466292,-0.5981576607608724,-0.8305747249519926,-1.7129717144233632,-0.19241261649501906,-0.9152690788521467,-0.5666434825654665,-0.25938024516025715,-0.970418890694107,-0.11953607941814269,-0.8463318140496959,1.1922415879656358,-0.5843702078003825,-0.8955727174800179,0.18181824957542833,0.6742272838786486,-0.5804309355259569,-0.45043495046990634,0.530443845862108,1.326176845296112,-0.43073858909777757,-0.5508863934677637,-0.4524045866071197,-0.4563438588815452,1.3517821150798797,-1.0905666950640927,0.5462009349598114,0.5402920265481724,0.18772715798706663,0.5698365686063657,-0.1451413492019098,1.6038955406431288,0.3413587766896716,-0.6730038339749621,1.4857173724103558,0.7254378234461833,-0.9113298065777207,-0.5824005716631697,0.548170571097024,0.5324134819993208,-0.6040665691725113,0.3492373212385232,-1.6755486278163187,1.7063166197781983,-1.7110020782861506,0.17787897730100224,0.39453895239441916,-1.285560672648168,0.31969277918033,-0.3854369579418816,1.2119379493377647,-1.4588886527229017,-0.3046818763161536,-1.6794879000907441,0.33741950441524604,0.4615065810596572,0.5934722022529205,0.21924133618247318,0.2349984252801759,-0.1352931685158454,-0.328317509962708,-0.5843702078003825,-2.2723483773918214,0.13454698228231907,1.1036079617910564,1.5743509985849355,0.4024174969432708,0.010459905637907347,0.4871118508434249,0.5836240215668562,2.054942216064878,-1.5928239100533776,0.03212590314724949,-0.9192083511265723,-0.1589288021624003,-0.14317171306469703,0.652561286369307,-0.5331596682328477,0.660439830918158,-1.2698035835504653,1.3852659294124985,0.2606036950639436,0.49892966766670205,-0.7970909106193739,-1.019659794124429,-0.7852730937960961,0.5205956651760436,-1.3348015760784901,-0.8384532695008443,0.351206957375736,-0.0840826289483106,1.1114865063399084,0.08924535112642258,-0.9369350763614883,-0.45043495046990634,0.6033203829389849,1.3931444739613497,1.1173954147515464,1.822525151873758,0.21727170004525986,-0.19241261649501906,0.49892966766670205,-1.2560161305899749,-0.5430078489189121,0.8692212614627239,-0.9861759797918104,1.1902719518284237,-0.822696180403141,0.5796847492924301,-1.4352530190763468,1.3202679368844732,1.1390614122608884,-1.4588886527229017,0.33938914055245883,2.210543470904695,-0.3381656906487724,-0.8187569081287155,0.48908148698063764,2.4587176241935187,0.010459905637907347,-1.6164595436999323,3.28005589341129,0.010459905637907347,0.9066443480697682,-1.0570828807314738,-0.395285138627946,0.055761536793803836,-0.01514536414585977,0.04985262838216497,-0.4819491286653129,0.5324134819993208,0.6072596552134105,-0.3480138713348368,-1.9138746004190772,0.11682025704740304,-0.47013131184203516,-0.32437823768828244,-0.18059479967174188,0.5166563929016181,-1.4588886527229017,-0.9842063436545976,0.38272113557114196,-2.697789783029804,-0.858149630872973,0.03803481155888779,0.3768122271595037,-0.5942183884864469,0.5974114745273461,0.2448466059662403,-0.0013579111853698278,-0.19832152490665794,0.5777151131552173,1.7476789786596683,-0.30074260404172753,-0.9389047124987011,-1.1949574103363756,-0.4543742227443325,-1.236319769217846,-1.1634432321409696,0.148334435242809,0.4654458533340833,0.2999964178082012,-0.0781737205366723,-0.5213418514095706,-0.33422641837434686,-0.8778459922451018,-0.4563438588815452,0.17393970502657669,0.6269560165855393,0.17393970502657669,-0.48391876480252566,-1.8862996944980968,0.8416463555417435,-0.35195314360926233,-0.12741462396699432,-0.31059078472779195,0.7707394546020798,0.0518222645193783,0.5974114745273461,0.4024174969432708,1.6098044490547665,0.4201442221781868,1.3084501200611967,1.8894927805389965,-1.535704462074204,-1.638125541209274,-0.5981576607608724,0.1424255268311707,0.796344724385847,-0.8049694551682249,-0.25544097288583156,-0.8364836333636315,0.1542433436544479,0.9795208851466451,-1.3505586651761934,-0.2771069703951732,0.33151059600360716,-0.6749734701121749,-0.611945113721363,0.24681624210345307,0.32166241531754275,1.101638325653844,0.8298285387184663,-0.47013131184203516,-1.0787488782408154,0.8928568951092782,0.7116503704856935,-1.169352140552608,-0.6257325666818528,-0.0013579111853698278,-0.24756242833697994,-0.29286405949287586,-0.060446995301756255,0.5855936577040689,-1.4313137468019212,0.2606036950639436,1.318298300747261,-0.11559680714371659,0.15818261592887342,-2.063566946847256,-0.26725878970910877,0.41423531376654793,-1.2304108608062077,2.068729669025368,-0.9999634327523003,1.3970837462357764,0.5402920265481724,-0.30074260404172753,0.7687698184648666,1.5566242733500188,0.7057414620740545,0.5639276601947274,0.8987658035209172,-0.21210897786714789,-0.31059078472779195,1.0740634197328631,-0.5981576607608724,0.27045187575000795,-1.0039027050267264,0.26454296733836913,-0.265289153571896,1.318298300747261,0.9007354396581299,1.048458149949096,1.7910109736783524,-2.215228929412648,1.2119379493377647,-2.5106743499945803,-0.04272027006684022,-1.0452650639081968,0.9558852515000902,0.13651661841953183,-1.1890485019247368,1.066184875184012,0.666348739329797,-0.38346732180466886,-1.0098116134383648,-0.2948336956300892,0.1837878857126411,-0.11953607941814269,0.8160410857579757,-1.2816214003737425,0.12075952932182914,-0.2002911610438707,-0.1904429803578063,-0.6454289280539817,-2.1581094814334745,-0.19241261649501906,0.11091134863576473,0.8574034446394462,0.8731605337371494,0.5974114745273461,0.7372556402694606,-0.9723885268313198,-1.2422286776294849,-2.197502204177732,0.3413587766896716,0.17590934116378945,-0.08605226508552337,-1.3525283013134062,0.9322496178535359,-0.18059479967174188,1.0070957910676255,1.395114110098563,-0.5134633068607188,0.9893690658327096,1.641318627250173,1.6157133574664053,-0.6867912869354521,-0.9960241604778748,0.536352754273747,-0.026963180969136944,2.02933694628111,1.3281464814333255,0.27045187575000795,-2.7529395948717643,0.6052900190761977,0.3256016875919683,-1.3879817517832382,-1.4372226552135603,0.6052900190761977,0.1837878857126411,-1.1752610489642468,-0.9034512620288689,-0.9448136209103399,1.235573582984319,-0.9290565318126367,0.7707394546020798,-1.4628279249973273,-0.37361914111860445,1.079972328144502,-0.007266819597008135,-0.7045180121703681,-0.47800985639088683,-1.1437468707688407,0.863312353051085,-0.07620408439945897,0.9204318010302587,-0.5114936707235062,0.26454296733836913,0.12666843773346745,-1.6420648134836997,-0.2908944233556631,0.43984058355031563,0.5560491156458757,0.8219499941696147,1.6019259045059153,-0.05453808689011739,-0.5292203959584216,-0.36967986884417836,0.3413587766896716,-0.6887609230726655,-0.8739067199706758,0.9145228926186199,0.5580187517830885,0.17590934116378945,-0.14711098533912315,-1.2205626801201432],\"type\":\"scatter3d\"}],                        {\"template\":{\"data\":{\"histogram2dcontour\":[{\"type\":\"histogram2dcontour\",\"colorbar\":{\"outlinewidth\":0,\"ticks\":\"\"},\"colorscale\":[[0.0,\"#0d0887\"],[0.1111111111111111,\"#46039f\"],[0.2222222222222222,\"#7201a8\"],[0.3333333333333333,\"#9c179e\"],[0.4444444444444444,\"#bd3786\"],[0.5555555555555556,\"#d8576b\"],[0.6666666666666666,\"#ed7953\"],[0.7777777777777778,\"#fb9f3a\"],[0.8888888888888888,\"#fdca26\"],[1.0,\"#f0f921\"]]}],\"choropleth\":[{\"type\":\"choropleth\",\"colorbar\":{\"outlinewidth\":0,\"ticks\":\"\"}}],\"histogram2d\":[{\"type\":\"histogram2d\",\"colorbar\":{\"outlinewidth\":0,\"ticks\":\"\"},\"colorscale\":[[0.0,\"#0d0887\"],[0.1111111111111111,\"#46039f\"],[0.2222222222222222,\"#7201a8\"],[0.3333333333333333,\"#9c179e\"],[0.4444444444444444,\"#bd3786\"],[0.5555555555555556,\"#d8576b\"],[0.6666666666666666,\"#ed7953\"],[0.7777777777777778,\"#fb9f3a\"],[0.8888888888888888,\"#fdca26\"],[1.0,\"#f0f921\"]]}],\"heatmap\":[{\"type\":\"heatmap\",\"colorbar\":{\"outlinewidth\":0,\"ticks\":\"\"},\"colorscale\":[[0.0,\"#0d0887\"],[0.1111111111111111,\"#46039f\"],[0.2222222222222222,\"#7201a8\"],[0.3333333333333333,\"#9c179e\"],[0.4444444444444444,\"#bd3786\"],[0.5555555555555556,\"#d8576b\"],[0.6666666666666666,\"#ed7953\"],[0.7777777777777778,\"#fb9f3a\"],[0.8888888888888888,\"#fdca26\"],[1.0,\"#f0f921\"]]}],\"heatmapgl\":[{\"type\":\"heatmapgl\",\"colorbar\":{\"outlinewidth\":0,\"ticks\":\"\"},\"colorscale\":[[0.0,\"#0d0887\"],[0.1111111111111111,\"#46039f\"],[0.2222222222222222,\"#7201a8\"],[0.3333333333333333,\"#9c179e\"],[0.4444444444444444,\"#bd3786\"],[0.5555555555555556,\"#d8576b\"],[0.6666666666666666,\"#ed7953\"],[0.7777777777777778,\"#fb9f3a\"],[0.8888888888888888,\"#fdca26\"],[1.0,\"#f0f921\"]]}],\"contourcarpet\":[{\"type\":\"contourcarpet\",\"colorbar\":{\"outlinewidth\":0,\"ticks\":\"\"}}],\"contour\":[{\"type\":\"contour\",\"colorbar\":{\"outlinewidth\":0,\"ticks\":\"\"},\"colorscale\":[[0.0,\"#0d0887\"],[0.1111111111111111,\"#46039f\"],[0.2222222222222222,\"#7201a8\"],[0.3333333333333333,\"#9c179e\"],[0.4444444444444444,\"#bd3786\"],[0.5555555555555556,\"#d8576b\"],[0.6666666666666666,\"#ed7953\"],[0.7777777777777778,\"#fb9f3a\"],[0.8888888888888888,\"#fdca26\"],[1.0,\"#f0f921\"]]}],\"surface\":[{\"type\":\"surface\",\"colorbar\":{\"outlinewidth\":0,\"ticks\":\"\"},\"colorscale\":[[0.0,\"#0d0887\"],[0.1111111111111111,\"#46039f\"],[0.2222222222222222,\"#7201a8\"],[0.3333333333333333,\"#9c179e\"],[0.4444444444444444,\"#bd3786\"],[0.5555555555555556,\"#d8576b\"],[0.6666666666666666,\"#ed7953\"],[0.7777777777777778,\"#fb9f3a\"],[0.8888888888888888,\"#fdca26\"],[1.0,\"#f0f921\"]]}],\"mesh3d\":[{\"type\":\"mesh3d\",\"colorbar\":{\"outlinewidth\":0,\"ticks\":\"\"}}],\"scatter\":[{\"fillpattern\":{\"fillmode\":\"overlay\",\"size\":10,\"solidity\":0.2},\"type\":\"scatter\"}],\"parcoords\":[{\"type\":\"parcoords\",\"line\":{\"colorbar\":{\"outlinewidth\":0,\"ticks\":\"\"}}}],\"scatterpolargl\":[{\"type\":\"scatterpolargl\",\"marker\":{\"colorbar\":{\"outlinewidth\":0,\"ticks\":\"\"}}}],\"bar\":[{\"error_x\":{\"color\":\"#2a3f5f\"},\"error_y\":{\"color\":\"#2a3f5f\"},\"marker\":{\"line\":{\"color\":\"#E5ECF6\",\"width\":0.5},\"pattern\":{\"fillmode\":\"overlay\",\"size\":10,\"solidity\":0.2}},\"type\":\"bar\"}],\"scattergeo\":[{\"type\":\"scattergeo\",\"marker\":{\"colorbar\":{\"outlinewidth\":0,\"ticks\":\"\"}}}],\"scatterpolar\":[{\"type\":\"scatterpolar\",\"marker\":{\"colorbar\":{\"outlinewidth\":0,\"ticks\":\"\"}}}],\"histogram\":[{\"marker\":{\"pattern\":{\"fillmode\":\"overlay\",\"size\":10,\"solidity\":0.2}},\"type\":\"histogram\"}],\"scattergl\":[{\"type\":\"scattergl\",\"marker\":{\"colorbar\":{\"outlinewidth\":0,\"ticks\":\"\"}}}],\"scatter3d\":[{\"type\":\"scatter3d\",\"line\":{\"colorbar\":{\"outlinewidth\":0,\"ticks\":\"\"}},\"marker\":{\"colorbar\":{\"outlinewidth\":0,\"ticks\":\"\"}}}],\"scattermapbox\":[{\"type\":\"scattermapbox\",\"marker\":{\"colorbar\":{\"outlinewidth\":0,\"ticks\":\"\"}}}],\"scatterternary\":[{\"type\":\"scatterternary\",\"marker\":{\"colorbar\":{\"outlinewidth\":0,\"ticks\":\"\"}}}],\"scattercarpet\":[{\"type\":\"scattercarpet\",\"marker\":{\"colorbar\":{\"outlinewidth\":0,\"ticks\":\"\"}}}],\"carpet\":[{\"aaxis\":{\"endlinecolor\":\"#2a3f5f\",\"gridcolor\":\"white\",\"linecolor\":\"white\",\"minorgridcolor\":\"white\",\"startlinecolor\":\"#2a3f5f\"},\"baxis\":{\"endlinecolor\":\"#2a3f5f\",\"gridcolor\":\"white\",\"linecolor\":\"white\",\"minorgridcolor\":\"white\",\"startlinecolor\":\"#2a3f5f\"},\"type\":\"carpet\"}],\"table\":[{\"cells\":{\"fill\":{\"color\":\"#EBF0F8\"},\"line\":{\"color\":\"white\"}},\"header\":{\"fill\":{\"color\":\"#C8D4E3\"},\"line\":{\"color\":\"white\"}},\"type\":\"table\"}],\"barpolar\":[{\"marker\":{\"line\":{\"color\":\"#E5ECF6\",\"width\":0.5},\"pattern\":{\"fillmode\":\"overlay\",\"size\":10,\"solidity\":0.2}},\"type\":\"barpolar\"}],\"pie\":[{\"automargin\":true,\"type\":\"pie\"}]},\"layout\":{\"autotypenumbers\":\"strict\",\"colorway\":[\"#636efa\",\"#EF553B\",\"#00cc96\",\"#ab63fa\",\"#FFA15A\",\"#19d3f3\",\"#FF6692\",\"#B6E880\",\"#FF97FF\",\"#FECB52\"],\"font\":{\"color\":\"#2a3f5f\"},\"hovermode\":\"closest\",\"hoverlabel\":{\"align\":\"left\"},\"paper_bgcolor\":\"white\",\"plot_bgcolor\":\"#E5ECF6\",\"polar\":{\"bgcolor\":\"#E5ECF6\",\"angularaxis\":{\"gridcolor\":\"white\",\"linecolor\":\"white\",\"ticks\":\"\"},\"radialaxis\":{\"gridcolor\":\"white\",\"linecolor\":\"white\",\"ticks\":\"\"}},\"ternary\":{\"bgcolor\":\"#E5ECF6\",\"aaxis\":{\"gridcolor\":\"white\",\"linecolor\":\"white\",\"ticks\":\"\"},\"baxis\":{\"gridcolor\":\"white\",\"linecolor\":\"white\",\"ticks\":\"\"},\"caxis\":{\"gridcolor\":\"white\",\"linecolor\":\"white\",\"ticks\":\"\"}},\"coloraxis\":{\"colorbar\":{\"outlinewidth\":0,\"ticks\":\"\"}},\"colorscale\":{\"sequential\":[[0.0,\"#0d0887\"],[0.1111111111111111,\"#46039f\"],[0.2222222222222222,\"#7201a8\"],[0.3333333333333333,\"#9c179e\"],[0.4444444444444444,\"#bd3786\"],[0.5555555555555556,\"#d8576b\"],[0.6666666666666666,\"#ed7953\"],[0.7777777777777778,\"#fb9f3a\"],[0.8888888888888888,\"#fdca26\"],[1.0,\"#f0f921\"]],\"sequentialminus\":[[0.0,\"#0d0887\"],[0.1111111111111111,\"#46039f\"],[0.2222222222222222,\"#7201a8\"],[0.3333333333333333,\"#9c179e\"],[0.4444444444444444,\"#bd3786\"],[0.5555555555555556,\"#d8576b\"],[0.6666666666666666,\"#ed7953\"],[0.7777777777777778,\"#fb9f3a\"],[0.8888888888888888,\"#fdca26\"],[1.0,\"#f0f921\"]],\"diverging\":[[0,\"#8e0152\"],[0.1,\"#c51b7d\"],[0.2,\"#de77ae\"],[0.3,\"#f1b6da\"],[0.4,\"#fde0ef\"],[0.5,\"#f7f7f7\"],[0.6,\"#e6f5d0\"],[0.7,\"#b8e186\"],[0.8,\"#7fbc41\"],[0.9,\"#4d9221\"],[1,\"#276419\"]]},\"xaxis\":{\"gridcolor\":\"white\",\"linecolor\":\"white\",\"ticks\":\"\",\"title\":{\"standoff\":15},\"zerolinecolor\":\"white\",\"automargin\":true,\"zerolinewidth\":2},\"yaxis\":{\"gridcolor\":\"white\",\"linecolor\":\"white\",\"ticks\":\"\",\"title\":{\"standoff\":15},\"zerolinecolor\":\"white\",\"automargin\":true,\"zerolinewidth\":2},\"scene\":{\"xaxis\":{\"backgroundcolor\":\"#E5ECF6\",\"gridcolor\":\"white\",\"linecolor\":\"white\",\"showbackground\":true,\"ticks\":\"\",\"zerolinecolor\":\"white\",\"gridwidth\":2},\"yaxis\":{\"backgroundcolor\":\"#E5ECF6\",\"gridcolor\":\"white\",\"linecolor\":\"white\",\"showbackground\":true,\"ticks\":\"\",\"zerolinecolor\":\"white\",\"gridwidth\":2},\"zaxis\":{\"backgroundcolor\":\"#E5ECF6\",\"gridcolor\":\"white\",\"linecolor\":\"white\",\"showbackground\":true,\"ticks\":\"\",\"zerolinecolor\":\"white\",\"gridwidth\":2}},\"shapedefaults\":{\"line\":{\"color\":\"#2a3f5f\"}},\"annotationdefaults\":{\"arrowcolor\":\"#2a3f5f\",\"arrowhead\":0,\"arrowwidth\":1},\"geo\":{\"bgcolor\":\"white\",\"landcolor\":\"#E5ECF6\",\"subunitcolor\":\"white\",\"showland\":true,\"showlakes\":true,\"lakecolor\":\"white\"},\"title\":{\"x\":0.05},\"mapbox\":{\"style\":\"light\"}}},\"scene\":{\"domain\":{\"x\":[0.0,1.0],\"y\":[0.0,1.0]},\"xaxis\":{\"title\":{\"text\":\"Total day minutes\"}},\"yaxis\":{\"title\":{\"text\":\"Total eve minutes\"}},\"zaxis\":{\"title\":{\"text\":\"Total night minutes\"}}},\"coloraxis\":{\"colorbar\":{\"title\":{\"text\":\"Cluster\"}},\"colorscale\":[[0.0,\"#0d0887\"],[0.1111111111111111,\"#46039f\"],[0.2222222222222222,\"#7201a8\"],[0.3333333333333333,\"#9c179e\"],[0.4444444444444444,\"#bd3786\"],[0.5555555555555556,\"#d8576b\"],[0.6666666666666666,\"#ed7953\"],[0.7777777777777778,\"#fb9f3a\"],[0.8888888888888888,\"#fdca26\"],[1.0,\"#f0f921\"]]},\"legend\":{\"tracegroupgap\":0},\"margin\":{\"t\":60}},                        {\"responsive\": true}                    ).then(function(){\n",
              "                            \n",
              "var gd = document.getElementById('492bcc6c-380e-442b-820e-9750aa1ce8b0');\n",
              "var x = new MutationObserver(function (mutations, observer) {{\n",
              "        var display = window.getComputedStyle(gd).display;\n",
              "        if (!display || display === 'none') {{\n",
              "            console.log([gd, 'removed!']);\n",
              "            Plotly.purge(gd);\n",
              "            observer.disconnect();\n",
              "        }}\n",
              "}});\n",
              "\n",
              "// Listen for the removal of the full notebook cells\n",
              "var notebookContainer = gd.closest('#notebook-container');\n",
              "if (notebookContainer) {{\n",
              "    x.observe(notebookContainer, {childList: true});\n",
              "}}\n",
              "\n",
              "// Listen for the clearing of the current output cell\n",
              "var outputEl = gd.closest('.output');\n",
              "if (outputEl) {{\n",
              "    x.observe(outputEl, {childList: true});\n",
              "}}\n",
              "\n",
              "                        })                };                            </script>        </div>\n",
              "</body>\n",
              "</html>"
            ]
          },
          "metadata": {}
        }
      ]
    }
  ]
}