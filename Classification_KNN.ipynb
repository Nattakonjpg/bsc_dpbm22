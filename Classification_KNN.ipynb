{
  "nbformat": 4,
  "nbformat_minor": 0,
  "metadata": {
    "colab": {
      "provenance": [],
      "collapsed_sections": [
        "zTqxfD8KXTmo",
        "n8GjUTh9UuJc",
        "T2u-8-26Vdg_",
        "YDj37XGNWxnw"
      ],
      "authorship_tag": "ABX9TyNMRgnn2njWwWU0hvAHF/Dk",
      "include_colab_link": true
    },
    "kernelspec": {
      "name": "python3",
      "display_name": "Python 3"
    },
    "language_info": {
      "name": "python"
    }
  },
  "cells": [
    {
      "cell_type": "markdown",
      "metadata": {
        "id": "view-in-github",
        "colab_type": "text"
      },
      "source": [
        "<a href=\"https://colab.research.google.com/github/Nattakonjpg/bsc_dpbm22/blob/main/Classification_KNN.ipynb\" target=\"_parent\"><img src=\"https://colab.research.google.com/assets/colab-badge.svg\" alt=\"Open In Colab\"/></a>"
      ]
    },
    {
      "cell_type": "markdown",
      "source": [
        "##Load Data"
      ],
      "metadata": {
        "id": "QvGIViJPWJRT"
      }
    },
    {
      "cell_type": "code",
      "source": [
        "import numpy as np"
      ],
      "metadata": {
        "id": "Za5aui4-8Z7w"
      },
      "execution_count": 1,
      "outputs": []
    },
    {
      "cell_type": "code",
      "execution_count": 3,
      "metadata": {
        "id": "InmovfGQVBQm"
      },
      "outputs": [],
      "source": [
        "from sklearn.datasets import load_digits\n",
        "digits = load_digits()"
      ]
    },
    {
      "cell_type": "code",
      "source": [
        "from sklearn.neighbors import KNeighborsClassifier\n",
        "from sklearn.metrics import accuracy_score\n",
        "from sklearn.model_selection import cross_val_score\n"
      ],
      "metadata": {
        "id": "bJMO9g86a8dd"
      },
      "execution_count": 4,
      "outputs": []
    },
    {
      "cell_type": "markdown",
      "source": [
        "# Quiz 3 march\n",
        "- แบ่ง Data ออกเป็น 80 ส่วน (train) ,20 ส่วน (test) โดยใช้ Random_state = (4)\n",
        "- หา Parameters ที่ดีที่สุด (K (1,3,5) Distance_weighted(yes/no)) ด้วย 10-fold-cross-Validation = มี 6 model\n",
        "- test parametrs ที่ดีที่สุด กับ test data"
      ],
      "metadata": {
        "id": "zTqxfD8KXTmo"
      }
    },
    {
      "cell_type": "code",
      "source": [
        "from sklearn.model_selection import train_test_split\n",
        "X_train, X_test, y_train, y_test = train_test_split(digits.data, digits.target, test_size=0.2, random_state=4)"
      ],
      "metadata": {
        "id": "ANauFBSzZ7Bz"
      },
      "execution_count": null,
      "outputs": []
    },
    {
      "cell_type": "markdown",
      "source": [
        "##Model selection\n"
      ],
      "metadata": {
        "id": "_g9CVIoeThIx"
      }
    },
    {
      "cell_type": "markdown",
      "source": [
        "###Model 1 K=1 Weight = yes"
      ],
      "metadata": {
        "id": "jAidhDH7c3Ip"
      }
    },
    {
      "cell_type": "code",
      "source": [
        "# Create an instance of the KNeighborsClassifier class\n",
        "knn1 = KNeighborsClassifier(n_neighbors=1, weights='distance') \n",
        "\n",
        "# Evaluate the accuracy of the model\n",
        "scores = cross_val_score(knn1, X_train, y_train, cv=10)\n",
        "mean_accuracy = scores.mean()\n",
        "print(\"mean accuracy K1Weight:\", mean_accuracy)"
      ],
      "metadata": {
        "colab": {
          "base_uri": "https://localhost:8080/"
        },
        "id": "dwtE91Ksc2bG",
        "outputId": "66fc09cc-301b-443f-905a-1e305db11cbd"
      },
      "execution_count": null,
      "outputs": [
        {
          "output_type": "stream",
          "name": "stdout",
          "text": [
            "mean accuracy K1Weight: 0.9853875291375293\n"
          ]
        }
      ]
    },
    {
      "cell_type": "markdown",
      "source": [
        "###Model 2 K=1 Weight = No"
      ],
      "metadata": {
        "id": "LQThefw8cxQ2"
      }
    },
    {
      "cell_type": "code",
      "source": [
        "# Create an instance of the KNeighborsClassifier class\n",
        "knn2 = KNeighborsClassifier(n_neighbors=1, weights='uniform') \n",
        "\n",
        "# Evaluate the accuracy of the model\n",
        "scores = cross_val_score(knn2, X_train, y_train, cv=10)\n",
        "mean_accuracy = scores.mean()\n",
        "print(\"mean accuracy K1No:\", mean_accuracy)"
      ],
      "metadata": {
        "colab": {
          "base_uri": "https://localhost:8080/"
        },
        "id": "kJ4bkHRxajop",
        "outputId": "7d33cc47-1c26-4933-c915-ecf16b8f38d5"
      },
      "execution_count": null,
      "outputs": [
        {
          "output_type": "stream",
          "name": "stdout",
          "text": [
            "mean accuracy K1No: 0.9853875291375293\n"
          ]
        }
      ]
    },
    {
      "cell_type": "markdown",
      "source": [
        "###Model 3 K=3 Weight = yes"
      ],
      "metadata": {
        "id": "VOzO1TOseeVp"
      }
    },
    {
      "cell_type": "code",
      "source": [
        "# Create an instance of the KNeighborsClassifier class\n",
        "knn3 = KNeighborsClassifier(n_neighbors=3, weights='distance') \n",
        "\n",
        "# Evaluate the accuracy of the model\n",
        "scores = cross_val_score(knn3, X_train, y_train, cv=10)\n",
        "mean_accuracy = scores.mean()\n",
        "print(\"mean accuracy K3Weight:\", mean_accuracy)"
      ],
      "metadata": {
        "colab": {
          "base_uri": "https://localhost:8080/"
        },
        "id": "rNi3p8cvh0B4",
        "outputId": "76e6439f-df15-455e-c177-b156c5aa0d27"
      },
      "execution_count": null,
      "outputs": [
        {
          "output_type": "stream",
          "name": "stdout",
          "text": [
            "mean accuracy K3Weight: 0.9860819735819737\n"
          ]
        }
      ]
    },
    {
      "cell_type": "markdown",
      "source": [
        "###Model 4 K=3 Weight = No"
      ],
      "metadata": {
        "id": "vT-Qq8fhUU0w"
      }
    },
    {
      "cell_type": "code",
      "source": [
        "# Create an instance of the KNeighborsClassifier class\n",
        "knn4 = KNeighborsClassifier(n_neighbors=3, weights='uniform') \n",
        "\n",
        "# Evaluate the accuracy of the model\n",
        "scores = cross_val_score(knn4, X_train, y_train, cv=10)\n",
        "mean_accuracy = scores.mean()\n",
        "print(\"mean accuracy K4No:\", mean_accuracy)"
      ],
      "metadata": {
        "colab": {
          "base_uri": "https://localhost:8080/"
        },
        "id": "kB5R9H4sUXXi",
        "outputId": "30428be3-c6d1-4f88-89c7-9f7eedde6688"
      },
      "execution_count": null,
      "outputs": [
        {
          "output_type": "stream",
          "name": "stdout",
          "text": [
            "mean accuracy K4No: 0.9860819735819737\n"
          ]
        }
      ]
    },
    {
      "cell_type": "markdown",
      "source": [
        "###Model 5 K=5 Weight = Yes"
      ],
      "metadata": {
        "id": "WS0sIN_kUmeT"
      }
    },
    {
      "cell_type": "code",
      "source": [
        "# Create an instance of the KNeighborsClassifier class\n",
        "knn5 = KNeighborsClassifier(n_neighbors=5, weights='distance') \n",
        "\n",
        "# Evaluate the accuracy of the model\n",
        "scores = cross_val_score(knn5, X_train, y_train, cv=10)\n",
        "mean_accuracy = scores.mean()\n",
        "print(\"mean accuracy K5Weight:\", mean_accuracy)"
      ],
      "metadata": {
        "colab": {
          "base_uri": "https://localhost:8080/"
        },
        "id": "1UtNPjljUl2R",
        "outputId": "bfdaad0b-2eb5-43d5-8c61-0b1b1bdb47f2"
      },
      "execution_count": null,
      "outputs": [
        {
          "output_type": "stream",
          "name": "stdout",
          "text": [
            "mean accuracy K5Weight: 0.9881750194250195\n"
          ]
        }
      ]
    },
    {
      "cell_type": "markdown",
      "source": [
        "###Model 6 K=5 Weight = No"
      ],
      "metadata": {
        "id": "n8GjUTh9UuJc"
      }
    },
    {
      "cell_type": "code",
      "source": [
        "# Create an instance of the KNeighborsClassifier class\n",
        "knn6 = KNeighborsClassifier(n_neighbors=5, weights='uniform') \n",
        "\n",
        "# Evaluate the accuracy of the model\n",
        "scores = cross_val_score(knn6, X_train, y_train, cv=10)\n",
        "mean_accuracy = scores.mean()\n",
        "print(\"mean accuracy K6No:\", mean_accuracy)"
      ],
      "metadata": {
        "colab": {
          "base_uri": "https://localhost:8080/"
        },
        "id": "e-e0mBqZUxUn",
        "outputId": "508fde99-8e98-4b4a-e5c0-3cf965303437"
      },
      "execution_count": null,
      "outputs": [
        {
          "output_type": "stream",
          "name": "stdout",
          "text": [
            "mean accuracy K6No: 0.9881750194250195\n"
          ]
        }
      ]
    },
    {
      "cell_type": "markdown",
      "source": [
        "## Evaluate with test set\n"
      ],
      "metadata": {
        "id": "T2u-8-26Vdg_"
      }
    },
    {
      "cell_type": "code",
      "source": [
        "knn_distance = KNeighborsClassifier(n_neighbors=5, weights='distance')\n",
        "\n",
        "knn_distance.fit(X_train,y_train)\n",
        "\n",
        "y_pred = knn_distance.predict(X_test)"
      ],
      "metadata": {
        "id": "XINYMVmPV2VJ"
      },
      "execution_count": null,
      "outputs": []
    },
    {
      "cell_type": "code",
      "source": [
        "from sklearn.metrics import accuracy_score\n",
        "\n",
        "# Assume y_true and y_pred are the true and predicted labels, respectively\n",
        "accuracy = accuracy_score(y_test, y_pred)\n",
        "\n",
        "# Print the accuracy score\n",
        "print(\"Accuracy score: \", accuracy)\n"
      ],
      "metadata": {
        "colab": {
          "base_uri": "https://localhost:8080/"
        },
        "id": "zkvK2TBWV7Sc",
        "outputId": "a3ee5882-51b8-4a28-99f8-29f3c298c18e"
      },
      "execution_count": null,
      "outputs": [
        {
          "output_type": "stream",
          "name": "stdout",
          "text": [
            "Accuracy score:  0.9861111111111112\n"
          ]
        }
      ]
    },
    {
      "cell_type": "markdown",
      "source": [
        "#HW 7 \n",
        "- หา โมเดมลที่ดีที่สุดจาก DT, NaiveBayes, KNN, ANN โดยเปรียบเทียบ อย่างละ 2 parameter sets"
      ],
      "metadata": {
        "id": "J69dERUuylbI"
      }
    },
    {
      "cell_type": "code",
      "source": [
        "from sklearn.model_selection import train_test_split\n",
        "X_train, X_test, y_train, y_test = train_test_split(digits.data, digits.target, test_size=0.2, random_state=4)"
      ],
      "metadata": {
        "id": "QnmSIUPxYfed"
      },
      "execution_count": 5,
      "outputs": []
    },
    {
      "cell_type": "markdown",
      "source": [
        "## Decision Trees\n",
        "- Non parameters"
      ],
      "metadata": {
        "id": "b7rezxsVWawK"
      }
    },
    {
      "cell_type": "markdown",
      "source": [
        "###Import"
      ],
      "metadata": {
        "id": "YDj37XGNWxnw"
      }
    },
    {
      "cell_type": "code",
      "source": [
        "from sklearn.tree import DecisionTreeClassifier\n",
        "from sklearn.tree import plot_tree\n"
      ],
      "metadata": {
        "id": "OHVRH0EkWMI1"
      },
      "execution_count": null,
      "outputs": []
    },
    {
      "cell_type": "markdown",
      "source": [
        "###Define"
      ],
      "metadata": {
        "id": "C9Wg_TOtW0rK"
      }
    },
    {
      "cell_type": "code",
      "source": [
        "clf = DecisionTreeClassifier(random_state=4)"
      ],
      "metadata": {
        "id": "kSCqjJBxW58j"
      },
      "execution_count": null,
      "outputs": []
    },
    {
      "cell_type": "markdown",
      "source": [
        "###Train"
      ],
      "metadata": {
        "id": "52uP9nLBY476"
      }
    },
    {
      "cell_type": "code",
      "source": [
        "clf.fit(X_train,y_train)"
      ],
      "metadata": {
        "colab": {
          "base_uri": "https://localhost:8080/"
        },
        "id": "gy1tpLm4Y5zn",
        "outputId": "32315bd7-d688-46d8-9831-c41cdafff670"
      },
      "execution_count": null,
      "outputs": [
        {
          "output_type": "execute_result",
          "data": {
            "text/plain": [
              "DecisionTreeClassifier(random_state=4)"
            ],
            "text/html": [
              "<style>#sk-container-id-1 {color: black;background-color: white;}#sk-container-id-1 pre{padding: 0;}#sk-container-id-1 div.sk-toggleable {background-color: white;}#sk-container-id-1 label.sk-toggleable__label {cursor: pointer;display: block;width: 100%;margin-bottom: 0;padding: 0.3em;box-sizing: border-box;text-align: center;}#sk-container-id-1 label.sk-toggleable__label-arrow:before {content: \"▸\";float: left;margin-right: 0.25em;color: #696969;}#sk-container-id-1 label.sk-toggleable__label-arrow:hover:before {color: black;}#sk-container-id-1 div.sk-estimator:hover label.sk-toggleable__label-arrow:before {color: black;}#sk-container-id-1 div.sk-toggleable__content {max-height: 0;max-width: 0;overflow: hidden;text-align: left;background-color: #f0f8ff;}#sk-container-id-1 div.sk-toggleable__content pre {margin: 0.2em;color: black;border-radius: 0.25em;background-color: #f0f8ff;}#sk-container-id-1 input.sk-toggleable__control:checked~div.sk-toggleable__content {max-height: 200px;max-width: 100%;overflow: auto;}#sk-container-id-1 input.sk-toggleable__control:checked~label.sk-toggleable__label-arrow:before {content: \"▾\";}#sk-container-id-1 div.sk-estimator input.sk-toggleable__control:checked~label.sk-toggleable__label {background-color: #d4ebff;}#sk-container-id-1 div.sk-label input.sk-toggleable__control:checked~label.sk-toggleable__label {background-color: #d4ebff;}#sk-container-id-1 input.sk-hidden--visually {border: 0;clip: rect(1px 1px 1px 1px);clip: rect(1px, 1px, 1px, 1px);height: 1px;margin: -1px;overflow: hidden;padding: 0;position: absolute;width: 1px;}#sk-container-id-1 div.sk-estimator {font-family: monospace;background-color: #f0f8ff;border: 1px dotted black;border-radius: 0.25em;box-sizing: border-box;margin-bottom: 0.5em;}#sk-container-id-1 div.sk-estimator:hover {background-color: #d4ebff;}#sk-container-id-1 div.sk-parallel-item::after {content: \"\";width: 100%;border-bottom: 1px solid gray;flex-grow: 1;}#sk-container-id-1 div.sk-label:hover label.sk-toggleable__label {background-color: #d4ebff;}#sk-container-id-1 div.sk-serial::before {content: \"\";position: absolute;border-left: 1px solid gray;box-sizing: border-box;top: 0;bottom: 0;left: 50%;z-index: 0;}#sk-container-id-1 div.sk-serial {display: flex;flex-direction: column;align-items: center;background-color: white;padding-right: 0.2em;padding-left: 0.2em;position: relative;}#sk-container-id-1 div.sk-item {position: relative;z-index: 1;}#sk-container-id-1 div.sk-parallel {display: flex;align-items: stretch;justify-content: center;background-color: white;position: relative;}#sk-container-id-1 div.sk-item::before, #sk-container-id-1 div.sk-parallel-item::before {content: \"\";position: absolute;border-left: 1px solid gray;box-sizing: border-box;top: 0;bottom: 0;left: 50%;z-index: -1;}#sk-container-id-1 div.sk-parallel-item {display: flex;flex-direction: column;z-index: 1;position: relative;background-color: white;}#sk-container-id-1 div.sk-parallel-item:first-child::after {align-self: flex-end;width: 50%;}#sk-container-id-1 div.sk-parallel-item:last-child::after {align-self: flex-start;width: 50%;}#sk-container-id-1 div.sk-parallel-item:only-child::after {width: 0;}#sk-container-id-1 div.sk-dashed-wrapped {border: 1px dashed gray;margin: 0 0.4em 0.5em 0.4em;box-sizing: border-box;padding-bottom: 0.4em;background-color: white;}#sk-container-id-1 div.sk-label label {font-family: monospace;font-weight: bold;display: inline-block;line-height: 1.2em;}#sk-container-id-1 div.sk-label-container {text-align: center;}#sk-container-id-1 div.sk-container {/* jupyter's `normalize.less` sets `[hidden] { display: none; }` but bootstrap.min.css set `[hidden] { display: none !important; }` so we also need the `!important` here to be able to override the default hidden behavior on the sphinx rendered scikit-learn.org. See: https://github.com/scikit-learn/scikit-learn/issues/21755 */display: inline-block !important;position: relative;}#sk-container-id-1 div.sk-text-repr-fallback {display: none;}</style><div id=\"sk-container-id-1\" class=\"sk-top-container\"><div class=\"sk-text-repr-fallback\"><pre>DecisionTreeClassifier(random_state=4)</pre><b>In a Jupyter environment, please rerun this cell to show the HTML representation or trust the notebook. <br />On GitHub, the HTML representation is unable to render, please try loading this page with nbviewer.org.</b></div><div class=\"sk-container\" hidden><div class=\"sk-item\"><div class=\"sk-estimator sk-toggleable\"><input class=\"sk-toggleable__control sk-hidden--visually\" id=\"sk-estimator-id-1\" type=\"checkbox\" checked><label for=\"sk-estimator-id-1\" class=\"sk-toggleable__label sk-toggleable__label-arrow\">DecisionTreeClassifier</label><div class=\"sk-toggleable__content\"><pre>DecisionTreeClassifier(random_state=4)</pre></div></div></div></div></div>"
            ]
          },
          "metadata": {},
          "execution_count": 17
        }
      ]
    },
    {
      "cell_type": "markdown",
      "source": [
        "###Predict - Evaluate\n"
      ],
      "metadata": {
        "id": "EZ4S70KNW795"
      }
    },
    {
      "cell_type": "code",
      "source": [
        "y_predict_dt= clf.predict(X_test)\n",
        "y_predict_dt"
      ],
      "metadata": {
        "id": "zxGx08GeW9Yn"
      },
      "execution_count": null,
      "outputs": []
    },
    {
      "cell_type": "code",
      "source": [
        "from sklearn.metrics import classification_report"
      ],
      "metadata": {
        "id": "Rbo4u3vNZhK_"
      },
      "execution_count": null,
      "outputs": []
    },
    {
      "cell_type": "code",
      "source": [
        "from sklearn.tree import DecisionTreeClassifier\n",
        "from sklearn.model_selection import cross_val_score\n",
        "X = digits['data']\n",
        "y = digits['target']\n",
        "# train_test_split จะใช้สุ่มแบ่ง X และ y เป็นชุดข้อมูลฝึกและชุดข้อมูลทดสอบ\n",
        "X_train, X_test, y_train, y_test = train_test_split(X, y, test_size=0.2, random_state=4, shuffle=True) #test_size=0.2 คือ 20% \n",
        "#กำหนด test_size เป็น 0.2 และกำหนด random_state เป็น 6 เพื่อให้การแบ่งชุดข้อมูลสามารถทำซ้ำได้และ shuffle เป็น True เพื่อสลับลำดับข้อมูลก่อนแบ่งชุด\n",
        "\n",
        "# Define parameter set 1\n",
        "params1 = {'criterion': 'gini', 'max_depth': 3}\n",
        "\n",
        "# Define parameter set 2\n",
        "params2 = {'criterion': 'entropy', 'max_depth': 5}\n",
        "\n",
        "# Create decision tree with parameter set 1\n",
        "dt1 = DecisionTreeClassifier(criterion=params1['criterion'], max_depth=params1['max_depth'])\n",
        "\n",
        "# Create decision tree with parameter set 2\n",
        "dt2 = DecisionTreeClassifier(criterion=params2['criterion'], max_depth=params2['max_depth'])\n",
        "\n",
        "# Evaluate the decision tree with parameter set 1\n",
        "accuracy1 = cross_val_score(dt1, digits.data, digits.target, cv=5).mean()\n",
        "\n",
        "# Evaluate the decision tree with parameter set 2\n",
        "accuracy2 = cross_val_score(dt2, digits.data, digits.target, cv=5).mean()\n",
        "\n",
        "# Compare the accuracies of the two models and choose the one with the highest accuracy\n",
        "if accuracy1 > accuracy2:\n",
        "    print(\"DT1 Parameter set 1 is better with an accuracy of\", accuracy1)\n",
        "else:\n",
        "    print(\"DT2 Parameter set 2 is better with an accuracy of\", accuracy2)\n",
        "\n",
        "# ค่า accuracy จะถูกคำนวณด้วย cross_val_score"
      ],
      "metadata": {
        "colab": {
          "base_uri": "https://localhost:8080/"
        },
        "id": "TfmwPDquSn1v",
        "outputId": "ffce0f91-a30f-42d2-c2e8-4f5a1d4a8f6b"
      },
      "execution_count": 11,
      "outputs": [
        {
          "output_type": "stream",
          "name": "stdout",
          "text": [
            "DT2 Parameter set 2 is better with an accuracy of 0.7340498297740637\n"
          ]
        }
      ]
    },
    {
      "cell_type": "markdown",
      "source": [
        "##NaiveBayes"
      ],
      "metadata": {
        "id": "Gi4oneqYZ5_b"
      }
    },
    {
      "cell_type": "code",
      "source": [
        "from sklearn.naive_bayes import MultinomialNB, GaussianNB\n",
        "from sklearn.model_selection import train_test_split\n",
        "\n",
        "X = digits['data']\n",
        "y = digits['target']\n",
        "# train_test_split จะใช้สุ่มแบ่ง X และ y เป็นชุดข้อมูลฝึกและชุดข้อมูลทดสอบ\n",
        "X_train, X_test, y_train, y_test = train_test_split(X, y, test_size=0.2, random_state=6, shuffle=True) #test_size=0.2 คือ 20% \n",
        "#กำหนด test_size เป็น 0.2 และกำหนด random_state เป็น 6 เพื่อให้การแบ่งชุดข้อมูลสามารถทำซ้ำได้และ shuffle เป็น True  สลับลำดับข้อมูลก่อนแบ่งชุดเพื่อลดผลกระทบจากการจัดเรียงข้อมูล\n",
        "\n",
        "# Parameter Set 1: สร้างโมเดล Multinomial Naive Bayes โดยกำหนด alpha=1.0 เพื่อใช้ Laplace smoothing\n",
        "mnb = MultinomialNB(alpha=1.0)\n",
        "mnb.fit(X_train, y_train)\n",
        "# คำนวณค่า accuracy ของโมเดลด้วยชุดข้อมูลทดสอบ (X_test, y_test)\n",
        "mnb_score = mnb.score(X_test, y_test)\n",
        "\n",
        "# Parameter Set 2: สร้างโมเดล Gaussian Naive Bayes โดยไม่ใช้ Smoothing\n",
        "gnb = GaussianNB()\n",
        "gnb.fit(X_train, y_train)\n",
        "gnb_score = gnb.score(X_test, y_test)\n",
        "\n",
        "# Print best model based on test set accuracy\n",
        "if mnb_score > gnb_score:\n",
        "    print(\"Best Model: Multinomial Naive Bayes with Laplace Smoothing\")\n",
        "    print(\"Test Accuracy: %0.2f\" % mnb_score)\n",
        "else:\n",
        "    print(\"Best Model: Gaussian Naive Bayes without Smoothing\")\n",
        "    print(\"Test Accuracy: %0.2f\" % gnb_score)"
      ],
      "metadata": {
        "colab": {
          "base_uri": "https://localhost:8080/"
        },
        "id": "SQLIlpE9SEH_",
        "outputId": "f800314e-d55e-4c2b-f691-1611e5d62254"
      },
      "execution_count": 6,
      "outputs": [
        {
          "output_type": "stream",
          "name": "stdout",
          "text": [
            "Best Model: Multinomial Naive Bayes with Laplace Smoothing\n",
            "Test Accuracy: 0.90\n"
          ]
        }
      ]
    },
    {
      "cell_type": "markdown",
      "source": [
        "##KNN 2 paremeter \n",
        "  - 1. K = 3\n",
        "  - 2. K = 5"
      ],
      "metadata": {
        "id": "CLnTOoJ0aQhH"
      }
    },
    {
      "cell_type": "code",
      "source": [
        "# Create an instance of the KNeighborsClassifier class\n",
        "knn3 = KNeighborsClassifier(n_neighbors=3, weights='distance') \n",
        "\n",
        "# Evaluate the accuracy of the model\n",
        "scores = cross_val_score(knn3, X_train, y_train, cv=10)\n",
        "mean_accuracy = scores.mean()\n",
        "print(\"mean accuracy K3 Weight: \", mean_accuracy)"
      ],
      "metadata": {
        "colab": {
          "base_uri": "https://localhost:8080/"
        },
        "id": "NZYlQO8uaRrG",
        "outputId": "edb9863a-a71c-406a-d4af-89d684678595"
      },
      "execution_count": 10,
      "outputs": [
        {
          "output_type": "stream",
          "name": "stdout",
          "text": [
            "mean accuracy K3 Weight:  0.9860819735819737\n"
          ]
        }
      ]
    },
    {
      "cell_type": "code",
      "source": [
        "# Create an instance of the KNeighborsClassifier class\n",
        "knn5 = KNeighborsClassifier(n_neighbors=5, weights='distance') \n",
        "\n",
        "# Evaluate the accuracy of the model\n",
        "scores = cross_val_score(knn5, X_train, y_train, cv=10)\n",
        "mean_accuracy = scores.mean()\n",
        "print(\"mean accuracy K5Weight:\", mean_accuracy)"
      ],
      "metadata": {
        "colab": {
          "base_uri": "https://localhost:8080/"
        },
        "id": "W2ISN4spcI-3",
        "outputId": "51814768-d49d-4033-eee2-fcb8d83337b7"
      },
      "execution_count": 9,
      "outputs": [
        {
          "output_type": "stream",
          "name": "stdout",
          "text": [
            "mean accuracy K5Weight: 0.9881750194250195\n"
          ]
        }
      ]
    },
    {
      "cell_type": "markdown",
      "source": [
        "##ANN"
      ],
      "metadata": {
        "id": "pppdHsMscsao"
      }
    },
    {
      "cell_type": "code",
      "source": [
        "from sklearn.model_selection import train_test_split\n",
        "from sklearn.neural_network import MLPClassifier\n",
        "from sklearn.metrics import accuracy_score\n",
        "\n",
        "X = digits['data']\n",
        "y = digits['target']\n",
        "# train_test_split จะใช้สุ่มแบ่ง X และ y เป็นชุดข้อมูลฝึกและชุดข้อมูลทดสอบ\n",
        "X_train, X_test, y_train, y_test = train_test_split(X, y, test_size=0.2, random_state=4, shuffle=True) #test_size=0.2 คือ 20% \n",
        "#กำหนด test_size เป็น 0.2 และกำหนด random_state เป็น 6 เพื่อให้การแบ่งชุดข้อมูลสามารถทำซ้ำได้และ shuffle เป็น True เพื่อสลับลำดับข้อมูลก่อนแบ่งชุด\n",
        "\n",
        "# กำหนด parameter sets ที่ต้องการทดสอบ\n",
        "#กำหนด parameter sets ที่ต้องการทดสอบโดยกำหนด hidden_layer_sizes เป็นจำนวนโหนดใน Hidden layer และกำหนด activation เป็นฟังก์ชัน Activation function \n",
        "#และกำหนด solver เป็น Algorithm สำหรับ optimization\n",
        "param_set_1 = {'hidden_layer_sizes': (50,), 'activation': 'logistic', 'solver': 'lbfgs'} \n",
        "param_set_2 = {'hidden_layer_sizes': (100,), 'activation': 'relu', 'solver': 'adam'}\n",
        "\n",
        "# สร้างและ train โมเดล ANN สำหรับ parameter sets ที่กำหนด โดยใช้ MLPClassifier และ fit โมเดลด้วยข้อมูล X_train และ y_train\n",
        "\n",
        "model_1 = MLPClassifier(**param_set_1, random_state=42)\n",
        "model_1.fit(X_train, y_train)\n",
        "\n",
        "model_2 = MLPClassifier(**param_set_2, random_state=42)\n",
        "model_2.fit(X_train, y_train)\n",
        "\n",
        "# ประเมินประสิทธิภาพของโมเดล ANN กับ test set โดยใช้ predict เพื่อทำนายผลลัพธ์จากโมเดลและใช้ accuracy_score เพื่อคำนวณค่าความแม่นยำของโมเดล\n",
        "y_pred_1 = model_1.predict(X_test)\n",
        "accuracy_1 = accuracy_score(y_test, y_pred_1)\n",
        "\n",
        "y_pred_2 = model_2.predict(X_test)\n",
        "accuracy_2 = accuracy_score(y_test, y_pred_2)\n",
        "\n",
        "#แสดงผลลัพธ์ค่าความแม่นยำของโมเดล ANN ของ parameter sets 1 และ 2\n",
        "print(f\"Accuracy for model 1 ANN1: {accuracy_1}\")\n",
        "print(f\"Accuracy for model 2 ANN2: {accuracy_2}\")\n",
        "     "
      ],
      "metadata": {
        "colab": {
          "base_uri": "https://localhost:8080/"
        },
        "id": "SJdU3RvoSSzm",
        "outputId": "681349c3-3a89-4d35-910e-85bc2692730e"
      },
      "execution_count": 8,
      "outputs": [
        {
          "output_type": "stream",
          "name": "stdout",
          "text": [
            "Accuracy for model 1 ANN1: 0.95\n",
            "Accuracy for model 2 ANN2: 0.9833333333333333\n"
          ]
        }
      ]
    },
    {
      "cell_type": "code",
      "source": [
        "print('โมเดลที่ดีที่สุดคือ KNN 2 accuracy:', mean_accuracy)"
      ],
      "metadata": {
        "colab": {
          "base_uri": "https://localhost:8080/"
        },
        "id": "TxZo3RVMSxOC",
        "outputId": "7262dd8e-b591-4646-d7ca-41974411575f"
      },
      "execution_count": 13,
      "outputs": [
        {
          "output_type": "stream",
          "name": "stdout",
          "text": [
            "โมเดลที่ดีที่สุดคือ KNN 2 accuracy: 0.9860819735819737\n"
          ]
        }
      ]
    }
  ]
}