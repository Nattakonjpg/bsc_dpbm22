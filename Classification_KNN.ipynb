{
  "nbformat": 4,
  "nbformat_minor": 0,
  "metadata": {
    "colab": {
      "provenance": [],
      "authorship_tag": "ABX9TyM0TxbWDE4KRZ6f+jWz3tjd",
      "include_colab_link": true
    },
    "kernelspec": {
      "name": "python3",
      "display_name": "Python 3"
    },
    "language_info": {
      "name": "python"
    }
  },
  "cells": [
    {
      "cell_type": "markdown",
      "metadata": {
        "id": "view-in-github",
        "colab_type": "text"
      },
      "source": [
        "<a href=\"https://colab.research.google.com/github/Nattakonjpg/bsc_dpbm22/blob/main/Classification_KNN.ipynb\" target=\"_parent\"><img src=\"https://colab.research.google.com/assets/colab-badge.svg\" alt=\"Open In Colab\"/></a>"
      ]
    },
    {
      "cell_type": "code",
      "execution_count": 16,
      "metadata": {
        "id": "InmovfGQVBQm"
      },
      "outputs": [],
      "source": [
        "from sklearn.datasets import load_digits\n",
        "digits = load_digits()\n"
      ]
    },
    {
      "cell_type": "code",
      "source": [
        "from sklearn.neighbors import KNeighborsClassifier\n",
        "from sklearn.model_selection import train_test_split\n",
        "from sklearn.metrics import accuracy_score\n",
        "from sklearn.model_selection import cross_val_score\n"
      ],
      "metadata": {
        "id": "bJMO9g86a8dd"
      },
      "execution_count": 27,
      "outputs": []
    },
    {
      "cell_type": "markdown",
      "source": [
        "# Quiz 3 march\n",
        "- แบ่ง Data ออกเป็น 80 ส่วน (train) ,20 ส่วน (test) โดยใช้ Random_state = (4)\n",
        "- หา Parameters ที่ดีที่สุด (K (1,3,5) Distance_weighted(yes/no)) ด้วย 10-fold-cross-Validation = มี 6 model\n",
        "- test parametrs ที่ดีที่สุด กับ test data"
      ],
      "metadata": {
        "id": "zTqxfD8KXTmo"
      }
    },
    {
      "cell_type": "code",
      "source": [
        "X_train, X_test, y_train, y_test = train_test_split(digits.data, digits.target, test_size=0.2, random_state=4)"
      ],
      "metadata": {
        "id": "ANauFBSzZ7Bz"
      },
      "execution_count": 19,
      "outputs": []
    },
    {
      "cell_type": "markdown",
      "source": [
        "###Model 1 K=1 Weight = No"
      ],
      "metadata": {
        "id": "LQThefw8cxQ2"
      }
    },
    {
      "cell_type": "code",
      "source": [
        "# Create an instance of the KNeighborsClassifier class\n",
        "knn1 = KNeighborsClassifier(n_neighbors=1) \n",
        "\n",
        "# Train the model using the training data\n",
        "knn1.fit(X_train, y_train)\n",
        "\n",
        "# Use the model to make predictions on the testing data\n",
        "y_pred = knn1.predict(X_test)\n",
        "\n",
        "# Evaluate the accuracy of the model\n",
        "scores = cross_val_score(knn1, digits.data, digits.target, cv=10)\n",
        "mean_accuracy = scores.mean()\n",
        "print(\"Accuracy:\", mean_accuracy)"
      ],
      "metadata": {
        "colab": {
          "base_uri": "https://localhost:8080/"
        },
        "id": "kJ4bkHRxajop",
        "outputId": "dc2a53f3-1468-48e9-db64-d1bee127a7a7"
      },
      "execution_count": 29,
      "outputs": [
        {
          "output_type": "stream",
          "name": "stdout",
          "text": [
            "Accuracy: 0.9749627560521414\n"
          ]
        }
      ]
    },
    {
      "cell_type": "markdown",
      "source": [
        "###Model 2 K=1 Weight = yes"
      ],
      "metadata": {
        "id": "jAidhDH7c3Ip"
      }
    },
    {
      "cell_type": "code",
      "source": [
        "# Create an instance of the KNeighborsClassifier class\n",
        "knn2 = KNeighborsClassifier(n_neighbors=1, weights='distance') \n",
        "\n",
        "# Train the model using the training data\n",
        "knn2.fit(X_train, y_train)\n",
        "\n",
        "# Use the model to make predictions on the testing data\n",
        "y_pred = knn2.predict(X_test)\n",
        "\n",
        "# Evaluate the accuracy of the model\n",
        "scores = cross_val_score(knn2, digits.data, digits.target, cv=10)\n",
        "mean_accuracy = scores.mean()\n",
        "print(\"Accuracy:\", mean_accuracy)"
      ],
      "metadata": {
        "colab": {
          "base_uri": "https://localhost:8080/"
        },
        "id": "dwtE91Ksc2bG",
        "outputId": "4edb490c-06c6-4c25-e831-d5b5b8f46990"
      },
      "execution_count": 28,
      "outputs": [
        {
          "output_type": "stream",
          "name": "stdout",
          "text": [
            "Accuracy: 0.9749627560521414\n"
          ]
        }
      ]
    },
    {
      "cell_type": "markdown",
      "source": [
        "###Model 3 K=3 Weight = yes"
      ],
      "metadata": {
        "id": "VOzO1TOseeVp"
      }
    }
  ]
}