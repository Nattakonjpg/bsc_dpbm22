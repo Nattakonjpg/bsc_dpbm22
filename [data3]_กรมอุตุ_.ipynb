{
  "nbformat": 4,
  "nbformat_minor": 0,
  "metadata": {
    "colab": {
      "provenance": [],
      "collapsed_sections": [
        "yZ6TkaPCxYZh",
        "gsIvlF4miUc5",
        "E-Y1k0B0yqCv",
        "t-Cd0EYtzm1t",
        "_BXJF4u50NiT",
        "cMiaLala1dA7",
        "eoRW5Lmg2CKx"
      ],
      "authorship_tag": "ABX9TyPau5KkXzUQt3iTXuWW0p5m",
      "include_colab_link": true
    },
    "kernelspec": {
      "name": "python3",
      "display_name": "Python 3"
    },
    "language_info": {
      "name": "python"
    }
  },
  "cells": [
    {
      "cell_type": "markdown",
      "metadata": {
        "id": "view-in-github",
        "colab_type": "text"
      },
      "source": [
        "<a href=\"https://colab.research.google.com/github/Nattakonjpg/bsc_dpbm22/blob/main/%5Bdata3%5D_%E0%B8%81%E0%B8%A3%E0%B8%A1%E0%B8%AD%E0%B8%B8%E0%B8%95%E0%B8%B8_.ipynb\" target=\"_parent\"><img src=\"https://colab.research.google.com/assets/colab-badge.svg\" alt=\"Open In Colab\"/></a>"
      ]
    },
    {
      "cell_type": "code",
      "execution_count": 20,
      "metadata": {
        "colab": {
          "base_uri": "https://localhost:8080/"
        },
        "id": "QTyD0HU0quCy",
        "outputId": "87243cba-0ea3-44d8-86ab-434107da5cfe"
      },
      "outputs": [
        {
          "output_type": "stream",
          "name": "stdout",
          "text": [
            "Drive already mounted at /content/drive; to attempt to forcibly remount, call drive.mount(\"/content/drive\", force_remount=True).\n"
          ]
        }
      ],
      "source": [
        "from google.colab import drive\n",
        "drive.mount('/content/drive')"
      ]
    },
    {
      "cell_type": "code",
      "source": [
        "import pandas as pd"
      ],
      "metadata": {
        "id": "tHv9mTsUuBaG"
      },
      "execution_count": 21,
      "outputs": []
    },
    {
      "cell_type": "markdown",
      "source": [
        "จังหวัดขอนแก่น\n",
        "- ดึงแต่ละเป็นที่เป็นของจังหวัดขอนแก่นมาก่อนเพื่อดูว่าสามารถทำอะไรได้บ้าง\n",
        "- วนลูป ให้ปริ๊นแต่ละค่ามาดูก่อน แล้วค่อยใส่คอลัมน์\n",
        "\n"
      ],
      "metadata": {
        "id": "Ek1XttOXuN7y"
      }
    },
    {
      "cell_type": "markdown",
      "source": [
        "##ความเร็ว"
      ],
      "metadata": {
        "id": "80YhzAxvxFT1"
      }
    },
    {
      "cell_type": "markdown",
      "source": [
        "###ความเร็วลม\n"
      ],
      "metadata": {
        "id": "ZdG5xbl6yoH_"
      }
    },
    {
      "cell_type": "code",
      "source": [
        "kkc = pd.read_excel('/content/drive/MyDrive/datamining/กรมอุตุ/ความเร็วลม/Copy of จ.ขอนแก่น.xlsx',sheet_name='Sheet1',skiprows=3)\n",
        "snkpn = pd.read_excel('/content/drive/MyDrive/datamining/กรมอุตุ/ความเร็วลม/Copy of จ.นครพนม.xlsx',sheet_name='Sheet1',skiprows=3)\n",
        "sl = pd.read_excel('/content/drive/MyDrive/datamining/กรมอุตุ/ความเร็วลม/Copy of จ.เลย.xlsx',sheet_name='Sheet1',skiprows=3)\n",
        "ssk = pd.read_excel('/content/drive/MyDrive/datamining/กรมอุตุ/ความเร็วลม/Copy of จ.สกลนคร.xlsx',sheet_name='Sheet1',skiprows=3)\n",
        "snk = pd.read_excel('/content/drive/MyDrive/datamining/กรมอุตุ/ความเร็วลม/Copy of จ.หนองคาย.xlsx',sheet_name='Sheet1',skiprows=3)\n"
      ],
      "metadata": {
        "id": "WP3I-G-JtwLT"
      },
      "execution_count": 22,
      "outputs": []
    },
    {
      "cell_type": "code",
      "source": [
        "kkc.columns"
      ],
      "metadata": {
        "colab": {
          "base_uri": "https://localhost:8080/"
        },
        "id": "5znZCt0ulDiA",
        "outputId": "a749fd89-be8b-4a38-db8a-fb8012ecbbd2"
      },
      "execution_count": 23,
      "outputs": [
        {
          "output_type": "execute_result",
          "data": {
            "text/plain": [
              "Index(['ที่', 'สถานี', 'เดือน/ปี', 'วันที่', 'Unnamed: 4', 'Unnamed: 5',\n",
              "       'Unnamed: 6', 'Unnamed: 7', 'Unnamed: 8', 'Unnamed: 9', 'Unnamed: 10',\n",
              "       'Unnamed: 11', 'Unnamed: 12', 'Unnamed: 13', 'Unnamed: 14',\n",
              "       'Unnamed: 15', 'Unnamed: 16', 'Unnamed: 17', 'Unnamed: 18',\n",
              "       'Unnamed: 19', 'Unnamed: 20', 'Unnamed: 21', 'Unnamed: 22',\n",
              "       'Unnamed: 23', 'Unnamed: 24', 'Unnamed: 25', 'Unnamed: 26',\n",
              "       'Unnamed: 27', 'Unnamed: 28', 'Unnamed: 29', 'Unnamed: 30',\n",
              "       'Unnamed: 31', 'Unnamed: 32', 'Unnamed: 33', 'เฉลี่ย'],\n",
              "      dtype='object')"
            ]
          },
          "metadata": {},
          "execution_count": 23
        }
      ]
    },
    {
      "cell_type": "code",
      "source": [
        "kkc = kkc.rename(columns={ 'วันที่':'1','Unnamed: 4':'2', 'Unnamed: 5':'3',\n",
        "       'Unnamed: 6':'4', 'Unnamed: 7':'5', 'Unnamed: 8':'6', 'Unnamed: 9':'7', 'Unnamed: 10':'8',\n",
        "       'Unnamed: 11':'9', 'Unnamed: 12':'10', 'Unnamed: 13':'11', 'Unnamed: 14':'12',\n",
        "       'Unnamed: 15':'13', 'Unnamed: 16':'14', 'Unnamed: 17':'15', 'Unnamed: 18':\"16\",\n",
        "       'Unnamed: 19':'17', 'Unnamed: 20':'18', 'Unnamed: 21':'19', 'Unnamed: 22':'20',\n",
        "       'Unnamed: 23':'21', 'Unnamed: 24':'22', 'Unnamed: 25':'23', 'Unnamed: 26':'24',\n",
        "       'Unnamed: 27':'25', 'Unnamed: 28':'26', 'Unnamed: 29':'27', 'Unnamed: 30':'28',\n",
        "       'Unnamed: 31':'29', 'Unnamed: 32':'30', 'Unnamed: 33':'31'})\n",
        "kkc = kkc.iloc[1:]\n",
        "snkpn = snkpn.rename(columns={ 'วันที่':'1','Unnamed: 4':'2', 'Unnamed: 5':'3',\n",
        "       'Unnamed: 6':'4', 'Unnamed: 7':'5', 'Unnamed: 8':'6', 'Unnamed: 9':'7', 'Unnamed: 10':'8',\n",
        "       'Unnamed: 11':'9', 'Unnamed: 12':'10', 'Unnamed: 13':'11', 'Unnamed: 14':'12',\n",
        "       'Unnamed: 15':'13', 'Unnamed: 16':'14', 'Unnamed: 17':'15', 'Unnamed: 18':\"16\",\n",
        "       'Unnamed: 19':'17', 'Unnamed: 20':'18', 'Unnamed: 21':'19', 'Unnamed: 22':'20',\n",
        "       'Unnamed: 23':'21', 'Unnamed: 24':'22', 'Unnamed: 25':'23', 'Unnamed: 26':'24',\n",
        "       'Unnamed: 27':'25', 'Unnamed: 28':'26', 'Unnamed: 29':'27', 'Unnamed: 30':'28',\n",
        "       'Unnamed: 31':'29', 'Unnamed: 32':'30', 'Unnamed: 33':'31'})\n",
        "snkpn = snkpn.iloc[1:]\n",
        "sl = sl.rename(columns={ 'วันที่':'1','Unnamed: 4':'2', 'Unnamed: 5':'3',\n",
        "       'Unnamed: 6':'4', 'Unnamed: 7':'5', 'Unnamed: 8':'6', 'Unnamed: 9':'7', 'Unnamed: 10':'8',\n",
        "       'Unnamed: 11':'9', 'Unnamed: 12':'10', 'Unnamed: 13':'11', 'Unnamed: 14':'12',\n",
        "       'Unnamed: 15':'13', 'Unnamed: 16':'14', 'Unnamed: 17':'15', 'Unnamed: 18':\"16\",\n",
        "       'Unnamed: 19':'17', 'Unnamed: 20':'18', 'Unnamed: 21':'19', 'Unnamed: 22':'20',\n",
        "       'Unnamed: 23':'21', 'Unnamed: 24':'22', 'Unnamed: 25':'23', 'Unnamed: 26':'24',\n",
        "       'Unnamed: 27':'25', 'Unnamed: 28':'26', 'Unnamed: 29':'27', 'Unnamed: 30':'28',\n",
        "       'Unnamed: 31':'29', 'Unnamed: 32':'30', 'Unnamed: 33':'31'})\n",
        "sl = sl.iloc[1:]\n",
        "ssk = ssk.rename(columns={ 'วันที่':'1','Unnamed: 4':'2', 'Unnamed: 5':'3',\n",
        "       'Unnamed: 6':'4', 'Unnamed: 7':'5', 'Unnamed: 8':'6', 'Unnamed: 9':'7', 'Unnamed: 10':'8',\n",
        "       'Unnamed: 11':'9', 'Unnamed: 12':'10', 'Unnamed: 13':'11', 'Unnamed: 14':'12',\n",
        "       'Unnamed: 15':'13', 'Unnamed: 16':'14', 'Unnamed: 17':'15', 'Unnamed: 18':\"16\",\n",
        "       'Unnamed: 19':'17', 'Unnamed: 20':'18', 'Unnamed: 21':'19', 'Unnamed: 22':'20',\n",
        "       'Unnamed: 23':'21', 'Unnamed: 24':'22', 'Unnamed: 25':'23', 'Unnamed: 26':'24',\n",
        "       'Unnamed: 27':'25', 'Unnamed: 28':'26', 'Unnamed: 29':'27', 'Unnamed: 30':'28',\n",
        "       'Unnamed: 31':'29', 'Unnamed: 32':'30', 'Unnamed: 33':'31'})\n",
        "ssk = ssk.iloc[1:]\n",
        "snk = snk.rename(columns={ 'วันที่':'1','Unnamed: 4':'2', 'Unnamed: 5':'3',\n",
        "       'Unnamed: 6':'4', 'Unnamed: 7':'5', 'Unnamed: 8':'6', 'Unnamed: 9':'7', 'Unnamed: 10':'8',\n",
        "       'Unnamed: 11':'9', 'Unnamed: 12':'10', 'Unnamed: 13':'11', 'Unnamed: 14':'12',\n",
        "       'Unnamed: 15':'13', 'Unnamed: 16':'14', 'Unnamed: 17':'15', 'Unnamed: 18':\"16\",\n",
        "       'Unnamed: 19':'17', 'Unnamed: 20':'18', 'Unnamed: 21':'19', 'Unnamed: 22':'20',\n",
        "       'Unnamed: 23':'21', 'Unnamed: 24':'22', 'Unnamed: 25':'23', 'Unnamed: 26':'24',\n",
        "       'Unnamed: 27':'25', 'Unnamed: 28':'26', 'Unnamed: 29':'27', 'Unnamed: 30':'28',\n",
        "       'Unnamed: 31':'29', 'Unnamed: 32':'30', 'Unnamed: 33':'31'})\n",
        "snk = snk.iloc[1:]"
      ],
      "metadata": {
        "id": "nIXFb03CydV6"
      },
      "execution_count": 24,
      "outputs": []
    },
    {
      "cell_type": "markdown",
      "source": [
        "###Concat df"
      ],
      "metadata": {
        "id": "K766uEV8yWIh"
      }
    },
    {
      "cell_type": "code",
      "source": [
        "Speed = pd.concat([kkc,snkpn,snkpn,sl,snk])\n",
        "Speed.shape"
      ],
      "metadata": {
        "colab": {
          "base_uri": "https://localhost:8080/"
        },
        "id": "ReQQ-CQWyyPg",
        "outputId": "9f70175f-86cc-45ef-c1c5-66a75ddad397"
      },
      "execution_count": 25,
      "outputs": [
        {
          "output_type": "execute_result",
          "data": {
            "text/plain": [
              "(275, 35)"
            ]
          },
          "metadata": {},
          "execution_count": 25
        }
      ]
    },
    {
      "cell_type": "markdown",
      "source": [
        "### ดึงเดือน กับ ปี แยกคอลัมน์"
      ],
      "metadata": {
        "id": "47QFurLHiAMY"
      }
    },
    {
      "cell_type": "code",
      "source": [
        "Speed['เดือน'] = Speed['เดือน/ปี'].dt.month\n",
        "Speed['ปี'] = Speed['เดือน/ปี'].dt.year\n",
        "Speed.head()"
      ],
      "metadata": {
        "colab": {
          "base_uri": "https://localhost:8080/",
          "height": 235
        },
        "id": "A2nTXX7FyATp",
        "outputId": "2fea6e76-0e75-4fee-b45b-f9f3dd2c0e96"
      },
      "execution_count": 26,
      "outputs": [
        {
          "output_type": "execute_result",
          "data": {
            "text/plain": [
              "   ที่                  สถานี   เดือน/ปี    1    2    3    4    5    6    7  \\\n",
              "1  1    353301-เลย สกษ. จ.เลย 2011-10-01  3.0  2.0  3.0  2.0  2.0  3.0  4.0   \n",
              "2  2    353301-เลย สกษ. จ.เลย 2011-11-01  4.0  5.0  3.0  3.0  5.0  2.0  3.0   \n",
              "3  3    353301-เลย สกษ. จ.เลย 2011-12-01  3.0  4.0  4.0  4.0  4.0  4.0  4.0   \n",
              "4  1    353301-เลย สกษ. จ.เลย 2012-01-01  4.0  2.0  1.0  4.0  4.0  2.0  4.0   \n",
              "5  2    353301-เลย สกษ. จ.เลย 2012-02-01  2.0  2.0  3.0  2.0  3.0  1.0  2.0   \n",
              "\n",
              "   ...   25   26   27   28   29   30   31    เฉลี่ย เดือน    ปี  \n",
              "1  ...  5.0  5.0  5.0  4.0  6.0  4.0  5.0  3.354839    10  2011  \n",
              "2  ...  5.0  5.0  3.0  1.0  3.0  3.0    -  3.466667    11  2011  \n",
              "3  ...  7.0  6.0  5.0  4.0  4.0  6.0  5.0  4.806452    12  2011  \n",
              "4  ...  4.0  2.0  2.0  1.0  3.0  4.0  4.0  3.129032     1  2012  \n",
              "5  ...  3.0  2.0  4.0  3.0  3.0  3.0    -  2.566667     2  2012  \n",
              "\n",
              "[5 rows x 37 columns]"
            ],
            "text/html": [
              "\n",
              "  <div id=\"df-7eaca98c-3846-4e43-b95d-e93a2df53adf\">\n",
              "    <div class=\"colab-df-container\">\n",
              "      <div>\n",
              "<style scoped>\n",
              "    .dataframe tbody tr th:only-of-type {\n",
              "        vertical-align: middle;\n",
              "    }\n",
              "\n",
              "    .dataframe tbody tr th {\n",
              "        vertical-align: top;\n",
              "    }\n",
              "\n",
              "    .dataframe thead th {\n",
              "        text-align: right;\n",
              "    }\n",
              "</style>\n",
              "<table border=\"1\" class=\"dataframe\">\n",
              "  <thead>\n",
              "    <tr style=\"text-align: right;\">\n",
              "      <th></th>\n",
              "      <th>ที่</th>\n",
              "      <th>สถานี</th>\n",
              "      <th>เดือน/ปี</th>\n",
              "      <th>1</th>\n",
              "      <th>2</th>\n",
              "      <th>3</th>\n",
              "      <th>4</th>\n",
              "      <th>5</th>\n",
              "      <th>6</th>\n",
              "      <th>7</th>\n",
              "      <th>...</th>\n",
              "      <th>25</th>\n",
              "      <th>26</th>\n",
              "      <th>27</th>\n",
              "      <th>28</th>\n",
              "      <th>29</th>\n",
              "      <th>30</th>\n",
              "      <th>31</th>\n",
              "      <th>เฉลี่ย</th>\n",
              "      <th>เดือน</th>\n",
              "      <th>ปี</th>\n",
              "    </tr>\n",
              "  </thead>\n",
              "  <tbody>\n",
              "    <tr>\n",
              "      <th>1</th>\n",
              "      <td>1</td>\n",
              "      <td>353301-เลย สกษ. จ.เลย</td>\n",
              "      <td>2011-10-01</td>\n",
              "      <td>3.0</td>\n",
              "      <td>2.0</td>\n",
              "      <td>3.0</td>\n",
              "      <td>2.0</td>\n",
              "      <td>2.0</td>\n",
              "      <td>3.0</td>\n",
              "      <td>4.0</td>\n",
              "      <td>...</td>\n",
              "      <td>5.0</td>\n",
              "      <td>5.0</td>\n",
              "      <td>5.0</td>\n",
              "      <td>4.0</td>\n",
              "      <td>6.0</td>\n",
              "      <td>4.0</td>\n",
              "      <td>5.0</td>\n",
              "      <td>3.354839</td>\n",
              "      <td>10</td>\n",
              "      <td>2011</td>\n",
              "    </tr>\n",
              "    <tr>\n",
              "      <th>2</th>\n",
              "      <td>2</td>\n",
              "      <td>353301-เลย สกษ. จ.เลย</td>\n",
              "      <td>2011-11-01</td>\n",
              "      <td>4.0</td>\n",
              "      <td>5.0</td>\n",
              "      <td>3.0</td>\n",
              "      <td>3.0</td>\n",
              "      <td>5.0</td>\n",
              "      <td>2.0</td>\n",
              "      <td>3.0</td>\n",
              "      <td>...</td>\n",
              "      <td>5.0</td>\n",
              "      <td>5.0</td>\n",
              "      <td>3.0</td>\n",
              "      <td>1.0</td>\n",
              "      <td>3.0</td>\n",
              "      <td>3.0</td>\n",
              "      <td>-</td>\n",
              "      <td>3.466667</td>\n",
              "      <td>11</td>\n",
              "      <td>2011</td>\n",
              "    </tr>\n",
              "    <tr>\n",
              "      <th>3</th>\n",
              "      <td>3</td>\n",
              "      <td>353301-เลย สกษ. จ.เลย</td>\n",
              "      <td>2011-12-01</td>\n",
              "      <td>3.0</td>\n",
              "      <td>4.0</td>\n",
              "      <td>4.0</td>\n",
              "      <td>4.0</td>\n",
              "      <td>4.0</td>\n",
              "      <td>4.0</td>\n",
              "      <td>4.0</td>\n",
              "      <td>...</td>\n",
              "      <td>7.0</td>\n",
              "      <td>6.0</td>\n",
              "      <td>5.0</td>\n",
              "      <td>4.0</td>\n",
              "      <td>4.0</td>\n",
              "      <td>6.0</td>\n",
              "      <td>5.0</td>\n",
              "      <td>4.806452</td>\n",
              "      <td>12</td>\n",
              "      <td>2011</td>\n",
              "    </tr>\n",
              "    <tr>\n",
              "      <th>4</th>\n",
              "      <td>1</td>\n",
              "      <td>353301-เลย สกษ. จ.เลย</td>\n",
              "      <td>2012-01-01</td>\n",
              "      <td>4.0</td>\n",
              "      <td>2.0</td>\n",
              "      <td>1.0</td>\n",
              "      <td>4.0</td>\n",
              "      <td>4.0</td>\n",
              "      <td>2.0</td>\n",
              "      <td>4.0</td>\n",
              "      <td>...</td>\n",
              "      <td>4.0</td>\n",
              "      <td>2.0</td>\n",
              "      <td>2.0</td>\n",
              "      <td>1.0</td>\n",
              "      <td>3.0</td>\n",
              "      <td>4.0</td>\n",
              "      <td>4.0</td>\n",
              "      <td>3.129032</td>\n",
              "      <td>1</td>\n",
              "      <td>2012</td>\n",
              "    </tr>\n",
              "    <tr>\n",
              "      <th>5</th>\n",
              "      <td>2</td>\n",
              "      <td>353301-เลย สกษ. จ.เลย</td>\n",
              "      <td>2012-02-01</td>\n",
              "      <td>2.0</td>\n",
              "      <td>2.0</td>\n",
              "      <td>3.0</td>\n",
              "      <td>2.0</td>\n",
              "      <td>3.0</td>\n",
              "      <td>1.0</td>\n",
              "      <td>2.0</td>\n",
              "      <td>...</td>\n",
              "      <td>3.0</td>\n",
              "      <td>2.0</td>\n",
              "      <td>4.0</td>\n",
              "      <td>3.0</td>\n",
              "      <td>3.0</td>\n",
              "      <td>3.0</td>\n",
              "      <td>-</td>\n",
              "      <td>2.566667</td>\n",
              "      <td>2</td>\n",
              "      <td>2012</td>\n",
              "    </tr>\n",
              "  </tbody>\n",
              "</table>\n",
              "<p>5 rows × 37 columns</p>\n",
              "</div>\n",
              "      <button class=\"colab-df-convert\" onclick=\"convertToInteractive('df-7eaca98c-3846-4e43-b95d-e93a2df53adf')\"\n",
              "              title=\"Convert this dataframe to an interactive table.\"\n",
              "              style=\"display:none;\">\n",
              "        \n",
              "  <svg xmlns=\"http://www.w3.org/2000/svg\" height=\"24px\"viewBox=\"0 0 24 24\"\n",
              "       width=\"24px\">\n",
              "    <path d=\"M0 0h24v24H0V0z\" fill=\"none\"/>\n",
              "    <path d=\"M18.56 5.44l.94 2.06.94-2.06 2.06-.94-2.06-.94-.94-2.06-.94 2.06-2.06.94zm-11 1L8.5 8.5l.94-2.06 2.06-.94-2.06-.94L8.5 2.5l-.94 2.06-2.06.94zm10 10l.94 2.06.94-2.06 2.06-.94-2.06-.94-.94-2.06-.94 2.06-2.06.94z\"/><path d=\"M17.41 7.96l-1.37-1.37c-.4-.4-.92-.59-1.43-.59-.52 0-1.04.2-1.43.59L10.3 9.45l-7.72 7.72c-.78.78-.78 2.05 0 2.83L4 21.41c.39.39.9.59 1.41.59.51 0 1.02-.2 1.41-.59l7.78-7.78 2.81-2.81c.8-.78.8-2.07 0-2.86zM5.41 20L4 18.59l7.72-7.72 1.47 1.35L5.41 20z\"/>\n",
              "  </svg>\n",
              "      </button>\n",
              "      \n",
              "  <style>\n",
              "    .colab-df-container {\n",
              "      display:flex;\n",
              "      flex-wrap:wrap;\n",
              "      gap: 12px;\n",
              "    }\n",
              "\n",
              "    .colab-df-convert {\n",
              "      background-color: #E8F0FE;\n",
              "      border: none;\n",
              "      border-radius: 50%;\n",
              "      cursor: pointer;\n",
              "      display: none;\n",
              "      fill: #1967D2;\n",
              "      height: 32px;\n",
              "      padding: 0 0 0 0;\n",
              "      width: 32px;\n",
              "    }\n",
              "\n",
              "    .colab-df-convert:hover {\n",
              "      background-color: #E2EBFA;\n",
              "      box-shadow: 0px 1px 2px rgba(60, 64, 67, 0.3), 0px 1px 3px 1px rgba(60, 64, 67, 0.15);\n",
              "      fill: #174EA6;\n",
              "    }\n",
              "\n",
              "    [theme=dark] .colab-df-convert {\n",
              "      background-color: #3B4455;\n",
              "      fill: #D2E3FC;\n",
              "    }\n",
              "\n",
              "    [theme=dark] .colab-df-convert:hover {\n",
              "      background-color: #434B5C;\n",
              "      box-shadow: 0px 1px 3px 1px rgba(0, 0, 0, 0.15);\n",
              "      filter: drop-shadow(0px 1px 2px rgba(0, 0, 0, 0.3));\n",
              "      fill: #FFFFFF;\n",
              "    }\n",
              "  </style>\n",
              "\n",
              "      <script>\n",
              "        const buttonEl =\n",
              "          document.querySelector('#df-7eaca98c-3846-4e43-b95d-e93a2df53adf button.colab-df-convert');\n",
              "        buttonEl.style.display =\n",
              "          google.colab.kernel.accessAllowed ? 'block' : 'none';\n",
              "\n",
              "        async function convertToInteractive(key) {\n",
              "          const element = document.querySelector('#df-7eaca98c-3846-4e43-b95d-e93a2df53adf');\n",
              "          const dataTable =\n",
              "            await google.colab.kernel.invokeFunction('convertToInteractive',\n",
              "                                                     [key], {});\n",
              "          if (!dataTable) return;\n",
              "\n",
              "          const docLinkHtml = 'Like what you see? Visit the ' +\n",
              "            '<a target=\"_blank\" href=https://colab.research.google.com/notebooks/data_table.ipynb>data table notebook</a>'\n",
              "            + ' to learn more about interactive tables.';\n",
              "          element.innerHTML = '';\n",
              "          dataTable['output_type'] = 'display_data';\n",
              "          await google.colab.output.renderOutput(dataTable, element);\n",
              "          const docLink = document.createElement('div');\n",
              "          docLink.innerHTML = docLinkHtml;\n",
              "          element.appendChild(docLink);\n",
              "        }\n",
              "      </script>\n",
              "    </div>\n",
              "  </div>\n",
              "  "
            ]
          },
          "metadata": {},
          "execution_count": 26
        }
      ]
    },
    {
      "cell_type": "code",
      "source": [
        "#Speed = Speed.sort_values(by='เดือน', ascending=True)"
      ],
      "metadata": {
        "id": "HNYcv757zMTa"
      },
      "execution_count": 27,
      "outputs": []
    },
    {
      "cell_type": "code",
      "source": [
        "#Speed.sort_values(by='ปี', ascending=True)"
      ],
      "metadata": {
        "id": "-yLpTFLWG4xI"
      },
      "execution_count": 28,
      "outputs": []
    },
    {
      "cell_type": "code",
      "source": [
        "Speed = Speed[['ที่', 'สถานี', 'เดือน/ปี', '1', '2', '3', '4', '5', '6', '7', '8', '9',\n",
        "       '10', '11', '12', '13', '14', '15', '16', '17', '18', '19', '20', '21',\n",
        "       '22', '23', '24', '25', '26', '27', '28', '29', '30', '31',\n",
        "       'เดือน', 'ปี','เฉลี่ย']]"
      ],
      "metadata": {
        "id": "_AoRVFXBHrlD"
      },
      "execution_count": 29,
      "outputs": []
    },
    {
      "cell_type": "markdown",
      "source": [
        "### ทดลอง 1 จังหวัด"
      ],
      "metadata": {
        "id": "9Wx2ANhyMwZt"
      }
    },
    {
      "cell_type": "code",
      "source": [
        "skkc = pd.read_excel('/content/drive/MyDrive/datamining/กรมอุตุ/ความเร็วลม/Copy of จ.ขอนแก่น.xlsx',sheet_name='Sheet1',skiprows=3)"
      ],
      "metadata": {
        "id": "i2SndFxbMNoi"
      },
      "execution_count": 31,
      "outputs": []
    },
    {
      "cell_type": "code",
      "source": [
        "skkc = skkc.rename(columns={ 'วันที่':'1','Unnamed: 4':'2', 'Unnamed: 5':'3',\n",
        "       'Unnamed: 6':'4', 'Unnamed: 7':'5', 'Unnamed: 8':'6', 'Unnamed: 9':'7', 'Unnamed: 10':'8',\n",
        "       'Unnamed: 11':'9', 'Unnamed: 12':'10', 'Unnamed: 13':'11', 'Unnamed: 14':'12',\n",
        "       'Unnamed: 15':'13', 'Unnamed: 16':'14', 'Unnamed: 17':'15', 'Unnamed: 18':\"16\",\n",
        "       'Unnamed: 19':'17', 'Unnamed: 20':'18', 'Unnamed: 21':'19', 'Unnamed: 22':'20',\n",
        "       'Unnamed: 23':'21', 'Unnamed: 24':'22', 'Unnamed: 25':'23', 'Unnamed: 26':'24',\n",
        "       'Unnamed: 27':'25', 'Unnamed: 28':'26', 'Unnamed: 29':'27', 'Unnamed: 30':'28',\n",
        "       'Unnamed: 31':'29', 'Unnamed: 32':'30', 'Unnamed: 33':'31'})\n",
        "skkc = skkc.iloc[1:]"
      ],
      "metadata": {
        "id": "kQwLn1IyMSru"
      },
      "execution_count": 32,
      "outputs": []
    },
    {
      "cell_type": "code",
      "source": [
        "skkc['เดือน'] = skkc['เดือน/ปี'].dt.month\n",
        "skkc['ปี'] = skkc['เดือน/ปี'].dt.year\n",
        "skkc.head()"
      ],
      "metadata": {
        "id": "4bHWZx4RMbJA",
        "colab": {
          "base_uri": "https://localhost:8080/",
          "height": 235
        },
        "outputId": "9440ba21-c143-4994-a582-2766e96ae0fa"
      },
      "execution_count": 71,
      "outputs": [
        {
          "output_type": "execute_result",
          "data": {
            "text/plain": [
              "   ที่                  สถานี   เดือน/ปี    1    2    3    4    5    6    7  \\\n",
              "1  1    353301-เลย สกษ. จ.เลย 2011-10-01  3.0  2.0  3.0  2.0  2.0  3.0  4.0   \n",
              "2  2    353301-เลย สกษ. จ.เลย 2011-11-01  4.0  5.0  3.0  3.0  5.0  2.0  3.0   \n",
              "3  3    353301-เลย สกษ. จ.เลย 2011-12-01  3.0  4.0  4.0  4.0  4.0  4.0  4.0   \n",
              "4  1    353301-เลย สกษ. จ.เลย 2012-01-01  4.0  2.0  1.0  4.0  4.0  2.0  4.0   \n",
              "5  2    353301-เลย สกษ. จ.เลย 2012-02-01  2.0  2.0  3.0  2.0  3.0  1.0  2.0   \n",
              "\n",
              "   ...   25   26   27   28   29   30   31  เดือน    ปี    เฉลี่ย  \n",
              "1  ...  5.0  5.0  5.0  4.0  6.0  4.0  5.0     10  2011  3.354839  \n",
              "2  ...  5.0  5.0  3.0  1.0  3.0  3.0    -     11  2011  3.466667  \n",
              "3  ...  7.0  6.0  5.0  4.0  4.0  6.0  5.0     12  2011  4.806452  \n",
              "4  ...  4.0  2.0  2.0  1.0  3.0  4.0  4.0      1  2012  3.129032  \n",
              "5  ...  3.0  2.0  4.0  3.0  3.0  3.0    -      2  2012  2.566667  \n",
              "\n",
              "[5 rows x 37 columns]"
            ],
            "text/html": [
              "\n",
              "  <div id=\"df-996c1431-c8ba-439c-a65d-308e8aa1c6ef\">\n",
              "    <div class=\"colab-df-container\">\n",
              "      <div>\n",
              "<style scoped>\n",
              "    .dataframe tbody tr th:only-of-type {\n",
              "        vertical-align: middle;\n",
              "    }\n",
              "\n",
              "    .dataframe tbody tr th {\n",
              "        vertical-align: top;\n",
              "    }\n",
              "\n",
              "    .dataframe thead th {\n",
              "        text-align: right;\n",
              "    }\n",
              "</style>\n",
              "<table border=\"1\" class=\"dataframe\">\n",
              "  <thead>\n",
              "    <tr style=\"text-align: right;\">\n",
              "      <th></th>\n",
              "      <th>ที่</th>\n",
              "      <th>สถานี</th>\n",
              "      <th>เดือน/ปี</th>\n",
              "      <th>1</th>\n",
              "      <th>2</th>\n",
              "      <th>3</th>\n",
              "      <th>4</th>\n",
              "      <th>5</th>\n",
              "      <th>6</th>\n",
              "      <th>7</th>\n",
              "      <th>...</th>\n",
              "      <th>25</th>\n",
              "      <th>26</th>\n",
              "      <th>27</th>\n",
              "      <th>28</th>\n",
              "      <th>29</th>\n",
              "      <th>30</th>\n",
              "      <th>31</th>\n",
              "      <th>เดือน</th>\n",
              "      <th>ปี</th>\n",
              "      <th>เฉลี่ย</th>\n",
              "    </tr>\n",
              "  </thead>\n",
              "  <tbody>\n",
              "    <tr>\n",
              "      <th>1</th>\n",
              "      <td>1</td>\n",
              "      <td>353301-เลย สกษ. จ.เลย</td>\n",
              "      <td>2011-10-01</td>\n",
              "      <td>3.0</td>\n",
              "      <td>2.0</td>\n",
              "      <td>3.0</td>\n",
              "      <td>2.0</td>\n",
              "      <td>2.0</td>\n",
              "      <td>3.0</td>\n",
              "      <td>4.0</td>\n",
              "      <td>...</td>\n",
              "      <td>5.0</td>\n",
              "      <td>5.0</td>\n",
              "      <td>5.0</td>\n",
              "      <td>4.0</td>\n",
              "      <td>6.0</td>\n",
              "      <td>4.0</td>\n",
              "      <td>5.0</td>\n",
              "      <td>10</td>\n",
              "      <td>2011</td>\n",
              "      <td>3.354839</td>\n",
              "    </tr>\n",
              "    <tr>\n",
              "      <th>2</th>\n",
              "      <td>2</td>\n",
              "      <td>353301-เลย สกษ. จ.เลย</td>\n",
              "      <td>2011-11-01</td>\n",
              "      <td>4.0</td>\n",
              "      <td>5.0</td>\n",
              "      <td>3.0</td>\n",
              "      <td>3.0</td>\n",
              "      <td>5.0</td>\n",
              "      <td>2.0</td>\n",
              "      <td>3.0</td>\n",
              "      <td>...</td>\n",
              "      <td>5.0</td>\n",
              "      <td>5.0</td>\n",
              "      <td>3.0</td>\n",
              "      <td>1.0</td>\n",
              "      <td>3.0</td>\n",
              "      <td>3.0</td>\n",
              "      <td>-</td>\n",
              "      <td>11</td>\n",
              "      <td>2011</td>\n",
              "      <td>3.466667</td>\n",
              "    </tr>\n",
              "    <tr>\n",
              "      <th>3</th>\n",
              "      <td>3</td>\n",
              "      <td>353301-เลย สกษ. จ.เลย</td>\n",
              "      <td>2011-12-01</td>\n",
              "      <td>3.0</td>\n",
              "      <td>4.0</td>\n",
              "      <td>4.0</td>\n",
              "      <td>4.0</td>\n",
              "      <td>4.0</td>\n",
              "      <td>4.0</td>\n",
              "      <td>4.0</td>\n",
              "      <td>...</td>\n",
              "      <td>7.0</td>\n",
              "      <td>6.0</td>\n",
              "      <td>5.0</td>\n",
              "      <td>4.0</td>\n",
              "      <td>4.0</td>\n",
              "      <td>6.0</td>\n",
              "      <td>5.0</td>\n",
              "      <td>12</td>\n",
              "      <td>2011</td>\n",
              "      <td>4.806452</td>\n",
              "    </tr>\n",
              "    <tr>\n",
              "      <th>4</th>\n",
              "      <td>1</td>\n",
              "      <td>353301-เลย สกษ. จ.เลย</td>\n",
              "      <td>2012-01-01</td>\n",
              "      <td>4.0</td>\n",
              "      <td>2.0</td>\n",
              "      <td>1.0</td>\n",
              "      <td>4.0</td>\n",
              "      <td>4.0</td>\n",
              "      <td>2.0</td>\n",
              "      <td>4.0</td>\n",
              "      <td>...</td>\n",
              "      <td>4.0</td>\n",
              "      <td>2.0</td>\n",
              "      <td>2.0</td>\n",
              "      <td>1.0</td>\n",
              "      <td>3.0</td>\n",
              "      <td>4.0</td>\n",
              "      <td>4.0</td>\n",
              "      <td>1</td>\n",
              "      <td>2012</td>\n",
              "      <td>3.129032</td>\n",
              "    </tr>\n",
              "    <tr>\n",
              "      <th>5</th>\n",
              "      <td>2</td>\n",
              "      <td>353301-เลย สกษ. จ.เลย</td>\n",
              "      <td>2012-02-01</td>\n",
              "      <td>2.0</td>\n",
              "      <td>2.0</td>\n",
              "      <td>3.0</td>\n",
              "      <td>2.0</td>\n",
              "      <td>3.0</td>\n",
              "      <td>1.0</td>\n",
              "      <td>2.0</td>\n",
              "      <td>...</td>\n",
              "      <td>3.0</td>\n",
              "      <td>2.0</td>\n",
              "      <td>4.0</td>\n",
              "      <td>3.0</td>\n",
              "      <td>3.0</td>\n",
              "      <td>3.0</td>\n",
              "      <td>-</td>\n",
              "      <td>2</td>\n",
              "      <td>2012</td>\n",
              "      <td>2.566667</td>\n",
              "    </tr>\n",
              "  </tbody>\n",
              "</table>\n",
              "<p>5 rows × 37 columns</p>\n",
              "</div>\n",
              "      <button class=\"colab-df-convert\" onclick=\"convertToInteractive('df-996c1431-c8ba-439c-a65d-308e8aa1c6ef')\"\n",
              "              title=\"Convert this dataframe to an interactive table.\"\n",
              "              style=\"display:none;\">\n",
              "        \n",
              "  <svg xmlns=\"http://www.w3.org/2000/svg\" height=\"24px\"viewBox=\"0 0 24 24\"\n",
              "       width=\"24px\">\n",
              "    <path d=\"M0 0h24v24H0V0z\" fill=\"none\"/>\n",
              "    <path d=\"M18.56 5.44l.94 2.06.94-2.06 2.06-.94-2.06-.94-.94-2.06-.94 2.06-2.06.94zm-11 1L8.5 8.5l.94-2.06 2.06-.94-2.06-.94L8.5 2.5l-.94 2.06-2.06.94zm10 10l.94 2.06.94-2.06 2.06-.94-2.06-.94-.94-2.06-.94 2.06-2.06.94z\"/><path d=\"M17.41 7.96l-1.37-1.37c-.4-.4-.92-.59-1.43-.59-.52 0-1.04.2-1.43.59L10.3 9.45l-7.72 7.72c-.78.78-.78 2.05 0 2.83L4 21.41c.39.39.9.59 1.41.59.51 0 1.02-.2 1.41-.59l7.78-7.78 2.81-2.81c.8-.78.8-2.07 0-2.86zM5.41 20L4 18.59l7.72-7.72 1.47 1.35L5.41 20z\"/>\n",
              "  </svg>\n",
              "      </button>\n",
              "      \n",
              "  <style>\n",
              "    .colab-df-container {\n",
              "      display:flex;\n",
              "      flex-wrap:wrap;\n",
              "      gap: 12px;\n",
              "    }\n",
              "\n",
              "    .colab-df-convert {\n",
              "      background-color: #E8F0FE;\n",
              "      border: none;\n",
              "      border-radius: 50%;\n",
              "      cursor: pointer;\n",
              "      display: none;\n",
              "      fill: #1967D2;\n",
              "      height: 32px;\n",
              "      padding: 0 0 0 0;\n",
              "      width: 32px;\n",
              "    }\n",
              "\n",
              "    .colab-df-convert:hover {\n",
              "      background-color: #E2EBFA;\n",
              "      box-shadow: 0px 1px 2px rgba(60, 64, 67, 0.3), 0px 1px 3px 1px rgba(60, 64, 67, 0.15);\n",
              "      fill: #174EA6;\n",
              "    }\n",
              "\n",
              "    [theme=dark] .colab-df-convert {\n",
              "      background-color: #3B4455;\n",
              "      fill: #D2E3FC;\n",
              "    }\n",
              "\n",
              "    [theme=dark] .colab-df-convert:hover {\n",
              "      background-color: #434B5C;\n",
              "      box-shadow: 0px 1px 3px 1px rgba(0, 0, 0, 0.15);\n",
              "      filter: drop-shadow(0px 1px 2px rgba(0, 0, 0, 0.3));\n",
              "      fill: #FFFFFF;\n",
              "    }\n",
              "  </style>\n",
              "\n",
              "      <script>\n",
              "        const buttonEl =\n",
              "          document.querySelector('#df-996c1431-c8ba-439c-a65d-308e8aa1c6ef button.colab-df-convert');\n",
              "        buttonEl.style.display =\n",
              "          google.colab.kernel.accessAllowed ? 'block' : 'none';\n",
              "\n",
              "        async function convertToInteractive(key) {\n",
              "          const element = document.querySelector('#df-996c1431-c8ba-439c-a65d-308e8aa1c6ef');\n",
              "          const dataTable =\n",
              "            await google.colab.kernel.invokeFunction('convertToInteractive',\n",
              "                                                     [key], {});\n",
              "          if (!dataTable) return;\n",
              "\n",
              "          const docLinkHtml = 'Like what you see? Visit the ' +\n",
              "            '<a target=\"_blank\" href=https://colab.research.google.com/notebooks/data_table.ipynb>data table notebook</a>'\n",
              "            + ' to learn more about interactive tables.';\n",
              "          element.innerHTML = '';\n",
              "          dataTable['output_type'] = 'display_data';\n",
              "          await google.colab.output.renderOutput(dataTable, element);\n",
              "          const docLink = document.createElement('div');\n",
              "          docLink.innerHTML = docLinkHtml;\n",
              "          element.appendChild(docLink);\n",
              "        }\n",
              "      </script>\n",
              "    </div>\n",
              "  </div>\n",
              "  "
            ]
          },
          "metadata": {},
          "execution_count": 71
        }
      ]
    },
    {
      "cell_type": "code",
      "source": [
        "skkc = skkc[['ที่', 'สถานี', 'เดือน/ปี', '1', '2', '3', '4', '5', '6', '7', '8', '9',\n",
        "       '10', '11', '12', '13', '14', '15', '16', '17', '18', '19', '20', '21',\n",
        "       '22', '23', '24', '25', '26', '27', '28', '29', '30', '31',\n",
        "       'เดือน', 'ปี','เฉลี่ย']] #ให้ columns เฉลี่ยไปอยู่สุดท้าย"
      ],
      "metadata": {
        "id": "y0N-Od0HMp5B"
      },
      "execution_count": 34,
      "outputs": []
    },
    {
      "cell_type": "code",
      "source": [
        "skkc1 =skkc.iloc[0:,3:34]\n",
        "skkc2 = skkc.iloc[0:,3:36]"
      ],
      "metadata": {
        "id": "lJqHiGrHqlfA"
      },
      "execution_count": 51,
      "outputs": []
    },
    {
      "cell_type": "code",
      "source": [
        "skkc2.head()"
      ],
      "metadata": {
        "colab": {
          "base_uri": "https://localhost:8080/",
          "height": 235
        },
        "id": "LGnM1WkjOqqs",
        "outputId": "628b6d52-7c1b-40df-95eb-af174d8f503f"
      },
      "execution_count": 81,
      "outputs": [
        {
          "output_type": "execute_result",
          "data": {
            "text/plain": [
              "     1    2    3    4    5    6    7    8    9   10  ...   24   25   26   27  \\\n",
              "1  3.0  2.0  3.0  2.0  2.0  3.0  4.0  3.0  4.0  3.0  ...  3.0  5.0  5.0  5.0   \n",
              "2  4.0  5.0  3.0  3.0  5.0  2.0  3.0  3.0  2.0  3.0  ...  6.0  5.0  5.0  3.0   \n",
              "3  3.0  4.0  4.0  4.0  4.0  4.0  4.0  4.0  5.0  6.0  ...  6.0  7.0  6.0  5.0   \n",
              "4  4.0  2.0  1.0  4.0  4.0  2.0  4.0  6.0  5.0  5.0  ...  3.0  4.0  2.0  2.0   \n",
              "5  2.0  2.0  3.0  2.0  3.0  1.0  2.0  3.0  4.0  1.0  ...  2.0  3.0  2.0  4.0   \n",
              "\n",
              "    28   29   30   31  เดือน    ปี  \n",
              "1  4.0  6.0  4.0  5.0     10  2011  \n",
              "2  1.0  3.0  3.0    -     11  2011  \n",
              "3  4.0  4.0  6.0  5.0     12  2011  \n",
              "4  1.0  3.0  4.0  4.0      1  2012  \n",
              "5  3.0  3.0  3.0    -      2  2012  \n",
              "\n",
              "[5 rows x 33 columns]"
            ],
            "text/html": [
              "\n",
              "  <div id=\"df-e41f7a6f-ab6a-42e8-9046-8bb1d395e2fb\">\n",
              "    <div class=\"colab-df-container\">\n",
              "      <div>\n",
              "<style scoped>\n",
              "    .dataframe tbody tr th:only-of-type {\n",
              "        vertical-align: middle;\n",
              "    }\n",
              "\n",
              "    .dataframe tbody tr th {\n",
              "        vertical-align: top;\n",
              "    }\n",
              "\n",
              "    .dataframe thead th {\n",
              "        text-align: right;\n",
              "    }\n",
              "</style>\n",
              "<table border=\"1\" class=\"dataframe\">\n",
              "  <thead>\n",
              "    <tr style=\"text-align: right;\">\n",
              "      <th></th>\n",
              "      <th>1</th>\n",
              "      <th>2</th>\n",
              "      <th>3</th>\n",
              "      <th>4</th>\n",
              "      <th>5</th>\n",
              "      <th>6</th>\n",
              "      <th>7</th>\n",
              "      <th>8</th>\n",
              "      <th>9</th>\n",
              "      <th>10</th>\n",
              "      <th>...</th>\n",
              "      <th>24</th>\n",
              "      <th>25</th>\n",
              "      <th>26</th>\n",
              "      <th>27</th>\n",
              "      <th>28</th>\n",
              "      <th>29</th>\n",
              "      <th>30</th>\n",
              "      <th>31</th>\n",
              "      <th>เดือน</th>\n",
              "      <th>ปี</th>\n",
              "    </tr>\n",
              "  </thead>\n",
              "  <tbody>\n",
              "    <tr>\n",
              "      <th>1</th>\n",
              "      <td>3.0</td>\n",
              "      <td>2.0</td>\n",
              "      <td>3.0</td>\n",
              "      <td>2.0</td>\n",
              "      <td>2.0</td>\n",
              "      <td>3.0</td>\n",
              "      <td>4.0</td>\n",
              "      <td>3.0</td>\n",
              "      <td>4.0</td>\n",
              "      <td>3.0</td>\n",
              "      <td>...</td>\n",
              "      <td>3.0</td>\n",
              "      <td>5.0</td>\n",
              "      <td>5.0</td>\n",
              "      <td>5.0</td>\n",
              "      <td>4.0</td>\n",
              "      <td>6.0</td>\n",
              "      <td>4.0</td>\n",
              "      <td>5.0</td>\n",
              "      <td>10</td>\n",
              "      <td>2011</td>\n",
              "    </tr>\n",
              "    <tr>\n",
              "      <th>2</th>\n",
              "      <td>4.0</td>\n",
              "      <td>5.0</td>\n",
              "      <td>3.0</td>\n",
              "      <td>3.0</td>\n",
              "      <td>5.0</td>\n",
              "      <td>2.0</td>\n",
              "      <td>3.0</td>\n",
              "      <td>3.0</td>\n",
              "      <td>2.0</td>\n",
              "      <td>3.0</td>\n",
              "      <td>...</td>\n",
              "      <td>6.0</td>\n",
              "      <td>5.0</td>\n",
              "      <td>5.0</td>\n",
              "      <td>3.0</td>\n",
              "      <td>1.0</td>\n",
              "      <td>3.0</td>\n",
              "      <td>3.0</td>\n",
              "      <td>-</td>\n",
              "      <td>11</td>\n",
              "      <td>2011</td>\n",
              "    </tr>\n",
              "    <tr>\n",
              "      <th>3</th>\n",
              "      <td>3.0</td>\n",
              "      <td>4.0</td>\n",
              "      <td>4.0</td>\n",
              "      <td>4.0</td>\n",
              "      <td>4.0</td>\n",
              "      <td>4.0</td>\n",
              "      <td>4.0</td>\n",
              "      <td>4.0</td>\n",
              "      <td>5.0</td>\n",
              "      <td>6.0</td>\n",
              "      <td>...</td>\n",
              "      <td>6.0</td>\n",
              "      <td>7.0</td>\n",
              "      <td>6.0</td>\n",
              "      <td>5.0</td>\n",
              "      <td>4.0</td>\n",
              "      <td>4.0</td>\n",
              "      <td>6.0</td>\n",
              "      <td>5.0</td>\n",
              "      <td>12</td>\n",
              "      <td>2011</td>\n",
              "    </tr>\n",
              "    <tr>\n",
              "      <th>4</th>\n",
              "      <td>4.0</td>\n",
              "      <td>2.0</td>\n",
              "      <td>1.0</td>\n",
              "      <td>4.0</td>\n",
              "      <td>4.0</td>\n",
              "      <td>2.0</td>\n",
              "      <td>4.0</td>\n",
              "      <td>6.0</td>\n",
              "      <td>5.0</td>\n",
              "      <td>5.0</td>\n",
              "      <td>...</td>\n",
              "      <td>3.0</td>\n",
              "      <td>4.0</td>\n",
              "      <td>2.0</td>\n",
              "      <td>2.0</td>\n",
              "      <td>1.0</td>\n",
              "      <td>3.0</td>\n",
              "      <td>4.0</td>\n",
              "      <td>4.0</td>\n",
              "      <td>1</td>\n",
              "      <td>2012</td>\n",
              "    </tr>\n",
              "    <tr>\n",
              "      <th>5</th>\n",
              "      <td>2.0</td>\n",
              "      <td>2.0</td>\n",
              "      <td>3.0</td>\n",
              "      <td>2.0</td>\n",
              "      <td>3.0</td>\n",
              "      <td>1.0</td>\n",
              "      <td>2.0</td>\n",
              "      <td>3.0</td>\n",
              "      <td>4.0</td>\n",
              "      <td>1.0</td>\n",
              "      <td>...</td>\n",
              "      <td>2.0</td>\n",
              "      <td>3.0</td>\n",
              "      <td>2.0</td>\n",
              "      <td>4.0</td>\n",
              "      <td>3.0</td>\n",
              "      <td>3.0</td>\n",
              "      <td>3.0</td>\n",
              "      <td>-</td>\n",
              "      <td>2</td>\n",
              "      <td>2012</td>\n",
              "    </tr>\n",
              "  </tbody>\n",
              "</table>\n",
              "<p>5 rows × 33 columns</p>\n",
              "</div>\n",
              "      <button class=\"colab-df-convert\" onclick=\"convertToInteractive('df-e41f7a6f-ab6a-42e8-9046-8bb1d395e2fb')\"\n",
              "              title=\"Convert this dataframe to an interactive table.\"\n",
              "              style=\"display:none;\">\n",
              "        \n",
              "  <svg xmlns=\"http://www.w3.org/2000/svg\" height=\"24px\"viewBox=\"0 0 24 24\"\n",
              "       width=\"24px\">\n",
              "    <path d=\"M0 0h24v24H0V0z\" fill=\"none\"/>\n",
              "    <path d=\"M18.56 5.44l.94 2.06.94-2.06 2.06-.94-2.06-.94-.94-2.06-.94 2.06-2.06.94zm-11 1L8.5 8.5l.94-2.06 2.06-.94-2.06-.94L8.5 2.5l-.94 2.06-2.06.94zm10 10l.94 2.06.94-2.06 2.06-.94-2.06-.94-.94-2.06-.94 2.06-2.06.94z\"/><path d=\"M17.41 7.96l-1.37-1.37c-.4-.4-.92-.59-1.43-.59-.52 0-1.04.2-1.43.59L10.3 9.45l-7.72 7.72c-.78.78-.78 2.05 0 2.83L4 21.41c.39.39.9.59 1.41.59.51 0 1.02-.2 1.41-.59l7.78-7.78 2.81-2.81c.8-.78.8-2.07 0-2.86zM5.41 20L4 18.59l7.72-7.72 1.47 1.35L5.41 20z\"/>\n",
              "  </svg>\n",
              "      </button>\n",
              "      \n",
              "  <style>\n",
              "    .colab-df-container {\n",
              "      display:flex;\n",
              "      flex-wrap:wrap;\n",
              "      gap: 12px;\n",
              "    }\n",
              "\n",
              "    .colab-df-convert {\n",
              "      background-color: #E8F0FE;\n",
              "      border: none;\n",
              "      border-radius: 50%;\n",
              "      cursor: pointer;\n",
              "      display: none;\n",
              "      fill: #1967D2;\n",
              "      height: 32px;\n",
              "      padding: 0 0 0 0;\n",
              "      width: 32px;\n",
              "    }\n",
              "\n",
              "    .colab-df-convert:hover {\n",
              "      background-color: #E2EBFA;\n",
              "      box-shadow: 0px 1px 2px rgba(60, 64, 67, 0.3), 0px 1px 3px 1px rgba(60, 64, 67, 0.15);\n",
              "      fill: #174EA6;\n",
              "    }\n",
              "\n",
              "    [theme=dark] .colab-df-convert {\n",
              "      background-color: #3B4455;\n",
              "      fill: #D2E3FC;\n",
              "    }\n",
              "\n",
              "    [theme=dark] .colab-df-convert:hover {\n",
              "      background-color: #434B5C;\n",
              "      box-shadow: 0px 1px 3px 1px rgba(0, 0, 0, 0.15);\n",
              "      filter: drop-shadow(0px 1px 2px rgba(0, 0, 0, 0.3));\n",
              "      fill: #FFFFFF;\n",
              "    }\n",
              "  </style>\n",
              "\n",
              "      <script>\n",
              "        const buttonEl =\n",
              "          document.querySelector('#df-e41f7a6f-ab6a-42e8-9046-8bb1d395e2fb button.colab-df-convert');\n",
              "        buttonEl.style.display =\n",
              "          google.colab.kernel.accessAllowed ? 'block' : 'none';\n",
              "\n",
              "        async function convertToInteractive(key) {\n",
              "          const element = document.querySelector('#df-e41f7a6f-ab6a-42e8-9046-8bb1d395e2fb');\n",
              "          const dataTable =\n",
              "            await google.colab.kernel.invokeFunction('convertToInteractive',\n",
              "                                                     [key], {});\n",
              "          if (!dataTable) return;\n",
              "\n",
              "          const docLinkHtml = 'Like what you see? Visit the ' +\n",
              "            '<a target=\"_blank\" href=https://colab.research.google.com/notebooks/data_table.ipynb>data table notebook</a>'\n",
              "            + ' to learn more about interactive tables.';\n",
              "          element.innerHTML = '';\n",
              "          dataTable['output_type'] = 'display_data';\n",
              "          await google.colab.output.renderOutput(dataTable, element);\n",
              "          const docLink = document.createElement('div');\n",
              "          docLink.innerHTML = docLinkHtml;\n",
              "          element.appendChild(docLink);\n",
              "        }\n",
              "      </script>\n",
              "    </div>\n",
              "  </div>\n",
              "  "
            ]
          },
          "metadata": {},
          "execution_count": 81
        }
      ]
    },
    {
      "cell_type": "code",
      "source": [
        "skkcl = list()\n",
        "for index, row in skkc2.iterrows():\n",
        "  for i in range(1,32): # เริ่มที่ 1 - 32\n",
        "    #print(f'วันที่ ',i,'เดือนที่ ',row['เดือน'],' ปีที่ ', row['ปี'],'ความเร็วลม -> ',row[i-1]) # [i-1] = -1 เพราะให้เริ่ม 0,31 แทน ในตอนดึงตอลัมน์\n",
        "    #print(row[i-1])\n",
        "    skkcl.append(row[i-1])\n"
      ],
      "metadata": {
        "id": "RAANKOuWYjzb"
      },
      "execution_count": null,
      "outputs": []
    },
    {
      "cell_type": "code",
      "source": [
        "Speed =Speed.reset_index()\n",
        "Speed['ที่'] = Speed['index']\n",
        "del Speed['index']"
      ],
      "metadata": {
        "id": "GoyaKPZxN-Ou"
      },
      "execution_count": 93,
      "outputs": []
    },
    {
      "cell_type": "code",
      "source": [
        "S1 = Speed.iloc[0:,3:34]\n",
        "S2 = Speed.iloc[0:,3:36]"
      ],
      "metadata": {
        "id": "Ud1pERmpSEL5"
      },
      "execution_count": 112,
      "outputs": []
    },
    {
      "cell_type": "code",
      "source": [
        "Sl = list()\n",
        "for index, row in S2.iterrows():\n",
        "  for i in range(0,31): # เริ่มที่ 1 - 32\n",
        "    #print(f'วันที่ ',i,'เดือนที่ ',row['เดือน'],' ปีที่ ', row['ปี'],'ความเร็วลม -> ',row[i-1]) # [i-1] = -1 เพราะให้เริ่ม 0,31 แทน ในตอนดึงตอลัมน์\n",
        "    Sl.append(row[i])\n",
        "    #print(row[i])"
      ],
      "metadata": {
        "id": "MDnn_IhREox_"
      },
      "execution_count": 130,
      "outputs": []
    },
    {
      "cell_type": "code",
      "source": [
        "SI # list ที่เก็บข้อมูลความเร็วของทุกจังหวัดแล้ว"
      ],
      "metadata": {
        "colab": {
          "base_uri": "https://localhost:8080/"
        },
        "id": "oEwnAB36Rjgo",
        "outputId": "437bd782-c6ae-43df-cc3f-92a166c73539"
      },
      "execution_count": 135,
      "outputs": [
        {
          "output_type": "execute_result",
          "data": {
            "text/plain": [
              "8525"
            ]
          },
          "metadata": {},
          "execution_count": 135
        }
      ]
    },
    {
      "cell_type": "markdown",
      "source": [
        "##ความกด(เปอร์เซ็นต์)\n"
      ],
      "metadata": {
        "id": "yZ6TkaPCxYZh"
      }
    },
    {
      "cell_type": "code",
      "source": [
        "pkkc = pd.read_excel('/content/drive/MyDrive/datamining/กรมอุตุ/ความกด(เปอร์เซ็น)/Copy of จ.ขอนแก่น.xlsx',sheet_name='Sheet1',skiprows=3)\n",
        "pnkp = pd.read_excel('/content/drive/MyDrive/datamining/กรมอุตุ/ความกด(เปอร์เซ็น)/Copy of จ.นครพนม.xlsx',sheet_name='Sheet1',skiprows=3)\n",
        "psk  = pd.read_excel('/content/drive/MyDrive/datamining/กรมอุตุ/ความกด(เปอร์เซ็น)/Copy of จ.สกลนคร.xlsx',sheet_name='Sheet1',skiprows=3)\n",
        "pnk  = pd.read_excel('/content/drive/MyDrive/datamining/กรมอุตุ/ความกด(เปอร์เซ็น)/Copy of จ.หนองคาย.xlsx',sheet_name='Sheet1',skiprows=3)\n",
        "pl  = pd.read_excel('/content/drive/MyDrive/datamining/กรมอุตุ/ความกด(เปอร์เซ็น)/Copy of จ.เลย.xlsx',sheet_name='Sheet1',skiprows=3)\n"
      ],
      "metadata": {
        "id": "JjqqKfLyxX1w"
      },
      "execution_count": 37,
      "outputs": []
    },
    {
      "cell_type": "code",
      "source": [
        "pkkc = pkkc.rename(columns={ 'วันที่':'1','Unnamed: 4':'2', 'Unnamed: 5':'3',\n",
        "       'Unnamed: 6':'4', 'Unnamed: 7':'5', 'Unnamed: 8':'6', 'Unnamed: 9':'7', 'Unnamed: 10':'8',\n",
        "       'Unnamed: 11':'9', 'Unnamed: 12':'10', 'Unnamed: 13':'11', 'Unnamed: 14':'12',\n",
        "       'Unnamed: 15':'13', 'Unnamed: 16':'14', 'Unnamed: 17':'15', 'Unnamed: 18':\"16\",\n",
        "       'Unnamed: 19':'17', 'Unnamed: 20':'18', 'Unnamed: 21':'19', 'Unnamed: 22':'20',\n",
        "       'Unnamed: 23':'21', 'Unnamed: 24':'22', 'Unnamed: 25':'23', 'Unnamed: 26':'24',\n",
        "       'Unnamed: 27':'25', 'Unnamed: 28':'26', 'Unnamed: 29':'27', 'Unnamed: 30':'28',\n",
        "       'Unnamed: 31':'29', 'Unnamed: 32':'30', 'Unnamed: 33':'31'})\n",
        "pkkc = pkkc.iloc[1:]\n",
        "pnkp = pnkp.rename(columns={ 'วันที่':'1','Unnamed: 4':'2', 'Unnamed: 5':'3',\n",
        "       'Unnamed: 6':'4', 'Unnamed: 7':'5', 'Unnamed: 8':'6', 'Unnamed: 9':'7', 'Unnamed: 10':'8',\n",
        "       'Unnamed: 11':'9', 'Unnamed: 12':'10', 'Unnamed: 13':'11', 'Unnamed: 14':'12',\n",
        "       'Unnamed: 15':'13', 'Unnamed: 16':'14', 'Unnamed: 17':'15', 'Unnamed: 18':\"16\",\n",
        "       'Unnamed: 19':'17', 'Unnamed: 20':'18', 'Unnamed: 21':'19', 'Unnamed: 22':'20',\n",
        "       'Unnamed: 23':'21', 'Unnamed: 24':'22', 'Unnamed: 25':'23', 'Unnamed: 26':'24',\n",
        "       'Unnamed: 27':'25', 'Unnamed: 28':'26', 'Unnamed: 29':'27', 'Unnamed: 30':'28',\n",
        "       'Unnamed: 31':'29', 'Unnamed: 32':'30', 'Unnamed: 33':'31'})\n",
        "pnkp = pnkp.iloc[1:]\n",
        "psk = psk.rename(columns={ 'วันที่':'1','Unnamed: 4':'2', 'Unnamed: 5':'3',\n",
        "       'Unnamed: 6':'4', 'Unnamed: 7':'5', 'Unnamed: 8':'6', 'Unnamed: 9':'7', 'Unnamed: 10':'8',\n",
        "       'Unnamed: 11':'9', 'Unnamed: 12':'10', 'Unnamed: 13':'11', 'Unnamed: 14':'12',\n",
        "       'Unnamed: 15':'13', 'Unnamed: 16':'14', 'Unnamed: 17':'15', 'Unnamed: 18':\"16\",\n",
        "       'Unnamed: 19':'17', 'Unnamed: 20':'18', 'Unnamed: 21':'19', 'Unnamed: 22':'20',\n",
        "       'Unnamed: 23':'21', 'Unnamed: 24':'22', 'Unnamed: 25':'23', 'Unnamed: 26':'24',\n",
        "       'Unnamed: 27':'25', 'Unnamed: 28':'26', 'Unnamed: 29':'27', 'Unnamed: 30':'28',\n",
        "       'Unnamed: 31':'29', 'Unnamed: 32':'30', 'Unnamed: 33':'31'})\n",
        "psk = psk.iloc[1:]\n",
        "pnk = pnk.rename(columns={ 'วันที่':'1','Unnamed: 4':'2', 'Unnamed: 5':'3',\n",
        "       'Unnamed: 6':'4', 'Unnamed: 7':'5', 'Unnamed: 8':'6', 'Unnamed: 9':'7', 'Unnamed: 10':'8',\n",
        "       'Unnamed: 11':'9', 'Unnamed: 12':'10', 'Unnamed: 13':'11', 'Unnamed: 14':'12',\n",
        "       'Unnamed: 15':'13', 'Unnamed: 16':'14', 'Unnamed: 17':'15', 'Unnamed: 18':\"16\",\n",
        "       'Unnamed: 19':'17', 'Unnamed: 20':'18', 'Unnamed: 21':'19', 'Unnamed: 22':'20',\n",
        "       'Unnamed: 23':'21', 'Unnamed: 24':'22', 'Unnamed: 25':'23', 'Unnamed: 26':'24',\n",
        "       'Unnamed: 27':'25', 'Unnamed: 28':'26', 'Unnamed: 29':'27', 'Unnamed: 30':'28',\n",
        "       'Unnamed: 31':'29', 'Unnamed: 32':'30', 'Unnamed: 33':'31'})\n",
        "pnk = pnk.iloc[1:]\n",
        "pl = pl.rename(columns={ 'วันที่':'1','Unnamed: 4':'2', 'Unnamed: 5':'3',\n",
        "       'Unnamed: 6':'4', 'Unnamed: 7':'5', 'Unnamed: 8':'6', 'Unnamed: 9':'7', 'Unnamed: 10':'8',\n",
        "       'Unnamed: 11':'9', 'Unnamed: 12':'10', 'Unnamed: 13':'11', 'Unnamed: 14':'12',\n",
        "       'Unnamed: 15':'13', 'Unnamed: 16':'14', 'Unnamed: 17':'15', 'Unnamed: 18':\"16\",\n",
        "       'Unnamed: 19':'17', 'Unnamed: 20':'18', 'Unnamed: 21':'19', 'Unnamed: 22':'20',\n",
        "       'Unnamed: 23':'21', 'Unnamed: 24':'22', 'Unnamed: 25':'23', 'Unnamed: 26':'24',\n",
        "       'Unnamed: 27':'25', 'Unnamed: 28':'26', 'Unnamed: 29':'27', 'Unnamed: 30':'28',\n",
        "       'Unnamed: 31':'29', 'Unnamed: 32':'30', 'Unnamed: 33':'31'})\n",
        "pl = pl.iloc[1:]"
      ],
      "metadata": {
        "id": "mZqCzHFDhjFE"
      },
      "execution_count": 38,
      "outputs": []
    },
    {
      "cell_type": "markdown",
      "source": [
        "###Concat df"
      ],
      "metadata": {
        "id": "gsIvlF4miUc5"
      }
    },
    {
      "cell_type": "code",
      "source": [
        "Pre = pd.concat([pkkc, pnkp, psk, pnk, pl])\n",
        "Pre.shape"
      ],
      "metadata": {
        "colab": {
          "base_uri": "https://localhost:8080/"
        },
        "id": "oqoXJxuCiUJn",
        "outputId": "574e17f1-4b1d-4fe8-8a83-0d1bf7149279"
      },
      "execution_count": 39,
      "outputs": [
        {
          "output_type": "execute_result",
          "data": {
            "text/plain": [
              "(275, 35)"
            ]
          },
          "metadata": {},
          "execution_count": 39
        }
      ]
    },
    {
      "cell_type": "markdown",
      "source": [
        "### ดึงเดือน กับ ปี แยกคอลัมน์"
      ],
      "metadata": {
        "id": "rJ87JOV3i2Li"
      }
    },
    {
      "cell_type": "code",
      "source": [
        "Pre['เดือน'] = Pre['เดือน/ปี'].dt.month\n",
        "Pre['ปี'] = Pre['เดือน/ปี'].dt.year\n",
        "Pre.head()"
      ],
      "metadata": {
        "colab": {
          "base_uri": "https://localhost:8080/",
          "height": 366
        },
        "id": "TpJupnz4ijA1",
        "outputId": "394f2c39-cf1c-4f80-e86e-48e0b4d97f8f"
      },
      "execution_count": 40,
      "outputs": [
        {
          "output_type": "execute_result",
          "data": {
            "text/plain": [
              "   ที่                     สถานี   เดือน/ปี        1        2        3  \\\n",
              "1  1    352201-หนองคาย จ.หนองคาย 2011-10-01  1005.47  1006.65  1007.49   \n",
              "2  2    352201-หนองคาย จ.หนองคาย 2011-11-01  1011.79  1010.83  1010.74   \n",
              "3  3    352201-หนองคาย จ.หนองคาย 2011-12-01  1011.43  1012.57  1012.28   \n",
              "4  1    352201-หนองคาย จ.หนองคาย 2012-01-01  1015.67  1014.11  1012.91   \n",
              "5  2    352201-หนองคาย จ.หนองคาย 2012-02-01  1013.26  1012.92  1013.61   \n",
              "\n",
              "         4        5        6        7  ...       25       26       27  \\\n",
              "1  1008.28  1009.88  1011.36  1011.17  ...  1011.34  1011.84  1011.89   \n",
              "2  1010.71  1010.09  1009.24  1008.03  ...  1013.95  1012.35  1011.31   \n",
              "3  1012.97  1013.09  1012.03  1012.05  ...  1018.56  1018.65  1016.88   \n",
              "4  1014.06  1015.51  1015.88  1017.72  ...  1011.65  1012.56  1010.76   \n",
              "5  1013.18  1011.26  1008.80  1008.16  ...  1004.80  1005.08  1006.57   \n",
              "\n",
              "        28       29       30       31       เฉลี่ย  เดือน    ปี  \n",
              "1  1012.29  1011.67   1011.3  1011.52  1010.350645     10  2011  \n",
              "2  1009.59  1010.13  1010.47        -  1011.717000     11  2011  \n",
              "3  1016.05  1014.98  1015.53   1016.4  1016.470000     12  2011  \n",
              "4  1010.26  1010.69  1012.34  1014.52  1012.484516      1  2012  \n",
              "5  1005.96  1006.53  1010.47        -  1009.749667      2  2012  \n",
              "\n",
              "[5 rows x 37 columns]"
            ],
            "text/html": [
              "\n",
              "  <div id=\"df-0583d390-8b14-4e8d-a500-cbba746a6240\">\n",
              "    <div class=\"colab-df-container\">\n",
              "      <div>\n",
              "<style scoped>\n",
              "    .dataframe tbody tr th:only-of-type {\n",
              "        vertical-align: middle;\n",
              "    }\n",
              "\n",
              "    .dataframe tbody tr th {\n",
              "        vertical-align: top;\n",
              "    }\n",
              "\n",
              "    .dataframe thead th {\n",
              "        text-align: right;\n",
              "    }\n",
              "</style>\n",
              "<table border=\"1\" class=\"dataframe\">\n",
              "  <thead>\n",
              "    <tr style=\"text-align: right;\">\n",
              "      <th></th>\n",
              "      <th>ที่</th>\n",
              "      <th>สถานี</th>\n",
              "      <th>เดือน/ปี</th>\n",
              "      <th>1</th>\n",
              "      <th>2</th>\n",
              "      <th>3</th>\n",
              "      <th>4</th>\n",
              "      <th>5</th>\n",
              "      <th>6</th>\n",
              "      <th>7</th>\n",
              "      <th>...</th>\n",
              "      <th>25</th>\n",
              "      <th>26</th>\n",
              "      <th>27</th>\n",
              "      <th>28</th>\n",
              "      <th>29</th>\n",
              "      <th>30</th>\n",
              "      <th>31</th>\n",
              "      <th>เฉลี่ย</th>\n",
              "      <th>เดือน</th>\n",
              "      <th>ปี</th>\n",
              "    </tr>\n",
              "  </thead>\n",
              "  <tbody>\n",
              "    <tr>\n",
              "      <th>1</th>\n",
              "      <td>1</td>\n",
              "      <td>352201-หนองคาย จ.หนองคาย</td>\n",
              "      <td>2011-10-01</td>\n",
              "      <td>1005.47</td>\n",
              "      <td>1006.65</td>\n",
              "      <td>1007.49</td>\n",
              "      <td>1008.28</td>\n",
              "      <td>1009.88</td>\n",
              "      <td>1011.36</td>\n",
              "      <td>1011.17</td>\n",
              "      <td>...</td>\n",
              "      <td>1011.34</td>\n",
              "      <td>1011.84</td>\n",
              "      <td>1011.89</td>\n",
              "      <td>1012.29</td>\n",
              "      <td>1011.67</td>\n",
              "      <td>1011.3</td>\n",
              "      <td>1011.52</td>\n",
              "      <td>1010.350645</td>\n",
              "      <td>10</td>\n",
              "      <td>2011</td>\n",
              "    </tr>\n",
              "    <tr>\n",
              "      <th>2</th>\n",
              "      <td>2</td>\n",
              "      <td>352201-หนองคาย จ.หนองคาย</td>\n",
              "      <td>2011-11-01</td>\n",
              "      <td>1011.79</td>\n",
              "      <td>1010.83</td>\n",
              "      <td>1010.74</td>\n",
              "      <td>1010.71</td>\n",
              "      <td>1010.09</td>\n",
              "      <td>1009.24</td>\n",
              "      <td>1008.03</td>\n",
              "      <td>...</td>\n",
              "      <td>1013.95</td>\n",
              "      <td>1012.35</td>\n",
              "      <td>1011.31</td>\n",
              "      <td>1009.59</td>\n",
              "      <td>1010.13</td>\n",
              "      <td>1010.47</td>\n",
              "      <td>-</td>\n",
              "      <td>1011.717000</td>\n",
              "      <td>11</td>\n",
              "      <td>2011</td>\n",
              "    </tr>\n",
              "    <tr>\n",
              "      <th>3</th>\n",
              "      <td>3</td>\n",
              "      <td>352201-หนองคาย จ.หนองคาย</td>\n",
              "      <td>2011-12-01</td>\n",
              "      <td>1011.43</td>\n",
              "      <td>1012.57</td>\n",
              "      <td>1012.28</td>\n",
              "      <td>1012.97</td>\n",
              "      <td>1013.09</td>\n",
              "      <td>1012.03</td>\n",
              "      <td>1012.05</td>\n",
              "      <td>...</td>\n",
              "      <td>1018.56</td>\n",
              "      <td>1018.65</td>\n",
              "      <td>1016.88</td>\n",
              "      <td>1016.05</td>\n",
              "      <td>1014.98</td>\n",
              "      <td>1015.53</td>\n",
              "      <td>1016.4</td>\n",
              "      <td>1016.470000</td>\n",
              "      <td>12</td>\n",
              "      <td>2011</td>\n",
              "    </tr>\n",
              "    <tr>\n",
              "      <th>4</th>\n",
              "      <td>1</td>\n",
              "      <td>352201-หนองคาย จ.หนองคาย</td>\n",
              "      <td>2012-01-01</td>\n",
              "      <td>1015.67</td>\n",
              "      <td>1014.11</td>\n",
              "      <td>1012.91</td>\n",
              "      <td>1014.06</td>\n",
              "      <td>1015.51</td>\n",
              "      <td>1015.88</td>\n",
              "      <td>1017.72</td>\n",
              "      <td>...</td>\n",
              "      <td>1011.65</td>\n",
              "      <td>1012.56</td>\n",
              "      <td>1010.76</td>\n",
              "      <td>1010.26</td>\n",
              "      <td>1010.69</td>\n",
              "      <td>1012.34</td>\n",
              "      <td>1014.52</td>\n",
              "      <td>1012.484516</td>\n",
              "      <td>1</td>\n",
              "      <td>2012</td>\n",
              "    </tr>\n",
              "    <tr>\n",
              "      <th>5</th>\n",
              "      <td>2</td>\n",
              "      <td>352201-หนองคาย จ.หนองคาย</td>\n",
              "      <td>2012-02-01</td>\n",
              "      <td>1013.26</td>\n",
              "      <td>1012.92</td>\n",
              "      <td>1013.61</td>\n",
              "      <td>1013.18</td>\n",
              "      <td>1011.26</td>\n",
              "      <td>1008.80</td>\n",
              "      <td>1008.16</td>\n",
              "      <td>...</td>\n",
              "      <td>1004.80</td>\n",
              "      <td>1005.08</td>\n",
              "      <td>1006.57</td>\n",
              "      <td>1005.96</td>\n",
              "      <td>1006.53</td>\n",
              "      <td>1010.47</td>\n",
              "      <td>-</td>\n",
              "      <td>1009.749667</td>\n",
              "      <td>2</td>\n",
              "      <td>2012</td>\n",
              "    </tr>\n",
              "  </tbody>\n",
              "</table>\n",
              "<p>5 rows × 37 columns</p>\n",
              "</div>\n",
              "      <button class=\"colab-df-convert\" onclick=\"convertToInteractive('df-0583d390-8b14-4e8d-a500-cbba746a6240')\"\n",
              "              title=\"Convert this dataframe to an interactive table.\"\n",
              "              style=\"display:none;\">\n",
              "        \n",
              "  <svg xmlns=\"http://www.w3.org/2000/svg\" height=\"24px\"viewBox=\"0 0 24 24\"\n",
              "       width=\"24px\">\n",
              "    <path d=\"M0 0h24v24H0V0z\" fill=\"none\"/>\n",
              "    <path d=\"M18.56 5.44l.94 2.06.94-2.06 2.06-.94-2.06-.94-.94-2.06-.94 2.06-2.06.94zm-11 1L8.5 8.5l.94-2.06 2.06-.94-2.06-.94L8.5 2.5l-.94 2.06-2.06.94zm10 10l.94 2.06.94-2.06 2.06-.94-2.06-.94-.94-2.06-.94 2.06-2.06.94z\"/><path d=\"M17.41 7.96l-1.37-1.37c-.4-.4-.92-.59-1.43-.59-.52 0-1.04.2-1.43.59L10.3 9.45l-7.72 7.72c-.78.78-.78 2.05 0 2.83L4 21.41c.39.39.9.59 1.41.59.51 0 1.02-.2 1.41-.59l7.78-7.78 2.81-2.81c.8-.78.8-2.07 0-2.86zM5.41 20L4 18.59l7.72-7.72 1.47 1.35L5.41 20z\"/>\n",
              "  </svg>\n",
              "      </button>\n",
              "      \n",
              "  <style>\n",
              "    .colab-df-container {\n",
              "      display:flex;\n",
              "      flex-wrap:wrap;\n",
              "      gap: 12px;\n",
              "    }\n",
              "\n",
              "    .colab-df-convert {\n",
              "      background-color: #E8F0FE;\n",
              "      border: none;\n",
              "      border-radius: 50%;\n",
              "      cursor: pointer;\n",
              "      display: none;\n",
              "      fill: #1967D2;\n",
              "      height: 32px;\n",
              "      padding: 0 0 0 0;\n",
              "      width: 32px;\n",
              "    }\n",
              "\n",
              "    .colab-df-convert:hover {\n",
              "      background-color: #E2EBFA;\n",
              "      box-shadow: 0px 1px 2px rgba(60, 64, 67, 0.3), 0px 1px 3px 1px rgba(60, 64, 67, 0.15);\n",
              "      fill: #174EA6;\n",
              "    }\n",
              "\n",
              "    [theme=dark] .colab-df-convert {\n",
              "      background-color: #3B4455;\n",
              "      fill: #D2E3FC;\n",
              "    }\n",
              "\n",
              "    [theme=dark] .colab-df-convert:hover {\n",
              "      background-color: #434B5C;\n",
              "      box-shadow: 0px 1px 3px 1px rgba(0, 0, 0, 0.15);\n",
              "      filter: drop-shadow(0px 1px 2px rgba(0, 0, 0, 0.3));\n",
              "      fill: #FFFFFF;\n",
              "    }\n",
              "  </style>\n",
              "\n",
              "      <script>\n",
              "        const buttonEl =\n",
              "          document.querySelector('#df-0583d390-8b14-4e8d-a500-cbba746a6240 button.colab-df-convert');\n",
              "        buttonEl.style.display =\n",
              "          google.colab.kernel.accessAllowed ? 'block' : 'none';\n",
              "\n",
              "        async function convertToInteractive(key) {\n",
              "          const element = document.querySelector('#df-0583d390-8b14-4e8d-a500-cbba746a6240');\n",
              "          const dataTable =\n",
              "            await google.colab.kernel.invokeFunction('convertToInteractive',\n",
              "                                                     [key], {});\n",
              "          if (!dataTable) return;\n",
              "\n",
              "          const docLinkHtml = 'Like what you see? Visit the ' +\n",
              "            '<a target=\"_blank\" href=https://colab.research.google.com/notebooks/data_table.ipynb>data table notebook</a>'\n",
              "            + ' to learn more about interactive tables.';\n",
              "          element.innerHTML = '';\n",
              "          dataTable['output_type'] = 'display_data';\n",
              "          await google.colab.output.renderOutput(dataTable, element);\n",
              "          const docLink = document.createElement('div');\n",
              "          docLink.innerHTML = docLinkHtml;\n",
              "          element.appendChild(docLink);\n",
              "        }\n",
              "      </script>\n",
              "    </div>\n",
              "  </div>\n",
              "  "
            ]
          },
          "metadata": {},
          "execution_count": 40
        }
      ]
    },
    {
      "cell_type": "code",
      "source": [
        "Pre = Pre[['ที่', 'สถานี', 'เดือน/ปี', '1', '2', '3', '4', '5', '6', '7', '8', '9',\n",
        "       '10', '11', '12', '13', '14', '15', '16', '17', '18', '19', '20', '21',\n",
        "       '22', '23', '24', '25', '26', '27', '28', '29', '30', '31',\n",
        "       'เดือน', 'ปี','เฉลี่ย']]"
      ],
      "metadata": {
        "id": "z78gKBJAi4Qz"
      },
      "execution_count": 41,
      "outputs": []
    },
    {
      "cell_type": "markdown",
      "source": [
        "###ทดลอง 1 จังหวัด"
      ],
      "metadata": {
        "id": "xFu4xfUrz00A"
      }
    },
    {
      "cell_type": "code",
      "source": [
        "pkkc = pd.read_excel('/content/drive/MyDrive/datamining/กรมอุตุ/ความกด(เปอร์เซ็น)/Copy of จ.ขอนแก่น.xlsx',sheet_name='Sheet1',skiprows=3).rename(columns={ 'วันที่':'1','Unnamed: 4':'2', 'Unnamed: 5':'3',\n",
        "       'Unnamed: 6':'4', 'Unnamed: 7':'5', 'Unnamed: 8':'6', 'Unnamed: 9':'7', 'Unnamed: 10':'8',\n",
        "       'Unnamed: 11':'9', 'Unnamed: 12':'10', 'Unnamed: 13':'11', 'Unnamed: 14':'12',\n",
        "       'Unnamed: 15':'13', 'Unnamed: 16':'14', 'Unnamed: 17':'15', 'Unnamed: 18':\"16\",\n",
        "       'Unnamed: 19':'17', 'Unnamed: 20':'18', 'Unnamed: 21':'19', 'Unnamed: 22':'20',\n",
        "       'Unnamed: 23':'21', 'Unnamed: 24':'22', 'Unnamed: 25':'23', 'Unnamed: 26':'24',\n",
        "       'Unnamed: 27':'25', 'Unnamed: 28':'26', 'Unnamed: 29':'27', 'Unnamed: 30':'28',\n",
        "       'Unnamed: 31':'29', 'Unnamed: 32':'30', 'Unnamed: 33':'31'})\n",
        "pkkc = pkkc.iloc[1:]\n",
        "pkkc['เดือน'] = pkkc['เดือน/ปี'].dt.month\n",
        "pkkc['ปี'] = pkkc['เดือน/ปี'].dt.year\n",
        "pkkc.head()"
      ],
      "metadata": {
        "colab": {
          "base_uri": "https://localhost:8080/",
          "height": 366
        },
        "id": "1XwllVEAz3FB",
        "outputId": "07bcf974-5350-4bc7-fe3d-25797048505e"
      },
      "execution_count": 42,
      "outputs": [
        {
          "output_type": "execute_result",
          "data": {
            "text/plain": [
              "   ที่                     สถานี   เดือน/ปี        1        2        3  \\\n",
              "1  1    352201-หนองคาย จ.หนองคาย 2011-10-01  1005.47  1006.65  1007.49   \n",
              "2  2    352201-หนองคาย จ.หนองคาย 2011-11-01  1011.79  1010.83  1010.74   \n",
              "3  3    352201-หนองคาย จ.หนองคาย 2011-12-01  1011.43  1012.57  1012.28   \n",
              "4  1    352201-หนองคาย จ.หนองคาย 2012-01-01  1015.67  1014.11  1012.91   \n",
              "5  2    352201-หนองคาย จ.หนองคาย 2012-02-01  1013.26  1012.92  1013.61   \n",
              "\n",
              "         4        5        6        7  ...       25       26       27  \\\n",
              "1  1008.28  1009.88  1011.36  1011.17  ...  1011.34  1011.84  1011.89   \n",
              "2  1010.71  1010.09  1009.24  1008.03  ...  1013.95  1012.35  1011.31   \n",
              "3  1012.97  1013.09  1012.03  1012.05  ...  1018.56  1018.65  1016.88   \n",
              "4  1014.06  1015.51  1015.88  1017.72  ...  1011.65  1012.56  1010.76   \n",
              "5  1013.18  1011.26  1008.80  1008.16  ...  1004.80  1005.08  1006.57   \n",
              "\n",
              "        28       29       30       31       เฉลี่ย  เดือน    ปี  \n",
              "1  1012.29  1011.67   1011.3  1011.52  1010.350645     10  2011  \n",
              "2  1009.59  1010.13  1010.47        -  1011.717000     11  2011  \n",
              "3  1016.05  1014.98  1015.53   1016.4  1016.470000     12  2011  \n",
              "4  1010.26  1010.69  1012.34  1014.52  1012.484516      1  2012  \n",
              "5  1005.96  1006.53  1010.47        -  1009.749667      2  2012  \n",
              "\n",
              "[5 rows x 37 columns]"
            ],
            "text/html": [
              "\n",
              "  <div id=\"df-8e35f4ac-1b56-434b-be14-d8a88a07b92b\">\n",
              "    <div class=\"colab-df-container\">\n",
              "      <div>\n",
              "<style scoped>\n",
              "    .dataframe tbody tr th:only-of-type {\n",
              "        vertical-align: middle;\n",
              "    }\n",
              "\n",
              "    .dataframe tbody tr th {\n",
              "        vertical-align: top;\n",
              "    }\n",
              "\n",
              "    .dataframe thead th {\n",
              "        text-align: right;\n",
              "    }\n",
              "</style>\n",
              "<table border=\"1\" class=\"dataframe\">\n",
              "  <thead>\n",
              "    <tr style=\"text-align: right;\">\n",
              "      <th></th>\n",
              "      <th>ที่</th>\n",
              "      <th>สถานี</th>\n",
              "      <th>เดือน/ปี</th>\n",
              "      <th>1</th>\n",
              "      <th>2</th>\n",
              "      <th>3</th>\n",
              "      <th>4</th>\n",
              "      <th>5</th>\n",
              "      <th>6</th>\n",
              "      <th>7</th>\n",
              "      <th>...</th>\n",
              "      <th>25</th>\n",
              "      <th>26</th>\n",
              "      <th>27</th>\n",
              "      <th>28</th>\n",
              "      <th>29</th>\n",
              "      <th>30</th>\n",
              "      <th>31</th>\n",
              "      <th>เฉลี่ย</th>\n",
              "      <th>เดือน</th>\n",
              "      <th>ปี</th>\n",
              "    </tr>\n",
              "  </thead>\n",
              "  <tbody>\n",
              "    <tr>\n",
              "      <th>1</th>\n",
              "      <td>1</td>\n",
              "      <td>352201-หนองคาย จ.หนองคาย</td>\n",
              "      <td>2011-10-01</td>\n",
              "      <td>1005.47</td>\n",
              "      <td>1006.65</td>\n",
              "      <td>1007.49</td>\n",
              "      <td>1008.28</td>\n",
              "      <td>1009.88</td>\n",
              "      <td>1011.36</td>\n",
              "      <td>1011.17</td>\n",
              "      <td>...</td>\n",
              "      <td>1011.34</td>\n",
              "      <td>1011.84</td>\n",
              "      <td>1011.89</td>\n",
              "      <td>1012.29</td>\n",
              "      <td>1011.67</td>\n",
              "      <td>1011.3</td>\n",
              "      <td>1011.52</td>\n",
              "      <td>1010.350645</td>\n",
              "      <td>10</td>\n",
              "      <td>2011</td>\n",
              "    </tr>\n",
              "    <tr>\n",
              "      <th>2</th>\n",
              "      <td>2</td>\n",
              "      <td>352201-หนองคาย จ.หนองคาย</td>\n",
              "      <td>2011-11-01</td>\n",
              "      <td>1011.79</td>\n",
              "      <td>1010.83</td>\n",
              "      <td>1010.74</td>\n",
              "      <td>1010.71</td>\n",
              "      <td>1010.09</td>\n",
              "      <td>1009.24</td>\n",
              "      <td>1008.03</td>\n",
              "      <td>...</td>\n",
              "      <td>1013.95</td>\n",
              "      <td>1012.35</td>\n",
              "      <td>1011.31</td>\n",
              "      <td>1009.59</td>\n",
              "      <td>1010.13</td>\n",
              "      <td>1010.47</td>\n",
              "      <td>-</td>\n",
              "      <td>1011.717000</td>\n",
              "      <td>11</td>\n",
              "      <td>2011</td>\n",
              "    </tr>\n",
              "    <tr>\n",
              "      <th>3</th>\n",
              "      <td>3</td>\n",
              "      <td>352201-หนองคาย จ.หนองคาย</td>\n",
              "      <td>2011-12-01</td>\n",
              "      <td>1011.43</td>\n",
              "      <td>1012.57</td>\n",
              "      <td>1012.28</td>\n",
              "      <td>1012.97</td>\n",
              "      <td>1013.09</td>\n",
              "      <td>1012.03</td>\n",
              "      <td>1012.05</td>\n",
              "      <td>...</td>\n",
              "      <td>1018.56</td>\n",
              "      <td>1018.65</td>\n",
              "      <td>1016.88</td>\n",
              "      <td>1016.05</td>\n",
              "      <td>1014.98</td>\n",
              "      <td>1015.53</td>\n",
              "      <td>1016.4</td>\n",
              "      <td>1016.470000</td>\n",
              "      <td>12</td>\n",
              "      <td>2011</td>\n",
              "    </tr>\n",
              "    <tr>\n",
              "      <th>4</th>\n",
              "      <td>1</td>\n",
              "      <td>352201-หนองคาย จ.หนองคาย</td>\n",
              "      <td>2012-01-01</td>\n",
              "      <td>1015.67</td>\n",
              "      <td>1014.11</td>\n",
              "      <td>1012.91</td>\n",
              "      <td>1014.06</td>\n",
              "      <td>1015.51</td>\n",
              "      <td>1015.88</td>\n",
              "      <td>1017.72</td>\n",
              "      <td>...</td>\n",
              "      <td>1011.65</td>\n",
              "      <td>1012.56</td>\n",
              "      <td>1010.76</td>\n",
              "      <td>1010.26</td>\n",
              "      <td>1010.69</td>\n",
              "      <td>1012.34</td>\n",
              "      <td>1014.52</td>\n",
              "      <td>1012.484516</td>\n",
              "      <td>1</td>\n",
              "      <td>2012</td>\n",
              "    </tr>\n",
              "    <tr>\n",
              "      <th>5</th>\n",
              "      <td>2</td>\n",
              "      <td>352201-หนองคาย จ.หนองคาย</td>\n",
              "      <td>2012-02-01</td>\n",
              "      <td>1013.26</td>\n",
              "      <td>1012.92</td>\n",
              "      <td>1013.61</td>\n",
              "      <td>1013.18</td>\n",
              "      <td>1011.26</td>\n",
              "      <td>1008.80</td>\n",
              "      <td>1008.16</td>\n",
              "      <td>...</td>\n",
              "      <td>1004.80</td>\n",
              "      <td>1005.08</td>\n",
              "      <td>1006.57</td>\n",
              "      <td>1005.96</td>\n",
              "      <td>1006.53</td>\n",
              "      <td>1010.47</td>\n",
              "      <td>-</td>\n",
              "      <td>1009.749667</td>\n",
              "      <td>2</td>\n",
              "      <td>2012</td>\n",
              "    </tr>\n",
              "  </tbody>\n",
              "</table>\n",
              "<p>5 rows × 37 columns</p>\n",
              "</div>\n",
              "      <button class=\"colab-df-convert\" onclick=\"convertToInteractive('df-8e35f4ac-1b56-434b-be14-d8a88a07b92b')\"\n",
              "              title=\"Convert this dataframe to an interactive table.\"\n",
              "              style=\"display:none;\">\n",
              "        \n",
              "  <svg xmlns=\"http://www.w3.org/2000/svg\" height=\"24px\"viewBox=\"0 0 24 24\"\n",
              "       width=\"24px\">\n",
              "    <path d=\"M0 0h24v24H0V0z\" fill=\"none\"/>\n",
              "    <path d=\"M18.56 5.44l.94 2.06.94-2.06 2.06-.94-2.06-.94-.94-2.06-.94 2.06-2.06.94zm-11 1L8.5 8.5l.94-2.06 2.06-.94-2.06-.94L8.5 2.5l-.94 2.06-2.06.94zm10 10l.94 2.06.94-2.06 2.06-.94-2.06-.94-.94-2.06-.94 2.06-2.06.94z\"/><path d=\"M17.41 7.96l-1.37-1.37c-.4-.4-.92-.59-1.43-.59-.52 0-1.04.2-1.43.59L10.3 9.45l-7.72 7.72c-.78.78-.78 2.05 0 2.83L4 21.41c.39.39.9.59 1.41.59.51 0 1.02-.2 1.41-.59l7.78-7.78 2.81-2.81c.8-.78.8-2.07 0-2.86zM5.41 20L4 18.59l7.72-7.72 1.47 1.35L5.41 20z\"/>\n",
              "  </svg>\n",
              "      </button>\n",
              "      \n",
              "  <style>\n",
              "    .colab-df-container {\n",
              "      display:flex;\n",
              "      flex-wrap:wrap;\n",
              "      gap: 12px;\n",
              "    }\n",
              "\n",
              "    .colab-df-convert {\n",
              "      background-color: #E8F0FE;\n",
              "      border: none;\n",
              "      border-radius: 50%;\n",
              "      cursor: pointer;\n",
              "      display: none;\n",
              "      fill: #1967D2;\n",
              "      height: 32px;\n",
              "      padding: 0 0 0 0;\n",
              "      width: 32px;\n",
              "    }\n",
              "\n",
              "    .colab-df-convert:hover {\n",
              "      background-color: #E2EBFA;\n",
              "      box-shadow: 0px 1px 2px rgba(60, 64, 67, 0.3), 0px 1px 3px 1px rgba(60, 64, 67, 0.15);\n",
              "      fill: #174EA6;\n",
              "    }\n",
              "\n",
              "    [theme=dark] .colab-df-convert {\n",
              "      background-color: #3B4455;\n",
              "      fill: #D2E3FC;\n",
              "    }\n",
              "\n",
              "    [theme=dark] .colab-df-convert:hover {\n",
              "      background-color: #434B5C;\n",
              "      box-shadow: 0px 1px 3px 1px rgba(0, 0, 0, 0.15);\n",
              "      filter: drop-shadow(0px 1px 2px rgba(0, 0, 0, 0.3));\n",
              "      fill: #FFFFFF;\n",
              "    }\n",
              "  </style>\n",
              "\n",
              "      <script>\n",
              "        const buttonEl =\n",
              "          document.querySelector('#df-8e35f4ac-1b56-434b-be14-d8a88a07b92b button.colab-df-convert');\n",
              "        buttonEl.style.display =\n",
              "          google.colab.kernel.accessAllowed ? 'block' : 'none';\n",
              "\n",
              "        async function convertToInteractive(key) {\n",
              "          const element = document.querySelector('#df-8e35f4ac-1b56-434b-be14-d8a88a07b92b');\n",
              "          const dataTable =\n",
              "            await google.colab.kernel.invokeFunction('convertToInteractive',\n",
              "                                                     [key], {});\n",
              "          if (!dataTable) return;\n",
              "\n",
              "          const docLinkHtml = 'Like what you see? Visit the ' +\n",
              "            '<a target=\"_blank\" href=https://colab.research.google.com/notebooks/data_table.ipynb>data table notebook</a>'\n",
              "            + ' to learn more about interactive tables.';\n",
              "          element.innerHTML = '';\n",
              "          dataTable['output_type'] = 'display_data';\n",
              "          await google.colab.output.renderOutput(dataTable, element);\n",
              "          const docLink = document.createElement('div');\n",
              "          docLink.innerHTML = docLinkHtml;\n",
              "          element.appendChild(docLink);\n",
              "        }\n",
              "      </script>\n",
              "    </div>\n",
              "  </div>\n",
              "  "
            ]
          },
          "metadata": {},
          "execution_count": 42
        }
      ]
    },
    {
      "cell_type": "code",
      "source": [
        "pkkc1 = pkkc.iloc[0:,3:34]\n",
        "pkkc2 = pkkc.iloc[0:,3:37]"
      ],
      "metadata": {
        "id": "cJscoOxx0K7n"
      },
      "execution_count": 43,
      "outputs": []
    },
    {
      "cell_type": "code",
      "source": [
        "for index, row in pkkc2.iterrows():\n",
        "  for i in range(1,32):\n",
        "    #print(f'วันที่ ',i,'เดือนที่ ',row['เดือน'],' ปีที่ ', row['ปี'],'ความกด -> ',row[i-1])"
      ],
      "metadata": {
        "colab": {
          "base_uri": "https://localhost:8080/",
          "height": 132
        },
        "id": "pZOEmiyp0OG_",
        "outputId": "5634759b-d6ea-4647-95a0-ddf1813d3c07"
      },
      "execution_count": 44,
      "outputs": [
        {
          "output_type": "error",
          "ename": "SyntaxError",
          "evalue": "ignored",
          "traceback": [
            "\u001b[0;36m  File \u001b[0;32m\"<ipython-input-44-40bbb802a18f>\"\u001b[0;36m, line \u001b[0;32m3\u001b[0m\n\u001b[0;31m    #print(f'วันที่ ',i,'เดือนที่ ',row['เดือน'],' ปีที่ ', row['ปี'],'ความกด -> ',row[i-1])\u001b[0m\n\u001b[0m                                                                                            ^\u001b[0m\n\u001b[0;31mSyntaxError\u001b[0m\u001b[0;31m:\u001b[0m unexpected EOF while parsing\n"
          ]
        }
      ]
    },
    {
      "cell_type": "markdown",
      "source": [
        "##อุณหภูมิตุ้ม"
      ],
      "metadata": {
        "id": "E-Y1k0B0yqCv"
      }
    },
    {
      "cell_type": "code",
      "source": [
        "tkkc = pd.read_excel('/content/drive/MyDrive/datamining/กรมอุตุ/อุณหภูมิจุดตุ้มแห้ง/Copy of จ.ขอนแก่น.xlsx',sheet_name='Sheet1',skiprows=3)\n",
        "tnkp = pd.read_excel('/content/drive/MyDrive/datamining/กรมอุตุ/อุณหภูมิจุดตุ้มแห้ง/Copy of จ.นครพนม.xlsx',sheet_name='Sheet1',skiprows=3)\n",
        "tsk = pd.read_excel('/content/drive/MyDrive/datamining/กรมอุตุ/อุณหภูมิจุดตุ้มแห้ง/Copy of จ.สกล.xlsx',sheet_name='Sheet1',skiprows=3)\n",
        "tnk = pd.read_excel('/content/drive/MyDrive/datamining/กรมอุตุ/อุณหภูมิจุดตุ้มแห้ง/Copy of จ.หนองคาย.xlsx',sheet_name='Sheet1',skiprows=3)\n",
        "tl = pd.read_excel('/content/drive/MyDrive/datamining/กรมอุตุ/อุณหภูมิจุดตุ้มแห้ง/Copy of จ.เลย.xlsx',sheet_name='Sheet1',skiprows=3)\n"
      ],
      "metadata": {
        "id": "1u712rf_yyvc"
      },
      "execution_count": null,
      "outputs": []
    },
    {
      "cell_type": "code",
      "source": [
        "tkkc = tkkc.rename(columns={ 'วันที่':'1','Unnamed: 4':'2', 'Unnamed: 5':'3',\n",
        "       'Unnamed: 6':'4', 'Unnamed: 7':'5', 'Unnamed: 8':'6', 'Unnamed: 9':'7', 'Unnamed: 10':'8',\n",
        "       'Unnamed: 11':'9', 'Unnamed: 12':'10', 'Unnamed: 13':'11', 'Unnamed: 14':'12',\n",
        "       'Unnamed: 15':'13', 'Unnamed: 16':'14', 'Unnamed: 17':'15', 'Unnamed: 18':\"16\",\n",
        "       'Unnamed: 19':'17', 'Unnamed: 20':'18', 'Unnamed: 21':'19', 'Unnamed: 22':'20',\n",
        "       'Unnamed: 23':'21', 'Unnamed: 24':'22', 'Unnamed: 25':'23', 'Unnamed: 26':'24',\n",
        "       'Unnamed: 27':'25', 'Unnamed: 28':'26', 'Unnamed: 29':'27', 'Unnamed: 30':'28',\n",
        "       'Unnamed: 31':'29', 'Unnamed: 32':'30', 'Unnamed: 33':'31'})\n",
        "tkkc = tkkc.iloc[1:]\n",
        "tnkp = tnkp.rename(columns={ 'วันที่':'1','Unnamed: 4':'2', 'Unnamed: 5':'3',\n",
        "       'Unnamed: 6':'4', 'Unnamed: 7':'5', 'Unnamed: 8':'6', 'Unnamed: 9':'7', 'Unnamed: 10':'8',\n",
        "       'Unnamed: 11':'9', 'Unnamed: 12':'10', 'Unnamed: 13':'11', 'Unnamed: 14':'12',\n",
        "       'Unnamed: 15':'13', 'Unnamed: 16':'14', 'Unnamed: 17':'15', 'Unnamed: 18':\"16\",\n",
        "       'Unnamed: 19':'17', 'Unnamed: 20':'18', 'Unnamed: 21':'19', 'Unnamed: 22':'20',\n",
        "       'Unnamed: 23':'21', 'Unnamed: 24':'22', 'Unnamed: 25':'23', 'Unnamed: 26':'24',\n",
        "       'Unnamed: 27':'25', 'Unnamed: 28':'26', 'Unnamed: 29':'27', 'Unnamed: 30':'28',\n",
        "       'Unnamed: 31':'29', 'Unnamed: 32':'30', 'Unnamed: 33':'31'})\n",
        "tnkp = tnkp.iloc[1:]\n",
        "tsk = tsk.rename(columns={ 'วันที่':'1','Unnamed: 4':'2', 'Unnamed: 5':'3',\n",
        "       'Unnamed: 6':'4', 'Unnamed: 7':'5', 'Unnamed: 8':'6', 'Unnamed: 9':'7', 'Unnamed: 10':'8',\n",
        "       'Unnamed: 11':'9', 'Unnamed: 12':'10', 'Unnamed: 13':'11', 'Unnamed: 14':'12',\n",
        "       'Unnamed: 15':'13', 'Unnamed: 16':'14', 'Unnamed: 17':'15', 'Unnamed: 18':\"16\",\n",
        "       'Unnamed: 19':'17', 'Unnamed: 20':'18', 'Unnamed: 21':'19', 'Unnamed: 22':'20',\n",
        "       'Unnamed: 23':'21', 'Unnamed: 24':'22', 'Unnamed: 25':'23', 'Unnamed: 26':'24',\n",
        "       'Unnamed: 27':'25', 'Unnamed: 28':'26', 'Unnamed: 29':'27', 'Unnamed: 30':'28',\n",
        "       'Unnamed: 31':'29', 'Unnamed: 32':'30', 'Unnamed: 33':'31'})\n",
        "tsk = tsk.iloc[1:]\n",
        "tnk = tnk.rename(columns={ 'วันที่':'1','Unnamed: 4':'2', 'Unnamed: 5':'3',\n",
        "       'Unnamed: 6':'4', 'Unnamed: 7':'5', 'Unnamed: 8':'6', 'Unnamed: 9':'7', 'Unnamed: 10':'8',\n",
        "       'Unnamed: 11':'9', 'Unnamed: 12':'10', 'Unnamed: 13':'11', 'Unnamed: 14':'12',\n",
        "       'Unnamed: 15':'13', 'Unnamed: 16':'14', 'Unnamed: 17':'15', 'Unnamed: 18':\"16\",\n",
        "       'Unnamed: 19':'17', 'Unnamed: 20':'18', 'Unnamed: 21':'19', 'Unnamed: 22':'20',\n",
        "       'Unnamed: 23':'21', 'Unnamed: 24':'22', 'Unnamed: 25':'23', 'Unnamed: 26':'24',\n",
        "       'Unnamed: 27':'25', 'Unnamed: 28':'26', 'Unnamed: 29':'27', 'Unnamed: 30':'28',\n",
        "       'Unnamed: 31':'29', 'Unnamed: 32':'30', 'Unnamed: 33':'31'})\n",
        "tnk = tnk.iloc[1:]\n",
        "tl = tl.rename(columns={ 'วันที่':'1','Unnamed: 4':'2', 'Unnamed: 5':'3',\n",
        "       'Unnamed: 6':'4', 'Unnamed: 7':'5', 'Unnamed: 8':'6', 'Unnamed: 9':'7', 'Unnamed: 10':'8',\n",
        "       'Unnamed: 11':'9', 'Unnamed: 12':'10', 'Unnamed: 13':'11', 'Unnamed: 14':'12',\n",
        "       'Unnamed: 15':'13', 'Unnamed: 16':'14', 'Unnamed: 17':'15', 'Unnamed: 18':\"16\",\n",
        "       'Unnamed: 19':'17', 'Unnamed: 20':'18', 'Unnamed: 21':'19', 'Unnamed: 22':'20',\n",
        "       'Unnamed: 23':'21', 'Unnamed: 24':'22', 'Unnamed: 25':'23', 'Unnamed: 26':'24',\n",
        "       'Unnamed: 27':'25', 'Unnamed: 28':'26', 'Unnamed: 29':'27', 'Unnamed: 30':'28',\n",
        "       'Unnamed: 31':'29', 'Unnamed: 32':'30', 'Unnamed: 33':'31'})\n",
        "tl = tl.iloc[1:]"
      ],
      "metadata": {
        "id": "jpeKMFbgj8Tc"
      },
      "execution_count": null,
      "outputs": []
    },
    {
      "cell_type": "markdown",
      "source": [
        "###Concat df"
      ],
      "metadata": {
        "id": "bBXE51xfkHiU"
      }
    },
    {
      "cell_type": "code",
      "source": [
        "tt = pd.concat([tkkc,tnkp,tsk,tnk,tl])\n",
        "tt.shape"
      ],
      "metadata": {
        "id": "36PAyHLAkLGK"
      },
      "execution_count": null,
      "outputs": []
    },
    {
      "cell_type": "markdown",
      "source": [
        "### ดึงเดือน กับ ปี แยกคอลัมน์"
      ],
      "metadata": {
        "id": "DEke9FgAl_wT"
      }
    },
    {
      "cell_type": "code",
      "source": [
        "tt['เดือน'] = tt['เดือน/ปี'].dt.month\n",
        "tt['ปี'] = tt['เดือน/ปี'].dt.year\n",
        "tt.head()"
      ],
      "metadata": {
        "id": "uGgGKc3Pks08"
      },
      "execution_count": null,
      "outputs": []
    },
    {
      "cell_type": "code",
      "source": [
        "tt = tt[['ที่', 'สถานี', 'เดือน/ปี', '1', '2', '3', '4', '5', '6', '7', '8', '9',\n",
        "       '10', '11', '12', '13', '14', '15', '16', '17', '18', '19', '20', '21',\n",
        "       '22', '23', '24', '25', '26', '27', '28', '29', '30', '31',\n",
        "       'เดือน', 'ปี','เฉลี่ย']]"
      ],
      "metadata": {
        "id": "yo9D4UcFkxEb"
      },
      "execution_count": null,
      "outputs": []
    },
    {
      "cell_type": "markdown",
      "source": [
        "###ทดลอง 1 จังหวัด\n"
      ],
      "metadata": {
        "id": "o7tswL8q0pA7"
      }
    },
    {
      "cell_type": "code",
      "source": [
        "tkkc = pd.read_excel('/content/drive/MyDrive/datamining/กรมอุตุ/อุณหภูมิจุดตุ้มแห้ง/Copy of จ.ขอนแก่น.xlsx',sheet_name='Sheet1',skiprows=3).rename(columns={ 'วันที่':'1','Unnamed: 4':'2', 'Unnamed: 5':'3',\n",
        "       'Unnamed: 6':'4', 'Unnamed: 7':'5', 'Unnamed: 8':'6', 'Unnamed: 9':'7', 'Unnamed: 10':'8',\n",
        "       'Unnamed: 11':'9', 'Unnamed: 12':'10', 'Unnamed: 13':'11', 'Unnamed: 14':'12',\n",
        "       'Unnamed: 15':'13', 'Unnamed: 16':'14', 'Unnamed: 17':'15', 'Unnamed: 18':\"16\",\n",
        "       'Unnamed: 19':'17', 'Unnamed: 20':'18', 'Unnamed: 21':'19', 'Unnamed: 22':'20',\n",
        "       'Unnamed: 23':'21', 'Unnamed: 24':'22', 'Unnamed: 25':'23', 'Unnamed: 26':'24',\n",
        "       'Unnamed: 27':'25', 'Unnamed: 28':'26', 'Unnamed: 29':'27', 'Unnamed: 30':'28',\n",
        "       'Unnamed: 31':'29', 'Unnamed: 32':'30', 'Unnamed: 33':'31'})\n",
        "tkkc = tkkc.iloc[1:]\n",
        "tkkc['เดือน'] = tkkc['เดือน/ปี'].dt.month\n",
        "tkkc['ปี'] = tkkc['เดือน/ปี'].dt.year\n",
        "tkkc1 = tkkc.iloc[0:,3:34]\n",
        "tkkc2 = tkkc.iloc[0:,3:37]\n",
        "for index, row in tkkc2.iterrows():\n",
        "  for i in range(1,32):\n",
        "   #print(f'วันที่ ',i,'เดือนที่ ',row['เดือน'],' ปีที่ ', row['ปี'],'อุณหภูมิตุ้ม -> ',row[i-1],'องศาเซลเซียส')\n"
      ],
      "metadata": {
        "id": "iXQn5-AL0qVq"
      },
      "execution_count": null,
      "outputs": []
    },
    {
      "cell_type": "markdown",
      "source": [
        "##อุณหภูมิจุดน้ำค้าง"
      ],
      "metadata": {
        "id": "t-Cd0EYtzm1t"
      }
    },
    {
      "cell_type": "code",
      "source": [
        "twkkc = pd.read_excel('/content/drive/MyDrive/datamining/กรมอุตุ/อุณหภูมิจุดน้ำค้าง/Copy of จ.ขอนแก่น.xlsx',sheet_name='Sheet1',skiprows=3)\n",
        "twnkp = pd.read_excel('/content/drive/MyDrive/datamining/กรมอุตุ/อุณหภูมิจุดน้ำค้าง/Copy of จ.นครพนม.xlsx',sheet_name='Sheet1',skiprows=3)\n",
        "twsk = pd.read_excel('/content/drive/MyDrive/datamining/กรมอุตุ/อุณหภูมิจุดน้ำค้าง/Copy of จ.สกลนคร.xlsx',sheet_name='Sheet1',skiprows=3)\n",
        "twnk = pd.read_excel('/content/drive/MyDrive/datamining/กรมอุตุ/อุณหภูมิจุดน้ำค้าง/Copy of จ.หนองคาย.xlsx',sheet_name='Sheet1',skiprows=3)\n",
        "twl = pd.read_excel('/content/drive/MyDrive/datamining/กรมอุตุ/อุณหภูมิจุดน้ำค้าง/Copy of จ.เลย.xlsx',sheet_name='Sheet1',skiprows=3)\n"
      ],
      "metadata": {
        "id": "B1SsdQyxztL5"
      },
      "execution_count": null,
      "outputs": []
    },
    {
      "cell_type": "code",
      "source": [
        "twkkc = twkkc.rename(columns={ 'วันที่':'1','Unnamed: 4':'2', 'Unnamed: 5':'3',\n",
        "       'Unnamed: 6':'4', 'Unnamed: 7':'5', 'Unnamed: 8':'6', 'Unnamed: 9':'7', 'Unnamed: 10':'8',\n",
        "       'Unnamed: 11':'9', 'Unnamed: 12':'10', 'Unnamed: 13':'11', 'Unnamed: 14':'12',\n",
        "       'Unnamed: 15':'13', 'Unnamed: 16':'14', 'Unnamed: 17':'15', 'Unnamed: 18':\"16\",\n",
        "       'Unnamed: 19':'17', 'Unnamed: 20':'18', 'Unnamed: 21':'19', 'Unnamed: 22':'20',\n",
        "       'Unnamed: 23':'21', 'Unnamed: 24':'22', 'Unnamed: 25':'23', 'Unnamed: 26':'24',\n",
        "       'Unnamed: 27':'25', 'Unnamed: 28':'26', 'Unnamed: 29':'27', 'Unnamed: 30':'28',\n",
        "       'Unnamed: 31':'29', 'Unnamed: 32':'30', 'Unnamed: 33':'31'})\n",
        "twkkc = twkkc.iloc[1:]\n",
        "twnkp = twnkp.rename(columns={ 'วันที่':'1','Unnamed: 4':'2', 'Unnamed: 5':'3',\n",
        "       'Unnamed: 6':'4', 'Unnamed: 7':'5', 'Unnamed: 8':'6', 'Unnamed: 9':'7', 'Unnamed: 10':'8',\n",
        "       'Unnamed: 11':'9', 'Unnamed: 12':'10', 'Unnamed: 13':'11', 'Unnamed: 14':'12',\n",
        "       'Unnamed: 15':'13', 'Unnamed: 16':'14', 'Unnamed: 17':'15', 'Unnamed: 18':\"16\",\n",
        "       'Unnamed: 19':'17', 'Unnamed: 20':'18', 'Unnamed: 21':'19', 'Unnamed: 22':'20',\n",
        "       'Unnamed: 23':'21', 'Unnamed: 24':'22', 'Unnamed: 25':'23', 'Unnamed: 26':'24',\n",
        "       'Unnamed: 27':'25', 'Unnamed: 28':'26', 'Unnamed: 29':'27', 'Unnamed: 30':'28',\n",
        "       'Unnamed: 31':'29', 'Unnamed: 32':'30', 'Unnamed: 33':'31'})\n",
        "twnkp = twnkp.iloc[1:]\n",
        "twsk = twsk.rename(columns={ 'วันที่':'1','Unnamed: 4':'2', 'Unnamed: 5':'3',\n",
        "       'Unnamed: 6':'4', 'Unnamed: 7':'5', 'Unnamed: 8':'6', 'Unnamed: 9':'7', 'Unnamed: 10':'8',\n",
        "       'Unnamed: 11':'9', 'Unnamed: 12':'10', 'Unnamed: 13':'11', 'Unnamed: 14':'12',\n",
        "       'Unnamed: 15':'13', 'Unnamed: 16':'14', 'Unnamed: 17':'15', 'Unnamed: 18':\"16\",\n",
        "       'Unnamed: 19':'17', 'Unnamed: 20':'18', 'Unnamed: 21':'19', 'Unnamed: 22':'20',\n",
        "       'Unnamed: 23':'21', 'Unnamed: 24':'22', 'Unnamed: 25':'23', 'Unnamed: 26':'24',\n",
        "       'Unnamed: 27':'25', 'Unnamed: 28':'26', 'Unnamed: 29':'27', 'Unnamed: 30':'28',\n",
        "       'Unnamed: 31':'29', 'Unnamed: 32':'30', 'Unnamed: 33':'31'})\n",
        "twsk = twsk.iloc[1:]\n",
        "twnk = twnk.rename(columns={ 'วันที่':'1','Unnamed: 4':'2', 'Unnamed: 5':'3',\n",
        "       'Unnamed: 6':'4', 'Unnamed: 7':'5', 'Unnamed: 8':'6', 'Unnamed: 9':'7', 'Unnamed: 10':'8',\n",
        "       'Unnamed: 11':'9', 'Unnamed: 12':'10', 'Unnamed: 13':'11', 'Unnamed: 14':'12',\n",
        "       'Unnamed: 15':'13', 'Unnamed: 16':'14', 'Unnamed: 17':'15', 'Unnamed: 18':\"16\",\n",
        "       'Unnamed: 19':'17', 'Unnamed: 20':'18', 'Unnamed: 21':'19', 'Unnamed: 22':'20',\n",
        "       'Unnamed: 23':'21', 'Unnamed: 24':'22', 'Unnamed: 25':'23', 'Unnamed: 26':'24',\n",
        "       'Unnamed: 27':'25', 'Unnamed: 28':'26', 'Unnamed: 29':'27', 'Unnamed: 30':'28',\n",
        "       'Unnamed: 31':'29', 'Unnamed: 32':'30', 'Unnamed: 33':'31'})\n",
        "twnk = twnk.iloc[1:]\n",
        "twl = twl.rename(columns={ 'วันที่':'1','Unnamed: 4':'2', 'Unnamed: 5':'3',\n",
        "       'Unnamed: 6':'4', 'Unnamed: 7':'5', 'Unnamed: 8':'6', 'Unnamed: 9':'7', 'Unnamed: 10':'8',\n",
        "       'Unnamed: 11':'9', 'Unnamed: 12':'10', 'Unnamed: 13':'11', 'Unnamed: 14':'12',\n",
        "       'Unnamed: 15':'13', 'Unnamed: 16':'14', 'Unnamed: 17':'15', 'Unnamed: 18':\"16\",\n",
        "       'Unnamed: 19':'17', 'Unnamed: 20':'18', 'Unnamed: 21':'19', 'Unnamed: 22':'20',\n",
        "       'Unnamed: 23':'21', 'Unnamed: 24':'22', 'Unnamed: 25':'23', 'Unnamed: 26':'24',\n",
        "       'Unnamed: 27':'25', 'Unnamed: 28':'26', 'Unnamed: 29':'27', 'Unnamed: 30':'28',\n",
        "       'Unnamed: 31':'29', 'Unnamed: 32':'30', 'Unnamed: 33':'31'})\n",
        "twl = twl.iloc[1:]"
      ],
      "metadata": {
        "id": "lZOWKaavlfv5"
      },
      "execution_count": null,
      "outputs": []
    },
    {
      "cell_type": "markdown",
      "source": [
        "###Concat df"
      ],
      "metadata": {
        "id": "UYeL61o0l8_h"
      }
    },
    {
      "cell_type": "code",
      "source": [
        "tw =  pd.concat([twkkc,twnkp,twsk,twnk,twl])\n",
        "tw.shape"
      ],
      "metadata": {
        "id": "xTxP8a-olqTt"
      },
      "execution_count": null,
      "outputs": []
    },
    {
      "cell_type": "markdown",
      "source": [
        "### ดึงเดือน กับ ปี แยกคอลัมน์"
      ],
      "metadata": {
        "id": "Nqw1Sj4OmAo-"
      }
    },
    {
      "cell_type": "code",
      "source": [
        "tw['เดือน'] = tw['เดือน/ปี'].dt.month\n",
        "tw['ปี'] = tw['เดือน/ปี'].dt.year\n",
        "tw.head()"
      ],
      "metadata": {
        "id": "z5ZXnCSLlxYm"
      },
      "execution_count": null,
      "outputs": []
    },
    {
      "cell_type": "markdown",
      "source": [
        "###ทดลอง 1 จังหวัด"
      ],
      "metadata": {
        "id": "KS-OWAmA1KNB"
      }
    },
    {
      "cell_type": "code",
      "source": [
        "twkkc = pd.read_excel('/content/drive/MyDrive/datamining/กรมอุตุ/อุณหภูมิจุดน้ำค้าง/Copy of จ.ขอนแก่น.xlsx',sheet_name='Sheet1',skiprows=3).rename(columns={ 'วันที่':'1','Unnamed: 4':'2', 'Unnamed: 5':'3',\n",
        "       'Unnamed: 6':'4', 'Unnamed: 7':'5', 'Unnamed: 8':'6', 'Unnamed: 9':'7', 'Unnamed: 10':'8',\n",
        "       'Unnamed: 11':'9', 'Unnamed: 12':'10', 'Unnamed: 13':'11', 'Unnamed: 14':'12',\n",
        "       'Unnamed: 15':'13', 'Unnamed: 16':'14', 'Unnamed: 17':'15', 'Unnamed: 18':\"16\",\n",
        "       'Unnamed: 19':'17', 'Unnamed: 20':'18', 'Unnamed: 21':'19', 'Unnamed: 22':'20',\n",
        "       'Unnamed: 23':'21', 'Unnamed: 24':'22', 'Unnamed: 25':'23', 'Unnamed: 26':'24',\n",
        "       'Unnamed: 27':'25', 'Unnamed: 28':'26', 'Unnamed: 29':'27', 'Unnamed: 30':'28',\n",
        "       'Unnamed: 31':'29', 'Unnamed: 32':'30', 'Unnamed: 33':'31'})\n",
        "twkkc = twkkc.iloc[1:]\n",
        "twkkc['เดือน'] = twkkc['เดือน/ปี'].dt.month\n",
        "twkkc['ปี'] = twkkc['เดือน/ปี'].dt.year\n",
        "twkkc1 = twkkc.iloc[0:,3:34]\n",
        "twkkc2 = twkkc.iloc[0:,3:37]\n",
        "for index, row in twkkc2.iterrows():\n",
        "  for i in range(1,32):\n",
        "    #print(f'วันที่ ',i,'เดือนที่ ',row['เดือน'],' ปีที่ ', row['ปี'],'อุณหภูมิจุดน้ำค้าง -> ',row[i-1],'องศาเซลเซียส')\n"
      ],
      "metadata": {
        "id": "Xf1lkdOA1Lv2"
      },
      "execution_count": null,
      "outputs": []
    },
    {
      "cell_type": "markdown",
      "source": [
        "##อุณหภูมิจุดต่ำสุด"
      ],
      "metadata": {
        "id": "_BXJF4u50NiT"
      }
    },
    {
      "cell_type": "code",
      "source": [
        "tlkkc = pd.read_excel(\"/content/drive/MyDrive/datamining/กรมอุตุ/อุณหภูมิจุดต่ำสุด/Copy of จ.ขอนแก่น.xlsx\",sheet_name='Sheet1',skiprows=3)\n",
        "tlnkp = pd.read_excel(\"/content/drive/MyDrive/datamining/กรมอุตุ/อุณหภูมิจุดต่ำสุด/Copy of จ.นครพนม.xlsx\",sheet_name='Sheet1',skiprows=3)\n",
        "tlsk = pd.read_excel(\"/content/drive/MyDrive/datamining/กรมอุตุ/อุณหภูมิจุดต่ำสุด/Copy of จ.สกล.xlsx\",sheet_name='Sheet1',skiprows=3)\n",
        "tlnk = pd.read_excel(\"/content/drive/MyDrive/datamining/กรมอุตุ/อุณหภูมิจุดต่ำสุด/Copy of จ.หนองคาย.xlsx\",sheet_name='Sheet1',skiprows=3)\n",
        "tll = pd.read_excel(\"/content/drive/MyDrive/datamining/กรมอุตุ/อุณหภูมิจุดต่ำสุด/Copy of จ.เลย.xlsx\",sheet_name='Sheet1',skiprows=3)\n"
      ],
      "metadata": {
        "id": "qbKGWNvt0imm"
      },
      "execution_count": null,
      "outputs": []
    },
    {
      "cell_type": "code",
      "source": [
        "tlkkc = tlkkc.rename(columns={ 'วันที่':'1','Unnamed: 4':'2', 'Unnamed: 5':'3',\n",
        "       'Unnamed: 6':'4', 'Unnamed: 7':'5', 'Unnamed: 8':'6', 'Unnamed: 9':'7', 'Unnamed: 10':'8',\n",
        "       'Unnamed: 11':'9', 'Unnamed: 12':'10', 'Unnamed: 13':'11', 'Unnamed: 14':'12',\n",
        "       'Unnamed: 15':'13', 'Unnamed: 16':'14', 'Unnamed: 17':'15', 'Unnamed: 18':\"16\",\n",
        "       'Unnamed: 19':'17', 'Unnamed: 20':'18', 'Unnamed: 21':'19', 'Unnamed: 22':'20',\n",
        "       'Unnamed: 23':'21', 'Unnamed: 24':'22', 'Unnamed: 25':'23', 'Unnamed: 26':'24',\n",
        "       'Unnamed: 27':'25', 'Unnamed: 28':'26', 'Unnamed: 29':'27', 'Unnamed: 30':'28',\n",
        "       'Unnamed: 31':'29', 'Unnamed: 32':'30', 'Unnamed: 33':'31'})\n",
        "tlkkc = tlkkc.iloc[1:]\n",
        "tlnkp = tlnkp.rename(columns={ 'วันที่':'1','Unnamed: 4':'2', 'Unnamed: 5':'3',\n",
        "       'Unnamed: 6':'4', 'Unnamed: 7':'5', 'Unnamed: 8':'6', 'Unnamed: 9':'7', 'Unnamed: 10':'8',\n",
        "       'Unnamed: 11':'9', 'Unnamed: 12':'10', 'Unnamed: 13':'11', 'Unnamed: 14':'12',\n",
        "       'Unnamed: 15':'13', 'Unnamed: 16':'14', 'Unnamed: 17':'15', 'Unnamed: 18':\"16\",\n",
        "       'Unnamed: 19':'17', 'Unnamed: 20':'18', 'Unnamed: 21':'19', 'Unnamed: 22':'20',\n",
        "       'Unnamed: 23':'21', 'Unnamed: 24':'22', 'Unnamed: 25':'23', 'Unnamed: 26':'24',\n",
        "       'Unnamed: 27':'25', 'Unnamed: 28':'26', 'Unnamed: 29':'27', 'Unnamed: 30':'28',\n",
        "       'Unnamed: 31':'29', 'Unnamed: 32':'30', 'Unnamed: 33':'31'})\n",
        "tlnkp = tlnkp.iloc[1:]\n",
        "tlsk = tlsk.rename(columns={ 'วันที่':'1','Unnamed: 4':'2', 'Unnamed: 5':'3',\n",
        "       'Unnamed: 6':'4', 'Unnamed: 7':'5', 'Unnamed: 8':'6', 'Unnamed: 9':'7', 'Unnamed: 10':'8',\n",
        "       'Unnamed: 11':'9', 'Unnamed: 12':'10', 'Unnamed: 13':'11', 'Unnamed: 14':'12',\n",
        "       'Unnamed: 15':'13', 'Unnamed: 16':'14', 'Unnamed: 17':'15', 'Unnamed: 18':\"16\",\n",
        "       'Unnamed: 19':'17', 'Unnamed: 20':'18', 'Unnamed: 21':'19', 'Unnamed: 22':'20',\n",
        "       'Unnamed: 23':'21', 'Unnamed: 24':'22', 'Unnamed: 25':'23', 'Unnamed: 26':'24',\n",
        "       'Unnamed: 27':'25', 'Unnamed: 28':'26', 'Unnamed: 29':'27', 'Unnamed: 30':'28',\n",
        "       'Unnamed: 31':'29', 'Unnamed: 32':'30', 'Unnamed: 33':'31'})\n",
        "tlsk = tlsk.iloc[1:]\n",
        "tlnk = tlnk.rename(columns={ 'วันที่':'1','Unnamed: 4':'2', 'Unnamed: 5':'3',\n",
        "       'Unnamed: 6':'4', 'Unnamed: 7':'5', 'Unnamed: 8':'6', 'Unnamed: 9':'7', 'Unnamed: 10':'8',\n",
        "       'Unnamed: 11':'9', 'Unnamed: 12':'10', 'Unnamed: 13':'11', 'Unnamed: 14':'12',\n",
        "       'Unnamed: 15':'13', 'Unnamed: 16':'14', 'Unnamed: 17':'15', 'Unnamed: 18':\"16\",\n",
        "       'Unnamed: 19':'17', 'Unnamed: 20':'18', 'Unnamed: 21':'19', 'Unnamed: 22':'20',\n",
        "       'Unnamed: 23':'21', 'Unnamed: 24':'22', 'Unnamed: 25':'23', 'Unnamed: 26':'24',\n",
        "       'Unnamed: 27':'25', 'Unnamed: 28':'26', 'Unnamed: 29':'27', 'Unnamed: 30':'28',\n",
        "       'Unnamed: 31':'29', 'Unnamed: 32':'30', 'Unnamed: 33':'31'})\n",
        "tlnk = tlnk.iloc[1:]\n",
        "tll = tll.rename(columns={ 'วันที่':'1','Unnamed: 4':'2', 'Unnamed: 5':'3',\n",
        "       'Unnamed: 6':'4', 'Unnamed: 7':'5', 'Unnamed: 8':'6', 'Unnamed: 9':'7', 'Unnamed: 10':'8',\n",
        "       'Unnamed: 11':'9', 'Unnamed: 12':'10', 'Unnamed: 13':'11', 'Unnamed: 14':'12',\n",
        "       'Unnamed: 15':'13', 'Unnamed: 16':'14', 'Unnamed: 17':'15', 'Unnamed: 18':\"16\",\n",
        "       'Unnamed: 19':'17', 'Unnamed: 20':'18', 'Unnamed: 21':'19', 'Unnamed: 22':'20',\n",
        "       'Unnamed: 23':'21', 'Unnamed: 24':'22', 'Unnamed: 25':'23', 'Unnamed: 26':'24',\n",
        "       'Unnamed: 27':'25', 'Unnamed: 28':'26', 'Unnamed: 29':'27', 'Unnamed: 30':'28',\n",
        "       'Unnamed: 31':'29', 'Unnamed: 32':'30', 'Unnamed: 33':'31'})\n",
        "tll = tll.iloc[1:]"
      ],
      "metadata": {
        "id": "pYCA6yuJmXXJ"
      },
      "execution_count": null,
      "outputs": []
    },
    {
      "cell_type": "markdown",
      "source": [
        "###Concat df"
      ],
      "metadata": {
        "id": "_TlUgR6hmorY"
      }
    },
    {
      "cell_type": "code",
      "source": [
        "tl =  pd.concat([tlkkc,tlnkp,tlsk,tlnk,tll])\n",
        "tl.shape"
      ],
      "metadata": {
        "id": "Yx-DG6w1mkRE"
      },
      "execution_count": null,
      "outputs": []
    },
    {
      "cell_type": "markdown",
      "source": [
        "### ดึงเดือน กับ ปี แยกคอลัมน์"
      ],
      "metadata": {
        "id": "_MbzdN0Pniy_"
      }
    },
    {
      "cell_type": "code",
      "source": [
        "tl['เดือน'] = tl['เดือน/ปี'].dt.month\n",
        "tl['ปี'] = tl['เดือน/ปี'].dt.year\n",
        "tl.head()"
      ],
      "metadata": {
        "id": "SDAbLa1yneUC"
      },
      "execution_count": null,
      "outputs": []
    },
    {
      "cell_type": "markdown",
      "source": [
        "###ทดลอง 1 จังหวัด"
      ],
      "metadata": {
        "id": "Mrn8cVSP1Xsk"
      }
    },
    {
      "cell_type": "code",
      "source": [
        "tlkkc = pd.read_excel('/content/drive/MyDrive/datamining/กรมอุตุ/อุณหภูมิจุดต่ำสุด/Copy of จ.ขอนแก่น.xlsx',sheet_name='Sheet1',skiprows=3).rename(columns={ 'วันที่':'1','Unnamed: 4':'2', 'Unnamed: 5':'3',\n",
        "       'Unnamed: 6':'4', 'Unnamed: 7':'5', 'Unnamed: 8':'6', 'Unnamed: 9':'7', 'Unnamed: 10':'8',\n",
        "       'Unnamed: 11':'9', 'Unnamed: 12':'10', 'Unnamed: 13':'11', 'Unnamed: 14':'12',\n",
        "       'Unnamed: 15':'13', 'Unnamed: 16':'14', 'Unnamed: 17':'15', 'Unnamed: 18':\"16\",\n",
        "       'Unnamed: 19':'17', 'Unnamed: 20':'18', 'Unnamed: 21':'19', 'Unnamed: 22':'20',\n",
        "       'Unnamed: 23':'21', 'Unnamed: 24':'22', 'Unnamed: 25':'23', 'Unnamed: 26':'24',\n",
        "       'Unnamed: 27':'25', 'Unnamed: 28':'26', 'Unnamed: 29':'27', 'Unnamed: 30':'28',\n",
        "       'Unnamed: 31':'29', 'Unnamed: 32':'30', 'Unnamed: 33':'31'})\n",
        "tlkkc = tlkkc.iloc[1:]\n",
        "tlkkc['เดือน'] = tlkkc['เดือน/ปี'].dt.month\n",
        "tlkkc['ปี'] = tlkkc['เดือน/ปี'].dt.year\n",
        "tlkkc1 = tlkkc.iloc[0:,3:34]\n",
        "tlkkc2 = tlkkc.iloc[0:,3:37]\n",
        "for index, row in tlkkc2.iterrows():\n",
        "  for i in range(1,32):\n",
        "    #print(f'วันที่ ',i,'เดือนที่ ',row['เดือน'],' ปีที่ ', row['ปี'],'อุณหภูมิจุดต่ำสุด -> ',row[i-1],'องศาเซลเซียส')\n"
      ],
      "metadata": {
        "id": "EhR7BnJ41Y9d"
      },
      "execution_count": null,
      "outputs": []
    },
    {
      "cell_type": "markdown",
      "source": [
        "##ความชื้น"
      ],
      "metadata": {
        "id": "cMiaLala1dA7"
      }
    },
    {
      "cell_type": "code",
      "source": [
        "mkkc = pd.read_excel('/content/drive/MyDrive/datamining/กรมอุตุ/ความชื้นสัมพันธ์(เปอร์เซ็น)/Copy of จ.ขอนแก่น.xlsx',sheet_name=\"Sheet1\",skiprows=3)\n",
        "mnkp = pd.read_excel('/content/drive/MyDrive/datamining/กรมอุตุ/ความชื้นสัมพันธ์(เปอร์เซ็น)/Copy of จ.นครพนม.xlsx',sheet_name=\"Sheet1\",skiprows=3)\n",
        "msk = pd.read_excel('/content/drive/MyDrive/datamining/กรมอุตุ/ความชื้นสัมพันธ์(เปอร์เซ็น)/Copy of จ.สกลนคร.xlsx',sheet_name=\"Sheet1\",skiprows=3)\n",
        "mnk = pd.read_excel('/content/drive/MyDrive/datamining/กรมอุตุ/ความชื้นสัมพันธ์(เปอร์เซ็น)/Copy of จ.หนองคาย.xlsx',sheet_name=\"Sheet1\",skiprows=3)\n",
        "ml = pd.read_excel('/content/drive/MyDrive/datamining/กรมอุตุ/ความชื้นสัมพันธ์(เปอร์เซ็น)/Copy of จ.เลย.xlsx',sheet_name=\"Sheet1\",skiprows=3)\n"
      ],
      "metadata": {
        "id": "7eg9bx1R1fc-"
      },
      "execution_count": null,
      "outputs": []
    },
    {
      "cell_type": "code",
      "source": [
        "mkkc = mkkc.rename(columns={ 'วันที่':'1','Unnamed: 4':'2', 'Unnamed: 5':'3',\n",
        "       'Unnamed: 6':'4', 'Unnamed: 7':'5', 'Unnamed: 8':'6', 'Unnamed: 9':'7', 'Unnamed: 10':'8',\n",
        "       'Unnamed: 11':'9', 'Unnamed: 12':'10', 'Unnamed: 13':'11', 'Unnamed: 14':'12',\n",
        "       'Unnamed: 15':'13', 'Unnamed: 16':'14', 'Unnamed: 17':'15', 'Unnamed: 18':\"16\",\n",
        "       'Unnamed: 19':'17', 'Unnamed: 20':'18', 'Unnamed: 21':'19', 'Unnamed: 22':'20',\n",
        "       'Unnamed: 23':'21', 'Unnamed: 24':'22', 'Unnamed: 25':'23', 'Unnamed: 26':'24',\n",
        "       'Unnamed: 27':'25', 'Unnamed: 28':'26', 'Unnamed: 29':'27', 'Unnamed: 30':'28',\n",
        "       'Unnamed: 31':'29', 'Unnamed: 32':'30', 'Unnamed: 33':'31'})\n",
        "mkkc = mkkc.iloc[1:]\n",
        "mnkp = mnkp.rename(columns={ 'วันที่':'1','Unnamed: 4':'2', 'Unnamed: 5':'3',\n",
        "       'Unnamed: 6':'4', 'Unnamed: 7':'5', 'Unnamed: 8':'6', 'Unnamed: 9':'7', 'Unnamed: 10':'8',\n",
        "       'Unnamed: 11':'9', 'Unnamed: 12':'10', 'Unnamed: 13':'11', 'Unnamed: 14':'12',\n",
        "       'Unnamed: 15':'13', 'Unnamed: 16':'14', 'Unnamed: 17':'15', 'Unnamed: 18':\"16\",\n",
        "       'Unnamed: 19':'17', 'Unnamed: 20':'18', 'Unnamed: 21':'19', 'Unnamed: 22':'20',\n",
        "       'Unnamed: 23':'21', 'Unnamed: 24':'22', 'Unnamed: 25':'23', 'Unnamed: 26':'24',\n",
        "       'Unnamed: 27':'25', 'Unnamed: 28':'26', 'Unnamed: 29':'27', 'Unnamed: 30':'28',\n",
        "       'Unnamed: 31':'29', 'Unnamed: 32':'30', 'Unnamed: 33':'31'})\n",
        "mnkp = mnkp.iloc[1:]\n",
        "msk = msk.rename(columns={ 'วันที่':'1','Unnamed: 4':'2', 'Unnamed: 5':'3',\n",
        "       'Unnamed: 6':'4', 'Unnamed: 7':'5', 'Unnamed: 8':'6', 'Unnamed: 9':'7', 'Unnamed: 10':'8',\n",
        "       'Unnamed: 11':'9', 'Unnamed: 12':'10', 'Unnamed: 13':'11', 'Unnamed: 14':'12',\n",
        "       'Unnamed: 15':'13', 'Unnamed: 16':'14', 'Unnamed: 17':'15', 'Unnamed: 18':\"16\",\n",
        "       'Unnamed: 19':'17', 'Unnamed: 20':'18', 'Unnamed: 21':'19', 'Unnamed: 22':'20',\n",
        "       'Unnamed: 23':'21', 'Unnamed: 24':'22', 'Unnamed: 25':'23', 'Unnamed: 26':'24',\n",
        "       'Unnamed: 27':'25', 'Unnamed: 28':'26', 'Unnamed: 29':'27', 'Unnamed: 30':'28',\n",
        "       'Unnamed: 31':'29', 'Unnamed: 32':'30', 'Unnamed: 33':'31'})\n",
        "msk = msk.iloc[1:]\n",
        "mnk = mnk.rename(columns={ 'วันที่':'1','Unnamed: 4':'2', 'Unnamed: 5':'3',\n",
        "       'Unnamed: 6':'4', 'Unnamed: 7':'5', 'Unnamed: 8':'6', 'Unnamed: 9':'7', 'Unnamed: 10':'8',\n",
        "       'Unnamed: 11':'9', 'Unnamed: 12':'10', 'Unnamed: 13':'11', 'Unnamed: 14':'12',\n",
        "       'Unnamed: 15':'13', 'Unnamed: 16':'14', 'Unnamed: 17':'15', 'Unnamed: 18':\"16\",\n",
        "       'Unnamed: 19':'17', 'Unnamed: 20':'18', 'Unnamed: 21':'19', 'Unnamed: 22':'20',\n",
        "       'Unnamed: 23':'21', 'Unnamed: 24':'22', 'Unnamed: 25':'23', 'Unnamed: 26':'24',\n",
        "       'Unnamed: 27':'25', 'Unnamed: 28':'26', 'Unnamed: 29':'27', 'Unnamed: 30':'28',\n",
        "       'Unnamed: 31':'29', 'Unnamed: 32':'30', 'Unnamed: 33':'31'})\n",
        "mnk = mnk.iloc[1:]\n",
        "ml = ml.rename(columns={ 'วันที่':'1','Unnamed: 4':'2', 'Unnamed: 5':'3',\n",
        "       'Unnamed: 6':'4', 'Unnamed: 7':'5', 'Unnamed: 8':'6', 'Unnamed: 9':'7', 'Unnamed: 10':'8',\n",
        "       'Unnamed: 11':'9', 'Unnamed: 12':'10', 'Unnamed: 13':'11', 'Unnamed: 14':'12',\n",
        "       'Unnamed: 15':'13', 'Unnamed: 16':'14', 'Unnamed: 17':'15', 'Unnamed: 18':\"16\",\n",
        "       'Unnamed: 19':'17', 'Unnamed: 20':'18', 'Unnamed: 21':'19', 'Unnamed: 22':'20',\n",
        "       'Unnamed: 23':'21', 'Unnamed: 24':'22', 'Unnamed: 25':'23', 'Unnamed: 26':'24',\n",
        "       'Unnamed: 27':'25', 'Unnamed: 28':'26', 'Unnamed: 29':'27', 'Unnamed: 30':'28',\n",
        "       'Unnamed: 31':'29', 'Unnamed: 32':'30', 'Unnamed: 33':'31'})\n",
        "ml = ml.iloc[1:]"
      ],
      "metadata": {
        "id": "b-JQplgMpLp7"
      },
      "execution_count": null,
      "outputs": []
    },
    {
      "cell_type": "markdown",
      "source": [
        "###Concat df\n"
      ],
      "metadata": {
        "id": "ECV0pAbAp9Qh"
      }
    },
    {
      "cell_type": "code",
      "source": [
        "m =  pd.concat([mkkc,mnkp,msk,mnk,ml])\n",
        "m.shape"
      ],
      "metadata": {
        "id": "fW1L8REVp-sv"
      },
      "execution_count": null,
      "outputs": []
    },
    {
      "cell_type": "markdown",
      "source": [
        "###ดึงเดือน กับ ปี แยกคอลัมน์"
      ],
      "metadata": {
        "id": "Zw31_Gryqrap"
      }
    },
    {
      "cell_type": "code",
      "source": [
        "m['เดือน'] = m['เดือน/ปี'].dt.month\n",
        "m['ปี'] = m['เดือน/ปี'].dt.year\n",
        "m.head()"
      ],
      "metadata": {
        "id": "GwMVBgS7qE7i"
      },
      "execution_count": null,
      "outputs": []
    },
    {
      "cell_type": "markdown",
      "source": [
        "###ทดลอง 1 จังหวัด"
      ],
      "metadata": {
        "id": "Ogpzx2Qa1nYO"
      }
    },
    {
      "cell_type": "code",
      "source": [
        "mkkc = pd.read_excel('/content/drive/MyDrive/datamining/กรมอุตุ/ความชื้นสัมพันธ์(เปอร์เซ็น)/Copy of จ.ขอนแก่น.xlsx',sheet_name=\"Sheet1\",skiprows=3).rename(columns={ 'วันที่':'1','Unnamed: 4':'2', 'Unnamed: 5':'3',\n",
        "       'Unnamed: 6':'4', 'Unnamed: 7':'5', 'Unnamed: 8':'6', 'Unnamed: 9':'7', 'Unnamed: 10':'8',\n",
        "       'Unnamed: 11':'9', 'Unnamed: 12':'10', 'Unnamed: 13':'11', 'Unnamed: 14':'12',\n",
        "       'Unnamed: 15':'13', 'Unnamed: 16':'14', 'Unnamed: 17':'15', 'Unnamed: 18':\"16\",\n",
        "       'Unnamed: 19':'17', 'Unnamed: 20':'18', 'Unnamed: 21':'19', 'Unnamed: 22':'20',\n",
        "       'Unnamed: 23':'21', 'Unnamed: 24':'22', 'Unnamed: 25':'23', 'Unnamed: 26':'24',\n",
        "       'Unnamed: 27':'25', 'Unnamed: 28':'26', 'Unnamed: 29':'27', 'Unnamed: 30':'28',\n",
        "       'Unnamed: 31':'29', 'Unnamed: 32':'30', 'Unnamed: 33':'31'})\n",
        "mkkc = mkkc.iloc[1:]\n",
        "mkkc['เดือน'] = mkkc['เดือน/ปี'].dt.month\n",
        "mkkc['ปี'] = mkkc['เดือน/ปี'].dt.year\n",
        "mkkc1 = mkkc.iloc[0:,3:34]\n",
        "mkkc2 = mkkc.iloc[0:,3:37]\n",
        "for index, row in mkkc2.iterrows():\n",
        "  for i in range(1,32):\n",
        "    #print(f'วันที่ ',i,'เดือนที่ ',row['เดือน'],' ปีที่ ', row['ปี'],'ความชื้นสัมพัทธ์ -> ',row[i-1],'%')\n"
      ],
      "metadata": {
        "id": "YQgeGm-11oeQ"
      },
      "execution_count": null,
      "outputs": []
    },
    {
      "cell_type": "markdown",
      "source": [
        "##ปริมาณฝน"
      ],
      "metadata": {
        "id": "eoRW5Lmg2CKx"
      }
    },
    {
      "cell_type": "code",
      "source": [
        "vrkkc = pd.read_excel(\"/content/drive/MyDrive/datamining/กรมอุตุ/ปริมาณฝน(มิลลิลิตร)/Copy of จ.ขอนแก่น.xlsx\",sheet_name='Sheet1',skiprows=3)\n",
        "vrnkp = pd.read_excel(\"/content/drive/MyDrive/datamining/กรมอุตุ/ปริมาณฝน(มิลลิลิตร)/Copy of จ.นครพนม.xlsx\",sheet_name='Sheet1',skiprows=3)\n",
        "vrsk = pd.read_excel(\"/content/drive/MyDrive/datamining/กรมอุตุ/ปริมาณฝน(มิลลิลิตร)/Copy of จ.สกล.xlsx\",sheet_name='Sheet1',skiprows=3)\n",
        "vrnk = pd.read_excel(\"/content/drive/MyDrive/datamining/กรมอุตุ/ปริมาณฝน(มิลลิลิตร)/Copy of จ.หนองคาย.xlsx\",sheet_name='Sheet1',skiprows=3)\n",
        "vrl = pd.read_excel(\"/content/drive/MyDrive/datamining/กรมอุตุ/ปริมาณฝน(มิลลิลิตร)/Copy of จ.เลย.xlsx\",sheet_name='Sheet1',skiprows=3)"
      ],
      "metadata": {
        "id": "pSWhu_YG2ElQ"
      },
      "execution_count": null,
      "outputs": []
    },
    {
      "cell_type": "code",
      "source": [
        "vrkkc = vrkkc.rename(columns={ 'วันที่':'1','Unnamed: 4':'2', 'Unnamed: 5':'3',\n",
        "       'Unnamed: 6':'4', 'Unnamed: 7':'5', 'Unnamed: 8':'6', 'Unnamed: 9':'7', 'Unnamed: 10':'8',\n",
        "       'Unnamed: 11':'9', 'Unnamed: 12':'10', 'Unnamed: 13':'11', 'Unnamed: 14':'12',\n",
        "       'Unnamed: 15':'13', 'Unnamed: 16':'14', 'Unnamed: 17':'15', 'Unnamed: 18':\"16\",\n",
        "       'Unnamed: 19':'17', 'Unnamed: 20':'18', 'Unnamed: 21':'19', 'Unnamed: 22':'20',\n",
        "       'Unnamed: 23':'21', 'Unnamed: 24':'22', 'Unnamed: 25':'23', 'Unnamed: 26':'24',\n",
        "       'Unnamed: 27':'25', 'Unnamed: 28':'26', 'Unnamed: 29':'27', 'Unnamed: 30':'28',\n",
        "       'Unnamed: 31':'29', 'Unnamed: 32':'30', 'Unnamed: 33':'31'})\n",
        "vrkkc = vrkkc.iloc[1:]\n",
        "vrnkp = vrnkp.rename(columns={ 'วันที่':'1','Unnamed: 4':'2', 'Unnamed: 5':'3',\n",
        "       'Unnamed: 6':'4', 'Unnamed: 7':'5', 'Unnamed: 8':'6', 'Unnamed: 9':'7', 'Unnamed: 10':'8',\n",
        "       'Unnamed: 11':'9', 'Unnamed: 12':'10', 'Unnamed: 13':'11', 'Unnamed: 14':'12',\n",
        "       'Unnamed: 15':'13', 'Unnamed: 16':'14', 'Unnamed: 17':'15', 'Unnamed: 18':\"16\",\n",
        "       'Unnamed: 19':'17', 'Unnamed: 20':'18', 'Unnamed: 21':'19', 'Unnamed: 22':'20',\n",
        "       'Unnamed: 23':'21', 'Unnamed: 24':'22', 'Unnamed: 25':'23', 'Unnamed: 26':'24',\n",
        "       'Unnamed: 27':'25', 'Unnamed: 28':'26', 'Unnamed: 29':'27', 'Unnamed: 30':'28',\n",
        "       'Unnamed: 31':'29', 'Unnamed: 32':'30', 'Unnamed: 33':'31'})\n",
        "vrnkp = vrnkp.iloc[1:]\n",
        "vrsk = vrsk.rename(columns={ 'วันที่':'1','Unnamed: 4':'2', 'Unnamed: 5':'3',\n",
        "       'Unnamed: 6':'4', 'Unnamed: 7':'5', 'Unnamed: 8':'6', 'Unnamed: 9':'7', 'Unnamed: 10':'8',\n",
        "       'Unnamed: 11':'9', 'Unnamed: 12':'10', 'Unnamed: 13':'11', 'Unnamed: 14':'12',\n",
        "       'Unnamed: 15':'13', 'Unnamed: 16':'14', 'Unnamed: 17':'15', 'Unnamed: 18':\"16\",\n",
        "       'Unnamed: 19':'17', 'Unnamed: 20':'18', 'Unnamed: 21':'19', 'Unnamed: 22':'20',\n",
        "       'Unnamed: 23':'21', 'Unnamed: 24':'22', 'Unnamed: 25':'23', 'Unnamed: 26':'24',\n",
        "       'Unnamed: 27':'25', 'Unnamed: 28':'26', 'Unnamed: 29':'27', 'Unnamed: 30':'28',\n",
        "       'Unnamed: 31':'29', 'Unnamed: 32':'30', 'Unnamed: 33':'31'})\n",
        "vrsk = vrsk.iloc[1:]\n",
        "vrnk = vrnk.rename(columns={ 'วันที่':'1','Unnamed: 4':'2', 'Unnamed: 5':'3',\n",
        "       'Unnamed: 6':'4', 'Unnamed: 7':'5', 'Unnamed: 8':'6', 'Unnamed: 9':'7', 'Unnamed: 10':'8',\n",
        "       'Unnamed: 11':'9', 'Unnamed: 12':'10', 'Unnamed: 13':'11', 'Unnamed: 14':'12',\n",
        "       'Unnamed: 15':'13', 'Unnamed: 16':'14', 'Unnamed: 17':'15', 'Unnamed: 18':\"16\",\n",
        "       'Unnamed: 19':'17', 'Unnamed: 20':'18', 'Unnamed: 21':'19', 'Unnamed: 22':'20',\n",
        "       'Unnamed: 23':'21', 'Unnamed: 24':'22', 'Unnamed: 25':'23', 'Unnamed: 26':'24',\n",
        "       'Unnamed: 27':'25', 'Unnamed: 28':'26', 'Unnamed: 29':'27', 'Unnamed: 30':'28',\n",
        "       'Unnamed: 31':'29', 'Unnamed: 32':'30', 'Unnamed: 33':'31'})\n",
        "vrnk = vrnk.iloc[1:]\n",
        "vrl = vrl.rename(columns={ 'วันที่':'1','Unnamed: 4':'2', 'Unnamed: 5':'3',\n",
        "       'Unnamed: 6':'4', 'Unnamed: 7':'5', 'Unnamed: 8':'6', 'Unnamed: 9':'7', 'Unnamed: 10':'8',\n",
        "       'Unnamed: 11':'9', 'Unnamed: 12':'10', 'Unnamed: 13':'11', 'Unnamed: 14':'12',\n",
        "       'Unnamed: 15':'13', 'Unnamed: 16':'14', 'Unnamed: 17':'15', 'Unnamed: 18':\"16\",\n",
        "       'Unnamed: 19':'17', 'Unnamed: 20':'18', 'Unnamed: 21':'19', 'Unnamed: 22':'20',\n",
        "       'Unnamed: 23':'21', 'Unnamed: 24':'22', 'Unnamed: 25':'23', 'Unnamed: 26':'24',\n",
        "       'Unnamed: 27':'25', 'Unnamed: 28':'26', 'Unnamed: 29':'27', 'Unnamed: 30':'28',\n",
        "       'Unnamed: 31':'29', 'Unnamed: 32':'30', 'Unnamed: 33':'31'})\n",
        "vrl = vrl.iloc[1:]"
      ],
      "metadata": {
        "id": "IqVxusW2q-LF"
      },
      "execution_count": null,
      "outputs": []
    },
    {
      "cell_type": "markdown",
      "source": [
        "###Concat df"
      ],
      "metadata": {
        "id": "vFfqAOjRrN5v"
      }
    },
    {
      "cell_type": "code",
      "source": [
        "vr =  pd.concat([vrkkc,vrnkp,vrsk,vrnk,vrl])\n",
        "vr.shape"
      ],
      "metadata": {
        "id": "DmUB5r02rPKO"
      },
      "execution_count": null,
      "outputs": []
    },
    {
      "cell_type": "markdown",
      "source": [
        "###ดึงเดือน กับ ปี แยกคอลัมน์"
      ],
      "metadata": {
        "id": "UuYM8SJ_qLDs"
      }
    },
    {
      "cell_type": "code",
      "source": [
        "vr['เดือน'] = vr['เดือน/ปี'].dt.month\n",
        "vr['ปี'] = vr['เดือน/ปี'].dt.year\n",
        "vr.head()"
      ],
      "metadata": {
        "id": "HtQoMNk2rXta"
      },
      "execution_count": null,
      "outputs": []
    },
    {
      "cell_type": "markdown",
      "source": [
        "###ทดลอง 1 จังหวัด \n"
      ],
      "metadata": {
        "id": "UVR_iMYp2EK8"
      }
    },
    {
      "cell_type": "code",
      "source": [
        "vrkkc = pd.read_excel(\"/content/drive/MyDrive/datamining/กรมอุตุ/ปริมาณฝน(มิลลิลิตร)/Copy of จ.ขอนแก่น.xlsx\",sheet_name='Sheet1',skiprows=3).rename(columns={ 'วันที่':'1','Unnamed: 4':'2', 'Unnamed: 5':'3',\n",
        "       'Unnamed: 6':'4', 'Unnamed: 7':'5', 'Unnamed: 8':'6', 'Unnamed: 9':'7', 'Unnamed: 10':'8',\n",
        "       'Unnamed: 11':'9', 'Unnamed: 12':'10', 'Unnamed: 13':'11', 'Unnamed: 14':'12',\n",
        "       'Unnamed: 15':'13', 'Unnamed: 16':'14', 'Unnamed: 17':'15', 'Unnamed: 18':\"16\",\n",
        "       'Unnamed: 19':'17', 'Unnamed: 20':'18', 'Unnamed: 21':'19', 'Unnamed: 22':'20',\n",
        "       'Unnamed: 23':'21', 'Unnamed: 24':'22', 'Unnamed: 25':'23', 'Unnamed: 26':'24',\n",
        "       'Unnamed: 27':'25', 'Unnamed: 28':'26', 'Unnamed: 29':'27', 'Unnamed: 30':'28',\n",
        "       'Unnamed: 31':'29', 'Unnamed: 32':'30', 'Unnamed: 33':'31'})\n",
        "vrkkc = vrkkc.iloc[1:]\n",
        "vrkkc['เดือน'] = vrkkc['เดือน/ปี'].dt.month\n",
        "vrkkc['ปี'] = vrkkc['เดือน/ปี'].dt.year\n",
        "vrkkc1 = vrkkc.iloc[0:,3:34]\n",
        "vrkkc2 = vrkkc.iloc[0:,3:37]\n",
        "for index, row in vrkkc2.iterrows():\n",
        "  for i in range(1,32):\n",
        "    #print(f'วันที่ ',i,'เดือนที่ ',row['เดือน'],' ปีที่ ', row['ปี'],'ปริมาณน้ำฝน -> ',row[i-1],'มิลลิลิตร')\n"
      ],
      "metadata": {
        "id": "Hg4sdl_k2Hkg"
      },
      "execution_count": null,
      "outputs": []
    },
    {
      "cell_type": "markdown",
      "source": [
        "##ปริมาณเมฆ \n",
        "- ติดตรงจังหวัดเลย"
      ],
      "metadata": {
        "id": "zcUTyMVu3HI5"
      }
    },
    {
      "cell_type": "code",
      "source": [
        "# ckkc = pd.read_excel(\"/content/drive/MyDrive/datamining/กรมอุตุ/ปริมาณเมฆ(10ส่วน)/Copy of จ.ขอนแก่น.xlsx\",sheet_name='Sheet1',skiprows=3)\n",
        "# cnkp = pd.read_excel(\"/content/drive/MyDrive/datamining/กรมอุตุ/ปริมาณเมฆ(10ส่วน)/Copy of จ.นครพนม.xlsx\",sheet_name='Sheet1',skiprows=3)\n",
        "# csk = pd.read_excel(\"/content/drive/MyDrive/datamining/กรมอุตุ/ปริมาณเมฆ(10ส่วน)/Copy of จ.สกลนคร.xlsx\",sheet_name='Sheet1',skiprows=3)\n",
        "# cnk = pd.read_excel(\"/content/drive/MyDrive/datamining/กรมอุตุ/ปริมาณเมฆ(10ส่วน)/Copy of จ.หนองคาย.xlsx\",sheet_name='Sheet1',skiprows=3)\n",
        "# cl = pd.read_excel(\"/content/drive/MyDrive/datamining/กรมอุตุ/ปริมาณเมฆ(10ส่วน)/Copy of จ.เลย.xlsx\",sheet_name='Sheet1',skiprows=3)"
      ],
      "metadata": {
        "id": "hP4uOgE83JSV"
      },
      "execution_count": null,
      "outputs": []
    },
    {
      "cell_type": "code",
      "source": [
        "ckkc = pd.read_excel('/content/drive/MyDrive/datamining/กรมอุตุ/ปริมาณเมฆ(10ส่วน)/Copy of จ.ขอนแก่น.xlsx',sheet_name='Sheet1',skiprows=3).rename(columns={'Unnamed: 0' : 'ที่', 'Unnamed: 1' : 'สถานี', 'Unnamed: 2' : 'เดือน/ปี', 'Unnamed: 34' : 'เฉลี่ย'}).drop(0, axis=0)\n",
        "cnkp = pd.read_excel('/content/drive/MyDrive/datamining/กรมอุตุ/ปริมาณเมฆ(10ส่วน)/Copy of จ.นครพนม.xlsx',sheet_name='Sheet1',skiprows=3).rename(columns={'Unnamed: 0' : 'ที่', 'Unnamed: 1' : 'สถานี', 'Unnamed: 2' : 'เดือน/ปี', 'Unnamed: 34' : 'เฉลี่ย'}).drop(0, axis=0)\n",
        "csk = pd.read_excel('/content/drive/MyDrive/datamining/กรมอุตุ/ปริมาณเมฆ(10ส่วน)/Copy of จ.สกลนคร.xlsx',sheet_name='Sheet1',skiprows=3).rename(columns={'Unnamed: 0' : 'ที่', 'Unnamed: 1' : 'สถานี', 'Unnamed: 2' : 'เดือน/ปี', 'Unnamed: 34' : 'เฉลี่ย'}).drop(0, axis=0)\n",
        "cnk = pd.read_excel('/content/drive/MyDrive/datamining/กรมอุตุ/ปริมาณเมฆ(10ส่วน)/Copy of จ.หนองคาย.xlsx',sheet_name='Sheet1',skiprows=3).rename(columns={'Unnamed: 0' : 'ที่', 'Unnamed: 1' : 'สถานี', 'Unnamed: 2' : 'เดือน/ปี', 'Unnamed: 34' : 'เฉลี่ย'}).drop(0, axis=0)\n",
        "cl = pd.read_excel('/content/drive/MyDrive/datamining/กรมอุตุ/ปริมาณเมฆ(10ส่วน)/Copy of จ.เลย.xlsx',sheet_name='Sheet1',skiprows=3).rename(columns={'Unnamed: 0' : 'ที่', 'Unnamed: 1' : 'สถานี', 'Unnamed: 2' : 'เดือน/ปี', 'Unnamed: 34' : 'เฉลี่ย'}).drop(0, axis=0)"
      ],
      "metadata": {
        "id": "jC0gF8QesJoC"
      },
      "execution_count": null,
      "outputs": []
    },
    {
      "cell_type": "code",
      "source": [
        "cl"
      ],
      "metadata": {
        "id": "mIfTa6eVtSh0"
      },
      "execution_count": null,
      "outputs": []
    },
    {
      "cell_type": "markdown",
      "source": [
        "###Concat df"
      ],
      "metadata": {
        "id": "0fRnvJWUrjQP"
      }
    },
    {
      "cell_type": "code",
      "source": [
        "c = pd.concat([ckkc,cnkp,csk,cnk,cl])\n",
        "c.shape"
      ],
      "metadata": {
        "id": "Xjmdi3xvrkVR"
      },
      "execution_count": null,
      "outputs": []
    },
    {
      "cell_type": "code",
      "source": [
        "c"
      ],
      "metadata": {
        "id": "1POg9g9xryqX"
      },
      "execution_count": null,
      "outputs": []
    },
    {
      "cell_type": "markdown",
      "source": [
        "###ดึงเดือน กับ ปี แยกคอลัมน์"
      ],
      "metadata": {
        "id": "dyfzpwedrunr"
      }
    },
    {
      "cell_type": "code",
      "source": [
        "c['เดือน'] = c['เดือน/ปี'].dt.month\n",
        "c['ปี'] = c['เดือน/ปี'].dt.year\n",
        "c.head()"
      ],
      "metadata": {
        "id": "iCfh6CumrkQ2"
      },
      "execution_count": null,
      "outputs": []
    },
    {
      "cell_type": "markdown",
      "source": [
        "###ทดลอง 1 จังหวัด"
      ],
      "metadata": {
        "id": "UJvRFxv62YUj"
      }
    },
    {
      "cell_type": "code",
      "source": [
        "ckkc = pd.read_excel(\"/content/drive/MyDrive/datamining/กรมอุตุ/ปริมาณเมฆ(10ส่วน)/Copy of จ.ขอนแก่น.xlsx\",sheet_name='Sheet1',skiprows=3).rename(columns={ 'วันที่':'1','Unnamed: 4':'2', 'Unnamed: 5':'3',\n",
        "       'Unnamed: 6':'4', 'Unnamed: 7':'5', 'Unnamed: 8':'6', 'Unnamed: 9':'7', 'Unnamed: 10':'8',\n",
        "       'Unnamed: 11':'9', 'Unnamed: 12':'10', 'Unnamed: 13':'11', 'Unnamed: 14':'12',\n",
        "       'Unnamed: 15':'13', 'Unnamed: 16':'14', 'Unnamed: 17':'15', 'Unnamed: 18':\"16\",\n",
        "       'Unnamed: 19':'17', 'Unnamed: 20':'18', 'Unnamed: 21':'19', 'Unnamed: 22':'20',\n",
        "       'Unnamed: 23':'21', 'Unnamed: 24':'22', 'Unnamed: 25':'23', 'Unnamed: 26':'24',\n",
        "       'Unnamed: 27':'25', 'Unnamed: 28':'26', 'Unnamed: 29':'27', 'Unnamed: 30':'28',\n",
        "       'Unnamed: 31':'29', 'Unnamed: 32':'30', 'Unnamed: 33':'31'})\n",
        "ckkc = ckkc.iloc[1:]\n",
        "ckkc['เดือน'] = ckkc['เดือน/ปี'].dt.month\n",
        "ckkc['ปี'] = ckkc['เดือน/ปี'].dt.year\n",
        "ckkc1 = ckkc.iloc[0:,3:34]\n",
        "ckkc2 = ckkc.iloc[0:,3:37]\n",
        "for index, row in ckkc2.iterrows():\n",
        "  for i in range(1,32):\n",
        "    #print(f'วันที่ ',i,'เดือนที่ ',row['เดือน'],' ปีที่ ', row['ปี'],'ปริมาณเมฆ -> ',row[i-1],'ส่วน')\n"
      ],
      "metadata": {
        "id": "mmEOF_Vz2aDv"
      },
      "execution_count": null,
      "outputs": []
    }
  ]
}